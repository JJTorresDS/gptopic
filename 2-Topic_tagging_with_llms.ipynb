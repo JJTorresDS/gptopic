{
 "cells": [
  {
   "cell_type": "code",
   "execution_count": 24,
   "id": "b65c9dd3-0765-43b0-b8f9-cb019c296910",
   "metadata": {},
   "outputs": [],
   "source": [
    "from tensorflow.keras.datasets import reuters\n",
    "import pandas as pd\n",
    "pd.set_option('display.max_colwidth', None)\n",
    "import numpy as np\n",
    "import time\n",
    "\n",
    "import os\n",
    "from dotenv import load_dotenv\n",
    "import yaml\n",
    "from utils import utils"
   ]
  },
  {
   "cell_type": "markdown",
   "id": "1118d150-e3da-49c7-ae3d-fb0bf8c0432c",
   "metadata": {},
   "source": [
    "## Import Sample data"
   ]
  },
  {
   "cell_type": "code",
   "execution_count": 2,
   "id": "ce0623a8-5d2e-4ef5-bb8e-03633958e95b",
   "metadata": {},
   "outputs": [],
   "source": [
    "df = pd.read_csv(\"./data/1.crypto_apps_reviews_raw.csv\")"
   ]
  },
  {
   "cell_type": "code",
   "execution_count": 3,
   "id": "dc7b7d76-818b-4bd4-a2c6-b3a7581b5773",
   "metadata": {},
   "outputs": [],
   "source": [
    "load_dotenv()\n",
    "GEMINI_API_KEY=os.getenv(\"GEMINI_NEW\")"
   ]
  },
  {
   "cell_type": "markdown",
   "id": "e52347d0-ba75-4d8c-99c7-463c4019afb0",
   "metadata": {},
   "source": [
    "## Import Prompts"
   ]
  },
  {
   "cell_type": "code",
   "execution_count": 4,
   "id": "58a25a0a-3382-4ae5-bdf1-a76d788a6bba",
   "metadata": {},
   "outputs": [],
   "source": [
    "with open(\"prompts/prompts.yaml\") as file:\n",
    "    try:\n",
    "        prompts = yaml.safe_load(file)\n",
    "    except yaml.YAMLError as exc:\n",
    "        print(exc)"
   ]
  },
  {
   "cell_type": "markdown",
   "id": "53396c70-e4f6-4226-a47f-d7999ba5cc42",
   "metadata": {},
   "source": [
    "## Import Category List"
   ]
  },
  {
   "cell_type": "code",
   "execution_count": 5,
   "id": "0dd1e384-9803-4cf4-b357-ef5037296793",
   "metadata": {},
   "outputs": [],
   "source": [
    "with open(\"data/1.crypto_category.txt\", \"r\") as f:\n",
    "    category_list = f.readlines()"
   ]
  },
  {
   "cell_type": "code",
   "execution_count": 6,
   "id": "d44dc224-ab1f-44cf-8599-aabf68fc7e3f",
   "metadata": {},
   "outputs": [],
   "source": [
    "category_list = category_list[0].split(\",\")"
   ]
  },
  {
   "cell_type": "code",
   "execution_count": 7,
   "id": "d5e02ccc-db94-4711-bcfb-fe1eb02dbfec",
   "metadata": {},
   "outputs": [
    {
     "data": {
      "text/plain": [
       "['Security',\n",
       " '  Usability/UI/UX',\n",
       " '  Transaction Fees/Speed',\n",
       " '  Customer Support',\n",
       " '  Features/Functionality',\n",
       " '  Account Management',\n",
       " '  Educational Resources/Onboarding',\n",
       " '  Wallet Security/Integration',\n",
       " '  Privacy',\n",
       " '  Reliability/Stability',\n",
       " '  Customer Service',\n",
       " '  Verification/KYC/AML Processes']"
      ]
     },
     "execution_count": 7,
     "metadata": {},
     "output_type": "execute_result"
    }
   ],
   "source": [
    "category_list"
   ]
  },
  {
   "cell_type": "code",
   "execution_count": 8,
   "id": "87bafa3f-0349-4590-b32a-33dd6d9ce34f",
   "metadata": {},
   "outputs": [
    {
     "name": "stdout",
     "output_type": "stream",
     "text": [
      "Number of categories:  12\n"
     ]
    }
   ],
   "source": [
    "print(\"Number of categories: \", len(category_list))"
   ]
  },
  {
   "cell_type": "markdown",
   "id": "dadbf32d-e6dd-4624-834c-496e69f6369a",
   "metadata": {},
   "source": [
    "## Tag the entire dataset"
   ]
  },
  {
   "cell_type": "code",
   "execution_count": 26,
   "id": "0d60eb29-70e0-456f-8b90-f9b6e5b80d1e",
   "metadata": {},
   "outputs": [],
   "source": [
    "import time"
   ]
  },
  {
   "cell_type": "code",
   "execution_count": 27,
   "id": "619f2db3-c00f-4012-9b11-ea9ddff3c8f6",
   "metadata": {},
   "outputs": [
    {
     "data": {
      "text/plain": [
       "\"You are an expert Customer Success Manager working in the {industry} Industry.You are tasked with categorizing a list of user reviews for further analysis. Please assign this review: {input_text}\\nTo one of the following categories: {categories}If the review is just an expression of sentiment (eg: Great!, Bad!, etc). Please use the 'Generic feedback' category.\\nYour answer should be a single category name.\""
      ]
     },
     "execution_count": 27,
     "metadata": {},
     "output_type": "execute_result"
    }
   ],
   "source": [
    "prompts[\"prompt_v9b\"]"
   ]
  },
  {
   "cell_type": "code",
   "execution_count": 28,
   "id": "1a09fbc7-1ab0-4817-9fc3-9f4695812562",
   "metadata": {},
   "outputs": [],
   "source": [
    "test_category = category_list\n",
    "perc = df.shape[0]//10\n",
    "topics_gemini = []"
   ]
  },
  {
   "cell_type": "code",
   "execution_count": 38,
   "id": "199f8e5e-62b5-447e-8a3f-cfee8dd9d80c",
   "metadata": {},
   "outputs": [
    {
     "name": "stdout",
     "output_type": "stream",
     "text": [
      "Tagging Review # 1\n",
      "0 out of 20 done.\n",
      "Tagging Review # 2\n",
      "Tagging Review # 3\n",
      "Tagging Review # 4\n",
      "Tagging Review # 5\n",
      "Tagging Review # 6\n",
      "Tagging Review # 7\n",
      "Tagging Review # 8\n",
      "Tagging Review # 9\n",
      "Tagging Review # 10\n",
      "Tagging Review # 11\n",
      "Tagging Review # 12\n",
      "Tagging Review # 13\n",
      "Tagging Review # 14\n",
      "Tagging Review # 15\n",
      "Tagging Review # 16\n",
      "Tagging Review # 17\n",
      "Tagging Review # 18\n",
      "Tagging Review # 19\n",
      "Tagging Review # 20\n",
      "Gemini Failed to respond. Sleeping...\n",
      "Entering recursive step. 1\n",
      "19 reviews were processed in 0.9379808306694031 minutes\n"
     ]
    }
   ],
   "source": [
    "start_time = time.time()\n",
    "debug=True\n",
    "n_samples= 20\n",
    "\n",
    "if debug: \n",
    "    df_c = df.sample(n_samples).copy()\n",
    "    reviews = df_c.content\n",
    "else:\n",
    "    df_c = df.copy()\n",
    "    reviews = df_c.content\n",
    "    \n",
    "for i, review in enumerate(reviews):\n",
    "    if debug:\n",
    "        print(\"Tagging Review #\", i+1)\n",
    "    prompt2 = prompts[\"prompt_v9b\"].format(industry=\"Crypto\", \n",
    "                                                 categories=category_list,\n",
    "                                                input_text = review )\n",
    "    topic = utils.gemini_query(prompt2, gemini_key = GEMINI_API_KEY, debug=debug)\n",
    "    topics_gemini.append(topic)\n",
    "    if i%perc == 0:\n",
    "        print(f\"{i} out of {len(reviews)} done.\")\n",
    "    \n",
    "\n",
    "end_time = time.time()\n",
    "print(f\"{i} reviews were processed in {(end_time-start_time)/60} minutes\")"
   ]
  },
  {
   "cell_type": "code",
   "execution_count": 39,
   "id": "a9e8a070-9605-4071-b8da-0b4226f862f9",
   "metadata": {},
   "outputs": [
    {
     "data": {
      "text/plain": [
       "40"
      ]
     },
     "execution_count": 39,
     "metadata": {},
     "output_type": "execute_result"
    }
   ],
   "source": [
    "len(topics_gemini)"
   ]
  },
  {
   "cell_type": "code",
   "execution_count": 40,
   "id": "6c424525-4cf6-43b8-bb9f-3f99995bd734",
   "metadata": {},
   "outputs": [],
   "source": [
    "df_s = df_c.iloc[:n_samples,].copy()"
   ]
  },
  {
   "cell_type": "code",
   "execution_count": 41,
   "id": "af181878-c251-47b1-b8c1-c6d317cea360",
   "metadata": {},
   "outputs": [
    {
     "ename": "ValueError",
     "evalue": "Length of values (40) does not match length of index (20)",
     "output_type": "error",
     "traceback": [
      "\u001b[31m---------------------------------------------------------------------------\u001b[39m",
      "\u001b[31mValueError\u001b[39m                                Traceback (most recent call last)",
      "\u001b[36mCell\u001b[39m\u001b[36m \u001b[39m\u001b[32mIn[41]\u001b[39m\u001b[32m, line 1\u001b[39m\n\u001b[32m----> \u001b[39m\u001b[32m1\u001b[39m \u001b[43mdf_s\u001b[49m\u001b[43m.\u001b[49m\u001b[43mloc\u001b[49m\u001b[43m[\u001b[49m\u001b[43m:\u001b[49m\u001b[43m,\u001b[49m\u001b[43m \u001b[49m\u001b[33;43m\"\u001b[39;49m\u001b[33;43mgemini_llm_topic\u001b[39;49m\u001b[33;43m\"\u001b[39;49m\u001b[43m]\u001b[49m = topics_gemini\n",
      "\u001b[36mFile \u001b[39m\u001b[32m~/Desktop/misc/ulondon/final_project/gptopic/uol_project/lib/python3.12/site-packages/pandas/core/indexing.py:911\u001b[39m, in \u001b[36m_LocationIndexer.__setitem__\u001b[39m\u001b[34m(self, key, value)\u001b[39m\n\u001b[32m    908\u001b[39m \u001b[38;5;28mself\u001b[39m._has_valid_setitem_indexer(key)\n\u001b[32m    910\u001b[39m iloc = \u001b[38;5;28mself\u001b[39m \u001b[38;5;28;01mif\u001b[39;00m \u001b[38;5;28mself\u001b[39m.name == \u001b[33m\"\u001b[39m\u001b[33miloc\u001b[39m\u001b[33m\"\u001b[39m \u001b[38;5;28;01melse\u001b[39;00m \u001b[38;5;28mself\u001b[39m.obj.iloc\n\u001b[32m--> \u001b[39m\u001b[32m911\u001b[39m \u001b[43miloc\u001b[49m\u001b[43m.\u001b[49m\u001b[43m_setitem_with_indexer\u001b[49m\u001b[43m(\u001b[49m\u001b[43mindexer\u001b[49m\u001b[43m,\u001b[49m\u001b[43m \u001b[49m\u001b[43mvalue\u001b[49m\u001b[43m,\u001b[49m\u001b[43m \u001b[49m\u001b[38;5;28;43mself\u001b[39;49m\u001b[43m.\u001b[49m\u001b[43mname\u001b[49m\u001b[43m)\u001b[49m\n",
      "\u001b[36mFile \u001b[39m\u001b[32m~/Desktop/misc/ulondon/final_project/gptopic/uol_project/lib/python3.12/site-packages/pandas/core/indexing.py:1857\u001b[39m, in \u001b[36m_iLocIndexer._setitem_with_indexer\u001b[39m\u001b[34m(self, indexer, value, name)\u001b[39m\n\u001b[32m   1854\u001b[39m \u001b[38;5;66;03m# add a new item with the dtype setup\u001b[39;00m\n\u001b[32m   1855\u001b[39m \u001b[38;5;28;01mif\u001b[39;00m com.is_null_slice(indexer[\u001b[32m0\u001b[39m]):\n\u001b[32m   1856\u001b[39m     \u001b[38;5;66;03m# We are setting an entire column\u001b[39;00m\n\u001b[32m-> \u001b[39m\u001b[32m1857\u001b[39m     \u001b[38;5;28;43mself\u001b[39;49m\u001b[43m.\u001b[49m\u001b[43mobj\u001b[49m\u001b[43m[\u001b[49m\u001b[43mkey\u001b[49m\u001b[43m]\u001b[49m = value\n\u001b[32m   1858\u001b[39m     \u001b[38;5;28;01mreturn\u001b[39;00m\n\u001b[32m   1859\u001b[39m \u001b[38;5;28;01melif\u001b[39;00m is_array_like(value):\n\u001b[32m   1860\u001b[39m     \u001b[38;5;66;03m# GH#42099\u001b[39;00m\n",
      "\u001b[36mFile \u001b[39m\u001b[32m~/Desktop/misc/ulondon/final_project/gptopic/uol_project/lib/python3.12/site-packages/pandas/core/frame.py:4311\u001b[39m, in \u001b[36mDataFrame.__setitem__\u001b[39m\u001b[34m(self, key, value)\u001b[39m\n\u001b[32m   4308\u001b[39m     \u001b[38;5;28mself\u001b[39m._setitem_array([key], value)\n\u001b[32m   4309\u001b[39m \u001b[38;5;28;01melse\u001b[39;00m:\n\u001b[32m   4310\u001b[39m     \u001b[38;5;66;03m# set column\u001b[39;00m\n\u001b[32m-> \u001b[39m\u001b[32m4311\u001b[39m     \u001b[38;5;28;43mself\u001b[39;49m\u001b[43m.\u001b[49m\u001b[43m_set_item\u001b[49m\u001b[43m(\u001b[49m\u001b[43mkey\u001b[49m\u001b[43m,\u001b[49m\u001b[43m \u001b[49m\u001b[43mvalue\u001b[49m\u001b[43m)\u001b[49m\n",
      "\u001b[36mFile \u001b[39m\u001b[32m~/Desktop/misc/ulondon/final_project/gptopic/uol_project/lib/python3.12/site-packages/pandas/core/frame.py:4524\u001b[39m, in \u001b[36mDataFrame._set_item\u001b[39m\u001b[34m(self, key, value)\u001b[39m\n\u001b[32m   4514\u001b[39m \u001b[38;5;28;01mdef\u001b[39;00m\u001b[38;5;250m \u001b[39m\u001b[34m_set_item\u001b[39m(\u001b[38;5;28mself\u001b[39m, key, value) -> \u001b[38;5;28;01mNone\u001b[39;00m:\n\u001b[32m   4515\u001b[39m \u001b[38;5;250m    \u001b[39m\u001b[33;03m\"\"\"\u001b[39;00m\n\u001b[32m   4516\u001b[39m \u001b[33;03m    Add series to DataFrame in specified column.\u001b[39;00m\n\u001b[32m   4517\u001b[39m \n\u001b[32m   (...)\u001b[39m\u001b[32m   4522\u001b[39m \u001b[33;03m    ensure homogeneity.\u001b[39;00m\n\u001b[32m   4523\u001b[39m \u001b[33;03m    \"\"\"\u001b[39;00m\n\u001b[32m-> \u001b[39m\u001b[32m4524\u001b[39m     value, refs = \u001b[38;5;28;43mself\u001b[39;49m\u001b[43m.\u001b[49m\u001b[43m_sanitize_column\u001b[49m\u001b[43m(\u001b[49m\u001b[43mvalue\u001b[49m\u001b[43m)\u001b[49m\n\u001b[32m   4526\u001b[39m     \u001b[38;5;28;01mif\u001b[39;00m (\n\u001b[32m   4527\u001b[39m         key \u001b[38;5;129;01min\u001b[39;00m \u001b[38;5;28mself\u001b[39m.columns\n\u001b[32m   4528\u001b[39m         \u001b[38;5;129;01mand\u001b[39;00m value.ndim == \u001b[32m1\u001b[39m\n\u001b[32m   4529\u001b[39m         \u001b[38;5;129;01mand\u001b[39;00m \u001b[38;5;129;01mnot\u001b[39;00m \u001b[38;5;28misinstance\u001b[39m(value.dtype, ExtensionDtype)\n\u001b[32m   4530\u001b[39m     ):\n\u001b[32m   4531\u001b[39m         \u001b[38;5;66;03m# broadcast across multiple columns if necessary\u001b[39;00m\n\u001b[32m   4532\u001b[39m         \u001b[38;5;28;01mif\u001b[39;00m \u001b[38;5;129;01mnot\u001b[39;00m \u001b[38;5;28mself\u001b[39m.columns.is_unique \u001b[38;5;129;01mor\u001b[39;00m \u001b[38;5;28misinstance\u001b[39m(\u001b[38;5;28mself\u001b[39m.columns, MultiIndex):\n",
      "\u001b[36mFile \u001b[39m\u001b[32m~/Desktop/misc/ulondon/final_project/gptopic/uol_project/lib/python3.12/site-packages/pandas/core/frame.py:5266\u001b[39m, in \u001b[36mDataFrame._sanitize_column\u001b[39m\u001b[34m(self, value)\u001b[39m\n\u001b[32m   5263\u001b[39m     \u001b[38;5;28;01mreturn\u001b[39;00m _reindex_for_setitem(value, \u001b[38;5;28mself\u001b[39m.index)\n\u001b[32m   5265\u001b[39m \u001b[38;5;28;01mif\u001b[39;00m is_list_like(value):\n\u001b[32m-> \u001b[39m\u001b[32m5266\u001b[39m     \u001b[43mcom\u001b[49m\u001b[43m.\u001b[49m\u001b[43mrequire_length_match\u001b[49m\u001b[43m(\u001b[49m\u001b[43mvalue\u001b[49m\u001b[43m,\u001b[49m\u001b[43m \u001b[49m\u001b[38;5;28;43mself\u001b[39;49m\u001b[43m.\u001b[49m\u001b[43mindex\u001b[49m\u001b[43m)\u001b[49m\n\u001b[32m   5267\u001b[39m arr = sanitize_array(value, \u001b[38;5;28mself\u001b[39m.index, copy=\u001b[38;5;28;01mTrue\u001b[39;00m, allow_2d=\u001b[38;5;28;01mTrue\u001b[39;00m)\n\u001b[32m   5268\u001b[39m \u001b[38;5;28;01mif\u001b[39;00m (\n\u001b[32m   5269\u001b[39m     \u001b[38;5;28misinstance\u001b[39m(value, Index)\n\u001b[32m   5270\u001b[39m     \u001b[38;5;129;01mand\u001b[39;00m value.dtype == \u001b[33m\"\u001b[39m\u001b[33mobject\u001b[39m\u001b[33m\"\u001b[39m\n\u001b[32m   (...)\u001b[39m\u001b[32m   5273\u001b[39m     \u001b[38;5;66;03m# TODO: Remove kludge in sanitize_array for string mode when enforcing\u001b[39;00m\n\u001b[32m   5274\u001b[39m     \u001b[38;5;66;03m# this deprecation\u001b[39;00m\n",
      "\u001b[36mFile \u001b[39m\u001b[32m~/Desktop/misc/ulondon/final_project/gptopic/uol_project/lib/python3.12/site-packages/pandas/core/common.py:573\u001b[39m, in \u001b[36mrequire_length_match\u001b[39m\u001b[34m(data, index)\u001b[39m\n\u001b[32m    569\u001b[39m \u001b[38;5;250m\u001b[39m\u001b[33;03m\"\"\"\u001b[39;00m\n\u001b[32m    570\u001b[39m \u001b[33;03mCheck the length of data matches the length of the index.\u001b[39;00m\n\u001b[32m    571\u001b[39m \u001b[33;03m\"\"\"\u001b[39;00m\n\u001b[32m    572\u001b[39m \u001b[38;5;28;01mif\u001b[39;00m \u001b[38;5;28mlen\u001b[39m(data) != \u001b[38;5;28mlen\u001b[39m(index):\n\u001b[32m--> \u001b[39m\u001b[32m573\u001b[39m     \u001b[38;5;28;01mraise\u001b[39;00m \u001b[38;5;167;01mValueError\u001b[39;00m(\n\u001b[32m    574\u001b[39m         \u001b[33m\"\u001b[39m\u001b[33mLength of values \u001b[39m\u001b[33m\"\u001b[39m\n\u001b[32m    575\u001b[39m         \u001b[33mf\u001b[39m\u001b[33m\"\u001b[39m\u001b[33m(\u001b[39m\u001b[38;5;132;01m{\u001b[39;00m\u001b[38;5;28mlen\u001b[39m(data)\u001b[38;5;132;01m}\u001b[39;00m\u001b[33m) \u001b[39m\u001b[33m\"\u001b[39m\n\u001b[32m    576\u001b[39m         \u001b[33m\"\u001b[39m\u001b[33mdoes not match length of index \u001b[39m\u001b[33m\"\u001b[39m\n\u001b[32m    577\u001b[39m         \u001b[33mf\u001b[39m\u001b[33m\"\u001b[39m\u001b[33m(\u001b[39m\u001b[38;5;132;01m{\u001b[39;00m\u001b[38;5;28mlen\u001b[39m(index)\u001b[38;5;132;01m}\u001b[39;00m\u001b[33m)\u001b[39m\u001b[33m\"\u001b[39m\n\u001b[32m    578\u001b[39m     )\n",
      "\u001b[31mValueError\u001b[39m: Length of values (40) does not match length of index (20)"
     ]
    }
   ],
   "source": [
    "df_s.loc[:, \"gemini_llm_topic\"] = topics_gemini"
   ]
  },
  {
   "cell_type": "code",
   "execution_count": null,
   "id": "d05315b1-3d54-4652-92f4-fce7958ceda5",
   "metadata": {},
   "outputs": [],
   "source": [
    "if debug:\n",
    "    for row in range(df_s.shape[0]):\n",
    "        print(\"App: \", df_s.iloc[row][\"app\"], \" Tagged Topic: \", df_s.iloc[row][\"gemini_llm_topic\"])\n",
    "        print(\"Review Text:\")\n",
    "        print()\n",
    "        print(df_s.iloc[row][\"content\"])\n",
    "        print(\"***************************\")\n",
    "        print()"
   ]
  },
  {
   "cell_type": "code",
   "execution_count": null,
   "id": "2f158fc0-2cdb-4403-a7f9-7b0007fc26af",
   "metadata": {},
   "outputs": [],
   "source": []
  }
 ],
 "metadata": {
  "kernelspec": {
   "display_name": "uol_project",
   "language": "python",
   "name": "uol_project"
  },
  "language_info": {
   "codemirror_mode": {
    "name": "ipython",
    "version": 3
   },
   "file_extension": ".py",
   "mimetype": "text/x-python",
   "name": "python",
   "nbconvert_exporter": "python",
   "pygments_lexer": "ipython3",
   "version": "3.12.8"
  }
 },
 "nbformat": 4,
 "nbformat_minor": 5
}
