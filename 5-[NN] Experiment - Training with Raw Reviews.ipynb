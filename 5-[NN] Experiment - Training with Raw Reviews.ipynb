{
 "cells": [
  {
   "cell_type": "code",
   "execution_count": 1,
   "id": "b65c9dd3-0765-43b0-b8f9-cb019c296910",
   "metadata": {},
   "outputs": [],
   "source": [
    "from tensorflow.keras.datasets import reuters\n",
    "import pandas as pd\n",
    "import numpy as np\n",
    "import time\n",
    "from tensorflow import keras\n",
    "from tensorflow.keras import layers\n",
    "\n",
    "import os\n",
    "from dotenv import load_dotenv\n",
    "from utils.utils import TopicNeuralNet\n",
    "pd.set_option('display.max_colwidth', None)"
   ]
  },
  {
   "cell_type": "code",
   "execution_count": 2,
   "id": "83e88d42-2372-4104-90fb-88b64aafde35",
   "metadata": {},
   "outputs": [],
   "source": [
    "path = \"./data/\""
   ]
  },
  {
   "cell_type": "code",
   "execution_count": 3,
   "id": "e779701f-ffd0-4e6b-8b14-e15779c239ac",
   "metadata": {},
   "outputs": [
    {
     "name": "stdout",
     "output_type": "stream",
     "text": [
      "1.crypto_apps_reviews_raw.csv\n",
      "1.crypto_category.txt\n",
      "2.crypto_app_reviews_tagged.csv\n",
      "3.tagged_reviews_sample.csv\n",
      "4.tagged_reviews_sample_llm_verified.csv\n",
      "4.tagged_reviews_sample_verified.csv\n",
      "co.mona.android.csv\n",
      "com.binance.dev.csv\n",
      "com.bybit.app.csv\n",
      "crypt_app_llm_tagged.csv\n",
      "crypto_app_llm_tagged.csv\n",
      "final_report_rubric_v2.pdf\n"
     ]
    }
   ],
   "source": [
    "ls data"
   ]
  },
  {
   "cell_type": "code",
   "execution_count": 4,
   "id": "3b7e8d8a-9632-48d5-97f7-bab51d2b2ced",
   "metadata": {},
   "outputs": [],
   "source": [
    "df_r = pd.read_csv(path+\"/4.tagged_reviews_sample_verified.csv\")"
   ]
  },
  {
   "cell_type": "markdown",
   "id": "003fa62a-9869-44ef-98e4-565a99015401",
   "metadata": {},
   "source": [
    "## Train test split"
   ]
  },
  {
   "cell_type": "code",
   "execution_count": 5,
   "id": "12ce8740-5425-4620-8d74-0cc6dab05e09",
   "metadata": {},
   "outputs": [],
   "source": [
    "review_col = \"content\"\n",
    "target_col = \"gemini_llm_topic\""
   ]
  },
  {
   "cell_type": "code",
   "execution_count": 6,
   "id": "cbb05f76-eb7f-4dac-af1b-397494334949",
   "metadata": {},
   "outputs": [],
   "source": [
    "from sklearn.model_selection import train_test_split"
   ]
  },
  {
   "cell_type": "code",
   "execution_count": 7,
   "id": "4121ff09-bee3-456e-b138-ca0dc0a55c4a",
   "metadata": {},
   "outputs": [
    {
     "data": {
      "text/plain": [
       "(299, 17)"
      ]
     },
     "execution_count": 7,
     "metadata": {},
     "output_type": "execute_result"
    }
   ],
   "source": [
    "df_r.shape"
   ]
  },
  {
   "cell_type": "code",
   "execution_count": 8,
   "id": "6059f753-bd4d-417a-b5da-a14822cb83f1",
   "metadata": {},
   "outputs": [],
   "source": [
    "X = df_r\n",
    "y = df_r[target_col]"
   ]
  },
  {
   "cell_type": "code",
   "execution_count": 9,
   "id": "52050d8a-9c31-430d-8d16-da158078ef77",
   "metadata": {},
   "outputs": [],
   "source": [
    "X_train, X_test, y_train, y_test = train_test_split(\n",
    "    X, y, test_size=0.20, random_state=42)\n",
    "\n",
    "#split text and labels\n",
    "train_sentences = X_train[review_col].to_numpy()\n",
    "train_labels = y_train.to_numpy()\n",
    "test_sentences = X_test[review_col].to_numpy()\n",
    "test_labels = y_test.to_numpy()"
   ]
  },
  {
   "cell_type": "code",
   "execution_count": 10,
   "id": "22510494-8bc3-48f8-a642-9c93113d62d0",
   "metadata": {},
   "outputs": [],
   "source": [
    "def remove_sparse_labels(train_labels, test_labels):\n",
    "    \"\"\"\n",
    "    Removes obsevations from the test sets when the corresponding label does not exist in the train set.\n",
    "    Since a random sample was performed, this only samples who´s label has lo prevalence would be removed.\n",
    "    Removing these make sense since it would impact the model´s performance (because this instances are rare).\n",
    "    \"\"\"\n",
    "    unique_labels = np.unique(train_labels)\n",
    "    keep_index = []\n",
    "    for label in test_labels:\n",
    "        if label in unique_labels:\n",
    "            keep_index.append(True)\n",
    "        else:\n",
    "            keep_index.append(False)\n",
    "    return keep_index"
   ]
  },
  {
   "cell_type": "code",
   "execution_count": 11,
   "id": "935173ed-bf24-434d-8004-69f64b72cb6c",
   "metadata": {},
   "outputs": [],
   "source": [
    "keep = remove_sparse_labels(train_labels, test_labels)"
   ]
  },
  {
   "cell_type": "code",
   "execution_count": 12,
   "id": "b29c2b8c-2373-4b24-9413-db65887a7a3c",
   "metadata": {},
   "outputs": [],
   "source": [
    "X_test = X_test[keep]\n",
    "y_test = y_test[keep]\n",
    "test_sentences = test_sentences[keep]\n",
    "test_labels = test_labels[keep]"
   ]
  },
  {
   "cell_type": "code",
   "execution_count": 13,
   "id": "274793be-be35-4df4-bed3-ae07215b1577",
   "metadata": {},
   "outputs": [
    {
     "data": {
      "text/html": [
       "<div>\n",
       "<style scoped>\n",
       "    .dataframe tbody tr th:only-of-type {\n",
       "        vertical-align: middle;\n",
       "    }\n",
       "\n",
       "    .dataframe tbody tr th {\n",
       "        vertical-align: top;\n",
       "    }\n",
       "\n",
       "    .dataframe thead th {\n",
       "        text-align: right;\n",
       "    }\n",
       "</style>\n",
       "<table border=\"1\" class=\"dataframe\">\n",
       "  <thead>\n",
       "    <tr style=\"text-align: right;\">\n",
       "      <th></th>\n",
       "      <th>reviewId</th>\n",
       "      <th>userName</th>\n",
       "      <th>userImage</th>\n",
       "      <th>content</th>\n",
       "      <th>score</th>\n",
       "      <th>thumbsUpCount</th>\n",
       "      <th>reviewCreatedVersion</th>\n",
       "      <th>at</th>\n",
       "      <th>replyContent</th>\n",
       "      <th>repliedAt</th>\n",
       "      <th>appVersion</th>\n",
       "      <th>app</th>\n",
       "      <th>gemini_llm_topic</th>\n",
       "      <th>correct</th>\n",
       "      <th>human_labeled_topic</th>\n",
       "      <th>cause</th>\n",
       "      <th>corrected_topic</th>\n",
       "    </tr>\n",
       "  </thead>\n",
       "  <tbody>\n",
       "    <tr>\n",
       "      <th>6</th>\n",
       "      <td>b0ffcb5d-fd04-4e92-a16b-d9d182682abc</td>\n",
       "      <td>Igor Andreevski</td>\n",
       "      <td>https://play-lh.googleusercontent.com/a-/ALV-UjVtnSstDY1JMgNB-eI4Gc0x03Ox1I1Jin4i40aUEfqleTGdBnpc</td>\n",
       "      <td>not listing of pi network and stealing my deposits</td>\n",
       "      <td>1</td>\n",
       "      <td>0</td>\n",
       "      <td>2.96.2</td>\n",
       "      <td>2025-03-10 17:07:08</td>\n",
       "      <td>NaN</td>\n",
       "      <td>NaN</td>\n",
       "      <td>2.96.2</td>\n",
       "      <td>com.binance.dev</td>\n",
       "      <td>Wallet Security/Integration</td>\n",
       "      <td>0</td>\n",
       "      <td>Features/Functionality</td>\n",
       "      <td>Probably the word \"stealing\" had a lot of weight.</td>\n",
       "      <td>Features/Functionality</td>\n",
       "    </tr>\n",
       "    <tr>\n",
       "      <th>183</th>\n",
       "      <td>5868700d-ef14-4396-afec-9467b6f5ff28</td>\n",
       "      <td>mel doyle</td>\n",
       "      <td>https://play-lh.googleusercontent.com/a-/ALV-UjUDHCfjndjLBnao18X_0AaNBbPA4zrrJG6vgIetsnaDRx12UUEM</td>\n",
       "      <td>Unable to use card</td>\n",
       "      <td>2</td>\n",
       "      <td>0</td>\n",
       "      <td>3.201.0</td>\n",
       "      <td>2024-12-14 9:37:41</td>\n",
       "      <td>NaN</td>\n",
       "      <td>NaN</td>\n",
       "      <td>3.201.0</td>\n",
       "      <td>co.mona.android</td>\n",
       "      <td>Usability/UI/UX</td>\n",
       "      <td>0</td>\n",
       "      <td>Features/Functionality</td>\n",
       "      <td>NaN</td>\n",
       "      <td>Features/Functionality</td>\n",
       "    </tr>\n",
       "  </tbody>\n",
       "</table>\n",
       "</div>"
      ],
      "text/plain": [
       "                                 reviewId         userName  \\\n",
       "6    b0ffcb5d-fd04-4e92-a16b-d9d182682abc  Igor Andreevski   \n",
       "183  5868700d-ef14-4396-afec-9467b6f5ff28        mel doyle   \n",
       "\n",
       "                                                                                             userImage  \\\n",
       "6    https://play-lh.googleusercontent.com/a-/ALV-UjVtnSstDY1JMgNB-eI4Gc0x03Ox1I1Jin4i40aUEfqleTGdBnpc   \n",
       "183  https://play-lh.googleusercontent.com/a-/ALV-UjUDHCfjndjLBnao18X_0AaNBbPA4zrrJG6vgIetsnaDRx12UUEM   \n",
       "\n",
       "                                                content  score  thumbsUpCount  \\\n",
       "6    not listing of pi network and stealing my deposits      1              0   \n",
       "183                                  Unable to use card      2              0   \n",
       "\n",
       "    reviewCreatedVersion                   at replyContent repliedAt  \\\n",
       "6                 2.96.2  2025-03-10 17:07:08          NaN       NaN   \n",
       "183              3.201.0   2024-12-14 9:37:41          NaN       NaN   \n",
       "\n",
       "    appVersion              app             gemini_llm_topic  correct  \\\n",
       "6       2.96.2  com.binance.dev  Wallet Security/Integration        0   \n",
       "183    3.201.0  co.mona.android              Usability/UI/UX        0   \n",
       "\n",
       "        human_labeled_topic  \\\n",
       "6    Features/Functionality   \n",
       "183  Features/Functionality   \n",
       "\n",
       "                                                 cause         corrected_topic  \n",
       "6    Probably the word \"stealing\" had a lot of weight.  Features/Functionality  \n",
       "183                                                NaN  Features/Functionality  "
      ]
     },
     "execution_count": 13,
     "metadata": {},
     "output_type": "execute_result"
    }
   ],
   "source": [
    "X_train.head(2)"
   ]
  },
  {
   "cell_type": "markdown",
   "id": "ff6c972b-71ba-4c1d-9448-949d520544f5",
   "metadata": {},
   "source": [
    "## Expore Tokens"
   ]
  },
  {
   "cell_type": "code",
   "execution_count": 14,
   "id": "1485cec4-406c-4bd6-9437-d86bfa3818e2",
   "metadata": {},
   "outputs": [],
   "source": [
    "from collections import Counter"
   ]
  },
  {
   "cell_type": "code",
   "execution_count": 39,
   "id": "d834d14a-ca3a-40a1-ac6d-41d3f70f225c",
   "metadata": {},
   "outputs": [],
   "source": [
    "def counter_word(text_col):\n",
    "    count = Counter()\n",
    "    for text in text_col.values:\n",
    "        for word in text.split():\n",
    "            count[word] += 1\n",
    "    return count"
   ]
  },
  {
   "cell_type": "code",
   "execution_count": 40,
   "id": "1e36722c-f7f9-473d-afba-fdfcf1f00f0b",
   "metadata": {},
   "outputs": [],
   "source": [
    "counter = counter_word(df_r.content)"
   ]
  },
  {
   "cell_type": "code",
   "execution_count": 41,
   "id": "8632eff9-3dd6-48fb-a0fb-82a3b3a5f38c",
   "metadata": {},
   "outputs": [],
   "source": [
    "counter_lower = counter_word(df_r.content.str.lower())"
   ]
  },
  {
   "cell_type": "markdown",
   "id": "0179644a-c44b-4b3b-b740-9f3916f9dc4b",
   "metadata": {},
   "source": [
    "The examples below are just to hint at the need of preprocessing. \n",
    "\n",
    "Note how with no preprocessing, the token 'the' comes up X amount times, but when we a apply a simple lower case processing, the count goes up.\n",
    "\n",
    "This means \"The\" and \"the\" would be treated as different tokens by the neural net."
   ]
  },
  {
   "cell_type": "code",
   "execution_count": 42,
   "id": "787451ac-907d-40e4-856c-bc1a82ee150f",
   "metadata": {},
   "outputs": [
    {
     "data": {
      "text/plain": [
       "[('the', 283),\n",
       " ('to', 282),\n",
       " ('I', 190),\n",
       " ('and', 185),\n",
       " ('a', 154),\n",
       " ('is', 131),\n",
       " ('my', 122),\n",
       " ('it', 112),\n",
       " ('you', 111),\n",
       " ('app', 99)]"
      ]
     },
     "execution_count": 42,
     "metadata": {},
     "output_type": "execute_result"
    }
   ],
   "source": [
    "counter.most_common(10)"
   ]
  },
  {
   "cell_type": "code",
   "execution_count": 43,
   "id": "dbb082ff-f663-4d6b-a2ac-61d1c69e08fc",
   "metadata": {},
   "outputs": [
    {
     "data": {
      "text/plain": [
       "[('the', 323),\n",
       " ('to', 286),\n",
       " ('i', 220),\n",
       " ('and', 202),\n",
       " ('a', 159),\n",
       " ('is', 135),\n",
       " ('my', 129),\n",
       " ('it', 129),\n",
       " ('you', 122),\n",
       " ('app', 109)]"
      ]
     },
     "execution_count": 43,
     "metadata": {},
     "output_type": "execute_result"
    }
   ],
   "source": [
    "counter_lower.most_common(10)"
   ]
  },
  {
   "cell_type": "code",
   "execution_count": 44,
   "id": "e2d1de4a-d002-440a-a11d-45eddcbea2b8",
   "metadata": {},
   "outputs": [
    {
     "name": "stdout",
     "output_type": "stream",
     "text": [
      "2508\n"
     ]
    }
   ],
   "source": [
    "num_unique_words = len(counter)\n",
    "print(num_unique_words)"
   ]
  },
  {
   "cell_type": "markdown",
   "id": "eae8239b-91ba-40e6-8a71-ffb051fad3d6",
   "metadata": {},
   "source": [
    "## Tokenization"
   ]
  },
  {
   "cell_type": "code",
   "execution_count": 45,
   "id": "818e7d95-c9fe-4944-af01-4f7c6cfa58f8",
   "metadata": {},
   "outputs": [],
   "source": [
    "from tensorflow.keras.preprocessing.text import Tokenizer\n",
    "from sklearn.preprocessing import LabelEncoder"
   ]
  },
  {
   "cell_type": "code",
   "execution_count": 46,
   "id": "110a5c9e-91f0-415b-9209-9cf07dac6fd3",
   "metadata": {},
   "outputs": [],
   "source": [
    "#vectorize a text corpus by turning each text into a sequence of integers\n",
    "tokenizer = Tokenizer(num_words=num_unique_words)\n",
    "tokenizer.fit_on_texts(train_sentences) #fit only to the train set"
   ]
  },
  {
   "cell_type": "code",
   "execution_count": 47,
   "id": "3adeed15-e18e-4c20-a6a0-09f2698df8b4",
   "metadata": {},
   "outputs": [
    {
     "data": {
      "text/html": [
       "<style>#sk-container-id-1 {\n",
       "  /* Definition of color scheme common for light and dark mode */\n",
       "  --sklearn-color-text: #000;\n",
       "  --sklearn-color-text-muted: #666;\n",
       "  --sklearn-color-line: gray;\n",
       "  /* Definition of color scheme for unfitted estimators */\n",
       "  --sklearn-color-unfitted-level-0: #fff5e6;\n",
       "  --sklearn-color-unfitted-level-1: #f6e4d2;\n",
       "  --sklearn-color-unfitted-level-2: #ffe0b3;\n",
       "  --sklearn-color-unfitted-level-3: chocolate;\n",
       "  /* Definition of color scheme for fitted estimators */\n",
       "  --sklearn-color-fitted-level-0: #f0f8ff;\n",
       "  --sklearn-color-fitted-level-1: #d4ebff;\n",
       "  --sklearn-color-fitted-level-2: #b3dbfd;\n",
       "  --sklearn-color-fitted-level-3: cornflowerblue;\n",
       "\n",
       "  /* Specific color for light theme */\n",
       "  --sklearn-color-text-on-default-background: var(--sg-text-color, var(--theme-code-foreground, var(--jp-content-font-color1, black)));\n",
       "  --sklearn-color-background: var(--sg-background-color, var(--theme-background, var(--jp-layout-color0, white)));\n",
       "  --sklearn-color-border-box: var(--sg-text-color, var(--theme-code-foreground, var(--jp-content-font-color1, black)));\n",
       "  --sklearn-color-icon: #696969;\n",
       "\n",
       "  @media (prefers-color-scheme: dark) {\n",
       "    /* Redefinition of color scheme for dark theme */\n",
       "    --sklearn-color-text-on-default-background: var(--sg-text-color, var(--theme-code-foreground, var(--jp-content-font-color1, white)));\n",
       "    --sklearn-color-background: var(--sg-background-color, var(--theme-background, var(--jp-layout-color0, #111)));\n",
       "    --sklearn-color-border-box: var(--sg-text-color, var(--theme-code-foreground, var(--jp-content-font-color1, white)));\n",
       "    --sklearn-color-icon: #878787;\n",
       "  }\n",
       "}\n",
       "\n",
       "#sk-container-id-1 {\n",
       "  color: var(--sklearn-color-text);\n",
       "}\n",
       "\n",
       "#sk-container-id-1 pre {\n",
       "  padding: 0;\n",
       "}\n",
       "\n",
       "#sk-container-id-1 input.sk-hidden--visually {\n",
       "  border: 0;\n",
       "  clip: rect(1px 1px 1px 1px);\n",
       "  clip: rect(1px, 1px, 1px, 1px);\n",
       "  height: 1px;\n",
       "  margin: -1px;\n",
       "  overflow: hidden;\n",
       "  padding: 0;\n",
       "  position: absolute;\n",
       "  width: 1px;\n",
       "}\n",
       "\n",
       "#sk-container-id-1 div.sk-dashed-wrapped {\n",
       "  border: 1px dashed var(--sklearn-color-line);\n",
       "  margin: 0 0.4em 0.5em 0.4em;\n",
       "  box-sizing: border-box;\n",
       "  padding-bottom: 0.4em;\n",
       "  background-color: var(--sklearn-color-background);\n",
       "}\n",
       "\n",
       "#sk-container-id-1 div.sk-container {\n",
       "  /* jupyter's `normalize.less` sets `[hidden] { display: none; }`\n",
       "     but bootstrap.min.css set `[hidden] { display: none !important; }`\n",
       "     so we also need the `!important` here to be able to override the\n",
       "     default hidden behavior on the sphinx rendered scikit-learn.org.\n",
       "     See: https://github.com/scikit-learn/scikit-learn/issues/21755 */\n",
       "  display: inline-block !important;\n",
       "  position: relative;\n",
       "}\n",
       "\n",
       "#sk-container-id-1 div.sk-text-repr-fallback {\n",
       "  display: none;\n",
       "}\n",
       "\n",
       "div.sk-parallel-item,\n",
       "div.sk-serial,\n",
       "div.sk-item {\n",
       "  /* draw centered vertical line to link estimators */\n",
       "  background-image: linear-gradient(var(--sklearn-color-text-on-default-background), var(--sklearn-color-text-on-default-background));\n",
       "  background-size: 2px 100%;\n",
       "  background-repeat: no-repeat;\n",
       "  background-position: center center;\n",
       "}\n",
       "\n",
       "/* Parallel-specific style estimator block */\n",
       "\n",
       "#sk-container-id-1 div.sk-parallel-item::after {\n",
       "  content: \"\";\n",
       "  width: 100%;\n",
       "  border-bottom: 2px solid var(--sklearn-color-text-on-default-background);\n",
       "  flex-grow: 1;\n",
       "}\n",
       "\n",
       "#sk-container-id-1 div.sk-parallel {\n",
       "  display: flex;\n",
       "  align-items: stretch;\n",
       "  justify-content: center;\n",
       "  background-color: var(--sklearn-color-background);\n",
       "  position: relative;\n",
       "}\n",
       "\n",
       "#sk-container-id-1 div.sk-parallel-item {\n",
       "  display: flex;\n",
       "  flex-direction: column;\n",
       "}\n",
       "\n",
       "#sk-container-id-1 div.sk-parallel-item:first-child::after {\n",
       "  align-self: flex-end;\n",
       "  width: 50%;\n",
       "}\n",
       "\n",
       "#sk-container-id-1 div.sk-parallel-item:last-child::after {\n",
       "  align-self: flex-start;\n",
       "  width: 50%;\n",
       "}\n",
       "\n",
       "#sk-container-id-1 div.sk-parallel-item:only-child::after {\n",
       "  width: 0;\n",
       "}\n",
       "\n",
       "/* Serial-specific style estimator block */\n",
       "\n",
       "#sk-container-id-1 div.sk-serial {\n",
       "  display: flex;\n",
       "  flex-direction: column;\n",
       "  align-items: center;\n",
       "  background-color: var(--sklearn-color-background);\n",
       "  padding-right: 1em;\n",
       "  padding-left: 1em;\n",
       "}\n",
       "\n",
       "\n",
       "/* Toggleable style: style used for estimator/Pipeline/ColumnTransformer box that is\n",
       "clickable and can be expanded/collapsed.\n",
       "- Pipeline and ColumnTransformer use this feature and define the default style\n",
       "- Estimators will overwrite some part of the style using the `sk-estimator` class\n",
       "*/\n",
       "\n",
       "/* Pipeline and ColumnTransformer style (default) */\n",
       "\n",
       "#sk-container-id-1 div.sk-toggleable {\n",
       "  /* Default theme specific background. It is overwritten whether we have a\n",
       "  specific estimator or a Pipeline/ColumnTransformer */\n",
       "  background-color: var(--sklearn-color-background);\n",
       "}\n",
       "\n",
       "/* Toggleable label */\n",
       "#sk-container-id-1 label.sk-toggleable__label {\n",
       "  cursor: pointer;\n",
       "  display: flex;\n",
       "  width: 100%;\n",
       "  margin-bottom: 0;\n",
       "  padding: 0.5em;\n",
       "  box-sizing: border-box;\n",
       "  text-align: center;\n",
       "  align-items: start;\n",
       "  justify-content: space-between;\n",
       "  gap: 0.5em;\n",
       "}\n",
       "\n",
       "#sk-container-id-1 label.sk-toggleable__label .caption {\n",
       "  font-size: 0.6rem;\n",
       "  font-weight: lighter;\n",
       "  color: var(--sklearn-color-text-muted);\n",
       "}\n",
       "\n",
       "#sk-container-id-1 label.sk-toggleable__label-arrow:before {\n",
       "  /* Arrow on the left of the label */\n",
       "  content: \"▸\";\n",
       "  float: left;\n",
       "  margin-right: 0.25em;\n",
       "  color: var(--sklearn-color-icon);\n",
       "}\n",
       "\n",
       "#sk-container-id-1 label.sk-toggleable__label-arrow:hover:before {\n",
       "  color: var(--sklearn-color-text);\n",
       "}\n",
       "\n",
       "/* Toggleable content - dropdown */\n",
       "\n",
       "#sk-container-id-1 div.sk-toggleable__content {\n",
       "  max-height: 0;\n",
       "  max-width: 0;\n",
       "  overflow: hidden;\n",
       "  text-align: left;\n",
       "  /* unfitted */\n",
       "  background-color: var(--sklearn-color-unfitted-level-0);\n",
       "}\n",
       "\n",
       "#sk-container-id-1 div.sk-toggleable__content.fitted {\n",
       "  /* fitted */\n",
       "  background-color: var(--sklearn-color-fitted-level-0);\n",
       "}\n",
       "\n",
       "#sk-container-id-1 div.sk-toggleable__content pre {\n",
       "  margin: 0.2em;\n",
       "  border-radius: 0.25em;\n",
       "  color: var(--sklearn-color-text);\n",
       "  /* unfitted */\n",
       "  background-color: var(--sklearn-color-unfitted-level-0);\n",
       "}\n",
       "\n",
       "#sk-container-id-1 div.sk-toggleable__content.fitted pre {\n",
       "  /* unfitted */\n",
       "  background-color: var(--sklearn-color-fitted-level-0);\n",
       "}\n",
       "\n",
       "#sk-container-id-1 input.sk-toggleable__control:checked~div.sk-toggleable__content {\n",
       "  /* Expand drop-down */\n",
       "  max-height: 200px;\n",
       "  max-width: 100%;\n",
       "  overflow: auto;\n",
       "}\n",
       "\n",
       "#sk-container-id-1 input.sk-toggleable__control:checked~label.sk-toggleable__label-arrow:before {\n",
       "  content: \"▾\";\n",
       "}\n",
       "\n",
       "/* Pipeline/ColumnTransformer-specific style */\n",
       "\n",
       "#sk-container-id-1 div.sk-label input.sk-toggleable__control:checked~label.sk-toggleable__label {\n",
       "  color: var(--sklearn-color-text);\n",
       "  background-color: var(--sklearn-color-unfitted-level-2);\n",
       "}\n",
       "\n",
       "#sk-container-id-1 div.sk-label.fitted input.sk-toggleable__control:checked~label.sk-toggleable__label {\n",
       "  background-color: var(--sklearn-color-fitted-level-2);\n",
       "}\n",
       "\n",
       "/* Estimator-specific style */\n",
       "\n",
       "/* Colorize estimator box */\n",
       "#sk-container-id-1 div.sk-estimator input.sk-toggleable__control:checked~label.sk-toggleable__label {\n",
       "  /* unfitted */\n",
       "  background-color: var(--sklearn-color-unfitted-level-2);\n",
       "}\n",
       "\n",
       "#sk-container-id-1 div.sk-estimator.fitted input.sk-toggleable__control:checked~label.sk-toggleable__label {\n",
       "  /* fitted */\n",
       "  background-color: var(--sklearn-color-fitted-level-2);\n",
       "}\n",
       "\n",
       "#sk-container-id-1 div.sk-label label.sk-toggleable__label,\n",
       "#sk-container-id-1 div.sk-label label {\n",
       "  /* The background is the default theme color */\n",
       "  color: var(--sklearn-color-text-on-default-background);\n",
       "}\n",
       "\n",
       "/* On hover, darken the color of the background */\n",
       "#sk-container-id-1 div.sk-label:hover label.sk-toggleable__label {\n",
       "  color: var(--sklearn-color-text);\n",
       "  background-color: var(--sklearn-color-unfitted-level-2);\n",
       "}\n",
       "\n",
       "/* Label box, darken color on hover, fitted */\n",
       "#sk-container-id-1 div.sk-label.fitted:hover label.sk-toggleable__label.fitted {\n",
       "  color: var(--sklearn-color-text);\n",
       "  background-color: var(--sklearn-color-fitted-level-2);\n",
       "}\n",
       "\n",
       "/* Estimator label */\n",
       "\n",
       "#sk-container-id-1 div.sk-label label {\n",
       "  font-family: monospace;\n",
       "  font-weight: bold;\n",
       "  display: inline-block;\n",
       "  line-height: 1.2em;\n",
       "}\n",
       "\n",
       "#sk-container-id-1 div.sk-label-container {\n",
       "  text-align: center;\n",
       "}\n",
       "\n",
       "/* Estimator-specific */\n",
       "#sk-container-id-1 div.sk-estimator {\n",
       "  font-family: monospace;\n",
       "  border: 1px dotted var(--sklearn-color-border-box);\n",
       "  border-radius: 0.25em;\n",
       "  box-sizing: border-box;\n",
       "  margin-bottom: 0.5em;\n",
       "  /* unfitted */\n",
       "  background-color: var(--sklearn-color-unfitted-level-0);\n",
       "}\n",
       "\n",
       "#sk-container-id-1 div.sk-estimator.fitted {\n",
       "  /* fitted */\n",
       "  background-color: var(--sklearn-color-fitted-level-0);\n",
       "}\n",
       "\n",
       "/* on hover */\n",
       "#sk-container-id-1 div.sk-estimator:hover {\n",
       "  /* unfitted */\n",
       "  background-color: var(--sklearn-color-unfitted-level-2);\n",
       "}\n",
       "\n",
       "#sk-container-id-1 div.sk-estimator.fitted:hover {\n",
       "  /* fitted */\n",
       "  background-color: var(--sklearn-color-fitted-level-2);\n",
       "}\n",
       "\n",
       "/* Specification for estimator info (e.g. \"i\" and \"?\") */\n",
       "\n",
       "/* Common style for \"i\" and \"?\" */\n",
       "\n",
       ".sk-estimator-doc-link,\n",
       "a:link.sk-estimator-doc-link,\n",
       "a:visited.sk-estimator-doc-link {\n",
       "  float: right;\n",
       "  font-size: smaller;\n",
       "  line-height: 1em;\n",
       "  font-family: monospace;\n",
       "  background-color: var(--sklearn-color-background);\n",
       "  border-radius: 1em;\n",
       "  height: 1em;\n",
       "  width: 1em;\n",
       "  text-decoration: none !important;\n",
       "  margin-left: 0.5em;\n",
       "  text-align: center;\n",
       "  /* unfitted */\n",
       "  border: var(--sklearn-color-unfitted-level-1) 1pt solid;\n",
       "  color: var(--sklearn-color-unfitted-level-1);\n",
       "}\n",
       "\n",
       ".sk-estimator-doc-link.fitted,\n",
       "a:link.sk-estimator-doc-link.fitted,\n",
       "a:visited.sk-estimator-doc-link.fitted {\n",
       "  /* fitted */\n",
       "  border: var(--sklearn-color-fitted-level-1) 1pt solid;\n",
       "  color: var(--sklearn-color-fitted-level-1);\n",
       "}\n",
       "\n",
       "/* On hover */\n",
       "div.sk-estimator:hover .sk-estimator-doc-link:hover,\n",
       ".sk-estimator-doc-link:hover,\n",
       "div.sk-label-container:hover .sk-estimator-doc-link:hover,\n",
       ".sk-estimator-doc-link:hover {\n",
       "  /* unfitted */\n",
       "  background-color: var(--sklearn-color-unfitted-level-3);\n",
       "  color: var(--sklearn-color-background);\n",
       "  text-decoration: none;\n",
       "}\n",
       "\n",
       "div.sk-estimator.fitted:hover .sk-estimator-doc-link.fitted:hover,\n",
       ".sk-estimator-doc-link.fitted:hover,\n",
       "div.sk-label-container:hover .sk-estimator-doc-link.fitted:hover,\n",
       ".sk-estimator-doc-link.fitted:hover {\n",
       "  /* fitted */\n",
       "  background-color: var(--sklearn-color-fitted-level-3);\n",
       "  color: var(--sklearn-color-background);\n",
       "  text-decoration: none;\n",
       "}\n",
       "\n",
       "/* Span, style for the box shown on hovering the info icon */\n",
       ".sk-estimator-doc-link span {\n",
       "  display: none;\n",
       "  z-index: 9999;\n",
       "  position: relative;\n",
       "  font-weight: normal;\n",
       "  right: .2ex;\n",
       "  padding: .5ex;\n",
       "  margin: .5ex;\n",
       "  width: min-content;\n",
       "  min-width: 20ex;\n",
       "  max-width: 50ex;\n",
       "  color: var(--sklearn-color-text);\n",
       "  box-shadow: 2pt 2pt 4pt #999;\n",
       "  /* unfitted */\n",
       "  background: var(--sklearn-color-unfitted-level-0);\n",
       "  border: .5pt solid var(--sklearn-color-unfitted-level-3);\n",
       "}\n",
       "\n",
       ".sk-estimator-doc-link.fitted span {\n",
       "  /* fitted */\n",
       "  background: var(--sklearn-color-fitted-level-0);\n",
       "  border: var(--sklearn-color-fitted-level-3);\n",
       "}\n",
       "\n",
       ".sk-estimator-doc-link:hover span {\n",
       "  display: block;\n",
       "}\n",
       "\n",
       "/* \"?\"-specific style due to the `<a>` HTML tag */\n",
       "\n",
       "#sk-container-id-1 a.estimator_doc_link {\n",
       "  float: right;\n",
       "  font-size: 1rem;\n",
       "  line-height: 1em;\n",
       "  font-family: monospace;\n",
       "  background-color: var(--sklearn-color-background);\n",
       "  border-radius: 1rem;\n",
       "  height: 1rem;\n",
       "  width: 1rem;\n",
       "  text-decoration: none;\n",
       "  /* unfitted */\n",
       "  color: var(--sklearn-color-unfitted-level-1);\n",
       "  border: var(--sklearn-color-unfitted-level-1) 1pt solid;\n",
       "}\n",
       "\n",
       "#sk-container-id-1 a.estimator_doc_link.fitted {\n",
       "  /* fitted */\n",
       "  border: var(--sklearn-color-fitted-level-1) 1pt solid;\n",
       "  color: var(--sklearn-color-fitted-level-1);\n",
       "}\n",
       "\n",
       "/* On hover */\n",
       "#sk-container-id-1 a.estimator_doc_link:hover {\n",
       "  /* unfitted */\n",
       "  background-color: var(--sklearn-color-unfitted-level-3);\n",
       "  color: var(--sklearn-color-background);\n",
       "  text-decoration: none;\n",
       "}\n",
       "\n",
       "#sk-container-id-1 a.estimator_doc_link.fitted:hover {\n",
       "  /* fitted */\n",
       "  background-color: var(--sklearn-color-fitted-level-3);\n",
       "}\n",
       "</style><div id=\"sk-container-id-1\" class=\"sk-top-container\"><div class=\"sk-text-repr-fallback\"><pre>LabelEncoder()</pre><b>In a Jupyter environment, please rerun this cell to show the HTML representation or trust the notebook. <br />On GitHub, the HTML representation is unable to render, please try loading this page with nbviewer.org.</b></div><div class=\"sk-container\" hidden><div class=\"sk-item\"><div class=\"sk-estimator fitted sk-toggleable\"><input class=\"sk-toggleable__control sk-hidden--visually\" id=\"sk-estimator-id-1\" type=\"checkbox\" checked><label for=\"sk-estimator-id-1\" class=\"sk-toggleable__label fitted sk-toggleable__label-arrow\"><div><div>LabelEncoder</div></div><div><a class=\"sk-estimator-doc-link fitted\" rel=\"noreferrer\" target=\"_blank\" href=\"https://scikit-learn.org/1.6/modules/generated/sklearn.preprocessing.LabelEncoder.html\">?<span>Documentation for LabelEncoder</span></a><span class=\"sk-estimator-doc-link fitted\">i<span>Fitted</span></span></div></label><div class=\"sk-toggleable__content fitted\"><pre>LabelEncoder()</pre></div> </div></div></div></div>"
      ],
      "text/plain": [
       "LabelEncoder()"
      ]
     },
     "execution_count": 47,
     "metadata": {},
     "output_type": "execute_result"
    }
   ],
   "source": [
    "from sklearn.preprocessing import OrdinalEncoder\n",
    "\n",
    "#vectorize the labels\n",
    "le = LabelEncoder()\n",
    "le.fit(train_labels) #fit only to trainin"
   ]
  },
  {
   "cell_type": "code",
   "execution_count": 48,
   "id": "0f691907-49ca-4834-8c81-a972461a8d53",
   "metadata": {},
   "outputs": [
    {
     "data": {
      "text/plain": [
       "array(['Account Management'], dtype=object)"
      ]
     },
     "execution_count": 48,
     "metadata": {},
     "output_type": "execute_result"
    }
   ],
   "source": [
    "le.inverse_transform([0])"
   ]
  },
  {
   "cell_type": "code",
   "execution_count": 49,
   "id": "355bd5b7-4397-4955-aa6d-2640227bb647",
   "metadata": {},
   "outputs": [],
   "source": [
    "#each word has a unique index\n",
    "word_index = tokenizer.word_index"
   ]
  },
  {
   "cell_type": "code",
   "execution_count": 50,
   "id": "dfdc78c5-ecf7-44a1-8c6d-00526c8e10b9",
   "metadata": {},
   "outputs": [],
   "source": [
    "train_sequences = tokenizer.texts_to_sequences(train_sentences)\n",
    "test_sequences = tokenizer.texts_to_sequences(test_sentences)"
   ]
  },
  {
   "cell_type": "code",
   "execution_count": 51,
   "id": "128249fe-067d-452f-b9e7-bb25f73ba1f6",
   "metadata": {},
   "outputs": [],
   "source": [
    "y_train = le.transform(train_labels)\n",
    "y_test = le.transform(test_labels)"
   ]
  },
  {
   "cell_type": "code",
   "execution_count": 52,
   "id": "a9fa4104-9b54-46d1-b2ca-d0e644eda84e",
   "metadata": {},
   "outputs": [
    {
     "name": "stdout",
     "output_type": "stream",
     "text": [
      "Example sequence 1:\n",
      "['So firstly I must say support is excellent. Overall, the experience is just ok. App, particularly visa is super slow. WARNING. IF you should choose the visa card. First hand experience, when you lock in your stake, you will get staking rewards. These are a pittance compared to other staking programs.When the bear comes , they will slash those rewards , but since your investment will be down 80 to 90% , you will be trapped. Also visa transactions like hotel deposits take weeks to finalize.']\n",
      "[[26, 733, 3, 283, 380, 73, 10, 381, 734, 1, 116, 10, 64, 735, 9, 736, 201, 10, 191, 164, 737, 34, 7, 170, 738, 1, 201, 53, 292, 739, 116, 25, 7, 486, 14, 19, 487, 7, 81, 27, 382, 383, 488, 39, 5, 740, 489, 2, 100, 382, 741, 25, 1, 742, 743, 17, 81, 744, 384, 383, 18, 113, 19, 745, 81, 37, 237, 293, 2, 746, 7, 81, 37, 747, 153, 201, 294, 75, 748, 471, 93, 295, 2, 749]]\n",
      "Example sequence 2:\n",
      "['Someone frauded with me please stay alert']\n",
      "[[505, 788, 21, 22, 48, 399, 789]]\n"
     ]
    }
   ],
   "source": [
    "print(\"Example sequence 1:\")\n",
    "print(train_sentences[10:11])\n",
    "print(train_sequences[10:11])\n",
    "print(\"Example sequence 2:\")\n",
    "print(train_sentences[20:21])\n",
    "print(train_sequences[20:21])"
   ]
  },
  {
   "cell_type": "markdown",
   "id": "4b709fa5-6a6e-4faf-a29c-dc23f8a8c886",
   "metadata": {},
   "source": [
    "As seen above, sequences can have different lengths since the sentences may contain a distinct number of words. We need all sequences to be of the same length, and for this we will use padding."
   ]
  },
  {
   "cell_type": "code",
   "execution_count": 53,
   "id": "42a85e11-14b1-4462-8a28-829fae3ab7a8",
   "metadata": {},
   "outputs": [
    {
     "data": {
      "text/plain": [
       "((239, 255), (60, 255))"
      ]
     },
     "execution_count": 53,
     "metadata": {},
     "output_type": "execute_result"
    }
   ],
   "source": [
    "#Pad the sequences to have the same length\n",
    "from tensorflow.keras.preprocessing.sequence import pad_sequences\n",
    "\n",
    "#max number of words in a sequence\n",
    "max_length = 255\n",
    "\n",
    "train_padded = pad_sequences(train_sequences, maxlen= max_length, padding = \"post\", truncating = \"post\")\n",
    "test_padded = pad_sequences(test_sequences, maxlen = max_length, padding = \"post\", truncating = \"post\")\n",
    "train_padded.shape, test_padded.shape"
   ]
  },
  {
   "cell_type": "code",
   "execution_count": null,
   "id": "6269a21f-bac2-4005-b594-49ca4caa53a7",
   "metadata": {},
   "outputs": [],
   "source": []
  },
  {
   "cell_type": "code",
   "execution_count": 54,
   "id": "1bff3754-3582-4caa-8836-0feb4053d043",
   "metadata": {},
   "outputs": [],
   "source": [
    "reverse_word_index = dict([(idx, word) for (word, idx) in word_index.items()])\n",
    "def decode(sequence):\n",
    "    return \" \".join([reverse_word_index.get(idx, \"?\") for idx in sequence])"
   ]
  },
  {
   "cell_type": "code",
   "execution_count": 55,
   "id": "63f2f738-d441-4afe-8f7d-f7eb4acf4714",
   "metadata": {},
   "outputs": [],
   "source": [
    "decoded_text = decode(train_sequences[10])"
   ]
  },
  {
   "cell_type": "code",
   "execution_count": 56,
   "id": "ef871610-2925-4fbc-bd40-f757552a48b9",
   "metadata": {},
   "outputs": [
    {
     "data": {
      "text/plain": [
       "'so firstly i must say support is excellent overall the experience is just ok app particularly visa is super slow warning if you should choose the visa card first hand experience when you lock in your stake you will get staking rewards these are a pittance compared to other staking programs when the bear comes they will slash those rewards but since your investment will be down 80 to 90 you will be trapped also visa transactions like hotel deposits take weeks to finalize'"
      ]
     },
     "execution_count": 56,
     "metadata": {},
     "output_type": "execute_result"
    }
   ],
   "source": [
    "decoded_text"
   ]
  },
  {
   "cell_type": "markdown",
   "id": "6f8fc161-f06b-4771-a5f4-503999865ee2",
   "metadata": {},
   "source": [
    "## Train model"
   ]
  },
  {
   "cell_type": "code",
   "execution_count": 57,
   "id": "70c952a5-c72a-4c8d-827c-de7877f12741",
   "metadata": {},
   "outputs": [],
   "source": [
    "num_classes = df_r[\"gemini_llm_topic\"].nunique()"
   ]
  },
  {
   "cell_type": "code",
   "execution_count": 58,
   "id": "72ec815b-592a-4d4a-a388-70b422a0a458",
   "metadata": {},
   "outputs": [
    {
     "data": {
      "text/plain": [
       "12"
      ]
     },
     "execution_count": 58,
     "metadata": {},
     "output_type": "execute_result"
    }
   ],
   "source": [
    "num_classes"
   ]
  },
  {
   "cell_type": "code",
   "execution_count": 59,
   "id": "a69cd525-f382-4ee8-8afa-50d8fc3ca1db",
   "metadata": {},
   "outputs": [
    {
     "data": {
      "text/plain": [
       "gemini_llm_topic\n",
       "Usability/UI/UX                     51\n",
       "Generic feedback                    50\n",
       "Reliability/Stability               39\n",
       "Account Management                  38\n",
       "Customer Support                    36\n",
       "Transaction Fees/Speed              31\n",
       "Features/Functionality              25\n",
       "Verification/KYC/AML Processes      16\n",
       "Security                             5\n",
       "Educational Resources/Onboarding     4\n",
       "Wallet Security/Integration          3\n",
       "Privacy                              1\n",
       "Name: count, dtype: int64"
      ]
     },
     "execution_count": 59,
     "metadata": {},
     "output_type": "execute_result"
    }
   ],
   "source": [
    "df_r[\"gemini_llm_topic\"].value_counts()"
   ]
  },
  {
   "cell_type": "code",
   "execution_count": null,
   "id": "f1f2aef9-baa4-4f68-bbaa-30a1c68b7c77",
   "metadata": {},
   "outputs": [],
   "source": []
  },
  {
   "cell_type": "code",
   "execution_count": 14,
   "id": "1ad96e4c-3dcc-44d5-bf56-769bc54fb35a",
   "metadata": {},
   "outputs": [],
   "source": [
    "X, y = df_r.content, df_r.corrected_topic"
   ]
  },
  {
   "cell_type": "code",
   "execution_count": 13,
   "id": "36bb1351-f252-4d34-abba-35269dce96e6",
   "metadata": {},
   "outputs": [
    {
     "name": "stdout",
     "output_type": "stream",
     "text": [
      "Bootstrapping by a factor of 100\n",
      "Normalizing text\n",
      "Fitting text tokenizer\n",
      "Fitting label tokenizer\n",
      "Tokenizing text\n",
      "Tokenizing labels\n",
      "Passing text sequences\n",
      "Setting model architecture\n",
      "Compiled model\n",
      "Epoch 1/100\n",
      "\u001b[1m15/15\u001b[0m \u001b[32m━━━━━━━━━━━━━━━━━━━━\u001b[0m\u001b[37m\u001b[0m \u001b[1m1s\u001b[0m 14ms/step - accuracy: 0.1506 - loss: 72.4015 - val_accuracy: 0.5594 - val_loss: 13.7196\n",
      "Epoch 2/100\n",
      "\u001b[1m15/15\u001b[0m \u001b[32m━━━━━━━━━━━━━━━━━━━━\u001b[0m\u001b[37m\u001b[0m \u001b[1m0s\u001b[0m 9ms/step - accuracy: 0.2744 - loss: 23.9024 - val_accuracy: 0.6027 - val_loss: 10.9700\n",
      "Epoch 3/100\n",
      "\u001b[1m15/15\u001b[0m \u001b[32m━━━━━━━━━━━━━━━━━━━━\u001b[0m\u001b[37m\u001b[0m \u001b[1m0s\u001b[0m 9ms/step - accuracy: 0.3681 - loss: 16.6763 - val_accuracy: 0.6740 - val_loss: 9.8935\n",
      "Epoch 4/100\n",
      "\u001b[1m15/15\u001b[0m \u001b[32m━━━━━━━━━━━━━━━━━━━━\u001b[0m\u001b[37m\u001b[0m \u001b[1m0s\u001b[0m 10ms/step - accuracy: 0.3967 - loss: 14.0659 - val_accuracy: 0.7347 - val_loss: 9.2613\n",
      "Epoch 5/100\n",
      "\u001b[1m15/15\u001b[0m \u001b[32m━━━━━━━━━━━━━━━━━━━━\u001b[0m\u001b[37m\u001b[0m \u001b[1m0s\u001b[0m 9ms/step - accuracy: 0.4256 - loss: 12.4684 - val_accuracy: 0.7589 - val_loss: 8.8379\n",
      "Epoch 6/100\n",
      "\u001b[1m15/15\u001b[0m \u001b[32m━━━━━━━━━━━━━━━━━━━━\u001b[0m\u001b[37m\u001b[0m \u001b[1m0s\u001b[0m 9ms/step - accuracy: 0.4683 - loss: 11.4125 - val_accuracy: 0.7432 - val_loss: 8.5991\n",
      "Epoch 7/100\n",
      "\u001b[1m15/15\u001b[0m \u001b[32m━━━━━━━━━━━━━━━━━━━━\u001b[0m\u001b[37m\u001b[0m \u001b[1m0s\u001b[0m 10ms/step - accuracy: 0.4845 - loss: 10.7871 - val_accuracy: 0.7461 - val_loss: 8.4549\n",
      "Epoch 8/100\n",
      "\u001b[1m15/15\u001b[0m \u001b[32m━━━━━━━━━━━━━━━━━━━━\u001b[0m\u001b[37m\u001b[0m \u001b[1m0s\u001b[0m 10ms/step - accuracy: 0.5070 - loss: 10.2667 - val_accuracy: 0.7583 - val_loss: 8.3448\n",
      "Epoch 9/100\n",
      "\u001b[1m15/15\u001b[0m \u001b[32m━━━━━━━━━━━━━━━━━━━━\u001b[0m\u001b[37m\u001b[0m \u001b[1m0s\u001b[0m 10ms/step - accuracy: 0.5257 - loss: 9.9354 - val_accuracy: 0.7713 - val_loss: 8.2904\n",
      "Epoch 10/100\n",
      "\u001b[1m15/15\u001b[0m \u001b[32m━━━━━━━━━━━━━━━━━━━━\u001b[0m\u001b[37m\u001b[0m \u001b[1m0s\u001b[0m 10ms/step - accuracy: 0.5422 - loss: 9.7765 - val_accuracy: 0.7733 - val_loss: 8.2383\n",
      "Epoch 11/100\n",
      "\u001b[1m15/15\u001b[0m \u001b[32m━━━━━━━━━━━━━━━━━━━━\u001b[0m\u001b[37m\u001b[0m \u001b[1m0s\u001b[0m 11ms/step - accuracy: 0.5557 - loss: 9.5576 - val_accuracy: 0.7805 - val_loss: 8.1413\n",
      "Epoch 12/100\n",
      "\u001b[1m15/15\u001b[0m \u001b[32m━━━━━━━━━━━━━━━━━━━━\u001b[0m\u001b[37m\u001b[0m \u001b[1m0s\u001b[0m 11ms/step - accuracy: 0.5690 - loss: 9.3683 - val_accuracy: 0.7730 - val_loss: 8.1210\n",
      "Epoch 13/100\n",
      "\u001b[1m15/15\u001b[0m \u001b[32m━━━━━━━━━━━━━━━━━━━━\u001b[0m\u001b[37m\u001b[0m \u001b[1m0s\u001b[0m 10ms/step - accuracy: 0.5965 - loss: 9.0993 - val_accuracy: 0.7900 - val_loss: 8.0409\n",
      "Epoch 14/100\n",
      "\u001b[1m15/15\u001b[0m \u001b[32m━━━━━━━━━━━━━━━━━━━━\u001b[0m\u001b[37m\u001b[0m \u001b[1m0s\u001b[0m 10ms/step - accuracy: 0.6053 - loss: 8.9106 - val_accuracy: 0.7945 - val_loss: 7.9846\n",
      "Epoch 15/100\n",
      "\u001b[1m15/15\u001b[0m \u001b[32m━━━━━━━━━━━━━━━━━━━━\u001b[0m\u001b[37m\u001b[0m \u001b[1m0s\u001b[0m 10ms/step - accuracy: 0.6221 - loss: 8.8063 - val_accuracy: 0.7938 - val_loss: 7.9175\n",
      "Epoch 16/100\n",
      "\u001b[1m15/15\u001b[0m \u001b[32m━━━━━━━━━━━━━━━━━━━━\u001b[0m\u001b[37m\u001b[0m \u001b[1m0s\u001b[0m 11ms/step - accuracy: 0.6281 - loss: 8.6488 - val_accuracy: 0.8068 - val_loss: 7.8380\n",
      "Epoch 17/100\n",
      "\u001b[1m15/15\u001b[0m \u001b[32m━━━━━━━━━━━━━━━━━━━━\u001b[0m\u001b[37m\u001b[0m \u001b[1m0s\u001b[0m 11ms/step - accuracy: 0.6372 - loss: 8.5465 - val_accuracy: 0.8071 - val_loss: 7.7824\n",
      "Epoch 18/100\n",
      "\u001b[1m15/15\u001b[0m \u001b[32m━━━━━━━━━━━━━━━━━━━━\u001b[0m\u001b[37m\u001b[0m \u001b[1m0s\u001b[0m 11ms/step - accuracy: 0.6491 - loss: 8.4277 - val_accuracy: 0.7998 - val_loss: 7.7145\n",
      "Epoch 19/100\n",
      "\u001b[1m15/15\u001b[0m \u001b[32m━━━━━━━━━━━━━━━━━━━━\u001b[0m\u001b[37m\u001b[0m \u001b[1m0s\u001b[0m 11ms/step - accuracy: 0.6735 - loss: 8.2838 - val_accuracy: 0.8034 - val_loss: 7.6482\n",
      "Epoch 20/100\n",
      "\u001b[1m15/15\u001b[0m \u001b[32m━━━━━━━━━━━━━━━━━━━━\u001b[0m\u001b[37m\u001b[0m \u001b[1m0s\u001b[0m 11ms/step - accuracy: 0.6786 - loss: 8.1521 - val_accuracy: 0.8074 - val_loss: 7.5935\n",
      "Epoch 21/100\n",
      "\u001b[1m15/15\u001b[0m \u001b[32m━━━━━━━━━━━━━━━━━━━━\u001b[0m\u001b[37m\u001b[0m \u001b[1m0s\u001b[0m 10ms/step - accuracy: 0.6867 - loss: 8.1079 - val_accuracy: 0.8007 - val_loss: 7.5259\n",
      "Epoch 22/100\n",
      "\u001b[1m15/15\u001b[0m \u001b[32m━━━━━━━━━━━━━━━━━━━━\u001b[0m\u001b[37m\u001b[0m \u001b[1m0s\u001b[0m 11ms/step - accuracy: 0.6794 - loss: 8.0539 - val_accuracy: 0.7972 - val_loss: 7.4671\n",
      "Epoch 23/100\n",
      "\u001b[1m15/15\u001b[0m \u001b[32m━━━━━━━━━━━━━━━━━━━━\u001b[0m\u001b[37m\u001b[0m \u001b[1m0s\u001b[0m 11ms/step - accuracy: 0.6854 - loss: 7.9940 - val_accuracy: 0.8066 - val_loss: 7.4096\n",
      "Epoch 24/100\n",
      "\u001b[1m15/15\u001b[0m \u001b[32m━━━━━━━━━━━━━━━━━━━━\u001b[0m\u001b[37m\u001b[0m \u001b[1m0s\u001b[0m 11ms/step - accuracy: 0.6979 - loss: 7.8591 - val_accuracy: 0.8146 - val_loss: 7.3519\n",
      "Epoch 25/100\n",
      "\u001b[1m15/15\u001b[0m \u001b[32m━━━━━━━━━━━━━━━━━━━━\u001b[0m\u001b[37m\u001b[0m \u001b[1m0s\u001b[0m 11ms/step - accuracy: 0.7024 - loss: 7.7599 - val_accuracy: 0.8148 - val_loss: 7.2857\n",
      "Epoch 26/100\n",
      "\u001b[1m15/15\u001b[0m \u001b[32m━━━━━━━━━━━━━━━━━━━━\u001b[0m\u001b[37m\u001b[0m \u001b[1m0s\u001b[0m 11ms/step - accuracy: 0.6989 - loss: 7.7176 - val_accuracy: 0.8180 - val_loss: 7.2235\n",
      "Epoch 27/100\n",
      "\u001b[1m15/15\u001b[0m \u001b[32m━━━━━━━━━━━━━━━━━━━━\u001b[0m\u001b[37m\u001b[0m \u001b[1m0s\u001b[0m 11ms/step - accuracy: 0.7134 - loss: 7.5949 - val_accuracy: 0.8144 - val_loss: 7.1625\n",
      "Epoch 28/100\n",
      "\u001b[1m15/15\u001b[0m \u001b[32m━━━━━━━━━━━━━━━━━━━━\u001b[0m\u001b[37m\u001b[0m \u001b[1m0s\u001b[0m 11ms/step - accuracy: 0.6955 - loss: 7.6509 - val_accuracy: 0.8121 - val_loss: 7.1051\n",
      "Epoch 29/100\n",
      "\u001b[1m15/15\u001b[0m \u001b[32m━━━━━━━━━━━━━━━━━━━━\u001b[0m\u001b[37m\u001b[0m \u001b[1m0s\u001b[0m 11ms/step - accuracy: 0.7190 - loss: 7.5028 - val_accuracy: 0.8160 - val_loss: 7.0739\n",
      "Epoch 30/100\n",
      "\u001b[1m15/15\u001b[0m \u001b[32m━━━━━━━━━━━━━━━━━━━━\u001b[0m\u001b[37m\u001b[0m \u001b[1m0s\u001b[0m 11ms/step - accuracy: 0.7117 - loss: 7.5019 - val_accuracy: 0.8195 - val_loss: 6.9975\n",
      "Epoch 31/100\n",
      "\u001b[1m15/15\u001b[0m \u001b[32m━━━━━━━━━━━━━━━━━━━━\u001b[0m\u001b[37m\u001b[0m \u001b[1m0s\u001b[0m 12ms/step - accuracy: 0.7235 - loss: 7.3410 - val_accuracy: 0.8164 - val_loss: 6.9263\n",
      "Epoch 32/100\n",
      "\u001b[1m15/15\u001b[0m \u001b[32m━━━━━━━━━━━━━━━━━━━━\u001b[0m\u001b[37m\u001b[0m \u001b[1m0s\u001b[0m 14ms/step - accuracy: 0.7310 - loss: 7.2697 - val_accuracy: 0.8225 - val_loss: 6.8741\n",
      "Epoch 33/100\n",
      "\u001b[1m15/15\u001b[0m \u001b[32m━━━━━━━━━━━━━━━━━━━━\u001b[0m\u001b[37m\u001b[0m \u001b[1m0s\u001b[0m 12ms/step - accuracy: 0.7225 - loss: 7.2534 - val_accuracy: 0.8319 - val_loss: 6.8119\n",
      "Epoch 34/100\n",
      "\u001b[1m15/15\u001b[0m \u001b[32m━━━━━━━━━━━━━━━━━━━━\u001b[0m\u001b[37m\u001b[0m \u001b[1m0s\u001b[0m 11ms/step - accuracy: 0.7335 - loss: 7.1518 - val_accuracy: 0.8318 - val_loss: 6.7502\n",
      "Epoch 35/100\n",
      "\u001b[1m15/15\u001b[0m \u001b[32m━━━━━━━━━━━━━━━━━━━━\u001b[0m\u001b[37m\u001b[0m \u001b[1m0s\u001b[0m 10ms/step - accuracy: 0.7292 - loss: 7.0848 - val_accuracy: 0.8284 - val_loss: 6.7102\n",
      "Epoch 36/100\n",
      "\u001b[1m15/15\u001b[0m \u001b[32m━━━━━━━━━━━━━━━━━━━━\u001b[0m\u001b[37m\u001b[0m \u001b[1m0s\u001b[0m 11ms/step - accuracy: 0.7457 - loss: 7.0113 - val_accuracy: 0.8125 - val_loss: 6.6760\n",
      "Epoch 37/100\n",
      "\u001b[1m15/15\u001b[0m \u001b[32m━━━━━━━━━━━━━━━━━━━━\u001b[0m\u001b[37m\u001b[0m \u001b[1m0s\u001b[0m 11ms/step - accuracy: 0.7397 - loss: 6.9769 - val_accuracy: 0.8275 - val_loss: 6.5937\n",
      "Epoch 38/100\n",
      "\u001b[1m15/15\u001b[0m \u001b[32m━━━━━━━━━━━━━━━━━━━━\u001b[0m\u001b[37m\u001b[0m \u001b[1m0s\u001b[0m 10ms/step - accuracy: 0.7463 - loss: 6.8887 - val_accuracy: 0.8288 - val_loss: 6.5334\n",
      "Epoch 39/100\n",
      "\u001b[1m15/15\u001b[0m \u001b[32m━━━━━━━━━━━━━━━━━━━━\u001b[0m\u001b[37m\u001b[0m \u001b[1m0s\u001b[0m 10ms/step - accuracy: 0.7585 - loss: 6.7999 - val_accuracy: 0.8317 - val_loss: 6.4578\n",
      "Epoch 40/100\n",
      "\u001b[1m15/15\u001b[0m \u001b[32m━━━━━━━━━━━━━━━━━━━━\u001b[0m\u001b[37m\u001b[0m \u001b[1m0s\u001b[0m 11ms/step - accuracy: 0.7524 - loss: 6.7399 - val_accuracy: 0.8355 - val_loss: 6.3916\n",
      "Epoch 41/100\n",
      "\u001b[1m15/15\u001b[0m \u001b[32m━━━━━━━━━━━━━━━━━━━━\u001b[0m\u001b[37m\u001b[0m \u001b[1m0s\u001b[0m 11ms/step - accuracy: 0.7693 - loss: 6.6386 - val_accuracy: 0.8439 - val_loss: 6.3326\n",
      "Epoch 42/100\n",
      "\u001b[1m15/15\u001b[0m \u001b[32m━━━━━━━━━━━━━━━━━━━━\u001b[0m\u001b[37m\u001b[0m \u001b[1m0s\u001b[0m 11ms/step - accuracy: 0.7641 - loss: 6.6038 - val_accuracy: 0.8184 - val_loss: 6.3420\n",
      "Epoch 43/100\n",
      "\u001b[1m15/15\u001b[0m \u001b[32m━━━━━━━━━━━━━━━━━━━━\u001b[0m\u001b[37m\u001b[0m \u001b[1m0s\u001b[0m 11ms/step - accuracy: 0.7560 - loss: 6.5686 - val_accuracy: 0.8325 - val_loss: 6.2426\n",
      "Epoch 44/100\n",
      "\u001b[1m15/15\u001b[0m \u001b[32m━━━━━━━━━━━━━━━━━━━━\u001b[0m\u001b[37m\u001b[0m \u001b[1m0s\u001b[0m 10ms/step - accuracy: 0.7585 - loss: 6.5321 - val_accuracy: 0.8399 - val_loss: 6.1704\n",
      "Epoch 45/100\n",
      "\u001b[1m15/15\u001b[0m \u001b[32m━━━━━━━━━━━━━━━━━━━━\u001b[0m\u001b[37m\u001b[0m \u001b[1m0s\u001b[0m 11ms/step - accuracy: 0.7697 - loss: 6.4195 - val_accuracy: 0.8483 - val_loss: 6.1193\n",
      "Epoch 46/100\n",
      "\u001b[1m15/15\u001b[0m \u001b[32m━━━━━━━━━━━━━━━━━━━━\u001b[0m\u001b[37m\u001b[0m \u001b[1m0s\u001b[0m 11ms/step - accuracy: 0.7675 - loss: 6.3583 - val_accuracy: 0.8491 - val_loss: 6.0517\n",
      "Epoch 47/100\n",
      "\u001b[1m15/15\u001b[0m \u001b[32m━━━━━━━━━━━━━━━━━━━━\u001b[0m\u001b[37m\u001b[0m \u001b[1m0s\u001b[0m 11ms/step - accuracy: 0.7740 - loss: 6.3008 - val_accuracy: 0.8408 - val_loss: 6.0170\n",
      "Epoch 48/100\n",
      "\u001b[1m15/15\u001b[0m \u001b[32m━━━━━━━━━━━━━━━━━━━━\u001b[0m\u001b[37m\u001b[0m \u001b[1m0s\u001b[0m 11ms/step - accuracy: 0.7790 - loss: 6.2301 - val_accuracy: 0.8442 - val_loss: 5.9431\n",
      "Epoch 49/100\n",
      "\u001b[1m15/15\u001b[0m \u001b[32m━━━━━━━━━━━━━━━━━━━━\u001b[0m\u001b[37m\u001b[0m \u001b[1m0s\u001b[0m 11ms/step - accuracy: 0.7776 - loss: 6.1813 - val_accuracy: 0.8528 - val_loss: 5.8884\n",
      "Epoch 50/100\n",
      "\u001b[1m15/15\u001b[0m \u001b[32m━━━━━━━━━━━━━━━━━━━━\u001b[0m\u001b[37m\u001b[0m \u001b[1m0s\u001b[0m 11ms/step - accuracy: 0.7863 - loss: 6.0859 - val_accuracy: 0.8518 - val_loss: 5.8241\n",
      "Epoch 51/100\n",
      "\u001b[1m15/15\u001b[0m \u001b[32m━━━━━━━━━━━━━━━━━━━━\u001b[0m\u001b[37m\u001b[0m \u001b[1m0s\u001b[0m 11ms/step - accuracy: 0.7907 - loss: 6.0146 - val_accuracy: 0.8518 - val_loss: 5.7667\n",
      "Epoch 52/100\n",
      "\u001b[1m15/15\u001b[0m \u001b[32m━━━━━━━━━━━━━━━━━━━━\u001b[0m\u001b[37m\u001b[0m \u001b[1m0s\u001b[0m 11ms/step - accuracy: 0.7876 - loss: 5.9778 - val_accuracy: 0.8515 - val_loss: 5.7032\n",
      "Epoch 53/100\n",
      "\u001b[1m15/15\u001b[0m \u001b[32m━━━━━━━━━━━━━━━━━━━━\u001b[0m\u001b[37m\u001b[0m \u001b[1m0s\u001b[0m 11ms/step - accuracy: 0.7905 - loss: 5.8966 - val_accuracy: 0.8476 - val_loss: 5.6495\n",
      "Epoch 54/100\n",
      "\u001b[1m15/15\u001b[0m \u001b[32m━━━━━━━━━━━━━━━━━━━━\u001b[0m\u001b[37m\u001b[0m \u001b[1m0s\u001b[0m 11ms/step - accuracy: 0.8001 - loss: 5.8195 - val_accuracy: 0.8515 - val_loss: 5.5892\n",
      "Epoch 55/100\n",
      "\u001b[1m15/15\u001b[0m \u001b[32m━━━━━━━━━━━━━━━━━━━━\u001b[0m\u001b[37m\u001b[0m \u001b[1m0s\u001b[0m 12ms/step - accuracy: 0.7893 - loss: 5.8061 - val_accuracy: 0.8601 - val_loss: 5.5377\n",
      "Epoch 56/100\n",
      "\u001b[1m15/15\u001b[0m \u001b[32m━━━━━━━━━━━━━━━━━━━━\u001b[0m\u001b[37m\u001b[0m \u001b[1m0s\u001b[0m 11ms/step - accuracy: 0.7962 - loss: 5.7337 - val_accuracy: 0.8490 - val_loss: 5.4809\n",
      "Epoch 57/100\n",
      "\u001b[1m15/15\u001b[0m \u001b[32m━━━━━━━━━━━━━━━━━━━━\u001b[0m\u001b[37m\u001b[0m \u001b[1m0s\u001b[0m 12ms/step - accuracy: 0.7930 - loss: 5.6872 - val_accuracy: 0.8599 - val_loss: 5.4239\n",
      "Epoch 58/100\n",
      "\u001b[1m15/15\u001b[0m \u001b[32m━━━━━━━━━━━━━━━━━━━━\u001b[0m\u001b[37m\u001b[0m \u001b[1m0s\u001b[0m 11ms/step - accuracy: 0.7982 - loss: 5.6101 - val_accuracy: 0.8559 - val_loss: 5.3694\n",
      "Epoch 59/100\n",
      "\u001b[1m15/15\u001b[0m \u001b[32m━━━━━━━━━━━━━━━━━━━━\u001b[0m\u001b[37m\u001b[0m \u001b[1m0s\u001b[0m 11ms/step - accuracy: 0.7926 - loss: 5.5452 - val_accuracy: 0.8546 - val_loss: 5.3268\n",
      "Epoch 60/100\n",
      "\u001b[1m15/15\u001b[0m \u001b[32m━━━━━━━━━━━━━━━━━━━━\u001b[0m\u001b[37m\u001b[0m \u001b[1m0s\u001b[0m 12ms/step - accuracy: 0.7825 - loss: 5.5551 - val_accuracy: 0.8470 - val_loss: 5.3034\n",
      "Epoch 61/100\n",
      "\u001b[1m15/15\u001b[0m \u001b[32m━━━━━━━━━━━━━━━━━━━━\u001b[0m\u001b[37m\u001b[0m \u001b[1m0s\u001b[0m 11ms/step - accuracy: 0.7926 - loss: 5.5108 - val_accuracy: 0.8561 - val_loss: 5.2441\n",
      "Epoch 62/100\n",
      "\u001b[1m15/15\u001b[0m \u001b[32m━━━━━━━━━━━━━━━━━━━━\u001b[0m\u001b[37m\u001b[0m \u001b[1m0s\u001b[0m 11ms/step - accuracy: 0.8063 - loss: 5.4159 - val_accuracy: 0.8561 - val_loss: 5.1813\n",
      "Epoch 63/100\n",
      "\u001b[1m15/15\u001b[0m \u001b[32m━━━━━━━━━━━━━━━━━━━━\u001b[0m\u001b[37m\u001b[0m \u001b[1m0s\u001b[0m 11ms/step - accuracy: 0.8000 - loss: 5.3667 - val_accuracy: 0.8595 - val_loss: 5.1194\n",
      "Epoch 64/100\n",
      "\u001b[1m15/15\u001b[0m \u001b[32m━━━━━━━━━━━━━━━━━━━━\u001b[0m\u001b[37m\u001b[0m \u001b[1m0s\u001b[0m 12ms/step - accuracy: 0.8036 - loss: 5.3084 - val_accuracy: 0.8640 - val_loss: 5.0686\n",
      "Epoch 65/100\n",
      "\u001b[1m15/15\u001b[0m \u001b[32m━━━━━━━━━━━━━━━━━━━━\u001b[0m\u001b[37m\u001b[0m \u001b[1m1s\u001b[0m 46ms/step - accuracy: 0.7978 - loss: 5.2723 - val_accuracy: 0.8601 - val_loss: 5.0290\n",
      "Epoch 66/100\n",
      "\u001b[1m15/15\u001b[0m \u001b[32m━━━━━━━━━━━━━━━━━━━━\u001b[0m\u001b[37m\u001b[0m \u001b[1m0s\u001b[0m 16ms/step - accuracy: 0.8024 - loss: 5.2269 - val_accuracy: 0.8595 - val_loss: 4.9788\n",
      "Epoch 67/100\n",
      "\u001b[1m15/15\u001b[0m \u001b[32m━━━━━━━━━━━━━━━━━━━━\u001b[0m\u001b[37m\u001b[0m \u001b[1m0s\u001b[0m 11ms/step - accuracy: 0.7995 - loss: 5.1677 - val_accuracy: 0.8677 - val_loss: 4.9286\n",
      "Epoch 68/100\n",
      "\u001b[1m15/15\u001b[0m \u001b[32m━━━━━━━━━━━━━━━━━━━━\u001b[0m\u001b[37m\u001b[0m \u001b[1m0s\u001b[0m 11ms/step - accuracy: 0.8064 - loss: 5.0993 - val_accuracy: 0.8635 - val_loss: 4.8769\n",
      "Epoch 69/100\n",
      "\u001b[1m15/15\u001b[0m \u001b[32m━━━━━━━━━━━━━━━━━━━━\u001b[0m\u001b[37m\u001b[0m \u001b[1m0s\u001b[0m 11ms/step - accuracy: 0.8059 - loss: 5.0669 - val_accuracy: 0.8601 - val_loss: 4.8580\n",
      "Epoch 70/100\n",
      "\u001b[1m15/15\u001b[0m \u001b[32m━━━━━━━━━━━━━━━━━━━━\u001b[0m\u001b[37m\u001b[0m \u001b[1m0s\u001b[0m 11ms/step - accuracy: 0.8029 - loss: 5.0542 - val_accuracy: 0.8554 - val_loss: 4.8134\n",
      "Epoch 71/100\n",
      "\u001b[1m15/15\u001b[0m \u001b[32m━━━━━━━━━━━━━━━━━━━━\u001b[0m\u001b[37m\u001b[0m \u001b[1m0s\u001b[0m 11ms/step - accuracy: 0.8077 - loss: 5.0022 - val_accuracy: 0.8677 - val_loss: 4.7586\n",
      "Epoch 72/100\n",
      "\u001b[1m15/15\u001b[0m \u001b[32m━━━━━━━━━━━━━━━━━━━━\u001b[0m\u001b[37m\u001b[0m \u001b[1m0s\u001b[0m 11ms/step - accuracy: 0.8034 - loss: 4.9360 - val_accuracy: 0.8640 - val_loss: 4.7071\n",
      "Epoch 73/100\n",
      "\u001b[1m15/15\u001b[0m \u001b[32m━━━━━━━━━━━━━━━━━━━━\u001b[0m\u001b[37m\u001b[0m \u001b[1m0s\u001b[0m 11ms/step - accuracy: 0.8088 - loss: 4.8990 - val_accuracy: 0.8646 - val_loss: 4.6601\n",
      "Epoch 74/100\n",
      "\u001b[1m15/15\u001b[0m \u001b[32m━━━━━━━━━━━━━━━━━━━━\u001b[0m\u001b[37m\u001b[0m \u001b[1m0s\u001b[0m 11ms/step - accuracy: 0.8060 - loss: 4.8642 - val_accuracy: 0.8677 - val_loss: 4.6178\n",
      "Epoch 75/100\n",
      "\u001b[1m15/15\u001b[0m \u001b[32m━━━━━━━━━━━━━━━━━━━━\u001b[0m\u001b[37m\u001b[0m \u001b[1m0s\u001b[0m 11ms/step - accuracy: 0.8154 - loss: 4.7954 - val_accuracy: 0.8677 - val_loss: 4.5735\n",
      "Epoch 76/100\n",
      "\u001b[1m15/15\u001b[0m \u001b[32m━━━━━━━━━━━━━━━━━━━━\u001b[0m\u001b[37m\u001b[0m \u001b[1m0s\u001b[0m 11ms/step - accuracy: 0.8137 - loss: 4.7234 - val_accuracy: 0.8677 - val_loss: 4.5255\n",
      "Epoch 77/100\n",
      "\u001b[1m15/15\u001b[0m \u001b[32m━━━━━━━━━━━━━━━━━━━━\u001b[0m\u001b[37m\u001b[0m \u001b[1m0s\u001b[0m 11ms/step - accuracy: 0.8160 - loss: 4.6878 - val_accuracy: 0.8610 - val_loss: 4.4871\n",
      "Epoch 78/100\n",
      "\u001b[1m15/15\u001b[0m \u001b[32m━━━━━━━━━━━━━━━━━━━━\u001b[0m\u001b[37m\u001b[0m \u001b[1m0s\u001b[0m 11ms/step - accuracy: 0.8188 - loss: 4.6543 - val_accuracy: 0.8651 - val_loss: 4.4644\n",
      "Epoch 79/100\n",
      "\u001b[1m15/15\u001b[0m \u001b[32m━━━━━━━━━━━━━━━━━━━━\u001b[0m\u001b[37m\u001b[0m \u001b[1m0s\u001b[0m 11ms/step - accuracy: 0.8075 - loss: 4.6531 - val_accuracy: 0.8724 - val_loss: 4.4080\n",
      "Epoch 80/100\n",
      "\u001b[1m15/15\u001b[0m \u001b[32m━━━━━━━━━━━━━━━━━━━━\u001b[0m\u001b[37m\u001b[0m \u001b[1m0s\u001b[0m 11ms/step - accuracy: 0.8177 - loss: 4.5818 - val_accuracy: 0.8662 - val_loss: 4.3711\n",
      "Epoch 81/100\n",
      "\u001b[1m15/15\u001b[0m \u001b[32m━━━━━━━━━━━━━━━━━━━━\u001b[0m\u001b[37m\u001b[0m \u001b[1m0s\u001b[0m 11ms/step - accuracy: 0.8207 - loss: 4.5489 - val_accuracy: 0.8643 - val_loss: 4.3512\n",
      "Epoch 82/100\n",
      "\u001b[1m15/15\u001b[0m \u001b[32m━━━━━━━━━━━━━━━━━━━━\u001b[0m\u001b[37m\u001b[0m \u001b[1m0s\u001b[0m 11ms/step - accuracy: 0.8041 - loss: 4.5590 - val_accuracy: 0.8690 - val_loss: 4.3262\n",
      "Epoch 83/100\n",
      "\u001b[1m15/15\u001b[0m \u001b[32m━━━━━━━━━━━━━━━━━━━━\u001b[0m\u001b[37m\u001b[0m \u001b[1m0s\u001b[0m 11ms/step - accuracy: 0.8121 - loss: 4.5078 - val_accuracy: 0.8854 - val_loss: 4.2780\n",
      "Epoch 84/100\n",
      "\u001b[1m15/15\u001b[0m \u001b[32m━━━━━━━━━━━━━━━━━━━━\u001b[0m\u001b[37m\u001b[0m \u001b[1m0s\u001b[0m 11ms/step - accuracy: 0.8190 - loss: 4.4390 - val_accuracy: 0.8718 - val_loss: 4.2305\n",
      "Epoch 85/100\n",
      "\u001b[1m15/15\u001b[0m \u001b[32m━━━━━━━━━━━━━━━━━━━━\u001b[0m\u001b[37m\u001b[0m \u001b[1m0s\u001b[0m 11ms/step - accuracy: 0.8250 - loss: 4.3671 - val_accuracy: 0.8723 - val_loss: 4.1767\n",
      "Epoch 86/100\n",
      "\u001b[1m15/15\u001b[0m \u001b[32m━━━━━━━━━━━━━━━━━━━━\u001b[0m\u001b[37m\u001b[0m \u001b[1m0s\u001b[0m 11ms/step - accuracy: 0.8226 - loss: 4.3100 - val_accuracy: 0.8729 - val_loss: 4.1279\n",
      "Epoch 87/100\n",
      "\u001b[1m15/15\u001b[0m \u001b[32m━━━━━━━━━━━━━━━━━━━━\u001b[0m\u001b[37m\u001b[0m \u001b[1m0s\u001b[0m 11ms/step - accuracy: 0.8329 - loss: 4.2378 - val_accuracy: 0.8762 - val_loss: 4.0751\n",
      "Epoch 88/100\n",
      "\u001b[1m15/15\u001b[0m \u001b[32m━━━━━━━━━━━━━━━━━━━━\u001b[0m\u001b[37m\u001b[0m \u001b[1m0s\u001b[0m 12ms/step - accuracy: 0.8232 - loss: 4.2203 - val_accuracy: 0.8809 - val_loss: 4.0318\n",
      "Epoch 89/100\n",
      "\u001b[1m15/15\u001b[0m \u001b[32m━━━━━━━━━━━━━━━━━━━━\u001b[0m\u001b[37m\u001b[0m \u001b[1m0s\u001b[0m 11ms/step - accuracy: 0.8323 - loss: 4.1702 - val_accuracy: 0.8898 - val_loss: 3.9878\n",
      "Epoch 90/100\n",
      "\u001b[1m15/15\u001b[0m \u001b[32m━━━━━━━━━━━━━━━━━━━━\u001b[0m\u001b[37m\u001b[0m \u001b[1m0s\u001b[0m 11ms/step - accuracy: 0.8257 - loss: 4.1332 - val_accuracy: 0.8766 - val_loss: 3.9596\n",
      "Epoch 91/100\n",
      "\u001b[1m15/15\u001b[0m \u001b[32m━━━━━━━━━━━━━━━━━━━━\u001b[0m\u001b[37m\u001b[0m \u001b[1m0s\u001b[0m 11ms/step - accuracy: 0.8297 - loss: 4.0789 - val_accuracy: 0.8806 - val_loss: 3.9091\n",
      "Epoch 92/100\n",
      "\u001b[1m15/15\u001b[0m \u001b[32m━━━━━━━━━━━━━━━━━━━━\u001b[0m\u001b[37m\u001b[0m \u001b[1m0s\u001b[0m 11ms/step - accuracy: 0.8286 - loss: 4.0618 - val_accuracy: 0.8848 - val_loss: 3.8712\n",
      "Epoch 93/100\n",
      "\u001b[1m15/15\u001b[0m \u001b[32m━━━━━━━━━━━━━━━━━━━━\u001b[0m\u001b[37m\u001b[0m \u001b[1m0s\u001b[0m 11ms/step - accuracy: 0.8366 - loss: 3.9915 - val_accuracy: 0.8807 - val_loss: 3.8263\n",
      "Epoch 94/100\n",
      "\u001b[1m15/15\u001b[0m \u001b[32m━━━━━━━━━━━━━━━━━━━━\u001b[0m\u001b[37m\u001b[0m \u001b[1m0s\u001b[0m 11ms/step - accuracy: 0.8511 - loss: 3.9246 - val_accuracy: 0.8807 - val_loss: 3.7801\n",
      "Epoch 95/100\n",
      "\u001b[1m15/15\u001b[0m \u001b[32m━━━━━━━━━━━━━━━━━━━━\u001b[0m\u001b[37m\u001b[0m \u001b[1m0s\u001b[0m 11ms/step - accuracy: 0.8267 - loss: 3.9358 - val_accuracy: 0.8807 - val_loss: 3.7619\n",
      "Epoch 96/100\n",
      "\u001b[1m15/15\u001b[0m \u001b[32m━━━━━━━━━━━━━━━━━━━━\u001b[0m\u001b[37m\u001b[0m \u001b[1m0s\u001b[0m 11ms/step - accuracy: 0.8280 - loss: 3.9091 - val_accuracy: 0.8773 - val_loss: 3.7351\n",
      "Epoch 97/100\n",
      "\u001b[1m15/15\u001b[0m \u001b[32m━━━━━━━━━━━━━━━━━━━━\u001b[0m\u001b[37m\u001b[0m \u001b[1m0s\u001b[0m 11ms/step - accuracy: 0.8195 - loss: 3.9065 - val_accuracy: 0.8729 - val_loss: 3.7201\n",
      "Epoch 98/100\n",
      "\u001b[1m15/15\u001b[0m \u001b[32m━━━━━━━━━━━━━━━━━━━━\u001b[0m\u001b[37m\u001b[0m \u001b[1m0s\u001b[0m 11ms/step - accuracy: 0.8231 - loss: 3.8712 - val_accuracy: 0.8807 - val_loss: 3.6765\n",
      "Epoch 99/100\n",
      "\u001b[1m15/15\u001b[0m \u001b[32m━━━━━━━━━━━━━━━━━━━━\u001b[0m\u001b[37m\u001b[0m \u001b[1m0s\u001b[0m 11ms/step - accuracy: 0.8277 - loss: 3.8125 - val_accuracy: 0.8719 - val_loss: 3.6474\n",
      "Epoch 100/100\n",
      "\u001b[1m15/15\u001b[0m \u001b[32m━━━━━━━━━━━━━━━━━━━━\u001b[0m\u001b[37m\u001b[0m \u001b[1m0s\u001b[0m 11ms/step - accuracy: 0.8220 - loss: 3.8317 - val_accuracy: 0.8759 - val_loss: 3.6557\n"
     ]
    }
   ],
   "source": [
    "topic_model = TopicNeuralNet(X_train.content,y_train)\n",
    "topic_model.fit(epochs=100, preprocess=True, bootstrapping=True)"
   ]
  },
  {
   "cell_type": "code",
   "execution_count": 23,
   "id": "affb81cb-0596-4162-a30a-b083bfafaeb8",
   "metadata": {},
   "outputs": [
    {
     "name": "stdout",
     "output_type": "stream",
     "text": [
      "\u001b[1m747/747\u001b[0m \u001b[32m━━━━━━━━━━━━━━━━━━━━\u001b[0m\u001b[37m\u001b[0m \u001b[1m0s\u001b[0m 634us/step - accuracy: 0.8808 - loss: 3.6499\n"
     ]
    },
    {
     "data": {
      "text/plain": [
       "[3.6535773277282715, 0.8775731921195984]"
      ]
     },
     "execution_count": 23,
     "metadata": {},
     "output_type": "execute_result"
    }
   ],
   "source": [
    "topic_model.model.evaluate(topic_model.text_sequences_padded, topic_model.label_sequences)\n"
   ]
  },
  {
   "cell_type": "code",
   "execution_count": 24,
   "id": "05cd24c3-c543-48eb-9090-1aa62b654237",
   "metadata": {
    "scrolled": true
   },
   "outputs": [
    {
     "name": "stdout",
     "output_type": "stream",
     "text": [
      "Normalizing text\n",
      "Tokenizing text\n",
      "Passing text sequences\n",
      "\u001b[1m8/8\u001b[0m \u001b[32m━━━━━━━━━━━━━━━━━━━━\u001b[0m\u001b[37m\u001b[0m \u001b[1m0s\u001b[0m 2ms/step\n"
     ]
    }
   ],
   "source": [
    "y_hat_test = topic_model.predict(X_train.content)"
   ]
  },
  {
   "cell_type": "code",
   "execution_count": 27,
   "id": "43c0601c-6e30-4133-9408-0e5ebb34ac15",
   "metadata": {
    "scrolled": true
   },
   "outputs": [
    {
     "data": {
      "text/html": [
       "<div>\n",
       "<style scoped>\n",
       "    .dataframe tbody tr th:only-of-type {\n",
       "        vertical-align: middle;\n",
       "    }\n",
       "\n",
       "    .dataframe tbody tr th {\n",
       "        vertical-align: top;\n",
       "    }\n",
       "\n",
       "    .dataframe thead th {\n",
       "        text-align: right;\n",
       "    }\n",
       "</style>\n",
       "<table border=\"1\" class=\"dataframe\">\n",
       "  <thead>\n",
       "    <tr style=\"text-align: right;\">\n",
       "      <th></th>\n",
       "      <th>y_test</th>\n",
       "      <th>y_hat_test</th>\n",
       "      <th>review</th>\n",
       "    </tr>\n",
       "  </thead>\n",
       "  <tbody>\n",
       "    <tr>\n",
       "      <th>6</th>\n",
       "      <td>Wallet Security/Integration</td>\n",
       "      <td>Wallet Security/Integration</td>\n",
       "      <td>not listing of pi network and stealing my deposits</td>\n",
       "    </tr>\n",
       "    <tr>\n",
       "      <th>183</th>\n",
       "      <td>Usability/UI/UX</td>\n",
       "      <td>Generic feedback</td>\n",
       "      <td>Unable to use card</td>\n",
       "    </tr>\n",
       "    <tr>\n",
       "      <th>185</th>\n",
       "      <td>Usability/UI/UX</td>\n",
       "      <td>Usability/UI/UX</td>\n",
       "      <td>Well, the app is super slow, but at least it works again since the problematic update a while back. The constant \"must update to continue using the app\" is EXTREMELY annoying. I don't care if i miss 1 or 2 features, i just want to check on my crypto for once without being nagged to update. Now if an update made the app faster or better again, maybe I'd be interested. But nothing changes. This has been posted a long time, so from now on, every time I get nagged to update,this review loses a star.</td>\n",
       "    </tr>\n",
       "    <tr>\n",
       "      <th>146</th>\n",
       "      <td>Wallet Security/Integration</td>\n",
       "      <td>Wallet Security/Integration</td>\n",
       "      <td>I tried to withdraw Cronos to my external wallet but I keep getting error that the wallet address is incorrect. Can you please fix this.</td>\n",
       "    </tr>\n",
       "    <tr>\n",
       "      <th>30</th>\n",
       "      <td>Account Management</td>\n",
       "      <td>Account Management</td>\n",
       "      <td>Horrible. I was with the wallet for quite a few years and I was in the middle of a job and bam... they logged me out of my account then couldn't answer why or help me back I to My account. I would not recommend this bitcoin wallet to anyone its unpredictable one day it's hood next your accounts closed and I still didn't receive Mt funds back. So if anyone can help me with the next step of what I can do please help</td>\n",
       "    </tr>\n",
       "    <tr>\n",
       "      <th>22</th>\n",
       "      <td>Account Management</td>\n",
       "      <td>Account Management</td>\n",
       "      <td>Good evening Bybit Support, I'm reaching out regarding an issue with my account's P2P trading access. Whenever I attempt to trade via P2P, I receive the following message: 'Currently, access to this service is restricted for your account.' I'm unsure of the reason behind this restriction. Could you please assist me in resolving this issue and restoring my P2P trading access? I have done all verification plus proof of address all are successful. Thank you for your prompt attention to this matter.</td>\n",
       "    </tr>\n",
       "    <tr>\n",
       "      <th>254</th>\n",
       "      <td>Generic feedback</td>\n",
       "      <td>Generic feedback</td>\n",
       "      <td>good app reeyal</td>\n",
       "    </tr>\n",
       "    <tr>\n",
       "      <th>56</th>\n",
       "      <td>Educational Resources/Onboarding</td>\n",
       "      <td>Usability/UI/UX</td>\n",
       "      <td>I have never tried it,and start know more about it</td>\n",
       "    </tr>\n",
       "    <tr>\n",
       "      <th>237</th>\n",
       "      <td>Account Management</td>\n",
       "      <td>Account Management</td>\n",
       "      <td>Bybit is restricted on your country why it says like this pls i live in ethipioa</td>\n",
       "    </tr>\n",
       "    <tr>\n",
       "      <th>285</th>\n",
       "      <td>Generic feedback</td>\n",
       "      <td>Generic feedback</td>\n",
       "      <td>good</td>\n",
       "    </tr>\n",
       "    <tr>\n",
       "      <th>126</th>\n",
       "      <td>Customer Support</td>\n",
       "      <td>Customer Support</td>\n",
       "      <td>So firstly I must say support is excellent. Overall, the experience is just ok. App, particularly visa is super slow. WARNING. IF you should choose the visa card. First hand experience, when you lock in your stake, you will get staking rewards. These are a pittance compared to other staking programs.When the bear comes , they will slash those rewards , but since your investment will be down 80 to 90% , you will be trapped. Also visa transactions like hotel deposits take weeks to finalize.</td>\n",
       "    </tr>\n",
       "    <tr>\n",
       "      <th>228</th>\n",
       "      <td>Customer Support</td>\n",
       "      <td>Customer Support</td>\n",
       "      <td>Bybit is one the best exchanger , unfortunately this week I lost USDT through P2P after making deposit I did not receive my coin and I place a complaint yet did not receive it All I can see is my APPEAL IS IN PROCESS, kindly resolve the issue then I rate Bybit 5 ⭐ as I did before</td>\n",
       "    </tr>\n",
       "    <tr>\n",
       "      <th>283</th>\n",
       "      <td>Generic feedback</td>\n",
       "      <td>Generic feedback</td>\n",
       "      <td>outstanding</td>\n",
       "    </tr>\n",
       "    <tr>\n",
       "      <th>255</th>\n",
       "      <td>Generic feedback</td>\n",
       "      <td>Generic feedback</td>\n",
       "      <td>Scam</td>\n",
       "    </tr>\n",
       "    <tr>\n",
       "      <th>158</th>\n",
       "      <td>Account Management</td>\n",
       "      <td>Account Management</td>\n",
       "      <td>Was a good app until a little over a month ago when I tried to setup my fiat wallet. 30 plus days of an internal review and still no resolution. In case you're not familiar, you need fiat to withdraw your money. Asked to transfer my crypto to Coinbase or another platform but I was told I have to wait this long drawn out review of 2 documents with my SSN and License. Maybe I'll be able to with draw in the next 4 years. Just a reply to response to my review. That's who I've been in contact with.</td>\n",
       "    </tr>\n",
       "    <tr>\n",
       "      <th>225</th>\n",
       "      <td>Verification/KYC/AML Processes</td>\n",
       "      <td>Verification/KYC/AML Processes</td>\n",
       "      <td>Doesn't load kyc approved then again rejected 80$ deposited but can't withdraw</td>\n",
       "    </tr>\n",
       "    <tr>\n",
       "      <th>78</th>\n",
       "      <td>Features/Functionality</td>\n",
       "      <td>Features/Functionality</td>\n",
       "      <td>Binance is already a titan in crypto trading, but imagine the next evolution—a built-in broker feature like IQ Option. A seamless fusion of binary options, forex, and CFDs within Binance would redefine trading. The future isn’t waiting. Elevate the game, expand possibilities, and let Binance lead the revolution. It’s time to shape the market, not just follow it [I’ll rate it 5 once I get a response. Also, don’t forget—Binance needs a broker feature!!!!!!!!!]</td>\n",
       "    </tr>\n",
       "    <tr>\n",
       "      <th>66</th>\n",
       "      <td>Account Management</td>\n",
       "      <td>Generic feedback</td>\n",
       "      <td>They dont give me my account</td>\n",
       "    </tr>\n",
       "    <tr>\n",
       "      <th>296</th>\n",
       "      <td>Generic feedback</td>\n",
       "      <td>Generic feedback</td>\n",
       "      <td>Nice</td>\n",
       "    </tr>\n",
       "    <tr>\n",
       "      <th>192</th>\n",
       "      <td>Verification/KYC/AML Processes</td>\n",
       "      <td>Verification/KYC/AML Processes</td>\n",
       "      <td>Why does the email link doesn't work? When i click your verification email it won't work. Every time i have tried to log in, it sends a verification email but it won't work. when I try to click the login now on the link that opens your app and couldn't login. Last 10 days i try but couldn't login</td>\n",
       "    </tr>\n",
       "  </tbody>\n",
       "</table>\n",
       "</div>"
      ],
      "text/plain": [
       "                               y_test                      y_hat_test  \\\n",
       "6         Wallet Security/Integration     Wallet Security/Integration   \n",
       "183                   Usability/UI/UX                Generic feedback   \n",
       "185                   Usability/UI/UX                 Usability/UI/UX   \n",
       "146       Wallet Security/Integration     Wallet Security/Integration   \n",
       "30                 Account Management              Account Management   \n",
       "22                 Account Management              Account Management   \n",
       "254                  Generic feedback                Generic feedback   \n",
       "56   Educational Resources/Onboarding                 Usability/UI/UX   \n",
       "237                Account Management              Account Management   \n",
       "285                  Generic feedback                Generic feedback   \n",
       "126                  Customer Support                Customer Support   \n",
       "228                  Customer Support                Customer Support   \n",
       "283                  Generic feedback                Generic feedback   \n",
       "255                  Generic feedback                Generic feedback   \n",
       "158                Account Management              Account Management   \n",
       "225    Verification/KYC/AML Processes  Verification/KYC/AML Processes   \n",
       "78             Features/Functionality          Features/Functionality   \n",
       "66                 Account Management                Generic feedback   \n",
       "296                  Generic feedback                Generic feedback   \n",
       "192    Verification/KYC/AML Processes  Verification/KYC/AML Processes   \n",
       "\n",
       "                                                                                                                                                                                                                                                                                                                                                                                                                                                                                                                   review  \n",
       "6                                                                                                                                                                                                                                                                                                                                                                                                                                                                      not listing of pi network and stealing my deposits  \n",
       "183                                                                                                                                                                                                                                                                                                                                                                                                                                                                                                    Unable to use card  \n",
       "185  Well, the app is super slow, but at least it works again since the problematic update a while back. The constant \"must update to continue using the app\" is EXTREMELY annoying. I don't care if i miss 1 or 2 features, i just want to check on my crypto for once without being nagged to update. Now if an update made the app faster or better again, maybe I'd be interested. But nothing changes. This has been posted a long time, so from now on, every time I get nagged to update,this review loses a star.  \n",
       "146                                                                                                                                                                                                                                                                                                                                                                              I tried to withdraw Cronos to my external wallet but I keep getting error that the wallet address is incorrect. Can you please fix this.  \n",
       "30                                                                                      Horrible. I was with the wallet for quite a few years and I was in the middle of a job and bam... they logged me out of my account then couldn't answer why or help me back I to My account. I would not recommend this bitcoin wallet to anyone its unpredictable one day it's hood next your accounts closed and I still didn't receive Mt funds back. So if anyone can help me with the next step of what I can do please help  \n",
       "22   Good evening Bybit Support, I'm reaching out regarding an issue with my account's P2P trading access. Whenever I attempt to trade via P2P, I receive the following message: 'Currently, access to this service is restricted for your account.' I'm unsure of the reason behind this restriction. Could you please assist me in resolving this issue and restoring my P2P trading access? I have done all verification plus proof of address all are successful. Thank you for your prompt attention to this matter.  \n",
       "254                                                                                                                                                                                                                                                                                                                                                                                                                                                                                                       good app reeyal  \n",
       "56                                                                                                                                                                                                                                                                                                                                                                                                                                                                     I have never tried it,and start know more about it  \n",
       "237                                                                                                                                                                                                                                                                                                                                                                                                                                      Bybit is restricted on your country why it says like this pls i live in ethipioa  \n",
       "285                                                                                                                                                                                                                                                                                                                                                                                                                                                                                                                  good  \n",
       "126         So firstly I must say support is excellent. Overall, the experience is just ok. App, particularly visa is super slow. WARNING. IF you should choose the visa card. First hand experience, when you lock in your stake, you will get staking rewards. These are a pittance compared to other staking programs.When the bear comes , they will slash those rewards , but since your investment will be down 80 to 90% , you will be trapped. Also visa transactions like hotel deposits take weeks to finalize.  \n",
       "228                                                                                                                                                                                                                              Bybit is one the best exchanger , unfortunately this week I lost USDT through P2P after making deposit I did not receive my coin and I place a complaint yet did not receive it All I can see is my APPEAL IS IN PROCESS, kindly resolve the issue then I rate Bybit 5 ⭐ as I did before  \n",
       "283                                                                                                                                                                                                                                                                                                                                                                                                                                                                                                           outstanding  \n",
       "255                                                                                                                                                                                                                                                                                                                                                                                                                                                                                                                  Scam  \n",
       "158    Was a good app until a little over a month ago when I tried to setup my fiat wallet. 30 plus days of an internal review and still no resolution. In case you're not familiar, you need fiat to withdraw your money. Asked to transfer my crypto to Coinbase or another platform but I was told I have to wait this long drawn out review of 2 documents with my SSN and License. Maybe I'll be able to with draw in the next 4 years. Just a reply to response to my review. That's who I've been in contact with.  \n",
       "225                                                                                                                                                                                                                                                                                                                                                                                                                                        Doesn't load kyc approved then again rejected 80$ deposited but can't withdraw  \n",
       "78                                         Binance is already a titan in crypto trading, but imagine the next evolution—a built-in broker feature like IQ Option. A seamless fusion of binary options, forex, and CFDs within Binance would redefine trading. The future isn’t waiting. Elevate the game, expand possibilities, and let Binance lead the revolution. It’s time to shape the market, not just follow it [I’ll rate it 5 once I get a response. Also, don’t forget—Binance needs a broker feature!!!!!!!!!]  \n",
       "66                                                                                                                                                                                                                                                                                                                                                                                                                                                                                           They dont give me my account  \n",
       "296                                                                                                                                                                                                                                                                                                                                                                                                                                                                                                                  Nice  \n",
       "192                                                                                                                                                                                                             Why does the email link doesn't work? When i click your verification email it won't work. Every time i have tried to log in, it sends a verification email but it won't work. when I try to click the login now on the link that opens your app and couldn't login. Last 10 days i try but couldn't login  "
      ]
     },
     "execution_count": 27,
     "metadata": {},
     "output_type": "execute_result"
    }
   ],
   "source": [
    "pd.DataFrame({\"y_test\":y_train, \"y_hat_test\":y_hat_test, \"review\": X_train.content}).head(20)"
   ]
  },
  {
   "cell_type": "code",
   "execution_count": 50,
   "id": "85e9471d-1e0c-44b8-b84e-cf2e902f3b69",
   "metadata": {},
   "outputs": [
    {
     "name": "stdout",
     "output_type": "stream",
     "text": [
      "Normalizing text\n",
      "Tokenizing text\n",
      "Passing text sequences\n",
      "\u001b[1m1/1\u001b[0m \u001b[32m━━━━━━━━━━━━━━━━━━━━\u001b[0m\u001b[37m\u001b[0m \u001b[1m0s\u001b[0m 16ms/step\n"
     ]
    },
    {
     "data": {
      "text/plain": [
       "array(['Customer Support', 'Generic feedback'], dtype=object)"
      ]
     },
     "execution_count": 50,
     "metadata": {},
     "output_type": "execute_result"
    }
   ],
   "source": [
    "topic_model.predict([\"Bybit Bybit Bybit Bybit Bybit Great Bybit Bybit Bybit \",\"o\"])"
   ]
  },
  {
   "cell_type": "code",
   "execution_count": 18,
   "id": "bf8d912a-eb4d-44e3-9b77-0a16626b9f6f",
   "metadata": {},
   "outputs": [
    {
     "data": {
      "text/plain": [
       "np.float64(0.18333333333333332)"
      ]
     },
     "execution_count": 18,
     "metadata": {},
     "output_type": "execute_result"
    }
   ],
   "source": [
    "(y_test == y_hat_test).mean()"
   ]
  },
  {
   "cell_type": "code",
   "execution_count": 60,
   "id": "4a3d73e2-563e-45ea-b1bf-b451fcb8fe42",
   "metadata": {},
   "outputs": [
    {
     "data": {
      "text/plain": [
       "60"
      ]
     },
     "execution_count": 60,
     "metadata": {},
     "output_type": "execute_result"
    }
   ],
   "source": [
    "len(X_test)"
   ]
  },
  {
   "cell_type": "code",
   "execution_count": 61,
   "id": "7a972a5d-47b8-4e99-a935-87bf5ad8bbd1",
   "metadata": {},
   "outputs": [
    {
     "data": {
      "text/plain": [
       "60"
      ]
     },
     "execution_count": 61,
     "metadata": {},
     "output_type": "execute_result"
    }
   ],
   "source": [
    "len(y_test)"
   ]
  },
  {
   "cell_type": "code",
   "execution_count": 62,
   "id": "6d890cf9-b5c1-4bc8-8eda-1b3a54a85b67",
   "metadata": {},
   "outputs": [
    {
     "data": {
      "text/plain": [
       "23900"
      ]
     },
     "execution_count": 62,
     "metadata": {},
     "output_type": "execute_result"
    }
   ],
   "source": [
    "len(topic_model.y_train)"
   ]
  },
  {
   "cell_type": "code",
   "execution_count": 67,
   "id": "d4c48b3d-be08-44ba-b790-e56b23a17911",
   "metadata": {},
   "outputs": [],
   "source": [
    "model = keras.Sequential([\n",
    "layers.Dense(num_classes*20, \n",
    "             #kernel_regularizer=regularizers.l1_l2(l1=0.001, l2=0.001), \n",
    "             #kernel_regularizer=regularizers.l2(0.002), \n",
    "             activation=\"relu\"),\n",
    "    \n",
    "    layers.Dropout(0.3),\n",
    "layers.Dense(num_classes*20, \n",
    "             #kernel_regularizer=regularizers.l1_l2(l1=0.001, l2=0.001), \n",
    "             #kernel_regularizer=regularizers.l2(0.002), \n",
    "             activation=\"relu\"),\n",
    "    \n",
    "    layers.Dropout(0.3),\n",
    "layers.Dense(num_classes*20, \n",
    "             #kernel_regularizer=regularizers.l1_l2(l1=0.001, l2=0.001), \n",
    "             #kernel_regularizer=regularizers.l2(0.002), \n",
    "             activation=\"relu\"),\n",
    "    \n",
    "    layers.Dropout(0.3),\n",
    "layers.Dense(num_classes, activation=\"softmax\")\n",
    "])"
   ]
  },
  {
   "cell_type": "markdown",
   "id": "048d35da-aba4-4e78-be99-39ae4e61d1c6",
   "metadata": {},
   "source": [
    "## Compile the model"
   ]
  },
  {
   "cell_type": "code",
   "execution_count": 68,
   "id": "1ccbabee-ef63-4f5c-9486-0eb3088db089",
   "metadata": {},
   "outputs": [],
   "source": [
    "model.compile(optimizer=\"rmsprop\",\n",
    "loss=\"sparse_categorical_crossentropy\",\n",
    "metrics=[\"accuracy\"])"
   ]
  },
  {
   "cell_type": "code",
   "execution_count": 69,
   "id": "bb19a3e3-25a1-4e35-a602-1c346c90d0c7",
   "metadata": {},
   "outputs": [
    {
     "data": {
      "text/plain": [
       "239"
      ]
     },
     "execution_count": 69,
     "metadata": {},
     "output_type": "execute_result"
    }
   ],
   "source": [
    "len(train_padded)"
   ]
  },
  {
   "cell_type": "code",
   "execution_count": 70,
   "id": "29965fdd-bb19-453f-8352-0de75fdd1987",
   "metadata": {},
   "outputs": [],
   "source": [
    "#validation set\n",
    "x_val = train_padded[:100]\n",
    "partial_x_train = train_padded[100:]\n",
    "y_val = y_train[:100]\n",
    "partial_y_train = y_train[100:]"
   ]
  },
  {
   "cell_type": "code",
   "execution_count": 71,
   "id": "551ef66c-eddd-4b9f-9d62-8f27c9e16a52",
   "metadata": {},
   "outputs": [
    {
     "data": {
      "text/plain": [
       "(239, 255)"
      ]
     },
     "execution_count": 71,
     "metadata": {},
     "output_type": "execute_result"
    }
   ],
   "source": [
    "train_padded.shape"
   ]
  },
  {
   "cell_type": "code",
   "execution_count": 72,
   "id": "24bdd27b-0adf-4d7d-89ea-9badacd1e767",
   "metadata": {},
   "outputs": [
    {
     "data": {
      "text/plain": [
       "(239,)"
      ]
     },
     "execution_count": 72,
     "metadata": {},
     "output_type": "execute_result"
    }
   ],
   "source": [
    "y_train.shape"
   ]
  },
  {
   "cell_type": "code",
   "execution_count": 73,
   "id": "7ba5db3c-cbd0-4b33-99f8-2bacd4d32c71",
   "metadata": {},
   "outputs": [
    {
     "name": "stdout",
     "output_type": "stream",
     "text": [
      "Epoch 1/20\n",
      "\u001b[1m1/1\u001b[0m \u001b[32m━━━━━━━━━━━━━━━━━━━━\u001b[0m\u001b[37m\u001b[0m \u001b[1m0s\u001b[0m 471ms/step - accuracy: 0.0563 - loss: 123.0191 - val_accuracy: 0.1190 - val_loss: 89.7948\n",
      "Epoch 2/20\n",
      "\u001b[1m1/1\u001b[0m \u001b[32m━━━━━━━━━━━━━━━━━━━━\u001b[0m\u001b[37m\u001b[0m \u001b[1m0s\u001b[0m 38ms/step - accuracy: 0.1690 - loss: 88.3972 - val_accuracy: 0.2560 - val_loss: 55.4434\n",
      "Epoch 3/20\n",
      "\u001b[1m1/1\u001b[0m \u001b[32m━━━━━━━━━━━━━━━━━━━━\u001b[0m\u001b[37m\u001b[0m \u001b[1m0s\u001b[0m 39ms/step - accuracy: 0.1831 - loss: 65.4604 - val_accuracy: 0.0893 - val_loss: 52.9045\n",
      "Epoch 4/20\n",
      "\u001b[1m1/1\u001b[0m \u001b[32m━━━━━━━━━━━━━━━━━━━━\u001b[0m\u001b[37m\u001b[0m \u001b[1m0s\u001b[0m 33ms/step - accuracy: 0.2113 - loss: 60.7509 - val_accuracy: 0.2321 - val_loss: 49.6268\n",
      "Epoch 5/20\n",
      "\u001b[1m1/1\u001b[0m \u001b[32m━━━━━━━━━━━━━━━━━━━━\u001b[0m\u001b[37m\u001b[0m \u001b[1m0s\u001b[0m 34ms/step - accuracy: 0.2535 - loss: 50.1508 - val_accuracy: 0.2321 - val_loss: 48.6213\n",
      "Epoch 6/20\n",
      "\u001b[1m1/1\u001b[0m \u001b[32m━━━━━━━━━━━━━━━━━━━━\u001b[0m\u001b[37m\u001b[0m \u001b[1m0s\u001b[0m 33ms/step - accuracy: 0.2113 - loss: 41.2106 - val_accuracy: 0.2321 - val_loss: 46.5109\n",
      "Epoch 7/20\n",
      "\u001b[1m1/1\u001b[0m \u001b[32m━━━━━━━━━━━━━━━━━━━━\u001b[0m\u001b[37m\u001b[0m \u001b[1m0s\u001b[0m 35ms/step - accuracy: 0.2817 - loss: 45.0079 - val_accuracy: 0.2143 - val_loss: 44.8630\n",
      "Epoch 8/20\n",
      "\u001b[1m1/1\u001b[0m \u001b[32m━━━━━━━━━━━━━━━━━━━━\u001b[0m\u001b[37m\u001b[0m \u001b[1m0s\u001b[0m 35ms/step - accuracy: 0.3944 - loss: 29.3997 - val_accuracy: 0.2083 - val_loss: 49.4194\n",
      "Epoch 9/20\n",
      "\u001b[1m1/1\u001b[0m \u001b[32m━━━━━━━━━━━━━━━━━━━━\u001b[0m\u001b[37m\u001b[0m \u001b[1m0s\u001b[0m 35ms/step - accuracy: 0.3099 - loss: 26.8584 - val_accuracy: 0.2500 - val_loss: 44.2216\n",
      "Epoch 10/20\n",
      "\u001b[1m1/1\u001b[0m \u001b[32m━━━━━━━━━━━━━━━━━━━━\u001b[0m\u001b[37m\u001b[0m \u001b[1m0s\u001b[0m 34ms/step - accuracy: 0.3099 - loss: 33.2793 - val_accuracy: 0.2321 - val_loss: 41.2685\n",
      "Epoch 11/20\n",
      "\u001b[1m1/1\u001b[0m \u001b[32m━━━━━━━━━━━━━━━━━━━━\u001b[0m\u001b[37m\u001b[0m \u001b[1m0s\u001b[0m 33ms/step - accuracy: 0.3662 - loss: 29.7851 - val_accuracy: 0.2321 - val_loss: 44.2022\n",
      "Epoch 12/20\n",
      "\u001b[1m1/1\u001b[0m \u001b[32m━━━━━━━━━━━━━━━━━━━━\u001b[0m\u001b[37m\u001b[0m \u001b[1m0s\u001b[0m 33ms/step - accuracy: 0.3944 - loss: 27.6970 - val_accuracy: 0.2202 - val_loss: 42.8692\n",
      "Epoch 13/20\n",
      "\u001b[1m1/1\u001b[0m \u001b[32m━━━━━━━━━━━━━━━━━━━━\u001b[0m\u001b[37m\u001b[0m \u001b[1m0s\u001b[0m 37ms/step - accuracy: 0.3521 - loss: 22.3293 - val_accuracy: 0.2083 - val_loss: 46.8420\n",
      "Epoch 14/20\n",
      "\u001b[1m1/1\u001b[0m \u001b[32m━━━━━━━━━━━━━━━━━━━━\u001b[0m\u001b[37m\u001b[0m \u001b[1m0s\u001b[0m 36ms/step - accuracy: 0.3944 - loss: 19.9738 - val_accuracy: 0.2202 - val_loss: 44.8304\n",
      "Epoch 15/20\n",
      "\u001b[1m1/1\u001b[0m \u001b[32m━━━━━━━━━━━━━━━━━━━━\u001b[0m\u001b[37m\u001b[0m \u001b[1m0s\u001b[0m 35ms/step - accuracy: 0.5070 - loss: 16.6904 - val_accuracy: 0.2083 - val_loss: 42.1960\n",
      "Epoch 16/20\n",
      "\u001b[1m1/1\u001b[0m \u001b[32m━━━━━━━━━━━━━━━━━━━━\u001b[0m\u001b[37m\u001b[0m \u001b[1m0s\u001b[0m 36ms/step - accuracy: 0.4789 - loss: 15.6082 - val_accuracy: 0.1964 - val_loss: 42.8645\n",
      "Epoch 17/20\n",
      "\u001b[1m1/1\u001b[0m \u001b[32m━━━━━━━━━━━━━━━━━━━━\u001b[0m\u001b[37m\u001b[0m \u001b[1m0s\u001b[0m 203ms/step - accuracy: 0.5493 - loss: 11.8882 - val_accuracy: 0.2321 - val_loss: 41.3336\n",
      "Epoch 18/20\n",
      "\u001b[1m1/1\u001b[0m \u001b[32m━━━━━━━━━━━━━━━━━━━━\u001b[0m\u001b[37m\u001b[0m \u001b[1m0s\u001b[0m 147ms/step - accuracy: 0.4648 - loss: 14.6363 - val_accuracy: 0.2262 - val_loss: 41.3618\n",
      "Epoch 19/20\n",
      "\u001b[1m1/1\u001b[0m \u001b[32m━━━━━━━━━━━━━━━━━━━━\u001b[0m\u001b[37m\u001b[0m \u001b[1m0s\u001b[0m 81ms/step - accuracy: 0.5634 - loss: 11.8365 - val_accuracy: 0.2500 - val_loss: 40.4207\n",
      "Epoch 20/20\n",
      "\u001b[1m1/1\u001b[0m \u001b[32m━━━━━━━━━━━━━━━━━━━━\u001b[0m\u001b[37m\u001b[0m \u001b[1m0s\u001b[0m 56ms/step - accuracy: 0.5493 - loss: 11.1630 - val_accuracy: 0.2321 - val_loss: 41.4155\n"
     ]
    }
   ],
   "source": [
    "history = model.fit(train_padded,\n",
    "    y_train,\n",
    "    epochs=20,\n",
    "    batch_size=512,\n",
    "    validation_split=0.7)"
   ]
  },
  {
   "cell_type": "code",
   "execution_count": 74,
   "id": "b547001f-a17d-46be-8c8a-092f5ab12182",
   "metadata": {},
   "outputs": [],
   "source": [
    "#!pip install matplotlib"
   ]
  },
  {
   "cell_type": "code",
   "execution_count": 75,
   "id": "c7aa4221-41a7-4cfb-bbd5-a5deb0aa2589",
   "metadata": {},
   "outputs": [],
   "source": [
    "import matplotlib.pyplot as plt"
   ]
  },
  {
   "cell_type": "code",
   "execution_count": 76,
   "id": "a30f4513-07c6-4b19-a616-5aa4b61a8324",
   "metadata": {},
   "outputs": [
    {
     "data": {
      "image/png": "[encoded data removed]",
      "text/plain": [
       "<Figure size 640x480 with 1 Axes>"
      ]
     },
     "metadata": {},
     "output_type": "display_data"
    }
   ],
   "source": [
    "#plotting the training and validation loss\n",
    "loss = history.history[\"loss\"]\n",
    "val_loss = history.history[\"val_loss\"]\n",
    "epochs = range(1, len(loss) + 1)\n",
    "plt.plot(epochs, loss, \"bo\", label=\"Training loss\")\n",
    "plt.plot(epochs, val_loss, \"b\", label=\"Validation loss\")\n",
    "plt.title(\"Training and validation loss\")\n",
    "plt.xlabel(\"Epochs\")\n",
    "plt.ylabel(\"Loss\")\n",
    "plt.legend()\n",
    "plt.show()"
   ]
  },
  {
   "cell_type": "code",
   "execution_count": 77,
   "id": "77ee161d-3b8e-4cf4-affc-3968869a1e5c",
   "metadata": {
    "scrolled": true
   },
   "outputs": [
    {
     "data": {
      "text/plain": [
       "dict_keys(['accuracy', 'loss', 'val_accuracy', 'val_loss'])"
      ]
     },
     "execution_count": 77,
     "metadata": {},
     "output_type": "execute_result"
    }
   ],
   "source": [
    "history.history.keys()"
   ]
  },
  {
   "cell_type": "code",
   "execution_count": 78,
   "id": "4115eead-7120-4509-884f-2d00629d610a",
   "metadata": {},
   "outputs": [],
   "source": [
    "train_metric = 'accuracy'\n",
    "val_metric = 'val_accuracy'"
   ]
  },
  {
   "cell_type": "code",
   "execution_count": 79,
   "id": "2d2d6edd-a54b-4b33-8565-a029cd6ac5e4",
   "metadata": {},
   "outputs": [
    {
     "data": {
      "image/png": "[encoded data removed]",
      "text/plain": [
       "<Figure size 640x480 with 1 Axes>"
      ]
     },
     "metadata": {},
     "output_type": "display_data"
    }
   ],
   "source": [
    "#plotting the training and validation accuracy\n",
    "plt.clf()\n",
    "acc = history.history[train_metric]\n",
    "val_acc = history.history[val_metric]\n",
    "plt.plot(epochs, acc, \"bo\", label=\"Training accuracy\")\n",
    "plt.plot(epochs, val_acc, \"b\", label=\"Validation accuracy\")\n",
    "plt.title(\"Training and validation accuracy\")\n",
    "plt.xlabel(\"Epochs\")\n",
    "plt.ylabel(\"Accuracy\")\n",
    "plt.legend()\n",
    "plt.show()"
   ]
  },
  {
   "cell_type": "code",
   "execution_count": null,
   "id": "6f4ef81d-7df8-4f28-887e-2e70bd9a4612",
   "metadata": {},
   "outputs": [],
   "source": []
  },
  {
   "cell_type": "code",
   "execution_count": 80,
   "id": "7c018371-4b16-49eb-a153-701a8761c0cc",
   "metadata": {},
   "outputs": [
    {
     "name": "stdout",
     "output_type": "stream",
     "text": [
      "\u001b[1m2/2\u001b[0m \u001b[32m━━━━━━━━━━━━━━━━━━━━\u001b[0m\u001b[37m\u001b[0m \u001b[1m0s\u001b[0m 13ms/step - accuracy: 0.1847 - loss: 28.6919\n"
     ]
    },
    {
     "data": {
      "text/plain": [
       "[27.988670349121094, 0.18333333730697632]"
      ]
     },
     "execution_count": 80,
     "metadata": {},
     "output_type": "execute_result"
    }
   ],
   "source": [
    "model.evaluate(test_padded, y_test)"
   ]
  },
  {
   "cell_type": "code",
   "execution_count": 81,
   "id": "518f9bae-6b76-478c-9745-3450b1159990",
   "metadata": {},
   "outputs": [
    {
     "name": "stdout",
     "output_type": "stream",
     "text": [
      "\u001b[1m2/2\u001b[0m \u001b[32m━━━━━━━━━━━━━━━━━━━━\u001b[0m\u001b[37m\u001b[0m \u001b[1m0s\u001b[0m 24ms/step\n"
     ]
    }
   ],
   "source": [
    "predictions = model.predict(test_padded)"
   ]
  },
  {
   "cell_type": "code",
   "execution_count": 303,
   "id": "4d9d91c4-d085-4b17-bfc9-2055ed0a1a16",
   "metadata": {},
   "outputs": [],
   "source": [
    "pred_list = []\n",
    "for p in predictions:\n",
    "   pred_list.append(p.argmax())"
   ]
  },
  {
   "cell_type": "code",
   "execution_count": 304,
   "id": "079e4a81-098c-464c-90c8-9b15ae15cef1",
   "metadata": {},
   "outputs": [],
   "source": [
    "from sklearn.metrics import f1_score"
   ]
  },
  {
   "cell_type": "code",
   "execution_count": 305,
   "id": "596ac104-8f40-4417-a0a7-1f85c83dfe63",
   "metadata": {},
   "outputs": [
    {
     "data": {
      "text/plain": [
       "0.2711864406779661"
      ]
     },
     "execution_count": 305,
     "metadata": {},
     "output_type": "execute_result"
    }
   ],
   "source": [
    "f1_score(y_test, pred_list, average='micro')"
   ]
  },
  {
   "cell_type": "code",
   "execution_count": 307,
   "id": "753df257-68a6-4b37-80d1-d8db636ab49a",
   "metadata": {},
   "outputs": [],
   "source": [
    "qa_df = pd.DataFrame({\"text\":X_test[keep].content.to_numpy(), \n",
    "              \"true_value\":le.inverse_transform(y_test), \n",
    "              \"predicted_value\": le.inverse_transform(pred_list)})"
   ]
  },
  {
   "cell_type": "code",
   "execution_count": 308,
   "id": "6620af8c-2e8a-424e-a14f-3632fa9bbcd5",
   "metadata": {
    "scrolled": true
   },
   "outputs": [
    {
     "name": "stdout",
     "output_type": "stream",
     "text": [
      "1 star 🌟 till I've tried and tested the app myself\n",
      "True value: Generic feedback\n",
      "Predicted value: Features/Functionality\n",
      "***********************\n",
      "good\n",
      "True value: Generic feedback\n",
      "Predicted value: Generic feedback\n",
      "***********************\n",
      "This is the worst user friendly app. They claim there is no phone number to actually speak to someone. The people on the chat don't understand most issues, so you constantly have to repeat yourself. This app is incredibly bad with the lack of customer support especially.\n",
      "True value: Customer Support\n",
      "Predicted value: Customer Support\n",
      "***********************\n",
      "the bybt app is cool, but you guys need 2 upgrade on something, why wud a seller hold a buyer's transaction witout sending money, the buyer wud marked the transaction as sucesful without sendn the money, bcus of misunderstanding, that's not professional, cus u guys would @ the end tell the person 2 sort it out with the seller, knowing fully wel is not ethics, you guys shud upgrade knowing wen someone's isn't intentionally sending the money and punish him/her. what if the buyer is on emergency.\n",
      "True value: Customer Support\n",
      "Predicted value: Features/Functionality\n",
      "***********************\n",
      "ITS A SCAM! They hide a way to get your money out. It's a whole process just to sell your crypto. Anytime I buy crypto it falls even when I wait hours looking at it drop every 5 mins. I've basically lost all of it because I can't get the rest out. Never again. EDIT: I got ahold of support and it's done nothing. There's no withdraw button and why do I have to link a bank account to get money back when they can take it ight off my debit card????\n",
      "True value: Account Management\n",
      "Predicted value: Account Management\n",
      "***********************\n",
      "nice 👍\n",
      "True value: Generic feedback\n",
      "Predicted value: Generic feedback\n",
      "***********************\n",
      "I was restricted without any tangible reasons from p2p advertiser , very annoying..,\n",
      "True value: Account Management\n",
      "Predicted value: Features/Functionality\n",
      "***********************\n",
      "hello, if you are reading this...I think u should avoid trading on bybit because...u will be doom to loss your capital gradually. Am talking from experience... including fees and they don't allow you to transfer the total of your initial capital from each trades between each crypto u trade on... leaving behind some little money and causing you to struggle to make profits while you trade. Avoid this app...if you know what is good for you.\n",
      "True value: Transaction Fees/Speed\n",
      "Predicted value: Reliability/Stability\n",
      "***********************\n",
      "I haven't received any $100 while signed up 3 years ago. Why?😂😂😂😂\n",
      "True value: Generic feedback\n",
      "Predicted value: Usability/UI/UX\n",
      "***********************\n",
      "This application has a poor system, as my account was immediately suspended when my card was linked, and it was not answered again. If my request is resumed, please be careful. The application is a fraud. If you deposit any money in it, you will lose it.\n",
      "True value: Account Management\n",
      "Predicted value: Account Management\n",
      "***********************\n",
      "Hello sir please open solvBTC withdraw in exchangers my few money are stuck mistakly kindly open withdrawals... For btc network i did but my apeal was rejected\n",
      "True value: Account Management\n",
      "Predicted value: Reliability/Stability\n",
      "***********************\n",
      "I have a pending asset for a while and it is saying frozen, I need it release please\n",
      "True value: Account Management\n",
      "Predicted value: Customer Support\n",
      "***********************\n",
      "I don't understand bybit all the uprise in btc and other crypto currencies don't affect bybit that's really bad you see other exchange binace remitano you see a good change in it when it comes to bybit there is little or no difference at all you guys should really work on this cause most users are starting to notice\n",
      "True value: Reliability/Stability\n",
      "Predicted value: Account Management\n",
      "***********************\n",
      "Very bad customer service,,,, this is not expected from them.Bitget offers very good customer service.\n",
      "True value: Customer Support\n",
      "Predicted value: Usability/UI/UX\n",
      "***********************\n",
      "Why is the P2P section not working again. Can't trade on the P2P section.\n",
      "True value: Reliability/Stability\n",
      "Predicted value: Features/Functionality\n",
      "***********************\n",
      "There is no signup bonus, they just trick you into depositing money, and after that you will know it's some fees rebate nonsense, it's not even that type of bonus that other brokers give, pathetic. I will write everywhere about this P. S. Same copy paste response for everyone.\n",
      "True value: Transaction Fees/Speed\n",
      "Predicted value: Usability/UI/UX\n",
      "***********************\n",
      "The app is buggy, features stop working randomly. It's too complicated, there are too many unnecessary features. And most important, very high fees/commissions. I don't feel confident my money is in safe hands when using this app. I can't recommend it.\n",
      "True value: Reliability/Stability\n",
      "Predicted value: Usability/UI/UX\n",
      "***********************\n",
      "This financial \"world's premiere\" app can export transaction history only as CSV... and in my case even that one is EMPTY! If you need the equivalent of a bank statement... bad luck! The only thing you'll get is that CSV and the suggestion from the \"support specialists\" to \"use an app to convert CSV to PDF\"... then close the chat in my face repeatedly! Judge by yourselves but from my point of view even one star is too much!\n",
      "True value: Account Management\n",
      "Predicted value: Account Management\n",
      "***********************\n",
      "Waiting over a month for them to unlock my account now. Customer service is absolutely dreadful. I already reached out to chat numerous times and it's a waste of my time!\n",
      "True value: Customer Support\n",
      "Predicted value: Reliability/Stability\n",
      "***********************\n",
      "It's not downloading\n",
      "True value: Reliability/Stability\n",
      "Predicted value: Generic feedback\n",
      "***********************\n",
      "Horrible app. Slow and doesn't work properly. My credit card was declined and when I called my bank why my credit card wasn't working apparently crypto. Com has been trying to charge my credit card. Also, half of the time the app doesnt work at it tell me to contact customer service through the app. But I can't contact customer service since the app doesn't work. There are so many other crypto apps that works better and have better fees. Don't bother with this one. Scams and no help.\n",
      "True value: Reliability/Stability\n",
      "Predicted value: Reliability/Stability\n",
      "***********************\n",
      "Y'all, I CANNOT stress enough how irritating it is that it stopped opening up to my home page and instead scrolls straight to sports now. I have zero investments in sports, so stop taking me there.\n",
      "True value: Usability/UI/UX\n",
      "Predicted value: Account Management\n",
      "***********************\n",
      "It truly is an all in one crypto app. I use it a dozen times a day.\n",
      "True value: Features/Functionality\n",
      "Predicted value: Reliability/Stability\n",
      "***********************\n",
      "Astronomical fees and exchange rates. False value display for owned coins. Stay away.\n",
      "True value: Transaction Fees/Speed\n",
      "Predicted value: Features/Functionality\n",
      "***********************\n",
      "Today uninstall my Binance app, and i am shifting in bitget, for trade on pi\n",
      "True value: Generic feedback\n",
      "Predicted value: Generic feedback\n",
      "***********************\n",
      "good app\n",
      "True value: Generic feedback\n",
      "Predicted value: Generic feedback\n",
      "***********************\n",
      "Hadn't been on in a few years, well they made transactions for me. Crooks tbh, not even so much as an email notification. I'm good waste of money.\n",
      "True value: Reliability/Stability\n",
      "Predicted value: Features/Functionality\n",
      "***********************\n",
      "Good luck getting any customer support. THE WORST APP EVER. 3 MONTHS TO GET MY CARD UNFROZEN, AND THEY STILL JERK ME AROUND AND WITH ROBOTIC ANSWER THAT MEANS NOTHING!!\n",
      "True value: Customer Support\n",
      "Predicted value: Generic feedback\n",
      "***********************\n",
      "Needs to list Pi\n",
      "True value: Features/Functionality\n",
      "Predicted value: Features/Functionality\n",
      "***********************\n",
      "Binance should list Pi.\n",
      "True value: Features/Functionality\n",
      "Predicted value: Generic feedback\n",
      "***********************\n",
      "P2p trading is great but when it comes to future trading expect the worse. Like you can enter trade with a 10 dollars Stoploss and you get liquidated 50 percent or less for price reach your initial Stoploss. I thought it was me the leverage i didn't adjust properly but then i got multiple experiences. Be careful\n",
      "True value: Reliability/Stability\n",
      "Predicted value: Account Management\n",
      "***********************\n",
      "really easy to use\n",
      "True value: Usability/UI/UX\n",
      "Predicted value: Generic feedback\n",
      "***********************\n",
      "App no responding sometimes like if it had a connection error but every other app on my phone is working fine.\n",
      "True value: Reliability/Stability\n",
      "Predicted value: Customer Support\n",
      "***********************\n",
      "Can't pull out your money if it's less than 100. So in other words these bums will indefinitely hold my money. Small amount but still.\n",
      "True value: Account Management\n",
      "Predicted value: Generic feedback\n",
      "***********************\n",
      "Hanging my phone and not compatible with low android\n",
      "True value: Usability/UI/UX\n",
      "Predicted value: Generic feedback\n",
      "***********************\n",
      "App no responding sometimes like if it had a connection error but every other app on my phone is working fine.\n",
      "True value: Reliability/Stability\n",
      "Predicted value: Customer Support\n",
      "***********************\n",
      "The app is very slow to respond.\n",
      "True value: Reliability/Stability\n",
      "Predicted value: Customer Support\n",
      "***********************\n",
      "Same as the other users here. I'm sent a code then I use it and tells me it's the wrong code....???? I'd love to use this exchange system,if I could actually get into it.\n",
      "True value: Verification/KYC/AML Processes\n",
      "Predicted value: Features/Functionality\n",
      "***********************\n",
      "P2P transactions are full of scammers. Five out of ten transactions are fraudulent and they are causing us to lose money by claiming that we paid without paying.\n",
      "True value: Fraud\n",
      "Predicted value: Usability/UI/UX\n",
      "***********************\n",
      "11% fee to sell is to much otherwise everything is ok with the transfer\n",
      "True value: Transaction Fees/Speed\n",
      "Predicted value: Security\n",
      "***********************\n",
      "Binance has listed many waste coins on its exchange. But in the whole world which right now Pi coin The most famous and comes at number 11 in the world, it did not listed Because of this, no longer to work on the binance exchange . In our eyes, Binance pi coin Is incomplete without\n",
      "True value: Features/Functionality\n",
      "Predicted value: Features/Functionality\n",
      "***********************\n",
      "Very cheap style is of this Binance which compels the net user to bother to cee this in tricky repeatable !\n",
      "True value: Generic feedback\n",
      "Predicted value: Reliability/Stability\n",
      "***********************\n",
      "I am not ok providing bio metrics, I greatly appreciate the security but this has never been necessary.\n",
      "True value: Verification/KYC/AML Processes\n",
      "Predicted value: Reliability/Stability\n",
      "***********************\n",
      "Always the same problem when dealing p2p .... Some operations you can't cancel the order ... And when your messages are not sent you can't do anything to retry sending... It only wasn't my time for nothing\n",
      "True value: Reliability/Stability\n",
      "Predicted value: Account Management\n",
      "***********************\n",
      "It's handling of pi does not sit well with me\n",
      "True value: Features/Functionality\n",
      "Predicted value: Account Management\n",
      "***********************\n",
      "Pi not listed 👎👎👎👎👎👎👎\n",
      "True value: Features/Functionality\n",
      "Predicted value: Generic feedback\n",
      "***********************\n",
      "good\n",
      "True value: Generic feedback\n",
      "Predicted value: Generic feedback\n",
      "***********************\n",
      "Pi not listing\n",
      "True value: Features/Functionality\n",
      "Predicted value: Generic feedback\n",
      "***********************\n",
      "Having issues on 1min candles display that's cost me a lot , even stop lost doesn't work properly as well\n",
      "True value: Reliability/Stability\n",
      "Predicted value: Usability/UI/UX\n",
      "***********************\n",
      "Scammed my mother who now cant afford bills and rent because they took her money and wont return it. Save yourself the scam.\n",
      "True value: Fraud\n",
      "Predicted value: Features/Functionality\n",
      "***********************\n",
      "They want to be a financial service where you can exchange cash and crypto, and push boundaries. The app does ok, But the support staff are largely evasive and like to play word games. If you want someone to handle your money they'd better be more willing to offer customer service than the game I play in the evenings where cats make soup.\n",
      "True value: Customer Support\n",
      "Predicted value: Reliability/Stability\n",
      "***********************\n",
      "Avoid! Bought $500 in crypto using the \"instant funding\"(cheaper option fee wise {everything from \"technology\" to debit card transactions}). Payment cleared the bank, went to move crypto off the exchange. Denied. It'll take from the 6th to the 17th for the payment to \"settle\" and I \"just need to wait\". Btw, date of deposit is \"day 0\" of the \"few days\" countdown. Contradictory support and so rude. I'm sure they'll respond professionally here... I'll post screenshots after they do.\n",
      "True value: Transaction Fees/Speed\n",
      "Predicted value: Generic feedback\n",
      "***********************\n",
      "Because they are not listing Pi.\n",
      "True value: Features/Functionality\n",
      "Predicted value: Features/Functionality\n",
      "***********************\n",
      "good\n",
      "True value: Generic feedback\n",
      "Predicted value: Generic feedback\n",
      "***********************\n",
      "Hi guys, in the name of constantly fine tuning the App, keep creating silly bugs, makes us frustrated with using it. Please test the app for basic functions before releasing a new version. App stability and reliability is important however basic it appears 🙏 BTW, your CS on live chat also seems to have no clue, as what is happening with us, the hapless users! Kaizen - continuous improvement is necessary but not at the expense of screwing up an already working App function! Do you QA b4 release?\n",
      "True value: Reliability/Stability\n",
      "Predicted value: Features/Functionality\n",
      "***********************\n",
      "Is so Useless without Listening Pi network\n",
      "True value: Features/Functionality\n",
      "Predicted value: Features/Functionality\n",
      "***********************\n",
      "I don't understand my binance app it's not connecting to the Internet for some reasons I don't know. To open rewards hub it shows error not only that even some campaigns and some features on binance to make it worth one's time ain't loading.\n",
      "True value: Usability/UI/UX\n",
      "Predicted value: Account Management\n",
      "***********************\n",
      "Worked fine for the most part but I find myself locked out of my account due to losing my contact number and now having a different country code. I've tried many times speaking to customer service to fix this and no help received. I've been told to create a new account which is rejected at ID verification stage. It's been 2 years since I've been able to access my crypto and at this point I think it's a lost cause. Wouldn't recommend trusting the platform with more than you can afford to lose.\n",
      "True value: Account Management\n",
      "Predicted value: Account Management\n",
      "***********************\n",
      "I used crypto com for past few years. The app worked fine but now, I can't type in the pin code to open the app, probably a bug, but it's extremely inconvenient as it can happen when you want to do a transaction. Now I'm locked out of my account and I can't log in. Edit: I had an app allowed to run over other apps and probably was detected by crypto com and I couldn't type the pin because of security protection. It is actually a smart way to protect customers but advise them why it's happening\n",
      "True value: Usability/UI/UX\n",
      "Predicted value: Account Management\n",
      "***********************\n"
     ]
    }
   ],
   "source": [
    "for row in qa_df.to_dict(orient=\"records\"):\n",
    "    if row[\"predicted_value\"]!= \"generic feedback\":\n",
    "        print(row[\"text\"])\n",
    "        print(\"True value:\",row[\"true_value\"])\n",
    "        print(\"Predicted value:\", row[\"predicted_value\"])\n",
    "        print(\"***********************\")"
   ]
  },
  {
   "cell_type": "code",
   "execution_count": null,
   "id": "d05315b1-3d54-4652-92f4-fce7958ceda5",
   "metadata": {},
   "outputs": [],
   "source": []
  }
 ],
 "metadata": {
  "kernelspec": {
   "display_name": "uol_project",
   "language": "python",
   "name": "uol_project"
  },
  "language_info": {
   "codemirror_mode": {
    "name": "ipython",
    "version": 3
   },
   "file_extension": ".py",
   "mimetype": "text/x-python",
   "name": "python",
   "nbconvert_exporter": "python",
   "pygments_lexer": "ipython3",
   "version": "3.12.8"
  }
 },
 "nbformat": 4,
 "nbformat_minor": 5
}
