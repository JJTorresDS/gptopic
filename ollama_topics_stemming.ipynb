{
 "cells": [
  {
   "cell_type": "code",
   "execution_count": 554,
   "id": "b65c9dd3-0765-43b0-b8f9-cb019c296910",
   "metadata": {},
   "outputs": [],
   "source": [
    "from tensorflow.keras.datasets import reuters\n",
    "import pandas as pd\n",
    "import numpy as np"
   ]
  },
  {
   "cell_type": "code",
   "execution_count": 555,
   "id": "d7bd794e-4a82-4704-8709-8fe1ff33e7fa",
   "metadata": {},
   "outputs": [],
   "source": [
    "(train_data, train_labels), (test_data, test_labels) = reuters.load_data(\n",
    "            num_words=10000)"
   ]
  },
  {
   "cell_type": "code",
   "execution_count": 825,
   "id": "161dece3-6abb-4607-8b62-c1ddbcbd78b2",
   "metadata": {},
   "outputs": [
    {
     "name": "stdout",
     "output_type": "stream",
     "text": [
      "Build_a_Large_Language_Model_(From_Scrat.pdf\n",
      "Deep_Learning_with_Python.pdf\n",
      "Deep_Learning_with_Python_Second_Editio.pdf\n",
      "FinalProjectIdeasFinal.pdf\n",
      "Untitled.ipynb\n",
      "crypto_apps.csv\n",
      "\u001b[34mgptopic\u001b[m\u001b[m/\n",
      "\u001b[34mliterature\u001b[m\u001b[m/\n"
     ]
    }
   ],
   "source": [
    "ls .."
   ]
  },
  {
   "cell_type": "markdown",
   "id": "aee657ef-5039-4546-a51c-5fa9414dc5f3",
   "metadata": {},
   "source": [
    "## Decoding news wires back to text"
   ]
  },
  {
   "cell_type": "code",
   "execution_count": 557,
   "id": "8f3a4241-84f4-44f0-aea8-c85e99d0768b",
   "metadata": {},
   "outputs": [],
   "source": [
    "word_index = reuters.get_word_index()"
   ]
  },
  {
   "cell_type": "code",
   "execution_count": 558,
   "id": "c396c10f-d89b-4726-b097-866327592f16",
   "metadata": {},
   "outputs": [],
   "source": [
    "label_names = reuters.get_label_names()"
   ]
  },
  {
   "cell_type": "code",
   "execution_count": 559,
   "id": "f7990bfd-cd81-4461-bb51-b68893016236",
   "metadata": {},
   "outputs": [],
   "source": [
    "reverse_word_index = dict(\n",
    "[(value, key) for (key, value) in word_index.items()]) "
   ]
  },
  {
   "cell_type": "code",
   "execution_count": 560,
   "id": "e916ef7e-a22b-4cc1-9bb6-7fe854f21fe7",
   "metadata": {},
   "outputs": [],
   "source": [
    "def decode_text(text, reverse_word_index):\n",
    "    decoded_text = \" \".join(\n",
    "                [reverse_word_index.get(i - 3, \"?\") for i in text])\n",
    "    return decoded_text"
   ]
  },
  {
   "cell_type": "code",
   "execution_count": 561,
   "id": "646533bb-5148-4301-8cdc-93e2ef7ac849",
   "metadata": {},
   "outputs": [
    {
     "data": {
      "text/plain": [
       "'? shr 3 28 dlrs vs 22 cts shr diluted 2 99 dlrs vs 22 cts net 46 0 mln vs 3 328 000 avg shrs 14 0 mln vs 15 2 mln year shr 5 41 dlrs vs 1 56 dlrs shr diluted 4 94 dlrs vs 1 50 dlrs net 78 2 mln vs 25 9 mln avg shrs 14 5 mln vs 15 1 mln note earnings per share reflect the two for one split effective january 6 1987 per share amounts are calculated after preferred stock dividends loss continuing operations for the qtr 1986 includes gains of sale of investments in ? corp of 14 mln dlrs and associated companies of 4 189 000 less writedowns of investments in national ? inc of 11 8 mln and ? corp of 15 6 mln reuter 3'"
      ]
     },
     "execution_count": 561,
     "metadata": {},
     "output_type": "execute_result"
    }
   ],
   "source": [
    "decode_text(train_data[2], reverse_word_index)"
   ]
  },
  {
   "cell_type": "markdown",
   "id": "31c181ae-f165-4942-9ded-761d8702f278",
   "metadata": {},
   "source": [
    "## Sample texts"
   ]
  },
  {
   "cell_type": "code",
   "execution_count": 562,
   "id": "16151146-5383-4cb6-a7d8-697ee1f87c87",
   "metadata": {},
   "outputs": [],
   "source": [
    "import random\n"
   ]
  },
  {
   "cell_type": "code",
   "execution_count": 569,
   "id": "3646b262-8a9d-4632-8572-2232e6aa5793",
   "metadata": {},
   "outputs": [],
   "source": [
    "random.seed(42)\n",
    "sample_index  = random.sample(range(1, len(train_data)), 2000)"
   ]
  },
  {
   "cell_type": "code",
   "execution_count": 570,
   "id": "9bd0b7a2-2b43-40cc-8761-301f83f7c7b1",
   "metadata": {},
   "outputs": [],
   "source": [
    "text_sample = train_data[sample_index]\n",
    "labels_sample = train_labels[sample_index]"
   ]
  },
  {
   "cell_type": "code",
   "execution_count": 571,
   "id": "834b9a69-be9a-462b-a1cb-031490480cc6",
   "metadata": {},
   "outputs": [],
   "source": [
    "label_names_sample = [label_names[label] for label in labels_sample]"
   ]
  },
  {
   "cell_type": "code",
   "execution_count": 572,
   "id": "74b86013-74e4-41b9-8ef5-5e21b28931fa",
   "metadata": {},
   "outputs": [],
   "source": [
    "decoded_text_sample = [decode_text(text, reverse_word_index) for text in text_sample]"
   ]
  },
  {
   "cell_type": "code",
   "execution_count": 573,
   "id": "6c74e739-8233-4d69-9734-19e2e3385c76",
   "metadata": {},
   "outputs": [],
   "source": [
    "df = pd.DataFrame({\"text\": decoded_text_sample, \"label_code\": labels_sample, \"label_name\": label_names_sample})"
   ]
  },
  {
   "cell_type": "code",
   "execution_count": 574,
   "id": "df0ab006-340f-43a7-a499-799ce4968032",
   "metadata": {},
   "outputs": [],
   "source": [
    "#df.to_csv(\"newsweek_sample_2000.csv\", index=False)"
   ]
  },
  {
   "cell_type": "code",
   "execution_count": 575,
   "id": "f9c4b968-352b-4242-abc8-2501b8724fa5",
   "metadata": {},
   "outputs": [],
   "source": [
    "df = pd.read_csv(\"newsweek_sample_150.csv\")"
   ]
  },
  {
   "cell_type": "code",
   "execution_count": 576,
   "id": "251f929f-6b9b-4311-9b8a-4b67d56d53b2",
   "metadata": {},
   "outputs": [
    {
     "data": {
      "text/plain": [
       "(150, 3)"
      ]
     },
     "execution_count": 576,
     "metadata": {},
     "output_type": "execute_result"
    }
   ],
   "source": [
    "df.shape"
   ]
  },
  {
   "cell_type": "markdown",
   "id": "53396c70-e4f6-4226-a47f-d7999ba5cc42",
   "metadata": {},
   "source": [
    "## Extracting topics with a local LLM"
   ]
  },
  {
   "cell_type": "code",
   "execution_count": 585,
   "id": "76f7c1e0-a13a-4db9-835d-977b3cfaca9e",
   "metadata": {},
   "outputs": [],
   "source": [
    "#!pip install ollama\n",
    "#ref: https://github.com/ollama/ollama\n",
    "#run in terminal: ollama run llama3.2:1b\n",
    "import ollama\n",
    "import google.generativeai as genai"
   ]
  },
  {
   "cell_type": "markdown",
   "id": "48ead9f5-8a30-4a20-bc68-3a75fc673474",
   "metadata": {},
   "source": [
    "Usar el texto 2 de la muestra para mostrar la inestabilidad del resultado."
   ]
  },
  {
   "cell_type": "code",
   "execution_count": 578,
   "id": "4f949d32-a682-43c2-918b-03e34f691fa5",
   "metadata": {},
   "outputs": [],
   "source": [
    "prompt_v1 = \"You are an expert news anchor. What news category does this article belong to?: {text}\"\n",
    "prompt_v2 = \"You are an expert news anchor. What news category does this article belong to? Provide your best guess: {text}\"\n",
    "prompt_v3 = \"You are an expert news anchor. What news category does this article belong to? \\\n",
    "    Provide your best guess in a sentence with no more than 4 words: {text}\"\n",
    "prompt_v4 = \"You are an expert news anchor. What news category does the following article belong to? \\\n",
    "    Please answer only with the category. If you are unsure, your best guess is ok: {text}\"\n",
    "\n",
    "prompt_v5 = \"You are an expert news anchor. What news category does the following article belong to? \\\n",
    "    Please answer only with one category.\\\n",
    "    If you are unsure, your best guess is ok. Do not include question marks: {text}\""
   ]
  },
  {
   "cell_type": "code",
   "execution_count": 610,
   "id": "3b6123e7-a923-4c8c-bf3a-42082875fdbc",
   "metadata": {},
   "outputs": [],
   "source": [
    "def ollama_query(text, prompt):\n",
    "    prompt = prompt\n",
    "    \n",
    "\n",
    "    response = ollama.chat(\n",
    "        model = \"llama3.2:1b\",\n",
    "        messages = [{\"role\":\"user\", \"content\":prompt.format(text=text)}]    \n",
    "    )\n",
    "\n",
    "    return response[\"message\"][\"content\"].strip()"
   ]
  },
  {
   "cell_type": "code",
   "execution_count": 611,
   "id": "018fb2bb-b055-4d45-8b04-0f5a61d9a3ce",
   "metadata": {},
   "outputs": [],
   "source": [
    "def gemini_query(text, prompt):\n",
    "    prompt = prompt\n",
    "    genai.configure(api_key=)\n",
    "    model = genai.GenerativeModel(\"gemini-1.5-flash-latest\")\n",
    "    try:\n",
    "        response = model.generate_content(prompt.format(text=text))\n",
    "    except:\n",
    "        response = \"gemini failed to respond\"\n",
    "        return response\n",
    "    return response.text.strip()"
   ]
  },
  {
   "cell_type": "code",
   "execution_count": 612,
   "id": "4e7777bd-78f3-4007-a0e5-2bc881242510",
   "metadata": {},
   "outputs": [],
   "source": [
    "genai.configure(api_key=)\n",
    "model = genai.GenerativeModel(\"gemini-1.5-flash-latest\")"
   ]
  },
  {
   "cell_type": "code",
   "execution_count": 613,
   "id": "ea348b1c-02f0-4ddd-bda0-41788d5e01d2",
   "metadata": {},
   "outputs": [],
   "source": [
    "samples = df.text[:3]"
   ]
  },
  {
   "cell_type": "code",
   "execution_count": 614,
   "id": "d0edc70e-58de-4dfd-a9ee-8a6bb6e0d422",
   "metadata": {},
   "outputs": [
    {
     "data": {
      "text/plain": [
       "\"You are an expert news anchor. What news category does the following article belong to?     Please answer only with one category.    If you are unsure, your best guess is ok. Do not include question marks: ? saudi arabia has ? up reform of its financial system with a package of measures designed to boost the economy and open up the kingdom to the lucrative world of investment banking bankers in saudi arabia ? a fundamental shift in policy stemming from a need to tackle the underlying ? between an islamic legal framework and western banking system one senior banker in jeddah said there is a new wind ? saudi arabia is moving on many ? in a manner that is ? aggressive the speed of reform begun last year but now gathering pace has surprised bankers who have had to ? with a financial system that restricted ? of the riyal and a ? court system that made debt ? difficult saudi banks once the most profitable in the world have generally reported falling profits for 1986 the fourth successive year of decline as loan loss provisions ? into already dwindling earnings bankers say the saudi finance ministry and saudi arabian monetary agency sama seem to have developed a new strategy although it remains to be seen how it will be implemented reform started in 1986 with measures to boost previously ? stock trading but took off in ? this year from january 1 sama liberalised the money market giving banks greater access to liquidity aid via repurchase agreements from march 22 the finance ministry abolished withholding tax on funds borrowed by saudi banks abroad from the same date banks were notified of a new committee to be set up under the auspices of sama to hear bank disputes with creditors over non payment of loans also from the same date banks were allowed to use mortgages as collateral for lending banned since 1981 within a few weeks the kingdom's first stock market trading floor is expected to be opened ? in central riyadh in the building of the saudi industrial development fund the floor will initially be used to trade shares on an auction system staff from each of the 11 commercial banks have been ? ahead of the launch and a new computer network has been set up one banker said the abolition of withholding tax will give banks the opportunity to participate in new instruments such as interest rate or currency swaps at last sama and the finance ministry are opening up markets for investment banking bankers say saudi authorities appear to have been ? into reform by pressure from banks and alarm at bank reluctance to extend further loans to the private sector banks have ? hard for change arguing that the ? or ? legal framework was inconsistent with the kingdom's western banking system and made it ? impossible for them to collect interest on bad loans through the courts as a result many banks had virtually stopped new lending but found themselves cut off from world investment banking by a series of restrictions withholding tax made it ? expensive to take part in interest rate or currency swaps the private sector's frustration at the virtual standstill in bank lending ? at a ? conference in the mountain resort in ? last month and some powerful merchant families also called for change bankers said banks ? hard and had the ultimate ? to force change they stopped lending another banker said that was ? growth of the economy it is still unclear whether the new committee that will be set up to hear bank disputes with creditors will prove any more efficient than another non ? system already in force the committees for the settlement of commercial disputes ? some bankers believe the new committee yet to be formed will simply delay pending cases and force banks into a series of private deals with creditors nor is it clear what stance the new committee will take on interest payments generally not recognised under islamic law but other bankers say the move is clear recognition by sama and the finance ministry that ? courts and the ? were not the correct bodies for hearing bank disputes other reforms have been taken or are in the pipeline finance minister mohammed ali ? ? said in march that a new body would examine late government payments to contractors in addition further moves are under way to ? business life to the ? calendar year with companies being urged to adopt it as their financial year a black list of borrowers started more than two years ago by banks has recently been effectively ? by sama bankers say banks are now not permitted to lend or engage in securities transactions with any party on the list reuter 3\""
      ]
     },
     "execution_count": 614,
     "metadata": {},
     "output_type": "execute_result"
    }
   ],
   "source": [
    "prompt_v5.format(text=samples[0])"
   ]
  },
  {
   "cell_type": "code",
   "execution_count": 615,
   "id": "38aba751-4c4f-4fd2-9af3-827358612085",
   "metadata": {},
   "outputs": [],
   "source": [
    "response = model.generate_content(prompt_v5.format(text=samples[0]))"
   ]
  },
  {
   "cell_type": "code",
   "execution_count": 616,
   "id": "10ee95ea-22e4-4236-a1cc-8e4f4abb1d48",
   "metadata": {},
   "outputs": [
    {
     "data": {
      "text/plain": [
       "'Business'"
      ]
     },
     "execution_count": 616,
     "metadata": {},
     "output_type": "execute_result"
    }
   ],
   "source": [
    "response.text.strip()"
   ]
  },
  {
   "cell_type": "markdown",
   "id": "0cdb92be-0946-43c9-9318-ce32a6383a62",
   "metadata": {},
   "source": [
    "## Prompt Testing"
   ]
  },
  {
   "cell_type": "code",
   "execution_count": null,
   "id": "47ced5d3-88b5-4bbd-b623-e7cb0d718bf1",
   "metadata": {},
   "outputs": [],
   "source": []
  },
  {
   "cell_type": "markdown",
   "id": "dadbf32d-e6dd-4624-834c-496e69f6369a",
   "metadata": {},
   "source": [
    "## Run queries"
   ]
  },
  {
   "cell_type": "code",
   "execution_count": 617,
   "id": "199f8e5e-62b5-447e-8a3f-cfee8dd9d80c",
   "metadata": {},
   "outputs": [
    {
     "name": "stdout",
     "output_type": "stream",
     "text": [
      "Iteration 0 out of 10\n",
      "Iteration 1 out of 10\n",
      "Iteration 2 out of 10\n"
     ]
    }
   ],
   "source": [
    "results = []\n",
    "\n",
    "\n",
    "#run llm 10 times to solve for topic stability\n",
    "for i in range(3):\n",
    "    df_c = df.copy()\n",
    "\n",
    "    topics_ollama = []\n",
    "    topics_gemini = []\n",
    "    print(f\"Iteration {i} out of 10\")\n",
    "    for row in range(df_c.shape[0]):\n",
    "        temp_text = df_c.iloc[row].text\n",
    "        topic = ollama_query(temp_text, prompt_v5)\n",
    "        topic2 = gemini_query(temp_text, prompt_v5)\n",
    "        topics_ollama.append(topic)\n",
    "        topics_gemini.append(topic2)\n",
    "    df_c.loc[:, \"local_llm_topic\"] = topics_ollama\n",
    "    df_c.loc[:, \"gemini_llm_topic\"] = topics_gemini\n",
    "    results.append(df_c)\n",
    "    "
   ]
  },
  {
   "cell_type": "markdown",
   "id": "4defb67e-3535-4258-9dee-57461ab03bbf",
   "metadata": {},
   "source": [
    "## Normalizing topics"
   ]
  },
  {
   "cell_type": "code",
   "execution_count": 707,
   "id": "be328ac1-c638-415a-97eb-c0abce3a99c5",
   "metadata": {},
   "outputs": [],
   "source": [
    "df_all = pd.concat(results[:3])"
   ]
  },
  {
   "cell_type": "code",
   "execution_count": 708,
   "id": "8f344e66-54af-4409-ad3d-3014d07d3ec7",
   "metadata": {},
   "outputs": [
    {
     "data": {
      "text/html": [
       "<div>\n",
       "<style scoped>\n",
       "    .dataframe tbody tr th:only-of-type {\n",
       "        vertical-align: middle;\n",
       "    }\n",
       "\n",
       "    .dataframe tbody tr th {\n",
       "        vertical-align: top;\n",
       "    }\n",
       "\n",
       "    .dataframe thead th {\n",
       "        text-align: right;\n",
       "    }\n",
       "</style>\n",
       "<table border=\"1\" class=\"dataframe\">\n",
       "  <thead>\n",
       "    <tr style=\"text-align: right;\">\n",
       "      <th></th>\n",
       "      <th>text</th>\n",
       "      <th>label_code</th>\n",
       "      <th>label_name</th>\n",
       "      <th>local_llm_topic</th>\n",
       "      <th>gemini_llm_topic</th>\n",
       "    </tr>\n",
       "  </thead>\n",
       "  <tbody>\n",
       "    <tr>\n",
       "      <th>0</th>\n",
       "      <td>? saudi arabia has ? up reform of its financia...</td>\n",
       "      <td>3</td>\n",
       "      <td>earn</td>\n",
       "      <td>Economics</td>\n",
       "      <td>Business</td>\n",
       "    </tr>\n",
       "    <tr>\n",
       "      <th>1</th>\n",
       "      <td>? lt dart group corp said it told supermarkets...</td>\n",
       "      <td>4</td>\n",
       "      <td>acq</td>\n",
       "      <td>Business/Finance</td>\n",
       "      <td>Business</td>\n",
       "    </tr>\n",
       "  </tbody>\n",
       "</table>\n",
       "</div>"
      ],
      "text/plain": [
       "                                                text  label_code label_name  \\\n",
       "0  ? saudi arabia has ? up reform of its financia...           3       earn   \n",
       "1  ? lt dart group corp said it told supermarkets...           4        acq   \n",
       "\n",
       "    local_llm_topic gemini_llm_topic  \n",
       "0         Economics         Business  \n",
       "1  Business/Finance         Business  "
      ]
     },
     "execution_count": 708,
     "metadata": {},
     "output_type": "execute_result"
    }
   ],
   "source": [
    "df_all.head(2)"
   ]
  },
  {
   "cell_type": "code",
   "execution_count": 709,
   "id": "c71049eb-2f66-4ae5-906f-cb84166b7896",
   "metadata": {},
   "outputs": [
    {
     "data": {
      "text/plain": [
       "label_name          24\n",
       "local_llm_topic     89\n",
       "gemini_llm_topic    10\n",
       "dtype: int64"
      ]
     },
     "execution_count": 709,
     "metadata": {},
     "output_type": "execute_result"
    }
   ],
   "source": [
    "df_all.agg({\"label_name\":\"nunique\",\n",
    "           \"local_llm_topic\":\"nunique\",\n",
    "           \"gemini_llm_topic\":\"nunique\"})"
   ]
  },
  {
   "cell_type": "code",
   "execution_count": 710,
   "id": "8f6f645b-1640-44b2-a7fd-f8aa80864d40",
   "metadata": {},
   "outputs": [],
   "source": [
    "df_all[\"gemini_llm_topic\"] = df_all[\"gemini_llm_topic\"].str.lower()"
   ]
  },
  {
   "cell_type": "code",
   "execution_count": 711,
   "id": "69f66f94-2d83-431c-adbb-806157929b4a",
   "metadata": {},
   "outputs": [],
   "source": [
    "df_all = df_all.reset_index()"
   ]
  },
  {
   "cell_type": "code",
   "execution_count": 712,
   "id": "63dd7c89-b8f3-4b94-8bb0-9e15fb4c37b8",
   "metadata": {},
   "outputs": [
    {
     "data": {
      "text/html": [
       "<div>\n",
       "<style scoped>\n",
       "    .dataframe tbody tr th:only-of-type {\n",
       "        vertical-align: middle;\n",
       "    }\n",
       "\n",
       "    .dataframe tbody tr th {\n",
       "        vertical-align: top;\n",
       "    }\n",
       "\n",
       "    .dataframe thead th {\n",
       "        text-align: right;\n",
       "    }\n",
       "</style>\n",
       "<table border=\"1\" class=\"dataframe\">\n",
       "  <thead>\n",
       "    <tr style=\"text-align: right;\">\n",
       "      <th></th>\n",
       "      <th>index</th>\n",
       "      <th>text</th>\n",
       "      <th>label_code</th>\n",
       "      <th>label_name</th>\n",
       "      <th>local_llm_topic</th>\n",
       "      <th>gemini_llm_topic</th>\n",
       "    </tr>\n",
       "  </thead>\n",
       "  <tbody>\n",
       "    <tr>\n",
       "      <th>0</th>\n",
       "      <td>0</td>\n",
       "      <td>? saudi arabia has ? up reform of its financia...</td>\n",
       "      <td>3</td>\n",
       "      <td>earn</td>\n",
       "      <td>Economics</td>\n",
       "      <td>business</td>\n",
       "    </tr>\n",
       "    <tr>\n",
       "      <th>1</th>\n",
       "      <td>1</td>\n",
       "      <td>? lt dart group corp said it told supermarkets...</td>\n",
       "      <td>4</td>\n",
       "      <td>acq</td>\n",
       "      <td>Business/Finance</td>\n",
       "      <td>business</td>\n",
       "    </tr>\n",
       "    <tr>\n",
       "      <th>2</th>\n",
       "      <td>2</td>\n",
       "      <td>? great american first savings bank is issuing...</td>\n",
       "      <td>1</td>\n",
       "      <td>grain</td>\n",
       "      <td>Financial Markets and Institutions</td>\n",
       "      <td>finance</td>\n",
       "    </tr>\n",
       "    <tr>\n",
       "      <th>3</th>\n",
       "      <td>3</td>\n",
       "      <td>? qtly div 18 cts vs 18 cts in prior qtr payab...</td>\n",
       "      <td>3</td>\n",
       "      <td>earn</td>\n",
       "      <td>Investing</td>\n",
       "      <td>business</td>\n",
       "    </tr>\n",
       "    <tr>\n",
       "      <th>4</th>\n",
       "      <td>4</td>\n",
       "      <td>? australian minister for trade negotiations m...</td>\n",
       "      <td>11</td>\n",
       "      <td>trade</td>\n",
       "      <td>Economy</td>\n",
       "      <td>international trade</td>\n",
       "    </tr>\n",
       "    <tr>\n",
       "      <th>...</th>\n",
       "      <td>...</td>\n",
       "      <td>...</td>\n",
       "      <td>...</td>\n",
       "      <td>...</td>\n",
       "      <td>...</td>\n",
       "      <td>...</td>\n",
       "    </tr>\n",
       "    <tr>\n",
       "      <th>445</th>\n",
       "      <td>145</td>\n",
       "      <td>? oper shr loss 39 cts vs profit 62 cts oper n...</td>\n",
       "      <td>3</td>\n",
       "      <td>earn</td>\n",
       "      <td>Investing</td>\n",
       "      <td>business</td>\n",
       "    </tr>\n",
       "    <tr>\n",
       "      <th>446</th>\n",
       "      <td>146</td>\n",
       "      <td>? leading australian onshore oil and gas produ...</td>\n",
       "      <td>3</td>\n",
       "      <td>earn</td>\n",
       "      <td>Business</td>\n",
       "      <td>business</td>\n",
       "    </tr>\n",
       "    <tr>\n",
       "      <th>447</th>\n",
       "      <td>147</td>\n",
       "      <td>? the dollar's recent decline despite massive ...</td>\n",
       "      <td>40</td>\n",
       "      <td>dlr</td>\n",
       "      <td>Economy</td>\n",
       "      <td>finance</td>\n",
       "    </tr>\n",
       "    <tr>\n",
       "      <th>448</th>\n",
       "      <td>148</td>\n",
       "      <td>? shr 95 cts vs 83 cts shr diluted 89 cts vs 8...</td>\n",
       "      <td>3</td>\n",
       "      <td>earn</td>\n",
       "      <td>Financial News</td>\n",
       "      <td>business</td>\n",
       "    </tr>\n",
       "    <tr>\n",
       "      <th>449</th>\n",
       "      <td>149</td>\n",
       "      <td>? oper shr loss 22 cts vs profit 10 cts oper n...</td>\n",
       "      <td>3</td>\n",
       "      <td>earn</td>\n",
       "      <td>Financial Markets</td>\n",
       "      <td>business</td>\n",
       "    </tr>\n",
       "  </tbody>\n",
       "</table>\n",
       "<p>450 rows × 6 columns</p>\n",
       "</div>"
      ],
      "text/plain": [
       "     index                                               text  label_code  \\\n",
       "0        0  ? saudi arabia has ? up reform of its financia...           3   \n",
       "1        1  ? lt dart group corp said it told supermarkets...           4   \n",
       "2        2  ? great american first savings bank is issuing...           1   \n",
       "3        3  ? qtly div 18 cts vs 18 cts in prior qtr payab...           3   \n",
       "4        4  ? australian minister for trade negotiations m...          11   \n",
       "..     ...                                                ...         ...   \n",
       "445    145  ? oper shr loss 39 cts vs profit 62 cts oper n...           3   \n",
       "446    146  ? leading australian onshore oil and gas produ...           3   \n",
       "447    147  ? the dollar's recent decline despite massive ...          40   \n",
       "448    148  ? shr 95 cts vs 83 cts shr diluted 89 cts vs 8...           3   \n",
       "449    149  ? oper shr loss 22 cts vs profit 10 cts oper n...           3   \n",
       "\n",
       "    label_name                     local_llm_topic     gemini_llm_topic  \n",
       "0         earn                           Economics             business  \n",
       "1          acq                    Business/Finance             business  \n",
       "2        grain  Financial Markets and Institutions              finance  \n",
       "3         earn                           Investing             business  \n",
       "4        trade                             Economy  international trade  \n",
       "..         ...                                 ...                  ...  \n",
       "445       earn                           Investing             business  \n",
       "446       earn                            Business             business  \n",
       "447        dlr                             Economy              finance  \n",
       "448       earn                      Financial News             business  \n",
       "449       earn                   Financial Markets             business  \n",
       "\n",
       "[450 rows x 6 columns]"
      ]
     },
     "execution_count": 712,
     "metadata": {},
     "output_type": "execute_result"
    }
   ],
   "source": [
    "df_all"
   ]
  },
  {
   "cell_type": "code",
   "execution_count": 713,
   "id": "5493fe62-824c-43f8-b2af-9514dc4ffece",
   "metadata": {},
   "outputs": [],
   "source": [
    "multiple_index = df_all.groupby(\"index\")[\"gemini_llm_topic\"].nunique() > 1"
   ]
  },
  {
   "cell_type": "code",
   "execution_count": 714,
   "id": "310a7c2b-6ea7-47b3-a129-32b1decef761",
   "metadata": {},
   "outputs": [
    {
     "data": {
      "text/html": [
       "<div>\n",
       "<style scoped>\n",
       "    .dataframe tbody tr th:only-of-type {\n",
       "        vertical-align: middle;\n",
       "    }\n",
       "\n",
       "    .dataframe tbody tr th {\n",
       "        vertical-align: top;\n",
       "    }\n",
       "\n",
       "    .dataframe thead th {\n",
       "        text-align: right;\n",
       "    }\n",
       "</style>\n",
       "<table border=\"1\" class=\"dataframe\">\n",
       "  <thead>\n",
       "    <tr style=\"text-align: right;\">\n",
       "      <th></th>\n",
       "      <th>index</th>\n",
       "      <th>text</th>\n",
       "      <th>label_code</th>\n",
       "      <th>label_name</th>\n",
       "      <th>local_llm_topic</th>\n",
       "      <th>gemini_llm_topic</th>\n",
       "    </tr>\n",
       "  </thead>\n",
       "  <tbody>\n",
       "    <tr>\n",
       "      <th>141</th>\n",
       "      <td>141</td>\n",
       "      <td>? treasury assistant secretary david mulford r...</td>\n",
       "      <td>19</td>\n",
       "      <td>money-fx</td>\n",
       "      <td>Economy</td>\n",
       "      <td>gemini failed to respond</td>\n",
       "    </tr>\n",
       "    <tr>\n",
       "      <th>441</th>\n",
       "      <td>141</td>\n",
       "      <td>? treasury assistant secretary david mulford r...</td>\n",
       "      <td>19</td>\n",
       "      <td>money-fx</td>\n",
       "      <td>International Economics</td>\n",
       "      <td>economics</td>\n",
       "    </tr>\n",
       "    <tr>\n",
       "      <th>291</th>\n",
       "      <td>141</td>\n",
       "      <td>? treasury assistant secretary david mulford r...</td>\n",
       "      <td>19</td>\n",
       "      <td>money-fx</td>\n",
       "      <td>International Finance</td>\n",
       "      <td>gemini failed to respond</td>\n",
       "    </tr>\n",
       "    <tr>\n",
       "      <th>142</th>\n",
       "      <td>142</td>\n",
       "      <td>? australia's seasonally adjusted real gross d...</td>\n",
       "      <td>21</td>\n",
       "      <td>gnp</td>\n",
       "      <td>Economy</td>\n",
       "      <td>gemini failed to respond</td>\n",
       "    </tr>\n",
       "    <tr>\n",
       "      <th>442</th>\n",
       "      <td>142</td>\n",
       "      <td>? australia's seasonally adjusted real gross d...</td>\n",
       "      <td>21</td>\n",
       "      <td>gnp</td>\n",
       "      <td>Economy</td>\n",
       "      <td>business</td>\n",
       "    </tr>\n",
       "    <tr>\n",
       "      <th>292</th>\n",
       "      <td>142</td>\n",
       "      <td>? australia's seasonally adjusted real gross d...</td>\n",
       "      <td>21</td>\n",
       "      <td>gnp</td>\n",
       "      <td>Economy</td>\n",
       "      <td>gemini failed to respond</td>\n",
       "    </tr>\n",
       "    <tr>\n",
       "      <th>143</th>\n",
       "      <td>143</td>\n",
       "      <td>? trans world airlines inc which disclosed tha...</td>\n",
       "      <td>4</td>\n",
       "      <td>acq</td>\n",
       "      <td>Business</td>\n",
       "      <td>gemini failed to respond</td>\n",
       "    </tr>\n",
       "    <tr>\n",
       "      <th>443</th>\n",
       "      <td>143</td>\n",
       "      <td>? trans world airlines inc which disclosed tha...</td>\n",
       "      <td>4</td>\n",
       "      <td>acq</td>\n",
       "      <td>International Business</td>\n",
       "      <td>business</td>\n",
       "    </tr>\n",
       "    <tr>\n",
       "      <th>293</th>\n",
       "      <td>143</td>\n",
       "      <td>? trans world airlines inc which disclosed tha...</td>\n",
       "      <td>4</td>\n",
       "      <td>acq</td>\n",
       "      <td>Business</td>\n",
       "      <td>business</td>\n",
       "    </tr>\n",
       "    <tr>\n",
       "      <th>144</th>\n",
       "      <td>144</td>\n",
       "      <td>? the u s owned lt surinam aluminum company su...</td>\n",
       "      <td>23</td>\n",
       "      <td>alum</td>\n",
       "      <td>Industry/Finance</td>\n",
       "      <td>gemini failed to respond</td>\n",
       "    </tr>\n",
       "    <tr>\n",
       "      <th>444</th>\n",
       "      <td>144</td>\n",
       "      <td>? the u s owned lt surinam aluminum company su...</td>\n",
       "      <td>23</td>\n",
       "      <td>alum</td>\n",
       "      <td>Environment</td>\n",
       "      <td>business</td>\n",
       "    </tr>\n",
       "    <tr>\n",
       "      <th>294</th>\n",
       "      <td>144</td>\n",
       "      <td>? the u s owned lt surinam aluminum company su...</td>\n",
       "      <td>23</td>\n",
       "      <td>alum</td>\n",
       "      <td>Economy</td>\n",
       "      <td>business</td>\n",
       "    </tr>\n",
       "    <tr>\n",
       "      <th>445</th>\n",
       "      <td>145</td>\n",
       "      <td>? oper shr loss 39 cts vs profit 62 cts oper n...</td>\n",
       "      <td>3</td>\n",
       "      <td>earn</td>\n",
       "      <td>Investing</td>\n",
       "      <td>business</td>\n",
       "    </tr>\n",
       "    <tr>\n",
       "      <th>295</th>\n",
       "      <td>145</td>\n",
       "      <td>? oper shr loss 39 cts vs profit 62 cts oper n...</td>\n",
       "      <td>3</td>\n",
       "      <td>earn</td>\n",
       "      <td>Business/Financial News</td>\n",
       "      <td>business</td>\n",
       "    </tr>\n",
       "    <tr>\n",
       "      <th>145</th>\n",
       "      <td>145</td>\n",
       "      <td>? oper shr loss 39 cts vs profit 62 cts oper n...</td>\n",
       "      <td>3</td>\n",
       "      <td>earn</td>\n",
       "      <td>Business/Economics</td>\n",
       "      <td>gemini failed to respond</td>\n",
       "    </tr>\n",
       "    <tr>\n",
       "      <th>296</th>\n",
       "      <td>146</td>\n",
       "      <td>? leading australian onshore oil and gas produ...</td>\n",
       "      <td>3</td>\n",
       "      <td>earn</td>\n",
       "      <td>Energy</td>\n",
       "      <td>business</td>\n",
       "    </tr>\n",
       "    <tr>\n",
       "      <th>146</th>\n",
       "      <td>146</td>\n",
       "      <td>? leading australian onshore oil and gas produ...</td>\n",
       "      <td>3</td>\n",
       "      <td>earn</td>\n",
       "      <td>Energy</td>\n",
       "      <td>gemini failed to respond</td>\n",
       "    </tr>\n",
       "    <tr>\n",
       "      <th>446</th>\n",
       "      <td>146</td>\n",
       "      <td>? leading australian onshore oil and gas produ...</td>\n",
       "      <td>3</td>\n",
       "      <td>earn</td>\n",
       "      <td>Business</td>\n",
       "      <td>business</td>\n",
       "    </tr>\n",
       "    <tr>\n",
       "      <th>297</th>\n",
       "      <td>147</td>\n",
       "      <td>? the dollar's recent decline despite massive ...</td>\n",
       "      <td>40</td>\n",
       "      <td>dlr</td>\n",
       "      <td>Economics</td>\n",
       "      <td>finance</td>\n",
       "    </tr>\n",
       "    <tr>\n",
       "      <th>147</th>\n",
       "      <td>147</td>\n",
       "      <td>? the dollar's recent decline despite massive ...</td>\n",
       "      <td>40</td>\n",
       "      <td>dlr</td>\n",
       "      <td>Economics</td>\n",
       "      <td>gemini failed to respond</td>\n",
       "    </tr>\n",
       "    <tr>\n",
       "      <th>447</th>\n",
       "      <td>147</td>\n",
       "      <td>? the dollar's recent decline despite massive ...</td>\n",
       "      <td>40</td>\n",
       "      <td>dlr</td>\n",
       "      <td>Economy</td>\n",
       "      <td>finance</td>\n",
       "    </tr>\n",
       "    <tr>\n",
       "      <th>298</th>\n",
       "      <td>148</td>\n",
       "      <td>? shr 95 cts vs 83 cts shr diluted 89 cts vs 8...</td>\n",
       "      <td>3</td>\n",
       "      <td>earn</td>\n",
       "      <td>Financial News</td>\n",
       "      <td>business</td>\n",
       "    </tr>\n",
       "    <tr>\n",
       "      <th>148</th>\n",
       "      <td>148</td>\n",
       "      <td>? shr 95 cts vs 83 cts shr diluted 89 cts vs 8...</td>\n",
       "      <td>3</td>\n",
       "      <td>earn</td>\n",
       "      <td>Investing</td>\n",
       "      <td>gemini failed to respond</td>\n",
       "    </tr>\n",
       "    <tr>\n",
       "      <th>448</th>\n",
       "      <td>148</td>\n",
       "      <td>? shr 95 cts vs 83 cts shr diluted 89 cts vs 8...</td>\n",
       "      <td>3</td>\n",
       "      <td>earn</td>\n",
       "      <td>Financial News</td>\n",
       "      <td>business</td>\n",
       "    </tr>\n",
       "    <tr>\n",
       "      <th>299</th>\n",
       "      <td>149</td>\n",
       "      <td>? oper shr loss 22 cts vs profit 10 cts oper n...</td>\n",
       "      <td>3</td>\n",
       "      <td>earn</td>\n",
       "      <td>Financials</td>\n",
       "      <td>business</td>\n",
       "    </tr>\n",
       "    <tr>\n",
       "      <th>149</th>\n",
       "      <td>149</td>\n",
       "      <td>? oper shr loss 22 cts vs profit 10 cts oper n...</td>\n",
       "      <td>3</td>\n",
       "      <td>earn</td>\n",
       "      <td>Investing</td>\n",
       "      <td>gemini failed to respond</td>\n",
       "    </tr>\n",
       "    <tr>\n",
       "      <th>449</th>\n",
       "      <td>149</td>\n",
       "      <td>? oper shr loss 22 cts vs profit 10 cts oper n...</td>\n",
       "      <td>3</td>\n",
       "      <td>earn</td>\n",
       "      <td>Financial Markets</td>\n",
       "      <td>business</td>\n",
       "    </tr>\n",
       "  </tbody>\n",
       "</table>\n",
       "</div>"
      ],
      "text/plain": [
       "     index                                               text  label_code  \\\n",
       "141    141  ? treasury assistant secretary david mulford r...          19   \n",
       "441    141  ? treasury assistant secretary david mulford r...          19   \n",
       "291    141  ? treasury assistant secretary david mulford r...          19   \n",
       "142    142  ? australia's seasonally adjusted real gross d...          21   \n",
       "442    142  ? australia's seasonally adjusted real gross d...          21   \n",
       "292    142  ? australia's seasonally adjusted real gross d...          21   \n",
       "143    143  ? trans world airlines inc which disclosed tha...           4   \n",
       "443    143  ? trans world airlines inc which disclosed tha...           4   \n",
       "293    143  ? trans world airlines inc which disclosed tha...           4   \n",
       "144    144  ? the u s owned lt surinam aluminum company su...          23   \n",
       "444    144  ? the u s owned lt surinam aluminum company su...          23   \n",
       "294    144  ? the u s owned lt surinam aluminum company su...          23   \n",
       "445    145  ? oper shr loss 39 cts vs profit 62 cts oper n...           3   \n",
       "295    145  ? oper shr loss 39 cts vs profit 62 cts oper n...           3   \n",
       "145    145  ? oper shr loss 39 cts vs profit 62 cts oper n...           3   \n",
       "296    146  ? leading australian onshore oil and gas produ...           3   \n",
       "146    146  ? leading australian onshore oil and gas produ...           3   \n",
       "446    146  ? leading australian onshore oil and gas produ...           3   \n",
       "297    147  ? the dollar's recent decline despite massive ...          40   \n",
       "147    147  ? the dollar's recent decline despite massive ...          40   \n",
       "447    147  ? the dollar's recent decline despite massive ...          40   \n",
       "298    148  ? shr 95 cts vs 83 cts shr diluted 89 cts vs 8...           3   \n",
       "148    148  ? shr 95 cts vs 83 cts shr diluted 89 cts vs 8...           3   \n",
       "448    148  ? shr 95 cts vs 83 cts shr diluted 89 cts vs 8...           3   \n",
       "299    149  ? oper shr loss 22 cts vs profit 10 cts oper n...           3   \n",
       "149    149  ? oper shr loss 22 cts vs profit 10 cts oper n...           3   \n",
       "449    149  ? oper shr loss 22 cts vs profit 10 cts oper n...           3   \n",
       "\n",
       "    label_name          local_llm_topic          gemini_llm_topic  \n",
       "141   money-fx                  Economy  gemini failed to respond  \n",
       "441   money-fx  International Economics                 economics  \n",
       "291   money-fx    International Finance  gemini failed to respond  \n",
       "142        gnp                  Economy  gemini failed to respond  \n",
       "442        gnp                  Economy                  business  \n",
       "292        gnp                  Economy  gemini failed to respond  \n",
       "143        acq                 Business  gemini failed to respond  \n",
       "443        acq   International Business                  business  \n",
       "293        acq                 Business                  business  \n",
       "144       alum         Industry/Finance  gemini failed to respond  \n",
       "444       alum              Environment                  business  \n",
       "294       alum                  Economy                  business  \n",
       "445       earn                Investing                  business  \n",
       "295       earn  Business/Financial News                  business  \n",
       "145       earn       Business/Economics  gemini failed to respond  \n",
       "296       earn                   Energy                  business  \n",
       "146       earn                   Energy  gemini failed to respond  \n",
       "446       earn                 Business                  business  \n",
       "297        dlr                Economics                   finance  \n",
       "147        dlr                Economics  gemini failed to respond  \n",
       "447        dlr                  Economy                   finance  \n",
       "298       earn           Financial News                  business  \n",
       "148       earn                Investing  gemini failed to respond  \n",
       "448       earn           Financial News                  business  \n",
       "299       earn               Financials                  business  \n",
       "149       earn                Investing  gemini failed to respond  \n",
       "449       earn        Financial Markets                  business  "
      ]
     },
     "execution_count": 714,
     "metadata": {},
     "output_type": "execute_result"
    }
   ],
   "source": [
    "df_all[df_all[\"index\"] > 140].sort_values(by=\"index\")"
   ]
  },
  {
   "cell_type": "code",
   "execution_count": 715,
   "id": "c4098486-4ac9-411b-b907-4467e49e7fb4",
   "metadata": {},
   "outputs": [],
   "source": [
    "failed = df_all[\"gemini_llm_topic\"] == \"gemini failed to respond\""
   ]
  },
  {
   "cell_type": "code",
   "execution_count": 716,
   "id": "7c0e8184-7980-4094-9399-5ce70f1722de",
   "metadata": {},
   "outputs": [],
   "source": [
    "df_all = df_all[~failed]"
   ]
  },
  {
   "cell_type": "code",
   "execution_count": 717,
   "id": "55ae421e-6363-4c86-b7ff-bfc73093e98e",
   "metadata": {},
   "outputs": [],
   "source": [
    "df_normalized_topics = df_all.groupby([\"index\",\"gemini_llm_topic\"]).size().reset_index(name=\"count\") .sort_values(by=\"count\", ascending=False) \\\n",
    "     .groupby(\"index\").first()"
   ]
  },
  {
   "cell_type": "code",
   "execution_count": 718,
   "id": "bd0d3aaf-065a-4c52-88f4-04f6d84639e1",
   "metadata": {},
   "outputs": [],
   "source": [
    "df_normalized_topics[\"llm_topic\"] = df_normalized_topics[\"gemini_llm_topic\"].apply(lambda x: x.title())"
   ]
  },
  {
   "cell_type": "code",
   "execution_count": 719,
   "id": "d7d6aeb8-c678-4b53-b2fe-47ba6a8de73e",
   "metadata": {},
   "outputs": [],
   "source": [
    "df[\"normalized_topic\"] = df_normalized_topics[\"gemini_llm_topic\"]"
   ]
  },
  {
   "cell_type": "code",
   "execution_count": 720,
   "id": "c60d8fe4-25fa-4c49-a2bb-b8f788057dc3",
   "metadata": {},
   "outputs": [],
   "source": [
    "#additional improvements could be with embeddings"
   ]
  },
  {
   "cell_type": "code",
   "execution_count": 721,
   "id": "e9b8a124-8259-4858-b2cf-e0df45fa0ab3",
   "metadata": {},
   "outputs": [
    {
     "data": {
      "text/html": [
       "<div>\n",
       "<style scoped>\n",
       "    .dataframe tbody tr th:only-of-type {\n",
       "        vertical-align: middle;\n",
       "    }\n",
       "\n",
       "    .dataframe tbody tr th {\n",
       "        vertical-align: top;\n",
       "    }\n",
       "\n",
       "    .dataframe thead th {\n",
       "        text-align: right;\n",
       "    }\n",
       "</style>\n",
       "<table border=\"1\" class=\"dataframe\">\n",
       "  <thead>\n",
       "    <tr style=\"text-align: right;\">\n",
       "      <th></th>\n",
       "      <th>text</th>\n",
       "      <th>label_code</th>\n",
       "      <th>label_name</th>\n",
       "      <th>normalized_topic</th>\n",
       "      <th>normalized_topic_reduced</th>\n",
       "    </tr>\n",
       "  </thead>\n",
       "  <tbody>\n",
       "    <tr>\n",
       "      <th>0</th>\n",
       "      <td>? saudi arabia has ? up reform of its financia...</td>\n",
       "      <td>3</td>\n",
       "      <td>earn</td>\n",
       "      <td>business</td>\n",
       "      <td>Other</td>\n",
       "    </tr>\n",
       "    <tr>\n",
       "      <th>1</th>\n",
       "      <td>? lt dart group corp said it told supermarkets...</td>\n",
       "      <td>4</td>\n",
       "      <td>acq</td>\n",
       "      <td>business</td>\n",
       "      <td>Other</td>\n",
       "    </tr>\n",
       "  </tbody>\n",
       "</table>\n",
       "</div>"
      ],
      "text/plain": [
       "                                                text  label_code label_name  \\\n",
       "0  ? saudi arabia has ? up reform of its financia...           3       earn   \n",
       "1  ? lt dart group corp said it told supermarkets...           4        acq   \n",
       "\n",
       "  normalized_topic normalized_topic_reduced  \n",
       "0         business                    Other  \n",
       "1         business                    Other  "
      ]
     },
     "execution_count": 721,
     "metadata": {},
     "output_type": "execute_result"
    }
   ],
   "source": [
    "df.head(2)"
   ]
  },
  {
   "cell_type": "markdown",
   "id": "003fa62a-9869-44ef-98e4-565a99015401",
   "metadata": {},
   "source": [
    "## Train test split"
   ]
  },
  {
   "cell_type": "code",
   "execution_count": 724,
   "id": "4e1672c7-c48d-4920-9a6f-f039fa3db93d",
   "metadata": {},
   "outputs": [],
   "source": [
    "df_orig = df.copy()"
   ]
  },
  {
   "cell_type": "code",
   "execution_count": 725,
   "id": "52050d8a-9c31-430d-8d16-da158078ef77",
   "metadata": {},
   "outputs": [],
   "source": [
    "train_size = int(df.shape[0] * .9)\n",
    "\n",
    "train_df = df[:train_size]\n",
    "test_df = df[train_size:]\n",
    "\n",
    "#split text and labels\n",
    "train_sentences = train_df.text.to_numpy()\n",
    "train_labels = train_df.normalized_topic.to_numpy()\n",
    "test_sentences = test_df.text.to_numpy()\n",
    "test_labels = test_df.normalized_topic.to_numpy()"
   ]
  },
  {
   "cell_type": "code",
   "execution_count": 753,
   "id": "274793be-be35-4df4-bed3-ae07215b1577",
   "metadata": {},
   "outputs": [
    {
     "data": {
      "text/plain": [
       "15"
      ]
     },
     "execution_count": 753,
     "metadata": {},
     "output_type": "execute_result"
    }
   ],
   "source": [
    "test_sentences.size"
   ]
  },
  {
   "cell_type": "markdown",
   "id": "ff6c972b-71ba-4c1d-9448-949d520544f5",
   "metadata": {},
   "source": [
    "## Tokenize"
   ]
  },
  {
   "cell_type": "code",
   "execution_count": 754,
   "id": "2df14759-7b38-4baf-9c79-bac21ed247cc",
   "metadata": {},
   "outputs": [],
   "source": [
    "from tensorflow.keras.preprocessing.text import Tokenizer\n",
    "from sklearn.preprocessing import LabelEncoder"
   ]
  },
  {
   "cell_type": "code",
   "execution_count": 755,
   "id": "1485cec4-406c-4bd6-9437-d86bfa3818e2",
   "metadata": {},
   "outputs": [],
   "source": [
    "from collections import Counter"
   ]
  },
  {
   "cell_type": "code",
   "execution_count": 756,
   "id": "d834d14a-ca3a-40a1-ac6d-41d3f70f225c",
   "metadata": {},
   "outputs": [],
   "source": [
    "def counter_word(text_col):\n",
    "    count = Counter()\n",
    "    for text in text_col.values:\n",
    "        for word in text.split():\n",
    "            count[word] += 1\n",
    "    return count"
   ]
  },
  {
   "cell_type": "code",
   "execution_count": 757,
   "id": "591644a2-25a3-45ed-8ee8-4a1a5d99e3ab",
   "metadata": {},
   "outputs": [],
   "source": [
    "#!pip install scikit-learn"
   ]
  },
  {
   "cell_type": "code",
   "execution_count": 758,
   "id": "1e36722c-f7f9-473d-afba-fdfcf1f00f0b",
   "metadata": {},
   "outputs": [],
   "source": [
    "counter = counter_word(df.text)"
   ]
  },
  {
   "cell_type": "code",
   "execution_count": 759,
   "id": "e2d1de4a-d002-440a-a11d-45eddcbea2b8",
   "metadata": {},
   "outputs": [],
   "source": [
    "num_unique_words = len(counter)"
   ]
  },
  {
   "cell_type": "code",
   "execution_count": 760,
   "id": "110a5c9e-91f0-415b-9209-9cf07dac6fd3",
   "metadata": {},
   "outputs": [],
   "source": [
    "#vectorize a text corpus by turning each text into a sequence of integers\n",
    "tokenizer = Tokenizer(num_words=num_unique_words)\n",
    "tokenizer.fit_on_texts(train_sentences) #fit only to trainin"
   ]
  },
  {
   "cell_type": "code",
   "execution_count": 790,
   "id": "3adeed15-e18e-4c20-a6a0-09f2698df8b4",
   "metadata": {},
   "outputs": [
    {
     "data": {
      "text/html": [
       "<style>#sk-container-id-7 {\n",
       "  /* Definition of color scheme common for light and dark mode */\n",
       "  --sklearn-color-text: #000;\n",
       "  --sklearn-color-text-muted: #666;\n",
       "  --sklearn-color-line: gray;\n",
       "  /* Definition of color scheme for unfitted estimators */\n",
       "  --sklearn-color-unfitted-level-0: #fff5e6;\n",
       "  --sklearn-color-unfitted-level-1: #f6e4d2;\n",
       "  --sklearn-color-unfitted-level-2: #ffe0b3;\n",
       "  --sklearn-color-unfitted-level-3: chocolate;\n",
       "  /* Definition of color scheme for fitted estimators */\n",
       "  --sklearn-color-fitted-level-0: #f0f8ff;\n",
       "  --sklearn-color-fitted-level-1: #d4ebff;\n",
       "  --sklearn-color-fitted-level-2: #b3dbfd;\n",
       "  --sklearn-color-fitted-level-3: cornflowerblue;\n",
       "\n",
       "  /* Specific color for light theme */\n",
       "  --sklearn-color-text-on-default-background: var(--sg-text-color, var(--theme-code-foreground, var(--jp-content-font-color1, black)));\n",
       "  --sklearn-color-background: var(--sg-background-color, var(--theme-background, var(--jp-layout-color0, white)));\n",
       "  --sklearn-color-border-box: var(--sg-text-color, var(--theme-code-foreground, var(--jp-content-font-color1, black)));\n",
       "  --sklearn-color-icon: #696969;\n",
       "\n",
       "  @media (prefers-color-scheme: dark) {\n",
       "    /* Redefinition of color scheme for dark theme */\n",
       "    --sklearn-color-text-on-default-background: var(--sg-text-color, var(--theme-code-foreground, var(--jp-content-font-color1, white)));\n",
       "    --sklearn-color-background: var(--sg-background-color, var(--theme-background, var(--jp-layout-color0, #111)));\n",
       "    --sklearn-color-border-box: var(--sg-text-color, var(--theme-code-foreground, var(--jp-content-font-color1, white)));\n",
       "    --sklearn-color-icon: #878787;\n",
       "  }\n",
       "}\n",
       "\n",
       "#sk-container-id-7 {\n",
       "  color: var(--sklearn-color-text);\n",
       "}\n",
       "\n",
       "#sk-container-id-7 pre {\n",
       "  padding: 0;\n",
       "}\n",
       "\n",
       "#sk-container-id-7 input.sk-hidden--visually {\n",
       "  border: 0;\n",
       "  clip: rect(1px 1px 1px 1px);\n",
       "  clip: rect(1px, 1px, 1px, 1px);\n",
       "  height: 1px;\n",
       "  margin: -1px;\n",
       "  overflow: hidden;\n",
       "  padding: 0;\n",
       "  position: absolute;\n",
       "  width: 1px;\n",
       "}\n",
       "\n",
       "#sk-container-id-7 div.sk-dashed-wrapped {\n",
       "  border: 1px dashed var(--sklearn-color-line);\n",
       "  margin: 0 0.4em 0.5em 0.4em;\n",
       "  box-sizing: border-box;\n",
       "  padding-bottom: 0.4em;\n",
       "  background-color: var(--sklearn-color-background);\n",
       "}\n",
       "\n",
       "#sk-container-id-7 div.sk-container {\n",
       "  /* jupyter's `normalize.less` sets `[hidden] { display: none; }`\n",
       "     but bootstrap.min.css set `[hidden] { display: none !important; }`\n",
       "     so we also need the `!important` here to be able to override the\n",
       "     default hidden behavior on the sphinx rendered scikit-learn.org.\n",
       "     See: https://github.com/scikit-learn/scikit-learn/issues/21755 */\n",
       "  display: inline-block !important;\n",
       "  position: relative;\n",
       "}\n",
       "\n",
       "#sk-container-id-7 div.sk-text-repr-fallback {\n",
       "  display: none;\n",
       "}\n",
       "\n",
       "div.sk-parallel-item,\n",
       "div.sk-serial,\n",
       "div.sk-item {\n",
       "  /* draw centered vertical line to link estimators */\n",
       "  background-image: linear-gradient(var(--sklearn-color-text-on-default-background), var(--sklearn-color-text-on-default-background));\n",
       "  background-size: 2px 100%;\n",
       "  background-repeat: no-repeat;\n",
       "  background-position: center center;\n",
       "}\n",
       "\n",
       "/* Parallel-specific style estimator block */\n",
       "\n",
       "#sk-container-id-7 div.sk-parallel-item::after {\n",
       "  content: \"\";\n",
       "  width: 100%;\n",
       "  border-bottom: 2px solid var(--sklearn-color-text-on-default-background);\n",
       "  flex-grow: 1;\n",
       "}\n",
       "\n",
       "#sk-container-id-7 div.sk-parallel {\n",
       "  display: flex;\n",
       "  align-items: stretch;\n",
       "  justify-content: center;\n",
       "  background-color: var(--sklearn-color-background);\n",
       "  position: relative;\n",
       "}\n",
       "\n",
       "#sk-container-id-7 div.sk-parallel-item {\n",
       "  display: flex;\n",
       "  flex-direction: column;\n",
       "}\n",
       "\n",
       "#sk-container-id-7 div.sk-parallel-item:first-child::after {\n",
       "  align-self: flex-end;\n",
       "  width: 50%;\n",
       "}\n",
       "\n",
       "#sk-container-id-7 div.sk-parallel-item:last-child::after {\n",
       "  align-self: flex-start;\n",
       "  width: 50%;\n",
       "}\n",
       "\n",
       "#sk-container-id-7 div.sk-parallel-item:only-child::after {\n",
       "  width: 0;\n",
       "}\n",
       "\n",
       "/* Serial-specific style estimator block */\n",
       "\n",
       "#sk-container-id-7 div.sk-serial {\n",
       "  display: flex;\n",
       "  flex-direction: column;\n",
       "  align-items: center;\n",
       "  background-color: var(--sklearn-color-background);\n",
       "  padding-right: 1em;\n",
       "  padding-left: 1em;\n",
       "}\n",
       "\n",
       "\n",
       "/* Toggleable style: style used for estimator/Pipeline/ColumnTransformer box that is\n",
       "clickable and can be expanded/collapsed.\n",
       "- Pipeline and ColumnTransformer use this feature and define the default style\n",
       "- Estimators will overwrite some part of the style using the `sk-estimator` class\n",
       "*/\n",
       "\n",
       "/* Pipeline and ColumnTransformer style (default) */\n",
       "\n",
       "#sk-container-id-7 div.sk-toggleable {\n",
       "  /* Default theme specific background. It is overwritten whether we have a\n",
       "  specific estimator or a Pipeline/ColumnTransformer */\n",
       "  background-color: var(--sklearn-color-background);\n",
       "}\n",
       "\n",
       "/* Toggleable label */\n",
       "#sk-container-id-7 label.sk-toggleable__label {\n",
       "  cursor: pointer;\n",
       "  display: flex;\n",
       "  width: 100%;\n",
       "  margin-bottom: 0;\n",
       "  padding: 0.5em;\n",
       "  box-sizing: border-box;\n",
       "  text-align: center;\n",
       "  align-items: start;\n",
       "  justify-content: space-between;\n",
       "  gap: 0.5em;\n",
       "}\n",
       "\n",
       "#sk-container-id-7 label.sk-toggleable__label .caption {\n",
       "  font-size: 0.6rem;\n",
       "  font-weight: lighter;\n",
       "  color: var(--sklearn-color-text-muted);\n",
       "}\n",
       "\n",
       "#sk-container-id-7 label.sk-toggleable__label-arrow:before {\n",
       "  /* Arrow on the left of the label */\n",
       "  content: \"▸\";\n",
       "  float: left;\n",
       "  margin-right: 0.25em;\n",
       "  color: var(--sklearn-color-icon);\n",
       "}\n",
       "\n",
       "#sk-container-id-7 label.sk-toggleable__label-arrow:hover:before {\n",
       "  color: var(--sklearn-color-text);\n",
       "}\n",
       "\n",
       "/* Toggleable content - dropdown */\n",
       "\n",
       "#sk-container-id-7 div.sk-toggleable__content {\n",
       "  max-height: 0;\n",
       "  max-width: 0;\n",
       "  overflow: hidden;\n",
       "  text-align: left;\n",
       "  /* unfitted */\n",
       "  background-color: var(--sklearn-color-unfitted-level-0);\n",
       "}\n",
       "\n",
       "#sk-container-id-7 div.sk-toggleable__content.fitted {\n",
       "  /* fitted */\n",
       "  background-color: var(--sklearn-color-fitted-level-0);\n",
       "}\n",
       "\n",
       "#sk-container-id-7 div.sk-toggleable__content pre {\n",
       "  margin: 0.2em;\n",
       "  border-radius: 0.25em;\n",
       "  color: var(--sklearn-color-text);\n",
       "  /* unfitted */\n",
       "  background-color: var(--sklearn-color-unfitted-level-0);\n",
       "}\n",
       "\n",
       "#sk-container-id-7 div.sk-toggleable__content.fitted pre {\n",
       "  /* unfitted */\n",
       "  background-color: var(--sklearn-color-fitted-level-0);\n",
       "}\n",
       "\n",
       "#sk-container-id-7 input.sk-toggleable__control:checked~div.sk-toggleable__content {\n",
       "  /* Expand drop-down */\n",
       "  max-height: 200px;\n",
       "  max-width: 100%;\n",
       "  overflow: auto;\n",
       "}\n",
       "\n",
       "#sk-container-id-7 input.sk-toggleable__control:checked~label.sk-toggleable__label-arrow:before {\n",
       "  content: \"▾\";\n",
       "}\n",
       "\n",
       "/* Pipeline/ColumnTransformer-specific style */\n",
       "\n",
       "#sk-container-id-7 div.sk-label input.sk-toggleable__control:checked~label.sk-toggleable__label {\n",
       "  color: var(--sklearn-color-text);\n",
       "  background-color: var(--sklearn-color-unfitted-level-2);\n",
       "}\n",
       "\n",
       "#sk-container-id-7 div.sk-label.fitted input.sk-toggleable__control:checked~label.sk-toggleable__label {\n",
       "  background-color: var(--sklearn-color-fitted-level-2);\n",
       "}\n",
       "\n",
       "/* Estimator-specific style */\n",
       "\n",
       "/* Colorize estimator box */\n",
       "#sk-container-id-7 div.sk-estimator input.sk-toggleable__control:checked~label.sk-toggleable__label {\n",
       "  /* unfitted */\n",
       "  background-color: var(--sklearn-color-unfitted-level-2);\n",
       "}\n",
       "\n",
       "#sk-container-id-7 div.sk-estimator.fitted input.sk-toggleable__control:checked~label.sk-toggleable__label {\n",
       "  /* fitted */\n",
       "  background-color: var(--sklearn-color-fitted-level-2);\n",
       "}\n",
       "\n",
       "#sk-container-id-7 div.sk-label label.sk-toggleable__label,\n",
       "#sk-container-id-7 div.sk-label label {\n",
       "  /* The background is the default theme color */\n",
       "  color: var(--sklearn-color-text-on-default-background);\n",
       "}\n",
       "\n",
       "/* On hover, darken the color of the background */\n",
       "#sk-container-id-7 div.sk-label:hover label.sk-toggleable__label {\n",
       "  color: var(--sklearn-color-text);\n",
       "  background-color: var(--sklearn-color-unfitted-level-2);\n",
       "}\n",
       "\n",
       "/* Label box, darken color on hover, fitted */\n",
       "#sk-container-id-7 div.sk-label.fitted:hover label.sk-toggleable__label.fitted {\n",
       "  color: var(--sklearn-color-text);\n",
       "  background-color: var(--sklearn-color-fitted-level-2);\n",
       "}\n",
       "\n",
       "/* Estimator label */\n",
       "\n",
       "#sk-container-id-7 div.sk-label label {\n",
       "  font-family: monospace;\n",
       "  font-weight: bold;\n",
       "  display: inline-block;\n",
       "  line-height: 1.2em;\n",
       "}\n",
       "\n",
       "#sk-container-id-7 div.sk-label-container {\n",
       "  text-align: center;\n",
       "}\n",
       "\n",
       "/* Estimator-specific */\n",
       "#sk-container-id-7 div.sk-estimator {\n",
       "  font-family: monospace;\n",
       "  border: 1px dotted var(--sklearn-color-border-box);\n",
       "  border-radius: 0.25em;\n",
       "  box-sizing: border-box;\n",
       "  margin-bottom: 0.5em;\n",
       "  /* unfitted */\n",
       "  background-color: var(--sklearn-color-unfitted-level-0);\n",
       "}\n",
       "\n",
       "#sk-container-id-7 div.sk-estimator.fitted {\n",
       "  /* fitted */\n",
       "  background-color: var(--sklearn-color-fitted-level-0);\n",
       "}\n",
       "\n",
       "/* on hover */\n",
       "#sk-container-id-7 div.sk-estimator:hover {\n",
       "  /* unfitted */\n",
       "  background-color: var(--sklearn-color-unfitted-level-2);\n",
       "}\n",
       "\n",
       "#sk-container-id-7 div.sk-estimator.fitted:hover {\n",
       "  /* fitted */\n",
       "  background-color: var(--sklearn-color-fitted-level-2);\n",
       "}\n",
       "\n",
       "/* Specification for estimator info (e.g. \"i\" and \"?\") */\n",
       "\n",
       "/* Common style for \"i\" and \"?\" */\n",
       "\n",
       ".sk-estimator-doc-link,\n",
       "a:link.sk-estimator-doc-link,\n",
       "a:visited.sk-estimator-doc-link {\n",
       "  float: right;\n",
       "  font-size: smaller;\n",
       "  line-height: 1em;\n",
       "  font-family: monospace;\n",
       "  background-color: var(--sklearn-color-background);\n",
       "  border-radius: 1em;\n",
       "  height: 1em;\n",
       "  width: 1em;\n",
       "  text-decoration: none !important;\n",
       "  margin-left: 0.5em;\n",
       "  text-align: center;\n",
       "  /* unfitted */\n",
       "  border: var(--sklearn-color-unfitted-level-1) 1pt solid;\n",
       "  color: var(--sklearn-color-unfitted-level-1);\n",
       "}\n",
       "\n",
       ".sk-estimator-doc-link.fitted,\n",
       "a:link.sk-estimator-doc-link.fitted,\n",
       "a:visited.sk-estimator-doc-link.fitted {\n",
       "  /* fitted */\n",
       "  border: var(--sklearn-color-fitted-level-1) 1pt solid;\n",
       "  color: var(--sklearn-color-fitted-level-1);\n",
       "}\n",
       "\n",
       "/* On hover */\n",
       "div.sk-estimator:hover .sk-estimator-doc-link:hover,\n",
       ".sk-estimator-doc-link:hover,\n",
       "div.sk-label-container:hover .sk-estimator-doc-link:hover,\n",
       ".sk-estimator-doc-link:hover {\n",
       "  /* unfitted */\n",
       "  background-color: var(--sklearn-color-unfitted-level-3);\n",
       "  color: var(--sklearn-color-background);\n",
       "  text-decoration: none;\n",
       "}\n",
       "\n",
       "div.sk-estimator.fitted:hover .sk-estimator-doc-link.fitted:hover,\n",
       ".sk-estimator-doc-link.fitted:hover,\n",
       "div.sk-label-container:hover .sk-estimator-doc-link.fitted:hover,\n",
       ".sk-estimator-doc-link.fitted:hover {\n",
       "  /* fitted */\n",
       "  background-color: var(--sklearn-color-fitted-level-3);\n",
       "  color: var(--sklearn-color-background);\n",
       "  text-decoration: none;\n",
       "}\n",
       "\n",
       "/* Span, style for the box shown on hovering the info icon */\n",
       ".sk-estimator-doc-link span {\n",
       "  display: none;\n",
       "  z-index: 9999;\n",
       "  position: relative;\n",
       "  font-weight: normal;\n",
       "  right: .2ex;\n",
       "  padding: .5ex;\n",
       "  margin: .5ex;\n",
       "  width: min-content;\n",
       "  min-width: 20ex;\n",
       "  max-width: 50ex;\n",
       "  color: var(--sklearn-color-text);\n",
       "  box-shadow: 2pt 2pt 4pt #999;\n",
       "  /* unfitted */\n",
       "  background: var(--sklearn-color-unfitted-level-0);\n",
       "  border: .5pt solid var(--sklearn-color-unfitted-level-3);\n",
       "}\n",
       "\n",
       ".sk-estimator-doc-link.fitted span {\n",
       "  /* fitted */\n",
       "  background: var(--sklearn-color-fitted-level-0);\n",
       "  border: var(--sklearn-color-fitted-level-3);\n",
       "}\n",
       "\n",
       ".sk-estimator-doc-link:hover span {\n",
       "  display: block;\n",
       "}\n",
       "\n",
       "/* \"?\"-specific style due to the `<a>` HTML tag */\n",
       "\n",
       "#sk-container-id-7 a.estimator_doc_link {\n",
       "  float: right;\n",
       "  font-size: 1rem;\n",
       "  line-height: 1em;\n",
       "  font-family: monospace;\n",
       "  background-color: var(--sklearn-color-background);\n",
       "  border-radius: 1rem;\n",
       "  height: 1rem;\n",
       "  width: 1rem;\n",
       "  text-decoration: none;\n",
       "  /* unfitted */\n",
       "  color: var(--sklearn-color-unfitted-level-1);\n",
       "  border: var(--sklearn-color-unfitted-level-1) 1pt solid;\n",
       "}\n",
       "\n",
       "#sk-container-id-7 a.estimator_doc_link.fitted {\n",
       "  /* fitted */\n",
       "  border: var(--sklearn-color-fitted-level-1) 1pt solid;\n",
       "  color: var(--sklearn-color-fitted-level-1);\n",
       "}\n",
       "\n",
       "/* On hover */\n",
       "#sk-container-id-7 a.estimator_doc_link:hover {\n",
       "  /* unfitted */\n",
       "  background-color: var(--sklearn-color-unfitted-level-3);\n",
       "  color: var(--sklearn-color-background);\n",
       "  text-decoration: none;\n",
       "}\n",
       "\n",
       "#sk-container-id-7 a.estimator_doc_link.fitted:hover {\n",
       "  /* fitted */\n",
       "  background-color: var(--sklearn-color-fitted-level-3);\n",
       "}\n",
       "</style><div id=\"sk-container-id-7\" class=\"sk-top-container\"><div class=\"sk-text-repr-fallback\"><pre>LabelEncoder()</pre><b>In a Jupyter environment, please rerun this cell to show the HTML representation or trust the notebook. <br />On GitHub, the HTML representation is unable to render, please try loading this page with nbviewer.org.</b></div><div class=\"sk-container\" hidden><div class=\"sk-item\"><div class=\"sk-estimator fitted sk-toggleable\"><input class=\"sk-toggleable__control sk-hidden--visually\" id=\"sk-estimator-id-7\" type=\"checkbox\" checked><label for=\"sk-estimator-id-7\" class=\"sk-toggleable__label fitted sk-toggleable__label-arrow\"><div><div>LabelEncoder</div></div><div><a class=\"sk-estimator-doc-link fitted\" rel=\"noreferrer\" target=\"_blank\" href=\"https://scikit-learn.org/1.6/modules/generated/sklearn.preprocessing.LabelEncoder.html\">?<span>Documentation for LabelEncoder</span></a><span class=\"sk-estimator-doc-link fitted\">i<span>Fitted</span></span></div></label><div class=\"sk-toggleable__content fitted\"><pre>LabelEncoder()</pre></div> </div></div></div></div>"
      ],
      "text/plain": [
       "LabelEncoder()"
      ]
     },
     "execution_count": 790,
     "metadata": {},
     "output_type": "execute_result"
    }
   ],
   "source": [
    "#vectorize the labels\n",
    "le = LabelEncoder()\n",
    "le.fit(df.normalized_topic.to_numpy()) #fit only to trainin"
   ]
  },
  {
   "cell_type": "code",
   "execution_count": 791,
   "id": "0f691907-49ca-4834-8c81-a972461a8d53",
   "metadata": {},
   "outputs": [
    {
     "data": {
      "text/plain": [
       "array(['agriculture'], dtype=object)"
      ]
     },
     "execution_count": 791,
     "metadata": {},
     "output_type": "execute_result"
    }
   ],
   "source": [
    "le.inverse_transform([0])"
   ]
  },
  {
   "cell_type": "code",
   "execution_count": 792,
   "id": "355bd5b7-4397-4955-aa6d-2640227bb647",
   "metadata": {},
   "outputs": [],
   "source": [
    "#each word has a unique index\n",
    "word_index = tokenizer.word_index"
   ]
  },
  {
   "cell_type": "code",
   "execution_count": 793,
   "id": "dfdc78c5-ecf7-44a1-8c6d-00526c8e10b9",
   "metadata": {},
   "outputs": [],
   "source": [
    "train_sequences = tokenizer.texts_to_sequences(train_sentences)\n",
    "test_sequences = tokenizer.texts_to_sequences(test_sentences)"
   ]
  },
  {
   "cell_type": "code",
   "execution_count": 794,
   "id": "128249fe-067d-452f-b9e7-bb25f73ba1f6",
   "metadata": {},
   "outputs": [],
   "source": [
    "y_train = le.transform(train_labels)\n",
    "y_test = le.transform(test_labels)"
   ]
  },
  {
   "cell_type": "code",
   "execution_count": 795,
   "id": "a9fa4104-9b54-46d1-b2ca-d0e644eda84e",
   "metadata": {},
   "outputs": [
    {
     "name": "stdout",
     "output_type": "stream",
     "text": [
      "['? bank of japan governor satoshi sumita said that current exchange rates are almost within the levels agreed to by six major nations last month in paris asked whether a dollar yen rate of 148 or 149 reflected economic fundamentals he said current rates almost reflect fundamentals sumita told reporters major nations have ? to bring about currency stability in line with the paris agreement which ? that they would closely cooperate to that end he repeated the central bank will intervene if necessary adding he did not think a dollar free fall was likely but sumita said he could not say exactly what currency levels would be considered in line with underlying economic fundamentals in paris on february 22 britain canada france japan the u s and west germany agreed to cooperate to hold currencies around their then current levels sumita said he could not find any specific reasons behind the fall of the dollar to a record low against the yen yesterday but he said the market ? to sell dollars as it ? reacted to statements abroad and to developments surrounding trade tensions u s treasury secretary james baker said over the weekend that the paris pact did not ? fixed ? for the dollar u s trade representative clayton yeutter called u s japan relations on certain key trade issues very strained the market reacted ? because the dollar has been moving narrowly against the yen since mid january sumita said he added he does not expect the yen dollar exchange rate to remain unstable because the market is concerned about a sharp rise of the yen the bank of japan will keep a close watch on exchange rates in line with the paris accord he added reuter 3']\n",
      "[[59, 2, 105, 1869, 1870, 584, 4, 13, 163, 106, 81, 57, 726, 310, 1, 152, 141, 3, 20, 103, 119, 174, 52, 169, 5, 265, 360, 557, 6, 78, 142, 48, 2, 1871, 58, 1220, 1221, 126, 914, 30, 4, 163, 81, 726, 1872, 914, 584, 99, 915, 119, 174, 47, 3, 916, 61, 148, 583, 5, 492, 37, 1, 265, 150, 53, 13, 72, 35, 1873, 727, 3, 13, 241, 30, 1874, 1, 311, 59, 34, 728, 110, 1222, 729, 30, 190, 31, 730, 6, 78, 585, 361, 21, 493, 40, 584, 4, 30, 171, 31, 340, 1875, 314, 148, 152, 35, 25, 565, 5, 492, 37, 672, 126, 914, 5, 265, 19, 494, 208, 917, 918, 495, 105, 1, 68, 63, 7, 136, 586, 141, 3, 727, 3, 587, 359, 164, 96, 496, 163, 152, 584, 4, 30, 171, 31, 919, 187, 731, 1876, 1877, 1, 361, 2, 1, 78, 3, 6, 135, 588, 112, 1, 142, 415, 40, 30, 4, 1, 80, 3, 266, 1223, 38, 10, 1224, 3, 1225, 677, 7, 3, 1878, 1226, 65, 1879, 68, 63, 582, 912, 568, 1214, 4, 130, 1, 1227, 13, 1, 265, 1880, 190, 31, 1228, 12, 1, 78, 68, 63, 65, 920, 1229, 267, 286, 68, 63, 105, 1881, 19, 693, 882, 65, 694, 589, 1882, 1, 80, 1224, 133, 1, 78, 33, 42, 1099, 1883, 112, 1, 142, 109, 732, 168, 584, 4, 30, 194, 30, 590, 31, 1230, 1, 142, 78, 106, 48, 3, 1231, 1884, 133, 1, 80, 17, 1885, 61, 6, 733, 195, 2, 1, 142, 1, 59, 2, 105, 34, 921, 6, 472, 1886, 19, 106, 81, 5, 492, 37, 1, 265, 723, 30, 194, 14, 8]]\n"
     ]
    }
   ],
   "source": [
    "print(train_sentences[10:11])\n",
    "print(train_sequences[10:11])"
   ]
  },
  {
   "cell_type": "markdown",
   "id": "4b709fa5-6a6e-4faf-a29c-dc23f8a8c886",
   "metadata": {},
   "source": [
    "As seen above, sequences can have different lengths since the sentences may contain a distinct number of words. We need all sequences to be of the same length, and for this we will use padding."
   ]
  },
  {
   "cell_type": "code",
   "execution_count": 796,
   "id": "42a85e11-14b1-4462-8a28-829fae3ab7a8",
   "metadata": {},
   "outputs": [
    {
     "data": {
      "text/plain": [
       "((135, 255), (15, 255))"
      ]
     },
     "execution_count": 796,
     "metadata": {},
     "output_type": "execute_result"
    }
   ],
   "source": [
    "#Pad the sequences to have the same length\n",
    "from tensorflow.keras.preprocessing.sequence import pad_sequences\n",
    "\n",
    "#max number of words in a sequence\n",
    "max_length = 255\n",
    "\n",
    "train_padded = pad_sequences(train_sequences, maxlen= max_length, padding = \"post\", truncating = \"post\")\n",
    "test_padded = pad_sequences(test_sequences, maxlen = max_length, padding = \"post\", truncating = \"post\")\n",
    "train_padded.shape, test_padded.shape"
   ]
  },
  {
   "cell_type": "code",
   "execution_count": 797,
   "id": "6269a21f-bac2-4005-b594-49ca4caa53a7",
   "metadata": {},
   "outputs": [],
   "source": [
    "reverse_word_index = dict([(idx, word) for (word, idx) in word_index.items()])"
   ]
  },
  {
   "cell_type": "code",
   "execution_count": 798,
   "id": "1bff3754-3582-4caa-8836-0feb4053d043",
   "metadata": {},
   "outputs": [],
   "source": [
    "def decode(sequence):\n",
    "    return \" \".join([reverse_word_index.get(idx, \"?\") for idx in sequence])"
   ]
  },
  {
   "cell_type": "code",
   "execution_count": 799,
   "id": "63f2f738-d441-4afe-8f7d-f7eb4acf4714",
   "metadata": {},
   "outputs": [],
   "source": [
    "decoded_text = decode(train_sequences[10])"
   ]
  },
  {
   "cell_type": "code",
   "execution_count": 800,
   "id": "ef871610-2925-4fbc-bd40-f757552a48b9",
   "metadata": {},
   "outputs": [
    {
     "data": {
      "text/plain": [
       "'bank of japan governor satoshi sumita said that current exchange rates are almost within the levels agreed to by six major nations last month in paris asked whether a dollar yen rate of 148 or 149 reflected economic fundamentals he said current rates almost reflect fundamentals sumita told reporters major nations have to bring about currency stability in line with the paris agreement which that they would closely cooperate to that end he repeated the central bank will intervene if necessary adding he did not think a dollar free fall was likely but sumita said he could not say exactly what currency levels would be considered in line with underlying economic fundamentals in paris on february 22 britain canada france japan the u s and west germany agreed to cooperate to hold currencies around their then current levels sumita said he could not find any specific reasons behind the fall of the dollar to a record low against the yen yesterday but he said the market to sell dollars as it reacted to statements abroad and to developments surrounding trade tensions u s treasury secretary james baker said over the weekend that the paris pact did not fixed for the dollar u s trade representative clayton yeutter called u s japan relations on certain key trade issues very strained the market reacted because the dollar has been moving narrowly against the yen since mid january sumita said he added he does not expect the yen dollar exchange rate to remain unstable because the market is concerned about a sharp rise of the yen the bank of japan will keep a close watch on exchange rates in line with the paris accord he added reuter 3'"
      ]
     },
     "execution_count": 800,
     "metadata": {},
     "output_type": "execute_result"
    }
   ],
   "source": [
    "decoded_text"
   ]
  },
  {
   "cell_type": "markdown",
   "id": "6f8fc161-f06b-4771-a5f4-503999865ee2",
   "metadata": {},
   "source": [
    "## Train model"
   ]
  },
  {
   "cell_type": "code",
   "execution_count": 801,
   "id": "70c952a5-c72a-4c8d-827c-de7877f12741",
   "metadata": {},
   "outputs": [],
   "source": [
    "num_classes = df[\"normalized_topic\"].nunique()"
   ]
  },
  {
   "cell_type": "code",
   "execution_count": 802,
   "id": "f1f2aef9-baa4-4f68-bbaa-30a1c68b7c77",
   "metadata": {},
   "outputs": [],
   "source": [
    "from tensorflow import keras\n",
    "from tensorflow.keras import layers\n",
    "from tensorflow.keras import regularizers"
   ]
  },
  {
   "cell_type": "code",
   "execution_count": 815,
   "id": "d4c48b3d-be08-44ba-b790-e56b23a17911",
   "metadata": {},
   "outputs": [],
   "source": [
    "model = keras.Sequential([\n",
    "layers.Dense(512, \n",
    "             kernel_regularizer=regularizers.l1_l2(l1=0.001, l2=0.001), \n",
    "             activation=\"relu\"),\n",
    "    \n",
    "    #layers.Dropout(0.2),\n",
    "layers.Dense(512, \n",
    "             kernel_regularizer=regularizers.l2(0.002), \n",
    "             activation=\"relu\"),\n",
    "    \n",
    "    #layers.Dropout(0.2),\n",
    "layers.Dense(512, \n",
    "             kernel_regularizer=regularizers.l2(0.002), \n",
    "             activation=\"relu\"),\n",
    "    \n",
    "    #layers.Dropout(0.2),\n",
    "layers.Dense(10, activation=\"softmax\")\n",
    "])"
   ]
  },
  {
   "cell_type": "markdown",
   "id": "048d35da-aba4-4e78-be99-39ae4e61d1c6",
   "metadata": {},
   "source": [
    "## Compile the model"
   ]
  },
  {
   "cell_type": "code",
   "execution_count": 816,
   "id": "1ccbabee-ef63-4f5c-9486-0eb3088db089",
   "metadata": {},
   "outputs": [],
   "source": [
    "model.compile(optimizer=\"rmsprop\",\n",
    "loss=\"sparse_categorical_crossentropy\",\n",
    "metrics=[\"accuracy\"])"
   ]
  },
  {
   "cell_type": "code",
   "execution_count": 817,
   "id": "bb19a3e3-25a1-4e35-a602-1c346c90d0c7",
   "metadata": {},
   "outputs": [
    {
     "data": {
      "text/plain": [
       "135"
      ]
     },
     "execution_count": 817,
     "metadata": {},
     "output_type": "execute_result"
    }
   ],
   "source": [
    "len(train_padded)"
   ]
  },
  {
   "cell_type": "code",
   "execution_count": 818,
   "id": "29965fdd-bb19-453f-8352-0de75fdd1987",
   "metadata": {},
   "outputs": [],
   "source": [
    "#validation set\n",
    "x_val = train_padded[:100]\n",
    "partial_x_train = train_padded[100:]\n",
    "y_val = y_train[:100]\n",
    "partial_y_train = y_train[100:]"
   ]
  },
  {
   "cell_type": "code",
   "execution_count": 819,
   "id": "7ba5db3c-cbd0-4b33-99f8-2bacd4d32c71",
   "metadata": {},
   "outputs": [
    {
     "name": "stdout",
     "output_type": "stream",
     "text": [
      "Epoch 1/20\n",
      "\u001b[1m1/1\u001b[0m \u001b[32m━━━━━━━━━━━━━━━━━━━━\u001b[0m\u001b[37m\u001b[0m \u001b[1m0s\u001b[0m 462ms/step - accuracy: 0.0448 - loss: 295.4627 - val_accuracy: 0.4706 - val_loss: 1770.3888\n",
      "Epoch 2/20\n",
      "\u001b[1m1/1\u001b[0m \u001b[32m━━━━━━━━━━━━━━━━━━━━\u001b[0m\u001b[37m\u001b[0m \u001b[1m0s\u001b[0m 41ms/step - accuracy: 0.5970 - loss: 877.6045 - val_accuracy: 0.4265 - val_loss: 1017.9298\n",
      "Epoch 3/20\n",
      "\u001b[1m1/1\u001b[0m \u001b[32m━━━━━━━━━━━━━━━━━━━━\u001b[0m\u001b[37m\u001b[0m \u001b[1m0s\u001b[0m 40ms/step - accuracy: 0.2836 - loss: 975.0413 - val_accuracy: 0.4706 - val_loss: 462.1212\n",
      "Epoch 4/20\n",
      "\u001b[1m1/1\u001b[0m \u001b[32m━━━━━━━━━━━━━━━━━━━━\u001b[0m\u001b[37m\u001b[0m \u001b[1m0s\u001b[0m 41ms/step - accuracy: 0.6119 - loss: 111.7848 - val_accuracy: 0.3824 - val_loss: 169.9487\n",
      "Epoch 5/20\n",
      "\u001b[1m1/1\u001b[0m \u001b[32m━━━━━━━━━━━━━━━━━━━━\u001b[0m\u001b[37m\u001b[0m \u001b[1m0s\u001b[0m 40ms/step - accuracy: 0.9403 - loss: 20.5023 - val_accuracy: 0.3676 - val_loss: 173.0127\n",
      "Epoch 6/20\n",
      "\u001b[1m1/1\u001b[0m \u001b[32m━━━━━━━━━━━━━━━━━━━━\u001b[0m\u001b[37m\u001b[0m \u001b[1m0s\u001b[0m 41ms/step - accuracy: 0.9552 - loss: 16.8111 - val_accuracy: 0.3676 - val_loss: 171.1401\n",
      "Epoch 7/20\n",
      "\u001b[1m1/1\u001b[0m \u001b[32m━━━━━━━━━━━━━━━━━━━━\u001b[0m\u001b[37m\u001b[0m \u001b[1m0s\u001b[0m 40ms/step - accuracy: 0.9552 - loss: 14.2507 - val_accuracy: 0.3971 - val_loss: 175.3271\n",
      "Epoch 8/20\n",
      "\u001b[1m1/1\u001b[0m \u001b[32m━━━━━━━━━━━━━━━━━━━━\u001b[0m\u001b[37m\u001b[0m \u001b[1m0s\u001b[0m 41ms/step - accuracy: 0.9552 - loss: 12.1425 - val_accuracy: 0.3824 - val_loss: 173.1773\n",
      "Epoch 9/20\n",
      "\u001b[1m1/1\u001b[0m \u001b[32m━━━━━━━━━━━━━━━━━━━━\u001b[0m\u001b[37m\u001b[0m \u001b[1m0s\u001b[0m 39ms/step - accuracy: 0.9701 - loss: 9.6712 - val_accuracy: 0.4118 - val_loss: 176.1436\n",
      "Epoch 10/20\n",
      "\u001b[1m1/1\u001b[0m \u001b[32m━━━━━━━━━━━━━━━━━━━━\u001b[0m\u001b[37m\u001b[0m \u001b[1m0s\u001b[0m 40ms/step - accuracy: 0.9851 - loss: 8.2336 - val_accuracy: 0.4118 - val_loss: 176.4413\n",
      "Epoch 11/20\n",
      "\u001b[1m1/1\u001b[0m \u001b[32m━━━━━━━━━━━━━━━━━━━━\u001b[0m\u001b[37m\u001b[0m \u001b[1m0s\u001b[0m 44ms/step - accuracy: 0.9851 - loss: 8.1976 - val_accuracy: 0.4118 - val_loss: 176.8455\n",
      "Epoch 12/20\n",
      "\u001b[1m1/1\u001b[0m \u001b[32m━━━━━━━━━━━━━━━━━━━━\u001b[0m\u001b[37m\u001b[0m \u001b[1m0s\u001b[0m 43ms/step - accuracy: 0.9851 - loss: 8.1608 - val_accuracy: 0.4118 - val_loss: 177.2288\n",
      "Epoch 13/20\n",
      "\u001b[1m1/1\u001b[0m \u001b[32m━━━━━━━━━━━━━━━━━━━━\u001b[0m\u001b[37m\u001b[0m \u001b[1m0s\u001b[0m 42ms/step - accuracy: 0.9851 - loss: 8.1271 - val_accuracy: 0.4118 - val_loss: 177.3727\n",
      "Epoch 14/20\n",
      "\u001b[1m1/1\u001b[0m \u001b[32m━━━━━━━━━━━━━━━━━━━━\u001b[0m\u001b[37m\u001b[0m \u001b[1m0s\u001b[0m 41ms/step - accuracy: 1.0000 - loss: 8.1087 - val_accuracy: 0.4118 - val_loss: 177.3371\n",
      "Epoch 15/20\n",
      "\u001b[1m1/1\u001b[0m \u001b[32m━━━━━━━━━━━━━━━━━━━━\u001b[0m\u001b[37m\u001b[0m \u001b[1m0s\u001b[0m 42ms/step - accuracy: 1.0000 - loss: 8.0991 - val_accuracy: 0.4265 - val_loss: 177.4045\n",
      "Epoch 16/20\n",
      "\u001b[1m1/1\u001b[0m \u001b[32m━━━━━━━━━━━━━━━━━━━━\u001b[0m\u001b[37m\u001b[0m \u001b[1m0s\u001b[0m 39ms/step - accuracy: 1.0000 - loss: 8.0916 - val_accuracy: 0.4265 - val_loss: 177.3682\n",
      "Epoch 17/20\n",
      "\u001b[1m1/1\u001b[0m \u001b[32m━━━━━━━━━━━━━━━━━━━━\u001b[0m\u001b[37m\u001b[0m \u001b[1m0s\u001b[0m 42ms/step - accuracy: 1.0000 - loss: 8.0848 - val_accuracy: 0.4265 - val_loss: 177.3816\n",
      "Epoch 18/20\n",
      "\u001b[1m1/1\u001b[0m \u001b[32m━━━━━━━━━━━━━━━━━━━━\u001b[0m\u001b[37m\u001b[0m \u001b[1m0s\u001b[0m 40ms/step - accuracy: 1.0000 - loss: 8.0783 - val_accuracy: 0.4265 - val_loss: 177.3703\n",
      "Epoch 19/20\n",
      "\u001b[1m1/1\u001b[0m \u001b[32m━━━━━━━━━━━━━━━━━━━━\u001b[0m\u001b[37m\u001b[0m \u001b[1m0s\u001b[0m 40ms/step - accuracy: 1.0000 - loss: 8.0720 - val_accuracy: 0.4265 - val_loss: 177.3669\n",
      "Epoch 20/20\n",
      "\u001b[1m1/1\u001b[0m \u001b[32m━━━━━━━━━━━━━━━━━━━━\u001b[0m\u001b[37m\u001b[0m \u001b[1m0s\u001b[0m 43ms/step - accuracy: 1.0000 - loss: 8.0657 - val_accuracy: 0.4412 - val_loss: 177.3411\n"
     ]
    }
   ],
   "source": [
    "history = model.fit(train_padded,\n",
    "    y_train,\n",
    "    epochs=20,\n",
    "    batch_size=512,\n",
    "    validation_split=0.5)"
   ]
  },
  {
   "cell_type": "code",
   "execution_count": 820,
   "id": "b547001f-a17d-46be-8c8a-092f5ab12182",
   "metadata": {},
   "outputs": [],
   "source": [
    "#!pip install matplotlib"
   ]
  },
  {
   "cell_type": "code",
   "execution_count": 821,
   "id": "c7aa4221-41a7-4cfb-bbd5-a5deb0aa2589",
   "metadata": {},
   "outputs": [],
   "source": [
    "import matplotlib.pyplot as plt"
   ]
  },
  {
   "cell_type": "code",
   "execution_count": 822,
   "id": "a30f4513-07c6-4b19-a616-5aa4b61a8324",
   "metadata": {},
   "outputs": [
    {
     "data": {
      "image/png": "[encoded data removed]",
      "text/plain": [
       "<Figure size 640x480 with 1 Axes>"
      ]
     },
     "metadata": {},
     "output_type": "display_data"
    }
   ],
   "source": [
    "#plotting the training and validation loss\n",
    "loss = history.history[\"loss\"]\n",
    "val_loss = history.history[\"val_loss\"]\n",
    "epochs = range(1, len(loss) + 1)\n",
    "plt.plot(epochs, loss, \"bo\", label=\"Training loss\")\n",
    "plt.plot(epochs, val_loss, \"b\", label=\"Validation loss\")\n",
    "plt.title(\"Training and validation loss\")\n",
    "plt.xlabel(\"Epochs\")\n",
    "plt.ylabel(\"Loss\")\n",
    "plt.legend()\n",
    "plt.show()"
   ]
  },
  {
   "cell_type": "code",
   "execution_count": 823,
   "id": "2d2d6edd-a54b-4b33-8565-a029cd6ac5e4",
   "metadata": {},
   "outputs": [
    {
     "data": {
      "image/png": "[encoded data removed]",
      "text/plain": [
       "<Figure size 640x480 with 1 Axes>"
      ]
     },
     "metadata": {},
     "output_type": "display_data"
    }
   ],
   "source": [
    "#plotting the training and validation accuracy\n",
    "plt.clf()\n",
    "acc = history.history[\"accuracy\"]\n",
    "val_acc = history.history[\"val_accuracy\"]\n",
    "plt.plot(epochs, acc, \"bo\", label=\"Training accuracy\")\n",
    "plt.plot(epochs, val_acc, \"b\", label=\"Validation accuracy\")\n",
    "plt.title(\"Training and validation accuracy\")\n",
    "plt.xlabel(\"Epochs\")\n",
    "plt.ylabel(\"Accuracy\")\n",
    "plt.legend()\n",
    "plt.show()"
   ]
  },
  {
   "cell_type": "code",
   "execution_count": null,
   "id": "7c018371-4b16-49eb-a153-701a8761c0cc",
   "metadata": {},
   "outputs": [],
   "source": []
  },
  {
   "cell_type": "code",
   "execution_count": null,
   "id": "ba39bb7f-077a-4f7b-9b3f-4daa79ef67bb",
   "metadata": {},
   "outputs": [],
   "source": []
  }
 ],
 "metadata": {
  "kernelspec": {
   "display_name": "Python 3 (ipykernel)",
   "language": "python",
   "name": "python3"
  },
  "language_info": {
   "codemirror_mode": {
    "name": "ipython",
    "version": 3
   },
   "file_extension": ".py",
   "mimetype": "text/x-python",
   "name": "python",
   "nbconvert_exporter": "python",
   "pygments_lexer": "ipython3",
   "version": "3.12.8"
  }
 },
 "nbformat": 4,
 "nbformat_minor": 5
}
