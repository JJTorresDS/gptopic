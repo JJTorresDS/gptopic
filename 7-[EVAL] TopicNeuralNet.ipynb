{
 "cells": [
  {
   "cell_type": "code",
   "execution_count": 137,
   "id": "8da557f2-99b5-4109-9f89-5a82c5dc8d15",
   "metadata": {},
   "outputs": [],
   "source": [
    "import tensorflow as tf\n",
    "import pandas as pd\n",
    "import numpy as np\n",
    "import time\n",
    "from utils.utils import get_google_play_reviews\n",
    "\n",
    "import os\n",
    "from dotenv import load_dotenv\n",
    "\n",
    "from utils.utils import TopicNeuralNet\n",
    "pd.set_option('display.max_colwidth', None)\n",
    "\n",
    "from collections import Counter\n",
    "import seaborn as sns"
   ]
  },
  {
   "cell_type": "markdown",
   "id": "c0653366-78a7-4f67-a516-b39c937ba6e8",
   "metadata": {},
   "source": [
    "## Import data"
   ]
  },
  {
   "cell_type": "code",
   "execution_count": 138,
   "id": "e65b8bb6-8cd6-43fc-8656-820f84fcfd3a",
   "metadata": {},
   "outputs": [],
   "source": [
    "path = \"./data/\""
   ]
  },
  {
   "cell_type": "code",
   "execution_count": 139,
   "id": "e80c05ad-be17-4852-b9ab-08a1d52365b0",
   "metadata": {},
   "outputs": [],
   "source": [
    "df = pd.read_csv(path+\"/4.tagged_reviews_sample_verified.csv\")"
   ]
  },
  {
   "cell_type": "code",
   "execution_count": 140,
   "id": "8078431f-81cb-4ba4-aaf1-ed0f39fe8786",
   "metadata": {},
   "outputs": [
    {
     "data": {
      "text/plain": [
       "array(['co.mona.android', 'com.bybit.app', 'com.binance.dev'],\n",
       "      dtype=object)"
      ]
     },
     "execution_count": 140,
     "metadata": {},
     "output_type": "execute_result"
    }
   ],
   "source": [
    "df[\"app\"].unique()"
   ]
  },
  {
   "cell_type": "code",
   "execution_count": 141,
   "id": "e9ff9881-e2da-4485-a541-eb8295d804f4",
   "metadata": {},
   "outputs": [],
   "source": [
    "binance_index = df[\"app\"]== \"com.binance.dev\"\n",
    "crypto_index = df[\"app\"]== \"co.mona.android\"\n",
    "bybit_index = df[\"app\"]== 'com.bybit.app'"
   ]
  },
  {
   "cell_type": "code",
   "execution_count": 142,
   "id": "da3fa69b-a075-4848-be7f-c6e7e6da6ac3",
   "metadata": {},
   "outputs": [],
   "source": [
    "df_binance = df[binance_index].copy()\n",
    "df_crypto = df[crypto_index].copy()\n",
    "df_bybit = df[bybit_index].copy()"
   ]
  },
  {
   "cell_type": "markdown",
   "id": "4a0ba786-2ddb-4f2c-8193-21717307334d",
   "metadata": {},
   "source": [
    "## Preprocessing"
   ]
  },
  {
   "cell_type": "markdown",
   "id": "e2ff8f7e-a778-48b6-9e54-e4830838e500",
   "metadata": {},
   "source": [
    "## Training with Crypto.com´s reviews"
   ]
  },
  {
   "cell_type": "code",
   "execution_count": 143,
   "id": "5093cc7f-b441-41eb-bc1f-8114bbfb6aa8",
   "metadata": {},
   "outputs": [
    {
     "data": {
      "text/plain": [
       "0            Usability/UI/UX\n",
       "1            Usability/UI/UX\n",
       "8            Usability/UI/UX\n",
       "11     Reliability/Stability\n",
       "15     Reliability/Stability\n",
       "               ...          \n",
       "255         Generic feedback\n",
       "261         Generic feedback\n",
       "263    Reliability/Stability\n",
       "274                    Fraud\n",
       "281         Generic feedback\n",
       "Name: corrected_topic, Length: 146, dtype: object"
      ]
     },
     "execution_count": 143,
     "metadata": {},
     "output_type": "execute_result"
    }
   ],
   "source": [
    "df_crypto.corrected_topic"
   ]
  },
  {
   "cell_type": "code",
   "execution_count": 144,
   "id": "5e2d59f5-203f-4916-88f4-496dabca59de",
   "metadata": {},
   "outputs": [],
   "source": [
    "testmodel = TopicNeuralNet(df_crypto.content, df_crypto.gemini_llm_topic)"
   ]
  },
  {
   "cell_type": "code",
   "execution_count": 145,
   "id": "dd1539e4-9c7f-4e40-90cb-c526a16b058e",
   "metadata": {},
   "outputs": [],
   "source": [
    "#start = time.time()\n",
    "#testmodel.fit(bootstrapping=True, preprocess=True, epochs=20, factor=1)\n",
    "#end = time.time()\n",
    "#print(\"Elapsed time: \", np.round((end-start)/60,2),\"minutes.\")"
   ]
  },
  {
   "cell_type": "code",
   "execution_count": 146,
   "id": "52fa6973-b57b-4cff-8a44-0848c4310027",
   "metadata": {},
   "outputs": [],
   "source": [
    "with open('models/cryptocom_topic.pickle', 'rb') as f:\n",
    "    testmodel = pickle.load(f)"
   ]
  },
  {
   "cell_type": "code",
   "execution_count": 147,
   "id": "7f756448-e41c-477e-a9ab-89437c67ae77",
   "metadata": {},
   "outputs": [
    {
     "name": "stdout",
     "output_type": "stream",
     "text": [
      "Normalizing text\n",
      "Tokenizing text\n",
      "Passing text sequences\n",
      "\u001b[1m5/5\u001b[0m \u001b[32m━━━━━━━━━━━━━━━━━━━━\u001b[0m\u001b[37m\u001b[0m \u001b[1m1s\u001b[0m 90ms/step\n",
      "Normalizing text\n",
      "Tokenizing text\n",
      "Passing text sequences\n",
      "\u001b[1m3/3\u001b[0m \u001b[32m━━━━━━━━━━━━━━━━━━━━\u001b[0m\u001b[37m\u001b[0m \u001b[1m0s\u001b[0m 28ms/step\n",
      "Normalizing text\n",
      "Tokenizing text\n",
      "Passing text sequences\n",
      "\u001b[1m3/3\u001b[0m \u001b[32m━━━━━━━━━━━━━━━━━━━━\u001b[0m\u001b[37m\u001b[0m \u001b[1m0s\u001b[0m 22ms/step\n"
     ]
    }
   ],
   "source": [
    "y_hat_cryptocom = testmodel.predict(df_crypto.content)\n",
    "y_hat_binance = testmodel.predict(df_binance.content)\n",
    "y_hat_bybit = testmodel.predict(df_bybit.content)"
   ]
  },
  {
   "cell_type": "code",
   "execution_count": 148,
   "id": "fef8789a-501a-477e-8dda-f3d07ce45157",
   "metadata": {},
   "outputs": [
    {
     "data": {
      "text/html": [
       "<pre style=\"white-space:pre;overflow-x:auto;line-height:normal;font-family:Menlo,'DejaVu Sans Mono',consolas,'Courier New',monospace\"><span style=\"font-weight: bold\">Model: \"sequential_1\"</span>\n",
       "</pre>\n"
      ],
      "text/plain": [
       "\u001b[1mModel: \"sequential_1\"\u001b[0m\n"
      ]
     },
     "metadata": {},
     "output_type": "display_data"
    },
    {
     "data": {
      "text/html": [
       "<pre style=\"white-space:pre;overflow-x:auto;line-height:normal;font-family:Menlo,'DejaVu Sans Mono',consolas,'Courier New',monospace\">┏━━━━━━━━━━━━━━━━━━━━━━━━━━━━━━━━━┳━━━━━━━━━━━━━━━━━━━━━━━━┳━━━━━━━━━━━━━━━┓\n",
       "┃<span style=\"font-weight: bold\"> Layer (type)                    </span>┃<span style=\"font-weight: bold\"> Output Shape           </span>┃<span style=\"font-weight: bold\">       Param # </span>┃\n",
       "┡━━━━━━━━━━━━━━━━━━━━━━━━━━━━━━━━━╇━━━━━━━━━━━━━━━━━━━━━━━━╇━━━━━━━━━━━━━━━┩\n",
       "│ embedding_1 (<span style=\"color: #0087ff; text-decoration-color: #0087ff\">Embedding</span>)         │ (<span style=\"color: #00d7ff; text-decoration-color: #00d7ff\">None</span>, <span style=\"color: #00af00; text-decoration-color: #00af00\">37</span>, <span style=\"color: #00af00; text-decoration-color: #00af00\">1200</span>)       │     <span style=\"color: #00af00; text-decoration-color: #00af00\">1,351,200</span> │\n",
       "├─────────────────────────────────┼────────────────────────┼───────────────┤\n",
       "│ lstm_4 (<span style=\"color: #0087ff; text-decoration-color: #0087ff\">LSTM</span>)                   │ (<span style=\"color: #00d7ff; text-decoration-color: #00d7ff\">None</span>, <span style=\"color: #00af00; text-decoration-color: #00af00\">37</span>, <span style=\"color: #00af00; text-decoration-color: #00af00\">60</span>)         │       <span style=\"color: #00af00; text-decoration-color: #00af00\">302,640</span> │\n",
       "├─────────────────────────────────┼────────────────────────┼───────────────┤\n",
       "│ dropout_4 (<span style=\"color: #0087ff; text-decoration-color: #0087ff\">Dropout</span>)             │ (<span style=\"color: #00d7ff; text-decoration-color: #00d7ff\">None</span>, <span style=\"color: #00af00; text-decoration-color: #00af00\">37</span>, <span style=\"color: #00af00; text-decoration-color: #00af00\">60</span>)         │             <span style=\"color: #00af00; text-decoration-color: #00af00\">0</span> │\n",
       "├─────────────────────────────────┼────────────────────────┼───────────────┤\n",
       "│ lstm_5 (<span style=\"color: #0087ff; text-decoration-color: #0087ff\">LSTM</span>)                   │ (<span style=\"color: #00d7ff; text-decoration-color: #00d7ff\">None</span>, <span style=\"color: #00af00; text-decoration-color: #00af00\">37</span>, <span style=\"color: #00af00; text-decoration-color: #00af00\">60</span>)         │        <span style=\"color: #00af00; text-decoration-color: #00af00\">29,040</span> │\n",
       "├─────────────────────────────────┼────────────────────────┼───────────────┤\n",
       "│ dropout_5 (<span style=\"color: #0087ff; text-decoration-color: #0087ff\">Dropout</span>)             │ (<span style=\"color: #00d7ff; text-decoration-color: #00d7ff\">None</span>, <span style=\"color: #00af00; text-decoration-color: #00af00\">37</span>, <span style=\"color: #00af00; text-decoration-color: #00af00\">60</span>)         │             <span style=\"color: #00af00; text-decoration-color: #00af00\">0</span> │\n",
       "├─────────────────────────────────┼────────────────────────┼───────────────┤\n",
       "│ lstm_6 (<span style=\"color: #0087ff; text-decoration-color: #0087ff\">LSTM</span>)                   │ (<span style=\"color: #00d7ff; text-decoration-color: #00d7ff\">None</span>, <span style=\"color: #00af00; text-decoration-color: #00af00\">37</span>, <span style=\"color: #00af00; text-decoration-color: #00af00\">60</span>)         │        <span style=\"color: #00af00; text-decoration-color: #00af00\">29,040</span> │\n",
       "├─────────────────────────────────┼────────────────────────┼───────────────┤\n",
       "│ dropout_6 (<span style=\"color: #0087ff; text-decoration-color: #0087ff\">Dropout</span>)             │ (<span style=\"color: #00d7ff; text-decoration-color: #00d7ff\">None</span>, <span style=\"color: #00af00; text-decoration-color: #00af00\">37</span>, <span style=\"color: #00af00; text-decoration-color: #00af00\">60</span>)         │             <span style=\"color: #00af00; text-decoration-color: #00af00\">0</span> │\n",
       "├─────────────────────────────────┼────────────────────────┼───────────────┤\n",
       "│ lstm_7 (<span style=\"color: #0087ff; text-decoration-color: #0087ff\">LSTM</span>)                   │ (<span style=\"color: #00d7ff; text-decoration-color: #00d7ff\">None</span>, <span style=\"color: #00af00; text-decoration-color: #00af00\">60</span>)             │        <span style=\"color: #00af00; text-decoration-color: #00af00\">29,040</span> │\n",
       "├─────────────────────────────────┼────────────────────────┼───────────────┤\n",
       "│ dropout_7 (<span style=\"color: #0087ff; text-decoration-color: #0087ff\">Dropout</span>)             │ (<span style=\"color: #00d7ff; text-decoration-color: #00d7ff\">None</span>, <span style=\"color: #00af00; text-decoration-color: #00af00\">60</span>)             │             <span style=\"color: #00af00; text-decoration-color: #00af00\">0</span> │\n",
       "├─────────────────────────────────┼────────────────────────┼───────────────┤\n",
       "│ dense_2 (<span style=\"color: #0087ff; text-decoration-color: #0087ff\">Dense</span>)                 │ (<span style=\"color: #00d7ff; text-decoration-color: #00d7ff\">None</span>, <span style=\"color: #00af00; text-decoration-color: #00af00\">36</span>)             │         <span style=\"color: #00af00; text-decoration-color: #00af00\">2,196</span> │\n",
       "├─────────────────────────────────┼────────────────────────┼───────────────┤\n",
       "│ dense_3 (<span style=\"color: #0087ff; text-decoration-color: #0087ff\">Dense</span>)                 │ (<span style=\"color: #00d7ff; text-decoration-color: #00d7ff\">None</span>, <span style=\"color: #00af00; text-decoration-color: #00af00\">12</span>)             │           <span style=\"color: #00af00; text-decoration-color: #00af00\">444</span> │\n",
       "└─────────────────────────────────┴────────────────────────┴───────────────┘\n",
       "</pre>\n"
      ],
      "text/plain": [
       "┏━━━━━━━━━━━━━━━━━━━━━━━━━━━━━━━━━┳━━━━━━━━━━━━━━━━━━━━━━━━┳━━━━━━━━━━━━━━━┓\n",
       "┃\u001b[1m \u001b[0m\u001b[1mLayer (type)                   \u001b[0m\u001b[1m \u001b[0m┃\u001b[1m \u001b[0m\u001b[1mOutput Shape          \u001b[0m\u001b[1m \u001b[0m┃\u001b[1m \u001b[0m\u001b[1m      Param #\u001b[0m\u001b[1m \u001b[0m┃\n",
       "┡━━━━━━━━━━━━━━━━━━━━━━━━━━━━━━━━━╇━━━━━━━━━━━━━━━━━━━━━━━━╇━━━━━━━━━━━━━━━┩\n",
       "│ embedding_1 (\u001b[38;5;33mEmbedding\u001b[0m)         │ (\u001b[38;5;45mNone\u001b[0m, \u001b[38;5;34m37\u001b[0m, \u001b[38;5;34m1200\u001b[0m)       │     \u001b[38;5;34m1,351,200\u001b[0m │\n",
       "├─────────────────────────────────┼────────────────────────┼───────────────┤\n",
       "│ lstm_4 (\u001b[38;5;33mLSTM\u001b[0m)                   │ (\u001b[38;5;45mNone\u001b[0m, \u001b[38;5;34m37\u001b[0m, \u001b[38;5;34m60\u001b[0m)         │       \u001b[38;5;34m302,640\u001b[0m │\n",
       "├─────────────────────────────────┼────────────────────────┼───────────────┤\n",
       "│ dropout_4 (\u001b[38;5;33mDropout\u001b[0m)             │ (\u001b[38;5;45mNone\u001b[0m, \u001b[38;5;34m37\u001b[0m, \u001b[38;5;34m60\u001b[0m)         │             \u001b[38;5;34m0\u001b[0m │\n",
       "├─────────────────────────────────┼────────────────────────┼───────────────┤\n",
       "│ lstm_5 (\u001b[38;5;33mLSTM\u001b[0m)                   │ (\u001b[38;5;45mNone\u001b[0m, \u001b[38;5;34m37\u001b[0m, \u001b[38;5;34m60\u001b[0m)         │        \u001b[38;5;34m29,040\u001b[0m │\n",
       "├─────────────────────────────────┼────────────────────────┼───────────────┤\n",
       "│ dropout_5 (\u001b[38;5;33mDropout\u001b[0m)             │ (\u001b[38;5;45mNone\u001b[0m, \u001b[38;5;34m37\u001b[0m, \u001b[38;5;34m60\u001b[0m)         │             \u001b[38;5;34m0\u001b[0m │\n",
       "├─────────────────────────────────┼────────────────────────┼───────────────┤\n",
       "│ lstm_6 (\u001b[38;5;33mLSTM\u001b[0m)                   │ (\u001b[38;5;45mNone\u001b[0m, \u001b[38;5;34m37\u001b[0m, \u001b[38;5;34m60\u001b[0m)         │        \u001b[38;5;34m29,040\u001b[0m │\n",
       "├─────────────────────────────────┼────────────────────────┼───────────────┤\n",
       "│ dropout_6 (\u001b[38;5;33mDropout\u001b[0m)             │ (\u001b[38;5;45mNone\u001b[0m, \u001b[38;5;34m37\u001b[0m, \u001b[38;5;34m60\u001b[0m)         │             \u001b[38;5;34m0\u001b[0m │\n",
       "├─────────────────────────────────┼────────────────────────┼───────────────┤\n",
       "│ lstm_7 (\u001b[38;5;33mLSTM\u001b[0m)                   │ (\u001b[38;5;45mNone\u001b[0m, \u001b[38;5;34m60\u001b[0m)             │        \u001b[38;5;34m29,040\u001b[0m │\n",
       "├─────────────────────────────────┼────────────────────────┼───────────────┤\n",
       "│ dropout_7 (\u001b[38;5;33mDropout\u001b[0m)             │ (\u001b[38;5;45mNone\u001b[0m, \u001b[38;5;34m60\u001b[0m)             │             \u001b[38;5;34m0\u001b[0m │\n",
       "├─────────────────────────────────┼────────────────────────┼───────────────┤\n",
       "│ dense_2 (\u001b[38;5;33mDense\u001b[0m)                 │ (\u001b[38;5;45mNone\u001b[0m, \u001b[38;5;34m36\u001b[0m)             │         \u001b[38;5;34m2,196\u001b[0m │\n",
       "├─────────────────────────────────┼────────────────────────┼───────────────┤\n",
       "│ dense_3 (\u001b[38;5;33mDense\u001b[0m)                 │ (\u001b[38;5;45mNone\u001b[0m, \u001b[38;5;34m12\u001b[0m)             │           \u001b[38;5;34m444\u001b[0m │\n",
       "└─────────────────────────────────┴────────────────────────┴───────────────┘\n"
      ]
     },
     "metadata": {},
     "output_type": "display_data"
    },
    {
     "data": {
      "text/html": [
       "<pre style=\"white-space:pre;overflow-x:auto;line-height:normal;font-family:Menlo,'DejaVu Sans Mono',consolas,'Courier New',monospace\"><span style=\"font-weight: bold\"> Total params: </span><span style=\"color: #00af00; text-decoration-color: #00af00\">5,230,802</span> (19.95 MB)\n",
       "</pre>\n"
      ],
      "text/plain": [
       "\u001b[1m Total params: \u001b[0m\u001b[38;5;34m5,230,802\u001b[0m (19.95 MB)\n"
      ]
     },
     "metadata": {},
     "output_type": "display_data"
    },
    {
     "data": {
      "text/html": [
       "<pre style=\"white-space:pre;overflow-x:auto;line-height:normal;font-family:Menlo,'DejaVu Sans Mono',consolas,'Courier New',monospace\"><span style=\"font-weight: bold\"> Trainable params: </span><span style=\"color: #00af00; text-decoration-color: #00af00\">1,743,600</span> (6.65 MB)\n",
       "</pre>\n"
      ],
      "text/plain": [
       "\u001b[1m Trainable params: \u001b[0m\u001b[38;5;34m1,743,600\u001b[0m (6.65 MB)\n"
      ]
     },
     "metadata": {},
     "output_type": "display_data"
    },
    {
     "data": {
      "text/html": [
       "<pre style=\"white-space:pre;overflow-x:auto;line-height:normal;font-family:Menlo,'DejaVu Sans Mono',consolas,'Courier New',monospace\"><span style=\"font-weight: bold\"> Non-trainable params: </span><span style=\"color: #00af00; text-decoration-color: #00af00\">0</span> (0.00 B)\n",
       "</pre>\n"
      ],
      "text/plain": [
       "\u001b[1m Non-trainable params: \u001b[0m\u001b[38;5;34m0\u001b[0m (0.00 B)\n"
      ]
     },
     "metadata": {},
     "output_type": "display_data"
    },
    {
     "data": {
      "text/html": [
       "<pre style=\"white-space:pre;overflow-x:auto;line-height:normal;font-family:Menlo,'DejaVu Sans Mono',consolas,'Courier New',monospace\"><span style=\"font-weight: bold\"> Optimizer params: </span><span style=\"color: #00af00; text-decoration-color: #00af00\">3,487,202</span> (13.30 MB)\n",
       "</pre>\n"
      ],
      "text/plain": [
       "\u001b[1m Optimizer params: \u001b[0m\u001b[38;5;34m3,487,202\u001b[0m (13.30 MB)\n"
      ]
     },
     "metadata": {},
     "output_type": "display_data"
    }
   ],
   "source": [
    "testmodel.model.summary()"
   ]
  },
  {
   "cell_type": "code",
   "execution_count": 150,
   "id": "4e927364-0cfc-4bda-a085-3bfbc4508e42",
   "metadata": {},
   "outputs": [
    {
     "name": "stdout",
     "output_type": "stream",
     "text": [
      "Crypt.com accuracy: 1.0\n",
      "Crypt.com accuracy: 0.4090909090909091\n",
      "Crypt.com accuracy: 0.4153846153846154\n"
     ]
    }
   ],
   "source": [
    "print(\"Crypt.com accuracy:\", (df_crypto.gemini_llm_topic==y_hat_cryptocom).mean())\n",
    "print(\"Crypt.com accuracy:\", (df_binance.gemini_llm_topic==y_hat_binance).mean())\n",
    "print(\"Crypt.com accuracy:\", (df_bybit.gemini_llm_topic==y_hat_bybit).mean())"
   ]
  },
  {
   "cell_type": "code",
   "execution_count": 151,
   "id": "de91092e-0de2-4c93-ab0d-b0dc40e9fa97",
   "metadata": {},
   "outputs": [
    {
     "name": "stdout",
     "output_type": "stream",
     "text": [
      "Crypt.com accuracy: 0.8904109589041096\n",
      "Crypt.com accuracy: 0.36363636363636365\n",
      "Crypt.com accuracy: 0.4\n"
     ]
    }
   ],
   "source": [
    "print(\"Crypt.com accuracy:\", (df_crypto.corrected_topic==y_hat_cryptocom).mean())\n",
    "print(\"Crypt.com accuracy:\", (df_binance.corrected_topic==y_hat_binance).mean())\n",
    "print(\"Crypt.com accuracy:\", (df_bybit.corrected_topic==y_hat_bybit).mean())"
   ]
  },
  {
   "cell_type": "markdown",
   "id": "4a9905f8-edf2-42e2-b828-c92dde5876c9",
   "metadata": {},
   "source": [
    "## Qualitative Review: Test the model´s overall ability to understand language using Dummy reviews"
   ]
  },
  {
   "cell_type": "code",
   "execution_count": 152,
   "id": "86335d6e-2f47-4a99-a867-0f7656581272",
   "metadata": {},
   "outputs": [
    {
     "name": "stdout",
     "output_type": "stream",
     "text": [
      "Normalizing text\n",
      "Tokenizing text\n",
      "Passing text sequences\n",
      "\u001b[1m1/1\u001b[0m \u001b[32m━━━━━━━━━━━━━━━━━━━━\u001b[0m\u001b[37m\u001b[0m \u001b[1m0s\u001b[0m 37ms/step\n"
     ]
    },
    {
     "data": {
      "text/html": [
       "<div>\n",
       "<style scoped>\n",
       "    .dataframe tbody tr th:only-of-type {\n",
       "        vertical-align: middle;\n",
       "    }\n",
       "\n",
       "    .dataframe tbody tr th {\n",
       "        vertical-align: top;\n",
       "    }\n",
       "\n",
       "    .dataframe thead th {\n",
       "        text-align: right;\n",
       "    }\n",
       "</style>\n",
       "<table border=\"1\" class=\"dataframe\">\n",
       "  <thead>\n",
       "    <tr style=\"text-align: right;\">\n",
       "      <th></th>\n",
       "      <th>dummy_reviews</th>\n",
       "      <th>dummy_true_labels</th>\n",
       "      <th>predictions</th>\n",
       "    </tr>\n",
       "  </thead>\n",
       "  <tbody>\n",
       "    <tr>\n",
       "      <th>0</th>\n",
       "      <td>Great Customer support!</td>\n",
       "      <td>Customer Support</td>\n",
       "      <td>Customer Support</td>\n",
       "    </tr>\n",
       "    <tr>\n",
       "      <th>1</th>\n",
       "      <td>Bad customer service!</td>\n",
       "      <td>Customer Support</td>\n",
       "      <td>Customer Support</td>\n",
       "    </tr>\n",
       "    <tr>\n",
       "      <th>2</th>\n",
       "      <td>Worst Customer support!</td>\n",
       "      <td>Customer Support</td>\n",
       "      <td>Customer Support</td>\n",
       "    </tr>\n",
       "    <tr>\n",
       "      <th>3</th>\n",
       "      <td>Full of hidden fees</td>\n",
       "      <td>Transaction Fees/Speed</td>\n",
       "      <td>Transaction Fees/Speed</td>\n",
       "    </tr>\n",
       "    <tr>\n",
       "      <th>4</th>\n",
       "      <td>Loosing a lot of many with the fees</td>\n",
       "      <td>Transaction Fees/Speed</td>\n",
       "      <td>Transaction Fees/Speed</td>\n",
       "    </tr>\n",
       "    <tr>\n",
       "      <th>5</th>\n",
       "      <td>Other networks charge less per trade</td>\n",
       "      <td>Transaction Fees/Speed</td>\n",
       "      <td>Usability/UI/UX</td>\n",
       "    </tr>\n",
       "    <tr>\n",
       "      <th>6</th>\n",
       "      <td>Too many updates!!</td>\n",
       "      <td>Reliability/Stability</td>\n",
       "      <td>Reliability/Stability</td>\n",
       "    </tr>\n",
       "    <tr>\n",
       "      <th>7</th>\n",
       "      <td>Cant download app</td>\n",
       "      <td>Reliability/Stability</td>\n",
       "      <td>Usability/UI/UX</td>\n",
       "    </tr>\n",
       "    <tr>\n",
       "      <th>8</th>\n",
       "      <td>App full of scammers</td>\n",
       "      <td>Security</td>\n",
       "      <td>Usability/UI/UX</td>\n",
       "    </tr>\n",
       "    <tr>\n",
       "      <th>9</th>\n",
       "      <td>Danger, lot´s of scammers</td>\n",
       "      <td>Security</td>\n",
       "      <td>Generic feedback</td>\n",
       "    </tr>\n",
       "    <tr>\n",
       "      <th>10</th>\n",
       "      <td>Scams!!</td>\n",
       "      <td>Security</td>\n",
       "      <td>Generic feedback</td>\n",
       "    </tr>\n",
       "    <tr>\n",
       "      <th>11</th>\n",
       "      <td>Very Easy to use</td>\n",
       "      <td>Usability/UI/UX</td>\n",
       "      <td>Usability/UI/UX</td>\n",
       "    </tr>\n",
       "    <tr>\n",
       "      <th>12</th>\n",
       "      <td>Friendly UI</td>\n",
       "      <td>Usability/UI/UX</td>\n",
       "      <td>Usability/UI/UX</td>\n",
       "    </tr>\n",
       "    <tr>\n",
       "      <th>13</th>\n",
       "      <td>Fortunately I had no issues so far, the app is very intuitive</td>\n",
       "      <td>Usability/UI/UX</td>\n",
       "      <td>Reliability/Stability</td>\n",
       "    </tr>\n",
       "    <tr>\n",
       "      <th>14</th>\n",
       "      <td>Nice features</td>\n",
       "      <td>Generic feedback</td>\n",
       "      <td>Generic feedback</td>\n",
       "    </tr>\n",
       "    <tr>\n",
       "      <th>15</th>\n",
       "      <td>Great so far</td>\n",
       "      <td>Generic feedback</td>\n",
       "      <td>Generic feedback</td>\n",
       "    </tr>\n",
       "    <tr>\n",
       "      <th>16</th>\n",
       "      <td>Excellent</td>\n",
       "      <td>Generic feedback</td>\n",
       "      <td>Generic feedback</td>\n",
       "    </tr>\n",
       "    <tr>\n",
       "      <th>17</th>\n",
       "      <td>:)</td>\n",
       "      <td>Generic feedback</td>\n",
       "      <td>Generic feedback</td>\n",
       "    </tr>\n",
       "    <tr>\n",
       "      <th>18</th>\n",
       "      <td>Great app to loose money!</td>\n",
       "      <td>Generic feedback</td>\n",
       "      <td>Reliability/Stability</td>\n",
       "    </tr>\n",
       "  </tbody>\n",
       "</table>\n",
       "</div>"
      ],
      "text/plain": [
       "                                                    dummy_reviews  \\\n",
       "0                                         Great Customer support!   \n",
       "1                                           Bad customer service!   \n",
       "2                                         Worst Customer support!   \n",
       "3                                             Full of hidden fees   \n",
       "4                             Loosing a lot of many with the fees   \n",
       "5                            Other networks charge less per trade   \n",
       "6                                              Too many updates!!   \n",
       "7                                               Cant download app   \n",
       "8                                            App full of scammers   \n",
       "9                                       Danger, lot´s of scammers   \n",
       "10                                                        Scams!!   \n",
       "11                                               Very Easy to use   \n",
       "12                                                    Friendly UI   \n",
       "13  Fortunately I had no issues so far, the app is very intuitive   \n",
       "14                                                  Nice features   \n",
       "15                                                   Great so far   \n",
       "16                                                      Excellent   \n",
       "17                                                             :)   \n",
       "18                                      Great app to loose money!   \n",
       "\n",
       "         dummy_true_labels             predictions  \n",
       "0         Customer Support        Customer Support  \n",
       "1         Customer Support        Customer Support  \n",
       "2         Customer Support        Customer Support  \n",
       "3   Transaction Fees/Speed  Transaction Fees/Speed  \n",
       "4   Transaction Fees/Speed  Transaction Fees/Speed  \n",
       "5   Transaction Fees/Speed         Usability/UI/UX  \n",
       "6    Reliability/Stability   Reliability/Stability  \n",
       "7    Reliability/Stability         Usability/UI/UX  \n",
       "8                 Security         Usability/UI/UX  \n",
       "9                 Security        Generic feedback  \n",
       "10                Security        Generic feedback  \n",
       "11         Usability/UI/UX         Usability/UI/UX  \n",
       "12         Usability/UI/UX         Usability/UI/UX  \n",
       "13         Usability/UI/UX   Reliability/Stability  \n",
       "14        Generic feedback        Generic feedback  \n",
       "15        Generic feedback        Generic feedback  \n",
       "16        Generic feedback        Generic feedback  \n",
       "17        Generic feedback        Generic feedback  \n",
       "18        Generic feedback   Reliability/Stability  "
      ]
     },
     "execution_count": 152,
     "metadata": {},
     "output_type": "execute_result"
    }
   ],
   "source": [
    "dummy_reviews = [\n",
    "    \"Great Customer support!\",\"Bad customer service!\", \"Worst Customer support!\",#customer support examples\n",
    "    \"Full of hidden fees\",\"Loosing a lot of many with the fees\", \"Other networks charge less per trade\",# fees\n",
    "     \"Too many updates!!\", \"Cant download app\", #Reliability\n",
    "    \"App full of scammers\",\"Danger, lot´s of scammers\", \"Scams!!\", #security\n",
    "     \"Very Easy to use\", \"Friendly UI\", \"Fortunately I had no issues so far, the app is very intuitive\", #usability\n",
    "     \"Nice features\",\"Great so far\", \"Excellent\", \":)\", #generic feedback\n",
    "     \"Great app to loose money!\"] #sarcasm\n",
    "dummy_true_label = [\n",
    "    \"Customer Support\", \"Customer Support\", \"Customer Support\", \n",
    "    \"Transaction Fees/Speed\",\"Transaction Fees/Speed\",\"Transaction Fees/Speed\",\n",
    "    \"Reliability/Stability\", \"Reliability/Stability\",\n",
    "    \"Security\",\"Security\",\"Security\",\n",
    "    \"Usability/UI/UX\", \"Usability/UI/UX\", \"Usability/UI/UX\",\n",
    "    \"Generic feedback\", \"Generic feedback\", \"Generic feedback\",\"Generic feedback\",\n",
    "    \"Generic feedback\"\n",
    "]\n",
    "    \n",
    "dummy_predictions = testmodel.predict(dummy_reviews)\n",
    "pd.DataFrame({\"dummy_reviews\":dummy_reviews, \"dummy_true_labels\":dummy_true_label,  \"predictions\":dummy_predictions})"
   ]
  },
  {
   "cell_type": "markdown",
   "id": "b9f2c763-10a1-4e6b-9cac-be03e07cef7c",
   "metadata": {},
   "source": [
    "## Saving the model"
   ]
  },
  {
   "cell_type": "code",
   "execution_count": 110,
   "id": "89f17369-ebeb-41e5-8513-bc17d089358b",
   "metadata": {},
   "outputs": [],
   "source": [
    "import pickle"
   ]
  },
  {
   "cell_type": "code",
   "execution_count": 111,
   "id": "4a5b963a-e1bf-42b8-adb6-4a29f5579785",
   "metadata": {},
   "outputs": [],
   "source": [
    "#with open('models/cryptocom_topic.pickle', 'wb') as f:\n",
    "#    pickle.dump(testmodel, f)"
   ]
  },
  {
   "cell_type": "code",
   "execution_count": 153,
   "id": "a24ae0df-c784-4337-99f1-2d56f3501580",
   "metadata": {},
   "outputs": [],
   "source": [
    "with open('models/cryptocom_topic.pickle', 'rb') as f:\n",
    "    crypto_topic_model = pickle.load(f)"
   ]
  },
  {
   "cell_type": "code",
   "execution_count": 154,
   "id": "b7db6065-d1d2-4de1-8a09-b394af27c657",
   "metadata": {},
   "outputs": [
    {
     "name": "stdout",
     "output_type": "stream",
     "text": [
      "Normalizing text\n",
      "Tokenizing text\n",
      "Passing text sequences\n",
      "\u001b[1m3/3\u001b[0m \u001b[32m━━━━━━━━━━━━━━━━━━━━\u001b[0m\u001b[37m\u001b[0m \u001b[1m1s\u001b[0m 153ms/step\n"
     ]
    },
    {
     "data": {
      "text/plain": [
       "Counter({'Generic feedback': 30,\n",
       "         'Reliability/Stability': 23,\n",
       "         'Usability/UI/UX': 19,\n",
       "         'Account Management': 8,\n",
       "         'Transaction Fees/Speed': 3,\n",
       "         'Educational Resources/Onboarding': 2,\n",
       "         'Customer Support': 2,\n",
       "         'Verification/KYC/AML Processes': 1})"
      ]
     },
     "execution_count": 154,
     "metadata": {},
     "output_type": "execute_result"
    }
   ],
   "source": [
    "Counter(crypto_topic_model.predict(df_binance.content))"
   ]
  },
  {
   "cell_type": "code",
   "execution_count": 155,
   "id": "54c6e983-4c5b-4f10-ba2a-205b77a9b2fa",
   "metadata": {},
   "outputs": [
    {
     "data": {
      "text/plain": [
       "gemini_llm_topic\n",
       "Generic feedback                  30\n",
       "Features/Functionality            18\n",
       "Usability/UI/UX                   15\n",
       "Customer Support                   6\n",
       "Account Management                 6\n",
       "Reliability/Stability              5\n",
       "Transaction Fees/Speed             3\n",
       "Verification/KYC/AML Processes     2\n",
       "Wallet Security/Integration        2\n",
       "Security                           1\n",
       "Name: count, dtype: int64"
      ]
     },
     "execution_count": 155,
     "metadata": {},
     "output_type": "execute_result"
    }
   ],
   "source": [
    "df_binance.gemini_llm_topic.value_counts()"
   ]
  },
  {
   "cell_type": "markdown",
   "id": "bf833c4c-1b43-4ea5-8399-d933eb5a56ca",
   "metadata": {},
   "source": [
    "## Analyzing failures"
   ]
  },
  {
   "cell_type": "markdown",
   "id": "38f56220-499a-4146-b462-117d3b71aea8",
   "metadata": {},
   "source": [
    "### Against the trained data set"
   ]
  },
  {
   "cell_type": "code",
   "execution_count": 156,
   "id": "e9a41baa-24ec-4fe0-83a1-0da803722eb8",
   "metadata": {},
   "outputs": [
    {
     "data": {
      "image/png": "[encoded data removed]",
      "text/plain": [
       "<Figure size 640x480 with 2 Axes>"
      ]
     },
     "metadata": {},
     "output_type": "display_data"
    }
   ],
   "source": [
    "sns.heatmap(pd.crosstab(df_crypto.gemini_llm_topic, y_hat_cryptocom));"
   ]
  },
  {
   "cell_type": "markdown",
   "id": "37bc44c9-3b78-47d1-b13b-51602fe1a5c0",
   "metadata": {},
   "source": [
    "### Against new reviews from crypto.com"
   ]
  },
  {
   "cell_type": "code",
   "execution_count": 157,
   "id": "f939ccba-bf47-46bc-958c-5302ae6b3039",
   "metadata": {},
   "outputs": [],
   "source": [
    "new_cryptocom_reviews = pd.DataFrame(get_google_play_reviews(\"co.mona.android\", count=30))"
   ]
  },
  {
   "cell_type": "code",
   "execution_count": 158,
   "id": "b6048e96-708b-4c60-ae4f-29ab35d159d4",
   "metadata": {
    "scrolled": true
   },
   "outputs": [
    {
     "name": "stdout",
     "output_type": "stream",
     "text": [
      "Normalizing text\n",
      "Tokenizing text\n",
      "Passing text sequences\n",
      "\u001b[1m1/1\u001b[0m \u001b[32m━━━━━━━━━━━━━━━━━━━━\u001b[0m\u001b[37m\u001b[0m \u001b[1m0s\u001b[0m 40ms/step\n"
     ]
    }
   ],
   "source": [
    "y_hat_cryptocom_new = testmodel.predict(new_cryptocom_reviews.content)"
   ]
  },
  {
   "cell_type": "code",
   "execution_count": 159,
   "id": "5e0e09b7-9d20-4ea1-8953-76bf047bdeda",
   "metadata": {},
   "outputs": [],
   "source": [
    "new_cryptocom_reviews[\"topic_mode_prediction\"] = y_hat_cryptocom_new"
   ]
  },
  {
   "cell_type": "code",
   "execution_count": 160,
   "id": "460f892f-5477-401f-b4a3-2871cb0caed8",
   "metadata": {},
   "outputs": [],
   "source": [
    "from datetime import datetime"
   ]
  },
  {
   "cell_type": "code",
   "execution_count": 161,
   "id": "00de8c02-7073-4507-9638-f5ef5287cafa",
   "metadata": {},
   "outputs": [],
   "source": [
    "#new_cryptocom_reviews.to_csv(\"data/inference_on_unseen_cryptcom_reviews\"+ datetime.today().strftime('%Y-%m-%d')+\".csv\",index=False)"
   ]
  },
  {
   "cell_type": "markdown",
   "id": "5b6601bf-4d1c-4e15-80b6-4b8b5277b658",
   "metadata": {},
   "source": [
    "## Errors on the Bybit reviews"
   ]
  },
  {
   "cell_type": "code",
   "execution_count": 162,
   "id": "ee5a536f-86b0-47af-8d11-a09a711b0a8f",
   "metadata": {},
   "outputs": [
    {
     "data": {
      "image/png": "[encoded data removed]",
      "text/plain": [
       "<Figure size 640x480 with 2 Axes>"
      ]
     },
     "metadata": {},
     "output_type": "display_data"
    }
   ],
   "source": [
    "sns.heatmap(pd.crosstab(df_bybit.gemini_llm_topic, y_hat_bybit));"
   ]
  },
  {
   "cell_type": "code",
   "execution_count": 163,
   "id": "bd9de1de-8704-461e-a115-0969f8e0079c",
   "metadata": {},
   "outputs": [
    {
     "name": "stdout",
     "output_type": "stream",
     "text": [
      "Normalizing text\n",
      "Tokenizing text\n",
      "Passing text sequences\n",
      "\u001b[1m3/3\u001b[0m \u001b[32m━━━━━━━━━━━━━━━━━━━━\u001b[0m\u001b[37m\u001b[0m \u001b[1m0s\u001b[0m 15ms/step\n",
      "Normalizing text\n",
      "Tokenizing text\n",
      "Passing text sequences\n",
      "\u001b[1m3/3\u001b[0m \u001b[32m━━━━━━━━━━━━━━━━━━━━\u001b[0m\u001b[37m\u001b[0m \u001b[1m0s\u001b[0m 22ms/step\n"
     ]
    }
   ],
   "source": [
    "y_hat_bybit = testmodel.predict(df_bybit.content)\n",
    "y_hat_binance = testmodel.predict(df_binance.content)"
   ]
  },
  {
   "cell_type": "code",
   "execution_count": 164,
   "id": "6431651b-3caf-48a4-a4d0-b43dc0450ee5",
   "metadata": {},
   "outputs": [
    {
     "data": {
      "text/plain": [
       "0.4153846153846154"
      ]
     },
     "execution_count": 164,
     "metadata": {},
     "output_type": "execute_result"
    }
   ],
   "source": [
    "(df_bybit.gemini_llm_topic == y_hat_bybit).mean()"
   ]
  },
  {
   "cell_type": "code",
   "execution_count": 165,
   "id": "06e2cd27-6505-4e86-a7fd-4bddc2c1bdc4",
   "metadata": {
    "scrolled": true
   },
   "outputs": [
    {
     "data": {
      "text/html": [
       "<div>\n",
       "<style scoped>\n",
       "    .dataframe tbody tr th:only-of-type {\n",
       "        vertical-align: middle;\n",
       "    }\n",
       "\n",
       "    .dataframe tbody tr th {\n",
       "        vertical-align: top;\n",
       "    }\n",
       "\n",
       "    .dataframe thead th {\n",
       "        text-align: right;\n",
       "    }\n",
       "</style>\n",
       "<table border=\"1\" class=\"dataframe\">\n",
       "  <thead>\n",
       "    <tr style=\"text-align: right;\">\n",
       "      <th>col_0</th>\n",
       "      <th>Account Management</th>\n",
       "      <th>Customer Support</th>\n",
       "      <th>Educational Resources/Onboarding</th>\n",
       "      <th>Features/Functionality</th>\n",
       "      <th>Generic feedback</th>\n",
       "      <th>Reliability/Stability</th>\n",
       "      <th>Transaction Fees/Speed</th>\n",
       "      <th>Usability/UI/UX</th>\n",
       "    </tr>\n",
       "    <tr>\n",
       "      <th>gemini_llm_topic</th>\n",
       "      <th></th>\n",
       "      <th></th>\n",
       "      <th></th>\n",
       "      <th></th>\n",
       "      <th></th>\n",
       "      <th></th>\n",
       "      <th></th>\n",
       "      <th></th>\n",
       "    </tr>\n",
       "  </thead>\n",
       "  <tbody>\n",
       "    <tr>\n",
       "      <th>Account Management</th>\n",
       "      <td>5</td>\n",
       "      <td>1</td>\n",
       "      <td>0</td>\n",
       "      <td>0</td>\n",
       "      <td>0</td>\n",
       "      <td>2</td>\n",
       "      <td>1</td>\n",
       "      <td>4</td>\n",
       "    </tr>\n",
       "    <tr>\n",
       "      <th>Customer Support</th>\n",
       "      <td>1</td>\n",
       "      <td>2</td>\n",
       "      <td>0</td>\n",
       "      <td>0</td>\n",
       "      <td>0</td>\n",
       "      <td>4</td>\n",
       "      <td>3</td>\n",
       "      <td>0</td>\n",
       "    </tr>\n",
       "    <tr>\n",
       "      <th>Educational Resources/Onboarding</th>\n",
       "      <td>0</td>\n",
       "      <td>0</td>\n",
       "      <td>0</td>\n",
       "      <td>0</td>\n",
       "      <td>0</td>\n",
       "      <td>1</td>\n",
       "      <td>0</td>\n",
       "      <td>0</td>\n",
       "    </tr>\n",
       "    <tr>\n",
       "      <th>Features/Functionality</th>\n",
       "      <td>0</td>\n",
       "      <td>0</td>\n",
       "      <td>0</td>\n",
       "      <td>0</td>\n",
       "      <td>0</td>\n",
       "      <td>3</td>\n",
       "      <td>1</td>\n",
       "      <td>0</td>\n",
       "    </tr>\n",
       "    <tr>\n",
       "      <th>Generic feedback</th>\n",
       "      <td>0</td>\n",
       "      <td>0</td>\n",
       "      <td>0</td>\n",
       "      <td>0</td>\n",
       "      <td>9</td>\n",
       "      <td>3</td>\n",
       "      <td>0</td>\n",
       "      <td>2</td>\n",
       "    </tr>\n",
       "    <tr>\n",
       "      <th>Reliability/Stability</th>\n",
       "      <td>1</td>\n",
       "      <td>0</td>\n",
       "      <td>0</td>\n",
       "      <td>0</td>\n",
       "      <td>1</td>\n",
       "      <td>3</td>\n",
       "      <td>1</td>\n",
       "      <td>2</td>\n",
       "    </tr>\n",
       "    <tr>\n",
       "      <th>Security</th>\n",
       "      <td>1</td>\n",
       "      <td>0</td>\n",
       "      <td>0</td>\n",
       "      <td>0</td>\n",
       "      <td>0</td>\n",
       "      <td>0</td>\n",
       "      <td>1</td>\n",
       "      <td>0</td>\n",
       "    </tr>\n",
       "    <tr>\n",
       "      <th>Transaction Fees/Speed</th>\n",
       "      <td>0</td>\n",
       "      <td>0</td>\n",
       "      <td>0</td>\n",
       "      <td>0</td>\n",
       "      <td>0</td>\n",
       "      <td>1</td>\n",
       "      <td>4</td>\n",
       "      <td>0</td>\n",
       "    </tr>\n",
       "    <tr>\n",
       "      <th>Usability/UI/UX</th>\n",
       "      <td>0</td>\n",
       "      <td>0</td>\n",
       "      <td>1</td>\n",
       "      <td>0</td>\n",
       "      <td>0</td>\n",
       "      <td>0</td>\n",
       "      <td>0</td>\n",
       "      <td>4</td>\n",
       "    </tr>\n",
       "    <tr>\n",
       "      <th>Verification/KYC/AML Processes</th>\n",
       "      <td>1</td>\n",
       "      <td>0</td>\n",
       "      <td>0</td>\n",
       "      <td>1</td>\n",
       "      <td>1</td>\n",
       "      <td>0</td>\n",
       "      <td>0</td>\n",
       "      <td>0</td>\n",
       "    </tr>\n",
       "  </tbody>\n",
       "</table>\n",
       "</div>"
      ],
      "text/plain": [
       "col_0                             Account Management  Customer Support  \\\n",
       "gemini_llm_topic                                                         \n",
       "Account Management                                 5                 1   \n",
       "Customer Support                                   1                 2   \n",
       "Educational Resources/Onboarding                   0                 0   \n",
       "Features/Functionality                             0                 0   \n",
       "Generic feedback                                   0                 0   \n",
       "Reliability/Stability                              1                 0   \n",
       "Security                                           1                 0   \n",
       "Transaction Fees/Speed                             0                 0   \n",
       "Usability/UI/UX                                    0                 0   \n",
       "Verification/KYC/AML Processes                     1                 0   \n",
       "\n",
       "col_0                             Educational Resources/Onboarding  \\\n",
       "gemini_llm_topic                                                     \n",
       "Account Management                                               0   \n",
       "Customer Support                                                 0   \n",
       "Educational Resources/Onboarding                                 0   \n",
       "Features/Functionality                                           0   \n",
       "Generic feedback                                                 0   \n",
       "Reliability/Stability                                            0   \n",
       "Security                                                         0   \n",
       "Transaction Fees/Speed                                           0   \n",
       "Usability/UI/UX                                                  1   \n",
       "Verification/KYC/AML Processes                                   0   \n",
       "\n",
       "col_0                             Features/Functionality  Generic feedback  \\\n",
       "gemini_llm_topic                                                             \n",
       "Account Management                                     0                 0   \n",
       "Customer Support                                       0                 0   \n",
       "Educational Resources/Onboarding                       0                 0   \n",
       "Features/Functionality                                 0                 0   \n",
       "Generic feedback                                       0                 9   \n",
       "Reliability/Stability                                  0                 1   \n",
       "Security                                               0                 0   \n",
       "Transaction Fees/Speed                                 0                 0   \n",
       "Usability/UI/UX                                        0                 0   \n",
       "Verification/KYC/AML Processes                         1                 1   \n",
       "\n",
       "col_0                             Reliability/Stability  \\\n",
       "gemini_llm_topic                                          \n",
       "Account Management                                    2   \n",
       "Customer Support                                      4   \n",
       "Educational Resources/Onboarding                      1   \n",
       "Features/Functionality                                3   \n",
       "Generic feedback                                      3   \n",
       "Reliability/Stability                                 3   \n",
       "Security                                              0   \n",
       "Transaction Fees/Speed                                1   \n",
       "Usability/UI/UX                                       0   \n",
       "Verification/KYC/AML Processes                        0   \n",
       "\n",
       "col_0                             Transaction Fees/Speed  Usability/UI/UX  \n",
       "gemini_llm_topic                                                           \n",
       "Account Management                                     1                4  \n",
       "Customer Support                                       3                0  \n",
       "Educational Resources/Onboarding                       0                0  \n",
       "Features/Functionality                                 1                0  \n",
       "Generic feedback                                       0                2  \n",
       "Reliability/Stability                                  1                2  \n",
       "Security                                               1                0  \n",
       "Transaction Fees/Speed                                 4                0  \n",
       "Usability/UI/UX                                        0                4  \n",
       "Verification/KYC/AML Processes                         0                0  "
      ]
     },
     "execution_count": 165,
     "metadata": {},
     "output_type": "execute_result"
    }
   ],
   "source": [
    "pd.crosstab(df_bybit.gemini_llm_topic, y_hat_bybit)"
   ]
  },
  {
   "cell_type": "markdown",
   "id": "86adada4-1946-49aa-9e2d-4366fded4dfe",
   "metadata": {},
   "source": [
    "### Errors on the Binance reviews"
   ]
  },
  {
   "cell_type": "code",
   "execution_count": 166,
   "id": "20cd6742-c91c-40d8-9093-f3f14416ea56",
   "metadata": {},
   "outputs": [
    {
     "data": {
      "image/png": "[encoded data removed]",
      "text/plain": [
       "<Figure size 640x480 with 2 Axes>"
      ]
     },
     "metadata": {},
     "output_type": "display_data"
    }
   ],
   "source": [
    "sns.heatmap(pd.crosstab(df_binance.gemini_llm_topic, y_hat_binance));"
   ]
  },
  {
   "cell_type": "code",
   "execution_count": 167,
   "id": "88b4c1d4-5514-4a41-858d-c5fe9a1f42e0",
   "metadata": {},
   "outputs": [
    {
     "data": {
      "text/plain": [
       "0.4090909090909091"
      ]
     },
     "execution_count": 167,
     "metadata": {},
     "output_type": "execute_result"
    }
   ],
   "source": [
    "(df_binance.gemini_llm_topic == y_hat_binance).mean()"
   ]
  },
  {
   "cell_type": "code",
   "execution_count": 168,
   "id": "d744c264-9555-4a11-b43d-64c1a5fa775a",
   "metadata": {},
   "outputs": [
    {
     "data": {
      "text/html": [
       "<div>\n",
       "<style scoped>\n",
       "    .dataframe tbody tr th:only-of-type {\n",
       "        vertical-align: middle;\n",
       "    }\n",
       "\n",
       "    .dataframe tbody tr th {\n",
       "        vertical-align: top;\n",
       "    }\n",
       "\n",
       "    .dataframe thead th {\n",
       "        text-align: right;\n",
       "    }\n",
       "</style>\n",
       "<table border=\"1\" class=\"dataframe\">\n",
       "  <thead>\n",
       "    <tr style=\"text-align: right;\">\n",
       "      <th>col_0</th>\n",
       "      <th>Account Management</th>\n",
       "      <th>Customer Support</th>\n",
       "      <th>Educational Resources/Onboarding</th>\n",
       "      <th>Generic feedback</th>\n",
       "      <th>Reliability/Stability</th>\n",
       "      <th>Transaction Fees/Speed</th>\n",
       "      <th>Usability/UI/UX</th>\n",
       "      <th>Verification/KYC/AML Processes</th>\n",
       "    </tr>\n",
       "    <tr>\n",
       "      <th>gemini_llm_topic</th>\n",
       "      <th></th>\n",
       "      <th></th>\n",
       "      <th></th>\n",
       "      <th></th>\n",
       "      <th></th>\n",
       "      <th></th>\n",
       "      <th></th>\n",
       "      <th></th>\n",
       "    </tr>\n",
       "  </thead>\n",
       "  <tbody>\n",
       "    <tr>\n",
       "      <th>Account Management</th>\n",
       "      <td>3</td>\n",
       "      <td>0</td>\n",
       "      <td>0</td>\n",
       "      <td>0</td>\n",
       "      <td>1</td>\n",
       "      <td>1</td>\n",
       "      <td>1</td>\n",
       "      <td>0</td>\n",
       "    </tr>\n",
       "    <tr>\n",
       "      <th>Customer Support</th>\n",
       "      <td>0</td>\n",
       "      <td>0</td>\n",
       "      <td>0</td>\n",
       "      <td>0</td>\n",
       "      <td>4</td>\n",
       "      <td>0</td>\n",
       "      <td>2</td>\n",
       "      <td>0</td>\n",
       "    </tr>\n",
       "    <tr>\n",
       "      <th>Features/Functionality</th>\n",
       "      <td>2</td>\n",
       "      <td>1</td>\n",
       "      <td>0</td>\n",
       "      <td>4</td>\n",
       "      <td>8</td>\n",
       "      <td>1</td>\n",
       "      <td>2</td>\n",
       "      <td>0</td>\n",
       "    </tr>\n",
       "    <tr>\n",
       "      <th>Generic feedback</th>\n",
       "      <td>0</td>\n",
       "      <td>1</td>\n",
       "      <td>0</td>\n",
       "      <td>23</td>\n",
       "      <td>1</td>\n",
       "      <td>0</td>\n",
       "      <td>5</td>\n",
       "      <td>0</td>\n",
       "    </tr>\n",
       "    <tr>\n",
       "      <th>Reliability/Stability</th>\n",
       "      <td>0</td>\n",
       "      <td>0</td>\n",
       "      <td>1</td>\n",
       "      <td>2</td>\n",
       "      <td>2</td>\n",
       "      <td>0</td>\n",
       "      <td>0</td>\n",
       "      <td>0</td>\n",
       "    </tr>\n",
       "    <tr>\n",
       "      <th>Security</th>\n",
       "      <td>0</td>\n",
       "      <td>0</td>\n",
       "      <td>0</td>\n",
       "      <td>0</td>\n",
       "      <td>1</td>\n",
       "      <td>0</td>\n",
       "      <td>0</td>\n",
       "      <td>0</td>\n",
       "    </tr>\n",
       "    <tr>\n",
       "      <th>Transaction Fees/Speed</th>\n",
       "      <td>0</td>\n",
       "      <td>0</td>\n",
       "      <td>0</td>\n",
       "      <td>0</td>\n",
       "      <td>2</td>\n",
       "      <td>0</td>\n",
       "      <td>1</td>\n",
       "      <td>0</td>\n",
       "    </tr>\n",
       "    <tr>\n",
       "      <th>Usability/UI/UX</th>\n",
       "      <td>0</td>\n",
       "      <td>0</td>\n",
       "      <td>1</td>\n",
       "      <td>1</td>\n",
       "      <td>4</td>\n",
       "      <td>0</td>\n",
       "      <td>8</td>\n",
       "      <td>1</td>\n",
       "    </tr>\n",
       "    <tr>\n",
       "      <th>Verification/KYC/AML Processes</th>\n",
       "      <td>2</td>\n",
       "      <td>0</td>\n",
       "      <td>0</td>\n",
       "      <td>0</td>\n",
       "      <td>0</td>\n",
       "      <td>0</td>\n",
       "      <td>0</td>\n",
       "      <td>0</td>\n",
       "    </tr>\n",
       "    <tr>\n",
       "      <th>Wallet Security/Integration</th>\n",
       "      <td>1</td>\n",
       "      <td>0</td>\n",
       "      <td>0</td>\n",
       "      <td>0</td>\n",
       "      <td>0</td>\n",
       "      <td>1</td>\n",
       "      <td>0</td>\n",
       "      <td>0</td>\n",
       "    </tr>\n",
       "  </tbody>\n",
       "</table>\n",
       "</div>"
      ],
      "text/plain": [
       "col_0                           Account Management  Customer Support  \\\n",
       "gemini_llm_topic                                                       \n",
       "Account Management                               3                 0   \n",
       "Customer Support                                 0                 0   \n",
       "Features/Functionality                           2                 1   \n",
       "Generic feedback                                 0                 1   \n",
       "Reliability/Stability                            0                 0   \n",
       "Security                                         0                 0   \n",
       "Transaction Fees/Speed                           0                 0   \n",
       "Usability/UI/UX                                  0                 0   \n",
       "Verification/KYC/AML Processes                   2                 0   \n",
       "Wallet Security/Integration                      1                 0   \n",
       "\n",
       "col_0                           Educational Resources/Onboarding  \\\n",
       "gemini_llm_topic                                                   \n",
       "Account Management                                             0   \n",
       "Customer Support                                               0   \n",
       "Features/Functionality                                         0   \n",
       "Generic feedback                                               0   \n",
       "Reliability/Stability                                          1   \n",
       "Security                                                       0   \n",
       "Transaction Fees/Speed                                         0   \n",
       "Usability/UI/UX                                                1   \n",
       "Verification/KYC/AML Processes                                 0   \n",
       "Wallet Security/Integration                                    0   \n",
       "\n",
       "col_0                           Generic feedback  Reliability/Stability  \\\n",
       "gemini_llm_topic                                                          \n",
       "Account Management                             0                      1   \n",
       "Customer Support                               0                      4   \n",
       "Features/Functionality                         4                      8   \n",
       "Generic feedback                              23                      1   \n",
       "Reliability/Stability                          2                      2   \n",
       "Security                                       0                      1   \n",
       "Transaction Fees/Speed                         0                      2   \n",
       "Usability/UI/UX                                1                      4   \n",
       "Verification/KYC/AML Processes                 0                      0   \n",
       "Wallet Security/Integration                    0                      0   \n",
       "\n",
       "col_0                           Transaction Fees/Speed  Usability/UI/UX  \\\n",
       "gemini_llm_topic                                                          \n",
       "Account Management                                   1                1   \n",
       "Customer Support                                     0                2   \n",
       "Features/Functionality                               1                2   \n",
       "Generic feedback                                     0                5   \n",
       "Reliability/Stability                                0                0   \n",
       "Security                                             0                0   \n",
       "Transaction Fees/Speed                               0                1   \n",
       "Usability/UI/UX                                      0                8   \n",
       "Verification/KYC/AML Processes                       0                0   \n",
       "Wallet Security/Integration                          1                0   \n",
       "\n",
       "col_0                           Verification/KYC/AML Processes  \n",
       "gemini_llm_topic                                                \n",
       "Account Management                                           0  \n",
       "Customer Support                                             0  \n",
       "Features/Functionality                                       0  \n",
       "Generic feedback                                             0  \n",
       "Reliability/Stability                                        0  \n",
       "Security                                                     0  \n",
       "Transaction Fees/Speed                                       0  \n",
       "Usability/UI/UX                                              1  \n",
       "Verification/KYC/AML Processes                               0  \n",
       "Wallet Security/Integration                                  0  "
      ]
     },
     "execution_count": 168,
     "metadata": {},
     "output_type": "execute_result"
    }
   ],
   "source": [
    "pd.crosstab(df_binance.gemini_llm_topic, y_hat_binance)"
   ]
  },
  {
   "cell_type": "code",
   "execution_count": 169,
   "id": "9db92e00-857d-4cac-b446-b2c3c6961468",
   "metadata": {},
   "outputs": [
    {
     "data": {
      "text/plain": [
       "gemini_llm_topic\n",
       "Features/Functionality            10\n",
       "Customer Support                   3\n",
       "Verification/KYC/AML Processes     1\n",
       "Wallet Security/Integration        1\n",
       "Generic feedback                   1\n",
       "Name: count, dtype: int64"
      ]
     },
     "execution_count": 169,
     "metadata": {},
     "output_type": "execute_result"
    }
   ],
   "source": [
    "df_binance[df_binance.content.str.lower().str.contains(\" pi \")][\"gemini_llm_topic\"].value_counts()"
   ]
  },
  {
   "cell_type": "code",
   "execution_count": 170,
   "id": "186094e9-5466-423c-8305-50291c1fae66",
   "metadata": {},
   "outputs": [
    {
     "data": {
      "text/plain": [
       "3      You can't call this a crypto exchange if the Exchange (binance) fails to complete KYB. This is why Pi Network is not listed. I have used binance for years, and I'm now waiting to get verified on OKx crypto exchange that has real protection because they follow protocols and procedures to create a safe environment for trading real projects and not just open source crypto scam operations that dont even have a CEO. At least I won't get scammed there.\n",
       "6                                                                                                                                                                                                                                                                                                                                                                                                                      not listing of pi network and stealing my deposits\n",
       "12                                                                                                                                                                                                                                                                                                                                                                                                                                                    Listed the pi coins\n",
       "38                                                                                                                                                                                                                                                                                                                                                                                                                  I'll give 5 star if they put Pi Network on their list\n",
       "54                                                                                                                                                                                                                                                                                                                                                                                                                           For not listing pi .I need on your exchange.\n",
       "82                                                                                                                                                                             Binance has listed many waste coins on its exchange. But in the whole world which right now Pi coin The most famous and comes at number 11 in the world, it did not listed Because of this, no longer to work on the binance exchange . In our eyes, Binance pi coin Is incomplete without\n",
       "87                                                                                                                                                                                                                                                                                                                                                                                                             List Pi coin because it's a community coin with eco system\n",
       "115                                                                                                                                                                                                                                                                                   I give it's only two Stars , recently binance poll about PI coin 87% community poll pi to list binance but Binance was not announced the listing of Pi a huge community disappoint.\n",
       "152                                                                                                                                                                                                                                                                                                                                                                      Misleading with Pi cumunity. Al top 20 coin list in binance but No11 Pi coin not listing why????\n",
       "153                                                                                                                                                                                                                                                                                                        Very bad experience with the coins listed on the platform. They list unknown coins without transparency and criteria but refuse to list a coin like PI coin!!!\n",
       "197                                                                                                                                                                                                                                                                                                                                                                                                                         It's handling of pi does not sit well with me\n",
       "200                                                                                                                                                                                                                                                                                                                                                                                                                                          Due to not listed pi network\n",
       "217                                                                                                                                                                                                                                                                          This aap not give respect to users. 86 percent vote were given for pi network to list on binance but they not listed yet. They should respect users opinion and list the pi coin for trading\n",
       "242                                                                                                                                                                                                                                                                                                                              You are unserious for playing with our intelligence by asking us to vote for pi listing, till date no word from you I rate you zero star\n",
       "244                                                                                                                                                                                                                                                                                                                                                                                                                            Is so Useless without Listening Pi network\n",
       "269                                                                                                                                                                                                                                                                                                                                                                                                                                                     No Pi , Bye Bye !\n",
       "Name: content, dtype: object"
      ]
     },
     "execution_count": 170,
     "metadata": {},
     "output_type": "execute_result"
    }
   ],
   "source": [
    "df_binance[df_binance.content.str.lower().str.contains(\" pi \")][\"content\"]"
   ]
  },
  {
   "cell_type": "markdown",
   "id": "02122f02-d7aa-4625-bfdf-02aa56125970",
   "metadata": {},
   "source": [
    "## Transfer learning with binance"
   ]
  },
  {
   "cell_type": "markdown",
   "id": "2d8009f0-4406-4aea-b55a-f3463401959b",
   "metadata": {},
   "source": [
    "Pending development."
   ]
  }
 ],
 "metadata": {
  "kernelspec": {
   "display_name": "uol_project",
   "language": "python",
   "name": "uol_project"
  },
  "language_info": {
   "codemirror_mode": {
    "name": "ipython",
    "version": 3
   },
   "file_extension": ".py",
   "mimetype": "text/x-python",
   "name": "python",
   "nbconvert_exporter": "python",
   "pygments_lexer": "ipython3",
   "version": "3.12.8"
  }
 },
 "nbformat": 4,
 "nbformat_minor": 5
}
