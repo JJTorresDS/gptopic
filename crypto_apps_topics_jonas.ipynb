{
 "cells": [
  {
   "cell_type": "code",
   "execution_count": 1,
   "id": "b65c9dd3-0765-43b0-b8f9-cb019c296910",
   "metadata": {},
   "outputs": [],
   "source": [
    "from tensorflow.keras.datasets import reuters\n",
    "import pandas as pd\n",
    "import numpy as np"
   ]
  },
  {
   "cell_type": "code",
   "execution_count": 5,
   "id": "f9c4b968-352b-4242-abc8-2501b8724fa5",
   "metadata": {},
   "outputs": [],
   "source": [
    "df = pd.read_csv(\"../crypto_apps.csv\")"
   ]
  },
  {
   "cell_type": "code",
   "execution_count": 7,
   "id": "251f929f-6b9b-4311-9b8a-4b67d56d53b2",
   "metadata": {},
   "outputs": [
    {
     "data": {
      "text/plain": [
       "(450, 12)"
      ]
     },
     "execution_count": 7,
     "metadata": {},
     "output_type": "execute_result"
    }
   ],
   "source": [
    "df.shape"
   ]
  },
  {
   "cell_type": "markdown",
   "id": "53396c70-e4f6-4226-a47f-d7999ba5cc42",
   "metadata": {},
   "source": [
    "## Extracting topics with a local LLM"
   ]
  },
  {
   "cell_type": "code",
   "execution_count": 8,
   "id": "76f7c1e0-a13a-4db9-835d-977b3cfaca9e",
   "metadata": {},
   "outputs": [],
   "source": [
    "#!pip install ollama\n",
    "#ref: https://github.com/ollama/ollama\n",
    "#run in terminal: ollama run llama3.2:1b\n",
    "import ollama\n",
    "import google.generativeai as genai"
   ]
  },
  {
   "cell_type": "markdown",
   "id": "48ead9f5-8a30-4a20-bc68-3a75fc673474",
   "metadata": {},
   "source": [
    "Usar el texto 2 de la muestra para mostrar la inestabilidad del resultado."
   ]
  },
  {
   "cell_type": "code",
   "execution_count": 1394,
   "id": "4f949d32-a682-43c2-918b-03e34f691fa5",
   "metadata": {},
   "outputs": [],
   "source": [
    "prompt_v1 = \"You are an expert Customer Success Manager working int the Crypto Industry. \\\n",
    "    You are tasked with categorizing a list of user reviews for further analysis. \\\n",
    "    What category would you assing to the following review: {input_text}{categories}\"\n",
    "\n",
    "prompt_v2 = \"You are an expert Customer Success Manager working int the Crypto Industry. \\\n",
    "    You are tasked with categorizing a list of user reviews for further analysis. \\\n",
    "    What category would you assing to the following review. \\\n",
    "    Provide your best guess in a sentence with no more than 4 words: {input_text}{categories}\"\n",
    "\n",
    "prompt_v3 = \"You are an expert Customer Success Manager working int the Crypto Industry. \\\n",
    "    You are tasked with categorizing a list of user reviews for further analysis. \\\n",
    "    What category would you assing to the following review. \\\n",
    "    Provide your best guess in a sentence with no more than 4 words. \\\n",
    "    If you are unsure, your best guess is ok \\\n",
    "    : {input_text}{categories}\"\n",
    "\n",
    "prompt_v4 = \"You are an expert Customer Success Manager working int the Crypto Industry. \\\n",
    "    You are tasked with categorizing a list of user reviews for further analysis. \\\n",
    "    What category would you assing to the following review. \\\n",
    "    Provide your best guess in a sentence with no more than 4 words. \\\n",
    "    If you are unsure, your best guess is ok \\\n",
    "    Do not include question marks \\\n",
    "    : {input_text}{categories}\"\n",
    "\n",
    "prompt_v5 = \"You are an expert Customer Success Manager working int the Crypto Industry. \\\n",
    "    You are tasked with categorizing a list of user reviews for further analysis. \\\n",
    "    What category would you assing to the following review. \\\n",
    "    Provide your best guess in a sentence with no more than 4 words. \\\n",
    "    If you are unsure, your best guess is ok. \\\n",
    "    Do not include question marks. \\\n",
    "    Please answer with only 1 category. \\\n",
    "    If the review is just an expression of sentiment (eg: Great!, Bad!, etc). Please use the 'Generic feedback' category \\\n",
    "    : {input_text}{categories}\"\n",
    "\n",
    "prompt_v6 = \"You are an expert Customer Success Manager working int the Crypto Industry. \\\n",
    "    You are tasked with categorizing a list of user reviews for further analysis. \\\n",
    "    Using the following instructions: \\\n",
    "    * If the review is just an expression of sentiment (eg: Great!, Bad!, etc). Please use the 'Generic feedback' category \\\n",
    "    * The category should have no more than 4 words. \\\n",
    "    * Please answer with only 1 category. \\\n",
    "    What category would you assing to the following review. \\\n",
    "    : {input_text}{categories}\"\n",
    "\n",
    "prompt_v7 = \"You are an expert Customer Success Manager working int the Crypto Industry. \\\n",
    "    You are tasked with categorizing a list of user reviews for further analysis. \\\n",
    "    What category would you assing to the following review. \\\n",
    "    * If the review is just an expression of sentiment (eg: Great!, Bad!, etc). Please use the 'Generic feedback' category \\\n",
    "    * The category should have no more than 4 words. \\\n",
    "    * Please answer with only 1 category. \\\n",
    "    : {input_text}{categories}\"\n",
    "\n",
    "prompt_v8 = \"You are an expert Customer Success Manager working int the Crypto Industry. \\\n",
    "    You are tasked with categorizing a list of user reviews for further analysis. \\\n",
    "    What category would you assing to the following review. \\\n",
    "    * If the review is just an expression of sentiment (eg: Great!, Bad!, etc). Please use the 'Generic feedback' category \\\n",
    "    * The category should have no more than 4 words. \\\n",
    "    * Answer with only 1 category. \\\n",
    "    * Group similar categories, i.e 'usability issues', 'usability' and 'ease of use', should be categorized as 'usability' . \\\n",
    "    : {input_text}{categories}\"\n",
    "\n",
    "prompt_v9a = \"Can you list the most common categories that could exist within user reviews of a crypto mobile app?\\\n",
    "    Group similar categories into one, i.e: Customer Support and Customer Services should be grouped under Customer Support.\\\n",
    "    Provide your answer as a list, eg: [category1, category2,..]\\\n",
    "    : {input_text}{categories}\"\n",
    "\n",
    "prompt_v9b = \"You are an expert Customer Success Manager working int the Crypto Industry.\\\n",
    "    You are tasked with categorizing a list of user reviews for further analysis\\\n",
    "    Please assign the review below to one of the following categories: {categories}\\\n",
    "    If the review is just an expression of sentiment (eg: Great!, Bad!, etc). Please use the 'Generic feedback' category.\\\n",
    "    Your answer should just be the category name.\\\n",
    "    : {input_text}\""
   ]
  },
  {
   "cell_type": "code",
   "execution_count": 1395,
   "id": "3b6123e7-a923-4c8c-bf3a-42082875fdbc",
   "metadata": {},
   "outputs": [],
   "source": [
    "def ollama_query(prompt, categories=\"\", input_text=\"\"):\n",
    "    prompt = prompt\n",
    "    \n",
    "\n",
    "    response = ollama.chat(\n",
    "        model = \"llama3.2:1b\",\n",
    "        messages = [{\"role\":\"user\", \"content\":prompt.format(input_text=input_text,categories=categories )}]    \n",
    "    )\n",
    "\n",
    "    return response[\"message\"][\"content\"].strip()"
   ]
  },
  {
   "cell_type": "code",
   "execution_count": 1408,
   "id": "018fb2bb-b055-4d45-8b04-0f5a61d9a3ce",
   "metadata": {},
   "outputs": [],
   "source": [
    "def gemini_query(prompt, categories=\"\", input_text=\"\", counter=0):\n",
    "    prompt = prompt\n",
    "    categories = categories\n",
    "    input_text = input_text\n",
    "    \n",
    "    genai.configure(api_key=\"\")\n",
    "    model = genai.GenerativeModel(\"gemini-1.5-flash-latest\")\n",
    "    try:\n",
    "        response = model.generate_content(prompt.format(input_text=input_text,categories=categories))\n",
    "    except: \n",
    "        time.sleep(5)\n",
    "        response = \"gemini failed to respond\"\n",
    "        return response\n",
    "    return response.text.strip()"
   ]
  },
  {
   "cell_type": "markdown",
   "id": "0cdb92be-0946-43c9-9318-ce32a6383a62",
   "metadata": {},
   "source": [
    "## Prompt Testing"
   ]
  },
  {
   "cell_type": "code",
   "execution_count": 1409,
   "id": "e90e638f-2042-405c-a24a-a66c70e190e2",
   "metadata": {},
   "outputs": [
    {
     "name": "stdout",
     "output_type": "stream",
     "text": [
      "Can you list the most common categories that could exist within user reviews of a crypto mobile app?    Group similar categories into one, i.e: Customer Support and Customer Services should be grouped under Customer Support.    Provide your answer as a list, eg: [category1, category2,..]    : {input_text}{categories}\n"
     ]
    }
   ],
   "source": [
    "print(prompt_v9a)"
   ]
  },
  {
   "cell_type": "code",
   "execution_count": 1410,
   "id": "77b804ce-926f-41aa-9e5b-34b605ba0801",
   "metadata": {},
   "outputs": [
    {
     "name": "stdout",
     "output_type": "stream",
     "text": [
      "You are an expert Customer Success Manager working int the Crypto Industry.    You are tasked with categorizing a list of user reviews for further analysis    Please assign the review below to one of the following categories: {categories}    If the review is just an expression of sentiment (eg: Great!, Bad!, etc). Please use the 'Generic feedback' category.    Your answer should just be the category name.    : {input_text}\n"
     ]
    }
   ],
   "source": [
    "print(prompt_v9b)"
   ]
  },
  {
   "cell_type": "code",
   "execution_count": 1401,
   "id": "9368e3bb-c0ee-471a-a446-8176a896b20f",
   "metadata": {},
   "outputs": [
    {
     "name": "stdout",
     "output_type": "stream",
     "text": [
      "Based on the typical structure of user reviews for a crypto mobile app, here are some common categories:\n",
      "\n",
      "* General:\n",
      " + Ease of use\n",
      " + User interface\n",
      " + Customization options\n",
      " + Overall satisfaction\n",
      "* Security and Safety:\n",
      " + Transaction security\n",
      " + Wallet security\n",
      " + Risk management\n",
      " + Exchange fees\n",
      "* Payment Processing:\n",
      " + Fees and charges\n",
      " + Payment processing speed\n",
      " + Reversal policies\n",
      "+ Merchant support\n",
      "* Customer Support and Services:\n",
      " + Technical support\n",
      " + Help resources\n",
      " + Knowledge base\n",
      " + Email support\n",
      "+ In-app messaging\n",
      "* Community and Social Features:\n",
      " + Community engagement\n",
      " + Social sharing\n",
      " + Forum discussions\n",
      "+ Events and webinars\n",
      "* Business and Trading:\n",
      " + Investment opportunities\n",
      " + Market analysis tools\n",
      " + Trading fees\n",
      "+ Regulatory compliance\n",
      "* Customer Services (including: )\n",
      " + Customer support channels\n",
      " + Complaint resolution\n",
      " + Feedback mechanisms\n",
      "+ Resolution times\n",
      "\n",
      "I've grouped similar categories together to make it easier to identify common themes. Note that these categories may not be exhaustive, and the specific categories used may vary depending on the app and its target audience.\n"
     ]
    }
   ],
   "source": [
    " print(ollama_query(prompt_v9a))"
   ]
  },
  {
   "cell_type": "code",
   "execution_count": 1411,
   "id": "c7c24448-bac4-43a4-a942-db61d5e3362f",
   "metadata": {},
   "outputs": [],
   "source": [
    "res = gemini_query(prompt_v9a)"
   ]
  },
  {
   "cell_type": "code",
   "execution_count": 1412,
   "id": "c235330f-36e9-4318-acef-92c1ffe738d7",
   "metadata": {},
   "outputs": [],
   "source": [
    "category_list = res.strip(\"[|]\").split(\",\")"
   ]
  },
  {
   "cell_type": "code",
   "execution_count": 1413,
   "id": "c07372f0-41ba-4fb2-a1c1-e6ddec378aaf",
   "metadata": {},
   "outputs": [
    {
     "data": {
      "text/plain": [
       "['Usability',\n",
       " ' Security',\n",
       " ' Features',\n",
       " ' Fees & Pricing',\n",
       " ' Customer Support',\n",
       " ' Performance & Speed',\n",
       " ' Wallet Functionality',\n",
       " '  Trading Experience',\n",
       " '  Account Management',\n",
       " '  Onboarding Process',\n",
       " '  Verification Process',\n",
       " '  Educational Resources',\n",
       " '  Community & Social Features',\n",
       " '  Overall Satisfaction']"
      ]
     },
     "execution_count": 1413,
     "metadata": {},
     "output_type": "execute_result"
    }
   ],
   "source": [
    "category_list"
   ]
  },
  {
   "cell_type": "code",
   "execution_count": 1414,
   "id": "5e315fce-c1f4-4076-89d1-c9ffb4e34629",
   "metadata": {},
   "outputs": [],
   "source": [
    "samples = df.content[:5]"
   ]
  },
  {
   "cell_type": "code",
   "execution_count": 1415,
   "id": "47ced5d3-88b5-4bbd-b623-e7cb0d718bf1",
   "metadata": {},
   "outputs": [
    {
     "name": "stdout",
     "output_type": "stream",
     "text": [
      "********************* Sample 1 ***************\n",
      "Sample text\n",
      "Well I put btc in not much just because I was gonna try it out didn't like it sent my btc out again. I was dumb and did look before hand but they charge me $40 of the $200 i sent out. Which is 0.0004 in btc that's crazy. Maybe I don't k ow the standard but that seems really high.\n",
      "\n",
      "Ollama Results:  ['Generic feedback']\n",
      "\n",
      "Gemini Results:  Fees & Pricing\n",
      "********************* Sample 2 ***************\n",
      "Sample text\n",
      "Great 👍\n",
      "\n",
      "Ollama Results:  ['Generic feedback']\n",
      "\n",
      "Gemini Results:  Generic feedback\n",
      "********************* Sample 3 ***************\n",
      "Sample text\n",
      "Definitely going to delete this app. Can't log in\n",
      "\n",
      "Ollama Results:  ['Fees & Pricing', 'Customer Support']\n",
      "\n",
      "Gemini Results:  Account Management\n",
      "********************* Sample 4 ***************\n",
      "Sample text\n",
      "a good way to invest, made easy.\n",
      "\n",
      "Ollama Results:  ['Usability']\n",
      "\n",
      "Gemini Results:  Onboarding Process\n",
      "********************* Sample 5 ***************\n",
      "Sample text\n",
      "Awesome\n",
      "\n",
      "Ollama Results:  Usability\n",
      "\n",
      "Gemini Results:  Generic feedback\n"
     ]
    }
   ],
   "source": [
    "counter2=0\n",
    "test_prompt = prompt_v9b\n",
    "test_category = category_list\n",
    "for sample in samples:\n",
    "    counter2+=1\n",
    "    print(f\"********************* Sample {counter2} ***************\")\n",
    "    print(\"Sample text\")\n",
    "    print(sample)\n",
    "    print(\"\")\n",
    "    print(\"Ollama Results: \", ollama_query(test_prompt, test_category,sample))\n",
    "    print(\"\")\n",
    "    print(\"Gemini Results: \", gemini_query(test_prompt, test_category, sample))\n",
    "    "
   ]
  },
  {
   "cell_type": "code",
   "execution_count": null,
   "id": "f00040a0-796b-4497-9575-277b06c443e7",
   "metadata": {},
   "outputs": [],
   "source": []
  },
  {
   "cell_type": "markdown",
   "id": "a5380f46-0cb4-4ebd-a512-87f44f9f65ec",
   "metadata": {},
   "source": [
    "## Split data"
   ]
  },
  {
   "cell_type": "code",
   "execution_count": 502,
   "id": "63470516-049e-4d0e-83c7-7bad3c5c3f61",
   "metadata": {},
   "outputs": [],
   "source": [
    "df_c = df.copy()"
   ]
  },
  {
   "cell_type": "markdown",
   "id": "dadbf32d-e6dd-4624-834c-496e69f6369a",
   "metadata": {},
   "source": [
    "## Run queries"
   ]
  },
  {
   "cell_type": "code",
   "execution_count": 503,
   "id": "0d60eb29-70e0-456f-8b90-f9b6e5b80d1e",
   "metadata": {},
   "outputs": [],
   "source": [
    "import time"
   ]
  },
  {
   "cell_type": "code",
   "execution_count": 513,
   "id": "199f8e5e-62b5-447e-8a3f-cfee8dd9d80c",
   "metadata": {},
   "outputs": [
    {
     "name": "stdout",
     "output_type": "stream",
     "text": [
      "Iteration 0 out of 10\n",
      "90 out of 450 done.\n",
      "180 out of 450 done.\n",
      "270 out of 450 done.\n",
      "360 out of 450 done.\n",
      "450 out of 450 done.\n",
      "Iteration 1 out of 10\n",
      "90 out of 450 done.\n",
      "180 out of 450 done.\n",
      "270 out of 450 done.\n",
      "360 out of 450 done.\n",
      "450 out of 450 done.\n",
      "Iteration 2 out of 10\n",
      "90 out of 450 done.\n",
      "180 out of 450 done.\n",
      "270 out of 450 done.\n",
      "360 out of 450 done.\n",
      "450 out of 450 done.\n"
     ]
    }
   ],
   "source": [
    "results = []\n",
    "test_prompt = prompt_v9b\n",
    "test_category = category_list\n",
    "perc_20 = df_c.shape[0]//5\n",
    "\n",
    "#run llm 10 times to solve for topic stability\n",
    "\n",
    "for i in range(3):\n",
    "    counter1=0\n",
    "    df_c = df.copy()\n",
    "\n",
    "    topics_ollama = []\n",
    "    topics_gemini = []\n",
    "    print(f\"Iteration {i} out of 10\")\n",
    "    for row in range(df_c.shape[0]):\n",
    "        counter1+=1\n",
    "        input_text = df_c.iloc[row].content\n",
    "        topic = ollama_query(test_prompt, test_category,input_text)\n",
    "        topic2 = gemini_query(test_prompt, test_category,input_text)\n",
    "        topics_ollama.append(topic)\n",
    "        topics_gemini.append(topic2)\n",
    "        if counter1%perc_20 == 0:\n",
    "            print(f\"{counter1} out of {df_c.shape[0]} done.\")\n",
    "    df_c.loc[:, \"local_llm_topic\"] = topics_ollama\n",
    "    df_c.loc[:, \"gemini_llm_topic\"] = topics_gemini\n",
    "    results.append(df_c)\n",
    "    "
   ]
  },
  {
   "cell_type": "code",
   "execution_count": 514,
   "id": "fa25632c-1ea9-456f-bd78-e73c2eded1b6",
   "metadata": {},
   "outputs": [
    {
     "data": {
      "text/plain": [
       "(450, 13)"
      ]
     },
     "execution_count": 514,
     "metadata": {},
     "output_type": "execute_result"
    }
   ],
   "source": [
    "df.shape"
   ]
  },
  {
   "cell_type": "markdown",
   "id": "4defb67e-3535-4258-9dee-57461ab03bbf",
   "metadata": {},
   "source": [
    "## Normalizing topics"
   ]
  },
  {
   "cell_type": "code",
   "execution_count": 515,
   "id": "be328ac1-c638-415a-97eb-c0abce3a99c5",
   "metadata": {},
   "outputs": [],
   "source": [
    "df_all = pd.concat(results)"
   ]
  },
  {
   "cell_type": "code",
   "execution_count": 517,
   "id": "8f344e66-54af-4409-ad3d-3014d07d3ec7",
   "metadata": {},
   "outputs": [],
   "source": [
    "#df_all.to_csv(\"crypto_app_llm_tagged.csv\", index=False)"
   ]
  },
  {
   "cell_type": "code",
   "execution_count": 1004,
   "id": "c38786b2-5f2c-452d-ae7a-784ed2f44512",
   "metadata": {},
   "outputs": [],
   "source": [
    "df_all = pd.read_csv(\"crypto_app_llm_tagged.csv\")"
   ]
  },
  {
   "cell_type": "code",
   "execution_count": 1009,
   "id": "c71049eb-2f66-4ae5-906f-cb84166b7896",
   "metadata": {},
   "outputs": [
    {
     "data": {
      "text/plain": [
       "local_llm_topic     407\n",
       "gemini_llm_topic     16\n",
       "dtype: int64"
      ]
     },
     "execution_count": 1009,
     "metadata": {},
     "output_type": "execute_result"
    }
   ],
   "source": [
    "df_all.agg({\n",
    "           \"local_llm_topic\":\"nunique\",\n",
    "           \"gemini_llm_topic\":\"nunique\"})"
   ]
  },
  {
   "cell_type": "code",
   "execution_count": 1010,
   "id": "8f6f645b-1640-44b2-a7fd-f8aa80864d40",
   "metadata": {},
   "outputs": [],
   "source": [
    "df_all[\"gemini_llm_topic\"] = df_all[\"gemini_llm_topic\"].str.lower()"
   ]
  },
  {
   "cell_type": "code",
   "execution_count": 1011,
   "id": "69f66f94-2d83-431c-adbb-806157929b4a",
   "metadata": {},
   "outputs": [],
   "source": [
    "df_all = df_all.reset_index()"
   ]
  },
  {
   "cell_type": "code",
   "execution_count": 1012,
   "id": "63dd7c89-b8f3-4b94-8bb0-9e15fb4c37b8",
   "metadata": {},
   "outputs": [
    {
     "data": {
      "text/plain": [
       "gemini_llm_topic\n",
       "gemini failed to respond                 533\n",
       "generic feedback                         429\n",
       "usability/user interface                 101\n",
       "reliability/stability                     47\n",
       "customer support                          39\n",
       "account management                        30\n",
       "features/functionality                    30\n",
       "fees/pricing                              29\n",
       "withdrawal process                        28\n",
       "verification/kyc                          25\n",
       "community/reputation                      20\n",
       "transaction speed                         12\n",
       "deposit process                           11\n",
       "security                                   6\n",
       "educational resources                      6\n",
       "mobile app experience (if applicable)      4\n",
       "Name: count, dtype: int64"
      ]
     },
     "execution_count": 1012,
     "metadata": {},
     "output_type": "execute_result"
    }
   ],
   "source": [
    "df_all[\"gemini_llm_topic\"].value_counts()"
   ]
  },
  {
   "cell_type": "code",
   "execution_count": 1013,
   "id": "5493fe62-824c-43f8-b2af-9514dc4ffece",
   "metadata": {},
   "outputs": [],
   "source": [
    "multiple_index = df_all.groupby(\"index\")[\"gemini_llm_topic\"].nunique() > 1"
   ]
  },
  {
   "cell_type": "code",
   "execution_count": 1014,
   "id": "2ff50703-2ad9-4768-a67e-ce2d5937b9dc",
   "metadata": {},
   "outputs": [
    {
     "data": {
      "text/html": [
       "<div>\n",
       "<style scoped>\n",
       "    .dataframe tbody tr th:only-of-type {\n",
       "        vertical-align: middle;\n",
       "    }\n",
       "\n",
       "    .dataframe tbody tr th {\n",
       "        vertical-align: top;\n",
       "    }\n",
       "\n",
       "    .dataframe thead th {\n",
       "        text-align: right;\n",
       "    }\n",
       "</style>\n",
       "<table border=\"1\" class=\"dataframe\">\n",
       "  <thead>\n",
       "    <tr style=\"text-align: right;\">\n",
       "      <th></th>\n",
       "      <th>index</th>\n",
       "      <th>reviewId</th>\n",
       "      <th>userName</th>\n",
       "      <th>userImage</th>\n",
       "      <th>content</th>\n",
       "      <th>score</th>\n",
       "      <th>thumbsUpCount</th>\n",
       "      <th>reviewCreatedVersion</th>\n",
       "      <th>at</th>\n",
       "      <th>replyContent</th>\n",
       "      <th>repliedAt</th>\n",
       "      <th>appVersion</th>\n",
       "      <th>app</th>\n",
       "      <th>normalized_topic</th>\n",
       "      <th>local_llm_topic</th>\n",
       "      <th>gemini_llm_topic</th>\n",
       "    </tr>\n",
       "  </thead>\n",
       "  <tbody>\n",
       "  </tbody>\n",
       "</table>\n",
       "</div>"
      ],
      "text/plain": [
       "Empty DataFrame\n",
       "Columns: [index, reviewId, userName, userImage, content, score, thumbsUpCount, reviewCreatedVersion, at, replyContent, repliedAt, appVersion, app, normalized_topic, local_llm_topic, gemini_llm_topic]\n",
       "Index: []"
      ]
     },
     "execution_count": 1014,
     "metadata": {},
     "output_type": "execute_result"
    }
   ],
   "source": [
    "df_all[multiple_index]"
   ]
  },
  {
   "cell_type": "code",
   "execution_count": 1015,
   "id": "c4098486-4ac9-411b-b907-4467e49e7fb4",
   "metadata": {},
   "outputs": [],
   "source": [
    "failed = df_all[\"gemini_llm_topic\"] == \"gemini failed to respond\""
   ]
  },
  {
   "cell_type": "code",
   "execution_count": 1016,
   "id": "7c0e8184-7980-4094-9399-5ce70f1722de",
   "metadata": {},
   "outputs": [],
   "source": [
    "df_all = df_all[~failed]"
   ]
  },
  {
   "cell_type": "code",
   "execution_count": 1017,
   "id": "55ae421e-6363-4c86-b7ff-bfc73093e98e",
   "metadata": {},
   "outputs": [],
   "source": [
    "df_normalized_topics = df_all.groupby([\"index\",\"gemini_llm_topic\"]).size().reset_index(name=\"count\") .sort_values(by=\"count\", ascending=False) \\\n",
    "     .groupby(\"index\").first()"
   ]
  },
  {
   "cell_type": "code",
   "execution_count": 1018,
   "id": "bd0d3aaf-065a-4c52-88f4-04f6d84639e1",
   "metadata": {},
   "outputs": [],
   "source": [
    "df_normalized_topics[\"llm_topic\"] = df_normalized_topics[\"gemini_llm_topic\"].apply(lambda x: x.title())"
   ]
  },
  {
   "cell_type": "code",
   "execution_count": 1325,
   "id": "d7d6aeb8-c678-4b53-b2fe-47ba6a8de73e",
   "metadata": {},
   "outputs": [],
   "source": [
    "df[\"normalized_topic\"] = df_normalized_topics[\"gemini_llm_topic\"]"
   ]
  },
  {
   "cell_type": "code",
   "execution_count": 1326,
   "id": "c60d8fe4-25fa-4c49-a2bb-b8f788057dc3",
   "metadata": {},
   "outputs": [],
   "source": [
    "#additional improvements could be with embeddings"
   ]
  },
  {
   "cell_type": "code",
   "execution_count": 1327,
   "id": "e9b8a124-8259-4858-b2cf-e0df45fa0ab3",
   "metadata": {},
   "outputs": [],
   "source": [
    "na = df[\"normalized_topic\"].isna()"
   ]
  },
  {
   "cell_type": "markdown",
   "id": "2a4860d0-aa30-41e1-aea3-2c7b1a11d2ce",
   "metadata": {},
   "source": [
    "## Create DF_s"
   ]
  },
  {
   "cell_type": "code",
   "execution_count": 1328,
   "id": "291aac96-d7cd-42f3-b830-08d2cac372d8",
   "metadata": {},
   "outputs": [],
   "source": [
    "df_s = df[~na].copy()"
   ]
  },
  {
   "cell_type": "code",
   "execution_count": 1329,
   "id": "a51a7d54-443a-4c78-a167-d9afd6c1fd3d",
   "metadata": {},
   "outputs": [
    {
     "data": {
      "text/plain": [
       "(352, 13)"
      ]
     },
     "execution_count": 1329,
     "metadata": {},
     "output_type": "execute_result"
    }
   ],
   "source": [
    "df_s.shape"
   ]
  },
  {
   "cell_type": "code",
   "execution_count": 1330,
   "id": "d784a3be-e3e4-4f3a-9a76-3c4672e1d811",
   "metadata": {},
   "outputs": [
    {
     "data": {
      "text/plain": [
       "app\n",
       "co.mona.android    120\n",
       "com.bybit.app      117\n",
       "com.binance.dev    115\n",
       "Name: count, dtype: int64"
      ]
     },
     "execution_count": 1330,
     "metadata": {},
     "output_type": "execute_result"
    }
   ],
   "source": [
    "df_s[\"app\"].value_counts()"
   ]
  },
  {
   "cell_type": "code",
   "execution_count": 1331,
   "id": "da391ce3-c48e-433e-88d8-ddc658e86858",
   "metadata": {},
   "outputs": [],
   "source": [
    "index = df_s[\"app\"] == \"co.mona.android\""
   ]
  },
  {
   "cell_type": "code",
   "execution_count": 1332,
   "id": "f323ad95-532e-4415-8412-eec2e8336f4c",
   "metadata": {},
   "outputs": [],
   "source": [
    "df_s = df_s[index]"
   ]
  },
  {
   "cell_type": "code",
   "execution_count": 1333,
   "id": "1a19b596-eb3e-4a08-8666-284fc5ad4653",
   "metadata": {},
   "outputs": [],
   "source": [
    "#df_s[\"normalized_topic\"].value_counts().reset_index().to_csv(\"topics_grouped.csv\",index=False)"
   ]
  },
  {
   "cell_type": "code",
   "execution_count": 1334,
   "id": "bb072f41-c94f-41b9-b67f-1120056d8bae",
   "metadata": {},
   "outputs": [
    {
     "data": {
      "text/plain": [
       "normalized_topic\n",
       "generic feedback                         34\n",
       "usability/user interface                 22\n",
       "fees/pricing                             12\n",
       "reliability/stability                    12\n",
       "account management                        8\n",
       "customer support                          7\n",
       "withdrawal process                        7\n",
       "verification/kyc                          6\n",
       "deposit process                           4\n",
       "features/functionality                    2\n",
       "educational resources                     2\n",
       "community/reputation                      1\n",
       "security                                  1\n",
       "transaction speed                         1\n",
       "mobile app experience (if applicable)     1\n",
       "Name: count, dtype: int64"
      ]
     },
     "execution_count": 1334,
     "metadata": {},
     "output_type": "execute_result"
    }
   ],
   "source": [
    "df_s[\"normalized_topic\"].value_counts()"
   ]
  },
  {
   "cell_type": "markdown",
   "id": "003fa62a-9869-44ef-98e4-565a99015401",
   "metadata": {},
   "source": [
    "## Train test split"
   ]
  },
  {
   "cell_type": "code",
   "execution_count": 1335,
   "id": "cbb05f76-eb7f-4dac-af1b-397494334949",
   "metadata": {},
   "outputs": [],
   "source": [
    "from sklearn.model_selection import train_test_split"
   ]
  },
  {
   "cell_type": "code",
   "execution_count": 1336,
   "id": "6059f753-bd4d-417a-b5da-a14822cb83f1",
   "metadata": {},
   "outputs": [],
   "source": [
    "X = df_s\n",
    "y = df_s.normalized_topic"
   ]
  },
  {
   "cell_type": "code",
   "execution_count": 1337,
   "id": "52050d8a-9c31-430d-8d16-da158078ef77",
   "metadata": {},
   "outputs": [],
   "source": [
    "X_train, X_test, y_train, y_test = train_test_split(\n",
    "    X, y, test_size=0.20, random_state=42)\n",
    "\n",
    "\n",
    "X_train = X_train.sample(X_train.shape[0]*20, replace=True)\n",
    "#split text and labels\n",
    "train_sentences = X_train.content.to_numpy()\n",
    "train_labels = X_train.normalized_topic.to_numpy()\n",
    "test_sentences = X_test.content.to_numpy()\n",
    "test_labels = y_test.to_numpy()"
   ]
  },
  {
   "cell_type": "code",
   "execution_count": 1338,
   "id": "274793be-be35-4df4-bed3-ae07215b1577",
   "metadata": {},
   "outputs": [
    {
     "data": {
      "text/plain": [
       "24"
      ]
     },
     "execution_count": 1338,
     "metadata": {},
     "output_type": "execute_result"
    }
   ],
   "source": [
    "test_sentences.size"
   ]
  },
  {
   "cell_type": "markdown",
   "id": "ff6c972b-71ba-4c1d-9448-949d520544f5",
   "metadata": {},
   "source": [
    "## Tokenize"
   ]
  },
  {
   "cell_type": "code",
   "execution_count": 1339,
   "id": "2df14759-7b38-4baf-9c79-bac21ed247cc",
   "metadata": {},
   "outputs": [],
   "source": [
    "from tensorflow.keras.preprocessing.text import Tokenizer\n",
    "from sklearn.preprocessing import LabelEncoder"
   ]
  },
  {
   "cell_type": "code",
   "execution_count": 1340,
   "id": "1485cec4-406c-4bd6-9437-d86bfa3818e2",
   "metadata": {},
   "outputs": [],
   "source": [
    "from collections import Counter"
   ]
  },
  {
   "cell_type": "code",
   "execution_count": 1341,
   "id": "d834d14a-ca3a-40a1-ac6d-41d3f70f225c",
   "metadata": {},
   "outputs": [],
   "source": [
    "def counter_word(text_col):\n",
    "    count = Counter()\n",
    "    for text in text_col.values:\n",
    "        for word in text.split():\n",
    "            count[word] += 1\n",
    "    return count"
   ]
  },
  {
   "cell_type": "code",
   "execution_count": 1342,
   "id": "591644a2-25a3-45ed-8ee8-4a1a5d99e3ab",
   "metadata": {},
   "outputs": [],
   "source": [
    "#!pip install scikit-learn"
   ]
  },
  {
   "cell_type": "code",
   "execution_count": 1343,
   "id": "1e36722c-f7f9-473d-afba-fdfcf1f00f0b",
   "metadata": {},
   "outputs": [],
   "source": [
    "counter = counter_word(df_s.content)"
   ]
  },
  {
   "cell_type": "code",
   "execution_count": 1344,
   "id": "e2d1de4a-d002-440a-a11d-45eddcbea2b8",
   "metadata": {},
   "outputs": [],
   "source": [
    "num_unique_words = len(counter)"
   ]
  },
  {
   "cell_type": "code",
   "execution_count": 1345,
   "id": "110a5c9e-91f0-415b-9209-9cf07dac6fd3",
   "metadata": {},
   "outputs": [],
   "source": [
    "#vectorize a text corpus by turning each text into a sequence of integers\n",
    "tokenizer = Tokenizer(num_words=num_unique_words)\n",
    "tokenizer.fit_on_texts(train_sentences) #fit only to trainin"
   ]
  },
  {
   "cell_type": "code",
   "execution_count": 1346,
   "id": "3adeed15-e18e-4c20-a6a0-09f2698df8b4",
   "metadata": {},
   "outputs": [
    {
     "data": {
      "text/html": [
       "<style>#sk-container-id-12 {\n",
       "  /* Definition of color scheme common for light and dark mode */\n",
       "  --sklearn-color-text: #000;\n",
       "  --sklearn-color-text-muted: #666;\n",
       "  --sklearn-color-line: gray;\n",
       "  /* Definition of color scheme for unfitted estimators */\n",
       "  --sklearn-color-unfitted-level-0: #fff5e6;\n",
       "  --sklearn-color-unfitted-level-1: #f6e4d2;\n",
       "  --sklearn-color-unfitted-level-2: #ffe0b3;\n",
       "  --sklearn-color-unfitted-level-3: chocolate;\n",
       "  /* Definition of color scheme for fitted estimators */\n",
       "  --sklearn-color-fitted-level-0: #f0f8ff;\n",
       "  --sklearn-color-fitted-level-1: #d4ebff;\n",
       "  --sklearn-color-fitted-level-2: #b3dbfd;\n",
       "  --sklearn-color-fitted-level-3: cornflowerblue;\n",
       "\n",
       "  /* Specific color for light theme */\n",
       "  --sklearn-color-text-on-default-background: var(--sg-text-color, var(--theme-code-foreground, var(--jp-content-font-color1, black)));\n",
       "  --sklearn-color-background: var(--sg-background-color, var(--theme-background, var(--jp-layout-color0, white)));\n",
       "  --sklearn-color-border-box: var(--sg-text-color, var(--theme-code-foreground, var(--jp-content-font-color1, black)));\n",
       "  --sklearn-color-icon: #696969;\n",
       "\n",
       "  @media (prefers-color-scheme: dark) {\n",
       "    /* Redefinition of color scheme for dark theme */\n",
       "    --sklearn-color-text-on-default-background: var(--sg-text-color, var(--theme-code-foreground, var(--jp-content-font-color1, white)));\n",
       "    --sklearn-color-background: var(--sg-background-color, var(--theme-background, var(--jp-layout-color0, #111)));\n",
       "    --sklearn-color-border-box: var(--sg-text-color, var(--theme-code-foreground, var(--jp-content-font-color1, white)));\n",
       "    --sklearn-color-icon: #878787;\n",
       "  }\n",
       "}\n",
       "\n",
       "#sk-container-id-12 {\n",
       "  color: var(--sklearn-color-text);\n",
       "}\n",
       "\n",
       "#sk-container-id-12 pre {\n",
       "  padding: 0;\n",
       "}\n",
       "\n",
       "#sk-container-id-12 input.sk-hidden--visually {\n",
       "  border: 0;\n",
       "  clip: rect(1px 1px 1px 1px);\n",
       "  clip: rect(1px, 1px, 1px, 1px);\n",
       "  height: 1px;\n",
       "  margin: -1px;\n",
       "  overflow: hidden;\n",
       "  padding: 0;\n",
       "  position: absolute;\n",
       "  width: 1px;\n",
       "}\n",
       "\n",
       "#sk-container-id-12 div.sk-dashed-wrapped {\n",
       "  border: 1px dashed var(--sklearn-color-line);\n",
       "  margin: 0 0.4em 0.5em 0.4em;\n",
       "  box-sizing: border-box;\n",
       "  padding-bottom: 0.4em;\n",
       "  background-color: var(--sklearn-color-background);\n",
       "}\n",
       "\n",
       "#sk-container-id-12 div.sk-container {\n",
       "  /* jupyter's `normalize.less` sets `[hidden] { display: none; }`\n",
       "     but bootstrap.min.css set `[hidden] { display: none !important; }`\n",
       "     so we also need the `!important` here to be able to override the\n",
       "     default hidden behavior on the sphinx rendered scikit-learn.org.\n",
       "     See: https://github.com/scikit-learn/scikit-learn/issues/21755 */\n",
       "  display: inline-block !important;\n",
       "  position: relative;\n",
       "}\n",
       "\n",
       "#sk-container-id-12 div.sk-text-repr-fallback {\n",
       "  display: none;\n",
       "}\n",
       "\n",
       "div.sk-parallel-item,\n",
       "div.sk-serial,\n",
       "div.sk-item {\n",
       "  /* draw centered vertical line to link estimators */\n",
       "  background-image: linear-gradient(var(--sklearn-color-text-on-default-background), var(--sklearn-color-text-on-default-background));\n",
       "  background-size: 2px 100%;\n",
       "  background-repeat: no-repeat;\n",
       "  background-position: center center;\n",
       "}\n",
       "\n",
       "/* Parallel-specific style estimator block */\n",
       "\n",
       "#sk-container-id-12 div.sk-parallel-item::after {\n",
       "  content: \"\";\n",
       "  width: 100%;\n",
       "  border-bottom: 2px solid var(--sklearn-color-text-on-default-background);\n",
       "  flex-grow: 1;\n",
       "}\n",
       "\n",
       "#sk-container-id-12 div.sk-parallel {\n",
       "  display: flex;\n",
       "  align-items: stretch;\n",
       "  justify-content: center;\n",
       "  background-color: var(--sklearn-color-background);\n",
       "  position: relative;\n",
       "}\n",
       "\n",
       "#sk-container-id-12 div.sk-parallel-item {\n",
       "  display: flex;\n",
       "  flex-direction: column;\n",
       "}\n",
       "\n",
       "#sk-container-id-12 div.sk-parallel-item:first-child::after {\n",
       "  align-self: flex-end;\n",
       "  width: 50%;\n",
       "}\n",
       "\n",
       "#sk-container-id-12 div.sk-parallel-item:last-child::after {\n",
       "  align-self: flex-start;\n",
       "  width: 50%;\n",
       "}\n",
       "\n",
       "#sk-container-id-12 div.sk-parallel-item:only-child::after {\n",
       "  width: 0;\n",
       "}\n",
       "\n",
       "/* Serial-specific style estimator block */\n",
       "\n",
       "#sk-container-id-12 div.sk-serial {\n",
       "  display: flex;\n",
       "  flex-direction: column;\n",
       "  align-items: center;\n",
       "  background-color: var(--sklearn-color-background);\n",
       "  padding-right: 1em;\n",
       "  padding-left: 1em;\n",
       "}\n",
       "\n",
       "\n",
       "/* Toggleable style: style used for estimator/Pipeline/ColumnTransformer box that is\n",
       "clickable and can be expanded/collapsed.\n",
       "- Pipeline and ColumnTransformer use this feature and define the default style\n",
       "- Estimators will overwrite some part of the style using the `sk-estimator` class\n",
       "*/\n",
       "\n",
       "/* Pipeline and ColumnTransformer style (default) */\n",
       "\n",
       "#sk-container-id-12 div.sk-toggleable {\n",
       "  /* Default theme specific background. It is overwritten whether we have a\n",
       "  specific estimator or a Pipeline/ColumnTransformer */\n",
       "  background-color: var(--sklearn-color-background);\n",
       "}\n",
       "\n",
       "/* Toggleable label */\n",
       "#sk-container-id-12 label.sk-toggleable__label {\n",
       "  cursor: pointer;\n",
       "  display: flex;\n",
       "  width: 100%;\n",
       "  margin-bottom: 0;\n",
       "  padding: 0.5em;\n",
       "  box-sizing: border-box;\n",
       "  text-align: center;\n",
       "  align-items: start;\n",
       "  justify-content: space-between;\n",
       "  gap: 0.5em;\n",
       "}\n",
       "\n",
       "#sk-container-id-12 label.sk-toggleable__label .caption {\n",
       "  font-size: 0.6rem;\n",
       "  font-weight: lighter;\n",
       "  color: var(--sklearn-color-text-muted);\n",
       "}\n",
       "\n",
       "#sk-container-id-12 label.sk-toggleable__label-arrow:before {\n",
       "  /* Arrow on the left of the label */\n",
       "  content: \"▸\";\n",
       "  float: left;\n",
       "  margin-right: 0.25em;\n",
       "  color: var(--sklearn-color-icon);\n",
       "}\n",
       "\n",
       "#sk-container-id-12 label.sk-toggleable__label-arrow:hover:before {\n",
       "  color: var(--sklearn-color-text);\n",
       "}\n",
       "\n",
       "/* Toggleable content - dropdown */\n",
       "\n",
       "#sk-container-id-12 div.sk-toggleable__content {\n",
       "  max-height: 0;\n",
       "  max-width: 0;\n",
       "  overflow: hidden;\n",
       "  text-align: left;\n",
       "  /* unfitted */\n",
       "  background-color: var(--sklearn-color-unfitted-level-0);\n",
       "}\n",
       "\n",
       "#sk-container-id-12 div.sk-toggleable__content.fitted {\n",
       "  /* fitted */\n",
       "  background-color: var(--sklearn-color-fitted-level-0);\n",
       "}\n",
       "\n",
       "#sk-container-id-12 div.sk-toggleable__content pre {\n",
       "  margin: 0.2em;\n",
       "  border-radius: 0.25em;\n",
       "  color: var(--sklearn-color-text);\n",
       "  /* unfitted */\n",
       "  background-color: var(--sklearn-color-unfitted-level-0);\n",
       "}\n",
       "\n",
       "#sk-container-id-12 div.sk-toggleable__content.fitted pre {\n",
       "  /* unfitted */\n",
       "  background-color: var(--sklearn-color-fitted-level-0);\n",
       "}\n",
       "\n",
       "#sk-container-id-12 input.sk-toggleable__control:checked~div.sk-toggleable__content {\n",
       "  /* Expand drop-down */\n",
       "  max-height: 200px;\n",
       "  max-width: 100%;\n",
       "  overflow: auto;\n",
       "}\n",
       "\n",
       "#sk-container-id-12 input.sk-toggleable__control:checked~label.sk-toggleable__label-arrow:before {\n",
       "  content: \"▾\";\n",
       "}\n",
       "\n",
       "/* Pipeline/ColumnTransformer-specific style */\n",
       "\n",
       "#sk-container-id-12 div.sk-label input.sk-toggleable__control:checked~label.sk-toggleable__label {\n",
       "  color: var(--sklearn-color-text);\n",
       "  background-color: var(--sklearn-color-unfitted-level-2);\n",
       "}\n",
       "\n",
       "#sk-container-id-12 div.sk-label.fitted input.sk-toggleable__control:checked~label.sk-toggleable__label {\n",
       "  background-color: var(--sklearn-color-fitted-level-2);\n",
       "}\n",
       "\n",
       "/* Estimator-specific style */\n",
       "\n",
       "/* Colorize estimator box */\n",
       "#sk-container-id-12 div.sk-estimator input.sk-toggleable__control:checked~label.sk-toggleable__label {\n",
       "  /* unfitted */\n",
       "  background-color: var(--sklearn-color-unfitted-level-2);\n",
       "}\n",
       "\n",
       "#sk-container-id-12 div.sk-estimator.fitted input.sk-toggleable__control:checked~label.sk-toggleable__label {\n",
       "  /* fitted */\n",
       "  background-color: var(--sklearn-color-fitted-level-2);\n",
       "}\n",
       "\n",
       "#sk-container-id-12 div.sk-label label.sk-toggleable__label,\n",
       "#sk-container-id-12 div.sk-label label {\n",
       "  /* The background is the default theme color */\n",
       "  color: var(--sklearn-color-text-on-default-background);\n",
       "}\n",
       "\n",
       "/* On hover, darken the color of the background */\n",
       "#sk-container-id-12 div.sk-label:hover label.sk-toggleable__label {\n",
       "  color: var(--sklearn-color-text);\n",
       "  background-color: var(--sklearn-color-unfitted-level-2);\n",
       "}\n",
       "\n",
       "/* Label box, darken color on hover, fitted */\n",
       "#sk-container-id-12 div.sk-label.fitted:hover label.sk-toggleable__label.fitted {\n",
       "  color: var(--sklearn-color-text);\n",
       "  background-color: var(--sklearn-color-fitted-level-2);\n",
       "}\n",
       "\n",
       "/* Estimator label */\n",
       "\n",
       "#sk-container-id-12 div.sk-label label {\n",
       "  font-family: monospace;\n",
       "  font-weight: bold;\n",
       "  display: inline-block;\n",
       "  line-height: 1.2em;\n",
       "}\n",
       "\n",
       "#sk-container-id-12 div.sk-label-container {\n",
       "  text-align: center;\n",
       "}\n",
       "\n",
       "/* Estimator-specific */\n",
       "#sk-container-id-12 div.sk-estimator {\n",
       "  font-family: monospace;\n",
       "  border: 1px dotted var(--sklearn-color-border-box);\n",
       "  border-radius: 0.25em;\n",
       "  box-sizing: border-box;\n",
       "  margin-bottom: 0.5em;\n",
       "  /* unfitted */\n",
       "  background-color: var(--sklearn-color-unfitted-level-0);\n",
       "}\n",
       "\n",
       "#sk-container-id-12 div.sk-estimator.fitted {\n",
       "  /* fitted */\n",
       "  background-color: var(--sklearn-color-fitted-level-0);\n",
       "}\n",
       "\n",
       "/* on hover */\n",
       "#sk-container-id-12 div.sk-estimator:hover {\n",
       "  /* unfitted */\n",
       "  background-color: var(--sklearn-color-unfitted-level-2);\n",
       "}\n",
       "\n",
       "#sk-container-id-12 div.sk-estimator.fitted:hover {\n",
       "  /* fitted */\n",
       "  background-color: var(--sklearn-color-fitted-level-2);\n",
       "}\n",
       "\n",
       "/* Specification for estimator info (e.g. \"i\" and \"?\") */\n",
       "\n",
       "/* Common style for \"i\" and \"?\" */\n",
       "\n",
       ".sk-estimator-doc-link,\n",
       "a:link.sk-estimator-doc-link,\n",
       "a:visited.sk-estimator-doc-link {\n",
       "  float: right;\n",
       "  font-size: smaller;\n",
       "  line-height: 1em;\n",
       "  font-family: monospace;\n",
       "  background-color: var(--sklearn-color-background);\n",
       "  border-radius: 1em;\n",
       "  height: 1em;\n",
       "  width: 1em;\n",
       "  text-decoration: none !important;\n",
       "  margin-left: 0.5em;\n",
       "  text-align: center;\n",
       "  /* unfitted */\n",
       "  border: var(--sklearn-color-unfitted-level-1) 1pt solid;\n",
       "  color: var(--sklearn-color-unfitted-level-1);\n",
       "}\n",
       "\n",
       ".sk-estimator-doc-link.fitted,\n",
       "a:link.sk-estimator-doc-link.fitted,\n",
       "a:visited.sk-estimator-doc-link.fitted {\n",
       "  /* fitted */\n",
       "  border: var(--sklearn-color-fitted-level-1) 1pt solid;\n",
       "  color: var(--sklearn-color-fitted-level-1);\n",
       "}\n",
       "\n",
       "/* On hover */\n",
       "div.sk-estimator:hover .sk-estimator-doc-link:hover,\n",
       ".sk-estimator-doc-link:hover,\n",
       "div.sk-label-container:hover .sk-estimator-doc-link:hover,\n",
       ".sk-estimator-doc-link:hover {\n",
       "  /* unfitted */\n",
       "  background-color: var(--sklearn-color-unfitted-level-3);\n",
       "  color: var(--sklearn-color-background);\n",
       "  text-decoration: none;\n",
       "}\n",
       "\n",
       "div.sk-estimator.fitted:hover .sk-estimator-doc-link.fitted:hover,\n",
       ".sk-estimator-doc-link.fitted:hover,\n",
       "div.sk-label-container:hover .sk-estimator-doc-link.fitted:hover,\n",
       ".sk-estimator-doc-link.fitted:hover {\n",
       "  /* fitted */\n",
       "  background-color: var(--sklearn-color-fitted-level-3);\n",
       "  color: var(--sklearn-color-background);\n",
       "  text-decoration: none;\n",
       "}\n",
       "\n",
       "/* Span, style for the box shown on hovering the info icon */\n",
       ".sk-estimator-doc-link span {\n",
       "  display: none;\n",
       "  z-index: 9999;\n",
       "  position: relative;\n",
       "  font-weight: normal;\n",
       "  right: .2ex;\n",
       "  padding: .5ex;\n",
       "  margin: .5ex;\n",
       "  width: min-content;\n",
       "  min-width: 20ex;\n",
       "  max-width: 50ex;\n",
       "  color: var(--sklearn-color-text);\n",
       "  box-shadow: 2pt 2pt 4pt #999;\n",
       "  /* unfitted */\n",
       "  background: var(--sklearn-color-unfitted-level-0);\n",
       "  border: .5pt solid var(--sklearn-color-unfitted-level-3);\n",
       "}\n",
       "\n",
       ".sk-estimator-doc-link.fitted span {\n",
       "  /* fitted */\n",
       "  background: var(--sklearn-color-fitted-level-0);\n",
       "  border: var(--sklearn-color-fitted-level-3);\n",
       "}\n",
       "\n",
       ".sk-estimator-doc-link:hover span {\n",
       "  display: block;\n",
       "}\n",
       "\n",
       "/* \"?\"-specific style due to the `<a>` HTML tag */\n",
       "\n",
       "#sk-container-id-12 a.estimator_doc_link {\n",
       "  float: right;\n",
       "  font-size: 1rem;\n",
       "  line-height: 1em;\n",
       "  font-family: monospace;\n",
       "  background-color: var(--sklearn-color-background);\n",
       "  border-radius: 1rem;\n",
       "  height: 1rem;\n",
       "  width: 1rem;\n",
       "  text-decoration: none;\n",
       "  /* unfitted */\n",
       "  color: var(--sklearn-color-unfitted-level-1);\n",
       "  border: var(--sklearn-color-unfitted-level-1) 1pt solid;\n",
       "}\n",
       "\n",
       "#sk-container-id-12 a.estimator_doc_link.fitted {\n",
       "  /* fitted */\n",
       "  border: var(--sklearn-color-fitted-level-1) 1pt solid;\n",
       "  color: var(--sklearn-color-fitted-level-1);\n",
       "}\n",
       "\n",
       "/* On hover */\n",
       "#sk-container-id-12 a.estimator_doc_link:hover {\n",
       "  /* unfitted */\n",
       "  background-color: var(--sklearn-color-unfitted-level-3);\n",
       "  color: var(--sklearn-color-background);\n",
       "  text-decoration: none;\n",
       "}\n",
       "\n",
       "#sk-container-id-12 a.estimator_doc_link.fitted:hover {\n",
       "  /* fitted */\n",
       "  background-color: var(--sklearn-color-fitted-level-3);\n",
       "}\n",
       "</style><div id=\"sk-container-id-12\" class=\"sk-top-container\"><div class=\"sk-text-repr-fallback\"><pre>LabelEncoder()</pre><b>In a Jupyter environment, please rerun this cell to show the HTML representation or trust the notebook. <br />On GitHub, the HTML representation is unable to render, please try loading this page with nbviewer.org.</b></div><div class=\"sk-container\" hidden><div class=\"sk-item\"><div class=\"sk-estimator fitted sk-toggleable\"><input class=\"sk-toggleable__control sk-hidden--visually\" id=\"sk-estimator-id-12\" type=\"checkbox\" checked><label for=\"sk-estimator-id-12\" class=\"sk-toggleable__label fitted sk-toggleable__label-arrow\"><div><div>LabelEncoder</div></div><div><a class=\"sk-estimator-doc-link fitted\" rel=\"noreferrer\" target=\"_blank\" href=\"https://scikit-learn.org/1.6/modules/generated/sklearn.preprocessing.LabelEncoder.html\">?<span>Documentation for LabelEncoder</span></a><span class=\"sk-estimator-doc-link fitted\">i<span>Fitted</span></span></div></label><div class=\"sk-toggleable__content fitted\"><pre>LabelEncoder()</pre></div> </div></div></div></div>"
      ],
      "text/plain": [
       "LabelEncoder()"
      ]
     },
     "execution_count": 1346,
     "metadata": {},
     "output_type": "execute_result"
    }
   ],
   "source": [
    "#vectorize the labels\n",
    "le = LabelEncoder()\n",
    "le.fit(df_s.normalized_topic.to_numpy()) #fit only to trainin"
   ]
  },
  {
   "cell_type": "code",
   "execution_count": 1347,
   "id": "0f691907-49ca-4834-8c81-a972461a8d53",
   "metadata": {},
   "outputs": [
    {
     "data": {
      "text/plain": [
       "array(['account management'], dtype=object)"
      ]
     },
     "execution_count": 1347,
     "metadata": {},
     "output_type": "execute_result"
    }
   ],
   "source": [
    "le.inverse_transform([0])"
   ]
  },
  {
   "cell_type": "code",
   "execution_count": 1348,
   "id": "355bd5b7-4397-4955-aa6d-2640227bb647",
   "metadata": {},
   "outputs": [],
   "source": [
    "#each word has a unique index\n",
    "word_index = tokenizer.word_index"
   ]
  },
  {
   "cell_type": "code",
   "execution_count": 1349,
   "id": "dfdc78c5-ecf7-44a1-8c6d-00526c8e10b9",
   "metadata": {},
   "outputs": [],
   "source": [
    "train_sequences = tokenizer.texts_to_sequences(train_sentences)\n",
    "test_sequences = tokenizer.texts_to_sequences(test_sentences)"
   ]
  },
  {
   "cell_type": "code",
   "execution_count": 1350,
   "id": "128249fe-067d-452f-b9e7-bb25f73ba1f6",
   "metadata": {},
   "outputs": [],
   "source": [
    "y_train = le.transform(train_labels)\n",
    "y_test = le.transform(test_labels)"
   ]
  },
  {
   "cell_type": "code",
   "execution_count": 1351,
   "id": "a9fa4104-9b54-46d1-b2ca-d0e644eda84e",
   "metadata": {},
   "outputs": [
    {
     "name": "stdout",
     "output_type": "stream",
     "text": [
      "['Great 👍']\n",
      "[[113, 184]]\n"
     ]
    }
   ],
   "source": [
    "print(train_sentences[10:11])\n",
    "print(train_sequences[10:11])"
   ]
  },
  {
   "cell_type": "markdown",
   "id": "4b709fa5-6a6e-4faf-a29c-dc23f8a8c886",
   "metadata": {},
   "source": [
    "As seen above, sequences can have different lengths since the sentences may contain a distinct number of words. We need all sequences to be of the same length, and for this we will use padding."
   ]
  },
  {
   "cell_type": "code",
   "execution_count": 1352,
   "id": "42a85e11-14b1-4462-8a28-829fae3ab7a8",
   "metadata": {},
   "outputs": [
    {
     "data": {
      "text/plain": [
       "((1920, 255), (24, 255))"
      ]
     },
     "execution_count": 1352,
     "metadata": {},
     "output_type": "execute_result"
    }
   ],
   "source": [
    "#Pad the sequences to have the same length\n",
    "from tensorflow.keras.preprocessing.sequence import pad_sequences\n",
    "\n",
    "#max number of words in a sequence\n",
    "max_length = 255\n",
    "\n",
    "train_padded = pad_sequences(train_sequences, maxlen= max_length, padding = \"post\", truncating = \"post\")\n",
    "test_padded = pad_sequences(test_sequences, maxlen = max_length, padding = \"post\", truncating = \"post\")\n",
    "train_padded.shape, test_padded.shape"
   ]
  },
  {
   "cell_type": "code",
   "execution_count": 1353,
   "id": "6269a21f-bac2-4005-b594-49ca4caa53a7",
   "metadata": {},
   "outputs": [],
   "source": [
    "reverse_word_index = dict([(idx, word) for (word, idx) in word_index.items()])"
   ]
  },
  {
   "cell_type": "code",
   "execution_count": 1354,
   "id": "1bff3754-3582-4caa-8836-0feb4053d043",
   "metadata": {},
   "outputs": [],
   "source": [
    "def decode(sequence):\n",
    "    return \" \".join([reverse_word_index.get(idx, \"?\") for idx in sequence])"
   ]
  },
  {
   "cell_type": "code",
   "execution_count": 1355,
   "id": "63f2f738-d441-4afe-8f7d-f7eb4acf4714",
   "metadata": {},
   "outputs": [],
   "source": [
    "decoded_text = decode(train_sequences[10])"
   ]
  },
  {
   "cell_type": "code",
   "execution_count": 1356,
   "id": "ef871610-2925-4fbc-bd40-f757552a48b9",
   "metadata": {},
   "outputs": [
    {
     "data": {
      "text/plain": [
       "'great 👍'"
      ]
     },
     "execution_count": 1356,
     "metadata": {},
     "output_type": "execute_result"
    }
   ],
   "source": [
    "decoded_text"
   ]
  },
  {
   "cell_type": "markdown",
   "id": "6f8fc161-f06b-4771-a5f4-503999865ee2",
   "metadata": {},
   "source": [
    "## Train model"
   ]
  },
  {
   "cell_type": "code",
   "execution_count": 1357,
   "id": "70c952a5-c72a-4c8d-827c-de7877f12741",
   "metadata": {},
   "outputs": [],
   "source": [
    "num_classes = df_s[\"normalized_topic\"].nunique()"
   ]
  },
  {
   "cell_type": "code",
   "execution_count": 1358,
   "id": "72ec815b-592a-4d4a-a388-70b422a0a458",
   "metadata": {},
   "outputs": [
    {
     "data": {
      "text/plain": [
       "15"
      ]
     },
     "execution_count": 1358,
     "metadata": {},
     "output_type": "execute_result"
    }
   ],
   "source": [
    "num_classes"
   ]
  },
  {
   "cell_type": "code",
   "execution_count": 1359,
   "id": "f1f2aef9-baa4-4f68-bbaa-30a1c68b7c77",
   "metadata": {},
   "outputs": [],
   "source": [
    "from tensorflow import keras\n",
    "from tensorflow.keras import layers\n",
    "from tensorflow.keras import regularizers"
   ]
  },
  {
   "cell_type": "code",
   "execution_count": 1360,
   "id": "d4c48b3d-be08-44ba-b790-e56b23a17911",
   "metadata": {},
   "outputs": [],
   "source": [
    "model = keras.Sequential([\n",
    "layers.Dense(num_classes*20, \n",
    "             #kernel_regularizer=regularizers.l1_l2(l1=0.001, l2=0.001), \n",
    "             kernel_regularizer=regularizers.l2(0.002), \n",
    "             activation=\"relu\"),\n",
    "    \n",
    "    layers.Dropout(0.3),\n",
    "layers.Dense(num_classes*20, \n",
    "             #kernel_regularizer=regularizers.l1_l2(l1=0.001, l2=0.001), \n",
    "             kernel_regularizer=regularizers.l2(0.002), \n",
    "             activation=\"relu\"),\n",
    "    \n",
    "    layers.Dropout(0.3),\n",
    "layers.Dense(num_classes*20, \n",
    "             #kernel_regularizer=regularizers.l1_l2(l1=0.001, l2=0.001), \n",
    "             kernel_regularizer=regularizers.l2(0.002), \n",
    "             activation=\"relu\"),\n",
    "    \n",
    "    layers.Dropout(0.3),\n",
    "layers.Dense(num_classes, activation=\"softmax\")\n",
    "])"
   ]
  },
  {
   "cell_type": "markdown",
   "id": "048d35da-aba4-4e78-be99-39ae4e61d1c6",
   "metadata": {},
   "source": [
    "## Compile the model"
   ]
  },
  {
   "cell_type": "code",
   "execution_count": 1390,
   "id": "1ccbabee-ef63-4f5c-9486-0eb3088db089",
   "metadata": {},
   "outputs": [],
   "source": [
    "model.compile(optimizer=\"rmsprop\",\n",
    "loss=\"sparse_categorical_crossentropy\",\n",
    "metrics=[\"accuracy\"])"
   ]
  },
  {
   "cell_type": "code",
   "execution_count": 1391,
   "id": "bb19a3e3-25a1-4e35-a602-1c346c90d0c7",
   "metadata": {},
   "outputs": [
    {
     "data": {
      "text/plain": [
       "1920"
      ]
     },
     "execution_count": 1391,
     "metadata": {},
     "output_type": "execute_result"
    }
   ],
   "source": [
    "len(train_padded)"
   ]
  },
  {
   "cell_type": "code",
   "execution_count": 1392,
   "id": "29965fdd-bb19-453f-8352-0de75fdd1987",
   "metadata": {},
   "outputs": [],
   "source": [
    "#validation set\n",
    "x_val = train_padded[:100]\n",
    "partial_x_train = train_padded[100:]\n",
    "y_val = y_train[:100]\n",
    "partial_y_train = y_train[100:]"
   ]
  },
  {
   "cell_type": "code",
   "execution_count": 1393,
   "id": "7ba5db3c-cbd0-4b33-99f8-2bacd4d32c71",
   "metadata": {
    "scrolled": true
   },
   "outputs": [
    {
     "name": "stdout",
     "output_type": "stream",
     "text": [
      "Epoch 1/200\n",
      "\u001b[1m2/2\u001b[0m \u001b[32m━━━━━━━━━━━━━━━━━━━━\u001b[0m\u001b[37m\u001b[0m \u001b[1m1s\u001b[0m 106ms/step - accuracy: 0.9521 - loss: 0.7523 - val_accuracy: 0.9501 - val_loss: 0.7176\n",
      "Epoch 2/200\n",
      "\u001b[1m2/2\u001b[0m \u001b[32m━━━━━━━━━━━━━━━━━━━━\u001b[0m\u001b[37m\u001b[0m \u001b[1m0s\u001b[0m 36ms/step - accuracy: 0.9286 - loss: 1.0464 - val_accuracy: 0.9591 - val_loss: 0.6677\n",
      "Epoch 3/200\n",
      "\u001b[1m2/2\u001b[0m \u001b[32m━━━━━━━━━━━━━━━━━━━━\u001b[0m\u001b[37m\u001b[0m \u001b[1m0s\u001b[0m 32ms/step - accuracy: 0.9452 - loss: 0.7624 - val_accuracy: 0.9725 - val_loss: 0.6353\n",
      "Epoch 4/200\n",
      "\u001b[1m2/2\u001b[0m \u001b[32m━━━━━━━━━━━━━━━━━━━━\u001b[0m\u001b[37m\u001b[0m \u001b[1m0s\u001b[0m 33ms/step - accuracy: 0.9459 - loss: 0.6922 - val_accuracy: 0.9680 - val_loss: 0.6358\n",
      "Epoch 5/200\n",
      "\u001b[1m2/2\u001b[0m \u001b[32m━━━━━━━━━━━━━━━━━━━━\u001b[0m\u001b[37m\u001b[0m \u001b[1m0s\u001b[0m 33ms/step - accuracy: 0.9561 - loss: 0.6762 - val_accuracy: 0.9464 - val_loss: 0.6558\n",
      "Epoch 6/200\n",
      "\u001b[1m2/2\u001b[0m \u001b[32m━━━━━━━━━━━━━━━━━━━━\u001b[0m\u001b[37m\u001b[0m \u001b[1m0s\u001b[0m 34ms/step - accuracy: 0.9387 - loss: 0.6912 - val_accuracy: 0.9725 - val_loss: 0.6236\n",
      "Epoch 7/200\n",
      "\u001b[1m2/2\u001b[0m \u001b[32m━━━━━━━━━━━━━━━━━━━━\u001b[0m\u001b[37m\u001b[0m \u001b[1m0s\u001b[0m 32ms/step - accuracy: 0.9423 - loss: 0.6962 - val_accuracy: 0.9814 - val_loss: 0.6159\n",
      "Epoch 8/200\n",
      "\u001b[1m2/2\u001b[0m \u001b[32m━━━━━━━━━━━━━━━━━━━━\u001b[0m\u001b[37m\u001b[0m \u001b[1m0s\u001b[0m 33ms/step - accuracy: 0.9615 - loss: 0.6585 - val_accuracy: 0.9814 - val_loss: 0.6069\n",
      "Epoch 9/200\n",
      "\u001b[1m2/2\u001b[0m \u001b[32m━━━━━━━━━━━━━━━━━━━━\u001b[0m\u001b[37m\u001b[0m \u001b[1m0s\u001b[0m 34ms/step - accuracy: 0.9609 - loss: 0.6419 - val_accuracy: 0.9725 - val_loss: 0.6086\n",
      "Epoch 10/200\n",
      "\u001b[1m2/2\u001b[0m \u001b[32m━━━━━━━━━━━━━━━━━━━━\u001b[0m\u001b[37m\u001b[0m \u001b[1m0s\u001b[0m 33ms/step - accuracy: 0.9513 - loss: 0.6381 - val_accuracy: 0.9680 - val_loss: 0.6024\n",
      "Epoch 11/200\n",
      "\u001b[1m2/2\u001b[0m \u001b[32m━━━━━━━━━━━━━━━━━━━━\u001b[0m\u001b[37m\u001b[0m \u001b[1m0s\u001b[0m 32ms/step - accuracy: 0.9518 - loss: 0.7368 - val_accuracy: 0.9866 - val_loss: 0.5926\n",
      "Epoch 12/200\n",
      "\u001b[1m2/2\u001b[0m \u001b[32m━━━━━━━━━━━━━━━━━━━━\u001b[0m\u001b[37m\u001b[0m \u001b[1m0s\u001b[0m 31ms/step - accuracy: 0.9502 - loss: 0.6403 - val_accuracy: 0.9807 - val_loss: 0.5931\n",
      "Epoch 13/200\n",
      "\u001b[1m2/2\u001b[0m \u001b[32m━━━━━━━━━━━━━━━━━━━━\u001b[0m\u001b[37m\u001b[0m \u001b[1m0s\u001b[0m 38ms/step - accuracy: 0.9548 - loss: 0.6507 - val_accuracy: 0.9926 - val_loss: 0.5841\n",
      "Epoch 14/200\n",
      "\u001b[1m2/2\u001b[0m \u001b[32m━━━━━━━━━━━━━━━━━━━━\u001b[0m\u001b[37m\u001b[0m \u001b[1m0s\u001b[0m 45ms/step - accuracy: 0.9495 - loss: 0.6807 - val_accuracy: 0.9554 - val_loss: 0.5976\n",
      "Epoch 15/200\n",
      "\u001b[1m2/2\u001b[0m \u001b[32m━━━━━━━━━━━━━━━━━━━━\u001b[0m\u001b[37m\u001b[0m \u001b[1m0s\u001b[0m 31ms/step - accuracy: 0.9531 - loss: 0.6478 - val_accuracy: 0.9762 - val_loss: 0.5803\n",
      "Epoch 16/200\n",
      "\u001b[1m2/2\u001b[0m \u001b[32m━━━━━━━━━━━━━━━━━━━━\u001b[0m\u001b[37m\u001b[0m \u001b[1m0s\u001b[0m 32ms/step - accuracy: 0.9410 - loss: 0.6685 - val_accuracy: 0.9762 - val_loss: 0.5767\n",
      "Epoch 17/200\n",
      "\u001b[1m2/2\u001b[0m \u001b[32m━━━━━━━━━━━━━━━━━━━━\u001b[0m\u001b[37m\u001b[0m \u001b[1m0s\u001b[0m 32ms/step - accuracy: 0.9617 - loss: 0.6750 - val_accuracy: 0.9673 - val_loss: 0.5788\n",
      "Epoch 18/200\n",
      "\u001b[1m2/2\u001b[0m \u001b[32m━━━━━━━━━━━━━━━━━━━━\u001b[0m\u001b[37m\u001b[0m \u001b[1m0s\u001b[0m 32ms/step - accuracy: 0.9538 - loss: 0.6484 - val_accuracy: 0.9695 - val_loss: 0.5784\n",
      "Epoch 19/200\n",
      "\u001b[1m2/2\u001b[0m \u001b[32m━━━━━━━━━━━━━━━━━━━━\u001b[0m\u001b[37m\u001b[0m \u001b[1m0s\u001b[0m 31ms/step - accuracy: 0.9554 - loss: 0.6371 - val_accuracy: 0.9695 - val_loss: 0.5751\n",
      "Epoch 20/200\n",
      "\u001b[1m2/2\u001b[0m \u001b[32m━━━━━━━━━━━━━━━━━━━━\u001b[0m\u001b[37m\u001b[0m \u001b[1m0s\u001b[0m 31ms/step - accuracy: 0.9651 - loss: 0.6029 - val_accuracy: 0.9725 - val_loss: 0.5712\n",
      "Epoch 21/200\n",
      "\u001b[1m2/2\u001b[0m \u001b[32m━━━━━━━━━━━━━━━━━━━━\u001b[0m\u001b[37m\u001b[0m \u001b[1m0s\u001b[0m 31ms/step - accuracy: 0.9610 - loss: 0.5967 - val_accuracy: 0.9814 - val_loss: 0.5647\n",
      "Epoch 22/200\n",
      "\u001b[1m2/2\u001b[0m \u001b[32m━━━━━━━━━━━━━━━━━━━━\u001b[0m\u001b[37m\u001b[0m \u001b[1m0s\u001b[0m 32ms/step - accuracy: 0.9543 - loss: 0.6553 - val_accuracy: 0.9799 - val_loss: 0.5569\n",
      "Epoch 23/200\n",
      "\u001b[1m2/2\u001b[0m \u001b[32m━━━━━━━━━━━━━━━━━━━━\u001b[0m\u001b[37m\u001b[0m \u001b[1m0s\u001b[0m 33ms/step - accuracy: 0.9574 - loss: 0.6034 - val_accuracy: 0.9814 - val_loss: 0.5556\n",
      "Epoch 24/200\n",
      "\u001b[1m2/2\u001b[0m \u001b[32m━━━━━━━━━━━━━━━━━━━━\u001b[0m\u001b[37m\u001b[0m \u001b[1m0s\u001b[0m 31ms/step - accuracy: 0.9633 - loss: 0.6170 - val_accuracy: 0.9814 - val_loss: 0.5549\n",
      "Epoch 25/200\n",
      "\u001b[1m2/2\u001b[0m \u001b[32m━━━━━━━━━━━━━━━━━━━━\u001b[0m\u001b[37m\u001b[0m \u001b[1m0s\u001b[0m 30ms/step - accuracy: 0.9605 - loss: 0.5962 - val_accuracy: 0.9807 - val_loss: 0.5474\n",
      "Epoch 26/200\n",
      "\u001b[1m2/2\u001b[0m \u001b[32m━━━━━━━━━━━━━━━━━━━━\u001b[0m\u001b[37m\u001b[0m \u001b[1m0s\u001b[0m 31ms/step - accuracy: 0.9617 - loss: 0.5864 - val_accuracy: 0.9725 - val_loss: 0.5485\n",
      "Epoch 27/200\n",
      "\u001b[1m2/2\u001b[0m \u001b[32m━━━━━━━━━━━━━━━━━━━━\u001b[0m\u001b[37m\u001b[0m \u001b[1m0s\u001b[0m 31ms/step - accuracy: 0.9549 - loss: 0.5979 - val_accuracy: 0.9680 - val_loss: 0.5496\n",
      "Epoch 28/200\n",
      "\u001b[1m2/2\u001b[0m \u001b[32m━━━━━━━━━━━━━━━━━━━━\u001b[0m\u001b[37m\u001b[0m \u001b[1m0s\u001b[0m 33ms/step - accuracy: 0.9599 - loss: 0.5990 - val_accuracy: 0.9695 - val_loss: 0.5364\n",
      "Epoch 29/200\n",
      "\u001b[1m2/2\u001b[0m \u001b[32m━━━━━━━━━━━━━━━━━━━━\u001b[0m\u001b[37m\u001b[0m \u001b[1m0s\u001b[0m 31ms/step - accuracy: 0.9604 - loss: 0.6089 - val_accuracy: 0.9725 - val_loss: 0.5451\n",
      "Epoch 30/200\n",
      "\u001b[1m2/2\u001b[0m \u001b[32m━━━━━━━━━━━━━━━━━━━━\u001b[0m\u001b[37m\u001b[0m \u001b[1m0s\u001b[0m 32ms/step - accuracy: 0.9627 - loss: 0.5814 - val_accuracy: 0.9725 - val_loss: 0.5543\n",
      "Epoch 31/200\n",
      "\u001b[1m2/2\u001b[0m \u001b[32m━━━━━━━━━━━━━━━━━━━━\u001b[0m\u001b[37m\u001b[0m \u001b[1m0s\u001b[0m 31ms/step - accuracy: 0.9651 - loss: 0.6246 - val_accuracy: 0.9725 - val_loss: 0.5361\n",
      "Epoch 32/200\n",
      "\u001b[1m2/2\u001b[0m \u001b[32m━━━━━━━━━━━━━━━━━━━━\u001b[0m\u001b[37m\u001b[0m \u001b[1m0s\u001b[0m 31ms/step - accuracy: 0.9584 - loss: 0.5793 - val_accuracy: 0.9725 - val_loss: 0.5314\n",
      "Epoch 33/200\n",
      "\u001b[1m2/2\u001b[0m \u001b[32m━━━━━━━━━━━━━━━━━━━━\u001b[0m\u001b[37m\u001b[0m \u001b[1m0s\u001b[0m 32ms/step - accuracy: 0.9597 - loss: 0.5693 - val_accuracy: 0.9814 - val_loss: 0.5210\n",
      "Epoch 34/200\n",
      "\u001b[1m2/2\u001b[0m \u001b[32m━━━━━━━━━━━━━━━━━━━━\u001b[0m\u001b[37m\u001b[0m \u001b[1m0s\u001b[0m 30ms/step - accuracy: 0.9604 - loss: 0.5687 - val_accuracy: 0.9725 - val_loss: 0.5109\n",
      "Epoch 35/200\n",
      "\u001b[1m2/2\u001b[0m \u001b[32m━━━━━━━━━━━━━━━━━━━━\u001b[0m\u001b[37m\u001b[0m \u001b[1m0s\u001b[0m 32ms/step - accuracy: 0.9622 - loss: 0.5443 - val_accuracy: 0.9725 - val_loss: 0.5273\n",
      "Epoch 36/200\n",
      "\u001b[1m2/2\u001b[0m \u001b[32m━━━━━━━━━━━━━━━━━━━━\u001b[0m\u001b[37m\u001b[0m \u001b[1m0s\u001b[0m 32ms/step - accuracy: 0.9681 - loss: 0.5528 - val_accuracy: 0.9725 - val_loss: 0.5135\n",
      "Epoch 37/200\n",
      "\u001b[1m2/2\u001b[0m \u001b[32m━━━━━━━━━━━━━━━━━━━━\u001b[0m\u001b[37m\u001b[0m \u001b[1m0s\u001b[0m 31ms/step - accuracy: 0.9645 - loss: 0.5311 - val_accuracy: 0.9814 - val_loss: 0.5007\n",
      "Epoch 38/200\n",
      "\u001b[1m2/2\u001b[0m \u001b[32m━━━━━━━━━━━━━━━━━━━━\u001b[0m\u001b[37m\u001b[0m \u001b[1m0s\u001b[0m 32ms/step - accuracy: 0.9489 - loss: 0.5694 - val_accuracy: 0.9725 - val_loss: 0.5060\n",
      "Epoch 39/200\n",
      "\u001b[1m2/2\u001b[0m \u001b[32m━━━━━━━━━━━━━━━━━━━━\u001b[0m\u001b[37m\u001b[0m \u001b[1m0s\u001b[0m 32ms/step - accuracy: 0.9544 - loss: 0.5535 - val_accuracy: 0.9814 - val_loss: 0.4927\n",
      "Epoch 40/200\n",
      "\u001b[1m2/2\u001b[0m \u001b[32m━━━━━━━━━━━━━━━━━━━━\u001b[0m\u001b[37m\u001b[0m \u001b[1m0s\u001b[0m 32ms/step - accuracy: 0.9549 - loss: 0.5343 - val_accuracy: 0.9814 - val_loss: 0.5015\n",
      "Epoch 41/200\n",
      "\u001b[1m2/2\u001b[0m \u001b[32m━━━━━━━━━━━━━━━━━━━━\u001b[0m\u001b[37m\u001b[0m \u001b[1m0s\u001b[0m 30ms/step - accuracy: 0.9520 - loss: 0.6036 - val_accuracy: 0.9836 - val_loss: 0.4898\n",
      "Epoch 42/200\n",
      "\u001b[1m2/2\u001b[0m \u001b[32m━━━━━━━━━━━━━━━━━━━━\u001b[0m\u001b[37m\u001b[0m \u001b[1m0s\u001b[0m 31ms/step - accuracy: 0.9658 - loss: 0.5447 - val_accuracy: 0.9814 - val_loss: 0.4846\n",
      "Epoch 43/200\n",
      "\u001b[1m2/2\u001b[0m \u001b[32m━━━━━━━━━━━━━━━━━━━━\u001b[0m\u001b[37m\u001b[0m \u001b[1m0s\u001b[0m 31ms/step - accuracy: 0.9520 - loss: 0.5434 - val_accuracy: 0.9725 - val_loss: 0.4901\n",
      "Epoch 44/200\n",
      "\u001b[1m2/2\u001b[0m \u001b[32m━━━━━━━━━━━━━━━━━━━━\u001b[0m\u001b[37m\u001b[0m \u001b[1m0s\u001b[0m 31ms/step - accuracy: 0.9617 - loss: 0.5372 - val_accuracy: 0.9680 - val_loss: 0.5033\n",
      "Epoch 45/200\n",
      "\u001b[1m2/2\u001b[0m \u001b[32m━━━━━━━━━━━━━━━━━━━━\u001b[0m\u001b[37m\u001b[0m \u001b[1m0s\u001b[0m 31ms/step - accuracy: 0.9612 - loss: 0.5200 - val_accuracy: 0.9665 - val_loss: 0.4890\n",
      "Epoch 46/200\n",
      "\u001b[1m2/2\u001b[0m \u001b[32m━━━━━━━━━━━━━━━━━━━━\u001b[0m\u001b[37m\u001b[0m \u001b[1m0s\u001b[0m 32ms/step - accuracy: 0.9490 - loss: 0.5537 - val_accuracy: 0.9926 - val_loss: 0.4728\n",
      "Epoch 47/200\n",
      "\u001b[1m2/2\u001b[0m \u001b[32m━━━━━━━━━━━━━━━━━━━━\u001b[0m\u001b[37m\u001b[0m \u001b[1m0s\u001b[0m 33ms/step - accuracy: 0.9465 - loss: 0.6199 - val_accuracy: 0.9814 - val_loss: 0.4821\n",
      "Epoch 48/200\n",
      "\u001b[1m2/2\u001b[0m \u001b[32m━━━━━━━━━━━━━━━━━━━━\u001b[0m\u001b[37m\u001b[0m \u001b[1m0s\u001b[0m 32ms/step - accuracy: 0.9591 - loss: 0.5355 - val_accuracy: 0.9814 - val_loss: 0.4735\n",
      "Epoch 49/200\n",
      "\u001b[1m2/2\u001b[0m \u001b[32m━━━━━━━━━━━━━━━━━━━━\u001b[0m\u001b[37m\u001b[0m \u001b[1m0s\u001b[0m 32ms/step - accuracy: 0.9617 - loss: 0.5296 - val_accuracy: 0.9695 - val_loss: 0.4866\n",
      "Epoch 50/200\n",
      "\u001b[1m2/2\u001b[0m \u001b[32m━━━━━━━━━━━━━━━━━━━━\u001b[0m\u001b[37m\u001b[0m \u001b[1m0s\u001b[0m 30ms/step - accuracy: 0.9495 - loss: 0.5714 - val_accuracy: 0.9814 - val_loss: 0.4673\n",
      "Epoch 51/200\n",
      "\u001b[1m2/2\u001b[0m \u001b[32m━━━━━━━━━━━━━━━━━━━━\u001b[0m\u001b[37m\u001b[0m \u001b[1m0s\u001b[0m 31ms/step - accuracy: 0.9669 - loss: 0.5108 - val_accuracy: 0.9926 - val_loss: 0.4643\n",
      "Epoch 52/200\n",
      "\u001b[1m2/2\u001b[0m \u001b[32m━━━━━━━━━━━━━━━━━━━━\u001b[0m\u001b[37m\u001b[0m \u001b[1m0s\u001b[0m 31ms/step - accuracy: 0.9604 - loss: 0.5020 - val_accuracy: 0.9888 - val_loss: 0.4601\n",
      "Epoch 53/200\n",
      "\u001b[1m2/2\u001b[0m \u001b[32m━━━━━━━━━━━━━━━━━━━━\u001b[0m\u001b[37m\u001b[0m \u001b[1m0s\u001b[0m 34ms/step - accuracy: 0.9712 - loss: 0.5327 - val_accuracy: 0.9688 - val_loss: 0.4687\n",
      "Epoch 54/200\n",
      "\u001b[1m2/2\u001b[0m \u001b[32m━━━━━━━━━━━━━━━━━━━━\u001b[0m\u001b[37m\u001b[0m \u001b[1m0s\u001b[0m 31ms/step - accuracy: 0.9592 - loss: 0.5045 - val_accuracy: 0.9680 - val_loss: 0.4709\n",
      "Epoch 55/200\n",
      "\u001b[1m2/2\u001b[0m \u001b[32m━━━━━━━━━━━━━━━━━━━━\u001b[0m\u001b[37m\u001b[0m \u001b[1m0s\u001b[0m 32ms/step - accuracy: 0.9586 - loss: 0.5390 - val_accuracy: 1.0000 - val_loss: 0.4552\n",
      "Epoch 56/200\n",
      "\u001b[1m2/2\u001b[0m \u001b[32m━━━━━━━━━━━━━━━━━━━━\u001b[0m\u001b[37m\u001b[0m \u001b[1m0s\u001b[0m 31ms/step - accuracy: 0.9663 - loss: 0.5068 - val_accuracy: 0.9814 - val_loss: 0.4499\n",
      "Epoch 57/200\n",
      "\u001b[1m2/2\u001b[0m \u001b[32m━━━━━━━━━━━━━━━━━━━━\u001b[0m\u001b[37m\u001b[0m \u001b[1m0s\u001b[0m 32ms/step - accuracy: 0.9729 - loss: 0.4826 - val_accuracy: 0.9814 - val_loss: 0.4468\n",
      "Epoch 58/200\n",
      "\u001b[1m2/2\u001b[0m \u001b[32m━━━━━━━━━━━━━━━━━━━━\u001b[0m\u001b[37m\u001b[0m \u001b[1m0s\u001b[0m 32ms/step - accuracy: 0.9567 - loss: 0.5249 - val_accuracy: 1.0000 - val_loss: 0.4416\n",
      "Epoch 59/200\n",
      "\u001b[1m2/2\u001b[0m \u001b[32m━━━━━━━━━━━━━━━━━━━━\u001b[0m\u001b[37m\u001b[0m \u001b[1m0s\u001b[0m 32ms/step - accuracy: 0.9742 - loss: 0.4664 - val_accuracy: 0.9784 - val_loss: 0.4403\n",
      "Epoch 60/200\n",
      "\u001b[1m2/2\u001b[0m \u001b[32m━━━━━━━━━━━━━━━━━━━━\u001b[0m\u001b[37m\u001b[0m \u001b[1m0s\u001b[0m 35ms/step - accuracy: 0.9405 - loss: 0.5576 - val_accuracy: 0.9896 - val_loss: 0.4386\n",
      "Epoch 61/200\n",
      "\u001b[1m2/2\u001b[0m \u001b[32m━━━━━━━━━━━━━━━━━━━━\u001b[0m\u001b[37m\u001b[0m \u001b[1m0s\u001b[0m 32ms/step - accuracy: 0.9633 - loss: 0.4981 - val_accuracy: 0.9926 - val_loss: 0.4362\n",
      "Epoch 62/200\n",
      "\u001b[1m2/2\u001b[0m \u001b[32m━━━━━━━━━━━━━━━━━━━━\u001b[0m\u001b[37m\u001b[0m \u001b[1m0s\u001b[0m 32ms/step - accuracy: 0.9645 - loss: 0.4710 - val_accuracy: 0.9784 - val_loss: 0.4359\n",
      "Epoch 63/200\n",
      "\u001b[1m2/2\u001b[0m \u001b[32m━━━━━━━━━━━━━━━━━━━━\u001b[0m\u001b[37m\u001b[0m \u001b[1m0s\u001b[0m 31ms/step - accuracy: 0.9711 - loss: 0.4859 - val_accuracy: 0.9814 - val_loss: 0.4332\n",
      "Epoch 64/200\n",
      "\u001b[1m2/2\u001b[0m \u001b[32m━━━━━━━━━━━━━━━━━━━━\u001b[0m\u001b[37m\u001b[0m \u001b[1m0s\u001b[0m 33ms/step - accuracy: 0.9646 - loss: 0.4743 - val_accuracy: 0.9814 - val_loss: 0.4279\n",
      "Epoch 65/200\n",
      "\u001b[1m2/2\u001b[0m \u001b[32m━━━━━━━━━━━━━━━━━━━━\u001b[0m\u001b[37m\u001b[0m \u001b[1m0s\u001b[0m 31ms/step - accuracy: 0.9689 - loss: 0.4680 - val_accuracy: 0.9888 - val_loss: 0.4294\n",
      "Epoch 66/200\n",
      "\u001b[1m2/2\u001b[0m \u001b[32m━━━━━━━━━━━━━━━━━━━━\u001b[0m\u001b[37m\u001b[0m \u001b[1m0s\u001b[0m 31ms/step - accuracy: 0.9592 - loss: 0.4646 - val_accuracy: 0.9814 - val_loss: 0.4270\n",
      "Epoch 67/200\n",
      "\u001b[1m2/2\u001b[0m \u001b[32m━━━━━━━━━━━━━━━━━━━━\u001b[0m\u001b[37m\u001b[0m \u001b[1m0s\u001b[0m 32ms/step - accuracy: 0.9766 - loss: 0.4395 - val_accuracy: 0.9926 - val_loss: 0.4170\n",
      "Epoch 68/200\n",
      "\u001b[1m2/2\u001b[0m \u001b[32m━━━━━━━━━━━━━━━━━━━━\u001b[0m\u001b[37m\u001b[0m \u001b[1m0s\u001b[0m 30ms/step - accuracy: 0.9604 - loss: 0.4750 - val_accuracy: 0.9784 - val_loss: 0.4178\n",
      "Epoch 69/200\n",
      "\u001b[1m2/2\u001b[0m \u001b[32m━━━━━━━━━━━━━━━━━━━━\u001b[0m\u001b[37m\u001b[0m \u001b[1m0s\u001b[0m 294ms/step - accuracy: 0.9664 - loss: 0.4539 - val_accuracy: 0.9807 - val_loss: 0.4201\n",
      "Epoch 70/200\n",
      "\u001b[1m2/2\u001b[0m \u001b[32m━━━━━━━━━━━━━━━━━━━━\u001b[0m\u001b[37m\u001b[0m \u001b[1m0s\u001b[0m 49ms/step - accuracy: 0.9645 - loss: 0.4485 - val_accuracy: 0.9799 - val_loss: 0.4205\n",
      "Epoch 71/200\n",
      "\u001b[1m2/2\u001b[0m \u001b[32m━━━━━━━━━━━━━━━━━━━━\u001b[0m\u001b[37m\u001b[0m \u001b[1m0s\u001b[0m 33ms/step - accuracy: 0.9789 - loss: 0.4371 - val_accuracy: 0.9814 - val_loss: 0.4116\n",
      "Epoch 72/200\n",
      "\u001b[1m2/2\u001b[0m \u001b[32m━━━━━━━━━━━━━━━━━━━━\u001b[0m\u001b[37m\u001b[0m \u001b[1m0s\u001b[0m 33ms/step - accuracy: 0.9671 - loss: 0.4677 - val_accuracy: 0.9807 - val_loss: 0.4101\n",
      "Epoch 73/200\n",
      "\u001b[1m2/2\u001b[0m \u001b[32m━━━━━━━━━━━━━━━━━━━━\u001b[0m\u001b[37m\u001b[0m \u001b[1m0s\u001b[0m 33ms/step - accuracy: 0.9566 - loss: 0.4611 - val_accuracy: 0.9814 - val_loss: 0.4087\n",
      "Epoch 74/200\n",
      "\u001b[1m2/2\u001b[0m \u001b[32m━━━━━━━━━━━━━━━━━━━━\u001b[0m\u001b[37m\u001b[0m \u001b[1m0s\u001b[0m 35ms/step - accuracy: 0.9760 - loss: 0.4581 - val_accuracy: 0.9814 - val_loss: 0.4016\n",
      "Epoch 75/200\n",
      "\u001b[1m2/2\u001b[0m \u001b[32m━━━━━━━━━━━━━━━━━━━━\u001b[0m\u001b[37m\u001b[0m \u001b[1m0s\u001b[0m 31ms/step - accuracy: 0.9753 - loss: 0.4390 - val_accuracy: 0.9725 - val_loss: 0.4142\n",
      "Epoch 76/200\n",
      "\u001b[1m2/2\u001b[0m \u001b[32m━━━━━━━━━━━━━━━━━━━━\u001b[0m\u001b[37m\u001b[0m \u001b[1m0s\u001b[0m 32ms/step - accuracy: 0.9783 - loss: 0.4252 - val_accuracy: 0.9814 - val_loss: 0.3998\n",
      "Epoch 77/200\n",
      "\u001b[1m2/2\u001b[0m \u001b[32m━━━━━━━━━━━━━━━━━━━━\u001b[0m\u001b[37m\u001b[0m \u001b[1m0s\u001b[0m 33ms/step - accuracy: 0.9669 - loss: 0.4256 - val_accuracy: 0.9814 - val_loss: 0.3942\n",
      "Epoch 78/200\n",
      "\u001b[1m2/2\u001b[0m \u001b[32m━━━━━━━━━━━━━━━━━━━━\u001b[0m\u001b[37m\u001b[0m \u001b[1m0s\u001b[0m 31ms/step - accuracy: 0.9645 - loss: 0.4820 - val_accuracy: 0.9725 - val_loss: 0.4086\n",
      "Epoch 79/200\n",
      "\u001b[1m2/2\u001b[0m \u001b[32m━━━━━━━━━━━━━━━━━━━━\u001b[0m\u001b[37m\u001b[0m \u001b[1m0s\u001b[0m 31ms/step - accuracy: 0.9694 - loss: 0.4312 - val_accuracy: 0.9814 - val_loss: 0.3932\n",
      "Epoch 80/200\n",
      "\u001b[1m2/2\u001b[0m \u001b[32m━━━━━━━━━━━━━━━━━━━━\u001b[0m\u001b[37m\u001b[0m \u001b[1m0s\u001b[0m 32ms/step - accuracy: 0.9706 - loss: 0.4186 - val_accuracy: 0.9725 - val_loss: 0.4059\n",
      "Epoch 81/200\n",
      "\u001b[1m2/2\u001b[0m \u001b[32m━━━━━━━━━━━━━━━━━━━━\u001b[0m\u001b[37m\u001b[0m \u001b[1m0s\u001b[0m 31ms/step - accuracy: 0.9688 - loss: 0.4376 - val_accuracy: 0.9725 - val_loss: 0.3943\n",
      "Epoch 82/200\n",
      "\u001b[1m2/2\u001b[0m \u001b[32m━━━━━━━━━━━━━━━━━━━━\u001b[0m\u001b[37m\u001b[0m \u001b[1m0s\u001b[0m 31ms/step - accuracy: 0.9681 - loss: 0.4173 - val_accuracy: 0.9814 - val_loss: 0.3828\n",
      "Epoch 83/200\n",
      "\u001b[1m2/2\u001b[0m \u001b[32m━━━━━━━━━━━━━━━━━━━━\u001b[0m\u001b[37m\u001b[0m \u001b[1m0s\u001b[0m 31ms/step - accuracy: 0.9760 - loss: 0.4782 - val_accuracy: 0.9888 - val_loss: 0.3772\n",
      "Epoch 84/200\n",
      "\u001b[1m2/2\u001b[0m \u001b[32m━━━━━━━━━━━━━━━━━━━━\u001b[0m\u001b[37m\u001b[0m \u001b[1m0s\u001b[0m 34ms/step - accuracy: 0.9674 - loss: 0.4274 - val_accuracy: 0.9814 - val_loss: 0.3762\n",
      "Epoch 85/200\n",
      "\u001b[1m2/2\u001b[0m \u001b[32m━━━━━━━━━━━━━━━━━━━━\u001b[0m\u001b[37m\u001b[0m \u001b[1m0s\u001b[0m 32ms/step - accuracy: 0.9693 - loss: 0.4204 - val_accuracy: 0.9814 - val_loss: 0.3837\n",
      "Epoch 86/200\n",
      "\u001b[1m2/2\u001b[0m \u001b[32m━━━━━━━━━━━━━━━━━━━━\u001b[0m\u001b[37m\u001b[0m \u001b[1m0s\u001b[0m 33ms/step - accuracy: 0.9681 - loss: 0.4266 - val_accuracy: 0.9725 - val_loss: 0.3856\n",
      "Epoch 87/200\n",
      "\u001b[1m2/2\u001b[0m \u001b[32m━━━━━━━━━━━━━━━━━━━━\u001b[0m\u001b[37m\u001b[0m \u001b[1m0s\u001b[0m 32ms/step - accuracy: 0.9669 - loss: 0.4136 - val_accuracy: 0.9814 - val_loss: 0.3674\n",
      "Epoch 88/200\n",
      "\u001b[1m2/2\u001b[0m \u001b[32m━━━━━━━━━━━━━━━━━━━━\u001b[0m\u001b[37m\u001b[0m \u001b[1m0s\u001b[0m 32ms/step - accuracy: 0.9597 - loss: 0.4306 - val_accuracy: 0.9888 - val_loss: 0.3633\n",
      "Epoch 89/200\n",
      "\u001b[1m2/2\u001b[0m \u001b[32m━━━━━━━━━━━━━━━━━━━━\u001b[0m\u001b[37m\u001b[0m \u001b[1m0s\u001b[0m 32ms/step - accuracy: 0.9579 - loss: 0.4614 - val_accuracy: 0.9814 - val_loss: 0.3742\n",
      "Epoch 90/200\n",
      "\u001b[1m2/2\u001b[0m \u001b[32m━━━━━━━━━━━━━━━━━━━━\u001b[0m\u001b[37m\u001b[0m \u001b[1m0s\u001b[0m 31ms/step - accuracy: 0.9748 - loss: 0.3934 - val_accuracy: 0.9799 - val_loss: 0.3931\n",
      "Epoch 91/200\n",
      "\u001b[1m2/2\u001b[0m \u001b[32m━━━━━━━━━━━━━━━━━━━━\u001b[0m\u001b[37m\u001b[0m \u001b[1m0s\u001b[0m 32ms/step - accuracy: 0.9671 - loss: 0.4188 - val_accuracy: 1.0000 - val_loss: 0.3607\n",
      "Epoch 92/200\n",
      "\u001b[1m2/2\u001b[0m \u001b[32m━━━━━━━━━━━━━━━━━━━━\u001b[0m\u001b[37m\u001b[0m \u001b[1m0s\u001b[0m 32ms/step - accuracy: 0.9574 - loss: 0.3935 - val_accuracy: 0.9926 - val_loss: 0.3561\n",
      "Epoch 93/200\n",
      "\u001b[1m2/2\u001b[0m \u001b[32m━━━━━━━━━━━━━━━━━━━━\u001b[0m\u001b[37m\u001b[0m \u001b[1m0s\u001b[0m 32ms/step - accuracy: 0.9633 - loss: 0.3985 - val_accuracy: 0.9814 - val_loss: 0.3604\n",
      "Epoch 94/200\n",
      "\u001b[1m2/2\u001b[0m \u001b[32m━━━━━━━━━━━━━━━━━━━━\u001b[0m\u001b[37m\u001b[0m \u001b[1m0s\u001b[0m 32ms/step - accuracy: 0.9627 - loss: 0.3890 - val_accuracy: 0.9814 - val_loss: 0.3560\n",
      "Epoch 95/200\n",
      "\u001b[1m2/2\u001b[0m \u001b[32m━━━━━━━━━━━━━━━━━━━━\u001b[0m\u001b[37m\u001b[0m \u001b[1m0s\u001b[0m 32ms/step - accuracy: 0.9536 - loss: 0.4526 - val_accuracy: 0.9926 - val_loss: 0.3503\n",
      "Epoch 96/200\n",
      "\u001b[1m2/2\u001b[0m \u001b[32m━━━━━━━━━━━━━━━━━━━━\u001b[0m\u001b[37m\u001b[0m \u001b[1m0s\u001b[0m 32ms/step - accuracy: 0.9766 - loss: 0.3865 - val_accuracy: 0.9568 - val_loss: 0.3714\n",
      "Epoch 97/200\n",
      "\u001b[1m2/2\u001b[0m \u001b[32m━━━━━━━━━━━━━━━━━━━━\u001b[0m\u001b[37m\u001b[0m \u001b[1m0s\u001b[0m 31ms/step - accuracy: 0.9579 - loss: 0.4058 - val_accuracy: 0.9814 - val_loss: 0.3528\n",
      "Epoch 98/200\n",
      "\u001b[1m2/2\u001b[0m \u001b[32m━━━━━━━━━━━━━━━━━━━━\u001b[0m\u001b[37m\u001b[0m \u001b[1m0s\u001b[0m 31ms/step - accuracy: 0.9623 - loss: 0.4280 - val_accuracy: 0.9695 - val_loss: 0.3663\n",
      "Epoch 99/200\n",
      "\u001b[1m2/2\u001b[0m \u001b[32m━━━━━━━━━━━━━━━━━━━━\u001b[0m\u001b[37m\u001b[0m \u001b[1m0s\u001b[0m 31ms/step - accuracy: 0.9724 - loss: 0.3797 - val_accuracy: 0.9814 - val_loss: 0.3493\n",
      "Epoch 100/200\n",
      "\u001b[1m2/2\u001b[0m \u001b[32m━━━━━━━━━━━━━━━━━━━━\u001b[0m\u001b[37m\u001b[0m \u001b[1m0s\u001b[0m 33ms/step - accuracy: 0.9681 - loss: 0.3803 - val_accuracy: 0.9814 - val_loss: 0.3504\n",
      "Epoch 101/200\n",
      "\u001b[1m2/2\u001b[0m \u001b[32m━━━━━━━━━━━━━━━━━━━━\u001b[0m\u001b[37m\u001b[0m \u001b[1m0s\u001b[0m 33ms/step - accuracy: 0.9724 - loss: 0.3796 - val_accuracy: 0.9814 - val_loss: 0.3456\n",
      "Epoch 102/200\n",
      "\u001b[1m2/2\u001b[0m \u001b[32m━━━━━━━━━━━━━━━━━━━━\u001b[0m\u001b[37m\u001b[0m \u001b[1m0s\u001b[0m 32ms/step - accuracy: 0.9735 - loss: 0.3826 - val_accuracy: 0.9814 - val_loss: 0.3383\n",
      "Epoch 103/200\n",
      "\u001b[1m2/2\u001b[0m \u001b[32m━━━━━━━━━━━━━━━━━━━━\u001b[0m\u001b[37m\u001b[0m \u001b[1m0s\u001b[0m 31ms/step - accuracy: 0.9742 - loss: 0.3925 - val_accuracy: 0.9814 - val_loss: 0.3448\n",
      "Epoch 104/200\n",
      "\u001b[1m2/2\u001b[0m \u001b[32m━━━━━━━━━━━━━━━━━━━━\u001b[0m\u001b[37m\u001b[0m \u001b[1m0s\u001b[0m 32ms/step - accuracy: 0.9615 - loss: 0.4381 - val_accuracy: 0.9814 - val_loss: 0.3467\n",
      "Epoch 105/200\n",
      "\u001b[1m2/2\u001b[0m \u001b[32m━━━━━━━━━━━━━━━━━━━━\u001b[0m\u001b[37m\u001b[0m \u001b[1m0s\u001b[0m 32ms/step - accuracy: 0.9742 - loss: 0.3661 - val_accuracy: 0.9926 - val_loss: 0.3310\n",
      "Epoch 106/200\n",
      "\u001b[1m2/2\u001b[0m \u001b[32m━━━━━━━━━━━━━━━━━━━━\u001b[0m\u001b[37m\u001b[0m \u001b[1m0s\u001b[0m 32ms/step - accuracy: 0.9837 - loss: 0.3727 - val_accuracy: 0.9814 - val_loss: 0.3310\n",
      "Epoch 107/200\n",
      "\u001b[1m2/2\u001b[0m \u001b[32m━━━━━━━━━━━━━━━━━━━━\u001b[0m\u001b[37m\u001b[0m \u001b[1m0s\u001b[0m 32ms/step - accuracy: 0.9821 - loss: 0.3524 - val_accuracy: 0.9888 - val_loss: 0.3378\n",
      "Epoch 108/200\n",
      "\u001b[1m2/2\u001b[0m \u001b[32m━━━━━━━━━━━━━━━━━━━━\u001b[0m\u001b[37m\u001b[0m \u001b[1m0s\u001b[0m 30ms/step - accuracy: 0.9609 - loss: 0.3832 - val_accuracy: 0.9896 - val_loss: 0.3250\n",
      "Epoch 109/200\n",
      "\u001b[1m2/2\u001b[0m \u001b[32m━━━━━━━━━━━━━━━━━━━━\u001b[0m\u001b[37m\u001b[0m \u001b[1m0s\u001b[0m 32ms/step - accuracy: 0.9747 - loss: 0.3591 - val_accuracy: 1.0000 - val_loss: 0.3254\n",
      "Epoch 110/200\n",
      "\u001b[1m2/2\u001b[0m \u001b[32m━━━━━━━━━━━━━━━━━━━━\u001b[0m\u001b[37m\u001b[0m \u001b[1m0s\u001b[0m 32ms/step - accuracy: 0.9735 - loss: 0.3554 - val_accuracy: 0.9695 - val_loss: 0.3312\n",
      "Epoch 111/200\n",
      "\u001b[1m2/2\u001b[0m \u001b[32m━━━━━━━━━━━━━━━━━━━━\u001b[0m\u001b[37m\u001b[0m \u001b[1m0s\u001b[0m 32ms/step - accuracy: 0.9676 - loss: 0.3563 - val_accuracy: 0.9888 - val_loss: 0.3329\n",
      "Epoch 112/200\n",
      "\u001b[1m2/2\u001b[0m \u001b[32m━━━━━━━━━━━━━━━━━━━━\u001b[0m\u001b[37m\u001b[0m \u001b[1m0s\u001b[0m 32ms/step - accuracy: 0.9638 - loss: 0.3646 - val_accuracy: 0.9926 - val_loss: 0.3200\n",
      "Epoch 113/200\n",
      "\u001b[1m2/2\u001b[0m \u001b[32m━━━━━━━━━━━━━━━━━━━━\u001b[0m\u001b[37m\u001b[0m \u001b[1m0s\u001b[0m 31ms/step - accuracy: 0.9753 - loss: 0.3628 - val_accuracy: 0.9926 - val_loss: 0.3182\n",
      "Epoch 114/200\n",
      "\u001b[1m2/2\u001b[0m \u001b[32m━━━━━━━━━━━━━━━━━━━━\u001b[0m\u001b[37m\u001b[0m \u001b[1m0s\u001b[0m 33ms/step - accuracy: 0.9653 - loss: 0.4242 - val_accuracy: 0.9725 - val_loss: 0.3275\n",
      "Epoch 115/200\n",
      "\u001b[1m2/2\u001b[0m \u001b[32m━━━━━━━━━━━━━━━━━━━━\u001b[0m\u001b[37m\u001b[0m \u001b[1m0s\u001b[0m 33ms/step - accuracy: 0.9693 - loss: 0.3511 - val_accuracy: 0.9814 - val_loss: 0.3195\n",
      "Epoch 116/200\n",
      "\u001b[1m2/2\u001b[0m \u001b[32m━━━━━━━━━━━━━━━━━━━━\u001b[0m\u001b[37m\u001b[0m \u001b[1m0s\u001b[0m 33ms/step - accuracy: 0.9717 - loss: 0.3616 - val_accuracy: 0.9814 - val_loss: 0.3168\n",
      "Epoch 117/200\n",
      "\u001b[1m2/2\u001b[0m \u001b[32m━━━━━━━━━━━━━━━━━━━━\u001b[0m\u001b[37m\u001b[0m \u001b[1m0s\u001b[0m 31ms/step - accuracy: 0.9620 - loss: 0.3675 - val_accuracy: 0.9814 - val_loss: 0.3165\n",
      "Epoch 118/200\n",
      "\u001b[1m2/2\u001b[0m \u001b[32m━━━━━━━━━━━━━━━━━━━━\u001b[0m\u001b[37m\u001b[0m \u001b[1m0s\u001b[0m 32ms/step - accuracy: 0.9814 - loss: 0.3298 - val_accuracy: 0.9814 - val_loss: 0.3137\n",
      "Epoch 119/200\n",
      "\u001b[1m2/2\u001b[0m \u001b[32m━━━━━━━━━━━━━━━━━━━━\u001b[0m\u001b[37m\u001b[0m \u001b[1m0s\u001b[0m 32ms/step - accuracy: 0.9783 - loss: 0.3323 - val_accuracy: 0.9814 - val_loss: 0.3183\n",
      "Epoch 120/200\n",
      "\u001b[1m2/2\u001b[0m \u001b[32m━━━━━━━━━━━━━━━━━━━━\u001b[0m\u001b[37m\u001b[0m \u001b[1m0s\u001b[0m 33ms/step - accuracy: 0.9747 - loss: 0.3474 - val_accuracy: 0.9814 - val_loss: 0.3046\n",
      "Epoch 121/200\n",
      "\u001b[1m2/2\u001b[0m \u001b[32m━━━━━━━━━━━━━━━━━━━━\u001b[0m\u001b[37m\u001b[0m \u001b[1m0s\u001b[0m 32ms/step - accuracy: 0.9753 - loss: 0.3304 - val_accuracy: 0.9888 - val_loss: 0.3032\n",
      "Epoch 122/200\n",
      "\u001b[1m2/2\u001b[0m \u001b[32m━━━━━━━━━━━━━━━━━━━━\u001b[0m\u001b[37m\u001b[0m \u001b[1m0s\u001b[0m 31ms/step - accuracy: 0.9873 - loss: 0.3192 - val_accuracy: 0.9814 - val_loss: 0.3063\n",
      "Epoch 123/200\n",
      "\u001b[1m2/2\u001b[0m \u001b[32m━━━━━━━━━━━━━━━━━━━━\u001b[0m\u001b[37m\u001b[0m \u001b[1m0s\u001b[0m 32ms/step - accuracy: 0.9771 - loss: 0.3390 - val_accuracy: 0.9814 - val_loss: 0.3070\n",
      "Epoch 124/200\n",
      "\u001b[1m2/2\u001b[0m \u001b[32m━━━━━━━━━━━━━━━━━━━━\u001b[0m\u001b[37m\u001b[0m \u001b[1m0s\u001b[0m 32ms/step - accuracy: 0.9725 - loss: 0.3309 - val_accuracy: 0.9725 - val_loss: 0.3161\n",
      "Epoch 125/200\n",
      "\u001b[1m2/2\u001b[0m \u001b[32m━━━━━━━━━━━━━━━━━━━━\u001b[0m\u001b[37m\u001b[0m \u001b[1m0s\u001b[0m 34ms/step - accuracy: 0.9645 - loss: 0.3881 - val_accuracy: 0.9888 - val_loss: 0.2988\n",
      "Epoch 126/200\n",
      "\u001b[1m2/2\u001b[0m \u001b[32m━━━━━━━━━━━━━━━━━━━━\u001b[0m\u001b[37m\u001b[0m \u001b[1m0s\u001b[0m 32ms/step - accuracy: 0.9638 - loss: 0.3539 - val_accuracy: 0.9814 - val_loss: 0.2951\n",
      "Epoch 127/200\n",
      "\u001b[1m2/2\u001b[0m \u001b[32m━━━━━━━━━━━━━━━━━━━━\u001b[0m\u001b[37m\u001b[0m \u001b[1m0s\u001b[0m 32ms/step - accuracy: 0.9724 - loss: 0.3239 - val_accuracy: 1.0000 - val_loss: 0.2860\n",
      "Epoch 128/200\n",
      "\u001b[1m2/2\u001b[0m \u001b[32m━━━━━━━━━━━━━━━━━━━━\u001b[0m\u001b[37m\u001b[0m \u001b[1m0s\u001b[0m 32ms/step - accuracy: 0.9714 - loss: 0.3177 - val_accuracy: 0.9926 - val_loss: 0.2927\n",
      "Epoch 129/200\n",
      "\u001b[1m2/2\u001b[0m \u001b[32m━━━━━━━━━━━━━━━━━━━━\u001b[0m\u001b[37m\u001b[0m \u001b[1m0s\u001b[0m 32ms/step - accuracy: 0.9783 - loss: 0.3501 - val_accuracy: 0.9926 - val_loss: 0.2865\n",
      "Epoch 130/200\n",
      "\u001b[1m2/2\u001b[0m \u001b[32m━━━━━━━━━━━━━━━━━━━━\u001b[0m\u001b[37m\u001b[0m \u001b[1m0s\u001b[0m 33ms/step - accuracy: 0.9693 - loss: 0.3814 - val_accuracy: 0.9926 - val_loss: 0.2854\n",
      "Epoch 131/200\n",
      "\u001b[1m2/2\u001b[0m \u001b[32m━━━━━━━━━━━━━━━━━━━━\u001b[0m\u001b[37m\u001b[0m \u001b[1m0s\u001b[0m 32ms/step - accuracy: 0.9783 - loss: 0.4131 - val_accuracy: 0.9814 - val_loss: 0.2895\n",
      "Epoch 132/200\n",
      "\u001b[1m2/2\u001b[0m \u001b[32m━━━━━━━━━━━━━━━━━━━━\u001b[0m\u001b[37m\u001b[0m \u001b[1m0s\u001b[0m 32ms/step - accuracy: 0.9674 - loss: 0.4311 - val_accuracy: 0.9814 - val_loss: 0.2983\n",
      "Epoch 133/200\n",
      "\u001b[1m2/2\u001b[0m \u001b[32m━━━━━━━━━━━━━━━━━━━━\u001b[0m\u001b[37m\u001b[0m \u001b[1m0s\u001b[0m 33ms/step - accuracy: 0.9586 - loss: 0.4211 - val_accuracy: 0.9926 - val_loss: 0.2846\n",
      "Epoch 134/200\n",
      "\u001b[1m2/2\u001b[0m \u001b[32m━━━━━━━━━━━━━━━━━━━━\u001b[0m\u001b[37m\u001b[0m \u001b[1m0s\u001b[0m 32ms/step - accuracy: 0.9597 - loss: 0.3607 - val_accuracy: 0.9725 - val_loss: 0.2947\n",
      "Epoch 135/200\n",
      "\u001b[1m2/2\u001b[0m \u001b[32m━━━━━━━━━━━━━━━━━━━━\u001b[0m\u001b[37m\u001b[0m \u001b[1m0s\u001b[0m 32ms/step - accuracy: 0.9699 - loss: 0.3436 - val_accuracy: 0.9814 - val_loss: 0.2813\n",
      "Epoch 136/200\n",
      "\u001b[1m2/2\u001b[0m \u001b[32m━━━━━━━━━━━━━━━━━━━━\u001b[0m\u001b[37m\u001b[0m \u001b[1m0s\u001b[0m 33ms/step - accuracy: 0.9735 - loss: 0.3168 - val_accuracy: 0.9814 - val_loss: 0.2867\n",
      "Epoch 137/200\n",
      "\u001b[1m2/2\u001b[0m \u001b[32m━━━━━━━━━━━━━━━━━━━━\u001b[0m\u001b[37m\u001b[0m \u001b[1m0s\u001b[0m 33ms/step - accuracy: 0.9808 - loss: 0.2992 - val_accuracy: 0.9888 - val_loss: 0.2841\n",
      "Epoch 138/200\n",
      "\u001b[1m2/2\u001b[0m \u001b[32m━━━━━━━━━━━━━━━━━━━━\u001b[0m\u001b[37m\u001b[0m \u001b[1m0s\u001b[0m 33ms/step - accuracy: 0.9783 - loss: 0.2981 - val_accuracy: 0.9807 - val_loss: 0.2858\n",
      "Epoch 139/200\n",
      "\u001b[1m2/2\u001b[0m \u001b[32m━━━━━━━━━━━━━━━━━━━━\u001b[0m\u001b[37m\u001b[0m \u001b[1m0s\u001b[0m 32ms/step - accuracy: 0.9669 - loss: 0.3360 - val_accuracy: 0.9926 - val_loss: 0.2753\n",
      "Epoch 140/200\n",
      "\u001b[1m2/2\u001b[0m \u001b[32m━━━━━━━━━━━━━━━━━━━━\u001b[0m\u001b[37m\u001b[0m \u001b[1m0s\u001b[0m 36ms/step - accuracy: 0.9699 - loss: 0.3055 - val_accuracy: 0.9814 - val_loss: 0.2784\n",
      "Epoch 141/200\n",
      "\u001b[1m2/2\u001b[0m \u001b[32m━━━━━━━━━━━━━━━━━━━━\u001b[0m\u001b[37m\u001b[0m \u001b[1m0s\u001b[0m 32ms/step - accuracy: 0.9699 - loss: 0.3587 - val_accuracy: 0.9814 - val_loss: 0.2736\n",
      "Epoch 142/200\n",
      "\u001b[1m2/2\u001b[0m \u001b[32m━━━━━━━━━━━━━━━━━━━━\u001b[0m\u001b[37m\u001b[0m \u001b[1m0s\u001b[0m 33ms/step - accuracy: 0.9844 - loss: 0.2995 - val_accuracy: 0.9926 - val_loss: 0.2734\n",
      "Epoch 143/200\n",
      "\u001b[1m2/2\u001b[0m \u001b[32m━━━━━━━━━━━━━━━━━━━━\u001b[0m\u001b[37m\u001b[0m \u001b[1m0s\u001b[0m 33ms/step - accuracy: 0.9789 - loss: 0.2934 - val_accuracy: 0.9814 - val_loss: 0.2782\n",
      "Epoch 144/200\n",
      "\u001b[1m2/2\u001b[0m \u001b[32m━━━━━━━━━━━━━━━━━━━━\u001b[0m\u001b[37m\u001b[0m \u001b[1m0s\u001b[0m 33ms/step - accuracy: 0.9735 - loss: 0.2970 - val_accuracy: 0.9814 - val_loss: 0.2746\n",
      "Epoch 145/200\n",
      "\u001b[1m2/2\u001b[0m \u001b[32m━━━━━━━━━━━━━━━━━━━━\u001b[0m\u001b[37m\u001b[0m \u001b[1m0s\u001b[0m 32ms/step - accuracy: 0.9778 - loss: 0.2959 - val_accuracy: 0.9807 - val_loss: 0.2748\n",
      "Epoch 146/200\n",
      "\u001b[1m2/2\u001b[0m \u001b[32m━━━━━━━━━━━━━━━━━━━━\u001b[0m\u001b[37m\u001b[0m \u001b[1m0s\u001b[0m 32ms/step - accuracy: 0.9693 - loss: 0.3061 - val_accuracy: 0.9814 - val_loss: 0.2674\n",
      "Epoch 147/200\n",
      "\u001b[1m2/2\u001b[0m \u001b[32m━━━━━━━━━━━━━━━━━━━━\u001b[0m\u001b[37m\u001b[0m \u001b[1m0s\u001b[0m 34ms/step - accuracy: 0.9681 - loss: 0.3354 - val_accuracy: 0.9926 - val_loss: 0.2657\n",
      "Epoch 148/200\n",
      "\u001b[1m2/2\u001b[0m \u001b[32m━━━━━━━━━━━━━━━━━━━━\u001b[0m\u001b[37m\u001b[0m \u001b[1m0s\u001b[0m 31ms/step - accuracy: 0.9855 - loss: 0.2842 - val_accuracy: 0.9814 - val_loss: 0.2670\n",
      "Epoch 149/200\n",
      "\u001b[1m2/2\u001b[0m \u001b[32m━━━━━━━━━━━━━━━━━━━━\u001b[0m\u001b[37m\u001b[0m \u001b[1m0s\u001b[0m 34ms/step - accuracy: 0.9839 - loss: 0.2895 - val_accuracy: 0.9926 - val_loss: 0.2636\n",
      "Epoch 150/200\n",
      "\u001b[1m2/2\u001b[0m \u001b[32m━━━━━━━━━━━━━━━━━━━━\u001b[0m\u001b[37m\u001b[0m \u001b[1m0s\u001b[0m 32ms/step - accuracy: 0.9748 - loss: 0.2889 - val_accuracy: 0.9821 - val_loss: 0.2639\n",
      "Epoch 151/200\n",
      "\u001b[1m2/2\u001b[0m \u001b[32m━━━━━━━━━━━━━━━━━━━━\u001b[0m\u001b[37m\u001b[0m \u001b[1m0s\u001b[0m 31ms/step - accuracy: 0.9674 - loss: 0.3158 - val_accuracy: 0.9926 - val_loss: 0.2571\n",
      "Epoch 152/200\n",
      "\u001b[1m2/2\u001b[0m \u001b[32m━━━━━━━━━━━━━━━━━━━━\u001b[0m\u001b[37m\u001b[0m \u001b[1m0s\u001b[0m 33ms/step - accuracy: 0.9742 - loss: 0.3180 - val_accuracy: 0.9911 - val_loss: 0.2614\n",
      "Epoch 153/200\n",
      "\u001b[1m2/2\u001b[0m \u001b[32m━━━━━━━━━━━━━━━━━━━━\u001b[0m\u001b[37m\u001b[0m \u001b[1m0s\u001b[0m 33ms/step - accuracy: 0.9742 - loss: 0.2871 - val_accuracy: 0.9896 - val_loss: 0.2545\n",
      "Epoch 154/200\n",
      "\u001b[1m2/2\u001b[0m \u001b[32m━━━━━━━━━━━━━━━━━━━━\u001b[0m\u001b[37m\u001b[0m \u001b[1m0s\u001b[0m 31ms/step - accuracy: 0.9771 - loss: 0.3202 - val_accuracy: 0.9814 - val_loss: 0.2524\n",
      "Epoch 155/200\n",
      "\u001b[1m2/2\u001b[0m \u001b[32m━━━━━━━━━━━━━━━━━━━━\u001b[0m\u001b[37m\u001b[0m \u001b[1m0s\u001b[0m 32ms/step - accuracy: 0.9844 - loss: 0.2705 - val_accuracy: 0.9888 - val_loss: 0.2536\n",
      "Epoch 156/200\n",
      "\u001b[1m2/2\u001b[0m \u001b[32m━━━━━━━━━━━━━━━━━━━━\u001b[0m\u001b[37m\u001b[0m \u001b[1m0s\u001b[0m 33ms/step - accuracy: 0.9801 - loss: 0.2697 - val_accuracy: 1.0000 - val_loss: 0.2464\n",
      "Epoch 157/200\n",
      "\u001b[1m2/2\u001b[0m \u001b[32m━━━━━━━━━━━━━━━━━━━━\u001b[0m\u001b[37m\u001b[0m \u001b[1m0s\u001b[0m 32ms/step - accuracy: 0.9819 - loss: 0.2769 - val_accuracy: 1.0000 - val_loss: 0.2448\n",
      "Epoch 158/200\n",
      "\u001b[1m2/2\u001b[0m \u001b[32m━━━━━━━━━━━━━━━━━━━━\u001b[0m\u001b[37m\u001b[0m \u001b[1m0s\u001b[0m 33ms/step - accuracy: 0.9910 - loss: 0.2610 - val_accuracy: 0.9814 - val_loss: 0.2615\n",
      "Epoch 159/200\n",
      "\u001b[1m2/2\u001b[0m \u001b[32m━━━━━━━━━━━━━━━━━━━━\u001b[0m\u001b[37m\u001b[0m \u001b[1m0s\u001b[0m 32ms/step - accuracy: 0.9694 - loss: 0.2823 - val_accuracy: 0.9926 - val_loss: 0.2449\n",
      "Epoch 160/200\n",
      "\u001b[1m2/2\u001b[0m \u001b[32m━━━━━━━━━━━━━━━━━━━━\u001b[0m\u001b[37m\u001b[0m \u001b[1m0s\u001b[0m 33ms/step - accuracy: 0.9837 - loss: 0.2638 - val_accuracy: 0.9814 - val_loss: 0.2417\n",
      "Epoch 161/200\n",
      "\u001b[1m2/2\u001b[0m \u001b[32m━━━━━━━━━━━━━━━━━━━━\u001b[0m\u001b[37m\u001b[0m \u001b[1m0s\u001b[0m 33ms/step - accuracy: 0.9862 - loss: 0.2550 - val_accuracy: 0.9814 - val_loss: 0.2566\n",
      "Epoch 162/200\n",
      "\u001b[1m2/2\u001b[0m \u001b[32m━━━━━━━━━━━━━━━━━━━━\u001b[0m\u001b[37m\u001b[0m \u001b[1m0s\u001b[0m 33ms/step - accuracy: 0.9694 - loss: 0.2914 - val_accuracy: 0.9695 - val_loss: 0.2710\n",
      "Epoch 163/200\n",
      "\u001b[1m2/2\u001b[0m \u001b[32m━━━━━━━━━━━━━━━━━━━━\u001b[0m\u001b[37m\u001b[0m \u001b[1m0s\u001b[0m 34ms/step - accuracy: 0.9656 - loss: 0.3000 - val_accuracy: 0.9814 - val_loss: 0.2397\n",
      "Epoch 164/200\n",
      "\u001b[1m2/2\u001b[0m \u001b[32m━━━━━━━━━━━━━━━━━━━━\u001b[0m\u001b[37m\u001b[0m \u001b[1m0s\u001b[0m 33ms/step - accuracy: 0.9789 - loss: 0.2966 - val_accuracy: 0.9725 - val_loss: 0.2571\n",
      "Epoch 165/200\n",
      "\u001b[1m2/2\u001b[0m \u001b[32m━━━━━━━━━━━━━━━━━━━━\u001b[0m\u001b[37m\u001b[0m \u001b[1m0s\u001b[0m 31ms/step - accuracy: 0.9434 - loss: 0.4742 - val_accuracy: 0.9926 - val_loss: 0.2396\n",
      "Epoch 166/200\n",
      "\u001b[1m2/2\u001b[0m \u001b[32m━━━━━━━━━━━━━━━━━━━━\u001b[0m\u001b[37m\u001b[0m \u001b[1m0s\u001b[0m 33ms/step - accuracy: 0.9765 - loss: 0.2899 - val_accuracy: 0.9814 - val_loss: 0.2401\n",
      "Epoch 167/200\n",
      "\u001b[1m2/2\u001b[0m \u001b[32m━━━━━━━━━━━━━━━━━━━━\u001b[0m\u001b[37m\u001b[0m \u001b[1m0s\u001b[0m 33ms/step - accuracy: 0.9783 - loss: 0.2777 - val_accuracy: 0.9814 - val_loss: 0.2350\n",
      "Epoch 168/200\n",
      "\u001b[1m2/2\u001b[0m \u001b[32m━━━━━━━━━━━━━━━━━━━━\u001b[0m\u001b[37m\u001b[0m \u001b[1m0s\u001b[0m 34ms/step - accuracy: 0.9898 - loss: 0.2436 - val_accuracy: 0.9896 - val_loss: 0.2381\n",
      "Epoch 169/200\n",
      "\u001b[1m2/2\u001b[0m \u001b[32m━━━━━━━━━━━━━━━━━━━━\u001b[0m\u001b[37m\u001b[0m \u001b[1m0s\u001b[0m 33ms/step - accuracy: 0.9789 - loss: 0.2656 - val_accuracy: 0.9926 - val_loss: 0.2280\n",
      "Epoch 170/200\n",
      "\u001b[1m2/2\u001b[0m \u001b[32m━━━━━━━━━━━━━━━━━━━━\u001b[0m\u001b[37m\u001b[0m \u001b[1m0s\u001b[0m 313ms/step - accuracy: 0.9809 - loss: 0.2480 - val_accuracy: 0.9784 - val_loss: 0.2307\n",
      "Epoch 171/200\n",
      "\u001b[1m2/2\u001b[0m \u001b[32m━━━━━━━━━━━━━━━━━━━━\u001b[0m\u001b[37m\u001b[0m \u001b[1m0s\u001b[0m 66ms/step - accuracy: 0.9796 - loss: 0.2590 - val_accuracy: 0.9814 - val_loss: 0.2410\n",
      "Epoch 172/200\n",
      "\u001b[1m2/2\u001b[0m \u001b[32m━━━━━━━━━━━━━━━━━━━━\u001b[0m\u001b[37m\u001b[0m \u001b[1m0s\u001b[0m 37ms/step - accuracy: 0.9753 - loss: 0.2994 - val_accuracy: 0.9888 - val_loss: 0.2293\n",
      "Epoch 173/200\n",
      "\u001b[1m2/2\u001b[0m \u001b[32m━━━━━━━━━━━━━━━━━━━━\u001b[0m\u001b[37m\u001b[0m \u001b[1m0s\u001b[0m 34ms/step - accuracy: 0.9809 - loss: 0.2451 - val_accuracy: 1.0000 - val_loss: 0.2271\n",
      "Epoch 174/200\n",
      "\u001b[1m2/2\u001b[0m \u001b[32m━━━━━━━━━━━━━━━━━━━━\u001b[0m\u001b[37m\u001b[0m \u001b[1m0s\u001b[0m 34ms/step - accuracy: 0.9855 - loss: 0.2399 - val_accuracy: 0.9926 - val_loss: 0.2258\n",
      "Epoch 175/200\n",
      "\u001b[1m2/2\u001b[0m \u001b[32m━━━━━━━━━━━━━━━━━━━━\u001b[0m\u001b[37m\u001b[0m \u001b[1m0s\u001b[0m 35ms/step - accuracy: 0.9784 - loss: 0.2918 - val_accuracy: 0.9807 - val_loss: 0.2523\n",
      "Epoch 176/200\n",
      "\u001b[1m2/2\u001b[0m \u001b[32m━━━━━━━━━━━━━━━━━━━━\u001b[0m\u001b[37m\u001b[0m \u001b[1m0s\u001b[0m 32ms/step - accuracy: 0.9694 - loss: 0.2793 - val_accuracy: 0.9784 - val_loss: 0.2262\n",
      "Epoch 177/200\n",
      "\u001b[1m2/2\u001b[0m \u001b[32m━━━━━━━━━━━━━━━━━━━━\u001b[0m\u001b[37m\u001b[0m \u001b[1m0s\u001b[0m 31ms/step - accuracy: 0.9826 - loss: 0.2430 - val_accuracy: 0.9926 - val_loss: 0.2225\n",
      "Epoch 178/200\n",
      "\u001b[1m2/2\u001b[0m \u001b[32m━━━━━━━━━━━━━━━━━━━━\u001b[0m\u001b[37m\u001b[0m \u001b[1m0s\u001b[0m 33ms/step - accuracy: 0.9826 - loss: 0.2514 - val_accuracy: 0.9926 - val_loss: 0.2197\n",
      "Epoch 179/200\n",
      "\u001b[1m2/2\u001b[0m \u001b[32m━━━━━━━━━━━━━━━━━━━━\u001b[0m\u001b[37m\u001b[0m \u001b[1m0s\u001b[0m 34ms/step - accuracy: 0.9808 - loss: 0.2438 - val_accuracy: 0.9688 - val_loss: 0.2591\n",
      "Epoch 180/200\n",
      "\u001b[1m2/2\u001b[0m \u001b[32m━━━━━━━━━━━━━━━━━━━━\u001b[0m\u001b[37m\u001b[0m \u001b[1m0s\u001b[0m 35ms/step - accuracy: 0.9737 - loss: 0.2648 - val_accuracy: 0.9896 - val_loss: 0.2229\n",
      "Epoch 181/200\n",
      "\u001b[1m2/2\u001b[0m \u001b[32m━━━━━━━━━━━━━━━━━━━━\u001b[0m\u001b[37m\u001b[0m \u001b[1m0s\u001b[0m 33ms/step - accuracy: 0.9735 - loss: 0.2665 - val_accuracy: 1.0000 - val_loss: 0.2161\n",
      "Epoch 182/200\n",
      "\u001b[1m2/2\u001b[0m \u001b[32m━━━━━━━━━━━━━━━━━━━━\u001b[0m\u001b[37m\u001b[0m \u001b[1m0s\u001b[0m 34ms/step - accuracy: 0.9784 - loss: 0.2660 - val_accuracy: 0.9807 - val_loss: 0.2229\n",
      "Epoch 183/200\n",
      "\u001b[1m2/2\u001b[0m \u001b[32m━━━━━━━━━━━━━━━━━━━━\u001b[0m\u001b[37m\u001b[0m \u001b[1m0s\u001b[0m 31ms/step - accuracy: 0.9819 - loss: 0.2725 - val_accuracy: 0.9888 - val_loss: 0.2160\n",
      "Epoch 184/200\n",
      "\u001b[1m2/2\u001b[0m \u001b[32m━━━━━━━━━━━━━━━━━━━━\u001b[0m\u001b[37m\u001b[0m \u001b[1m0s\u001b[0m 33ms/step - accuracy: 0.9855 - loss: 0.2359 - val_accuracy: 0.9814 - val_loss: 0.2133\n",
      "Epoch 185/200\n",
      "\u001b[1m2/2\u001b[0m \u001b[32m━━━━━━━━━━━━━━━━━━━━\u001b[0m\u001b[37m\u001b[0m \u001b[1m0s\u001b[0m 32ms/step - accuracy: 0.9826 - loss: 0.2308 - val_accuracy: 0.9814 - val_loss: 0.2148\n",
      "Epoch 186/200\n",
      "\u001b[1m2/2\u001b[0m \u001b[32m━━━━━━━━━━━━━━━━━━━━\u001b[0m\u001b[37m\u001b[0m \u001b[1m0s\u001b[0m 34ms/step - accuracy: 0.9760 - loss: 0.2380 - val_accuracy: 0.9814 - val_loss: 0.2184\n",
      "Epoch 187/200\n",
      "\u001b[1m2/2\u001b[0m \u001b[32m━━━━━━━━━━━━━━━━━━━━\u001b[0m\u001b[37m\u001b[0m \u001b[1m0s\u001b[0m 34ms/step - accuracy: 0.9837 - loss: 0.2347 - val_accuracy: 0.9814 - val_loss: 0.2151\n",
      "Epoch 188/200\n",
      "\u001b[1m2/2\u001b[0m \u001b[32m━━━━━━━━━━━━━━━━━━━━\u001b[0m\u001b[37m\u001b[0m \u001b[1m0s\u001b[0m 32ms/step - accuracy: 0.9821 - loss: 0.2291 - val_accuracy: 0.9710 - val_loss: 0.2400\n",
      "Epoch 189/200\n",
      "\u001b[1m2/2\u001b[0m \u001b[32m━━━━━━━━━━━━━━━━━━━━\u001b[0m\u001b[37m\u001b[0m \u001b[1m0s\u001b[0m 33ms/step - accuracy: 0.9645 - loss: 0.3285 - val_accuracy: 0.9888 - val_loss: 0.2105\n",
      "Epoch 190/200\n",
      "\u001b[1m2/2\u001b[0m \u001b[32m━━━━━━━━━━━━━━━━━━━━\u001b[0m\u001b[37m\u001b[0m \u001b[1m0s\u001b[0m 32ms/step - accuracy: 0.9808 - loss: 0.2360 - val_accuracy: 1.0000 - val_loss: 0.2059\n",
      "Epoch 191/200\n",
      "\u001b[1m2/2\u001b[0m \u001b[32m━━━━━━━━━━━━━━━━━━━━\u001b[0m\u001b[37m\u001b[0m \u001b[1m0s\u001b[0m 32ms/step - accuracy: 0.9850 - loss: 0.2239 - val_accuracy: 0.9762 - val_loss: 0.2211\n",
      "Epoch 192/200\n",
      "\u001b[1m2/2\u001b[0m \u001b[32m━━━━━━━━━━━━━━━━━━━━\u001b[0m\u001b[37m\u001b[0m \u001b[1m0s\u001b[0m 33ms/step - accuracy: 0.9711 - loss: 0.2632 - val_accuracy: 1.0000 - val_loss: 0.2049\n",
      "Epoch 193/200\n",
      "\u001b[1m2/2\u001b[0m \u001b[32m━━━━━━━━━━━━━━━━━━━━\u001b[0m\u001b[37m\u001b[0m \u001b[1m0s\u001b[0m 33ms/step - accuracy: 0.9862 - loss: 0.2303 - val_accuracy: 0.9784 - val_loss: 0.2075\n",
      "Epoch 194/200\n",
      "\u001b[1m2/2\u001b[0m \u001b[32m━━━━━━━━━━━━━━━━━━━━\u001b[0m\u001b[37m\u001b[0m \u001b[1m0s\u001b[0m 32ms/step - accuracy: 0.9688 - loss: 0.2473 - val_accuracy: 0.9888 - val_loss: 0.2134\n",
      "Epoch 195/200\n",
      "\u001b[1m2/2\u001b[0m \u001b[32m━━━━━━━━━━━━━━━━━━━━\u001b[0m\u001b[37m\u001b[0m \u001b[1m0s\u001b[0m 32ms/step - accuracy: 0.9808 - loss: 0.2385 - val_accuracy: 0.9814 - val_loss: 0.2098\n",
      "Epoch 196/200\n",
      "\u001b[1m2/2\u001b[0m \u001b[32m━━━━━━━━━━━━━━━━━━━━\u001b[0m\u001b[37m\u001b[0m \u001b[1m0s\u001b[0m 33ms/step - accuracy: 0.9693 - loss: 0.2583 - val_accuracy: 0.9926 - val_loss: 0.2031\n",
      "Epoch 197/200\n",
      "\u001b[1m2/2\u001b[0m \u001b[32m━━━━━━━━━━━━━━━━━━━━\u001b[0m\u001b[37m\u001b[0m \u001b[1m0s\u001b[0m 32ms/step - accuracy: 0.9837 - loss: 0.2137 - val_accuracy: 0.9814 - val_loss: 0.2000\n",
      "Epoch 198/200\n",
      "\u001b[1m2/2\u001b[0m \u001b[32m━━━━━━━━━━━━━━━━━━━━\u001b[0m\u001b[37m\u001b[0m \u001b[1m0s\u001b[0m 32ms/step - accuracy: 0.9832 - loss: 0.2280 - val_accuracy: 0.9888 - val_loss: 0.2000\n",
      "Epoch 199/200\n",
      "\u001b[1m2/2\u001b[0m \u001b[32m━━━━━━━━━━━━━━━━━━━━\u001b[0m\u001b[37m\u001b[0m \u001b[1m0s\u001b[0m 34ms/step - accuracy: 0.9886 - loss: 0.2154 - val_accuracy: 0.9888 - val_loss: 0.2036\n",
      "Epoch 200/200\n",
      "\u001b[1m2/2\u001b[0m \u001b[32m━━━━━━━━━━━━━━━━━━━━\u001b[0m\u001b[37m\u001b[0m \u001b[1m0s\u001b[0m 34ms/step - accuracy: 0.9735 - loss: 0.2675 - val_accuracy: 0.9814 - val_loss: 0.2027\n"
     ]
    }
   ],
   "source": [
    "history = model.fit(train_padded,\n",
    "    y_train,\n",
    "    epochs=200,\n",
    "    batch_size=512,\n",
    "    validation_split=0.7)"
   ]
  },
  {
   "cell_type": "code",
   "execution_count": 1365,
   "id": "b547001f-a17d-46be-8c8a-092f5ab12182",
   "metadata": {},
   "outputs": [],
   "source": [
    "#!pip install matplotlib"
   ]
  },
  {
   "cell_type": "code",
   "execution_count": 1366,
   "id": "c7aa4221-41a7-4cfb-bbd5-a5deb0aa2589",
   "metadata": {},
   "outputs": [],
   "source": [
    "import matplotlib.pyplot as plt"
   ]
  },
  {
   "cell_type": "code",
   "execution_count": 1367,
   "id": "a30f4513-07c6-4b19-a616-5aa4b61a8324",
   "metadata": {},
   "outputs": [
    {
     "data": {
      "image/png": "[encoded data removed]",
      "text/plain": [
       "<Figure size 640x480 with 1 Axes>"
      ]
     },
     "metadata": {},
     "output_type": "display_data"
    }
   ],
   "source": [
    "#plotting the training and validation loss\n",
    "loss = history.history[\"loss\"]\n",
    "val_loss = history.history[\"val_loss\"]\n",
    "epochs = range(1, len(loss) + 1)\n",
    "plt.plot(epochs, loss, \"bo\", label=\"Training loss\")\n",
    "plt.plot(epochs, val_loss, \"b\", label=\"Validation loss\")\n",
    "plt.title(\"Training and validation loss\")\n",
    "plt.xlabel(\"Epochs\")\n",
    "plt.ylabel(\"Loss\")\n",
    "plt.legend()\n",
    "plt.show()"
   ]
  },
  {
   "cell_type": "code",
   "execution_count": 1368,
   "id": "77ee161d-3b8e-4cf4-affc-3968869a1e5c",
   "metadata": {
    "scrolled": true
   },
   "outputs": [
    {
     "data": {
      "text/plain": [
       "dict_keys(['loss', 'sparse_categorical_accuracy', 'val_loss', 'val_sparse_categorical_accuracy'])"
      ]
     },
     "execution_count": 1368,
     "metadata": {},
     "output_type": "execute_result"
    }
   ],
   "source": [
    "history.history.keys()"
   ]
  },
  {
   "cell_type": "code",
   "execution_count": 1369,
   "id": "4115eead-7120-4509-884f-2d00629d610a",
   "metadata": {},
   "outputs": [],
   "source": [
    "train_metric = 'sparse_categorical_accuracy'\n",
    "val_metric = 'val_sparse_categorical_accuracy'"
   ]
  },
  {
   "cell_type": "code",
   "execution_count": 1370,
   "id": "2d2d6edd-a54b-4b33-8565-a029cd6ac5e4",
   "metadata": {},
   "outputs": [
    {
     "data": {
      "image/png": "[encoded data removed]",
      "text/plain": [
       "<Figure size 640x480 with 1 Axes>"
      ]
     },
     "metadata": {},
     "output_type": "display_data"
    }
   ],
   "source": [
    "#plotting the training and validation accuracy\n",
    "plt.clf()\n",
    "acc = history.history[train_metric]\n",
    "val_acc = history.history[val_metric]\n",
    "plt.plot(epochs, acc, \"bo\", label=\"Training accuracy\")\n",
    "plt.plot(epochs, val_acc, \"b\", label=\"Validation accuracy\")\n",
    "plt.title(\"Training and validation accuracy\")\n",
    "plt.xlabel(\"Epochs\")\n",
    "plt.ylabel(\"Accuracy\")\n",
    "plt.legend()\n",
    "plt.show()"
   ]
  },
  {
   "cell_type": "code",
   "execution_count": 1371,
   "id": "7c018371-4b16-49eb-a153-701a8761c0cc",
   "metadata": {},
   "outputs": [
    {
     "name": "stdout",
     "output_type": "stream",
     "text": [
      "\u001b[1m1/1\u001b[0m \u001b[32m━━━━━━━━━━━━━━━━━━━━\u001b[0m\u001b[37m\u001b[0m \u001b[1m0s\u001b[0m 17ms/step - loss: 26.3931 - sparse_categorical_accuracy: 0.2917\n"
     ]
    },
    {
     "data": {
      "text/plain": [
       "[26.393089294433594, 0.2916666567325592]"
      ]
     },
     "execution_count": 1371,
     "metadata": {},
     "output_type": "execute_result"
    }
   ],
   "source": [
    "model.evaluate(test_padded, y_test)"
   ]
  },
  {
   "cell_type": "code",
   "execution_count": 1372,
   "id": "ba39bb7f-077a-4f7b-9b3f-4daa79ef67bb",
   "metadata": {},
   "outputs": [
    {
     "data": {
      "text/plain": [
       "array([12,  0,  7,  3, 12, 14, 12,  1,  6,  7, 10,  2,  2,  7, 12,  2,  7,\n",
       "        6,  5,  6,  9, 14,  9,  6])"
      ]
     },
     "execution_count": 1372,
     "metadata": {},
     "output_type": "execute_result"
    }
   ],
   "source": [
    "y_test"
   ]
  },
  {
   "cell_type": "code",
   "execution_count": 1373,
   "id": "518f9bae-6b76-478c-9745-3450b1159990",
   "metadata": {},
   "outputs": [
    {
     "name": "stdout",
     "output_type": "stream",
     "text": [
      "WARNING:tensorflow:5 out of the last 8 calls to <function TensorFlowTrainer.make_predict_function.<locals>.one_step_on_data_distributed at 0x3c7ec65c0> triggered tf.function retracing. Tracing is expensive and the excessive number of tracings could be due to (1) creating @tf.function repeatedly in a loop, (2) passing tensors with different shapes, (3) passing Python objects instead of tensors. For (1), please define your @tf.function outside of the loop. For (2), @tf.function has reduce_retracing=True option that can avoid unnecessary retracing. For (3), please refer to https://www.tensorflow.org/guide/function#controlling_retracing and https://www.tensorflow.org/api_docs/python/tf/function for  more details.\n",
      "\u001b[1m1/1\u001b[0m \u001b[32m━━━━━━━━━━━━━━━━━━━━\u001b[0m\u001b[37m\u001b[0m \u001b[1m0s\u001b[0m 31ms/step\n"
     ]
    }
   ],
   "source": [
    "predictions = model.predict(test_padded)"
   ]
  },
  {
   "cell_type": "code",
   "execution_count": 1374,
   "id": "4d9d91c4-d085-4b17-bfc9-2055ed0a1a16",
   "metadata": {},
   "outputs": [],
   "source": [
    "pred_list = []\n",
    "for p in predictions:\n",
    "   pred_list.append(p.argmax())"
   ]
  },
  {
   "cell_type": "code",
   "execution_count": 1375,
   "id": "079e4a81-098c-464c-90c8-9b15ae15cef1",
   "metadata": {},
   "outputs": [],
   "source": [
    "from sklearn.metrics import f1_score"
   ]
  },
  {
   "cell_type": "code",
   "execution_count": 1381,
   "id": "596ac104-8f40-4417-a0a7-1f85c83dfe63",
   "metadata": {},
   "outputs": [
    {
     "data": {
      "text/plain": [
       "0.2916666666666667"
      ]
     },
     "execution_count": 1381,
     "metadata": {},
     "output_type": "execute_result"
    }
   ],
   "source": [
    "f1_score(y_test, pred_list, average='micro')"
   ]
  },
  {
   "cell_type": "code",
   "execution_count": 1377,
   "id": "753df257-68a6-4b37-80d1-d8db636ab49a",
   "metadata": {},
   "outputs": [],
   "source": [
    "qa_df = pd.DataFrame({\"text\":X_test.content.to_numpy(), \n",
    "              \"true_value\":le.inverse_transform(y_test), \n",
    "              \"predicted_value\": le.inverse_transform(pred_list)})"
   ]
  },
  {
   "cell_type": "code",
   "execution_count": 1378,
   "id": "6620af8c-2e8a-424e-a14f-3632fa9bbcd5",
   "metadata": {},
   "outputs": [
    {
     "name": "stdout",
     "output_type": "stream",
     "text": [
      "Informative and a user friendly interface! Easy to navigate!\n",
      "True value: usability/user interface\n",
      "Predicted value: usability/user interface\n",
      "***********************\n",
      "Edit: About their reply, I contacted them and was told they can't do anything. This is the worst option you could choose, I would recommend staying away from it unless you want to lose money and get stressed. The recommended way, \"Instant Deposit\", locks your account for external transfers for 7 BUSINESS days, with no warning at all. I used it, bought coins, tried to transfer them and found out I'm locked. If I want to sell the coins or swap to another, it'll eat 12%, so its not worth it.\n",
      "True value: account management\n",
      "Predicted value: withdrawal process\n",
      "***********************\n",
      "Can't use my debit card anymore. To buy for no reason.\n",
      "True value: deposit process\n",
      "Predicted value: reliability/stability\n",
      "***********************\n",
      "I give three stars, can't find my Way around the app. I can't even cash out my money.😤\n",
      "True value: usability/user interface\n",
      "Predicted value: usability/user interface\n",
      "***********************\n",
      "Please Let me know this company or app is a scamer . I trying to withdrawal and transfer my money to my bank account .I can't. My bank is connected with there bank but it is rejected.\n",
      "True value: withdrawal process\n",
      "Predicted value: usability/user interface\n",
      "***********************\n",
      "I Love It... I Recommend It To Anyone...\n",
      "True value: generic feedback\n",
      "Predicted value: usability/user interface\n",
      "***********************\n",
      "Scam company. They allowed scammers to take $18,000 from me through their app and wouldn't help me fix it. They just washed their hands of the responsibility. They've had 2 years to fix this and they've done nothing. I'd avoid at all cost.\n",
      "True value: security\n",
      "Predicted value: usability/user interface\n",
      "***********************\n",
      "Every time I try to open the app it says I install from Google play. It's already installed, so frustrating to not be able to access my account and the chat bot is useless. Any way to speak to a real man or woman?\n",
      "True value: customer support\n",
      "Predicted value: usability/user interface\n",
      "***********************\n",
      "Customer support is top notch, simple, easy to use interface. Nice work.\n",
      "True value: customer support\n",
      "Predicted value: fees/pricing\n",
      "***********************\n",
      "Horrible UX and UI, crazy how a company worth 1B+ cannot afford to hire 1 good designer, 1 good product guy, and 2 good developers to clean it up.\n",
      "True value: usability/user interface\n",
      "Predicted value: verification/kyc\n",
      "***********************\n",
      "Well I put btc in not much just because I was gonna try it out didn't like it sent my btc out again. I was dumb and did look before hand but they charge me $40 of the $200 i sent out. Which is 0.0004 in btc that's crazy. Maybe I don't k ow the standard but that seems really high.\n",
      "True value: fees/pricing\n",
      "Predicted value: fees/pricing\n",
      "***********************\n",
      "Crypto is great source of live market to see your investment in bitcoin please continue to update to see live market\n",
      "True value: features/functionality\n",
      "Predicted value: deposit process\n",
      "***********************\n",
      "Spreads are huge. Commissions are massive. DO NOT TREADE CRYPTO WITH THESE SCAMMERS!\n",
      "True value: fees/pricing\n",
      "Predicted value: reliability/stability\n",
      "***********************\n",
      "You have to download the new app version every week, like a 100mB or you cant use the app. What is going on guys? Do you know what you're doing?\n",
      "True value: reliability/stability\n",
      "Predicted value: educational resources\n",
      "***********************\n",
      "better than binance for the most part. you can actually cash out here\n",
      "True value: withdrawal process\n",
      "Predicted value: withdrawal process\n",
      "***********************\n",
      "secure and reliable\n",
      "True value: reliability/stability\n",
      "Predicted value: usability/user interface\n",
      "***********************\n",
      "Horrible fees. Make you wait 7 days to withdraw your money. Much better platforms and wallets than this. Would give zero stars if I could\n",
      "True value: fees/pricing\n",
      "Predicted value: verification/kyc\n",
      "***********************\n"
     ]
    }
   ],
   "source": [
    "for row in qa_df.to_dict(orient=\"records\"):\n",
    "    if row[\"predicted_value\"]!= \"generic feedback\":\n",
    "        print(row[\"text\"])\n",
    "        print(\"True value:\",row[\"true_value\"])\n",
    "        print(\"Predicted value:\", row[\"predicted_value\"])\n",
    "        print(\"***********************\")"
   ]
  },
  {
   "cell_type": "code",
   "execution_count": null,
   "id": "d05315b1-3d54-4652-92f4-fce7958ceda5",
   "metadata": {},
   "outputs": [],
   "source": []
  }
 ],
 "metadata": {
  "kernelspec": {
   "display_name": "deepl",
   "language": "python",
   "name": "deepl"
  },
  "language_info": {
   "codemirror_mode": {
    "name": "ipython",
    "version": 3
   },
   "file_extension": ".py",
   "mimetype": "text/x-python",
   "name": "python",
   "nbconvert_exporter": "python",
   "pygments_lexer": "ipython3",
   "version": "3.12.8"
  }
 },
 "nbformat": 4,
 "nbformat_minor": 5
}
