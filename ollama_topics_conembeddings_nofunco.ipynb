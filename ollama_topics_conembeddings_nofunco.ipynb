{
 "cells": [
  {
   "cell_type": "code",
   "execution_count": 222,
   "id": "b65c9dd3-0765-43b0-b8f9-cb019c296910",
   "metadata": {},
   "outputs": [],
   "source": [
    "from tensorflow.keras.datasets import reuters\n",
    "import pandas as pd\n",
    "import numpy as np"
   ]
  },
  {
   "cell_type": "code",
   "execution_count": 9,
   "id": "d7bd794e-4a82-4704-8709-8fe1ff33e7fa",
   "metadata": {},
   "outputs": [
    {
     "name": "stdout",
     "output_type": "stream",
     "text": [
      "Downloading data from https://storage.googleapis.com/tensorflow/tf-keras-datasets/reuters.npz\n",
      "\u001b[1m2110848/2110848\u001b[0m \u001b[32m━━━━━━━━━━━━━━━━━━━━\u001b[0m\u001b[37m\u001b[0m \u001b[1m1s\u001b[0m 1us/step\n"
     ]
    }
   ],
   "source": [
    "(train_data, train_labels), (test_data, test_labels) = reuters.load_data(\n",
    "            num_words=10000)"
   ]
  },
  {
   "cell_type": "code",
   "execution_count": 12,
   "id": "161dece3-6abb-4607-8b62-c1ddbcbd78b2",
   "metadata": {},
   "outputs": [
    {
     "data": {
      "text/plain": [
       "2246"
      ]
     },
     "execution_count": 12,
     "metadata": {},
     "output_type": "execute_result"
    }
   ],
   "source": [
    "len(test_data)"
   ]
  },
  {
   "cell_type": "markdown",
   "id": "aee657ef-5039-4546-a51c-5fa9414dc5f3",
   "metadata": {},
   "source": [
    "## Decoding news wires back to text"
   ]
  },
  {
   "cell_type": "code",
   "execution_count": 13,
   "id": "8f3a4241-84f4-44f0-aea8-c85e99d0768b",
   "metadata": {},
   "outputs": [
    {
     "name": "stdout",
     "output_type": "stream",
     "text": [
      "Downloading data from https://storage.googleapis.com/tensorflow/tf-keras-datasets/reuters_word_index.json\n",
      "\u001b[1m550378/550378\u001b[0m \u001b[32m━━━━━━━━━━━━━━━━━━━━\u001b[0m\u001b[37m\u001b[0m \u001b[1m1s\u001b[0m 1us/step\n"
     ]
    }
   ],
   "source": [
    "word_index = reuters.get_word_index()"
   ]
  },
  {
   "cell_type": "code",
   "execution_count": 66,
   "id": "c396c10f-d89b-4726-b097-866327592f16",
   "metadata": {},
   "outputs": [],
   "source": [
    "label_names = reuters.get_label_names()"
   ]
  },
  {
   "cell_type": "code",
   "execution_count": 14,
   "id": "f7990bfd-cd81-4461-bb51-b68893016236",
   "metadata": {},
   "outputs": [],
   "source": [
    "reverse_word_index = dict(\n",
    "[(value, key) for (key, value) in word_index.items()]) "
   ]
  },
  {
   "cell_type": "code",
   "execution_count": 30,
   "id": "e916ef7e-a22b-4cc1-9bb6-7fe854f21fe7",
   "metadata": {},
   "outputs": [],
   "source": [
    "def decode_text(text, reverse_word_index):\n",
    "    decoded_text = \" \".join(\n",
    "                [reverse_word_index.get(i - 3, \"?\") for i in text])\n",
    "    return decoded_text"
   ]
  },
  {
   "cell_type": "code",
   "execution_count": 41,
   "id": "646533bb-5148-4301-8cdc-93e2ef7ac849",
   "metadata": {},
   "outputs": [
    {
     "data": {
      "text/plain": [
       "'? shr 3 28 dlrs vs 22 cts shr diluted 2 99 dlrs vs 22 cts net 46 0 mln vs 3 328 000 avg shrs 14 0 mln vs 15 2 mln year shr 5 41 dlrs vs 1 56 dlrs shr diluted 4 94 dlrs vs 1 50 dlrs net 78 2 mln vs 25 9 mln avg shrs 14 5 mln vs 15 1 mln note earnings per share reflect the two for one split effective january 6 1987 per share amounts are calculated after preferred stock dividends loss continuing operations for the qtr 1986 includes gains of sale of investments in ? corp of 14 mln dlrs and associated companies of 4 189 000 less writedowns of investments in national ? inc of 11 8 mln and ? corp of 15 6 mln reuter 3'"
      ]
     },
     "execution_count": 41,
     "metadata": {},
     "output_type": "execute_result"
    }
   ],
   "source": [
    "decode_text(train_data[2], reverse_word_index)"
   ]
  },
  {
   "cell_type": "markdown",
   "id": "31c181ae-f165-4942-9ded-761d8702f278",
   "metadata": {},
   "source": [
    "## Sample texts"
   ]
  },
  {
   "cell_type": "code",
   "execution_count": 55,
   "id": "16151146-5383-4cb6-a7d8-697ee1f87c87",
   "metadata": {},
   "outputs": [],
   "source": [
    "import random\n"
   ]
  },
  {
   "cell_type": "code",
   "execution_count": 185,
   "id": "3646b262-8a9d-4632-8572-2232e6aa5793",
   "metadata": {},
   "outputs": [],
   "source": [
    "random.seed(42)\n",
    "sample_index  = random.sample(range(1, len(train_data)), 150)"
   ]
  },
  {
   "cell_type": "code",
   "execution_count": 186,
   "id": "9bd0b7a2-2b43-40cc-8761-301f83f7c7b1",
   "metadata": {},
   "outputs": [],
   "source": [
    "text_sample = train_data[sample]\n",
    "labels_sample = train_labels[sample]"
   ]
  },
  {
   "cell_type": "code",
   "execution_count": 187,
   "id": "834b9a69-be9a-462b-a1cb-031490480cc6",
   "metadata": {},
   "outputs": [],
   "source": [
    "label_names_sample = [label_names[label] for label in labels_sample]"
   ]
  },
  {
   "cell_type": "code",
   "execution_count": 188,
   "id": "74b86013-74e4-41b9-8ef5-5e21b28931fa",
   "metadata": {},
   "outputs": [],
   "source": [
    "decoded_text_sample = [decode_text(text, reverse_word_index) for text in text_sample]"
   ]
  },
  {
   "cell_type": "code",
   "execution_count": 189,
   "id": "6c74e739-8233-4d69-9734-19e2e3385c76",
   "metadata": {},
   "outputs": [],
   "source": [
    "df = pd.DataFrame({\"text\": decoded_text_sample, \"label_code\": labels_sample, \"label_name\": label_names_sample})"
   ]
  },
  {
   "cell_type": "code",
   "execution_count": 191,
   "id": "df0ab006-340f-43a7-a499-799ce4968032",
   "metadata": {},
   "outputs": [],
   "source": [
    "#df.to_csv(\"newsweek_sample.csv\", index=False)"
   ]
  },
  {
   "cell_type": "code",
   "execution_count": 192,
   "id": "f9c4b968-352b-4242-abc8-2501b8724fa5",
   "metadata": {},
   "outputs": [],
   "source": [
    "df = pd.read_csv(\"newsweek_sample.csv\")"
   ]
  },
  {
   "cell_type": "markdown",
   "id": "53396c70-e4f6-4226-a47f-d7999ba5cc42",
   "metadata": {},
   "source": [
    "## Extracting topics with an LLM"
   ]
  },
  {
   "cell_type": "code",
   "execution_count": 193,
   "id": "76f7c1e0-a13a-4db9-835d-977b3cfaca9e",
   "metadata": {},
   "outputs": [],
   "source": [
    "#!pip install ollama\n",
    "#ref: https://github.com/ollama/ollama\n",
    "#run in terminal: ollama run llama3.2:1b\n",
    "import ollama"
   ]
  },
  {
   "cell_type": "markdown",
   "id": "48ead9f5-8a30-4a20-bc68-3a75fc673474",
   "metadata": {},
   "source": [
    "Usar el texto 2 de la muestra para mostrar la inestabilidad del resultado."
   ]
  },
  {
   "cell_type": "code",
   "execution_count": 194,
   "id": "4f949d32-a682-43c2-918b-03e34f691fa5",
   "metadata": {},
   "outputs": [],
   "source": [
    "prompt_v1 = \"You are an expert news anchor. What news category does this article belong to?: {text}\"\n",
    "prompt_v2 = \"You are an expert news anchor. What news category does this article belong to? Provide your best guess: {text}\"\n",
    "prompt_v3 = \"You are an expert news anchor. What news category does this article belong to? \\\n",
    "    Provide your best guess in a sentence with no more than 4 words: {text}\"\n",
    "prompt_v4 = \"You are an expert news anchor. What news category does the following article belong to? \\\n",
    "    Please answer only with the category. If you are unsure, your best guess is ok: {text}\"\n",
    "\n",
    "prompt_v5 = \"You are an expert news anchor. What news category does the following article belong to? \\\n",
    "    Please answer only with one category.\\\n",
    "    If you are unsure, your best guess is ok. Do not include question marks: {text}\""
   ]
  },
  {
   "cell_type": "code",
   "execution_count": 195,
   "id": "3b6123e7-a923-4c8c-bf3a-42082875fdbc",
   "metadata": {},
   "outputs": [],
   "source": [
    "def ollama_query(text, prompt):\n",
    "    prompt = prompt\n",
    "    \n",
    "\n",
    "    response = ollama.chat(\n",
    "        model = \"llama3.2:1b\",\n",
    "        messages = [{\"role\":\"user\", \"content\":prompt.format(text=text)}]    \n",
    "    )\n",
    "\n",
    "    return response[\"message\"][\"content\"]"
   ]
  },
  {
   "cell_type": "code",
   "execution_count": 221,
   "id": "199f8e5e-62b5-447e-8a3f-cfee8dd9d80c",
   "metadata": {
    "collapsed": true,
    "jupyter": {
     "outputs_hidden": true
    }
   },
   "outputs": [
    {
     "ename": "NameError",
     "evalue": "name 'np' is not defined",
     "output_type": "error",
     "traceback": [
      "\u001b[0;31m---------------------------------------------------------------------------\u001b[0m",
      "\u001b[0;31mNameError\u001b[0m                                 Traceback (most recent call last)",
      "Cell \u001b[0;32mIn[221], line 12\u001b[0m\n\u001b[1;32m     10\u001b[0m     topic \u001b[38;5;241m=\u001b[39m ollama_query(temp_text, prompt_v5)\n\u001b[1;32m     11\u001b[0m     topics\u001b[38;5;241m.\u001b[39mappend(topic)\n\u001b[0;32m---> 12\u001b[0m df_c\u001b[38;5;241m.\u001b[39mloc[:, \u001b[38;5;124m\"\u001b[39m\u001b[38;5;124mllm_topic\u001b[39m\u001b[38;5;124m\"\u001b[39m] \u001b[38;5;241m=\u001b[39m np\u001b[38;5;241m.\u001b[39marray(topics)\n\u001b[1;32m     13\u001b[0m results\u001b[38;5;241m.\u001b[39mappend(df_c)\n",
      "\u001b[0;31mNameError\u001b[0m: name 'np' is not defined"
     ]
    }
   ],
   "source": [
    "results = []\n",
    "\n",
    "#run llm 10 times to solve for topic stability\n",
    "for i in range(10):\n",
    "    df_c = df.copy()\n",
    "\n",
    "    topics = []\n",
    "    for row in range(df_c.shape[0]):\n",
    "        temp_text = df_c.iloc[row].text\n",
    "        topic = ollama_query(temp_text, prompt_v5)\n",
    "        topics.append(topic)\n",
    "    df_c.loc[:, \"llm_topic\"] = topics\n",
    "    results.append(df_c)"
   ]
  },
  {
   "cell_type": "code",
   "execution_count": 224,
   "id": "75526382-b2b2-4ee9-ae0e-474a756c3889",
   "metadata": {},
   "outputs": [],
   "source": [
    "df_c = df.copy()"
   ]
  },
  {
   "cell_type": "code",
   "execution_count": 225,
   "id": "e4216737-6b70-47e2-ac1c-d2a7d9262c5e",
   "metadata": {},
   "outputs": [],
   "source": [
    "df_c[\"topics\"] = topics"
   ]
  },
  {
   "cell_type": "code",
   "execution_count": 229,
   "id": "fcaa6ab2-658a-4ee8-99b5-b36fca5861a1",
   "metadata": {},
   "outputs": [],
   "source": [
    "topics_iter1 = df_c[\"topics\"].value_counts().reset_index()"
   ]
  },
  {
   "cell_type": "code",
   "execution_count": 280,
   "id": "eb4a5100-7361-488a-a074-840e4f8b8781",
   "metadata": {},
   "outputs": [],
   "source": [
    "pareto = (topics_iter1[\"count\"].cumsum() / topics_iter1[\"count\"].sum()) < .81"
   ]
  },
  {
   "cell_type": "code",
   "execution_count": 287,
   "id": "a1b602e8-ee60-4454-b70a-c69cf21d7e7f",
   "metadata": {},
   "outputs": [],
   "source": [
    "topic_list = topics_iter1.to_dict(orient=\"records\")"
   ]
  },
  {
   "cell_type": "code",
   "execution_count": 295,
   "id": "67c81def-1a09-447f-bcd8-286ce208339b",
   "metadata": {},
   "outputs": [
    {
     "name": "stdout",
     "output_type": "stream",
     "text": [
      "Business\n",
      "Economy\n"
     ]
    }
   ],
   "source": [
    "for topic in topic_list[:2]:\n",
    "    print(topic[\"topics\"])"
   ]
  },
  {
   "cell_type": "code",
   "execution_count": 291,
   "id": "19e9930e-1c1d-4bbb-a756-2736e6023330",
   "metadata": {},
   "outputs": [],
   "source": [
    "topic_mapping = {}"
   ]
  },
  {
   "cell_type": "code",
   "execution_count": 306,
   "id": "d1ad5a82-a683-4af5-a881-4bd80a2ba102",
   "metadata": {},
   "outputs": [
    {
     "data": {
      "text/plain": [
       "True"
      ]
     },
     "execution_count": 306,
     "metadata": {},
     "output_type": "execute_result"
    }
   ],
   "source": [
    "\"Business\" in \"Business/Financial News\""
   ]
  },
  {
   "cell_type": "code",
   "execution_count": 305,
   "id": "3fb309a2-6ffb-4d3d-a9fe-f8d1b78698be",
   "metadata": {},
   "outputs": [
    {
     "data": {
      "text/html": [
       "<div>\n",
       "<style scoped>\n",
       "    .dataframe tbody tr th:only-of-type {\n",
       "        vertical-align: middle;\n",
       "    }\n",
       "\n",
       "    .dataframe tbody tr th {\n",
       "        vertical-align: top;\n",
       "    }\n",
       "\n",
       "    .dataframe thead th {\n",
       "        text-align: right;\n",
       "    }\n",
       "</style>\n",
       "<table border=\"1\" class=\"dataframe\">\n",
       "  <thead>\n",
       "    <tr style=\"text-align: right;\">\n",
       "      <th></th>\n",
       "      <th>topics</th>\n",
       "      <th>count</th>\n",
       "    </tr>\n",
       "  </thead>\n",
       "  <tbody>\n",
       "    <tr>\n",
       "      <th>0</th>\n",
       "      <td>Business</td>\n",
       "      <td>35</td>\n",
       "    </tr>\n",
       "    <tr>\n",
       "      <th>1</th>\n",
       "      <td>Economy</td>\n",
       "      <td>21</td>\n",
       "    </tr>\n",
       "    <tr>\n",
       "      <th>2</th>\n",
       "      <td>Economics</td>\n",
       "      <td>15</td>\n",
       "    </tr>\n",
       "    <tr>\n",
       "      <th>3</th>\n",
       "      <td>Financial News</td>\n",
       "      <td>14</td>\n",
       "    </tr>\n",
       "    <tr>\n",
       "      <th>4</th>\n",
       "      <td>Energy</td>\n",
       "      <td>8</td>\n",
       "    </tr>\n",
       "    <tr>\n",
       "      <th>5</th>\n",
       "      <td>Business/Finance</td>\n",
       "      <td>4</td>\n",
       "    </tr>\n",
       "    <tr>\n",
       "      <th>6</th>\n",
       "      <td>Business/Financial News</td>\n",
       "      <td>4</td>\n",
       "    </tr>\n",
       "    <tr>\n",
       "      <th>7</th>\n",
       "      <td>Investing</td>\n",
       "      <td>3</td>\n",
       "    </tr>\n",
       "    <tr>\n",
       "      <th>8</th>\n",
       "      <td>Engineering</td>\n",
       "      <td>2</td>\n",
       "    </tr>\n",
       "    <tr>\n",
       "      <th>9</th>\n",
       "      <td>Business News</td>\n",
       "      <td>2</td>\n",
       "    </tr>\n",
       "    <tr>\n",
       "      <th>10</th>\n",
       "      <td>Financial Markets</td>\n",
       "      <td>2</td>\n",
       "    </tr>\n",
       "    <tr>\n",
       "      <th>11</th>\n",
       "      <td>Financials</td>\n",
       "      <td>2</td>\n",
       "    </tr>\n",
       "    <tr>\n",
       "      <th>12</th>\n",
       "      <td>Agriculture</td>\n",
       "      <td>2</td>\n",
       "    </tr>\n",
       "    <tr>\n",
       "      <th>13</th>\n",
       "      <td>Investigative Reporting</td>\n",
       "      <td>1</td>\n",
       "    </tr>\n",
       "    <tr>\n",
       "      <th>14</th>\n",
       "      <td>Energy/International Energy Transactions</td>\n",
       "      <td>1</td>\n",
       "    </tr>\n",
       "    <tr>\n",
       "      <th>15</th>\n",
       "      <td>Maritime History</td>\n",
       "      <td>1</td>\n",
       "    </tr>\n",
       "    <tr>\n",
       "      <th>16</th>\n",
       "      <td>Insurance</td>\n",
       "      <td>1</td>\n",
       "    </tr>\n",
       "    <tr>\n",
       "      <th>17</th>\n",
       "      <td>Investment</td>\n",
       "      <td>1</td>\n",
       "    </tr>\n",
       "    <tr>\n",
       "      <th>18</th>\n",
       "      <td>Financial</td>\n",
       "      <td>1</td>\n",
       "    </tr>\n",
       "    <tr>\n",
       "      <th>19</th>\n",
       "      <td>Technology</td>\n",
       "      <td>1</td>\n",
       "    </tr>\n",
       "    <tr>\n",
       "      <th>20</th>\n",
       "      <td>Technical Services</td>\n",
       "      <td>1</td>\n",
       "    </tr>\n",
       "    <tr>\n",
       "      <th>21</th>\n",
       "      <td>Economy and Trade</td>\n",
       "      <td>1</td>\n",
       "    </tr>\n",
       "    <tr>\n",
       "      <th>22</th>\n",
       "      <td>Engineering Plastics</td>\n",
       "      <td>1</td>\n",
       "    </tr>\n",
       "    <tr>\n",
       "      <th>23</th>\n",
       "      <td>Economic News</td>\n",
       "      <td>1</td>\n",
       "    </tr>\n",
       "    <tr>\n",
       "      <th>24</th>\n",
       "      <td>Investing/Stock Market Analysis</td>\n",
       "      <td>1</td>\n",
       "    </tr>\n",
       "    <tr>\n",
       "      <th>25</th>\n",
       "      <td>Financial/Business News</td>\n",
       "      <td>1</td>\n",
       "    </tr>\n",
       "    <tr>\n",
       "      <th>26</th>\n",
       "      <td>Financial/Corporate Law</td>\n",
       "      <td>1</td>\n",
       "    </tr>\n",
       "    <tr>\n",
       "      <th>27</th>\n",
       "      <td>Automotive finance</td>\n",
       "      <td>1</td>\n",
       "    </tr>\n",
       "    <tr>\n",
       "      <th>28</th>\n",
       "      <td>Environmental/Weather News</td>\n",
       "      <td>1</td>\n",
       "    </tr>\n",
       "    <tr>\n",
       "      <th>29</th>\n",
       "      <td>Mining/Resource Industry</td>\n",
       "      <td>1</td>\n",
       "    </tr>\n",
       "    <tr>\n",
       "      <th>30</th>\n",
       "      <td>agriculture</td>\n",
       "      <td>1</td>\n",
       "    </tr>\n",
       "    <tr>\n",
       "      <th>31</th>\n",
       "      <td>Biotechnology</td>\n",
       "      <td>1</td>\n",
       "    </tr>\n",
       "    <tr>\n",
       "      <th>32</th>\n",
       "      <td>Food and Agriculture</td>\n",
       "      <td>1</td>\n",
       "    </tr>\n",
       "    <tr>\n",
       "      <th>33</th>\n",
       "      <td>Investigative News</td>\n",
       "      <td>1</td>\n",
       "    </tr>\n",
       "    <tr>\n",
       "      <th>34</th>\n",
       "      <td>Sports</td>\n",
       "      <td>1</td>\n",
       "    </tr>\n",
       "    <tr>\n",
       "      <th>35</th>\n",
       "      <td>Investigations and Enforcement Actions</td>\n",
       "      <td>1</td>\n",
       "    </tr>\n",
       "    <tr>\n",
       "      <th>36</th>\n",
       "      <td>Agriculture Politics</td>\n",
       "      <td>1</td>\n",
       "    </tr>\n",
       "    <tr>\n",
       "      <th>37</th>\n",
       "      <td>Trade</td>\n",
       "      <td>1</td>\n",
       "    </tr>\n",
       "    <tr>\n",
       "      <th>38</th>\n",
       "      <td>Weather</td>\n",
       "      <td>1</td>\n",
       "    </tr>\n",
       "    <tr>\n",
       "      <th>39</th>\n",
       "      <td>Financial Services</td>\n",
       "      <td>1</td>\n",
       "    </tr>\n",
       "    <tr>\n",
       "      <th>40</th>\n",
       "      <td>Real Estate</td>\n",
       "      <td>1</td>\n",
       "    </tr>\n",
       "    <tr>\n",
       "      <th>41</th>\n",
       "      <td>Military</td>\n",
       "      <td>1</td>\n",
       "    </tr>\n",
       "    <tr>\n",
       "      <th>42</th>\n",
       "      <td>Banking and Finance</td>\n",
       "      <td>1</td>\n",
       "    </tr>\n",
       "    <tr>\n",
       "      <th>43</th>\n",
       "      <td>Bankruptcy</td>\n",
       "      <td>1</td>\n",
       "    </tr>\n",
       "    <tr>\n",
       "      <th>44</th>\n",
       "      <td>Technology/Stock Market News</td>\n",
       "      <td>1</td>\n",
       "    </tr>\n",
       "    <tr>\n",
       "      <th>45</th>\n",
       "      <td>News</td>\n",
       "      <td>1</td>\n",
       "    </tr>\n",
       "    <tr>\n",
       "      <th>46</th>\n",
       "      <td>Metal Statistics</td>\n",
       "      <td>1</td>\n",
       "    </tr>\n",
       "    <tr>\n",
       "      <th>47</th>\n",
       "      <td>Economy and Finance.</td>\n",
       "      <td>1</td>\n",
       "    </tr>\n",
       "    <tr>\n",
       "      <th>48</th>\n",
       "      <td>Mining/Metals Industry</td>\n",
       "      <td>1</td>\n",
       "    </tr>\n",
       "  </tbody>\n",
       "</table>\n",
       "</div>"
      ],
      "text/plain": [
       "                                      topics  count\n",
       "0                                   Business     35\n",
       "1                                    Economy     21\n",
       "2                                  Economics     15\n",
       "3                             Financial News     14\n",
       "4                                     Energy      8\n",
       "5                           Business/Finance      4\n",
       "6                    Business/Financial News      4\n",
       "7                                  Investing      3\n",
       "8                                Engineering      2\n",
       "9                              Business News      2\n",
       "10                         Financial Markets      2\n",
       "11                                Financials      2\n",
       "12                               Agriculture      2\n",
       "13                   Investigative Reporting      1\n",
       "14  Energy/International Energy Transactions      1\n",
       "15                          Maritime History      1\n",
       "16                                 Insurance      1\n",
       "17                                Investment      1\n",
       "18                                 Financial      1\n",
       "19                                Technology      1\n",
       "20                        Technical Services      1\n",
       "21                         Economy and Trade      1\n",
       "22                      Engineering Plastics      1\n",
       "23                             Economic News      1\n",
       "24           Investing/Stock Market Analysis      1\n",
       "25                   Financial/Business News      1\n",
       "26                   Financial/Corporate Law      1\n",
       "27                        Automotive finance      1\n",
       "28                Environmental/Weather News      1\n",
       "29                  Mining/Resource Industry      1\n",
       "30                               agriculture      1\n",
       "31                             Biotechnology      1\n",
       "32                      Food and Agriculture      1\n",
       "33                        Investigative News      1\n",
       "34                                    Sports      1\n",
       "35    Investigations and Enforcement Actions      1\n",
       "36                      Agriculture Politics      1\n",
       "37                                     Trade      1\n",
       "38                                   Weather      1\n",
       "39                        Financial Services      1\n",
       "40                               Real Estate      1\n",
       "41                                  Military      1\n",
       "42                       Banking and Finance      1\n",
       "43                                Bankruptcy      1\n",
       "44              Technology/Stock Market News      1\n",
       "45                                      News      1\n",
       "46                          Metal Statistics      1\n",
       "47                      Economy and Finance.      1\n",
       "48                    Mining/Metals Industry      1"
      ]
     },
     "execution_count": 305,
     "metadata": {},
     "output_type": "execute_result"
    }
   ],
   "source": [
    "topics_iter1"
   ]
  },
  {
   "cell_type": "code",
   "execution_count": 303,
   "id": "7a851704-f10f-4cc4-8fb0-30e0624b015e",
   "metadata": {},
   "outputs": [
    {
     "name": "stdout",
     "output_type": "stream",
     "text": [
      "('Business', 'Business') tf.Tensor(-1.0, shape=(), dtype=float32)\n",
      "('Business', 'Economy') tf.Tensor(-0.8753977, shape=(), dtype=float32)\n",
      "('Business', 'Economics') tf.Tensor(-0.82352716, shape=(), dtype=float32)\n",
      "('Business', 'Financial News') tf.Tensor(-0.89197177, shape=(), dtype=float32)\n",
      "('Business', 'Energy') tf.Tensor(-0.96130544, shape=(), dtype=float32)\n",
      "('Business', 'Business/Finance') tf.Tensor(-0.8023946, shape=(), dtype=float32)\n",
      "('Business', 'Business/Financial News') tf.Tensor(-0.82624143, shape=(), dtype=float32)\n",
      "('Business', 'Investing') tf.Tensor(-0.9683739, shape=(), dtype=float32)\n",
      "('Business', 'Engineering') tf.Tensor(-0.81622, shape=(), dtype=float32)\n",
      "('Business', 'Business News') tf.Tensor(-0.8636549, shape=(), dtype=float32)\n",
      "('Business', 'Financial Markets') tf.Tensor(-0.864365, shape=(), dtype=float32)\n",
      "('Business', 'Financials') tf.Tensor(-0.8486435, shape=(), dtype=float32)\n",
      "('Business', 'Agriculture') tf.Tensor(-0.785066, shape=(), dtype=float32)\n",
      "('Business', 'Investigative Reporting') tf.Tensor(-0.9180403, shape=(), dtype=float32)\n",
      "('Business', 'Energy/International Energy Transactions') tf.Tensor(-0.8589911, shape=(), dtype=float32)\n",
      "('Business', 'Maritime History') tf.Tensor(-0.47020835, shape=(), dtype=float32)\n",
      "('Business', 'Insurance') tf.Tensor(-0.86186814, shape=(), dtype=float32)\n",
      "('Business', 'Investment') tf.Tensor(-0.9606347, shape=(), dtype=float32)\n",
      "('Business', 'Financial') tf.Tensor(-0.9667429, shape=(), dtype=float32)\n",
      "('Business', 'Technology') tf.Tensor(-0.9280161, shape=(), dtype=float32)\n",
      "('Business', 'Technical Services') tf.Tensor(-0.8683673, shape=(), dtype=float32)\n",
      "('Business', 'Economy and Trade') tf.Tensor(-0.7812331, shape=(), dtype=float32)\n",
      "('Business', 'Engineering Plastics') tf.Tensor(-0.82531697, shape=(), dtype=float32)\n",
      "('Business', 'Economic News') tf.Tensor(-0.85282457, shape=(), dtype=float32)\n",
      "('Business', 'Investing/Stock Market Analysis') tf.Tensor(-0.823475, shape=(), dtype=float32)\n",
      "('Business', 'Financial/Business News') tf.Tensor(-0.8249427, shape=(), dtype=float32)\n",
      "('Business', 'Financial/Corporate Law') tf.Tensor(-0.7924694, shape=(), dtype=float32)\n",
      "('Business', 'Automotive finance') tf.Tensor(-0.71824527, shape=(), dtype=float32)\n",
      "('Business', 'Environmental/Weather News') tf.Tensor(-0.72862554, shape=(), dtype=float32)\n",
      "('Business', 'Mining/Resource Industry') tf.Tensor(-0.7883549, shape=(), dtype=float32)\n",
      "('Business', 'agriculture') tf.Tensor(-0.785066, shape=(), dtype=float32)\n",
      "('Business', 'Biotechnology') tf.Tensor(-0.74396443, shape=(), dtype=float32)\n",
      "('Business', 'Food and Agriculture') tf.Tensor(-0.75420284, shape=(), dtype=float32)\n",
      "('Business', 'Investigative News') tf.Tensor(-0.89908546, shape=(), dtype=float32)\n",
      "('Business', 'Sports') tf.Tensor(-0.8495286, shape=(), dtype=float32)\n",
      "('Business', 'Investigations and Enforcement Actions') tf.Tensor(-0.70721483, shape=(), dtype=float32)\n",
      "('Business', 'Agriculture Politics') tf.Tensor(-0.6989131, shape=(), dtype=float32)\n",
      "('Business', 'Trade') tf.Tensor(-0.9382799, shape=(), dtype=float32)\n",
      "('Business', 'Weather') tf.Tensor(-0.93450165, shape=(), dtype=float32)\n",
      "('Business', 'Financial Services') tf.Tensor(-0.8502724, shape=(), dtype=float32)\n",
      "('Business', 'Real Estate') tf.Tensor(-0.80509996, shape=(), dtype=float32)\n",
      "('Business', 'Military') tf.Tensor(-0.92642736, shape=(), dtype=float32)\n",
      "('Business', 'Banking and Finance') tf.Tensor(-0.51253617, shape=(), dtype=float32)\n",
      "('Business', 'Bankruptcy') tf.Tensor(-0.9513252, shape=(), dtype=float32)\n",
      "('Business', 'Technology/Stock Market News') tf.Tensor(-0.83507395, shape=(), dtype=float32)\n",
      "('Business', 'News') tf.Tensor(-0.9650041, shape=(), dtype=float32)\n",
      "('Business', 'Metal Statistics') tf.Tensor(-0.88696706, shape=(), dtype=float32)\n",
      "('Business', 'Economy and Finance.') tf.Tensor(-0.7989961, shape=(), dtype=float32)\n",
      "('Business', 'Mining/Metals Industry') tf.Tensor(-0.7277534, shape=(), dtype=float32)\n",
      "('Economy', 'Business') tf.Tensor(-0.87539744, shape=(), dtype=float32)\n",
      "('Economy', 'Economy') tf.Tensor(-1.0, shape=(), dtype=float32)\n",
      "('Economy', 'Economics') tf.Tensor(-0.9046886, shape=(), dtype=float32)\n",
      "('Economy', 'Financial News') tf.Tensor(-0.8659326, shape=(), dtype=float32)\n",
      "('Economy', 'Energy') tf.Tensor(-0.8468373, shape=(), dtype=float32)\n",
      "('Economy', 'Business/Finance') tf.Tensor(-0.82763135, shape=(), dtype=float32)\n",
      "('Economy', 'Business/Financial News') tf.Tensor(-0.83857024, shape=(), dtype=float32)\n",
      "('Economy', 'Investing') tf.Tensor(-0.84982586, shape=(), dtype=float32)\n",
      "('Economy', 'Engineering') tf.Tensor(-0.8603016, shape=(), dtype=float32)\n",
      "('Economy', 'Business News') tf.Tensor(-0.8577112, shape=(), dtype=float32)\n",
      "('Economy', 'Financial Markets') tf.Tensor(-0.90200007, shape=(), dtype=float32)\n",
      "('Economy', 'Financials') tf.Tensor(-0.8518573, shape=(), dtype=float32)\n",
      "('Economy', 'Agriculture') tf.Tensor(-0.8996655, shape=(), dtype=float32)\n",
      "('Economy', 'Investigative Reporting') tf.Tensor(-0.8603386, shape=(), dtype=float32)\n",
      "('Economy', 'Energy/International Energy Transactions') tf.Tensor(-0.87560076, shape=(), dtype=float32)\n",
      "('Economy', 'Maritime History') tf.Tensor(-0.6192008, shape=(), dtype=float32)\n",
      "('Economy', 'Insurance') tf.Tensor(-0.899689, shape=(), dtype=float32)\n",
      "('Economy', 'Investment') tf.Tensor(-0.8966079, shape=(), dtype=float32)\n",
      "('Economy', 'Financial') tf.Tensor(-0.87790215, shape=(), dtype=float32)\n",
      "('Economy', 'Technology') tf.Tensor(-0.9073677, shape=(), dtype=float32)\n",
      "('Economy', 'Technical Services') tf.Tensor(-0.9083683, shape=(), dtype=float32)\n",
      "('Economy', 'Economy and Trade') tf.Tensor(-0.905916, shape=(), dtype=float32)\n",
      "('Economy', 'Engineering Plastics') tf.Tensor(-0.8454716, shape=(), dtype=float32)\n",
      "('Economy', 'Economic News') tf.Tensor(-0.84621835, shape=(), dtype=float32)\n",
      "('Economy', 'Investing/Stock Market Analysis') tf.Tensor(-0.81729794, shape=(), dtype=float32)\n",
      "('Economy', 'Financial/Business News') tf.Tensor(-0.84255344, shape=(), dtype=float32)\n",
      "('Economy', 'Financial/Corporate Law') tf.Tensor(-0.83611715, shape=(), dtype=float32)\n",
      "('Economy', 'Automotive finance') tf.Tensor(-0.79963684, shape=(), dtype=float32)\n",
      "('Economy', 'Environmental/Weather News') tf.Tensor(-0.7723129, shape=(), dtype=float32)\n",
      "('Economy', 'Mining/Resource Industry') tf.Tensor(-0.893801, shape=(), dtype=float32)\n",
      "('Economy', 'agriculture') tf.Tensor(-0.8996655, shape=(), dtype=float32)\n",
      "('Economy', 'Biotechnology') tf.Tensor(-0.8331128, shape=(), dtype=float32)\n",
      "('Economy', 'Food and Agriculture') tf.Tensor(-0.8901532, shape=(), dtype=float32)\n",
      "('Economy', 'Investigative News') tf.Tensor(-0.857679, shape=(), dtype=float32)\n",
      "('Economy', 'Sports') tf.Tensor(-0.8731848, shape=(), dtype=float32)\n",
      "('Economy', 'Investigations and Enforcement Actions') tf.Tensor(-0.7824836, shape=(), dtype=float32)\n",
      "('Economy', 'Agriculture Politics') tf.Tensor(-0.84398866, shape=(), dtype=float32)\n",
      "('Economy', 'Trade') tf.Tensor(-0.9170574, shape=(), dtype=float32)\n",
      "('Economy', 'Weather') tf.Tensor(-0.8847564, shape=(), dtype=float32)\n",
      "('Economy', 'Financial Services') tf.Tensor(-0.90668386, shape=(), dtype=float32)\n",
      "('Economy', 'Real Estate') tf.Tensor(-0.8827944, shape=(), dtype=float32)\n",
      "('Economy', 'Military') tf.Tensor(-0.9030461, shape=(), dtype=float32)\n",
      "('Economy', 'Banking and Finance') tf.Tensor(-0.64684695, shape=(), dtype=float32)\n",
      "('Economy', 'Bankruptcy') tf.Tensor(-0.8889772, shape=(), dtype=float32)\n",
      "('Economy', 'Technology/Stock Market News') tf.Tensor(-0.8488616, shape=(), dtype=float32)\n",
      "('Economy', 'News') tf.Tensor(-0.8491186, shape=(), dtype=float32)\n",
      "('Economy', 'Metal Statistics') tf.Tensor(-0.8687318, shape=(), dtype=float32)\n",
      "('Economy', 'Economy and Finance.') tf.Tensor(-0.828398, shape=(), dtype=float32)\n",
      "('Economy', 'Mining/Metals Industry') tf.Tensor(-0.8704246, shape=(), dtype=float32)\n",
      "('Economics', 'Business') tf.Tensor(-0.8235272, shape=(), dtype=float32)\n",
      "('Economics', 'Economy') tf.Tensor(-0.9046888, shape=(), dtype=float32)\n",
      "('Economics', 'Economics') tf.Tensor(-0.99999994, shape=(), dtype=float32)\n",
      "('Economics', 'Financial News') tf.Tensor(-0.83048546, shape=(), dtype=float32)\n",
      "('Economics', 'Energy') tf.Tensor(-0.77847934, shape=(), dtype=float32)\n",
      "('Economics', 'Business/Finance') tf.Tensor(-0.8628726, shape=(), dtype=float32)\n",
      "('Economics', 'Business/Financial News') tf.Tensor(-0.8053083, shape=(), dtype=float32)\n",
      "('Economics', 'Investing') tf.Tensor(-0.7833957, shape=(), dtype=float32)\n",
      "('Economics', 'Engineering') tf.Tensor(-0.90613985, shape=(), dtype=float32)\n",
      "('Economics', 'Business News') tf.Tensor(-0.8239401, shape=(), dtype=float32)\n",
      "('Economics', 'Financial Markets') tf.Tensor(-0.9133171, shape=(), dtype=float32)\n",
      "('Economics', 'Financials') tf.Tensor(-0.876765, shape=(), dtype=float32)\n",
      "('Economics', 'Agriculture') tf.Tensor(-0.86775964, shape=(), dtype=float32)\n",
      "('Economics', 'Investigative Reporting') tf.Tensor(-0.80991757, shape=(), dtype=float32)\n",
      "('Economics', 'Energy/International Energy Transactions') tf.Tensor(-0.8500682, shape=(), dtype=float32)\n",
      "('Economics', 'Maritime History') tf.Tensor(-0.6801509, shape=(), dtype=float32)\n",
      "('Economics', 'Insurance') tf.Tensor(-0.86983216, shape=(), dtype=float32)\n",
      "('Economics', 'Investment') tf.Tensor(-0.8458108, shape=(), dtype=float32)\n",
      "('Economics', 'Financial') tf.Tensor(-0.8270324, shape=(), dtype=float32)\n",
      "('Economics', 'Technology') tf.Tensor(-0.89213085, shape=(), dtype=float32)\n",
      "('Economics', 'Technical Services') tf.Tensor(-0.8496014, shape=(), dtype=float32)\n",
      "('Economics', 'Economy and Trade') tf.Tensor(-0.8874402, shape=(), dtype=float32)\n",
      "('Economics', 'Engineering Plastics') tf.Tensor(-0.89019024, shape=(), dtype=float32)\n",
      "('Economics', 'Economic News') tf.Tensor(-0.81559587, shape=(), dtype=float32)\n",
      "('Economics', 'Investing/Stock Market Analysis') tf.Tensor(-0.8650105, shape=(), dtype=float32)\n",
      "('Economics', 'Financial/Business News') tf.Tensor(-0.80900186, shape=(), dtype=float32)\n",
      "('Economics', 'Financial/Corporate Law') tf.Tensor(-0.88648665, shape=(), dtype=float32)\n",
      "('Economics', 'Automotive finance') tf.Tensor(-0.87010306, shape=(), dtype=float32)\n",
      "('Economics', 'Environmental/Weather News') tf.Tensor(-0.75730443, shape=(), dtype=float32)\n",
      "('Economics', 'Mining/Resource Industry') tf.Tensor(-0.8823058, shape=(), dtype=float32)\n",
      "('Economics', 'agriculture') tf.Tensor(-0.86775964, shape=(), dtype=float32)\n",
      "('Economics', 'Biotechnology') tf.Tensor(-0.8398396, shape=(), dtype=float32)\n",
      "('Economics', 'Food and Agriculture') tf.Tensor(-0.87766945, shape=(), dtype=float32)\n",
      "('Economics', 'Investigative News') tf.Tensor(-0.811206, shape=(), dtype=float32)\n",
      "('Economics', 'Sports') tf.Tensor(-0.851264, shape=(), dtype=float32)\n",
      "('Economics', 'Investigations and Enforcement Actions') tf.Tensor(-0.7942977, shape=(), dtype=float32)\n",
      "('Economics', 'Agriculture Politics') tf.Tensor(-0.85084355, shape=(), dtype=float32)\n",
      "('Economics', 'Trade') tf.Tensor(-0.8531122, shape=(), dtype=float32)\n",
      "('Economics', 'Weather') tf.Tensor(-0.8051028, shape=(), dtype=float32)\n",
      "('Economics', 'Financial Services') tf.Tensor(-0.9012761, shape=(), dtype=float32)\n",
      "('Economics', 'Real Estate') tf.Tensor(-0.8936037, shape=(), dtype=float32)\n",
      "('Economics', 'Military') tf.Tensor(-0.8346801, shape=(), dtype=float32)\n",
      "('Economics', 'Banking and Finance') tf.Tensor(-0.7549139, shape=(), dtype=float32)\n",
      "('Economics', 'Bankruptcy') tf.Tensor(-0.8174218, shape=(), dtype=float32)\n",
      "('Economics', 'Technology/Stock Market News') tf.Tensor(-0.8158926, shape=(), dtype=float32)\n",
      "('Economics', 'News') tf.Tensor(-0.77870613, shape=(), dtype=float32)\n",
      "('Economics', 'Metal Statistics') tf.Tensor(-0.8247032, shape=(), dtype=float32)\n",
      "('Economics', 'Economy and Finance.') tf.Tensor(-0.8527318, shape=(), dtype=float32)\n",
      "('Economics', 'Mining/Metals Industry') tf.Tensor(-0.84491074, shape=(), dtype=float32)\n",
      "('Financial News', 'Business') tf.Tensor(-0.89197177, shape=(), dtype=float32)\n",
      "('Financial News', 'Economy') tf.Tensor(-0.8659326, shape=(), dtype=float32)\n",
      "('Financial News', 'Economics') tf.Tensor(-0.83048546, shape=(), dtype=float32)\n",
      "('Financial News', 'Financial News') tf.Tensor(-0.99999994, shape=(), dtype=float32)\n",
      "('Financial News', 'Energy') tf.Tensor(-0.86872995, shape=(), dtype=float32)\n",
      "('Financial News', 'Business/Finance') tf.Tensor(-0.8049771, shape=(), dtype=float32)\n",
      "('Financial News', 'Business/Financial News') tf.Tensor(-0.9417132, shape=(), dtype=float32)\n",
      "('Financial News', 'Investing') tf.Tensor(-0.87477386, shape=(), dtype=float32)\n",
      "('Financial News', 'Engineering') tf.Tensor(-0.81592953, shape=(), dtype=float32)\n",
      "('Financial News', 'Business News') tf.Tensor(-0.96492183, shape=(), dtype=float32)\n",
      "('Financial News', 'Financial Markets') tf.Tensor(-0.889148, shape=(), dtype=float32)\n",
      "('Financial News', 'Financials') tf.Tensor(-0.91044784, shape=(), dtype=float32)\n",
      "('Financial News', 'Agriculture') tf.Tensor(-0.81456244, shape=(), dtype=float32)\n",
      "('Financial News', 'Investigative Reporting') tf.Tensor(-0.94279444, shape=(), dtype=float32)\n",
      "('Financial News', 'Energy/International Energy Transactions') tf.Tensor(-0.8915237, shape=(), dtype=float32)\n",
      "('Financial News', 'Maritime History') tf.Tensor(-0.58667374, shape=(), dtype=float32)\n",
      "('Financial News', 'Insurance') tf.Tensor(-0.86310935, shape=(), dtype=float32)\n",
      "('Financial News', 'Investment') tf.Tensor(-0.89323676, shape=(), dtype=float32)\n",
      "('Financial News', 'Financial') tf.Tensor(-0.9095187, shape=(), dtype=float32)\n",
      "('Financial News', 'Technology') tf.Tensor(-0.88037103, shape=(), dtype=float32)\n",
      "('Financial News', 'Technical Services') tf.Tensor(-0.88677895, shape=(), dtype=float32)\n",
      "('Financial News', 'Economy and Trade') tf.Tensor(-0.81331724, shape=(), dtype=float32)\n",
      "('Financial News', 'Engineering Plastics') tf.Tensor(-0.8181522, shape=(), dtype=float32)\n",
      "('Financial News', 'Economic News') tf.Tensor(-0.9650865, shape=(), dtype=float32)\n",
      "('Financial News', 'Investing/Stock Market Analysis') tf.Tensor(-0.8303014, shape=(), dtype=float32)\n",
      "('Financial News', 'Financial/Business News') tf.Tensor(-0.9359163, shape=(), dtype=float32)\n",
      "('Financial News', 'Financial/Corporate Law') tf.Tensor(-0.8089895, shape=(), dtype=float32)\n",
      "('Financial News', 'Automotive finance') tf.Tensor(-0.7764347, shape=(), dtype=float32)\n",
      "('Financial News', 'Environmental/Weather News') tf.Tensor(-0.8439157, shape=(), dtype=float32)\n",
      "('Financial News', 'Mining/Resource Industry') tf.Tensor(-0.8208189, shape=(), dtype=float32)\n",
      "('Financial News', 'agriculture') tf.Tensor(-0.81456244, shape=(), dtype=float32)\n",
      "('Financial News', 'Biotechnology') tf.Tensor(-0.788525, shape=(), dtype=float32)\n",
      "('Financial News', 'Food and Agriculture') tf.Tensor(-0.78999513, shape=(), dtype=float32)\n",
      "('Financial News', 'Investigative News') tf.Tensor(-0.9681648, shape=(), dtype=float32)\n",
      "('Financial News', 'Sports') tf.Tensor(-0.8707112, shape=(), dtype=float32)\n",
      "('Financial News', 'Investigations and Enforcement Actions') tf.Tensor(-0.76197755, shape=(), dtype=float32)\n",
      "('Financial News', 'Agriculture Politics') tf.Tensor(-0.75935686, shape=(), dtype=float32)\n",
      "('Financial News', 'Trade') tf.Tensor(-0.90034336, shape=(), dtype=float32)\n",
      "('Financial News', 'Weather') tf.Tensor(-0.8977861, shape=(), dtype=float32)\n",
      "('Financial News', 'Financial Services') tf.Tensor(-0.8907032, shape=(), dtype=float32)\n",
      "('Financial News', 'Real Estate') tf.Tensor(-0.82375216, shape=(), dtype=float32)\n",
      "('Financial News', 'Military') tf.Tensor(-0.89192754, shape=(), dtype=float32)\n",
      "('Financial News', 'Banking and Finance') tf.Tensor(-0.56778014, shape=(), dtype=float32)\n",
      "('Financial News', 'Bankruptcy') tf.Tensor(-0.8902459, shape=(), dtype=float32)\n",
      "('Financial News', 'Technology/Stock Market News') tf.Tensor(-0.9404763, shape=(), dtype=float32)\n",
      "('Financial News', 'News') tf.Tensor(-0.9167024, shape=(), dtype=float32)\n",
      "('Financial News', 'Metal Statistics') tf.Tensor(-0.923113, shape=(), dtype=float32)\n",
      "('Financial News', 'Economy and Finance.') tf.Tensor(-0.82141334, shape=(), dtype=float32)\n",
      "('Financial News', 'Mining/Metals Industry') tf.Tensor(-0.77704906, shape=(), dtype=float32)\n",
      "('Energy', 'Business') tf.Tensor(-0.9613056, shape=(), dtype=float32)\n",
      "('Energy', 'Economy') tf.Tensor(-0.84683764, shape=(), dtype=float32)\n",
      "('Energy', 'Economics') tf.Tensor(-0.7784792, shape=(), dtype=float32)\n",
      "('Energy', 'Financial News') tf.Tensor(-0.86872995, shape=(), dtype=float32)\n",
      "('Energy', 'Energy') tf.Tensor(-1.0, shape=(), dtype=float32)\n",
      "('Energy', 'Business/Finance') tf.Tensor(-0.72707534, shape=(), dtype=float32)\n",
      "('Energy', 'Business/Financial News') tf.Tensor(-0.7906077, shape=(), dtype=float32)\n",
      "('Energy', 'Investing') tf.Tensor(-0.9827935, shape=(), dtype=float32)\n"
     ]
    },
    {
     "ename": "KeyboardInterrupt",
     "evalue": "",
     "output_type": "error",
     "traceback": [
      "\u001b[0;31m---------------------------------------------------------------------------\u001b[0m",
      "\u001b[0;31mKeyboardInterrupt\u001b[0m                         Traceback (most recent call last)",
      "Cell \u001b[0;32mIn[303], line 10\u001b[0m\n\u001b[1;32m      8\u001b[0m tokens \u001b[38;5;241m=\u001b[39m tokenizer(pair, return_tensors\u001b[38;5;241m=\u001b[39m\u001b[38;5;124m'\u001b[39m\u001b[38;5;124mtf\u001b[39m\u001b[38;5;124m'\u001b[39m,padding\u001b[38;5;241m=\u001b[39m\u001b[38;5;28;01mTrue\u001b[39;00m)\n\u001b[1;32m      9\u001b[0m \u001b[38;5;28;01mwith\u001b[39;00m torch\u001b[38;5;241m.\u001b[39mno_grad():\n\u001b[0;32m---> 10\u001b[0m     outputs \u001b[38;5;241m=\u001b[39m model(\u001b[38;5;241m*\u001b[39m\u001b[38;5;241m*\u001b[39mtokens)\n\u001b[1;32m     12\u001b[0m \u001b[38;5;66;03m# Extract embeddings for the [CLS] token\u001b[39;00m\n\u001b[1;32m     13\u001b[0m cls_embedding \u001b[38;5;241m=\u001b[39m outputs\u001b[38;5;241m.\u001b[39mlast_hidden_state[:, \u001b[38;5;241m0\u001b[39m, :]\n",
      "File \u001b[0;32m~/miniconda3/envs/finalp/lib/python3.12/site-packages/tf_keras/src/utils/traceback_utils.py:65\u001b[0m, in \u001b[0;36mfilter_traceback.<locals>.error_handler\u001b[0;34m(*args, **kwargs)\u001b[0m\n\u001b[1;32m     63\u001b[0m filtered_tb \u001b[38;5;241m=\u001b[39m \u001b[38;5;28;01mNone\u001b[39;00m\n\u001b[1;32m     64\u001b[0m \u001b[38;5;28;01mtry\u001b[39;00m:\n\u001b[0;32m---> 65\u001b[0m     \u001b[38;5;28;01mreturn\u001b[39;00m fn(\u001b[38;5;241m*\u001b[39margs, \u001b[38;5;241m*\u001b[39m\u001b[38;5;241m*\u001b[39mkwargs)\n\u001b[1;32m     66\u001b[0m \u001b[38;5;28;01mexcept\u001b[39;00m \u001b[38;5;167;01mException\u001b[39;00m \u001b[38;5;28;01mas\u001b[39;00m e:\n\u001b[1;32m     67\u001b[0m     filtered_tb \u001b[38;5;241m=\u001b[39m _process_traceback_frames(e\u001b[38;5;241m.\u001b[39m__traceback__)\n",
      "File \u001b[0;32m~/miniconda3/envs/finalp/lib/python3.12/site-packages/tf_keras/src/engine/training.py:588\u001b[0m, in \u001b[0;36mModel.__call__\u001b[0;34m(self, *args, **kwargs)\u001b[0m\n\u001b[1;32m    584\u001b[0m         \u001b[38;5;28msuper\u001b[39m()\u001b[38;5;241m.\u001b[39m\u001b[38;5;21m__call__\u001b[39m(inputs, \u001b[38;5;241m*\u001b[39mcopied_args, \u001b[38;5;241m*\u001b[39m\u001b[38;5;241m*\u001b[39mcopied_kwargs)\n\u001b[1;32m    586\u001b[0m     layout_map_lib\u001b[38;5;241m.\u001b[39m_map_subclass_model_variable(\u001b[38;5;28mself\u001b[39m, \u001b[38;5;28mself\u001b[39m\u001b[38;5;241m.\u001b[39m_layout_map)\n\u001b[0;32m--> 588\u001b[0m \u001b[38;5;28;01mreturn\u001b[39;00m \u001b[38;5;28msuper\u001b[39m()\u001b[38;5;241m.\u001b[39m\u001b[38;5;21m__call__\u001b[39m(\u001b[38;5;241m*\u001b[39margs, \u001b[38;5;241m*\u001b[39m\u001b[38;5;241m*\u001b[39mkwargs)\n",
      "File \u001b[0;32m~/miniconda3/envs/finalp/lib/python3.12/site-packages/tf_keras/src/utils/traceback_utils.py:65\u001b[0m, in \u001b[0;36mfilter_traceback.<locals>.error_handler\u001b[0;34m(*args, **kwargs)\u001b[0m\n\u001b[1;32m     63\u001b[0m filtered_tb \u001b[38;5;241m=\u001b[39m \u001b[38;5;28;01mNone\u001b[39;00m\n\u001b[1;32m     64\u001b[0m \u001b[38;5;28;01mtry\u001b[39;00m:\n\u001b[0;32m---> 65\u001b[0m     \u001b[38;5;28;01mreturn\u001b[39;00m fn(\u001b[38;5;241m*\u001b[39margs, \u001b[38;5;241m*\u001b[39m\u001b[38;5;241m*\u001b[39mkwargs)\n\u001b[1;32m     66\u001b[0m \u001b[38;5;28;01mexcept\u001b[39;00m \u001b[38;5;167;01mException\u001b[39;00m \u001b[38;5;28;01mas\u001b[39;00m e:\n\u001b[1;32m     67\u001b[0m     filtered_tb \u001b[38;5;241m=\u001b[39m _process_traceback_frames(e\u001b[38;5;241m.\u001b[39m__traceback__)\n",
      "File \u001b[0;32m~/miniconda3/envs/finalp/lib/python3.12/site-packages/tf_keras/src/engine/base_layer.py:1142\u001b[0m, in \u001b[0;36mLayer.__call__\u001b[0;34m(self, *args, **kwargs)\u001b[0m\n\u001b[1;32m   1137\u001b[0m     inputs \u001b[38;5;241m=\u001b[39m \u001b[38;5;28mself\u001b[39m\u001b[38;5;241m.\u001b[39m_maybe_cast_inputs(inputs, input_list)\n\u001b[1;32m   1139\u001b[0m \u001b[38;5;28;01mwith\u001b[39;00m autocast_variable\u001b[38;5;241m.\u001b[39menable_auto_cast_variables(\n\u001b[1;32m   1140\u001b[0m     \u001b[38;5;28mself\u001b[39m\u001b[38;5;241m.\u001b[39m_compute_dtype_object\n\u001b[1;32m   1141\u001b[0m ):\n\u001b[0;32m-> 1142\u001b[0m     outputs \u001b[38;5;241m=\u001b[39m call_fn(inputs, \u001b[38;5;241m*\u001b[39margs, \u001b[38;5;241m*\u001b[39m\u001b[38;5;241m*\u001b[39mkwargs)\n\u001b[1;32m   1144\u001b[0m \u001b[38;5;28;01mif\u001b[39;00m \u001b[38;5;28mself\u001b[39m\u001b[38;5;241m.\u001b[39m_activity_regularizer:\n\u001b[1;32m   1145\u001b[0m     \u001b[38;5;28mself\u001b[39m\u001b[38;5;241m.\u001b[39m_handle_activity_regularization(inputs, outputs)\n",
      "File \u001b[0;32m~/miniconda3/envs/finalp/lib/python3.12/site-packages/tf_keras/src/utils/traceback_utils.py:96\u001b[0m, in \u001b[0;36minject_argument_info_in_traceback.<locals>.error_handler\u001b[0;34m(*args, **kwargs)\u001b[0m\n\u001b[1;32m     94\u001b[0m bound_signature \u001b[38;5;241m=\u001b[39m \u001b[38;5;28;01mNone\u001b[39;00m\n\u001b[1;32m     95\u001b[0m \u001b[38;5;28;01mtry\u001b[39;00m:\n\u001b[0;32m---> 96\u001b[0m     \u001b[38;5;28;01mreturn\u001b[39;00m fn(\u001b[38;5;241m*\u001b[39margs, \u001b[38;5;241m*\u001b[39m\u001b[38;5;241m*\u001b[39mkwargs)\n\u001b[1;32m     97\u001b[0m \u001b[38;5;28;01mexcept\u001b[39;00m \u001b[38;5;167;01mException\u001b[39;00m \u001b[38;5;28;01mas\u001b[39;00m e:\n\u001b[1;32m     98\u001b[0m     \u001b[38;5;28;01mif\u001b[39;00m \u001b[38;5;28mhasattr\u001b[39m(e, \u001b[38;5;124m\"\u001b[39m\u001b[38;5;124m_keras_call_info_injected\u001b[39m\u001b[38;5;124m\"\u001b[39m):\n\u001b[1;32m     99\u001b[0m         \u001b[38;5;66;03m# Only inject info for the innermost failing call\u001b[39;00m\n",
      "File \u001b[0;32m~/miniconda3/envs/finalp/lib/python3.12/site-packages/transformers/modeling_tf_utils.py:437\u001b[0m, in \u001b[0;36munpack_inputs.<locals>.run_call_with_unpacked_inputs\u001b[0;34m(self, *args, **kwargs)\u001b[0m\n\u001b[1;32m    434\u001b[0m     config \u001b[38;5;241m=\u001b[39m \u001b[38;5;28mself\u001b[39m\u001b[38;5;241m.\u001b[39mconfig\n\u001b[1;32m    436\u001b[0m unpacked_inputs \u001b[38;5;241m=\u001b[39m input_processing(func, config, \u001b[38;5;241m*\u001b[39m\u001b[38;5;241m*\u001b[39mfn_args_and_kwargs)\n\u001b[0;32m--> 437\u001b[0m \u001b[38;5;28;01mreturn\u001b[39;00m func(\u001b[38;5;28mself\u001b[39m, \u001b[38;5;241m*\u001b[39m\u001b[38;5;241m*\u001b[39munpacked_inputs)\n",
      "File \u001b[0;32m~/miniconda3/envs/finalp/lib/python3.12/site-packages/transformers/models/bert/modeling_tf_bert.py:1209\u001b[0m, in \u001b[0;36mTFBertModel.call\u001b[0;34m(self, input_ids, attention_mask, token_type_ids, position_ids, head_mask, inputs_embeds, encoder_hidden_states, encoder_attention_mask, past_key_values, use_cache, output_attentions, output_hidden_states, return_dict, training)\u001b[0m\n\u001b[1;32m   1165\u001b[0m \u001b[38;5;129m@unpack_inputs\u001b[39m\n\u001b[1;32m   1166\u001b[0m \u001b[38;5;129m@add_start_docstrings_to_model_forward\u001b[39m(BERT_INPUTS_DOCSTRING\u001b[38;5;241m.\u001b[39mformat(\u001b[38;5;124m\"\u001b[39m\u001b[38;5;124mbatch_size, sequence_length\u001b[39m\u001b[38;5;124m\"\u001b[39m))\n\u001b[1;32m   1167\u001b[0m \u001b[38;5;129m@add_code_sample_docstrings\u001b[39m(\n\u001b[0;32m   (...)\u001b[0m\n\u001b[1;32m   1187\u001b[0m     training: Optional[\u001b[38;5;28mbool\u001b[39m] \u001b[38;5;241m=\u001b[39m \u001b[38;5;28;01mFalse\u001b[39;00m,\n\u001b[1;32m   1188\u001b[0m ) \u001b[38;5;241m-\u001b[39m\u001b[38;5;241m>\u001b[39m Union[TFBaseModelOutputWithPoolingAndCrossAttentions, Tuple[tf\u001b[38;5;241m.\u001b[39mTensor]]:\n\u001b[1;32m   1189\u001b[0m \u001b[38;5;250m    \u001b[39m\u001b[38;5;124mr\u001b[39m\u001b[38;5;124;03m\"\"\"\u001b[39;00m\n\u001b[1;32m   1190\u001b[0m \u001b[38;5;124;03m    encoder_hidden_states  (`tf.Tensor` of shape `(batch_size, sequence_length, hidden_size)`, *optional*):\u001b[39;00m\n\u001b[1;32m   1191\u001b[0m \u001b[38;5;124;03m        Sequence of hidden-states at the output of the last layer of the encoder. Used in the cross-attention if\u001b[39;00m\n\u001b[0;32m   (...)\u001b[0m\n\u001b[1;32m   1207\u001b[0m \u001b[38;5;124;03m        `past_key_values`). Set to `False` during training, `True` during generation\u001b[39;00m\n\u001b[1;32m   1208\u001b[0m \u001b[38;5;124;03m    \"\"\"\u001b[39;00m\n\u001b[0;32m-> 1209\u001b[0m     outputs \u001b[38;5;241m=\u001b[39m \u001b[38;5;28mself\u001b[39m\u001b[38;5;241m.\u001b[39mbert(\n\u001b[1;32m   1210\u001b[0m         input_ids\u001b[38;5;241m=\u001b[39minput_ids,\n\u001b[1;32m   1211\u001b[0m         attention_mask\u001b[38;5;241m=\u001b[39mattention_mask,\n\u001b[1;32m   1212\u001b[0m         token_type_ids\u001b[38;5;241m=\u001b[39mtoken_type_ids,\n\u001b[1;32m   1213\u001b[0m         position_ids\u001b[38;5;241m=\u001b[39mposition_ids,\n\u001b[1;32m   1214\u001b[0m         head_mask\u001b[38;5;241m=\u001b[39mhead_mask,\n\u001b[1;32m   1215\u001b[0m         inputs_embeds\u001b[38;5;241m=\u001b[39minputs_embeds,\n\u001b[1;32m   1216\u001b[0m         encoder_hidden_states\u001b[38;5;241m=\u001b[39mencoder_hidden_states,\n\u001b[1;32m   1217\u001b[0m         encoder_attention_mask\u001b[38;5;241m=\u001b[39mencoder_attention_mask,\n\u001b[1;32m   1218\u001b[0m         past_key_values\u001b[38;5;241m=\u001b[39mpast_key_values,\n\u001b[1;32m   1219\u001b[0m         use_cache\u001b[38;5;241m=\u001b[39muse_cache,\n\u001b[1;32m   1220\u001b[0m         output_attentions\u001b[38;5;241m=\u001b[39moutput_attentions,\n\u001b[1;32m   1221\u001b[0m         output_hidden_states\u001b[38;5;241m=\u001b[39moutput_hidden_states,\n\u001b[1;32m   1222\u001b[0m         return_dict\u001b[38;5;241m=\u001b[39mreturn_dict,\n\u001b[1;32m   1223\u001b[0m         training\u001b[38;5;241m=\u001b[39mtraining,\n\u001b[1;32m   1224\u001b[0m     )\n\u001b[1;32m   1225\u001b[0m     \u001b[38;5;28;01mreturn\u001b[39;00m outputs\n",
      "File \u001b[0;32m~/miniconda3/envs/finalp/lib/python3.12/site-packages/tf_keras/src/utils/traceback_utils.py:65\u001b[0m, in \u001b[0;36mfilter_traceback.<locals>.error_handler\u001b[0;34m(*args, **kwargs)\u001b[0m\n\u001b[1;32m     63\u001b[0m filtered_tb \u001b[38;5;241m=\u001b[39m \u001b[38;5;28;01mNone\u001b[39;00m\n\u001b[1;32m     64\u001b[0m \u001b[38;5;28;01mtry\u001b[39;00m:\n\u001b[0;32m---> 65\u001b[0m     \u001b[38;5;28;01mreturn\u001b[39;00m fn(\u001b[38;5;241m*\u001b[39margs, \u001b[38;5;241m*\u001b[39m\u001b[38;5;241m*\u001b[39mkwargs)\n\u001b[1;32m     66\u001b[0m \u001b[38;5;28;01mexcept\u001b[39;00m \u001b[38;5;167;01mException\u001b[39;00m \u001b[38;5;28;01mas\u001b[39;00m e:\n\u001b[1;32m     67\u001b[0m     filtered_tb \u001b[38;5;241m=\u001b[39m _process_traceback_frames(e\u001b[38;5;241m.\u001b[39m__traceback__)\n",
      "File \u001b[0;32m~/miniconda3/envs/finalp/lib/python3.12/site-packages/tf_keras/src/engine/base_layer.py:1142\u001b[0m, in \u001b[0;36mLayer.__call__\u001b[0;34m(self, *args, **kwargs)\u001b[0m\n\u001b[1;32m   1137\u001b[0m     inputs \u001b[38;5;241m=\u001b[39m \u001b[38;5;28mself\u001b[39m\u001b[38;5;241m.\u001b[39m_maybe_cast_inputs(inputs, input_list)\n\u001b[1;32m   1139\u001b[0m \u001b[38;5;28;01mwith\u001b[39;00m autocast_variable\u001b[38;5;241m.\u001b[39menable_auto_cast_variables(\n\u001b[1;32m   1140\u001b[0m     \u001b[38;5;28mself\u001b[39m\u001b[38;5;241m.\u001b[39m_compute_dtype_object\n\u001b[1;32m   1141\u001b[0m ):\n\u001b[0;32m-> 1142\u001b[0m     outputs \u001b[38;5;241m=\u001b[39m call_fn(inputs, \u001b[38;5;241m*\u001b[39margs, \u001b[38;5;241m*\u001b[39m\u001b[38;5;241m*\u001b[39mkwargs)\n\u001b[1;32m   1144\u001b[0m \u001b[38;5;28;01mif\u001b[39;00m \u001b[38;5;28mself\u001b[39m\u001b[38;5;241m.\u001b[39m_activity_regularizer:\n\u001b[1;32m   1145\u001b[0m     \u001b[38;5;28mself\u001b[39m\u001b[38;5;241m.\u001b[39m_handle_activity_regularization(inputs, outputs)\n",
      "File \u001b[0;32m~/miniconda3/envs/finalp/lib/python3.12/site-packages/tf_keras/src/utils/traceback_utils.py:96\u001b[0m, in \u001b[0;36minject_argument_info_in_traceback.<locals>.error_handler\u001b[0;34m(*args, **kwargs)\u001b[0m\n\u001b[1;32m     94\u001b[0m bound_signature \u001b[38;5;241m=\u001b[39m \u001b[38;5;28;01mNone\u001b[39;00m\n\u001b[1;32m     95\u001b[0m \u001b[38;5;28;01mtry\u001b[39;00m:\n\u001b[0;32m---> 96\u001b[0m     \u001b[38;5;28;01mreturn\u001b[39;00m fn(\u001b[38;5;241m*\u001b[39margs, \u001b[38;5;241m*\u001b[39m\u001b[38;5;241m*\u001b[39mkwargs)\n\u001b[1;32m     97\u001b[0m \u001b[38;5;28;01mexcept\u001b[39;00m \u001b[38;5;167;01mException\u001b[39;00m \u001b[38;5;28;01mas\u001b[39;00m e:\n\u001b[1;32m     98\u001b[0m     \u001b[38;5;28;01mif\u001b[39;00m \u001b[38;5;28mhasattr\u001b[39m(e, \u001b[38;5;124m\"\u001b[39m\u001b[38;5;124m_keras_call_info_injected\u001b[39m\u001b[38;5;124m\"\u001b[39m):\n\u001b[1;32m     99\u001b[0m         \u001b[38;5;66;03m# Only inject info for the innermost failing call\u001b[39;00m\n",
      "File \u001b[0;32m~/miniconda3/envs/finalp/lib/python3.12/site-packages/transformers/modeling_tf_utils.py:437\u001b[0m, in \u001b[0;36munpack_inputs.<locals>.run_call_with_unpacked_inputs\u001b[0;34m(self, *args, **kwargs)\u001b[0m\n\u001b[1;32m    434\u001b[0m     config \u001b[38;5;241m=\u001b[39m \u001b[38;5;28mself\u001b[39m\u001b[38;5;241m.\u001b[39mconfig\n\u001b[1;32m    436\u001b[0m unpacked_inputs \u001b[38;5;241m=\u001b[39m input_processing(func, config, \u001b[38;5;241m*\u001b[39m\u001b[38;5;241m*\u001b[39mfn_args_and_kwargs)\n\u001b[0;32m--> 437\u001b[0m \u001b[38;5;28;01mreturn\u001b[39;00m func(\u001b[38;5;28mself\u001b[39m, \u001b[38;5;241m*\u001b[39m\u001b[38;5;241m*\u001b[39munpacked_inputs)\n",
      "File \u001b[0;32m~/miniconda3/envs/finalp/lib/python3.12/site-packages/transformers/models/bert/modeling_tf_bert.py:969\u001b[0m, in \u001b[0;36mTFBertMainLayer.call\u001b[0;34m(self, input_ids, attention_mask, token_type_ids, position_ids, head_mask, inputs_embeds, encoder_hidden_states, encoder_attention_mask, past_key_values, use_cache, output_attentions, output_hidden_states, return_dict, training)\u001b[0m\n\u001b[1;32m    966\u001b[0m \u001b[38;5;28;01melse\u001b[39;00m:\n\u001b[1;32m    967\u001b[0m     head_mask \u001b[38;5;241m=\u001b[39m [\u001b[38;5;28;01mNone\u001b[39;00m] \u001b[38;5;241m*\u001b[39m \u001b[38;5;28mself\u001b[39m\u001b[38;5;241m.\u001b[39mconfig\u001b[38;5;241m.\u001b[39mnum_hidden_layers\n\u001b[0;32m--> 969\u001b[0m encoder_outputs \u001b[38;5;241m=\u001b[39m \u001b[38;5;28mself\u001b[39m\u001b[38;5;241m.\u001b[39mencoder(\n\u001b[1;32m    970\u001b[0m     hidden_states\u001b[38;5;241m=\u001b[39membedding_output,\n\u001b[1;32m    971\u001b[0m     attention_mask\u001b[38;5;241m=\u001b[39mextended_attention_mask,\n\u001b[1;32m    972\u001b[0m     head_mask\u001b[38;5;241m=\u001b[39mhead_mask,\n\u001b[1;32m    973\u001b[0m     encoder_hidden_states\u001b[38;5;241m=\u001b[39mencoder_hidden_states,\n\u001b[1;32m    974\u001b[0m     encoder_attention_mask\u001b[38;5;241m=\u001b[39mencoder_extended_attention_mask,\n\u001b[1;32m    975\u001b[0m     past_key_values\u001b[38;5;241m=\u001b[39mpast_key_values,\n\u001b[1;32m    976\u001b[0m     use_cache\u001b[38;5;241m=\u001b[39muse_cache,\n\u001b[1;32m    977\u001b[0m     output_attentions\u001b[38;5;241m=\u001b[39moutput_attentions,\n\u001b[1;32m    978\u001b[0m     output_hidden_states\u001b[38;5;241m=\u001b[39moutput_hidden_states,\n\u001b[1;32m    979\u001b[0m     return_dict\u001b[38;5;241m=\u001b[39mreturn_dict,\n\u001b[1;32m    980\u001b[0m     training\u001b[38;5;241m=\u001b[39mtraining,\n\u001b[1;32m    981\u001b[0m )\n\u001b[1;32m    983\u001b[0m sequence_output \u001b[38;5;241m=\u001b[39m encoder_outputs[\u001b[38;5;241m0\u001b[39m]\n\u001b[1;32m    984\u001b[0m pooled_output \u001b[38;5;241m=\u001b[39m \u001b[38;5;28mself\u001b[39m\u001b[38;5;241m.\u001b[39mpooler(hidden_states\u001b[38;5;241m=\u001b[39msequence_output) \u001b[38;5;28;01mif\u001b[39;00m \u001b[38;5;28mself\u001b[39m\u001b[38;5;241m.\u001b[39mpooler \u001b[38;5;129;01mis\u001b[39;00m \u001b[38;5;129;01mnot\u001b[39;00m \u001b[38;5;28;01mNone\u001b[39;00m \u001b[38;5;28;01melse\u001b[39;00m \u001b[38;5;28;01mNone\u001b[39;00m\n",
      "File \u001b[0;32m~/miniconda3/envs/finalp/lib/python3.12/site-packages/tf_keras/src/utils/traceback_utils.py:65\u001b[0m, in \u001b[0;36mfilter_traceback.<locals>.error_handler\u001b[0;34m(*args, **kwargs)\u001b[0m\n\u001b[1;32m     63\u001b[0m filtered_tb \u001b[38;5;241m=\u001b[39m \u001b[38;5;28;01mNone\u001b[39;00m\n\u001b[1;32m     64\u001b[0m \u001b[38;5;28;01mtry\u001b[39;00m:\n\u001b[0;32m---> 65\u001b[0m     \u001b[38;5;28;01mreturn\u001b[39;00m fn(\u001b[38;5;241m*\u001b[39margs, \u001b[38;5;241m*\u001b[39m\u001b[38;5;241m*\u001b[39mkwargs)\n\u001b[1;32m     66\u001b[0m \u001b[38;5;28;01mexcept\u001b[39;00m \u001b[38;5;167;01mException\u001b[39;00m \u001b[38;5;28;01mas\u001b[39;00m e:\n\u001b[1;32m     67\u001b[0m     filtered_tb \u001b[38;5;241m=\u001b[39m _process_traceback_frames(e\u001b[38;5;241m.\u001b[39m__traceback__)\n",
      "File \u001b[0;32m~/miniconda3/envs/finalp/lib/python3.12/site-packages/tf_keras/src/engine/base_layer.py:1142\u001b[0m, in \u001b[0;36mLayer.__call__\u001b[0;34m(self, *args, **kwargs)\u001b[0m\n\u001b[1;32m   1137\u001b[0m     inputs \u001b[38;5;241m=\u001b[39m \u001b[38;5;28mself\u001b[39m\u001b[38;5;241m.\u001b[39m_maybe_cast_inputs(inputs, input_list)\n\u001b[1;32m   1139\u001b[0m \u001b[38;5;28;01mwith\u001b[39;00m autocast_variable\u001b[38;5;241m.\u001b[39menable_auto_cast_variables(\n\u001b[1;32m   1140\u001b[0m     \u001b[38;5;28mself\u001b[39m\u001b[38;5;241m.\u001b[39m_compute_dtype_object\n\u001b[1;32m   1141\u001b[0m ):\n\u001b[0;32m-> 1142\u001b[0m     outputs \u001b[38;5;241m=\u001b[39m call_fn(inputs, \u001b[38;5;241m*\u001b[39margs, \u001b[38;5;241m*\u001b[39m\u001b[38;5;241m*\u001b[39mkwargs)\n\u001b[1;32m   1144\u001b[0m \u001b[38;5;28;01mif\u001b[39;00m \u001b[38;5;28mself\u001b[39m\u001b[38;5;241m.\u001b[39m_activity_regularizer:\n\u001b[1;32m   1145\u001b[0m     \u001b[38;5;28mself\u001b[39m\u001b[38;5;241m.\u001b[39m_handle_activity_regularization(inputs, outputs)\n",
      "File \u001b[0;32m~/miniconda3/envs/finalp/lib/python3.12/site-packages/tf_keras/src/utils/traceback_utils.py:96\u001b[0m, in \u001b[0;36minject_argument_info_in_traceback.<locals>.error_handler\u001b[0;34m(*args, **kwargs)\u001b[0m\n\u001b[1;32m     94\u001b[0m bound_signature \u001b[38;5;241m=\u001b[39m \u001b[38;5;28;01mNone\u001b[39;00m\n\u001b[1;32m     95\u001b[0m \u001b[38;5;28;01mtry\u001b[39;00m:\n\u001b[0;32m---> 96\u001b[0m     \u001b[38;5;28;01mreturn\u001b[39;00m fn(\u001b[38;5;241m*\u001b[39margs, \u001b[38;5;241m*\u001b[39m\u001b[38;5;241m*\u001b[39mkwargs)\n\u001b[1;32m     97\u001b[0m \u001b[38;5;28;01mexcept\u001b[39;00m \u001b[38;5;167;01mException\u001b[39;00m \u001b[38;5;28;01mas\u001b[39;00m e:\n\u001b[1;32m     98\u001b[0m     \u001b[38;5;28;01mif\u001b[39;00m \u001b[38;5;28mhasattr\u001b[39m(e, \u001b[38;5;124m\"\u001b[39m\u001b[38;5;124m_keras_call_info_injected\u001b[39m\u001b[38;5;124m\"\u001b[39m):\n\u001b[1;32m     99\u001b[0m         \u001b[38;5;66;03m# Only inject info for the innermost failing call\u001b[39;00m\n",
      "File \u001b[0;32m~/miniconda3/envs/finalp/lib/python3.12/site-packages/transformers/models/bert/modeling_tf_bert.py:609\u001b[0m, in \u001b[0;36mTFBertEncoder.call\u001b[0;34m(self, hidden_states, attention_mask, head_mask, encoder_hidden_states, encoder_attention_mask, past_key_values, use_cache, output_attentions, output_hidden_states, return_dict, training)\u001b[0m\n\u001b[1;32m    605\u001b[0m     all_hidden_states \u001b[38;5;241m=\u001b[39m all_hidden_states \u001b[38;5;241m+\u001b[39m (hidden_states,)\n\u001b[1;32m    607\u001b[0m past_key_value \u001b[38;5;241m=\u001b[39m past_key_values[i] \u001b[38;5;28;01mif\u001b[39;00m past_key_values \u001b[38;5;129;01mis\u001b[39;00m \u001b[38;5;129;01mnot\u001b[39;00m \u001b[38;5;28;01mNone\u001b[39;00m \u001b[38;5;28;01melse\u001b[39;00m \u001b[38;5;28;01mNone\u001b[39;00m\n\u001b[0;32m--> 609\u001b[0m layer_outputs \u001b[38;5;241m=\u001b[39m layer_module(\n\u001b[1;32m    610\u001b[0m     hidden_states\u001b[38;5;241m=\u001b[39mhidden_states,\n\u001b[1;32m    611\u001b[0m     attention_mask\u001b[38;5;241m=\u001b[39mattention_mask,\n\u001b[1;32m    612\u001b[0m     head_mask\u001b[38;5;241m=\u001b[39mhead_mask[i],\n\u001b[1;32m    613\u001b[0m     encoder_hidden_states\u001b[38;5;241m=\u001b[39mencoder_hidden_states,\n\u001b[1;32m    614\u001b[0m     encoder_attention_mask\u001b[38;5;241m=\u001b[39mencoder_attention_mask,\n\u001b[1;32m    615\u001b[0m     past_key_value\u001b[38;5;241m=\u001b[39mpast_key_value,\n\u001b[1;32m    616\u001b[0m     output_attentions\u001b[38;5;241m=\u001b[39moutput_attentions,\n\u001b[1;32m    617\u001b[0m     training\u001b[38;5;241m=\u001b[39mtraining,\n\u001b[1;32m    618\u001b[0m )\n\u001b[1;32m    619\u001b[0m hidden_states \u001b[38;5;241m=\u001b[39m layer_outputs[\u001b[38;5;241m0\u001b[39m]\n\u001b[1;32m    621\u001b[0m \u001b[38;5;28;01mif\u001b[39;00m use_cache:\n",
      "File \u001b[0;32m~/miniconda3/envs/finalp/lib/python3.12/site-packages/tf_keras/src/utils/traceback_utils.py:65\u001b[0m, in \u001b[0;36mfilter_traceback.<locals>.error_handler\u001b[0;34m(*args, **kwargs)\u001b[0m\n\u001b[1;32m     63\u001b[0m filtered_tb \u001b[38;5;241m=\u001b[39m \u001b[38;5;28;01mNone\u001b[39;00m\n\u001b[1;32m     64\u001b[0m \u001b[38;5;28;01mtry\u001b[39;00m:\n\u001b[0;32m---> 65\u001b[0m     \u001b[38;5;28;01mreturn\u001b[39;00m fn(\u001b[38;5;241m*\u001b[39margs, \u001b[38;5;241m*\u001b[39m\u001b[38;5;241m*\u001b[39mkwargs)\n\u001b[1;32m     66\u001b[0m \u001b[38;5;28;01mexcept\u001b[39;00m \u001b[38;5;167;01mException\u001b[39;00m \u001b[38;5;28;01mas\u001b[39;00m e:\n\u001b[1;32m     67\u001b[0m     filtered_tb \u001b[38;5;241m=\u001b[39m _process_traceback_frames(e\u001b[38;5;241m.\u001b[39m__traceback__)\n",
      "File \u001b[0;32m~/miniconda3/envs/finalp/lib/python3.12/site-packages/tf_keras/src/engine/base_layer.py:1120\u001b[0m, in \u001b[0;36mLayer.__call__\u001b[0;34m(self, *args, **kwargs)\u001b[0m\n\u001b[1;32m   1117\u001b[0m     name_scope \u001b[38;5;241m=\u001b[39m \u001b[38;5;28mself\u001b[39m\u001b[38;5;241m.\u001b[39m_get_unnested_name_scope()\n\u001b[1;32m   1118\u001b[0m     call_fn \u001b[38;5;241m=\u001b[39m \u001b[38;5;28mself\u001b[39m\u001b[38;5;241m.\u001b[39m_autographed_call()\n\u001b[0;32m-> 1120\u001b[0m call_fn \u001b[38;5;241m=\u001b[39m traceback_utils\u001b[38;5;241m.\u001b[39minject_argument_info_in_traceback(\n\u001b[1;32m   1121\u001b[0m     call_fn,\n\u001b[1;32m   1122\u001b[0m     object_name\u001b[38;5;241m=\u001b[39m(\n\u001b[1;32m   1123\u001b[0m         \u001b[38;5;124mf\u001b[39m\u001b[38;5;124m\"\u001b[39m\u001b[38;5;124mlayer \u001b[39m\u001b[38;5;124m'\u001b[39m\u001b[38;5;132;01m{\u001b[39;00m\u001b[38;5;28mself\u001b[39m\u001b[38;5;241m.\u001b[39mname\u001b[38;5;132;01m}\u001b[39;00m\u001b[38;5;124m'\u001b[39m\u001b[38;5;124m (type \u001b[39m\u001b[38;5;132;01m{\u001b[39;00m\u001b[38;5;28mself\u001b[39m\u001b[38;5;241m.\u001b[39m\u001b[38;5;18m__class__\u001b[39m\u001b[38;5;241m.\u001b[39m\u001b[38;5;18m__name__\u001b[39m\u001b[38;5;132;01m}\u001b[39;00m\u001b[38;5;124m)\u001b[39m\u001b[38;5;124m\"\u001b[39m\n\u001b[1;32m   1124\u001b[0m     ),\n\u001b[1;32m   1125\u001b[0m )\n\u001b[1;32m   1126\u001b[0m \u001b[38;5;28;01mwith\u001b[39;00m contextlib\u001b[38;5;241m.\u001b[39mExitStack() \u001b[38;5;28;01mas\u001b[39;00m namescope_stack:\n\u001b[1;32m   1127\u001b[0m     \u001b[38;5;28;01mif\u001b[39;00m _is_name_scope_on_model_declaration_enabled:\n",
      "File \u001b[0;32m~/miniconda3/envs/finalp/lib/python3.12/site-packages/tf_keras/src/utils/traceback_utils.py:160\u001b[0m, in \u001b[0;36minject_argument_info_in_traceback\u001b[0;34m(fn, object_name)\u001b[0m\n\u001b[1;32m    157\u001b[0m         \u001b[38;5;28;01mdel\u001b[39;00m signature\n\u001b[1;32m    158\u001b[0m         \u001b[38;5;28;01mdel\u001b[39;00m bound_signature\n\u001b[0;32m--> 160\u001b[0m \u001b[38;5;28;01mreturn\u001b[39;00m tf\u001b[38;5;241m.\u001b[39m__internal__\u001b[38;5;241m.\u001b[39mdecorator\u001b[38;5;241m.\u001b[39mmake_decorator(fn, error_handler)\n",
      "File \u001b[0;32m~/miniconda3/envs/finalp/lib/python3.12/site-packages/tensorflow/python/util/tf_decorator.py:163\u001b[0m, in \u001b[0;36mmake_decorator\u001b[0;34m(target, decorator_func, decorator_name, decorator_doc, decorator_argspec)\u001b[0m\n\u001b[1;32m    161\u001b[0m \u001b[38;5;28;01melif\u001b[39;00m \u001b[38;5;28mcallable\u001b[39m(target):\n\u001b[1;32m    162\u001b[0m   \u001b[38;5;28;01mtry\u001b[39;00m:\n\u001b[0;32m--> 163\u001b[0m     signature \u001b[38;5;241m=\u001b[39m inspect\u001b[38;5;241m.\u001b[39msignature(target)\n\u001b[1;32m    164\u001b[0m   \u001b[38;5;28;01mexcept\u001b[39;00m (\u001b[38;5;167;01mTypeError\u001b[39;00m, \u001b[38;5;167;01mValueError\u001b[39;00m):\n\u001b[1;32m    165\u001b[0m     \u001b[38;5;66;03m# Certain callables such as builtins can not be inspected for signature.\u001b[39;00m\n\u001b[1;32m    166\u001b[0m     \u001b[38;5;28;01mpass\u001b[39;00m\n",
      "File \u001b[0;32m~/miniconda3/envs/finalp/lib/python3.12/inspect.py:3341\u001b[0m, in \u001b[0;36msignature\u001b[0;34m(obj, follow_wrapped, globals, locals, eval_str)\u001b[0m\n\u001b[1;32m   3339\u001b[0m \u001b[38;5;28;01mdef\u001b[39;00m \u001b[38;5;21msignature\u001b[39m(obj, \u001b[38;5;241m*\u001b[39m, follow_wrapped\u001b[38;5;241m=\u001b[39m\u001b[38;5;28;01mTrue\u001b[39;00m, \u001b[38;5;28mglobals\u001b[39m\u001b[38;5;241m=\u001b[39m\u001b[38;5;28;01mNone\u001b[39;00m, \u001b[38;5;28mlocals\u001b[39m\u001b[38;5;241m=\u001b[39m\u001b[38;5;28;01mNone\u001b[39;00m, eval_str\u001b[38;5;241m=\u001b[39m\u001b[38;5;28;01mFalse\u001b[39;00m):\n\u001b[1;32m   3340\u001b[0m \u001b[38;5;250m    \u001b[39m\u001b[38;5;124;03m\"\"\"Get a signature object for the passed callable.\"\"\"\u001b[39;00m\n\u001b[0;32m-> 3341\u001b[0m     \u001b[38;5;28;01mreturn\u001b[39;00m Signature\u001b[38;5;241m.\u001b[39mfrom_callable(obj, follow_wrapped\u001b[38;5;241m=\u001b[39mfollow_wrapped,\n\u001b[1;32m   3342\u001b[0m                                    \u001b[38;5;28mglobals\u001b[39m\u001b[38;5;241m=\u001b[39m\u001b[38;5;28mglobals\u001b[39m, \u001b[38;5;28mlocals\u001b[39m\u001b[38;5;241m=\u001b[39m\u001b[38;5;28mlocals\u001b[39m, eval_str\u001b[38;5;241m=\u001b[39meval_str)\n",
      "File \u001b[0;32m~/miniconda3/envs/finalp/lib/python3.12/inspect.py:3081\u001b[0m, in \u001b[0;36mSignature.from_callable\u001b[0;34m(cls, obj, follow_wrapped, globals, locals, eval_str)\u001b[0m\n\u001b[1;32m   3077\u001b[0m \u001b[38;5;129m@classmethod\u001b[39m\n\u001b[1;32m   3078\u001b[0m \u001b[38;5;28;01mdef\u001b[39;00m \u001b[38;5;21mfrom_callable\u001b[39m(\u001b[38;5;28mcls\u001b[39m, obj, \u001b[38;5;241m*\u001b[39m,\n\u001b[1;32m   3079\u001b[0m                   follow_wrapped\u001b[38;5;241m=\u001b[39m\u001b[38;5;28;01mTrue\u001b[39;00m, \u001b[38;5;28mglobals\u001b[39m\u001b[38;5;241m=\u001b[39m\u001b[38;5;28;01mNone\u001b[39;00m, \u001b[38;5;28mlocals\u001b[39m\u001b[38;5;241m=\u001b[39m\u001b[38;5;28;01mNone\u001b[39;00m, eval_str\u001b[38;5;241m=\u001b[39m\u001b[38;5;28;01mFalse\u001b[39;00m):\n\u001b[1;32m   3080\u001b[0m \u001b[38;5;250m    \u001b[39m\u001b[38;5;124;03m\"\"\"Constructs Signature for the given callable object.\"\"\"\u001b[39;00m\n\u001b[0;32m-> 3081\u001b[0m     \u001b[38;5;28;01mreturn\u001b[39;00m _signature_from_callable(obj, sigcls\u001b[38;5;241m=\u001b[39m\u001b[38;5;28mcls\u001b[39m,\n\u001b[1;32m   3082\u001b[0m                                     follow_wrapper_chains\u001b[38;5;241m=\u001b[39mfollow_wrapped,\n\u001b[1;32m   3083\u001b[0m                                     \u001b[38;5;28mglobals\u001b[39m\u001b[38;5;241m=\u001b[39m\u001b[38;5;28mglobals\u001b[39m, \u001b[38;5;28mlocals\u001b[39m\u001b[38;5;241m=\u001b[39m\u001b[38;5;28mlocals\u001b[39m, eval_str\u001b[38;5;241m=\u001b[39meval_str)\n",
      "File \u001b[0;32m~/miniconda3/envs/finalp/lib/python3.12/inspect.py:2526\u001b[0m, in \u001b[0;36m_signature_from_callable\u001b[0;34m(obj, follow_wrapper_chains, skip_bound_arg, globals, locals, eval_str, sigcls)\u001b[0m\n\u001b[1;32m   2523\u001b[0m sig \u001b[38;5;241m=\u001b[39m _get_signature_of(obj\u001b[38;5;241m.\u001b[39m\u001b[38;5;18m__func__\u001b[39m)\n\u001b[1;32m   2525\u001b[0m \u001b[38;5;28;01mif\u001b[39;00m skip_bound_arg:\n\u001b[0;32m-> 2526\u001b[0m     \u001b[38;5;28;01mreturn\u001b[39;00m _signature_bound_method(sig)\n\u001b[1;32m   2527\u001b[0m \u001b[38;5;28;01melse\u001b[39;00m:\n\u001b[1;32m   2528\u001b[0m     \u001b[38;5;28;01mreturn\u001b[39;00m sig\n",
      "File \u001b[0;32m~/miniconda3/envs/finalp/lib/python3.12/inspect.py:2143\u001b[0m, in \u001b[0;36m_signature_bound_method\u001b[0;34m(sig)\u001b[0m\n\u001b[1;32m   2139\u001b[0m         \u001b[38;5;28;01mraise\u001b[39;00m \u001b[38;5;167;01mValueError\u001b[39;00m(\u001b[38;5;124m'\u001b[39m\u001b[38;5;124minvalid argument type\u001b[39m\u001b[38;5;124m'\u001b[39m)\n\u001b[1;32m   2140\u001b[0m     \u001b[38;5;66;03m# It's a var-positional parameter.\u001b[39;00m\n\u001b[1;32m   2141\u001b[0m     \u001b[38;5;66;03m# Do nothing. '(*args[, ...])' -> '(*args[, ...])'\u001b[39;00m\n\u001b[0;32m-> 2143\u001b[0m \u001b[38;5;28;01mreturn\u001b[39;00m sig\u001b[38;5;241m.\u001b[39mreplace(parameters\u001b[38;5;241m=\u001b[39mparams)\n",
      "File \u001b[0;32m~/miniconda3/envs/finalp/lib/python3.12/inspect.py:3105\u001b[0m, in \u001b[0;36mSignature.replace\u001b[0;34m(self, parameters, return_annotation)\u001b[0m\n\u001b[1;32m   3102\u001b[0m \u001b[38;5;28;01mif\u001b[39;00m return_annotation \u001b[38;5;129;01mis\u001b[39;00m _void:\n\u001b[1;32m   3103\u001b[0m     return_annotation \u001b[38;5;241m=\u001b[39m \u001b[38;5;28mself\u001b[39m\u001b[38;5;241m.\u001b[39m_return_annotation\n\u001b[0;32m-> 3105\u001b[0m \u001b[38;5;28;01mreturn\u001b[39;00m \u001b[38;5;28mtype\u001b[39m(\u001b[38;5;28mself\u001b[39m)(parameters,\n\u001b[1;32m   3106\u001b[0m                   return_annotation\u001b[38;5;241m=\u001b[39mreturn_annotation)\n",
      "\u001b[0;31mKeyboardInterrupt\u001b[0m: "
     ]
    }
   ],
   "source": [
    "for topic in topic_list:\n",
    "    a = topic[\"topics\"]\n",
    "    for topic2 in topic_list:\n",
    "        b = topic2[\"topics\"]\n",
    "        \n",
    "        pair = (a,b)\n",
    "        \n",
    "        tokens = tokenizer(pair, return_tensors='tf',padding=True)\n",
    "        with torch.no_grad():\n",
    "            outputs = model(**tokens)\n",
    "        \n",
    "        # Extract embeddings for the [CLS] token\n",
    "        cls_embedding = outputs.last_hidden_state[:, 0, :]\n",
    "        \n",
    "        similarity = tf.keras.losses.cosine_similarity(cls_embedding[0], cls_embedding[1], axis=-1)\n",
    "        #similarity = np.abs(similarity)\n",
    "        print(pair, similarity) "
   ]
  },
  {
   "cell_type": "markdown",
   "id": "bf76579f-d815-4b05-812a-f58692410209",
   "metadata": {},
   "source": [
    "## Reducing topics with embeddings"
   ]
  },
  {
   "cell_type": "code",
   "execution_count": 242,
   "id": "16ef84ea-d3ed-4500-a23b-b7d41d76b7db",
   "metadata": {},
   "outputs": [],
   "source": [
    "#!pip install transformers\n",
    "#!pip install torch\n",
    "#!pip install tf-keras"
   ]
  },
  {
   "cell_type": "code",
   "execution_count": null,
   "id": "9082cc0e-9c32-4a1d-b206-ca44dddd0c7d",
   "metadata": {},
   "outputs": [],
   "source": [
    "#adapted from https://www.geeksforgeeks.org/word-embeddings-in-nlp/"
   ]
  },
  {
   "cell_type": "code",
   "execution_count": 243,
   "id": "d5ef8535-d6f1-4ab7-b28a-10cbd441013b",
   "metadata": {},
   "outputs": [],
   "source": [
    "from transformers import BertTokenizer, TFBertModel\n",
    "import torch"
   ]
  },
  {
   "cell_type": "code",
   "execution_count": 244,
   "id": "ef656a08-52cd-4e78-ae9e-b2904ad3f88e",
   "metadata": {
    "scrolled": true
   },
   "outputs": [
    {
     "data": {
      "application/vnd.jupyter.widget-view+json": {
       "model_id": "a7a7618874d04563bde5d3de294a9730",
       "version_major": 2,
       "version_minor": 0
      },
      "text/plain": [
       "model.safetensors:   0%|          | 0.00/440M [00:00<?, ?B/s]"
      ]
     },
     "metadata": {},
     "output_type": "display_data"
    },
    {
     "name": "stderr",
     "output_type": "stream",
     "text": [
      "Some weights of the PyTorch model were not used when initializing the TF 2.0 model TFBertModel: ['cls.predictions.bias', 'cls.predictions.transform.dense.bias', 'cls.predictions.transform.LayerNorm.bias', 'cls.predictions.transform.LayerNorm.weight', 'cls.predictions.transform.dense.weight', 'cls.seq_relationship.weight', 'cls.seq_relationship.bias']\n",
      "- This IS expected if you are initializing TFBertModel from a PyTorch model trained on another task or with another architecture (e.g. initializing a TFBertForSequenceClassification model from a BertForPreTraining model).\n",
      "- This IS NOT expected if you are initializing TFBertModel from a PyTorch model that you expect to be exactly identical (e.g. initializing a TFBertForSequenceClassification model from a BertForSequenceClassification model).\n",
      "All the weights of TFBertModel were initialized from the PyTorch model.\n",
      "If your task is similar to the task the model of the checkpoint was trained on, you can already use TFBertModel for predictions without further training.\n"
     ]
    }
   ],
   "source": [
    "# Load pre-trained BERT model and tokenizer\n",
    "model_name = 'bert-base-uncased'\n",
    "tokenizer = BertTokenizer.from_pretrained(model_name)\n",
    "model = TFBertModel.from_pretrained(model_name)"
   ]
  },
  {
   "cell_type": "code",
   "execution_count": 245,
   "id": "232c1a1f-95dc-465e-a914-9e34fd516e46",
   "metadata": {},
   "outputs": [],
   "source": [
    "word_pairs = [('learn', 'learning'), ('india', 'indian'), ('fame', 'famous')]"
   ]
  },
  {
   "cell_type": "code",
   "execution_count": 250,
   "id": "bef1979f-15f5-4bc5-bb78-ad761b45a9e6",
   "metadata": {},
   "outputs": [],
   "source": [
    "import tensorflow as tf"
   ]
  },
  {
   "cell_type": "code",
   "execution_count": 254,
   "id": "aa88864b-7620-42e7-980d-697c9feeb7e2",
   "metadata": {},
   "outputs": [
    {
     "name": "stdout",
     "output_type": "stream",
     "text": [
      "Similarity between 'learn' and 'learning' using BERT: -0.930\n",
      "Similarity between 'india' and 'indian' using BERT: -0.957\n",
      "Similarity between 'fame' and 'famous' using BERT: -0.956\n"
     ]
    }
   ],
   "source": [
    "# Compute similarity for each pair of words\n",
    "for pair in word_pairs:\n",
    "\ttokens = tokenizer(pair, return_tensors='tf')\n",
    "\twith torch.no_grad():\n",
    "\t\toutputs = model(**tokens)\n",
    "\t\n",
    "\t# Extract embeddings for the [CLS] token\n",
    "\tcls_embedding = outputs.last_hidden_state[:, 0, :]\n",
    "\n",
    "\tsimilarity = tf.keras.losses.cosine_similarity(cls_embedding[0], cls_embedding[1], axis=-1)\n",
    "\t\n",
    "\tprint(f\"Similarity between '{pair[0]}' and '{pair[1]}' using BERT: {similarity:.3f}\")\n"
   ]
  },
  {
   "cell_type": "code",
   "execution_count": null,
   "id": "6461e442-afa5-40d9-8cea-20c96b307ff1",
   "metadata": {},
   "outputs": [],
   "source": []
  }
 ],
 "metadata": {
  "kernelspec": {
   "display_name": "Python 3 (ipykernel)",
   "language": "python",
   "name": "python3"
  },
  "language_info": {
   "codemirror_mode": {
    "name": "ipython",
    "version": 3
   },
   "file_extension": ".py",
   "mimetype": "text/x-python",
   "name": "python",
   "nbconvert_exporter": "python",
   "pygments_lexer": "ipython3",
   "version": "3.12.8"
  }
 },
 "nbformat": 4,
 "nbformat_minor": 5
}
