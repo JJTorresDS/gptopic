{
 "cells": [
  {
   "cell_type": "markdown",
   "id": "e3744d68-7878-4c13-8eb9-097b307b7519",
   "metadata": {},
   "source": [
    "## Fetch data from google play api"
   ]
  },
  {
   "cell_type": "markdown",
   "id": "3e9f71c3-fe58-4032-96d5-d20cfb238d06",
   "metadata": {},
   "source": [
    "Get data from google play API."
   ]
  },
  {
   "cell_type": "code",
   "execution_count": 1,
   "id": "b70ad82d-b4f9-4c51-9d82-be19f22a5f1c",
   "metadata": {},
   "outputs": [],
   "source": [
    "#!pip install google-play-scraper\n",
    "#!pip install numpy pandas\n",
    "from utils.utils import get_google_play_reviews\n",
    "import numpy as np\n",
    "import pandas as pd"
   ]
  },
  {
   "cell_type": "code",
   "execution_count": 2,
   "id": "dfc9467f-5b94-4d64-a5e3-086b6f4bc449",
   "metadata": {},
   "outputs": [],
   "source": [
    "apps = ['com.binance.dev', 'co.mona.android', 'com.bybit.app']"
   ]
  },
  {
   "cell_type": "markdown",
   "id": "7cf2d130-27a1-4e66-987d-c777c5be2763",
   "metadata": {},
   "source": [
    "I selected crypto apps since that is the scope of my project:\n",
    "\n",
    "* Binance: ['com.binance.dev'](https://play.google.com/store/apps/details?id=com.binance.dev)\n",
    "* Crypto.com: ['co.mona.android'](https://play.google.com/store/apps/details?id=co.mona.android)\n",
    "* Bybit: ['com.bybit.app'](https://play.google.com/store/apps/details?id=com.bybit.app)\n",
    "\n",
    "I used a the [google-play-scraper](docs: https://pypi.org/project/google-play-scraper/) library to get the data from these apps."
   ]
  },
  {
   "cell_type": "markdown",
   "id": "30368e4c-114f-46d1-b59e-1ef399efab67",
   "metadata": {},
   "source": [
    "## Getting the data"
   ]
  },
  {
   "cell_type": "markdown",
   "id": "9f7ea6f1-8689-48cd-a09d-1cc6640edbc8",
   "metadata": {},
   "source": [
    "The code below extracts reviews from the 3 apps mentioned above.\n",
    "\n",
    "Reviews with negative comments (1-3 stars) are oversampled since positive reviews tend to have text with little meaning (e.g Great!!, Nice app!!, Great Product!!)"
   ]
  },
  {
   "cell_type": "code",
   "execution_count": 3,
   "id": "845f0233-3999-4577-a7dd-fb6634d342b9",
   "metadata": {},
   "outputs": [],
   "source": [
    "all_reviews = []\n",
    "for app in apps:\n",
    "    #oversample negative reviews\n",
    "    for i in range(1,3):\n",
    "        result = get_google_play_reviews(app, count=200, filter_score_with=i)\n",
    "        temp_df = pd.DataFrame(get_google_play_reviews(app, count=200, filter_score_with=i))\n",
    "        temp_df[\"app\"] = app\n",
    "        \n",
    "        all_reviews.append(temp_df)\n",
    "\n",
    "    \n",
    "    result = get_google_play_reviews(app, count=200)\n",
    "    temp_df = pd.DataFrame(result)\n",
    "    temp_df[\"app\"] = app\n",
    "        \n",
    "    all_reviews.append(temp_df)\n",
    "df = pd.concat(all_reviews)"
   ]
  },
  {
   "cell_type": "code",
   "execution_count": 4,
   "id": "eadd1f53-20a5-4d3a-9882-5bd428fa6d56",
   "metadata": {
    "scrolled": true
   },
   "outputs": [
    {
     "data": {
      "text/plain": [
       "(1800, 12)"
      ]
     },
     "execution_count": 4,
     "metadata": {},
     "output_type": "execute_result"
    }
   ],
   "source": [
    "df.shape"
   ]
  },
  {
   "cell_type": "markdown",
   "id": "2cc5283b-818b-4f27-b902-dc3782c393f5",
   "metadata": {},
   "source": [
    "## Save the data locally"
   ]
  },
  {
   "cell_type": "markdown",
   "id": "80cad1aa-9970-4944-b19f-dbff55d550b7",
   "metadata": {},
   "source": [
    "Code block below is commented to avoid overwriting the data used in the project.\n",
    "By using the same data, users should be able to reproduce the results of the Project´s prototyping phase."
   ]
  },
  {
   "cell_type": "code",
   "execution_count": 5,
   "id": "91c0931c-c775-4191-940a-234137dfe228",
   "metadata": {},
   "outputs": [],
   "source": [
    "#df.to_csv(\"data/1.crypto_apps_reviews_raw_n.csv\", index=False)"
   ]
  },
  {
   "cell_type": "code",
   "execution_count": null,
   "id": "86834b1d-4f85-4679-ac60-f187db7d5655",
   "metadata": {},
   "outputs": [],
   "source": []
  }
 ],
 "metadata": {
  "kernelspec": {
   "display_name": "uol_project",
   "language": "python",
   "name": "uol_project"
  },
  "language_info": {
   "codemirror_mode": {
    "name": "ipython",
    "version": 3
   },
   "file_extension": ".py",
   "mimetype": "text/x-python",
   "name": "python",
   "nbconvert_exporter": "python",
   "pygments_lexer": "ipython3",
   "version": "3.12.8"
  }
 },
 "nbformat": 4,
 "nbformat_minor": 5
}
