{
 "cells": [
  {
   "cell_type": "code",
   "execution_count": 2,
   "id": "8da557f2-99b5-4109-9f89-5a82c5dc8d15",
   "metadata": {
    "scrolled": true
   },
   "outputs": [],
   "source": [
    "import pandas as pd\n",
    "import numpy as np\n",
    "import time\n",
    "\n",
    "import os\n",
    "\n",
    "pd.set_option('display.max_colwidth', None)\n",
    "\n",
    "from collections import Counter\n",
    "\n",
    "from bertopic import BERTopic"
   ]
  },
  {
   "cell_type": "markdown",
   "id": "9de9caf6-4ca6-4c09-8e18-994a2410d29d",
   "metadata": {},
   "source": [
    "## Import data"
   ]
  },
  {
   "cell_type": "code",
   "execution_count": 3,
   "id": "11c1402a-f1bc-4f5d-8ca5-0e784a4508c5",
   "metadata": {},
   "outputs": [],
   "source": [
    "path = \"./data/\""
   ]
  },
  {
   "cell_type": "code",
   "execution_count": 4,
   "id": "547c1dd6-3745-4388-a9f3-bdf5dcd0346d",
   "metadata": {},
   "outputs": [],
   "source": [
    "df = pd.read_csv(path+\"/4.tagged_reviews_sample_verified.csv\")"
   ]
  },
  {
   "cell_type": "code",
   "execution_count": 5,
   "id": "ca8d931d-1319-4911-af66-ec7d9c9164e0",
   "metadata": {},
   "outputs": [
    {
     "data": {
      "text/plain": [
       "array(['co.mona.android', 'com.bybit.app', 'com.binance.dev'],\n",
       "      dtype=object)"
      ]
     },
     "execution_count": 5,
     "metadata": {},
     "output_type": "execute_result"
    }
   ],
   "source": [
    "df[\"app\"].unique()"
   ]
  },
  {
   "cell_type": "code",
   "execution_count": 6,
   "id": "3a6463a1-2ec4-49e4-b86a-1fdf8deba4a6",
   "metadata": {},
   "outputs": [],
   "source": [
    "binance_index = df[\"app\"]== \"com.binance.dev\"\n",
    "crypto_index = df[\"app\"]== \"co.mona.android\"\n",
    "bybit_index = df[\"app\"]== 'com.bybit.app'"
   ]
  },
  {
   "cell_type": "code",
   "execution_count": 7,
   "id": "f48c55e2-1add-4134-9dca-0a0d797798cd",
   "metadata": {},
   "outputs": [],
   "source": [
    "df_binance = df[binance_index].copy()\n",
    "df_crypto = df[crypto_index].copy()\n",
    "df_bybit = df[bybit_index].copy()"
   ]
  },
  {
   "cell_type": "code",
   "execution_count": 8,
   "id": "3a33b995-c16d-4e38-8589-e7f5200340af",
   "metadata": {
    "scrolled": true
   },
   "outputs": [
    {
     "name": "stdout",
     "output_type": "stream",
     "text": [
      "Binance # rows: 88\n",
      "Crypto.com # rows: 146\n",
      "Bybit # rows: 65\n"
     ]
    }
   ],
   "source": [
    "print(\"Binance # rows:\", df_binance.shape[0])\n",
    "print(\"Crypto.com # rows:\", df_crypto.shape[0])\n",
    "print(\"Bybit # rows:\", df_bybit.shape[0])"
   ]
  },
  {
   "cell_type": "markdown",
   "id": "b9181fed-9c2a-489f-83e4-27b045572468",
   "metadata": {},
   "source": [
    "## BERTopic"
   ]
  },
  {
   "cell_type": "code",
   "execution_count": 9,
   "id": "41c55f18-3501-4568-8f5a-3bcfb96b98a3",
   "metadata": {},
   "outputs": [],
   "source": [
    "topic_model = BERTopic()"
   ]
  },
  {
   "cell_type": "code",
   "execution_count": 10,
   "id": "710d6815-bc1b-4206-98da-15c1db19630e",
   "metadata": {
    "scrolled": true
   },
   "outputs": [
    {
     "data": {
      "application/vnd.jupyter.widget-view+json": {
       "model_id": "12ae7aec8f854b56802b95be171525a6",
       "version_major": 2,
       "version_minor": 0
      },
      "text/plain": [
       "README.md:   0%|          | 0.00/10.5k [00:00<?, ?B/s]"
      ]
     },
     "metadata": {},
     "output_type": "display_data"
    },
    {
     "name": "stderr",
     "output_type": "stream",
     "text": [
      "OMP: Info #276: omp_set_nested routine deprecated, please use omp_set_max_active_levels instead.\n"
     ]
    }
   ],
   "source": [
    "topics, probs = topic_model.fit_transform(df_crypto.content)"
   ]
  },
  {
   "cell_type": "markdown",
   "id": "6ae358d3-b93b-4ca7-aca0-d02cff7bf145",
   "metadata": {},
   "source": [
    "I run an LLM against a dataset and manually checked the labels. The LLM achieved an accuracy of 89% (basically, I agreed with the LLM´s topic assignment, 89% of the time).\n",
    "\n",
    "Below is the topic distribution and topic titles that the LLM chose after prompting it."
   ]
  },
  {
   "cell_type": "code",
   "execution_count": 13,
   "id": "1e6d4888-9286-4e7f-97c6-1dd0fc5b8682",
   "metadata": {},
   "outputs": [
    {
     "data": {
      "text/html": [
       "<div>\n",
       "<style scoped>\n",
       "    .dataframe tbody tr th:only-of-type {\n",
       "        vertical-align: middle;\n",
       "    }\n",
       "\n",
       "    .dataframe tbody tr th {\n",
       "        vertical-align: top;\n",
       "    }\n",
       "\n",
       "    .dataframe thead th {\n",
       "        text-align: right;\n",
       "    }\n",
       "</style>\n",
       "<table border=\"1\" class=\"dataframe\">\n",
       "  <thead>\n",
       "    <tr style=\"text-align: right;\">\n",
       "      <th></th>\n",
       "      <th>gemini_llm_topic</th>\n",
       "      <th>count</th>\n",
       "    </tr>\n",
       "  </thead>\n",
       "  <tbody>\n",
       "    <tr>\n",
       "      <th>0</th>\n",
       "      <td>Usability/UI/UX</td>\n",
       "      <td>31</td>\n",
       "    </tr>\n",
       "    <tr>\n",
       "      <th>1</th>\n",
       "      <td>Reliability/Stability</td>\n",
       "      <td>26</td>\n",
       "    </tr>\n",
       "    <tr>\n",
       "      <th>2</th>\n",
       "      <td>Transaction Fees/Speed</td>\n",
       "      <td>23</td>\n",
       "    </tr>\n",
       "    <tr>\n",
       "      <th>3</th>\n",
       "      <td>Customer Support</td>\n",
       "      <td>20</td>\n",
       "    </tr>\n",
       "    <tr>\n",
       "      <th>4</th>\n",
       "      <td>Account Management</td>\n",
       "      <td>19</td>\n",
       "    </tr>\n",
       "    <tr>\n",
       "      <th>5</th>\n",
       "      <td>Verification/KYC/AML Processes</td>\n",
       "      <td>11</td>\n",
       "    </tr>\n",
       "    <tr>\n",
       "      <th>6</th>\n",
       "      <td>Generic feedback</td>\n",
       "      <td>6</td>\n",
       "    </tr>\n",
       "    <tr>\n",
       "      <th>7</th>\n",
       "      <td>Features/Functionality</td>\n",
       "      <td>3</td>\n",
       "    </tr>\n",
       "    <tr>\n",
       "      <th>8</th>\n",
       "      <td>Educational Resources/Onboarding</td>\n",
       "      <td>3</td>\n",
       "    </tr>\n",
       "    <tr>\n",
       "      <th>9</th>\n",
       "      <td>Security</td>\n",
       "      <td>2</td>\n",
       "    </tr>\n",
       "    <tr>\n",
       "      <th>10</th>\n",
       "      <td>Wallet Security/Integration</td>\n",
       "      <td>1</td>\n",
       "    </tr>\n",
       "    <tr>\n",
       "      <th>11</th>\n",
       "      <td>Privacy</td>\n",
       "      <td>1</td>\n",
       "    </tr>\n",
       "  </tbody>\n",
       "</table>\n",
       "</div>"
      ],
      "text/plain": [
       "                    gemini_llm_topic  count\n",
       "0                    Usability/UI/UX     31\n",
       "1              Reliability/Stability     26\n",
       "2             Transaction Fees/Speed     23\n",
       "3                   Customer Support     20\n",
       "4                 Account Management     19\n",
       "5     Verification/KYC/AML Processes     11\n",
       "6                   Generic feedback      6\n",
       "7             Features/Functionality      3\n",
       "8   Educational Resources/Onboarding      3\n",
       "9                           Security      2\n",
       "10       Wallet Security/Integration      1\n",
       "11                           Privacy      1"
      ]
     },
     "execution_count": 13,
     "metadata": {},
     "output_type": "execute_result"
    }
   ],
   "source": [
    "df_crypto.gemini_llm_topic.value_counts().reset_index()"
   ]
  },
  {
   "cell_type": "markdown",
   "id": "a0489b5d-8a50-4119-a6c8-09f989813a7b",
   "metadata": {},
   "source": [
    "Below are the topics infered by the Bertopic model."
   ]
  },
  {
   "cell_type": "code",
   "execution_count": 11,
   "id": "b97ba1fd-1464-465d-9075-aee7eda9967e",
   "metadata": {},
   "outputs": [
    {
     "data": {
      "text/html": [
       "<div>\n",
       "<style scoped>\n",
       "    .dataframe tbody tr th:only-of-type {\n",
       "        vertical-align: middle;\n",
       "    }\n",
       "\n",
       "    .dataframe tbody tr th {\n",
       "        vertical-align: top;\n",
       "    }\n",
       "\n",
       "    .dataframe thead th {\n",
       "        text-align: right;\n",
       "    }\n",
       "</style>\n",
       "<table border=\"1\" class=\"dataframe\">\n",
       "  <thead>\n",
       "    <tr style=\"text-align: right;\">\n",
       "      <th></th>\n",
       "      <th>Topic</th>\n",
       "      <th>Count</th>\n",
       "      <th>Name</th>\n",
       "      <th>Representation</th>\n",
       "      <th>Representative_Docs</th>\n",
       "    </tr>\n",
       "  </thead>\n",
       "  <tbody>\n",
       "    <tr>\n",
       "      <th>0</th>\n",
       "      <td>-1</td>\n",
       "      <td>63</td>\n",
       "      <td>-1_the_to_it_and</td>\n",
       "      <td>[the, to, it, and, my, you, app, for, in, of]</td>\n",
       "      <td>[Extremely frustrating! Won't even properly catch my photo.I.D the only time it will take the photo is at a ridiculous angle that does not capture the majority of the ID and then persist to mock you exclaiming that it cannot accept a cut off. I. D because of the location it demands you snap from. Please put in an actual usable button. So we can physically take the photo ourselves. The AI does not work! I attempted with multiple devices thinking that maybe it was because of my device but no., It has its pro's and con's. Used to be my favorite exchange, because if all the varieties of coins, the other top exchanges don't have. You also get a bank account and debit card with it so you can use your crypto for purchases and get your check deposited which I love. But the fees to sell or change coins are pretty steep, on coin base you can swap for free. Also I loved this app because you could make and sell nft's for free but the nft creator is still broken and it's been months., I am trying to open my crypto, BUT the app keeps locking me out... this app is useless. I guess I will open another app other than crypto. And there is no way to get help... I put in the code that they send me, and it won't take it.... AND now you tell me to live chat you???? HOW? I can't get on the app dummies]</td>\n",
       "    </tr>\n",
       "    <tr>\n",
       "      <th>1</th>\n",
       "      <td>0</td>\n",
       "      <td>36</td>\n",
       "      <td>0_app_the_to_it</td>\n",
       "      <td>[app, the, to, it, and, is, update, this, you, on]</td>\n",
       "      <td>[The app is still junk. The same problems for over two years. Trying to top up my debit card always requires me to shut down the app and restart. Don't ask me my phone make/model or tell me it's a problem with my phone ... It's been like that what different phones. The other nuisance is the forced updates... FFS give us a heads up beforehand. Don't just lock us out of the bloody app. It's so frustrating. And why does it need more than 2Gb of storage space to update with a 45Mb update? Grr, Well, the app is super slow, but at least it works again since the problematic update a while back. The constant \"must update to continue using the app\" is EXTREMELY annoying. I don't care if i miss 1 or 2 features, i just want to check on my crypto for once without being nagged to update. Now if an update made the app faster or better again, maybe I'd be interested. But nothing changes. This has been posted a long time, so from now on, every time I get nagged to update,this review loses a star., You know every time you do an update I keep thinking you're going to fix the app and you never do, if I leave it on in the background it errors, nothing responds, menus will not work at all, the UI doesn't function, it lags and freezes up constantly it's been going on for over a year. One thing you did right was the updates are updates now and no longer download the entire app instead of updating. Every time you update the app, the exact same thing, are you developers lazy, or just useless?]</td>\n",
       "    </tr>\n",
       "    <tr>\n",
       "      <th>2</th>\n",
       "      <td>1</td>\n",
       "      <td>23</td>\n",
       "      <td>1_fees_and_the_to</td>\n",
       "      <td>[fees, and, the, to, they, when, is, you, exchange, it]</td>\n",
       "      <td>[They literally scamming you. They show live prices of the tokens and when you sell they make it 10% less, but if you buy it they'll make 5% higher . It's a fraud , don't recommend anyone. And it's not coz if the market price change or any other factor, I had multiple such cases and every time on any exchange / market price was hig6and stable, but they make the swap/sell transaction with 10% lower rate., I'm a newcomer to crypto, and I'm extremely disappointed with the hidden fees. I made profits on all my crypto trades, but the fees were so astronomical I lost money. Not to mention high fees when I sent money to meta wallet for other purposes. I don't recommend this platform for traders., Horrible. When u buy the price is 20 cents higher, when u sell it's 15 cents lower. No fees? All hidden fees! They're scammers! They said the price is lower when u sell due to lack of liquidity! Always an issue, now I can't withdraw to my bank and they're telling me to update the app, sign out and sign in instead of actually doing their job and seeing what the issue it to fix it. The customer service guy I'm talking to for one hour about withdrawal issue is confused and lazy.]</td>\n",
       "    </tr>\n",
       "    <tr>\n",
       "      <th>3</th>\n",
       "      <td>2</td>\n",
       "      <td>13</td>\n",
       "      <td>2_to_my_and_the</td>\n",
       "      <td>[to, my, and, the, app, card, this, service, is, you]</td>\n",
       "      <td>[Was a good app until a little over a month ago when I tried to setup my fiat wallet. 30 plus days of an internal review and still no resolution. In case you're not familiar, you need fiat to withdraw your money. Asked to transfer my crypto to Coinbase or another platform but I was told I have to wait this long drawn out review of 2 documents with my SSN and License. Maybe I'll be able to with draw in the next 4 years. Just a reply to response to my review. That's who I've been in contact with., Horrible app. Slow and doesn't work properly. My credit card was declined and when I called my bank why my credit card wasn't working apparently crypto. Com has been trying to charge my credit card. Also, half of the time the app doesnt work at it tell me to contact customer service through the app. But I can't contact customer service since the app doesn't work. There are so many other crypto apps that works better and have better fees. Don't bother with this one. Scams and no help., Terrible customer service. Youre lucky to get a hold of support and then once you leave the convo, you can't go back. They denied service to my debit card out of nowhere. I've been using this app for over a year and have had a few problems along the way, and just recently they blocked my access to using their service via debit card, and that's the only way I have been able to use the app. So due to that I removed all of my holdings and replaced it with a place that actually accepts my money.]</td>\n",
       "    </tr>\n",
       "    <tr>\n",
       "      <th>4</th>\n",
       "      <td>3</td>\n",
       "      <td>11</td>\n",
       "      <td>3_easy_very_use_to</td>\n",
       "      <td>[easy, very, use, to, super, 2017, helpful, decent, amazing, fast]</td>\n",
       "      <td>[very easy to use, so simple to enter into the shares market, easy to use, Super easy to use, very helpful customer service.]</td>\n",
       "    </tr>\n",
       "  </tbody>\n",
       "</table>\n",
       "</div>"
      ],
      "text/plain": [
       "   Topic  Count                Name  \\\n",
       "0     -1     63    -1_the_to_it_and   \n",
       "1      0     36     0_app_the_to_it   \n",
       "2      1     23   1_fees_and_the_to   \n",
       "3      2     13     2_to_my_and_the   \n",
       "4      3     11  3_easy_very_use_to   \n",
       "\n",
       "                                                       Representation  \\\n",
       "0                       [the, to, it, and, my, you, app, for, in, of]   \n",
       "1                  [app, the, to, it, and, is, update, this, you, on]   \n",
       "2             [fees, and, the, to, they, when, is, you, exchange, it]   \n",
       "3               [to, my, and, the, app, card, this, service, is, you]   \n",
       "4  [easy, very, use, to, super, 2017, helpful, decent, amazing, fast]   \n",
       "\n",
       "                                                                                                                                                                                                                                                                                                                                                                                                                                                                                                                                                                                                                                                                                                                                                                                                                                                                                                                                                                                                                                                                                                                                                                                                                                                                                                                                                                                                                                                                                                                                     Representative_Docs  \n",
       "0                                                                                                                                                                                                   [Extremely frustrating! Won't even properly catch my photo.I.D the only time it will take the photo is at a ridiculous angle that does not capture the majority of the ID and then persist to mock you exclaiming that it cannot accept a cut off. I. D because of the location it demands you snap from. Please put in an actual usable button. So we can physically take the photo ourselves. The AI does not work! I attempted with multiple devices thinking that maybe it was because of my device but no., It has its pro's and con's. Used to be my favorite exchange, because if all the varieties of coins, the other top exchanges don't have. You also get a bank account and debit card with it so you can use your crypto for purchases and get your check deposited which I love. But the fees to sell or change coins are pretty steep, on coin base you can swap for free. Also I loved this app because you could make and sell nft's for free but the nft creator is still broken and it's been months., I am trying to open my crypto, BUT the app keeps locking me out... this app is useless. I guess I will open another app other than crypto. And there is no way to get help... I put in the code that they send me, and it won't take it.... AND now you tell me to live chat you???? HOW? I can't get on the app dummies]  \n",
       "1  [The app is still junk. The same problems for over two years. Trying to top up my debit card always requires me to shut down the app and restart. Don't ask me my phone make/model or tell me it's a problem with my phone ... It's been like that what different phones. The other nuisance is the forced updates... FFS give us a heads up beforehand. Don't just lock us out of the bloody app. It's so frustrating. And why does it need more than 2Gb of storage space to update with a 45Mb update? Grr, Well, the app is super slow, but at least it works again since the problematic update a while back. The constant \"must update to continue using the app\" is EXTREMELY annoying. I don't care if i miss 1 or 2 features, i just want to check on my crypto for once without being nagged to update. Now if an update made the app faster or better again, maybe I'd be interested. But nothing changes. This has been posted a long time, so from now on, every time I get nagged to update,this review loses a star., You know every time you do an update I keep thinking you're going to fix the app and you never do, if I leave it on in the background it errors, nothing responds, menus will not work at all, the UI doesn't function, it lags and freezes up constantly it's been going on for over a year. One thing you did right was the updates are updates now and no longer download the entire app instead of updating. Every time you update the app, the exact same thing, are you developers lazy, or just useless?]  \n",
       "2                                                                                                                                                                                                                                                                                                                           [They literally scamming you. They show live prices of the tokens and when you sell they make it 10% less, but if you buy it they'll make 5% higher . It's a fraud , don't recommend anyone. And it's not coz if the market price change or any other factor, I had multiple such cases and every time on any exchange / market price was hig6and stable, but they make the swap/sell transaction with 10% lower rate., I'm a newcomer to crypto, and I'm extremely disappointed with the hidden fees. I made profits on all my crypto trades, but the fees were so astronomical I lost money. Not to mention high fees when I sent money to meta wallet for other purposes. I don't recommend this platform for traders., Horrible. When u buy the price is 20 cents higher, when u sell it's 15 cents lower. No fees? All hidden fees! They're scammers! They said the price is lower when u sell due to lack of liquidity! Always an issue, now I can't withdraw to my bank and they're telling me to update the app, sign out and sign in instead of actually doing their job and seeing what the issue it to fix it. The customer service guy I'm talking to for one hour about withdrawal issue is confused and lazy.]  \n",
       "3       [Was a good app until a little over a month ago when I tried to setup my fiat wallet. 30 plus days of an internal review and still no resolution. In case you're not familiar, you need fiat to withdraw your money. Asked to transfer my crypto to Coinbase or another platform but I was told I have to wait this long drawn out review of 2 documents with my SSN and License. Maybe I'll be able to with draw in the next 4 years. Just a reply to response to my review. That's who I've been in contact with., Horrible app. Slow and doesn't work properly. My credit card was declined and when I called my bank why my credit card wasn't working apparently crypto. Com has been trying to charge my credit card. Also, half of the time the app doesnt work at it tell me to contact customer service through the app. But I can't contact customer service since the app doesn't work. There are so many other crypto apps that works better and have better fees. Don't bother with this one. Scams and no help., Terrible customer service. Youre lucky to get a hold of support and then once you leave the convo, you can't go back. They denied service to my debit card out of nowhere. I've been using this app for over a year and have had a few problems along the way, and just recently they blocked my access to using their service via debit card, and that's the only way I have been able to use the app. So due to that I removed all of my holdings and replaced it with a place that actually accepts my money.]  \n",
       "4                                                                                                                                                                                                                                                                                                                                                                                                                                                                                                                                                                                                                                                                                                                                                                                                                                                                                                                                                                                                                                                                                                                                                                                                                                                                                                                                                                                                                          [very easy to use, so simple to enter into the shares market, easy to use, Super easy to use, very helpful customer service.]  "
      ]
     },
     "execution_count": 11,
     "metadata": {},
     "output_type": "execute_result"
    }
   ],
   "source": [
    "topic_model.get_topic_info()"
   ]
  },
  {
   "cell_type": "code",
   "execution_count": null,
   "id": "59509854-b090-44ca-b3a2-de1506a9edc8",
   "metadata": {},
   "outputs": [],
   "source": []
  },
  {
   "cell_type": "code",
   "execution_count": 10,
   "id": "4473a99a-f9cf-45ce-8c21-2653580a79b5",
   "metadata": {},
   "outputs": [],
   "source": [
    "import keras_hub"
   ]
  },
  {
   "cell_type": "code",
   "execution_count": 11,
   "id": "de7c8d9f-93ea-4024-94c3-d743d2209219",
   "metadata": {},
   "outputs": [],
   "source": [
    "features = [\"The quick brown fox jumped.\", \"I forgot my homework.\"]\n",
    "labels = [0, 3]"
   ]
  },
  {
   "cell_type": "code",
   "execution_count": 13,
   "id": "34cf6fe8-f440-4ea1-8dee-24bd299d45be",
   "metadata": {},
   "outputs": [],
   "source": [
    "crypto_model = TopicNeuralNet(df_crypto.content, df_crypto.gemini_llm_topic)"
   ]
  },
  {
   "cell_type": "code",
   "execution_count": 15,
   "id": "d70644ed-215a-4313-90d0-416abd7990b7",
   "metadata": {},
   "outputs": [
    {
     "name": "stdout",
     "output_type": "stream",
     "text": [
      "Bootstrapping by a factor of 1\n",
      "Normalizing text\n",
      "Fitting text tokenizer\n",
      "Fitting label tokenizer\n",
      "Tokenizing text\n",
      "Tokenizing labels\n",
      "Passing text sequences\n",
      "Setting model architecture\n",
      "Compiled model\n",
      "Epoch 1/10\n",
      "\u001b[1m1/1\u001b[0m \u001b[32m━━━━━━━━━━━━━━━━━━━━\u001b[0m\u001b[37m\u001b[0m \u001b[1m3s\u001b[0m 3s/step - accuracy: 0.0000e+00 - loss: 2.4821 - val_accuracy: 0.1600 - val_loss: 2.4716\n",
      "Epoch 2/10\n",
      "\u001b[1m1/1\u001b[0m \u001b[32m━━━━━━━━━━━━━━━━━━━━\u001b[0m\u001b[37m\u001b[0m \u001b[1m0s\u001b[0m 115ms/step - accuracy: 0.2381 - loss: 2.4404 - val_accuracy: 0.1680 - val_loss: 2.4537\n",
      "Epoch 3/10\n",
      "\u001b[1m1/1\u001b[0m \u001b[32m━━━━━━━━━━━━━━━━━━━━\u001b[0m\u001b[37m\u001b[0m \u001b[1m0s\u001b[0m 108ms/step - accuracy: 0.2857 - loss: 2.3856 - val_accuracy: 0.1680 - val_loss: 2.4331\n",
      "Epoch 4/10\n",
      "\u001b[1m1/1\u001b[0m \u001b[32m━━━━━━━━━━━━━━━━━━━━\u001b[0m\u001b[37m\u001b[0m \u001b[1m0s\u001b[0m 188ms/step - accuracy: 0.1905 - loss: 2.3215 - val_accuracy: 0.1680 - val_loss: 2.4236\n",
      "Epoch 5/10\n",
      "\u001b[1m1/1\u001b[0m \u001b[32m━━━━━━━━━━━━━━━━━━━━\u001b[0m\u001b[37m\u001b[0m \u001b[1m0s\u001b[0m 108ms/step - accuracy: 0.2381 - loss: 2.2210 - val_accuracy: 0.1680 - val_loss: 2.4263\n",
      "Epoch 6/10\n",
      "\u001b[1m1/1\u001b[0m \u001b[32m━━━━━━━━━━━━━━━━━━━━\u001b[0m\u001b[37m\u001b[0m \u001b[1m0s\u001b[0m 119ms/step - accuracy: 0.2381 - loss: 2.1684 - val_accuracy: 0.1680 - val_loss: 2.4422\n",
      "Epoch 7/10\n",
      "\u001b[1m1/1\u001b[0m \u001b[32m━━━━━━━━━━━━━━━━━━━━\u001b[0m\u001b[37m\u001b[0m \u001b[1m0s\u001b[0m 165ms/step - accuracy: 0.2381 - loss: 2.0716 - val_accuracy: 0.1680 - val_loss: 2.4665\n",
      "Epoch 7: early stopping\n"
     ]
    }
   ],
   "source": [
    "crypto_model.fit(bootstrapping=False, preprocess=True, epochs=10, factor=100)"
   ]
  },
  {
   "cell_type": "code",
   "execution_count": 16,
   "id": "dcd7db65-53a1-4668-bb3b-b73219c01d7e",
   "metadata": {},
   "outputs": [],
   "source": [
    "features = crypto_model.df.X\n",
    "labels = crypto_model.label_sequences"
   ]
  },
  {
   "cell_type": "code",
   "execution_count": 18,
   "id": "d152014b-072e-4d54-a2e2-e87e9124cb52",
   "metadata": {},
   "outputs": [],
   "source": [
    "num_classes = len(np.unique(crypto_model.label_sequences))"
   ]
  },
  {
   "cell_type": "code",
   "execution_count": 19,
   "id": "6b930a17-ee19-4db3-9681-43079311a663",
   "metadata": {
    "scrolled": true
   },
   "outputs": [],
   "source": [
    "# Pretrained classifier.\n",
    "classifier = keras_hub.models.AlbertClassifier.from_preset(\n",
    "    \"albert_base_en_uncased\",\n",
    "    num_classes=num_classes,\n",
    ")"
   ]
  },
  {
   "cell_type": "code",
   "execution_count": 21,
   "id": "7c0c2b1b-f7e7-460b-a6c2-cde15e48a99b",
   "metadata": {},
   "outputs": [
    {
     "name": "stdout",
     "output_type": "stream",
     "text": [
      "\u001b[1m73/73\u001b[0m \u001b[32m━━━━━━━━━━━━━━━━━━━━\u001b[0m\u001b[37m\u001b[0m \u001b[1m171s\u001b[0m 2s/step - loss: 2.0138 - sparse_categorical_accuracy: 0.2641\n",
      "Trained on  146 observations\n",
      "Elapsed time:  2.85 minutes.\n"
     ]
    }
   ],
   "source": [
    "start = time.time()\n",
    "classifier.fit(x=features, y=labels, batch_size=2)\n",
    "end = time.time()\n",
    "print(\"Trained on \", crypto_model.df.shape[0] , \"observations\")\n",
    "print(\"Elapsed time: \", np.round((end-start)/60,2),\"minutes.\")"
   ]
  },
  {
   "cell_type": "code",
   "execution_count": 31,
   "id": "213dfc15-0d18-40c7-a93d-5d7f4dfcf2c8",
   "metadata": {},
   "outputs": [
    {
     "name": "stdout",
     "output_type": "stream",
     "text": [
      "\u001b[1m5/5\u001b[0m \u001b[32m━━━━━━━━━━━━━━━━━━━━\u001b[0m\u001b[37m\u001b[0m \u001b[1m63s\u001b[0m 12s/step\n"
     ]
    }
   ],
   "source": [
    "y_hat_pretrained = classifier.predict(df_crypto.content)"
   ]
  },
  {
   "cell_type": "code",
   "execution_count": 34,
   "id": "d5333093-9e25-4458-a1c0-f5ffcf646180",
   "metadata": {},
   "outputs": [],
   "source": [
    "pred_list = []\n",
    "for p in y_hat_pretrained:\n",
    "   pred_list.append(p.argmax())\n",
    "y_hats_decoded = crypto_model.le.inverse_transform(pred_list)"
   ]
  },
  {
   "cell_type": "code",
   "execution_count": 40,
   "id": "f2dae8d1-9e19-48f9-8a86-a1212140c4b6",
   "metadata": {},
   "outputs": [
    {
     "data": {
      "text/plain": [
       "Counter({'Usability/UI/UX': 124,\n",
       "         'Transaction Fees/Speed': 15,\n",
       "         'Reliability/Stability': 6,\n",
       "         'Verification/KYC/AML Processes': 1})"
      ]
     },
     "execution_count": 40,
     "metadata": {},
     "output_type": "execute_result"
    }
   ],
   "source": [
    "Counter(y_hats_decoded)"
   ]
  },
  {
   "cell_type": "code",
   "execution_count": 42,
   "id": "c5838f9c-7231-4450-bdb0-e4e2c85b8473",
   "metadata": {},
   "outputs": [
    {
     "data": {
      "text/plain": [
       "gemini_llm_topic\n",
       "Usability/UI/UX                     31\n",
       "Reliability/Stability               26\n",
       "Transaction Fees/Speed              23\n",
       "Customer Support                    20\n",
       "Account Management                  19\n",
       "Verification/KYC/AML Processes      11\n",
       "Generic feedback                     6\n",
       "Features/Functionality               3\n",
       "Educational Resources/Onboarding     3\n",
       "Security                             2\n",
       "Wallet Security/Integration          1\n",
       "Privacy                              1\n",
       "Name: count, dtype: int64"
      ]
     },
     "execution_count": 42,
     "metadata": {},
     "output_type": "execute_result"
    }
   ],
   "source": [
    "df_crypto.gemini_llm_topic.value_counts()"
   ]
  },
  {
   "cell_type": "code",
   "execution_count": 45,
   "id": "32279eed-b0e1-458a-8dcd-621a720f7a65",
   "metadata": {},
   "outputs": [
    {
     "data": {
      "text/plain": [
       "0.3424657534246575"
      ]
     },
     "execution_count": 45,
     "metadata": {},
     "output_type": "execute_result"
    }
   ],
   "source": [
    "(df_crypto.gemini_llm_topic == y_hats_decoded).mean()"
   ]
  },
  {
   "cell_type": "code",
   "execution_count": null,
   "id": "957892e5-7226-4937-9059-9cf252f0607b",
   "metadata": {},
   "outputs": [],
   "source": []
  }
 ],
 "metadata": {
  "kernelspec": {
   "display_name": "Python 3 (ipykernel)",
   "language": "python",
   "name": "python3"
  },
  "language_info": {
   "codemirror_mode": {
    "name": "ipython",
    "version": 3
   },
   "file_extension": ".py",
   "mimetype": "text/x-python",
   "name": "python",
   "nbconvert_exporter": "python",
   "pygments_lexer": "ipython3",
   "version": "3.12.8"
  }
 },
 "nbformat": 4,
 "nbformat_minor": 5
}
