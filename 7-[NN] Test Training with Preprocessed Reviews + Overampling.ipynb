{
 "cells": [
  {
   "cell_type": "code",
   "execution_count": 42,
   "id": "b65c9dd3-0765-43b0-b8f9-cb019c296910",
   "metadata": {},
   "outputs": [],
   "source": [
    "from tensorflow.keras.datasets import reuters\n",
    "import pandas as pd\n",
    "import numpy as np\n",
    "import time\n",
    "\n",
    "import os\n",
    "from dotenv import load_dotenv\n",
    "from sklearn.preprocessing import LabelEncoder\n",
    "\n",
    "from utils.utils import TopicNeuralNet\n",
    "pd.set_option('display.max_colwidth', None)"
   ]
  },
  {
   "cell_type": "markdown",
   "id": "2f5541ad-ec00-4f95-9c4a-601b7ef4c412",
   "metadata": {},
   "source": [
    "## Import data"
   ]
  },
  {
   "cell_type": "code",
   "execution_count": 43,
   "id": "83e88d42-2372-4104-90fb-88b64aafde35",
   "metadata": {},
   "outputs": [],
   "source": [
    "path = \"./data/\""
   ]
  },
  {
   "cell_type": "code",
   "execution_count": 44,
   "id": "3b7e8d8a-9632-48d5-97f7-bab51d2b2ced",
   "metadata": {},
   "outputs": [],
   "source": [
    "df = pd.read_csv(path+\"/4.tagged_reviews_sample_verified.csv\")"
   ]
  },
  {
   "cell_type": "code",
   "execution_count": 45,
   "id": "a843176f-0d5c-423d-971e-f34e38550b99",
   "metadata": {},
   "outputs": [],
   "source": [
    "hold_out_index = df[\"app\"]== \"com.binance.dev\""
   ]
  },
  {
   "cell_type": "code",
   "execution_count": 46,
   "id": "34156810-dea8-42fd-94f8-8b4ba831de7b",
   "metadata": {},
   "outputs": [],
   "source": [
    "df_holdout = df[hold_out_index].copy()\n",
    "df_r = df[~hold_out_index].copy()"
   ]
  },
  {
   "cell_type": "code",
   "execution_count": 47,
   "id": "f7d9543d-31df-43d5-8b5b-0c9cb49db360",
   "metadata": {},
   "outputs": [],
   "source": [
    "df_r = df_r.sample(df_r.shape[0] * 100, replace=True)"
   ]
  },
  {
   "cell_type": "code",
   "execution_count": 48,
   "id": "465dce55-74ce-4f41-8a45-f533c5a1fb8a",
   "metadata": {},
   "outputs": [
    {
     "data": {
      "text/plain": [
       "(21100, 17)"
      ]
     },
     "execution_count": 48,
     "metadata": {},
     "output_type": "execute_result"
    }
   ],
   "source": [
    "df_r.shape"
   ]
  },
  {
   "cell_type": "code",
   "execution_count": 49,
   "id": "04e1c2b3-a9de-4783-88b4-cd304622bce3",
   "metadata": {},
   "outputs": [
    {
     "data": {
      "text/plain": [
       "gemini_llm_topic\n",
       "Usability/UI/UX                     3582\n",
       "Reliability/Stability               3422\n",
       "Account Management                  3146\n",
       "Customer Support                    3050\n",
       "Transaction Fees/Speed              2790\n",
       "Generic feedback                    2009\n",
       "Verification/KYC/AML Processes      1400\n",
       "Features/Functionality               690\n",
       "Educational Resources/Onboarding     409\n",
       "Security                             397\n",
       "Wallet Security/Integration          109\n",
       "Privacy                               96\n",
       "Name: count, dtype: int64"
      ]
     },
     "execution_count": 49,
     "metadata": {},
     "output_type": "execute_result"
    }
   ],
   "source": [
    "df_r[\"gemini_llm_topic\"].value_counts()"
   ]
  },
  {
   "cell_type": "markdown",
   "id": "4b1e4fb4-c38e-4490-8343-ee0aa6ff5905",
   "metadata": {},
   "source": [
    "## Preprocessing"
   ]
  },
  {
   "cell_type": "code",
   "execution_count": 50,
   "id": "5e1c7dac-df9c-4e21-b8da-688035be0ceb",
   "metadata": {},
   "outputs": [],
   "source": [
    "from collections import Counter\n",
    "import string\n",
    "import nltk"
   ]
  },
  {
   "cell_type": "code",
   "execution_count": 51,
   "id": "3a8962ee-d73f-462f-8f82-6c8f2d01bf01",
   "metadata": {},
   "outputs": [],
   "source": [
    "#nlp = spacy.load('en_core_web_sm')\n",
    "#nltk.download('stopwords')\n",
    "stopwords = nltk.corpus.stopwords.words(\"english\")\n",
    "stemmer = nltk.stem.PorterStemmer()"
   ]
  },
  {
   "cell_type": "code",
   "execution_count": 52,
   "id": "d90e2d85-28da-43da-a8c7-8a8686ee1deb",
   "metadata": {},
   "outputs": [],
   "source": [
    "def nltk_tokenizer(doc):\n",
    "    doc = doc.strip()\n",
    "    doc = doc.lower()\n",
    "    tokens = nltk.word_tokenize(doc)\n",
    "    return [stemmer.stem(t) for t in tokens if \\\n",
    "        t not in string.punctuation and \\\n",
    "        t not in stopwords ] #only consider alphanumeric character"
   ]
  },
  {
   "cell_type": "code",
   "execution_count": 53,
   "id": "c641b73e-8aa4-4a3f-8eb5-3135289a5dab",
   "metadata": {},
   "outputs": [],
   "source": [
    "df_r[\"content_preprocessed\"] = df_r[\"content\"].apply(lambda x: \" \".join(nltk_tokenizer(x)))"
   ]
  },
  {
   "cell_type": "code",
   "execution_count": 54,
   "id": "e45e55b8-65e0-40d6-a8aa-18cfc30837db",
   "metadata": {},
   "outputs": [
    {
     "data": {
      "text/plain": [
       "238                                                                                                                                                                                                      puzzl hunt ca n't claim reward 's wast peopl like bought other complet ...\n",
       "214                                                                                                                                                                                                                                                                      mani updat\n",
       "202                                                                                                                                                                                                                                                pleas 's difficult login account\n",
       "255                                                                                                                                                                                                                                                                            scam\n",
       "229    know everi time updat keep think 're go fix app never leav background error noth respond menu work ui n't function lag freez constantli 's go year one thing right updat updat longer download entir app instead updat everi time updat app exact thing develop lazi useless\n",
       "Name: content_preprocessed, dtype: object"
      ]
     },
     "execution_count": 54,
     "metadata": {},
     "output_type": "execute_result"
    }
   ],
   "source": [
    "df_r[\"content_preprocessed\"].head()"
   ]
  },
  {
   "cell_type": "code",
   "execution_count": 55,
   "id": "8988af88-8281-47f1-9a2e-aeeac65463eb",
   "metadata": {},
   "outputs": [],
   "source": [
    "df_r = df_r.reset_index()"
   ]
  },
  {
   "cell_type": "code",
   "execution_count": 56,
   "id": "da13bcc8-3872-4b87-9b80-ad46966241f8",
   "metadata": {},
   "outputs": [],
   "source": [
    "corpus_raw = []\n",
    "corpus_lower = []\n",
    "corpus_preprocessed = []\n",
    "for i in range(df_r.shape[0]):\n",
    "    corpus_raw.extend(df_r[\"content\"][i].strip().split())\n",
    "    corpus_lower.extend(df_r[\"content\"][i].lower().strip().split())\n",
    "    corpus_preprocessed.extend(df_r[\"content_preprocessed\"][i].split())\n",
    "    "
   ]
  },
  {
   "cell_type": "code",
   "execution_count": 57,
   "id": "0e9303b4-ab24-4293-8b6e-55caa995ec2a",
   "metadata": {},
   "outputs": [],
   "source": [
    "counter_raw = Counter(corpus_raw)\n",
    "counter_lower = Counter(corpus_lower)\n",
    "counter_preprocessed = Counter(corpus_preprocessed)"
   ]
  },
  {
   "cell_type": "code",
   "execution_count": 58,
   "id": "639875c6-596b-42c6-9e64-06a4b06cf042",
   "metadata": {},
   "outputs": [
    {
     "data": {
      "text/plain": [
       "1172"
      ]
     },
     "execution_count": 58,
     "metadata": {},
     "output_type": "execute_result"
    }
   ],
   "source": [
    "len(counter_preprocessed)"
   ]
  },
  {
   "cell_type": "code",
   "execution_count": 59,
   "id": "ea80f4e8-d786-48a9-b35f-9a80e4618967",
   "metadata": {},
   "outputs": [
    {
     "data": {
      "text/plain": [
       "[(\"n't\", 11520),\n",
       " ('app', 11393),\n",
       " (\"'s\", 6433),\n",
       " ('use', 5603),\n",
       " ('account', 4697),\n",
       " ('money', 4392),\n",
       " ('get', 4305),\n",
       " ('crypto', 3701),\n",
       " ('updat', 3646),\n",
       " ('custom', 3244),\n",
       " ('fee', 3039),\n",
       " ('card', 3022),\n",
       " ('work', 2959),\n",
       " ('servic', 2952),\n",
       " ('ca', 2941),\n",
       " ('tri', 2801),\n",
       " ('trade', 2705),\n",
       " ('bybit', 2625),\n",
       " ('time', 2404),\n",
       " ('exchang', 2349),\n",
       " ('coin', 2302),\n",
       " ('support', 2297),\n",
       " ('pleas', 2241),\n",
       " (\"'m\", 2184),\n",
       " ('take', 2069),\n",
       " ('...', 2014),\n",
       " ('one', 1994),\n",
       " ('scam', 1923),\n",
       " ('good', 1903),\n",
       " ('need', 1883)]"
      ]
     },
     "execution_count": 59,
     "metadata": {},
     "output_type": "execute_result"
    }
   ],
   "source": [
    "counter_preprocessed.most_common(30)"
   ]
  },
  {
   "cell_type": "code",
   "execution_count": 60,
   "id": "b1772ac5-a993-4015-aba4-8c78fee5a2f0",
   "metadata": {},
   "outputs": [
    {
     "data": {
      "text/plain": [
       "9.72098976109215"
      ]
     },
     "execution_count": 60,
     "metadata": {},
     "output_type": "execute_result"
    }
   ],
   "source": [
    "counter_preprocessed.most_common(30)[1][1]/len(counter_preprocessed)"
   ]
  },
  {
   "cell_type": "code",
   "execution_count": 61,
   "id": "d07a4861-3650-425c-aadb-2d9c80f3aeed",
   "metadata": {},
   "outputs": [
    {
     "name": "stdout",
     "output_type": "stream",
     "text": [
      "\n",
      "    Unique words for raw text:2205.\n",
      "    Percentage of tokens concentrated in the top 30 words:31.33886192162392\n",
      "    \n",
      "\n",
      "    Unique words for lower case text:1966.\n",
      "    Percentage of tokens concentrated in the top 30 words:34.05665098858047\n",
      "    \n",
      "\n",
      "    Unique words for Preprocessed text:1172.\n",
      "    Percentage of tokens concentrated in the top 30 words:25.44054504808204\n",
      "    \n"
     ]
    }
   ],
   "source": [
    "top_sum_raw = 0\n",
    "top_sum_lower = 0\n",
    "top_sum_preprocessed = 0\n",
    "\n",
    "top_n = 30\n",
    "for i in range(top_n):\n",
    "    top_sum_raw += counter_raw.most_common(top_n)[i][1]\n",
    "    top_sum_lower += counter_lower.most_common(top_n)[i][1]\n",
    "    top_sum_preprocessed += counter_preprocessed.most_common(top_n)[i][1]\n",
    "print(f\"\"\"\n",
    "    Unique words for raw text:{len(counter_raw)}.\n",
    "    Percentage of tokens concentrated in the top {top_n} words:{100*top_sum_raw / counter_raw.total()}\n",
    "    \"\"\")\n",
    "\n",
    "print(f\"\"\"\n",
    "    Unique words for lower case text:{len(counter_lower)}.\n",
    "    Percentage of tokens concentrated in the top {top_n} words:{100*top_sum_lower / counter_lower.total()}\n",
    "    \"\"\")\n",
    "\n",
    "print(f\"\"\"\n",
    "    Unique words for Preprocessed text:{len(counter_preprocessed)}.\n",
    "    Percentage of tokens concentrated in the top {top_n} words:{100*top_sum_preprocessed / counter_preprocessed.total()}\n",
    "    \"\"\")"
   ]
  },
  {
   "cell_type": "markdown",
   "id": "6fc2b5cf-340e-412c-ab27-cca2cf31154c",
   "metadata": {},
   "source": [
    "# check: https://colab.research.google.com/drive/1y8tnFKQ_mW4CA0McZ-HJJoeheRL2j265\n",
    "take the lemma: example of comments \"Pi not listed\", \"They dont list pi\", ideally we extract only \"list\""
   ]
  },
  {
   "cell_type": "markdown",
   "id": "003fa62a-9869-44ef-98e4-565a99015401",
   "metadata": {},
   "source": [
    "## Train test split"
   ]
  },
  {
   "cell_type": "code",
   "execution_count": 62,
   "id": "cbb05f76-eb7f-4dac-af1b-397494334949",
   "metadata": {},
   "outputs": [],
   "source": [
    "from sklearn.model_selection import train_test_split"
   ]
  },
  {
   "cell_type": "code",
   "execution_count": 63,
   "id": "4121ff09-bee3-456e-b138-ca0dc0a55c4a",
   "metadata": {},
   "outputs": [
    {
     "data": {
      "text/plain": [
       "(21100, 19)"
      ]
     },
     "execution_count": 63,
     "metadata": {},
     "output_type": "execute_result"
    }
   ],
   "source": [
    "df_r.shape"
   ]
  },
  {
   "cell_type": "code",
   "execution_count": 64,
   "id": "6059f753-bd4d-417a-b5da-a14822cb83f1",
   "metadata": {},
   "outputs": [],
   "source": [
    "X = df_r\n",
    "y = df_r.gemini_llm_topic"
   ]
  },
  {
   "cell_type": "code",
   "execution_count": 65,
   "id": "52050d8a-9c31-430d-8d16-da158078ef77",
   "metadata": {},
   "outputs": [],
   "source": [
    "X_train, X_test, y_train, y_test = train_test_split(\n",
    "    X, y, test_size=0.20, random_state=42)\n",
    "\n",
    "\n",
    "#split text and labels\n",
    "train_sentences = X_train.content_preprocessed.to_numpy()\n",
    "train_labels = y_train.to_numpy()\n",
    "test_sentences = X_test.content_preprocessed.to_numpy()\n",
    "test_labels = y_test.to_numpy()"
   ]
  },
  {
   "cell_type": "markdown",
   "id": "ff6c972b-71ba-4c1d-9448-949d520544f5",
   "metadata": {},
   "source": [
    "## Tokenize"
   ]
  },
  {
   "cell_type": "code",
   "execution_count": 66,
   "id": "2df14759-7b38-4baf-9c79-bac21ed247cc",
   "metadata": {},
   "outputs": [],
   "source": [
    "from tensorflow.keras.preprocessing.text import Tokenizer\n",
    "from sklearn.preprocessing import OneHotEncoder"
   ]
  },
  {
   "cell_type": "code",
   "execution_count": 67,
   "id": "1485cec4-406c-4bd6-9437-d86bfa3818e2",
   "metadata": {},
   "outputs": [],
   "source": [
    "from collections import Counter"
   ]
  },
  {
   "cell_type": "code",
   "execution_count": 68,
   "id": "e2d1de4a-d002-440a-a11d-45eddcbea2b8",
   "metadata": {},
   "outputs": [
    {
     "name": "stdout",
     "output_type": "stream",
     "text": [
      "1172\n"
     ]
    }
   ],
   "source": [
    "num_unique_words = len(counter_preprocessed)\n",
    "print(num_unique_words)"
   ]
  },
  {
   "cell_type": "code",
   "execution_count": 69,
   "id": "110a5c9e-91f0-415b-9209-9cf07dac6fd3",
   "metadata": {},
   "outputs": [],
   "source": [
    "#vectorize a text corpus by turning each text into a sequence of integers\n",
    "tokenizer = Tokenizer(num_words=num_unique_words)\n",
    "tokenizer.fit_on_texts(train_sentences) #fit only to trainin"
   ]
  },
  {
   "cell_type": "code",
   "execution_count": 70,
   "id": "43b8e62b-687f-4ded-8bb4-0dbdbebd5545",
   "metadata": {},
   "outputs": [
    {
     "data": {
      "text/plain": [
       "16880"
      ]
     },
     "execution_count": 70,
     "metadata": {},
     "output_type": "execute_result"
    }
   ],
   "source": [
    "len(train_sentences)"
   ]
  },
  {
   "cell_type": "code",
   "execution_count": 71,
   "id": "3adeed15-e18e-4c20-a6a0-09f2698df8b4",
   "metadata": {},
   "outputs": [
    {
     "data": {
      "text/html": [
       "<style>#sk-container-id-1 {\n",
       "  /* Definition of color scheme common for light and dark mode */\n",
       "  --sklearn-color-text: #000;\n",
       "  --sklearn-color-text-muted: #666;\n",
       "  --sklearn-color-line: gray;\n",
       "  /* Definition of color scheme for unfitted estimators */\n",
       "  --sklearn-color-unfitted-level-0: #fff5e6;\n",
       "  --sklearn-color-unfitted-level-1: #f6e4d2;\n",
       "  --sklearn-color-unfitted-level-2: #ffe0b3;\n",
       "  --sklearn-color-unfitted-level-3: chocolate;\n",
       "  /* Definition of color scheme for fitted estimators */\n",
       "  --sklearn-color-fitted-level-0: #f0f8ff;\n",
       "  --sklearn-color-fitted-level-1: #d4ebff;\n",
       "  --sklearn-color-fitted-level-2: #b3dbfd;\n",
       "  --sklearn-color-fitted-level-3: cornflowerblue;\n",
       "\n",
       "  /* Specific color for light theme */\n",
       "  --sklearn-color-text-on-default-background: var(--sg-text-color, var(--theme-code-foreground, var(--jp-content-font-color1, black)));\n",
       "  --sklearn-color-background: var(--sg-background-color, var(--theme-background, var(--jp-layout-color0, white)));\n",
       "  --sklearn-color-border-box: var(--sg-text-color, var(--theme-code-foreground, var(--jp-content-font-color1, black)));\n",
       "  --sklearn-color-icon: #696969;\n",
       "\n",
       "  @media (prefers-color-scheme: dark) {\n",
       "    /* Redefinition of color scheme for dark theme */\n",
       "    --sklearn-color-text-on-default-background: var(--sg-text-color, var(--theme-code-foreground, var(--jp-content-font-color1, white)));\n",
       "    --sklearn-color-background: var(--sg-background-color, var(--theme-background, var(--jp-layout-color0, #111)));\n",
       "    --sklearn-color-border-box: var(--sg-text-color, var(--theme-code-foreground, var(--jp-content-font-color1, white)));\n",
       "    --sklearn-color-icon: #878787;\n",
       "  }\n",
       "}\n",
       "\n",
       "#sk-container-id-1 {\n",
       "  color: var(--sklearn-color-text);\n",
       "}\n",
       "\n",
       "#sk-container-id-1 pre {\n",
       "  padding: 0;\n",
       "}\n",
       "\n",
       "#sk-container-id-1 input.sk-hidden--visually {\n",
       "  border: 0;\n",
       "  clip: rect(1px 1px 1px 1px);\n",
       "  clip: rect(1px, 1px, 1px, 1px);\n",
       "  height: 1px;\n",
       "  margin: -1px;\n",
       "  overflow: hidden;\n",
       "  padding: 0;\n",
       "  position: absolute;\n",
       "  width: 1px;\n",
       "}\n",
       "\n",
       "#sk-container-id-1 div.sk-dashed-wrapped {\n",
       "  border: 1px dashed var(--sklearn-color-line);\n",
       "  margin: 0 0.4em 0.5em 0.4em;\n",
       "  box-sizing: border-box;\n",
       "  padding-bottom: 0.4em;\n",
       "  background-color: var(--sklearn-color-background);\n",
       "}\n",
       "\n",
       "#sk-container-id-1 div.sk-container {\n",
       "  /* jupyter's `normalize.less` sets `[hidden] { display: none; }`\n",
       "     but bootstrap.min.css set `[hidden] { display: none !important; }`\n",
       "     so we also need the `!important` here to be able to override the\n",
       "     default hidden behavior on the sphinx rendered scikit-learn.org.\n",
       "     See: https://github.com/scikit-learn/scikit-learn/issues/21755 */\n",
       "  display: inline-block !important;\n",
       "  position: relative;\n",
       "}\n",
       "\n",
       "#sk-container-id-1 div.sk-text-repr-fallback {\n",
       "  display: none;\n",
       "}\n",
       "\n",
       "div.sk-parallel-item,\n",
       "div.sk-serial,\n",
       "div.sk-item {\n",
       "  /* draw centered vertical line to link estimators */\n",
       "  background-image: linear-gradient(var(--sklearn-color-text-on-default-background), var(--sklearn-color-text-on-default-background));\n",
       "  background-size: 2px 100%;\n",
       "  background-repeat: no-repeat;\n",
       "  background-position: center center;\n",
       "}\n",
       "\n",
       "/* Parallel-specific style estimator block */\n",
       "\n",
       "#sk-container-id-1 div.sk-parallel-item::after {\n",
       "  content: \"\";\n",
       "  width: 100%;\n",
       "  border-bottom: 2px solid var(--sklearn-color-text-on-default-background);\n",
       "  flex-grow: 1;\n",
       "}\n",
       "\n",
       "#sk-container-id-1 div.sk-parallel {\n",
       "  display: flex;\n",
       "  align-items: stretch;\n",
       "  justify-content: center;\n",
       "  background-color: var(--sklearn-color-background);\n",
       "  position: relative;\n",
       "}\n",
       "\n",
       "#sk-container-id-1 div.sk-parallel-item {\n",
       "  display: flex;\n",
       "  flex-direction: column;\n",
       "}\n",
       "\n",
       "#sk-container-id-1 div.sk-parallel-item:first-child::after {\n",
       "  align-self: flex-end;\n",
       "  width: 50%;\n",
       "}\n",
       "\n",
       "#sk-container-id-1 div.sk-parallel-item:last-child::after {\n",
       "  align-self: flex-start;\n",
       "  width: 50%;\n",
       "}\n",
       "\n",
       "#sk-container-id-1 div.sk-parallel-item:only-child::after {\n",
       "  width: 0;\n",
       "}\n",
       "\n",
       "/* Serial-specific style estimator block */\n",
       "\n",
       "#sk-container-id-1 div.sk-serial {\n",
       "  display: flex;\n",
       "  flex-direction: column;\n",
       "  align-items: center;\n",
       "  background-color: var(--sklearn-color-background);\n",
       "  padding-right: 1em;\n",
       "  padding-left: 1em;\n",
       "}\n",
       "\n",
       "\n",
       "/* Toggleable style: style used for estimator/Pipeline/ColumnTransformer box that is\n",
       "clickable and can be expanded/collapsed.\n",
       "- Pipeline and ColumnTransformer use this feature and define the default style\n",
       "- Estimators will overwrite some part of the style using the `sk-estimator` class\n",
       "*/\n",
       "\n",
       "/* Pipeline and ColumnTransformer style (default) */\n",
       "\n",
       "#sk-container-id-1 div.sk-toggleable {\n",
       "  /* Default theme specific background. It is overwritten whether we have a\n",
       "  specific estimator or a Pipeline/ColumnTransformer */\n",
       "  background-color: var(--sklearn-color-background);\n",
       "}\n",
       "\n",
       "/* Toggleable label */\n",
       "#sk-container-id-1 label.sk-toggleable__label {\n",
       "  cursor: pointer;\n",
       "  display: flex;\n",
       "  width: 100%;\n",
       "  margin-bottom: 0;\n",
       "  padding: 0.5em;\n",
       "  box-sizing: border-box;\n",
       "  text-align: center;\n",
       "  align-items: start;\n",
       "  justify-content: space-between;\n",
       "  gap: 0.5em;\n",
       "}\n",
       "\n",
       "#sk-container-id-1 label.sk-toggleable__label .caption {\n",
       "  font-size: 0.6rem;\n",
       "  font-weight: lighter;\n",
       "  color: var(--sklearn-color-text-muted);\n",
       "}\n",
       "\n",
       "#sk-container-id-1 label.sk-toggleable__label-arrow:before {\n",
       "  /* Arrow on the left of the label */\n",
       "  content: \"▸\";\n",
       "  float: left;\n",
       "  margin-right: 0.25em;\n",
       "  color: var(--sklearn-color-icon);\n",
       "}\n",
       "\n",
       "#sk-container-id-1 label.sk-toggleable__label-arrow:hover:before {\n",
       "  color: var(--sklearn-color-text);\n",
       "}\n",
       "\n",
       "/* Toggleable content - dropdown */\n",
       "\n",
       "#sk-container-id-1 div.sk-toggleable__content {\n",
       "  max-height: 0;\n",
       "  max-width: 0;\n",
       "  overflow: hidden;\n",
       "  text-align: left;\n",
       "  /* unfitted */\n",
       "  background-color: var(--sklearn-color-unfitted-level-0);\n",
       "}\n",
       "\n",
       "#sk-container-id-1 div.sk-toggleable__content.fitted {\n",
       "  /* fitted */\n",
       "  background-color: var(--sklearn-color-fitted-level-0);\n",
       "}\n",
       "\n",
       "#sk-container-id-1 div.sk-toggleable__content pre {\n",
       "  margin: 0.2em;\n",
       "  border-radius: 0.25em;\n",
       "  color: var(--sklearn-color-text);\n",
       "  /* unfitted */\n",
       "  background-color: var(--sklearn-color-unfitted-level-0);\n",
       "}\n",
       "\n",
       "#sk-container-id-1 div.sk-toggleable__content.fitted pre {\n",
       "  /* unfitted */\n",
       "  background-color: var(--sklearn-color-fitted-level-0);\n",
       "}\n",
       "\n",
       "#sk-container-id-1 input.sk-toggleable__control:checked~div.sk-toggleable__content {\n",
       "  /* Expand drop-down */\n",
       "  max-height: 200px;\n",
       "  max-width: 100%;\n",
       "  overflow: auto;\n",
       "}\n",
       "\n",
       "#sk-container-id-1 input.sk-toggleable__control:checked~label.sk-toggleable__label-arrow:before {\n",
       "  content: \"▾\";\n",
       "}\n",
       "\n",
       "/* Pipeline/ColumnTransformer-specific style */\n",
       "\n",
       "#sk-container-id-1 div.sk-label input.sk-toggleable__control:checked~label.sk-toggleable__label {\n",
       "  color: var(--sklearn-color-text);\n",
       "  background-color: var(--sklearn-color-unfitted-level-2);\n",
       "}\n",
       "\n",
       "#sk-container-id-1 div.sk-label.fitted input.sk-toggleable__control:checked~label.sk-toggleable__label {\n",
       "  background-color: var(--sklearn-color-fitted-level-2);\n",
       "}\n",
       "\n",
       "/* Estimator-specific style */\n",
       "\n",
       "/* Colorize estimator box */\n",
       "#sk-container-id-1 div.sk-estimator input.sk-toggleable__control:checked~label.sk-toggleable__label {\n",
       "  /* unfitted */\n",
       "  background-color: var(--sklearn-color-unfitted-level-2);\n",
       "}\n",
       "\n",
       "#sk-container-id-1 div.sk-estimator.fitted input.sk-toggleable__control:checked~label.sk-toggleable__label {\n",
       "  /* fitted */\n",
       "  background-color: var(--sklearn-color-fitted-level-2);\n",
       "}\n",
       "\n",
       "#sk-container-id-1 div.sk-label label.sk-toggleable__label,\n",
       "#sk-container-id-1 div.sk-label label {\n",
       "  /* The background is the default theme color */\n",
       "  color: var(--sklearn-color-text-on-default-background);\n",
       "}\n",
       "\n",
       "/* On hover, darken the color of the background */\n",
       "#sk-container-id-1 div.sk-label:hover label.sk-toggleable__label {\n",
       "  color: var(--sklearn-color-text);\n",
       "  background-color: var(--sklearn-color-unfitted-level-2);\n",
       "}\n",
       "\n",
       "/* Label box, darken color on hover, fitted */\n",
       "#sk-container-id-1 div.sk-label.fitted:hover label.sk-toggleable__label.fitted {\n",
       "  color: var(--sklearn-color-text);\n",
       "  background-color: var(--sklearn-color-fitted-level-2);\n",
       "}\n",
       "\n",
       "/* Estimator label */\n",
       "\n",
       "#sk-container-id-1 div.sk-label label {\n",
       "  font-family: monospace;\n",
       "  font-weight: bold;\n",
       "  display: inline-block;\n",
       "  line-height: 1.2em;\n",
       "}\n",
       "\n",
       "#sk-container-id-1 div.sk-label-container {\n",
       "  text-align: center;\n",
       "}\n",
       "\n",
       "/* Estimator-specific */\n",
       "#sk-container-id-1 div.sk-estimator {\n",
       "  font-family: monospace;\n",
       "  border: 1px dotted var(--sklearn-color-border-box);\n",
       "  border-radius: 0.25em;\n",
       "  box-sizing: border-box;\n",
       "  margin-bottom: 0.5em;\n",
       "  /* unfitted */\n",
       "  background-color: var(--sklearn-color-unfitted-level-0);\n",
       "}\n",
       "\n",
       "#sk-container-id-1 div.sk-estimator.fitted {\n",
       "  /* fitted */\n",
       "  background-color: var(--sklearn-color-fitted-level-0);\n",
       "}\n",
       "\n",
       "/* on hover */\n",
       "#sk-container-id-1 div.sk-estimator:hover {\n",
       "  /* unfitted */\n",
       "  background-color: var(--sklearn-color-unfitted-level-2);\n",
       "}\n",
       "\n",
       "#sk-container-id-1 div.sk-estimator.fitted:hover {\n",
       "  /* fitted */\n",
       "  background-color: var(--sklearn-color-fitted-level-2);\n",
       "}\n",
       "\n",
       "/* Specification for estimator info (e.g. \"i\" and \"?\") */\n",
       "\n",
       "/* Common style for \"i\" and \"?\" */\n",
       "\n",
       ".sk-estimator-doc-link,\n",
       "a:link.sk-estimator-doc-link,\n",
       "a:visited.sk-estimator-doc-link {\n",
       "  float: right;\n",
       "  font-size: smaller;\n",
       "  line-height: 1em;\n",
       "  font-family: monospace;\n",
       "  background-color: var(--sklearn-color-background);\n",
       "  border-radius: 1em;\n",
       "  height: 1em;\n",
       "  width: 1em;\n",
       "  text-decoration: none !important;\n",
       "  margin-left: 0.5em;\n",
       "  text-align: center;\n",
       "  /* unfitted */\n",
       "  border: var(--sklearn-color-unfitted-level-1) 1pt solid;\n",
       "  color: var(--sklearn-color-unfitted-level-1);\n",
       "}\n",
       "\n",
       ".sk-estimator-doc-link.fitted,\n",
       "a:link.sk-estimator-doc-link.fitted,\n",
       "a:visited.sk-estimator-doc-link.fitted {\n",
       "  /* fitted */\n",
       "  border: var(--sklearn-color-fitted-level-1) 1pt solid;\n",
       "  color: var(--sklearn-color-fitted-level-1);\n",
       "}\n",
       "\n",
       "/* On hover */\n",
       "div.sk-estimator:hover .sk-estimator-doc-link:hover,\n",
       ".sk-estimator-doc-link:hover,\n",
       "div.sk-label-container:hover .sk-estimator-doc-link:hover,\n",
       ".sk-estimator-doc-link:hover {\n",
       "  /* unfitted */\n",
       "  background-color: var(--sklearn-color-unfitted-level-3);\n",
       "  color: var(--sklearn-color-background);\n",
       "  text-decoration: none;\n",
       "}\n",
       "\n",
       "div.sk-estimator.fitted:hover .sk-estimator-doc-link.fitted:hover,\n",
       ".sk-estimator-doc-link.fitted:hover,\n",
       "div.sk-label-container:hover .sk-estimator-doc-link.fitted:hover,\n",
       ".sk-estimator-doc-link.fitted:hover {\n",
       "  /* fitted */\n",
       "  background-color: var(--sklearn-color-fitted-level-3);\n",
       "  color: var(--sklearn-color-background);\n",
       "  text-decoration: none;\n",
       "}\n",
       "\n",
       "/* Span, style for the box shown on hovering the info icon */\n",
       ".sk-estimator-doc-link span {\n",
       "  display: none;\n",
       "  z-index: 9999;\n",
       "  position: relative;\n",
       "  font-weight: normal;\n",
       "  right: .2ex;\n",
       "  padding: .5ex;\n",
       "  margin: .5ex;\n",
       "  width: min-content;\n",
       "  min-width: 20ex;\n",
       "  max-width: 50ex;\n",
       "  color: var(--sklearn-color-text);\n",
       "  box-shadow: 2pt 2pt 4pt #999;\n",
       "  /* unfitted */\n",
       "  background: var(--sklearn-color-unfitted-level-0);\n",
       "  border: .5pt solid var(--sklearn-color-unfitted-level-3);\n",
       "}\n",
       "\n",
       ".sk-estimator-doc-link.fitted span {\n",
       "  /* fitted */\n",
       "  background: var(--sklearn-color-fitted-level-0);\n",
       "  border: var(--sklearn-color-fitted-level-3);\n",
       "}\n",
       "\n",
       ".sk-estimator-doc-link:hover span {\n",
       "  display: block;\n",
       "}\n",
       "\n",
       "/* \"?\"-specific style due to the `<a>` HTML tag */\n",
       "\n",
       "#sk-container-id-1 a.estimator_doc_link {\n",
       "  float: right;\n",
       "  font-size: 1rem;\n",
       "  line-height: 1em;\n",
       "  font-family: monospace;\n",
       "  background-color: var(--sklearn-color-background);\n",
       "  border-radius: 1rem;\n",
       "  height: 1rem;\n",
       "  width: 1rem;\n",
       "  text-decoration: none;\n",
       "  /* unfitted */\n",
       "  color: var(--sklearn-color-unfitted-level-1);\n",
       "  border: var(--sklearn-color-unfitted-level-1) 1pt solid;\n",
       "}\n",
       "\n",
       "#sk-container-id-1 a.estimator_doc_link.fitted {\n",
       "  /* fitted */\n",
       "  border: var(--sklearn-color-fitted-level-1) 1pt solid;\n",
       "  color: var(--sklearn-color-fitted-level-1);\n",
       "}\n",
       "\n",
       "/* On hover */\n",
       "#sk-container-id-1 a.estimator_doc_link:hover {\n",
       "  /* unfitted */\n",
       "  background-color: var(--sklearn-color-unfitted-level-3);\n",
       "  color: var(--sklearn-color-background);\n",
       "  text-decoration: none;\n",
       "}\n",
       "\n",
       "#sk-container-id-1 a.estimator_doc_link.fitted:hover {\n",
       "  /* fitted */\n",
       "  background-color: var(--sklearn-color-fitted-level-3);\n",
       "}\n",
       "</style><div id=\"sk-container-id-1\" class=\"sk-top-container\"><div class=\"sk-text-repr-fallback\"><pre>LabelEncoder()</pre><b>In a Jupyter environment, please rerun this cell to show the HTML representation or trust the notebook. <br />On GitHub, the HTML representation is unable to render, please try loading this page with nbviewer.org.</b></div><div class=\"sk-container\" hidden><div class=\"sk-item\"><div class=\"sk-estimator fitted sk-toggleable\"><input class=\"sk-toggleable__control sk-hidden--visually\" id=\"sk-estimator-id-1\" type=\"checkbox\" checked><label for=\"sk-estimator-id-1\" class=\"sk-toggleable__label fitted sk-toggleable__label-arrow\"><div><div>LabelEncoder</div></div><div><a class=\"sk-estimator-doc-link fitted\" rel=\"noreferrer\" target=\"_blank\" href=\"https://scikit-learn.org/1.6/modules/generated/sklearn.preprocessing.LabelEncoder.html\">?<span>Documentation for LabelEncoder</span></a><span class=\"sk-estimator-doc-link fitted\">i<span>Fitted</span></span></div></label><div class=\"sk-toggleable__content fitted\"><pre>LabelEncoder()</pre></div> </div></div></div></div>"
      ],
      "text/plain": [
       "LabelEncoder()"
      ]
     },
     "execution_count": 71,
     "metadata": {},
     "output_type": "execute_result"
    }
   ],
   "source": [
    "#vectorize the labels\n",
    "le = LabelEncoder()\n",
    "le.fit(train_labels) #fit only to trainin"
   ]
  },
  {
   "cell_type": "code",
   "execution_count": 72,
   "id": "355bd5b7-4397-4955-aa6d-2640227bb647",
   "metadata": {},
   "outputs": [],
   "source": [
    "#each word has a unique index\n",
    "word_index = tokenizer.word_index"
   ]
  },
  {
   "cell_type": "code",
   "execution_count": 73,
   "id": "dfdc78c5-ecf7-44a1-8c6d-00526c8e10b9",
   "metadata": {},
   "outputs": [],
   "source": [
    "train_sequences = tokenizer.texts_to_sequences(train_sentences)\n",
    "test_sequences = tokenizer.texts_to_sequences(test_sentences)"
   ]
  },
  {
   "cell_type": "code",
   "execution_count": 74,
   "id": "c1142f1e-6b6c-442a-b21f-2661939a34dc",
   "metadata": {},
   "outputs": [],
   "source": [
    "def remove_sparse_labels(train_labels, test_labels):\n",
    "    \"\"\"\n",
    "    Removes obsevations from the test sets when the corresponding label does not exist in the train set.\n",
    "    Since a random sample was performed, this only samples who´s label has lo prevalence would be removed.\n",
    "    Removing these make sense since it would impact the model´s performance (because this instances are rare).\n",
    "    \"\"\"\n",
    "    unique_labels = np.unique(train_labels)\n",
    "    keep_index = []\n",
    "    for label in test_labels:\n",
    "        if label in unique_labels:\n",
    "            keep_index.append(True)\n",
    "        else:\n",
    "            keep_index.append(False)\n",
    "    return keep_index"
   ]
  },
  {
   "cell_type": "code",
   "execution_count": 75,
   "id": "b861ca8a-c261-47f3-9595-062371914ca9",
   "metadata": {},
   "outputs": [],
   "source": [
    "keep = remove_sparse_labels(train_labels, test_labels)"
   ]
  },
  {
   "cell_type": "code",
   "execution_count": 76,
   "id": "a34db65b-da0c-4ce6-823f-3dacb0626978",
   "metadata": {},
   "outputs": [
    {
     "data": {
      "text/plain": [
       "4220"
      ]
     },
     "execution_count": 76,
     "metadata": {},
     "output_type": "execute_result"
    }
   ],
   "source": [
    "sum(keep)"
   ]
  },
  {
   "cell_type": "code",
   "execution_count": 77,
   "id": "8f31ce23-2b79-493d-81b1-ef153c65e327",
   "metadata": {},
   "outputs": [
    {
     "data": {
      "text/plain": [
       "array(['Account Management', 'Customer Support',\n",
       "       'Educational Resources/Onboarding', 'Features/Functionality',\n",
       "       'Generic feedback', 'Privacy', 'Reliability/Stability', 'Security',\n",
       "       'Transaction Fees/Speed', 'Usability/UI/UX',\n",
       "       'Verification/KYC/AML Processes', 'Wallet Security/Integration'],\n",
       "      dtype=object)"
      ]
     },
     "execution_count": 77,
     "metadata": {},
     "output_type": "execute_result"
    }
   ],
   "source": [
    "np.unique(train_labels)"
   ]
  },
  {
   "cell_type": "code",
   "execution_count": 78,
   "id": "02b71af3-aa6c-4187-a755-d23eca64325e",
   "metadata": {},
   "outputs": [
    {
     "data": {
      "text/plain": [
       "array(['Account Management', 'Customer Support',\n",
       "       'Educational Resources/Onboarding', 'Features/Functionality',\n",
       "       'Generic feedback', 'Privacy', 'Reliability/Stability', 'Security',\n",
       "       'Transaction Fees/Speed', 'Usability/UI/UX',\n",
       "       'Verification/KYC/AML Processes', 'Wallet Security/Integration'],\n",
       "      dtype=object)"
      ]
     },
     "execution_count": 78,
     "metadata": {},
     "output_type": "execute_result"
    }
   ],
   "source": [
    "np.unique(test_labels)"
   ]
  },
  {
   "cell_type": "code",
   "execution_count": 79,
   "id": "7253fc0b-66bc-42f2-a1c7-a47aa1f9b0fd",
   "metadata": {},
   "outputs": [],
   "source": [
    "X_test = X_test[keep]\n",
    "y_test = y_test[keep]\n",
    "test_sentences = test_sentences[keep]\n",
    "test_labels = test_labels[keep]"
   ]
  },
  {
   "cell_type": "code",
   "execution_count": 80,
   "id": "128249fe-067d-452f-b9e7-bb25f73ba1f6",
   "metadata": {},
   "outputs": [],
   "source": [
    "y_train = le.transform(train_labels)\n",
    "y_test = le.transform(test_labels)"
   ]
  },
  {
   "cell_type": "code",
   "execution_count": 81,
   "id": "a9fa4104-9b54-46d1-b2ca-d0e644eda84e",
   "metadata": {},
   "outputs": [
    {
     "name": "stdout",
     "output_type": "stream",
     "text": [
      "Example sequence 1:\n",
      "Example sequence 2. Label: 9\n",
      "easi use\n",
      "[62, 4]\n",
      "Example sequence 2. Label: 4\n",
      "nice wow\n",
      "[184, 702]\n"
     ]
    }
   ],
   "source": [
    "print(\"Example sequence 1:\")\n",
    "print(f\"Example sequence 2. Label: {y_train[10]}\")\n",
    "print(train_sentences[10])\n",
    "print(train_sequences[10])\n",
    "print(f\"Example sequence 2. Label: {y_train[11]}\")\n",
    "print(train_sentences[11])\n",
    "print(train_sequences[11])"
   ]
  },
  {
   "cell_type": "markdown",
   "id": "4b709fa5-6a6e-4faf-a29c-dc23f8a8c886",
   "metadata": {},
   "source": [
    "As seen above, sequences can have different lengths since the sentences may contain a distinct number of words. We need all sequences to be of the same length, and for this we will use padding."
   ]
  },
  {
   "cell_type": "code",
   "execution_count": 82,
   "id": "42a85e11-14b1-4462-8a28-829fae3ab7a8",
   "metadata": {},
   "outputs": [
    {
     "data": {
      "text/plain": [
       "((16880, 255), (4220, 255))"
      ]
     },
     "execution_count": 82,
     "metadata": {},
     "output_type": "execute_result"
    }
   ],
   "source": [
    "#Pad the sequences to have the same length\n",
    "from tensorflow.keras.preprocessing.sequence import pad_sequences\n",
    "\n",
    "#max number of words in a sequence\n",
    "max_length = 255\n",
    "\n",
    "train_padded = pad_sequences(train_sequences, maxlen= max_length, padding = \"post\", truncating = \"post\")\n",
    "test_padded = pad_sequences(test_sequences, maxlen = max_length, padding = \"post\", truncating = \"post\")\n",
    "train_padded.shape, test_padded.shape"
   ]
  },
  {
   "cell_type": "code",
   "execution_count": 83,
   "id": "6269a21f-bac2-4005-b594-49ca4caa53a7",
   "metadata": {},
   "outputs": [],
   "source": [
    "reverse_word_index = dict([(idx, word) for (word, idx) in word_index.items()])"
   ]
  },
  {
   "cell_type": "code",
   "execution_count": 84,
   "id": "1bff3754-3582-4caa-8836-0feb4053d043",
   "metadata": {},
   "outputs": [],
   "source": [
    "def decode(sequence):\n",
    "    return \" \".join([reverse_word_index.get(idx, \"?\") for idx in sequence])"
   ]
  },
  {
   "cell_type": "code",
   "execution_count": 85,
   "id": "63f2f738-d441-4afe-8f7d-f7eb4acf4714",
   "metadata": {},
   "outputs": [],
   "source": [
    "decoded_text = decode(train_sequences[10])"
   ]
  },
  {
   "cell_type": "code",
   "execution_count": 86,
   "id": "ef871610-2925-4fbc-bd40-f757552a48b9",
   "metadata": {},
   "outputs": [
    {
     "data": {
      "text/plain": [
       "'easi use'"
      ]
     },
     "execution_count": 86,
     "metadata": {},
     "output_type": "execute_result"
    }
   ],
   "source": [
    "decoded_text"
   ]
  },
  {
   "cell_type": "markdown",
   "id": "6f8fc161-f06b-4771-a5f4-503999865ee2",
   "metadata": {},
   "source": [
    "## Train model"
   ]
  },
  {
   "cell_type": "code",
   "execution_count": 87,
   "id": "70c952a5-c72a-4c8d-827c-de7877f12741",
   "metadata": {},
   "outputs": [],
   "source": [
    "num_classes = df_r[\"gemini_llm_topic\"].nunique()"
   ]
  },
  {
   "cell_type": "code",
   "execution_count": 88,
   "id": "72ec815b-592a-4d4a-a388-70b422a0a458",
   "metadata": {},
   "outputs": [
    {
     "data": {
      "text/plain": [
       "12"
      ]
     },
     "execution_count": 88,
     "metadata": {},
     "output_type": "execute_result"
    }
   ],
   "source": [
    "num_classes"
   ]
  },
  {
   "cell_type": "code",
   "execution_count": 89,
   "id": "a69cd525-f382-4ee8-8afa-50d8fc3ca1db",
   "metadata": {},
   "outputs": [
    {
     "data": {
      "text/plain": [
       "gemini_llm_topic\n",
       "Usability/UI/UX                     3582\n",
       "Reliability/Stability               3422\n",
       "Account Management                  3146\n",
       "Customer Support                    3050\n",
       "Transaction Fees/Speed              2790\n",
       "Generic feedback                    2009\n",
       "Verification/KYC/AML Processes      1400\n",
       "Features/Functionality               690\n",
       "Educational Resources/Onboarding     409\n",
       "Security                             397\n",
       "Wallet Security/Integration          109\n",
       "Privacy                               96\n",
       "Name: count, dtype: int64"
      ]
     },
     "execution_count": 89,
     "metadata": {},
     "output_type": "execute_result"
    }
   ],
   "source": [
    "df_r[\"gemini_llm_topic\"].value_counts()"
   ]
  },
  {
   "cell_type": "code",
   "execution_count": 90,
   "id": "f1f2aef9-baa4-4f68-bbaa-30a1c68b7c77",
   "metadata": {},
   "outputs": [],
   "source": [
    "from tensorflow import keras\n",
    "from tensorflow.keras import layers\n",
    "from tensorflow.keras import regularizers"
   ]
  },
  {
   "cell_type": "code",
   "execution_count": 91,
   "id": "d4c48b3d-be08-44ba-b790-e56b23a17911",
   "metadata": {},
   "outputs": [],
   "source": [
    "model = keras.Sequential([\n",
    "layers.Dense(num_classes*20, \n",
    "             kernel_regularizer=regularizers.l1_l2(l1=0.001, l2=0.001), \n",
    "             #kernel_regularizer=regularizers.l2(0.002), \n",
    "             activation=\"relu\"),\n",
    "    \n",
    "    layers.Dropout(0.3),\n",
    "layers.Dense(num_classes*20, \n",
    "             kernel_regularizer=regularizers.l1_l2(l1=0.001, l2=0.001), \n",
    "             #kernel_regularizer=regularizers.l2(0.002), \n",
    "             activation=\"relu\"),\n",
    "    \n",
    "    layers.Dropout(0.3),\n",
    "layers.Dense(num_classes*20, \n",
    "             kernel_regularizer=regularizers.l1_l2(l1=0.001, l2=0.001), \n",
    "             #kernel_regularizer=regularizers.l2(0.002), \n",
    "             activation=\"relu\"),\n",
    "    \n",
    "    #layers.Dropout(0.3),\n",
    "    #layers.Dense(num_classes, activation=\"softmax\")\n",
    "])"
   ]
  },
  {
   "cell_type": "code",
   "execution_count": null,
   "id": "aec3f286-a10d-44c1-bc1e-6ea38e317024",
   "metadata": {},
   "outputs": [],
   "source": []
  },
  {
   "cell_type": "code",
   "execution_count": null,
   "id": "73e1abbc-acd9-470d-b391-8d13ff217f4c",
   "metadata": {},
   "outputs": [],
   "source": []
  },
  {
   "cell_type": "markdown",
   "id": "155a0c12-1655-4aaa-b566-cadd695338c3",
   "metadata": {},
   "source": [
    "desc_length = df_r[\"content_preprocessed\"].apply(lambda x: len(x) )\n",
    "max_length = max(desc_length)\n",
    "model = keras.Sequential()\n",
    "model.add(layers.Embedding(len(counter_preprocessed), 32))\n",
    "\n",
    "model.add(layers.LSTM(64, dropout=0.1))\n",
    "model.summary()"
   ]
  },
  {
   "cell_type": "markdown",
   "id": "048d35da-aba4-4e78-be99-39ae4e61d1c6",
   "metadata": {},
   "source": [
    "## Compile the model"
   ]
  },
  {
   "cell_type": "code",
   "execution_count": 92,
   "id": "5831bc8a-9b94-412f-b5c1-c71b61050cdd",
   "metadata": {},
   "outputs": [],
   "source": [
    "#loss and optimizer\n",
    "loss = keras.losses.SparseCategoricalCrossentropy(from_logits=True)\n",
    "optim = keras.optimizers.Adam(learning_rate=0.001)\n",
    "metrics  = [\"accuracy\"]"
   ]
  },
  {
   "cell_type": "code",
   "execution_count": 93,
   "id": "945cf5f2-69a1-4571-bf3a-27092512475b",
   "metadata": {},
   "outputs": [],
   "source": [
    "model.compile(optimizer=optim, loss=loss, metrics=metrics)"
   ]
  },
  {
   "cell_type": "code",
   "execution_count": 94,
   "id": "1ccbabee-ef63-4f5c-9486-0eb3088db089",
   "metadata": {},
   "outputs": [],
   "source": [
    "#model.compile(optimizer=\"rmsprop\",\n",
    "#loss=\"sparse_categorical_crossentropy\",\n",
    "#metrics=[\"accuracy\"])"
   ]
  },
  {
   "cell_type": "code",
   "execution_count": 95,
   "id": "bb19a3e3-25a1-4e35-a602-1c346c90d0c7",
   "metadata": {},
   "outputs": [
    {
     "data": {
      "text/plain": [
       "16880"
      ]
     },
     "execution_count": 95,
     "metadata": {},
     "output_type": "execute_result"
    }
   ],
   "source": [
    "len(train_padded)"
   ]
  },
  {
   "cell_type": "code",
   "execution_count": 79,
   "id": "29965fdd-bb19-453f-8352-0de75fdd1987",
   "metadata": {},
   "outputs": [],
   "source": [
    "#validation set\n",
    "x_val = train_padded[:50]\n",
    "partial_x_train = train_padded[50:]\n",
    "y_val = y_train[:50]\n",
    "partial_y_train = y_train[50:]"
   ]
  },
  {
   "cell_type": "code",
   "execution_count": 80,
   "id": "7ba5db3c-cbd0-4b33-99f8-2bacd4d32c71",
   "metadata": {},
   "outputs": [
    {
     "name": "stdout",
     "output_type": "stream",
     "text": [
      "Epoch 1/100\n",
      "\u001b[1m10/10\u001b[0m \u001b[32m━━━━━━━━━━━━━━━━━━━━\u001b[0m\u001b[37m\u001b[0m \u001b[1m1s\u001b[0m 47ms/step - accuracy: 0.0591 - loss: 124.1279 - val_accuracy: 0.3210 - val_loss: 33.3624\n",
      "Epoch 2/100\n",
      "\u001b[1m10/10\u001b[0m \u001b[32m━━━━━━━━━━━━━━━━━━━━\u001b[0m\u001b[37m\u001b[0m \u001b[1m0s\u001b[0m 14ms/step - accuracy: 0.2130 - loss: 43.6094 - val_accuracy: 0.4411 - val_loss: 15.7250\n",
      "Epoch 3/100\n",
      "\u001b[1m10/10\u001b[0m \u001b[32m━━━━━━━━━━━━━━━━━━━━\u001b[0m\u001b[37m\u001b[0m \u001b[1m0s\u001b[0m 14ms/step - accuracy: 0.3195 - loss: 23.2232 - val_accuracy: 0.6541 - val_loss: 10.8926\n",
      "Epoch 4/100\n",
      "\u001b[1m10/10\u001b[0m \u001b[32m━━━━━━━━━━━━━━━━━━━━\u001b[0m\u001b[37m\u001b[0m \u001b[1m0s\u001b[0m 14ms/step - accuracy: 0.4472 - loss: 15.9880 - val_accuracy: 0.7268 - val_loss: 9.4796\n",
      "Epoch 5/100\n",
      "\u001b[1m10/10\u001b[0m \u001b[32m━━━━━━━━━━━━━━━━━━━━\u001b[0m\u001b[37m\u001b[0m \u001b[1m0s\u001b[0m 14ms/step - accuracy: 0.5210 - loss: 12.8377 - val_accuracy: 0.7932 - val_loss: 8.7293\n",
      "Epoch 6/100\n",
      "\u001b[1m10/10\u001b[0m \u001b[32m━━━━━━━━━━━━━━━━━━━━\u001b[0m\u001b[37m\u001b[0m \u001b[1m0s\u001b[0m 14ms/step - accuracy: 0.5565 - loss: 11.1438 - val_accuracy: 0.8260 - val_loss: 8.1890\n",
      "Epoch 7/100\n",
      "\u001b[1m10/10\u001b[0m \u001b[32m━━━━━━━━━━━━━━━━━━━━\u001b[0m\u001b[37m\u001b[0m \u001b[1m0s\u001b[0m 14ms/step - accuracy: 0.5983 - loss: 10.0180 - val_accuracy: 0.8256 - val_loss: 7.7616\n",
      "Epoch 8/100\n",
      "\u001b[1m10/10\u001b[0m \u001b[32m━━━━━━━━━━━━━━━━━━━━\u001b[0m\u001b[37m\u001b[0m \u001b[1m0s\u001b[0m 18ms/step - accuracy: 0.6222 - loss: 9.4012 - val_accuracy: 0.8432 - val_loss: 7.4079\n",
      "Epoch 9/100\n",
      "\u001b[1m10/10\u001b[0m \u001b[32m━━━━━━━━━━━━━━━━━━━━\u001b[0m\u001b[37m\u001b[0m \u001b[1m0s\u001b[0m 15ms/step - accuracy: 0.6592 - loss: 8.6452 - val_accuracy: 0.8495 - val_loss: 7.1280\n",
      "Epoch 10/100\n",
      "\u001b[1m10/10\u001b[0m \u001b[32m━━━━━━━━━━━━━━━━━━━━\u001b[0m\u001b[37m\u001b[0m \u001b[1m0s\u001b[0m 14ms/step - accuracy: 0.6814 - loss: 8.2370 - val_accuracy: 0.8726 - val_loss: 6.9101\n",
      "Epoch 11/100\n",
      "\u001b[1m10/10\u001b[0m \u001b[32m━━━━━━━━━━━━━━━━━━━━\u001b[0m\u001b[37m\u001b[0m \u001b[1m0s\u001b[0m 13ms/step - accuracy: 0.6880 - loss: 7.9300 - val_accuracy: 0.8747 - val_loss: 6.7631\n",
      "Epoch 12/100\n",
      "\u001b[1m10/10\u001b[0m \u001b[32m━━━━━━━━━━━━━━━━━━━━\u001b[0m\u001b[37m\u001b[0m \u001b[1m0s\u001b[0m 14ms/step - accuracy: 0.7231 - loss: 7.5907 - val_accuracy: 0.8823 - val_loss: 6.6578\n",
      "Epoch 13/100\n",
      "\u001b[1m10/10\u001b[0m \u001b[32m━━━━━━━━━━━━━━━━━━━━\u001b[0m\u001b[37m\u001b[0m \u001b[1m0s\u001b[0m 14ms/step - accuracy: 0.7484 - loss: 7.4244 - val_accuracy: 0.8888 - val_loss: 6.5775\n",
      "Epoch 14/100\n",
      "\u001b[1m10/10\u001b[0m \u001b[32m━━━━━━━━━━━━━━━━━━━━\u001b[0m\u001b[37m\u001b[0m \u001b[1m0s\u001b[0m 15ms/step - accuracy: 0.7560 - loss: 7.3114 - val_accuracy: 0.9045 - val_loss: 6.4956\n",
      "Epoch 15/100\n",
      "\u001b[1m10/10\u001b[0m \u001b[32m━━━━━━━━━━━━━━━━━━━━\u001b[0m\u001b[37m\u001b[0m \u001b[1m0s\u001b[0m 14ms/step - accuracy: 0.7642 - loss: 7.0865 - val_accuracy: 0.8923 - val_loss: 6.4219\n",
      "Epoch 16/100\n",
      "\u001b[1m10/10\u001b[0m \u001b[32m━━━━━━━━━━━━━━━━━━━━\u001b[0m\u001b[37m\u001b[0m \u001b[1m0s\u001b[0m 15ms/step - accuracy: 0.7804 - loss: 6.9733 - val_accuracy: 0.9017 - val_loss: 6.3576\n",
      "Epoch 17/100\n",
      "\u001b[1m10/10\u001b[0m \u001b[32m━━━━━━━━━━━━━━━━━━━━\u001b[0m\u001b[37m\u001b[0m \u001b[1m0s\u001b[0m 16ms/step - accuracy: 0.7962 - loss: 6.8621 - val_accuracy: 0.9051 - val_loss: 6.2852\n",
      "Epoch 18/100\n",
      "\u001b[1m10/10\u001b[0m \u001b[32m━━━━━━━━━━━━━━━━━━━━\u001b[0m\u001b[37m\u001b[0m \u001b[1m0s\u001b[0m 16ms/step - accuracy: 0.7822 - loss: 6.8274 - val_accuracy: 0.9157 - val_loss: 6.2184\n",
      "Epoch 19/100\n",
      "\u001b[1m10/10\u001b[0m \u001b[32m━━━━━━━━━━━━━━━━━━━━\u001b[0m\u001b[37m\u001b[0m \u001b[1m0s\u001b[0m 14ms/step - accuracy: 0.8051 - loss: 6.6099 - val_accuracy: 0.9017 - val_loss: 6.1719\n",
      "Epoch 20/100\n",
      "\u001b[1m10/10\u001b[0m \u001b[32m━━━━━━━━━━━━━━━━━━━━\u001b[0m\u001b[37m\u001b[0m \u001b[1m0s\u001b[0m 13ms/step - accuracy: 0.8138 - loss: 6.6402 - val_accuracy: 0.9067 - val_loss: 6.1052\n",
      "Epoch 21/100\n",
      "\u001b[1m10/10\u001b[0m \u001b[32m━━━━━━━━━━━━━━━━━━━━\u001b[0m\u001b[37m\u001b[0m \u001b[1m0s\u001b[0m 16ms/step - accuracy: 0.8208 - loss: 6.5271 - val_accuracy: 0.9057 - val_loss: 6.0512\n",
      "Epoch 22/100\n",
      "\u001b[1m10/10\u001b[0m \u001b[32m━━━━━━━━━━━━━━━━━━━━\u001b[0m\u001b[37m\u001b[0m \u001b[1m0s\u001b[0m 15ms/step - accuracy: 0.8168 - loss: 6.4298 - val_accuracy: 0.9103 - val_loss: 5.9943\n",
      "Epoch 23/100\n",
      "\u001b[1m10/10\u001b[0m \u001b[32m━━━━━━━━━━━━━━━━━━━━\u001b[0m\u001b[37m\u001b[0m \u001b[1m0s\u001b[0m 14ms/step - accuracy: 0.8176 - loss: 6.3263 - val_accuracy: 0.9195 - val_loss: 5.9335\n",
      "Epoch 24/100\n",
      "\u001b[1m10/10\u001b[0m \u001b[32m━━━━━━━━━━━━━━━━━━━━\u001b[0m\u001b[37m\u001b[0m \u001b[1m0s\u001b[0m 14ms/step - accuracy: 0.8193 - loss: 6.3063 - val_accuracy: 0.9157 - val_loss: 5.8863\n",
      "Epoch 25/100\n",
      "\u001b[1m10/10\u001b[0m \u001b[32m━━━━━━━━━━━━━━━━━━━━\u001b[0m\u001b[37m\u001b[0m \u001b[1m0s\u001b[0m 14ms/step - accuracy: 0.8340 - loss: 6.2130 - val_accuracy: 0.9147 - val_loss: 5.8375\n",
      "Epoch 26/100\n",
      "\u001b[1m10/10\u001b[0m \u001b[32m━━━━━━━━━━━━━━━━━━━━\u001b[0m\u001b[37m\u001b[0m \u001b[1m0s\u001b[0m 13ms/step - accuracy: 0.8333 - loss: 6.1464 - val_accuracy: 0.9147 - val_loss: 5.7905\n",
      "Epoch 27/100\n",
      "\u001b[1m10/10\u001b[0m \u001b[32m━━━━━━━━━━━━━━━━━━━━\u001b[0m\u001b[37m\u001b[0m \u001b[1m0s\u001b[0m 13ms/step - accuracy: 0.8418 - loss: 6.0609 - val_accuracy: 0.9068 - val_loss: 5.7381\n",
      "Epoch 28/100\n",
      "\u001b[1m10/10\u001b[0m \u001b[32m━━━━━━━━━━━━━━━━━━━━\u001b[0m\u001b[37m\u001b[0m \u001b[1m0s\u001b[0m 16ms/step - accuracy: 0.8376 - loss: 6.0123 - val_accuracy: 0.9198 - val_loss: 5.6818\n",
      "Epoch 29/100\n",
      "\u001b[1m10/10\u001b[0m \u001b[32m━━━━━━━━━━━━━━━━━━━━\u001b[0m\u001b[37m\u001b[0m \u001b[1m0s\u001b[0m 15ms/step - accuracy: 0.8440 - loss: 5.9400 - val_accuracy: 0.9201 - val_loss: 5.6305\n",
      "Epoch 30/100\n",
      "\u001b[1m10/10\u001b[0m \u001b[32m━━━━━━━━━━━━━━━━━━━━\u001b[0m\u001b[37m\u001b[0m \u001b[1m0s\u001b[0m 14ms/step - accuracy: 0.8533 - loss: 5.8503 - val_accuracy: 0.9224 - val_loss: 5.5860\n",
      "Epoch 31/100\n",
      "\u001b[1m10/10\u001b[0m \u001b[32m━━━━━━━━━━━━━━━━━━━━\u001b[0m\u001b[37m\u001b[0m \u001b[1m0s\u001b[0m 14ms/step - accuracy: 0.8571 - loss: 5.8087 - val_accuracy: 0.9268 - val_loss: 5.5364\n",
      "Epoch 32/100\n",
      "\u001b[1m10/10\u001b[0m \u001b[32m━━━━━━━━━━━━━━━━━━━━\u001b[0m\u001b[37m\u001b[0m \u001b[1m0s\u001b[0m 13ms/step - accuracy: 0.8561 - loss: 5.7865 - val_accuracy: 0.9268 - val_loss: 5.4900\n",
      "Epoch 33/100\n",
      "\u001b[1m10/10\u001b[0m \u001b[32m━━━━━━━━━━━━━━━━━━━━\u001b[0m\u001b[37m\u001b[0m \u001b[1m0s\u001b[0m 14ms/step - accuracy: 0.8631 - loss: 5.7127 - val_accuracy: 0.9224 - val_loss: 5.4455\n",
      "Epoch 34/100\n",
      "\u001b[1m10/10\u001b[0m \u001b[32m━━━━━━━━━━━━━━━━━━━━\u001b[0m\u001b[37m\u001b[0m \u001b[1m0s\u001b[0m 13ms/step - accuracy: 0.8700 - loss: 5.6218 - val_accuracy: 0.9303 - val_loss: 5.3941\n",
      "Epoch 35/100\n",
      "\u001b[1m10/10\u001b[0m \u001b[32m━━━━━━━━━━━━━━━━━━━━\u001b[0m\u001b[37m\u001b[0m \u001b[1m0s\u001b[0m 13ms/step - accuracy: 0.8672 - loss: 5.5599 - val_accuracy: 0.9268 - val_loss: 5.3502\n",
      "Epoch 36/100\n",
      "\u001b[1m10/10\u001b[0m \u001b[32m━━━━━━━━━━━━━━━━━━━━\u001b[0m\u001b[37m\u001b[0m \u001b[1m0s\u001b[0m 13ms/step - accuracy: 0.8629 - loss: 5.5364 - val_accuracy: 0.9224 - val_loss: 5.3015\n",
      "Epoch 37/100\n",
      "\u001b[1m10/10\u001b[0m \u001b[32m━━━━━━━━━━━━━━━━━━━━\u001b[0m\u001b[37m\u001b[0m \u001b[1m0s\u001b[0m 13ms/step - accuracy: 0.8680 - loss: 5.4714 - val_accuracy: 0.9281 - val_loss: 5.2619\n",
      "Epoch 38/100\n",
      "\u001b[1m10/10\u001b[0m \u001b[32m━━━━━━━━━━━━━━━━━━━━\u001b[0m\u001b[37m\u001b[0m \u001b[1m0s\u001b[0m 14ms/step - accuracy: 0.8771 - loss: 5.4216 - val_accuracy: 0.9268 - val_loss: 5.2093\n",
      "Epoch 39/100\n",
      "\u001b[1m10/10\u001b[0m \u001b[32m━━━━━━━━━━━━━━━━━━━━\u001b[0m\u001b[37m\u001b[0m \u001b[1m0s\u001b[0m 13ms/step - accuracy: 0.8730 - loss: 5.4067 - val_accuracy: 0.9342 - val_loss: 5.1632\n",
      "Epoch 40/100\n",
      "\u001b[1m10/10\u001b[0m \u001b[32m━━━━━━━━━━━━━━━━━━━━\u001b[0m\u001b[37m\u001b[0m \u001b[1m0s\u001b[0m 13ms/step - accuracy: 0.8722 - loss: 5.3289 - val_accuracy: 0.9342 - val_loss: 5.1192\n",
      "Epoch 41/100\n",
      "\u001b[1m10/10\u001b[0m \u001b[32m━━━━━━━━━━━━━━━━━━━━\u001b[0m\u001b[37m\u001b[0m \u001b[1m0s\u001b[0m 15ms/step - accuracy: 0.8747 - loss: 5.2914 - val_accuracy: 0.9224 - val_loss: 5.0782\n",
      "Epoch 42/100\n",
      "\u001b[1m10/10\u001b[0m \u001b[32m━━━━━━━━━━━━━━━━━━━━\u001b[0m\u001b[37m\u001b[0m \u001b[1m0s\u001b[0m 15ms/step - accuracy: 0.8726 - loss: 5.2278 - val_accuracy: 0.9349 - val_loss: 5.0335\n",
      "Epoch 43/100\n",
      "\u001b[1m10/10\u001b[0m \u001b[32m━━━━━━━━━━━━━━━━━━━━\u001b[0m\u001b[37m\u001b[0m \u001b[1m0s\u001b[0m 14ms/step - accuracy: 0.8730 - loss: 5.1964 - val_accuracy: 0.9399 - val_loss: 4.9960\n",
      "Epoch 44/100\n",
      "\u001b[1m10/10\u001b[0m \u001b[32m━━━━━━━━━━━━━━━━━━━━\u001b[0m\u001b[37m\u001b[0m \u001b[1m0s\u001b[0m 14ms/step - accuracy: 0.8903 - loss: 5.1195 - val_accuracy: 0.9344 - val_loss: 4.9451\n",
      "Epoch 45/100\n",
      "\u001b[1m10/10\u001b[0m \u001b[32m━━━━━━━━━━━━━━━━━━━━\u001b[0m\u001b[37m\u001b[0m \u001b[1m0s\u001b[0m 15ms/step - accuracy: 0.8806 - loss: 5.0981 - val_accuracy: 0.9297 - val_loss: 4.9050\n",
      "Epoch 46/100\n",
      "\u001b[1m10/10\u001b[0m \u001b[32m━━━━━━━━━━━━━━━━━━━━\u001b[0m\u001b[37m\u001b[0m \u001b[1m0s\u001b[0m 15ms/step - accuracy: 0.8749 - loss: 5.0697 - val_accuracy: 0.9259 - val_loss: 4.8658\n",
      "Epoch 47/100\n",
      "\u001b[1m10/10\u001b[0m \u001b[32m━━━━━━━━━━━━━━━━━━━━\u001b[0m\u001b[37m\u001b[0m \u001b[1m0s\u001b[0m 14ms/step - accuracy: 0.8794 - loss: 4.9971 - val_accuracy: 0.9298 - val_loss: 4.8235\n",
      "Epoch 48/100\n",
      "\u001b[1m10/10\u001b[0m \u001b[32m━━━━━━━━━━━━━━━━━━━━\u001b[0m\u001b[37m\u001b[0m \u001b[1m0s\u001b[0m 13ms/step - accuracy: 0.8894 - loss: 4.9588 - val_accuracy: 0.9298 - val_loss: 4.7828\n",
      "Epoch 49/100\n",
      "\u001b[1m10/10\u001b[0m \u001b[32m━━━━━━━━━━━━━━━━━━━━\u001b[0m\u001b[37m\u001b[0m \u001b[1m0s\u001b[0m 15ms/step - accuracy: 0.8771 - loss: 4.8952 - val_accuracy: 0.9262 - val_loss: 4.7472\n",
      "Epoch 50/100\n",
      "\u001b[1m10/10\u001b[0m \u001b[32m━━━━━━━━━━━━━━━━━━━━\u001b[0m\u001b[37m\u001b[0m \u001b[1m0s\u001b[0m 16ms/step - accuracy: 0.8884 - loss: 4.8702 - val_accuracy: 0.9382 - val_loss: 4.6972\n",
      "Epoch 51/100\n",
      "\u001b[1m10/10\u001b[0m \u001b[32m━━━━━━━━━━━━━━━━━━━━\u001b[0m\u001b[37m\u001b[0m \u001b[1m0s\u001b[0m 14ms/step - accuracy: 0.8813 - loss: 4.8529 - val_accuracy: 0.9262 - val_loss: 4.6629\n",
      "Epoch 52/100\n",
      "\u001b[1m10/10\u001b[0m \u001b[32m━━━━━━━━━━━━━━━━━━━━\u001b[0m\u001b[37m\u001b[0m \u001b[1m0s\u001b[0m 15ms/step - accuracy: 0.8977 - loss: 4.7697 - val_accuracy: 0.9297 - val_loss: 4.6218\n",
      "Epoch 53/100\n",
      "\u001b[1m10/10\u001b[0m \u001b[32m━━━━━━━━━━━━━━━━━━━━\u001b[0m\u001b[37m\u001b[0m \u001b[1m0s\u001b[0m 14ms/step - accuracy: 0.8960 - loss: 4.7396 - val_accuracy: 0.9262 - val_loss: 4.5860\n",
      "Epoch 54/100\n",
      "\u001b[1m10/10\u001b[0m \u001b[32m━━━━━━━━━━━━━━━━━━━━\u001b[0m\u001b[37m\u001b[0m \u001b[1m0s\u001b[0m 15ms/step - accuracy: 0.8870 - loss: 4.7003 - val_accuracy: 0.9382 - val_loss: 4.5438\n",
      "Epoch 55/100\n",
      "\u001b[1m10/10\u001b[0m \u001b[32m━━━━━━━━━━━━━━━━━━━━\u001b[0m\u001b[37m\u001b[0m \u001b[1m0s\u001b[0m 14ms/step - accuracy: 0.8893 - loss: 4.6632 - val_accuracy: 0.9421 - val_loss: 4.5025\n",
      "Epoch 56/100\n",
      "\u001b[1m10/10\u001b[0m \u001b[32m━━━━━━━━━━━━━━━━━━━━\u001b[0m\u001b[37m\u001b[0m \u001b[1m0s\u001b[0m 14ms/step - accuracy: 0.8887 - loss: 4.6120 - val_accuracy: 0.9385 - val_loss: 4.4640\n",
      "Epoch 57/100\n",
      "\u001b[1m10/10\u001b[0m \u001b[32m━━━━━━━━━━━━━━━━━━━━\u001b[0m\u001b[37m\u001b[0m \u001b[1m0s\u001b[0m 13ms/step - accuracy: 0.8969 - loss: 4.5777 - val_accuracy: 0.9300 - val_loss: 4.4250\n",
      "Epoch 58/100\n",
      "\u001b[1m10/10\u001b[0m \u001b[32m━━━━━━━━━━━━━━━━━━━━\u001b[0m\u001b[37m\u001b[0m \u001b[1m0s\u001b[0m 13ms/step - accuracy: 0.9024 - loss: 4.5251 - val_accuracy: 0.9338 - val_loss: 4.3860\n",
      "Epoch 59/100\n",
      "\u001b[1m10/10\u001b[0m \u001b[32m━━━━━━━━━━━━━━━━━━━━\u001b[0m\u001b[37m\u001b[0m \u001b[1m0s\u001b[0m 15ms/step - accuracy: 0.9033 - loss: 4.4694 - val_accuracy: 0.9303 - val_loss: 4.3553\n",
      "Epoch 60/100\n",
      "\u001b[1m10/10\u001b[0m \u001b[32m━━━━━━━━━━━━━━━━━━━━\u001b[0m\u001b[37m\u001b[0m \u001b[1m0s\u001b[0m 14ms/step - accuracy: 0.8986 - loss: 4.4621 - val_accuracy: 0.9382 - val_loss: 4.3113\n",
      "Epoch 61/100\n",
      "\u001b[1m10/10\u001b[0m \u001b[32m━━━━━━━━━━━━━━━━━━━━\u001b[0m\u001b[37m\u001b[0m \u001b[1m0s\u001b[0m 14ms/step - accuracy: 0.8970 - loss: 4.4154 - val_accuracy: 0.9350 - val_loss: 4.2806\n",
      "Epoch 62/100\n",
      "\u001b[1m10/10\u001b[0m \u001b[32m━━━━━━━━━━━━━━━━━━━━\u001b[0m\u001b[37m\u001b[0m \u001b[1m0s\u001b[0m 15ms/step - accuracy: 0.8992 - loss: 4.3894 - val_accuracy: 0.9429 - val_loss: 4.2374\n",
      "Epoch 63/100\n",
      "\u001b[1m10/10\u001b[0m \u001b[32m━━━━━━━━━━━━━━━━━━━━\u001b[0m\u001b[37m\u001b[0m \u001b[1m0s\u001b[0m 15ms/step - accuracy: 0.9009 - loss: 4.3390 - val_accuracy: 0.9429 - val_loss: 4.2000\n",
      "Epoch 64/100\n",
      "\u001b[1m10/10\u001b[0m \u001b[32m━━━━━━━━━━━━━━━━━━━━\u001b[0m\u001b[37m\u001b[0m \u001b[1m0s\u001b[0m 13ms/step - accuracy: 0.9054 - loss: 4.2852 - val_accuracy: 0.9385 - val_loss: 4.1617\n",
      "Epoch 65/100\n",
      "\u001b[1m10/10\u001b[0m \u001b[32m━━━━━━━━━━━━━━━━━━━━\u001b[0m\u001b[37m\u001b[0m \u001b[1m0s\u001b[0m 14ms/step - accuracy: 0.9032 - loss: 4.2555 - val_accuracy: 0.9350 - val_loss: 4.1308\n",
      "Epoch 66/100\n",
      "\u001b[1m10/10\u001b[0m \u001b[32m━━━━━━━━━━━━━━━━━━━━\u001b[0m\u001b[37m\u001b[0m \u001b[1m0s\u001b[0m 16ms/step - accuracy: 0.9001 - loss: 4.2351 - val_accuracy: 0.9429 - val_loss: 4.0909\n",
      "Epoch 67/100\n",
      "\u001b[1m10/10\u001b[0m \u001b[32m━━━━━━━━━━━━━━━━━━━━\u001b[0m\u001b[37m\u001b[0m \u001b[1m0s\u001b[0m 13ms/step - accuracy: 0.9020 - loss: 4.1925 - val_accuracy: 0.9448 - val_loss: 4.0601\n",
      "Epoch 68/100\n",
      "\u001b[1m10/10\u001b[0m \u001b[32m━━━━━━━━━━━━━━━━━━━━\u001b[0m\u001b[37m\u001b[0m \u001b[1m0s\u001b[0m 15ms/step - accuracy: 0.9022 - loss: 4.1552 - val_accuracy: 0.9468 - val_loss: 4.0182\n",
      "Epoch 69/100\n",
      "\u001b[1m10/10\u001b[0m \u001b[32m━━━━━━━━━━━━━━━━━━━━\u001b[0m\u001b[37m\u001b[0m \u001b[1m0s\u001b[0m 14ms/step - accuracy: 0.9123 - loss: 4.1048 - val_accuracy: 0.9447 - val_loss: 3.9851\n",
      "Epoch 70/100\n",
      "\u001b[1m10/10\u001b[0m \u001b[32m━━━━━━━━━━━━━━━━━━━━\u001b[0m\u001b[37m\u001b[0m \u001b[1m0s\u001b[0m 14ms/step - accuracy: 0.9112 - loss: 4.0632 - val_accuracy: 0.9350 - val_loss: 3.9519\n",
      "Epoch 71/100\n",
      "\u001b[1m10/10\u001b[0m \u001b[32m━━━━━━━━━━━━━━━━━━━━\u001b[0m\u001b[37m\u001b[0m \u001b[1m0s\u001b[0m 15ms/step - accuracy: 0.9066 - loss: 4.0429 - val_accuracy: 0.9385 - val_loss: 3.9131\n",
      "Epoch 72/100\n",
      "\u001b[1m10/10\u001b[0m \u001b[32m━━━━━━━━━━━━━━━━━━━━\u001b[0m\u001b[37m\u001b[0m \u001b[1m0s\u001b[0m 15ms/step - accuracy: 0.9069 - loss: 3.9797 - val_accuracy: 0.9389 - val_loss: 3.8837\n",
      "Epoch 73/100\n",
      "\u001b[1m10/10\u001b[0m \u001b[32m━━━━━━━━━━━━━━━━━━━━\u001b[0m\u001b[37m\u001b[0m \u001b[1m0s\u001b[0m 13ms/step - accuracy: 0.9062 - loss: 3.9891 - val_accuracy: 0.9394 - val_loss: 3.8483\n",
      "Epoch 74/100\n",
      "\u001b[1m10/10\u001b[0m \u001b[32m━━━━━━━━━━━━━━━━━━━━\u001b[0m\u001b[37m\u001b[0m \u001b[1m0s\u001b[0m 13ms/step - accuracy: 0.9111 - loss: 3.9346 - val_accuracy: 0.9408 - val_loss: 3.8134\n",
      "Epoch 75/100\n",
      "\u001b[1m10/10\u001b[0m \u001b[32m━━━━━━━━━━━━━━━━━━━━\u001b[0m\u001b[37m\u001b[0m \u001b[1m0s\u001b[0m 15ms/step - accuracy: 0.9125 - loss: 3.8879 - val_accuracy: 0.9381 - val_loss: 3.7808\n",
      "Epoch 76/100\n",
      "\u001b[1m10/10\u001b[0m \u001b[32m━━━━━━━━━━━━━━━━━━━━\u001b[0m\u001b[37m\u001b[0m \u001b[1m0s\u001b[0m 16ms/step - accuracy: 0.9064 - loss: 3.8556 - val_accuracy: 0.9408 - val_loss: 3.7471\n",
      "Epoch 77/100\n",
      "\u001b[1m10/10\u001b[0m \u001b[32m━━━━━━━━━━━━━━━━━━━━\u001b[0m\u001b[37m\u001b[0m \u001b[1m0s\u001b[0m 13ms/step - accuracy: 0.9097 - loss: 3.8192 - val_accuracy: 0.9394 - val_loss: 3.7148\n",
      "Epoch 78/100\n",
      "\u001b[1m10/10\u001b[0m \u001b[32m━━━━━━━━━━━━━━━━━━━━\u001b[0m\u001b[37m\u001b[0m \u001b[1m0s\u001b[0m 14ms/step - accuracy: 0.9125 - loss: 3.7840 - val_accuracy: 0.9447 - val_loss: 3.6817\n",
      "Epoch 79/100\n",
      "\u001b[1m10/10\u001b[0m \u001b[32m━━━━━━━━━━━━━━━━━━━━\u001b[0m\u001b[37m\u001b[0m \u001b[1m0s\u001b[0m 13ms/step - accuracy: 0.9098 - loss: 3.7583 - val_accuracy: 0.9386 - val_loss: 3.6479\n",
      "Epoch 80/100\n",
      "\u001b[1m10/10\u001b[0m \u001b[32m━━━━━━━━━━━━━━━━━━━━\u001b[0m\u001b[37m\u001b[0m \u001b[1m0s\u001b[0m 14ms/step - accuracy: 0.9157 - loss: 3.7292 - val_accuracy: 0.9491 - val_loss: 3.6173\n",
      "Epoch 81/100\n",
      "\u001b[1m10/10\u001b[0m \u001b[32m━━━━━━━━━━━━━━━━━━━━\u001b[0m\u001b[37m\u001b[0m \u001b[1m0s\u001b[0m 15ms/step - accuracy: 0.9095 - loss: 3.6921 - val_accuracy: 0.9447 - val_loss: 3.5851\n",
      "Epoch 82/100\n",
      "\u001b[1m10/10\u001b[0m \u001b[32m━━━━━━━━━━━━━━━━━━━━\u001b[0m\u001b[37m\u001b[0m \u001b[1m0s\u001b[0m 14ms/step - accuracy: 0.9174 - loss: 3.6528 - val_accuracy: 0.9351 - val_loss: 3.5549\n",
      "Epoch 83/100\n",
      "\u001b[1m10/10\u001b[0m \u001b[32m━━━━━━━━━━━━━━━━━━━━\u001b[0m\u001b[37m\u001b[0m \u001b[1m0s\u001b[0m 13ms/step - accuracy: 0.9102 - loss: 3.6171 - val_accuracy: 0.9389 - val_loss: 3.5231\n",
      "Epoch 84/100\n",
      "\u001b[1m10/10\u001b[0m \u001b[32m━━━━━━━━━━━━━━━━━━━━\u001b[0m\u001b[37m\u001b[0m \u001b[1m0s\u001b[0m 15ms/step - accuracy: 0.9175 - loss: 3.5745 - val_accuracy: 0.9453 - val_loss: 3.4924\n",
      "Epoch 85/100\n",
      "\u001b[1m10/10\u001b[0m \u001b[32m━━━━━━━━━━━━━━━━━━━━\u001b[0m\u001b[37m\u001b[0m \u001b[1m0s\u001b[0m 14ms/step - accuracy: 0.9119 - loss: 3.5650 - val_accuracy: 0.9397 - val_loss: 3.4628\n",
      "Epoch 86/100\n",
      "\u001b[1m10/10\u001b[0m \u001b[32m━━━━━━━━━━━━━━━━━━━━\u001b[0m\u001b[37m\u001b[0m \u001b[1m0s\u001b[0m 16ms/step - accuracy: 0.9110 - loss: 3.5528 - val_accuracy: 0.9525 - val_loss: 3.4237\n",
      "Epoch 87/100\n",
      "\u001b[1m10/10\u001b[0m \u001b[32m━━━━━━━━━━━━━━━━━━━━\u001b[0m\u001b[37m\u001b[0m \u001b[1m0s\u001b[0m 14ms/step - accuracy: 0.9118 - loss: 3.4938 - val_accuracy: 0.9350 - val_loss: 3.3959\n",
      "Epoch 88/100\n",
      "\u001b[1m10/10\u001b[0m \u001b[32m━━━━━━━━━━━━━━━━━━━━\u001b[0m\u001b[37m\u001b[0m \u001b[1m0s\u001b[0m 13ms/step - accuracy: 0.9167 - loss: 3.4662 - val_accuracy: 0.9493 - val_loss: 3.3650\n",
      "Epoch 89/100\n",
      "\u001b[1m10/10\u001b[0m \u001b[32m━━━━━━━━━━━━━━━━━━━━\u001b[0m\u001b[37m\u001b[0m \u001b[1m0s\u001b[0m 13ms/step - accuracy: 0.9156 - loss: 3.4310 - val_accuracy: 0.9528 - val_loss: 3.3316\n",
      "Epoch 90/100\n",
      "\u001b[1m10/10\u001b[0m \u001b[32m━━━━━━━━━━━━━━━━━━━━\u001b[0m\u001b[37m\u001b[0m \u001b[1m0s\u001b[0m 13ms/step - accuracy: 0.9146 - loss: 3.3992 - val_accuracy: 0.9528 - val_loss: 3.3054\n",
      "Epoch 91/100\n",
      "\u001b[1m10/10\u001b[0m \u001b[32m━━━━━━━━━━━━━━━━━━━━\u001b[0m\u001b[37m\u001b[0m \u001b[1m0s\u001b[0m 14ms/step - accuracy: 0.9165 - loss: 3.3758 - val_accuracy: 0.9424 - val_loss: 3.2727\n",
      "Epoch 92/100\n",
      "\u001b[1m10/10\u001b[0m \u001b[32m━━━━━━━━━━━━━━━━━━━━\u001b[0m\u001b[37m\u001b[0m \u001b[1m0s\u001b[0m 14ms/step - accuracy: 0.9183 - loss: 3.3434 - val_accuracy: 0.9442 - val_loss: 3.2473\n",
      "Epoch 93/100\n",
      "\u001b[1m10/10\u001b[0m \u001b[32m━━━━━━━━━━━━━━━━━━━━\u001b[0m\u001b[37m\u001b[0m \u001b[1m0s\u001b[0m 15ms/step - accuracy: 0.9229 - loss: 3.2979 - val_accuracy: 0.9470 - val_loss: 3.2190\n",
      "Epoch 94/100\n",
      "\u001b[1m10/10\u001b[0m \u001b[32m━━━━━━━━━━━━━━━━━━━━\u001b[0m\u001b[37m\u001b[0m \u001b[1m0s\u001b[0m 14ms/step - accuracy: 0.9131 - loss: 3.2875 - val_accuracy: 0.9436 - val_loss: 3.1979\n",
      "Epoch 95/100\n",
      "\u001b[1m10/10\u001b[0m \u001b[32m━━━━━━━━━━━━━━━━━━━━\u001b[0m\u001b[37m\u001b[0m \u001b[1m0s\u001b[0m 14ms/step - accuracy: 0.9196 - loss: 3.2525 - val_accuracy: 0.9470 - val_loss: 3.1624\n",
      "Epoch 96/100\n",
      "\u001b[1m10/10\u001b[0m \u001b[32m━━━━━━━━━━━━━━━━━━━━\u001b[0m\u001b[37m\u001b[0m \u001b[1m0s\u001b[0m 14ms/step - accuracy: 0.9128 - loss: 3.2260 - val_accuracy: 0.9424 - val_loss: 3.1321\n",
      "Epoch 97/100\n",
      "\u001b[1m10/10\u001b[0m \u001b[32m━━━━━━━━━━━━━━━━━━━━\u001b[0m\u001b[37m\u001b[0m \u001b[1m0s\u001b[0m 17ms/step - accuracy: 0.9179 - loss: 3.1901 - val_accuracy: 0.9424 - val_loss: 3.1058\n",
      "Epoch 98/100\n",
      "\u001b[1m10/10\u001b[0m \u001b[32m━━━━━━━━━━━━━━━━━━━━\u001b[0m\u001b[37m\u001b[0m \u001b[1m1s\u001b[0m 64ms/step - accuracy: 0.9177 - loss: 3.1804 - val_accuracy: 0.9528 - val_loss: 3.0757\n",
      "Epoch 99/100\n",
      "\u001b[1m10/10\u001b[0m \u001b[32m━━━━━━━━━━━━━━━━━━━━\u001b[0m\u001b[37m\u001b[0m \u001b[1m0s\u001b[0m 14ms/step - accuracy: 0.9331 - loss: 3.1308 - val_accuracy: 0.9385 - val_loss: 3.0485\n",
      "Epoch 100/100\n",
      "\u001b[1m10/10\u001b[0m \u001b[32m━━━━━━━━━━━━━━━━━━━━\u001b[0m\u001b[37m\u001b[0m \u001b[1m0s\u001b[0m 13ms/step - accuracy: 0.9153 - loss: 3.1319 - val_accuracy: 0.9470 - val_loss: 3.0215\n"
     ]
    }
   ],
   "source": [
    "history = model.fit(train_padded,\n",
    "    y_train,\n",
    "    epochs=100,\n",
    "    batch_size=512,\n",
    "    validation_split=0.7)"
   ]
  },
  {
   "cell_type": "code",
   "execution_count": 81,
   "id": "b547001f-a17d-46be-8c8a-092f5ab12182",
   "metadata": {},
   "outputs": [],
   "source": [
    "#!pip install matplotlib"
   ]
  },
  {
   "cell_type": "code",
   "execution_count": 82,
   "id": "c7aa4221-41a7-4cfb-bbd5-a5deb0aa2589",
   "metadata": {},
   "outputs": [],
   "source": [
    "import matplotlib.pyplot as plt"
   ]
  },
  {
   "cell_type": "code",
   "execution_count": 83,
   "id": "a30f4513-07c6-4b19-a616-5aa4b61a8324",
   "metadata": {},
   "outputs": [
    {
     "data": {
      "image/png": "[encoded data removed]",
      "text/plain": [
       "<Figure size 640x480 with 1 Axes>"
      ]
     },
     "metadata": {},
     "output_type": "display_data"
    }
   ],
   "source": [
    "#plotting the training and validation loss\n",
    "loss = history.history[\"loss\"]\n",
    "val_loss = history.history[\"val_loss\"]\n",
    "epochs = range(1, len(loss) + 1)\n",
    "plt.plot(epochs, loss, \"bo\", label=\"Training loss\")\n",
    "plt.plot(epochs, val_loss, \"b\", label=\"Validation loss\")\n",
    "plt.title(\"Training and validation loss\")\n",
    "plt.xlabel(\"Epochs\")\n",
    "plt.ylabel(\"Loss\")\n",
    "plt.legend()\n",
    "plt.show()"
   ]
  },
  {
   "cell_type": "code",
   "execution_count": 84,
   "id": "77ee161d-3b8e-4cf4-affc-3968869a1e5c",
   "metadata": {
    "scrolled": true
   },
   "outputs": [
    {
     "data": {
      "text/plain": [
       "dict_keys(['accuracy', 'loss', 'val_accuracy', 'val_loss'])"
      ]
     },
     "execution_count": 84,
     "metadata": {},
     "output_type": "execute_result"
    }
   ],
   "source": [
    "history.history.keys()"
   ]
  },
  {
   "cell_type": "code",
   "execution_count": 85,
   "id": "4115eead-7120-4509-884f-2d00629d610a",
   "metadata": {},
   "outputs": [],
   "source": [
    "train_metric = 'accuracy'\n",
    "val_metric = 'val_accuracy'"
   ]
  },
  {
   "cell_type": "code",
   "execution_count": 86,
   "id": "2d2d6edd-a54b-4b33-8565-a029cd6ac5e4",
   "metadata": {},
   "outputs": [
    {
     "data": {
      "image/png": "[encoded data removed]",
      "text/plain": [
       "<Figure size 640x480 with 1 Axes>"
      ]
     },
     "metadata": {},
     "output_type": "display_data"
    }
   ],
   "source": [
    "#plotting the training and validation accuracy\n",
    "plt.clf()\n",
    "acc = history.history[train_metric]\n",
    "val_acc = history.history[val_metric]\n",
    "plt.plot(epochs, acc, \"bo\", label=\"Training accuracy\")\n",
    "plt.plot(epochs, val_acc, \"b\", label=\"Validation accuracy\")\n",
    "plt.title(\"Training and validation accuracy\")\n",
    "plt.xlabel(\"Epochs\")\n",
    "plt.ylabel(\"Accuracy\")\n",
    "plt.legend()\n",
    "plt.show()"
   ]
  },
  {
   "cell_type": "code",
   "execution_count": 87,
   "id": "7c018371-4b16-49eb-a153-701a8761c0cc",
   "metadata": {},
   "outputs": [
    {
     "name": "stdout",
     "output_type": "stream",
     "text": [
      "\u001b[1m132/132\u001b[0m \u001b[32m━━━━━━━━━━━━━━━━━━━━\u001b[0m\u001b[37m\u001b[0m \u001b[1m0s\u001b[0m 784us/step - accuracy: 0.9471 - loss: 3.0199\n"
     ]
    },
    {
     "data": {
      "text/plain": [
       "[3.010782241821289, 0.9497630596160889]"
      ]
     },
     "execution_count": 87,
     "metadata": {},
     "output_type": "execute_result"
    }
   ],
   "source": [
    "model.evaluate(test_padded, y_test)"
   ]
  },
  {
   "cell_type": "code",
   "execution_count": 88,
   "id": "ba39bb7f-077a-4f7b-9b3f-4daa79ef67bb",
   "metadata": {},
   "outputs": [
    {
     "data": {
      "text/plain": [
       "array([8, 3, 8, ..., 3, 1, 9])"
      ]
     },
     "execution_count": 88,
     "metadata": {},
     "output_type": "execute_result"
    }
   ],
   "source": [
    "y_test"
   ]
  },
  {
   "cell_type": "code",
   "execution_count": 89,
   "id": "518f9bae-6b76-478c-9745-3450b1159990",
   "metadata": {},
   "outputs": [
    {
     "name": "stdout",
     "output_type": "stream",
     "text": [
      "\u001b[1m132/132\u001b[0m \u001b[32m━━━━━━━━━━━━━━━━━━━━\u001b[0m\u001b[37m\u001b[0m \u001b[1m0s\u001b[0m 695us/step\n"
     ]
    }
   ],
   "source": [
    "predictions = model.predict(test_padded)"
   ]
  },
  {
   "cell_type": "code",
   "execution_count": 90,
   "id": "b2ce1713-65a3-41e8-995f-e8f4ab039e33",
   "metadata": {},
   "outputs": [
    {
     "data": {
      "text/plain": [
       "array([3.84206085e+01, 5.23424416e+01, 1.33954735e+01, 3.66380424e+01,\n",
       "       2.32027359e+01, 1.68300724e+01, 8.16897125e+01, 1.21496601e+01,\n",
       "       5.10993996e+01, 3.53060074e+01, 6.83914852e+00, 2.01821594e+01,\n",
       "       3.64045054e-02, 0.00000000e+00, 0.00000000e+00, 6.29873419e+00,\n",
       "       0.00000000e+00, 0.00000000e+00, 9.99648476e+00, 0.00000000e+00,\n",
       "       0.00000000e+00, 0.00000000e+00, 0.00000000e+00, 0.00000000e+00,\n",
       "       6.93192625e+00, 2.91886759e+00, 5.97619295e+00, 0.00000000e+00,\n",
       "       5.64723730e+00, 2.43683720e+00, 2.53115952e-01, 1.80310857e+00,\n",
       "       5.62511444e+00, 5.99360049e-01, 0.00000000e+00, 8.49369144e+00,\n",
       "       8.43694806e-02, 8.05670977e-01, 0.00000000e+00, 0.00000000e+00,\n",
       "       0.00000000e+00, 8.91295254e-01, 0.00000000e+00, 0.00000000e+00,\n",
       "       0.00000000e+00, 0.00000000e+00, 3.84529901e+00, 0.00000000e+00,\n",
       "       9.24263096e+00, 2.43536663e+00, 0.00000000e+00, 0.00000000e+00,\n",
       "       0.00000000e+00, 0.00000000e+00, 0.00000000e+00, 0.00000000e+00,\n",
       "       2.62493348e+00, 0.00000000e+00, 0.00000000e+00, 6.75157404e+00,\n",
       "       0.00000000e+00, 3.99716878e+00, 2.95498586e+00, 3.00837350e+00,\n",
       "       4.27359676e+00, 1.16091847e+00, 0.00000000e+00, 2.62374878e+00,\n",
       "       0.00000000e+00, 0.00000000e+00, 2.56079388e+00, 4.12673187e+00,\n",
       "       2.25853324e+00, 0.00000000e+00, 0.00000000e+00, 1.47100580e+00,\n",
       "       7.14637995e+00, 0.00000000e+00, 4.78323269e+00, 4.27608013e+00,\n",
       "       0.00000000e+00, 1.88015833e-01, 0.00000000e+00, 7.18545437e-01,\n",
       "       0.00000000e+00, 2.30552435e+00, 0.00000000e+00, 0.00000000e+00,\n",
       "       1.02791953e+00, 2.43811399e-01, 3.88544202e-02, 0.00000000e+00,\n",
       "       2.09299755e+01, 0.00000000e+00, 1.02046597e+00, 9.64484787e+00,\n",
       "       5.93295813e-01, 3.53652388e-01, 0.00000000e+00, 0.00000000e+00,\n",
       "       7.25868464e-01, 2.74168205e+00, 0.00000000e+00, 0.00000000e+00,\n",
       "       0.00000000e+00, 0.00000000e+00, 0.00000000e+00, 8.74315083e-01,\n",
       "       1.20766640e-01, 4.75796193e-01, 1.35348111e-01, 4.16845441e-01,\n",
       "       0.00000000e+00, 0.00000000e+00, 6.31510639e+00, 1.19968522e+00,\n",
       "       0.00000000e+00, 0.00000000e+00, 0.00000000e+00, 7.84343660e-01,\n",
       "       2.80706930e+00, 1.47866583e+00, 2.02291131e+00, 7.03312969e+00,\n",
       "       0.00000000e+00, 0.00000000e+00, 2.80982423e+00, 1.01686220e+01,\n",
       "       0.00000000e+00, 1.78404599e-01, 5.83192348e+00, 0.00000000e+00,\n",
       "       0.00000000e+00, 1.52723062e+00, 0.00000000e+00, 3.55124176e-01,\n",
       "       0.00000000e+00, 4.65840626e+00, 1.31931376e+00, 5.25336742e+00,\n",
       "       0.00000000e+00, 0.00000000e+00, 0.00000000e+00, 3.70882559e+00,\n",
       "       0.00000000e+00, 6.22519016e-01, 0.00000000e+00, 4.99475670e+00,\n",
       "       0.00000000e+00, 0.00000000e+00, 0.00000000e+00, 0.00000000e+00,\n",
       "       0.00000000e+00, 3.85474712e-02, 5.28889322e+00, 0.00000000e+00,\n",
       "       0.00000000e+00, 0.00000000e+00, 0.00000000e+00, 0.00000000e+00,\n",
       "       0.00000000e+00, 0.00000000e+00, 1.46766841e+00, 0.00000000e+00,\n",
       "       0.00000000e+00, 8.67364049e-01, 0.00000000e+00, 0.00000000e+00,\n",
       "       5.54784298e+00, 4.86462307e+00, 5.36700964e-01, 3.04786086e-01,\n",
       "       0.00000000e+00, 0.00000000e+00, 0.00000000e+00, 2.04754800e-01,\n",
       "       4.80105591e+00, 1.99615926e-01, 0.00000000e+00, 0.00000000e+00,\n",
       "       0.00000000e+00, 0.00000000e+00, 0.00000000e+00, 0.00000000e+00,\n",
       "       0.00000000e+00, 0.00000000e+00, 1.84835076e+00, 0.00000000e+00,\n",
       "       5.02109671e+00, 0.00000000e+00, 3.04371905e+00, 0.00000000e+00,\n",
       "       3.02671432e+00, 1.28477025e+00, 1.02866685e+00, 0.00000000e+00,\n",
       "       5.14410114e+00, 0.00000000e+00, 1.88101336e-01, 3.48058534e+00,\n",
       "       0.00000000e+00, 6.14010668e+00, 6.47419357e+00, 0.00000000e+00,\n",
       "       0.00000000e+00, 0.00000000e+00, 0.00000000e+00, 1.21642351e-01,\n",
       "       0.00000000e+00, 9.08099174e+00, 0.00000000e+00, 0.00000000e+00,\n",
       "       0.00000000e+00, 0.00000000e+00, 0.00000000e+00, 1.55953968e+00,\n",
       "       0.00000000e+00, 0.00000000e+00, 0.00000000e+00, 1.11193695e+01,\n",
       "       0.00000000e+00, 0.00000000e+00, 0.00000000e+00, 0.00000000e+00,\n",
       "       4.17419243e+00, 0.00000000e+00, 1.71489925e+01, 0.00000000e+00,\n",
       "       6.64119339e+00, 4.40417862e+00, 3.21817040e-01, 0.00000000e+00,\n",
       "       4.76504421e+00, 0.00000000e+00, 1.02477903e+01, 2.06286478e+00,\n",
       "       0.00000000e+00, 3.20122218e+00, 0.00000000e+00, 2.20020342e+00],\n",
       "      dtype=float32)"
      ]
     },
     "execution_count": 90,
     "metadata": {},
     "output_type": "execute_result"
    }
   ],
   "source": [
    "predictions[3]"
   ]
  },
  {
   "cell_type": "code",
   "execution_count": 91,
   "id": "4d9d91c4-d085-4b17-bfc9-2055ed0a1a16",
   "metadata": {},
   "outputs": [],
   "source": [
    "pred_list = []\n",
    "for p in predictions:\n",
    "   pred_list.append(p.argmax())"
   ]
  },
  {
   "cell_type": "code",
   "execution_count": 92,
   "id": "079e4a81-098c-464c-90c8-9b15ae15cef1",
   "metadata": {},
   "outputs": [],
   "source": [
    "from sklearn.metrics import f1_score"
   ]
  },
  {
   "cell_type": "code",
   "execution_count": 93,
   "id": "596ac104-8f40-4417-a0a7-1f85c83dfe63",
   "metadata": {},
   "outputs": [
    {
     "data": {
      "text/plain": [
       "0.9497630331753555"
      ]
     },
     "execution_count": 93,
     "metadata": {},
     "output_type": "execute_result"
    }
   ],
   "source": [
    "f1_score(y_test, pred_list, average='micro')"
   ]
  },
  {
   "cell_type": "code",
   "execution_count": 94,
   "id": "753df257-68a6-4b37-80d1-d8db636ab49a",
   "metadata": {},
   "outputs": [],
   "source": [
    "qa_df = pd.DataFrame({\"text\":X_test.content.to_numpy(), \n",
    "              \"true_value\":le.inverse_transform(y_test), \n",
    "              \"predicted_value\": le.inverse_transform(pred_list)})"
   ]
  },
  {
   "cell_type": "code",
   "execution_count": 95,
   "id": "f67a7732-b274-49c6-bdcf-abdec727d016",
   "metadata": {},
   "outputs": [],
   "source": [
    "dup_index = qa_df.duplicated()\n",
    "qa_df = qa_df[~dup_index].copy()"
   ]
  },
  {
   "cell_type": "code",
   "execution_count": 96,
   "id": "6620af8c-2e8a-424e-a14f-3632fa9bbcd5",
   "metadata": {},
   "outputs": [
    {
     "name": "stdout",
     "output_type": "stream",
     "text": [
      "They literally scamming you. They show live prices of the tokens and when you sell they make it 10% less, but if you buy it they'll make 5% higher . It's a fraud , don't recommend anyone. And it's not coz if the market price change or any other factor, I had multiple such cases and every time on any exchange / market price was hig6and stable, but they make the swap/sell transaction with 10% lower rate.\n",
      "True value: Transaction Fees/Speed\n",
      "Predicted value: Transaction Fees/Speed\n",
      "***********************\n",
      "Doesn't support U.S Trades then pointless app\n",
      "True value: Features/Functionality\n",
      "Predicted value: Features/Functionality\n",
      "***********************\n",
      "Don't use their \"CARDS\" can't buy crypto with them or transfer back to a bank. When you buy your crypto they wait to process for the higher price.\n",
      "True value: Transaction Fees/Speed\n",
      "Predicted value: Transaction Fees/Speed\n",
      "***********************\n",
      "This is a scam app thank God I didn't deposited so much money Imagine an app crashing I wouldn't have even rated you a single star fraudulent app nonsense don't try to download it so you can save your money, than you giving it out to some set of scammers\n",
      "True value: Reliability/Stability\n",
      "Predicted value: Reliability/Stability\n",
      "***********************\n",
      "good\n",
      "True value: Generic feedback\n",
      "Predicted value: Generic feedback\n",
      "***********************\n",
      "Seems like a rip off when you use it. Hidden fees, skewed exchange rates, etc.\n",
      "True value: Transaction Fees/Speed\n",
      "Predicted value: Transaction Fees/Speed\n",
      "***********************\n",
      "Decent exchange but the Tax API doesn't work. I've learned to avoid exchanges with missing transactions or no transactions come through on the Tax API because of the amount of effort involved in trying to find the small discrepancies all over the place. So unfortunately have deleted Bybit.\n",
      "True value: Features/Functionality\n",
      "Predicted value: Features/Functionality\n",
      "***********************\n",
      "Nice\n",
      "True value: Generic feedback\n",
      "Predicted value: Generic feedback\n",
      "***********************\n",
      "Hate it. I cannot log in or nothing\n",
      "True value: Reliability/Stability\n",
      "Predicted value: Usability/UI/UX\n",
      "***********************\n",
      "Bought a good amount of crypto and now it says it needs an update for me to continue to use it but it won't update or let me back in.\n",
      "True value: Reliability/Stability\n",
      "Predicted value: Reliability/Stability\n",
      "***********************\n",
      "Astronomical fees and exchange rates. False value display for owned coins. Stay away.\n",
      "True value: Transaction Fees/Speed\n",
      "Predicted value: Transaction Fees/Speed\n",
      "***********************\n",
      "Bad Service.I Apply virtual visa card more than 10 days ago. But i cannot receive virtual card in my account.\n",
      "True value: Customer Support\n",
      "Predicted value: Customer Support\n",
      "***********************\n",
      "The Google authentication is not working properly,I can't log in or reset my password it keeps say authentication code incorrect.\n",
      "True value: Account Management\n",
      "Predicted value: Account Management\n",
      "***********************\n",
      "I'm updating my app, till reach 85%, network has to restart, and you guys start from the scratch, what a rubbish play store\n",
      "True value: Reliability/Stability\n",
      "Predicted value: Reliability/Stability\n",
      "***********************\n",
      "P2P transactions are full of scammers. Five out of ten transactions are fraudulent and they are causing us to lose money by claiming that we paid without paying.\n",
      "True value: Reliability/Stability\n",
      "Predicted value: Reliability/Stability\n",
      "***********************\n",
      "This app isn't worth downloading. The app regularly doesn't work right and options trading on it is a nightmare. Doesn't deserve a star and is lawsuit worthy.\n",
      "True value: Reliability/Stability\n",
      "Predicted value: Reliability/Stability\n",
      "***********************\n",
      "This company lied about burning coins in 2021 and now their CEO is addressing it's customers on social media like 3rd class citizens! Not to be trusted.\n",
      "True value: Reliability/Stability\n",
      "Predicted value: Reliability/Stability\n",
      "***********************\n",
      "Very bad customer service,,,, this is not expected from them.Bitget offers very good customer service.\n",
      "True value: Customer Support\n",
      "Predicted value: Customer Support\n",
      "***********************\n",
      "I am not ok providing bio metrics, I greatly appreciate the security but this has never been necessary.\n",
      "True value: Verification/KYC/AML Processes\n",
      "Predicted value: Verification/KYC/AML Processes\n",
      "***********************\n",
      "Quick\n",
      "True value: Generic feedback\n",
      "Predicted value: Generic feedback\n",
      "***********************\n",
      "Puzzle hunt can't claim the rewards it's wasting those people like me who bought from others to complete it...\n",
      "True value: Features/Functionality\n",
      "Predicted value: Features/Functionality\n",
      "***********************\n",
      "Why is it that I can't get into my account until I update the app again !!!!!! I'm closing this account today!\n",
      "True value: Account Management\n",
      "Predicted value: Account Management\n",
      "***********************\n",
      "Keep on asking you to update, but after the update, still asking for updates. After uninstall still asking for update. Forever updating ...\n",
      "True value: Reliability/Stability\n",
      "Predicted value: Reliability/Stability\n",
      "***********************\n",
      "Horrible!! Ever since the latest update the App is soooo slow. And it won't let me log in to my existing account.\n",
      "True value: Reliability/Stability\n",
      "Predicted value: Reliability/Stability\n",
      "***********************\n",
      "11% fee to sell is to much otherwise everything is ok with the transfer\n",
      "True value: Transaction Fees/Speed\n",
      "Predicted value: Transaction Fees/Speed\n",
      "***********************\n",
      "God awful amounts of fees charged to transfer to an external wallet. Save yourself an insane amount of money and use a different exchange.\n",
      "True value: Transaction Fees/Speed\n",
      "Predicted value: Transaction Fees/Speed\n",
      "***********************\n",
      "It's not downloading\n",
      "True value: Reliability/Stability\n",
      "Predicted value: Generic feedback\n",
      "***********************\n",
      "Super fun action for the gambling addict in all of us but not intuitive or very user friendly. Constant updates require more and more data. It takes some getting used to and I understand few of the many abbreviations. Customer service is non existent and I'm pretty sure non human. It gets sketchy when you realize the place that has your money has no address or customer service phone number! The only phone support is for THEIR visa card holders.\n",
      "True value: Usability/UI/UX\n",
      "Predicted value: Usability/UI/UX\n",
      "***********************\n",
      "The app is very slow to respond.\n",
      "True value: Reliability/Stability\n",
      "Predicted value: Reliability/Stability\n",
      "***********************\n",
      "Bybit Exchange Loses $1.4 Billion in Major Security Breach, Ethereum Price Falls Crypto News Bybit Exchange Loses $1.4 Billion in Major Security Breach, Ethereum Price Falls By Yousra Anwar Ahmed 2m Created 1d ago, last updated 1d ago Bybit loses $1.4B in hacked wallet transfer, remains solvent despite the breach as Ethereum price drops 2%. ￼￼ Bybit suffered a security breach today, with attackers stealing approximately $1.4 billio\n",
      "True value: Security\n",
      "Predicted value: Security\n",
      "***********************\n",
      "This app weights 460 MB! Old review: Stop forcing me to update\n",
      "True value: Usability/UI/UX\n",
      "Predicted value: Usability/UI/UX\n",
      "***********************\n",
      "The best P2p trading application so far\n",
      "True value: Features/Functionality\n",
      "Predicted value: Features/Functionality\n",
      "***********************\n",
      "ITS A SCAM! They hide a way to get your money out. It's a whole process just to sell your crypto. Anytime I buy crypto it falls even when I wait hours looking at it drop every 5 mins. I've basically lost all of it because I can't get the rest out. Never again. EDIT: I got ahold of support and it's done nothing. There's no withdraw button and why do I have to link a bank account to get money back when they can take it ight off my debit card????\n",
      "True value: Account Management\n",
      "Predicted value: Account Management\n",
      "***********************\n",
      "a pain to use, and you can't withdraw under $100. I do not recommend.\n",
      "True value: Usability/UI/UX\n",
      "Predicted value: Usability/UI/UX\n",
      "***********************\n",
      "can't log in please help\n",
      "True value: Account Management\n",
      "Predicted value: Account Management\n",
      "***********************\n",
      "Quality has plummeted, ever since kris took over it has been non stop back stabbing of customers. Today he's announced he's tanking again the price after a pretend vote (he controls 80%) and is telling people against it \"just sell\" I'd love to sell kris, but you intentionally made the coin worthless to steal money for shareholders. See you next tuesdays.\n",
      "True value: Reliability/Stability\n",
      "Predicted value: Reliability/Stability\n",
      "***********************\n",
      "Put 350 in today itll be worth 100 less in 2 days this app is a joke, and u want ur money back good luck 3 weeks after ur bank processes it maybe\n",
      "True value: Transaction Fees/Speed\n",
      "Predicted value: Transaction Fees/Speed\n",
      "***********************\n",
      "really easy to use\n",
      "True value: Usability/UI/UX\n",
      "Predicted value: Usability/UI/UX\n",
      "***********************\n",
      "Simply the most user-friendly crypto app\n",
      "True value: Usability/UI/UX\n",
      "Predicted value: Usability/UI/UX\n",
      "***********************\n",
      "Not best\n",
      "True value: Generic feedback\n",
      "Predicted value: Generic feedback\n",
      "***********************\n",
      "Put money in by mistake and not sure how I get it back to my account, plus not sure if it my account need someone to help verify\n",
      "True value: Account Management\n",
      "Predicted value: Account Management\n",
      "***********************\n",
      "Nice wow\n",
      "True value: Generic feedback\n",
      "Predicted value: Generic feedback\n",
      "***********************\n",
      "decent\n",
      "True value: Generic feedback\n",
      "Predicted value: Generic feedback\n",
      "***********************\n",
      "the bybt app is cool, but you guys need 2 upgrade on something, why wud a seller hold a buyer's transaction witout sending money, the buyer wud marked the transaction as sucesful without sendn the money, bcus of misunderstanding, that's not professional, cus u guys would @ the end tell the person 2 sort it out with the seller, knowing fully wel is not ethics, you guys shud upgrade knowing wen someone's isn't intentionally sending the money and punish him/her. what if the buyer is on emergency.\n",
      "True value: Customer Support\n",
      "Predicted value: Customer Support\n",
      "***********************\n",
      "it good but difficult to use\n",
      "True value: Usability/UI/UX\n",
      "Predicted value: Generic feedback\n",
      "***********************\n",
      "Customer support needs some improvement\n",
      "True value: Customer Support\n",
      "Predicted value: Customer Support\n",
      "***********************\n",
      "I believe this app might be a scam, been waiting for HOURS for customer support to solve my issue regarding withdrawing funds after sending them information ovrr and over. I keep losing money and not able to get out, do n o t use this app or you'll be under a lot of stress with tied hands.\n",
      "True value: Customer Support\n",
      "Predicted value: Customer Support\n",
      "***********************\n",
      "Scammers .50% feed out Cash\n",
      "True value: Security\n",
      "Predicted value: Security\n",
      "***********************\n",
      "The best trading application\n",
      "True value: Generic feedback\n",
      "Predicted value: Generic feedback\n",
      "***********************\n",
      "The worst shady app there is. Absolutely the worst on ramp. Crazy fees and shady methods. Go anywhere else\n",
      "True value: Transaction Fees/Speed\n",
      "Predicted value: Transaction Fees/Speed\n",
      "***********************\n",
      "Terrible Apps! As commented as other user~ Terrible customer support Terrible cost pricing versus graph\n",
      "True value: Customer Support\n",
      "Predicted value: Customer Support\n",
      "***********************\n",
      "Bybit is restricted on your country why it says like this pls i live in ethipioa\n",
      "True value: Account Management\n",
      "Predicted value: Account Management\n",
      "***********************\n",
      "This app freezes up way too much. Not good especially when in the middle of a trade. Planning to pull my account and go somewhere else.\n",
      "True value: Reliability/Stability\n",
      "Predicted value: Reliability/Stability\n",
      "***********************\n",
      "Don't install this app, 250 pounds down the drain , I sold when I started losing, had 200 pound left , and the app won't let me transfer funds to my main bank account, SO U CAN PUT MONEY ON BUT U CANT TAKE IT OUT , u have to use their shifty references to transfer money which I'm reading is a scam , THIS IS DIRTY BUSINESS, USE A APP U CAN TRUST AND THAT MAKES EASY TRANSFERS\n",
      "True value: Account Management\n",
      "Predicted value: Account Management\n",
      "***********************\n",
      "The app is still junk. The same problems for over two years. Trying to top up my debit card always requires me to shut down the app and restart. Don't ask me my phone make/model or tell me it's a problem with my phone ... It's been like that what different phones. The other nuisance is the forced updates... FFS give us a heads up beforehand. Don't just lock us out of the bloody app. It's so frustrating. And why does it need more than 2Gb of storage space to update with a 45Mb update? Grr\n",
      "True value: Usability/UI/UX\n",
      "Predicted value: Usability/UI/UX\n",
      "***********************\n",
      "Hi guys, in the name of constantly fine tuning the App, keep creating silly bugs, makes us frustrated with using it. Please test the app for basic functions before releasing a new version. App stability and reliability is important however basic it appears 🙏 BTW, your CS on live chat also seems to have no clue, as what is happening with us, the hapless users! Kaizen - continuous improvement is necessary but not at the expense of screwing up an already working App function! Do you QA b4 release?\n",
      "True value: Reliability/Stability\n",
      "Predicted value: Reliability/Stability\n",
      "***********************\n",
      "Use BINANCE for your sanity!!!! Buying crypto throu this app will cost you more then using exchange??? Dont go for diamond prizes, those jersey cost 100-150 eur online and they want you to buy it for 5k diamonds????? Visa Card if you transfer money from \"cash wallet\" to card wallet you cant use that money for crypto anymore????????? You will see me no more when i return my cro at .15 cent!!!!!\n",
      "True value: Transaction Fees/Speed\n",
      "Predicted value: Transaction Fees/Speed\n",
      "***********************\n",
      "hello, if you are reading this...I think u should avoid trading on bybit because...u will be doom to loss your capital gradually. Am talking from experience... including fees and they don't allow you to transfer the total of your initial capital from each trades between each crypto u trade on... leaving behind some little money and causing you to struggle to make profits while you trade. Avoid this app...if you know what is good for you.\n",
      "True value: Transaction Fees/Speed\n",
      "Predicted value: Transaction Fees/Speed\n",
      "***********************\n",
      "Was loving it untill they locked me out of buying crypto one month in. And will not tell me how to fix it. Who can invest like this.\n",
      "True value: Customer Support\n",
      "Predicted value: Customer Support\n",
      "***********************\n",
      "Same as the other users here. I'm sent a code then I use it and tells me it's the wrong code....???? I'd love to use this exchange system,if I could actually get into it.\n",
      "True value: Verification/KYC/AML Processes\n",
      "Predicted value: Verification/KYC/AML Processes\n",
      "***********************\n",
      "easy to use\n",
      "True value: Usability/UI/UX\n",
      "Predicted value: Generic feedback\n",
      "***********************\n",
      "Waiting over a month for them to unlock my account now. Customer service is absolutely dreadful. I already reached out to chat numerous times and it's a waste of my time!\n",
      "True value: Customer Support\n",
      "Predicted value: Customer Support\n",
      "***********************\n",
      "You know every time you do an update I keep thinking you're going to fix the app and you never do, if I leave it on in the background it errors, nothing responds, menus will not work at all, the UI doesn't function, it lags and freezes up constantly it's been going on for over a year. One thing you did right was the updates are updates now and no longer download the entire app instead of updating. Every time you update the app, the exact same thing, are you developers lazy, or just useless?\n",
      "True value: Usability/UI/UX\n",
      "Predicted value: Usability/UI/UX\n",
      "***********************\n",
      "Can you tell Kris's that we know it's his team trying to take us down ? You are the one who are scamming people Stay away from crypto com. Do not buy from them, look at Cro supply and look how many tokens they own, they are scammers Cro is long rug\n",
      "True value: Customer Support\n",
      "Predicted value: Customer Support\n",
      "***********************\n",
      "Ever since the new update I can't even get into my account. It just says pending.\n",
      "True value: Account Management\n",
      "Predicted value: Account Management\n",
      "***********************\n",
      "Horrible with taxes\n",
      "True value: Account Management\n",
      "Predicted value: Generic feedback\n",
      "***********************\n",
      "My account was restricted because I wanted to withdraw my coins to another wallet, up till date I can't recover my coins from bybit, this is a total scam , why would you guys take my money, I have sent all the valuable information and documents till no change\n",
      "True value: Account Management\n",
      "Predicted value: Account Management\n",
      "***********************\n",
      "Update: I don't need a lesson because I know how to get to it after hitting 500 buttons. But how is a person new to your app supposed to know how to search for a coin or stock? EVERY SITE ON EARTH HAS A SEARCH SYMBOI!m gonna 1 star this until they add a search symbol on the UI. Their main interface on the app doesn't have a search button. People do what on an app? Search coins, search stocks. You guys literally have no search for crypto. It's so dumb . Whoever did the interface needs to be fired\n",
      "True value: Usability/UI/UX\n",
      "Predicted value: Usability/UI/UX\n",
      "***********************\n",
      "App no responding sometimes like if it had a connection error but every other app on my phone is working fine.\n",
      "True value: Reliability/Stability\n",
      "Predicted value: Reliability/Stability\n",
      "***********************\n",
      "Was a good app until a little over a month ago when I tried to setup my fiat wallet. 30 plus days of an internal review and still no resolution. In case you're not familiar, you need fiat to withdraw your money. Asked to transfer my crypto to Coinbase or another platform but I was told I have to wait this long drawn out review of 2 documents with my SSN and License. Maybe I'll be able to with draw in the next 4 years. Just a reply to response to my review. That's who I've been in contact with.\n",
      "True value: Account Management\n",
      "Predicted value: Account Management\n",
      "***********************\n",
      "I've had this account a number of years it used to be a little glitchy with me being able to buy but that seems to have been smoothed out and I'm starting to really enjoy this account\n",
      "True value: Reliability/Stability\n",
      "Predicted value: Reliability/Stability\n",
      "***********************\n",
      "Syrian nationality is not accepted!!\n",
      "True value: Verification/KYC/AML Processes\n",
      "Predicted value: Verification/KYC/AML Processes\n",
      "***********************\n",
      "I don't understand bybit all the uprise in btc and other crypto currencies don't affect bybit that's really bad you see other exchange binace remitano you see a good change in it when it comes to bybit there is little or no difference at all you guys should really work on this cause most users are starting to notice\n",
      "True value: Reliability/Stability\n",
      "Predicted value: Reliability/Stability\n",
      "***********************\n",
      "Extremely frustrating! Won't even properly catch my photo.I.D the only time it will take the photo is at a ridiculous angle that does not capture the majority of the ID and then persist to mock you exclaiming that it cannot accept a cut off. I. D because of the location it demands you snap from. Please put in an actual usable button. So we can physically take the photo ourselves. The AI does not work! I attempted with multiple devices thinking that maybe it was because of my device but no.\n",
      "True value: Verification/KYC/AML Processes\n",
      "Predicted value: Verification/KYC/AML Processes\n",
      "***********************\n",
      "I can use it for a day and then it stops working. Everytime.\n",
      "True value: Reliability/Stability\n",
      "Predicted value: Reliability/Stability\n",
      "***********************\n",
      "Insanely high fees... over 20 percent between buying and selling\n",
      "True value: Transaction Fees/Speed\n",
      "Predicted value: Transaction Fees/Speed\n",
      "***********************\n",
      "It is slow now, and they want you to have this security check and this one, and this one. Just make it easy for us to log in.\n",
      "True value: Usability/UI/UX\n",
      "Predicted value: Usability/UI/UX\n",
      "***********************\n",
      "App at times of peak, app does not let you sell but only activates the buy and trade button.\n",
      "True value: Reliability/Stability\n",
      "Predicted value: Reliability/Stability\n",
      "***********************\n",
      "Do not download this app the lie lie lie I've caught them breaking the terms so many times and I still can't get my money off this damn thing. They say I have to show my medical bills to do so. These people need investigated seriously\n",
      "True value: Account Management\n",
      "Predicted value: Account Management\n",
      "***********************\n",
      "This exchange is totally a fraud . My account was 100 percent correct .but I do IP token offer in which my 30 $ used in just trading fees They are showing my account as eligible Now they cancel my account eligibility I received no reward I recommend you to do not use this exchange It is totally a fraud\n",
      "True value: Transaction Fees/Speed\n",
      "Predicted value: Transaction Fees/Speed\n",
      "***********************\n",
      "This app is not user friendly at all. Nothing is linear and it's complicated to find anything you want. There's no option to access your account via email so if your phone number gets changed you're locked out and it's really difficult to change it.\n",
      "True value: Usability/UI/UX\n",
      "Predicted value: Usability/UI/UX\n",
      "***********************\n",
      "The worst support team I've ever seen\n",
      "True value: Customer Support\n",
      "Predicted value: Customer Support\n",
      "***********************\n",
      "The fees ! Are so much. Fees On .001 to external wallet is . 0004 that's like 30 bucks for moving 100$. What a joke\n",
      "True value: Transaction Fees/Speed\n",
      "Predicted value: Transaction Fees/Speed\n",
      "***********************\n",
      "I used crypto com for past few years. The app worked fine but now, I can't type in the pin code to open the app, probably a bug, but it's extremely inconvenient as it can happen when you want to do a transaction. Now I'm locked out of my account and I can't log in. Edit: I had an app allowed to run over other apps and probably was detected by crypto com and I couldn't type the pin because of security protection. It is actually a smart way to protect customers but advise them why it's happening\n",
      "True value: Usability/UI/UX\n",
      "Predicted value: Usability/UI/UX\n",
      "***********************\n",
      "I have a pending asset for a while and it is saying frozen, I need it release please\n",
      "True value: Account Management\n",
      "Predicted value: Account Management\n",
      "***********************\n",
      "Not a good experience for me. Within weeks of openin an account and having my ID verification I made 1 transaction. I was getting ready to make another when system asked me for another ID verification which i though was weird because I had already given one. After rentering my info the system locked me out saying it needed an ID verification. After numerous attempts to get this resolved through their crazy customer service system I've surrendered. The problem was resolved after a waiting period.\n",
      "True value: Customer Support\n",
      "Predicted value: Customer Support\n",
      "***********************\n",
      "I don't understand why my bybit is showing up address restricted I haven't done anything wrong\n",
      "True value: Account Management\n",
      "Predicted value: Account Management\n",
      "***********************\n",
      "The best way to keep track of your Crypto Portfolio an get alerts on profit/loss in the app.\n",
      "True value: Features/Functionality\n",
      "Predicted value: Features/Functionality\n",
      "***********************\n",
      "Can't pull out your money if it's less than 100. So in other words these bums will indefinitely hold my money. Small amount but still.\n",
      "True value: Account Management\n",
      "Predicted value: Account Management\n",
      "***********************\n",
      "Can't make purchases most of the time!\n",
      "True value: Reliability/Stability\n",
      "Predicted value: Reliability/Stability\n",
      "***********************\n",
      "very easy very fast love the app\n",
      "True value: Usability/UI/UX\n",
      "Predicted value: Usability/UI/UX\n",
      "***********************\n",
      "Future trading is gambling. It takes all the dollars of most traders. I hate it so much from now on. No one plays this please.\n",
      "True value: Generic feedback\n",
      "Predicted value: Generic feedback\n",
      "***********************\n",
      "Scam scam scam scam this is a scam 1 star wish I could rate 0 stars\n",
      "True value: Generic feedback\n",
      "Predicted value: Generic feedback\n",
      "***********************\n",
      "Do not sign up for this trash scam of an app. Where do I start. First they charge $4.99 for a basic debit card. Second they randomly block your account to where you can't add a debit card so if you have a balance on your account it's literally stuck there, then don't tell you the reason as to why they block your account. Third their UI is horrible. I didn't think Coinbase was bad after using this service.\n",
      "True value: Account Management\n",
      "Predicted value: Account Management\n",
      "***********************\n",
      "No évents ??\n",
      "True value: Reliability/Stability\n",
      "Predicted value: Generic feedback\n",
      "***********************\n",
      "Scam\n",
      "True value: Generic feedback\n",
      "Predicted value: Generic feedback\n",
      "***********************\n",
      "Good evening Bybit Support, I'm reaching out regarding an issue with my account's P2P trading access. Whenever I attempt to trade via P2P, I receive the following message: 'Currently, access to this service is restricted for your account.' I'm unsure of the reason behind this restriction. Could you please assist me in resolving this issue and restoring my P2P trading access? I have done all verification plus proof of address all are successful. Thank you for your prompt attention to this matter.\n",
      "True value: Account Management\n",
      "Predicted value: Account Management\n",
      "***********************\n",
      "To many updates\n",
      "True value: Reliability/Stability\n",
      "Predicted value: Generic feedback\n",
      "***********************\n",
      "This is just an ad platform to build cronos coin. They take your money and let you use it instantly, but won't refund it for days.\n",
      "True value: Customer Support\n",
      "Predicted value: Customer Support\n",
      "***********************\n",
      "I'm a newcomer to crypto, and I'm extremely disappointed with the hidden fees. I made profits on all my crypto trades, but the fees were so astronomical I lost money. Not to mention high fees when I sent money to meta wallet for other purposes. I don't recommend this platform for traders.\n",
      "True value: Transaction Fees/Speed\n",
      "Predicted value: Transaction Fees/Speed\n",
      "***********************\n",
      "Bybit is not good. I have been waiting more than 6 months for KYC without any update.\n",
      "True value: Verification/KYC/AML Processes\n",
      "Predicted value: Verification/KYC/AML Processes\n",
      "***********************\n",
      "Cant stop promo push notifications even though all notifications turned off.\n",
      "True value: Usability/UI/UX\n",
      "Predicted value: Usability/UI/UX\n",
      "***********************\n",
      "Tried multiple times, keeps saying to resubmit documents/blurry photos. Whatever guess your not getting my business. My other crypto apps don't have this issue Response to your reply: I can't get in to the app to \"live chat\"!!! Moron!!!!\n",
      "True value: Verification/KYC/AML Processes\n",
      "Predicted value: Verification/KYC/AML Processes\n",
      "***********************\n",
      "Worst customer service imaginable takes forever to get to a real service agent and the maker and taker fees are way to high, stay away this app is designed for amateurs that don't know any better and to take as much money away from you as possible.\n",
      "True value: Customer Support\n",
      "Predicted value: Customer Support\n",
      "***********************\n",
      "ጥሩ\n",
      "True value: Generic feedback\n",
      "Predicted value: Generic feedback\n",
      "***********************\n",
      "Loading account balance takes forever. Sometimes it doesn't load at all. And even if it does load it's often outdated and doesn't show latest transaction. Also it has none biometric support so you have to type your 6 character long pin 2x times in order to check your balance.\n",
      "True value: Usability/UI/UX\n",
      "Predicted value: Usability/UI/UX\n",
      "***********************\n",
      "I am really disappointed for the fee they charged on me to withdraw my fund. It was totally very high charge and I don't know why they are charging this much. I am trying to figure out the fee to be deposited to get my withdrawal. I really hope after I deposited also there should not be any error or delay from bybit side. When I arranged this fee now they are asking for tax from both UAE and USA. ACTUALLY UAE DO NOT COLLECT TAX. THEN FOR WHAT THEY ARE ASKING ME TO PAY\n",
      "True value: Transaction Fees/Speed\n",
      "Predicted value: Transaction Fees/Speed\n",
      "***********************\n",
      "great\n",
      "True value: Generic feedback\n",
      "Predicted value: Generic feedback\n",
      "***********************\n",
      "It truly is an all in one crypto app. I use it a dozen times a day.\n",
      "True value: Features/Functionality\n",
      "Predicted value: Features/Functionality\n",
      "***********************\n",
      "Couldn't get past the account creation because my phone doesn't have any cameras to photo my ID.\n",
      "True value: Verification/KYC/AML Processes\n",
      "Predicted value: Verification/KYC/AML Processes\n",
      "***********************\n",
      "Had an special coin transferred here. Wouldn't show up on my end although coin was processed supposedly. Customer service couldn't recover funds from coin. Paid service fee and no help. Sure they returned the service fee but I'm extremely disappointed in this exchange.\n",
      "True value: Customer Support\n",
      "Predicted value: Customer Support\n",
      "***********************\n",
      "you are now requiring wallet verification. you are no longer attractive. Mica will kill you and chase away traders. you'd rather chose reverse solicitation and keep offering futures and other attractive tools on your exchange to EU clients. your non EU competitors will reap the benefits.\n",
      "True value: Verification/KYC/AML Processes\n",
      "Predicted value: Verification/KYC/AML Processes\n",
      "***********************\n",
      "still sceptical\n",
      "True value: Generic feedback\n",
      "Predicted value: Usability/UI/UX\n",
      "***********************\n",
      "So firstly I must say support is excellent. Overall, the experience is just ok. App, particularly visa is super slow. WARNING. IF you should choose the visa card. First hand experience, when you lock in your stake, you will get staking rewards. These are a pittance compared to other staking programs.When the bear comes , they will slash those rewards , but since your investment will be down 80 to 90% , you will be trapped. Also visa transactions like hotel deposits take weeks to finalize.\n",
      "True value: Customer Support\n",
      "Predicted value: Customer Support\n",
      "***********************\n",
      "nice\n",
      "True value: Generic feedback\n",
      "Predicted value: Generic feedback\n",
      "***********************\n",
      "I put 2 star to get attention I strong suggest to improve the zoom on chart, specially on the price scale trade and chart window could be on the same page just scrolling down moving The order book on a dedicated window. I prefer to see my current position and current order for that coin at a glance instead. After all the user experience better on mobile than the the website on pc.\n",
      "True value: Usability/UI/UX\n",
      "Predicted value: Usability/UI/UX\n",
      "***********************\n",
      "Super easy to use, very helpful customer service.\n",
      "True value: Usability/UI/UX\n",
      "Predicted value: Usability/UI/UX\n",
      "***********************\n",
      "Scammed my mother who now cant afford bills and rent because they took her money and wont return it. Save yourself the scam.\n",
      "True value: Customer Support\n",
      "Predicted value: Customer Support\n",
      "***********************\n",
      "Horrible for limit buy orders and probably sell limits. Price reached my limit buy and was there for 30 minutes on the chart and was not filled. When I asked about this they said it could be due to market liquidity. Kraken is the best at filling orders from my experience\n",
      "True value: Reliability/Stability\n",
      "Predicted value: Reliability/Stability\n",
      "***********************\n",
      "Please it's difficult for me to login to my account\n",
      "True value: Account Management\n",
      "Predicted value: Account Management\n",
      "***********************\n",
      "I love the app but theres an insane amount of notifications, close to 15 a day despite turning off push notifications on most categories. All about bitcoin which I have no stake in.\n",
      "True value: Usability/UI/UX\n",
      "Predicted value: Usability/UI/UX\n",
      "***********************\n",
      "Unable to use card\n",
      "True value: Usability/UI/UX\n",
      "Predicted value: Generic feedback\n",
      "***********************\n",
      "Terrible customer service. Youre lucky to get a hold of support and then once you leave the convo, you can't go back. They denied service to my debit card out of nowhere. I've been using this app for over a year and have had a few problems along the way, and just recently they blocked my access to using their service via debit card, and that's the only way I have been able to use the app. So due to that I removed all of my holdings and replaced it with a place that actually accepts my money.\n",
      "True value: Customer Support\n",
      "Predicted value: Customer Support\n",
      "***********************\n",
      "The web 3 exchange on the app is terrible, You charged me 8 Trons, to do a simple swap from usdt tron to Tron coins, yet the swap is unsuccessful, I've been trying for days now, my money is stuck in the web 3 exchange, fix this now\n",
      "True value: Transaction Fees/Speed\n",
      "Predicted value: Transaction Fees/Speed\n",
      "***********************\n",
      "Updates, too many updates, for what?. Annying\n",
      "True value: Reliability/Stability\n",
      "Predicted value: Reliability/Stability\n",
      "***********************\n",
      "trustworthy and super easy ...way better than binance\n",
      "True value: Usability/UI/UX\n",
      "Predicted value: Usability/UI/UX\n",
      "***********************\n",
      "Worked fine for the most part but I find myself locked out of my account due to losing my contact number and now having a different country code. I've tried many times speaking to customer service to fix this and no help received. I've been told to create a new account which is rejected at ID verification stage. It's been 2 years since I've been able to access my crypto and at this point I think it's a lost cause. Wouldn't recommend trusting the platform with more than you can afford to lose.\n",
      "True value: Account Management\n",
      "Predicted value: Account Management\n",
      "***********************\n",
      "Smooth transaction\n",
      "True value: Transaction Fees/Speed\n",
      "Predicted value: Generic feedback\n",
      "***********************\n",
      "Good evening, admin can you teach me all about bybit please This app is something else 😡😡😡\n",
      "True value: Educational Resources/Onboarding\n",
      "Predicted value: Educational Resources/Onboarding\n",
      "***********************\n",
      "Super glitchy app which is awfully sus for having access to my banking information and crypto / Fiat wallet *Edit* they can't even spell my name right 😅\n",
      "True value: Usability/UI/UX\n",
      "Predicted value: Usability/UI/UX\n",
      "***********************\n",
      "Be warned. While it's surely a fun service, it requires extreme attention. One day you have twice what you've invested, the next day you are nearing zero (cuz: liquidation team, shrug). And if you finally decide it's not for you, you cannot withdraw the rest of your funds until you add more, you get strangely locked out in the web version, and you keep receiving email notifications even after you cancel everything, run away leaving the rest of your assets behind, and close the account. Yikes!\n",
      "True value: Reliability/Stability\n",
      "Predicted value: Reliability/Stability\n",
      "***********************\n",
      "Crypto. Com is scam app my $170 k is stuck from last 1 year, they are not letting me withdraw the funds, please don't use this app it's 200 percent scam Customer representative are sending same message after chat,\n",
      "True value: Account Management\n",
      "Predicted value: Account Management\n",
      "***********************\n",
      "The worst experience! Let me sign up, deposit money, so easily no problem or questions asked, and now I can't cash out because I have not being able to set-up a wallet, how funny they let you deposit though. it's been over a month since I tried getting this sorted and all they keep saying is \"we are working on this\" like how ridiculous, I have asked how much longer and they can't even answer that. So frustrating.\n",
      "True value: Customer Support\n",
      "Predicted value: Customer Support\n",
      "***********************\n",
      "Love the interphase\n",
      "True value: Usability/UI/UX\n",
      "Predicted value: Usability/UI/UX\n",
      "***********************\n",
      "Well, the app is super slow, but at least it works again since the problematic update a while back. The constant \"must update to continue using the app\" is EXTREMELY annoying. I don't care if i miss 1 or 2 features, i just want to check on my crypto for once without being nagged to update. Now if an update made the app faster or better again, maybe I'd be interested. But nothing changes. This has been posted a long time, so from now on, every time I get nagged to update,this review loses a star.\n",
      "True value: Usability/UI/UX\n",
      "Predicted value: Usability/UI/UX\n",
      "***********************\n",
      "Why does the email link doesn't work? When i click your verification email it won't work. Every time i have tried to log in, it sends a verification email but it won't work. when I try to click the login now on the link that opens your app and couldn't login. Last 10 days i try but couldn't login\n",
      "True value: Verification/KYC/AML Processes\n",
      "Predicted value: Verification/KYC/AML Processes\n",
      "***********************\n",
      "They want to be a financial service where you can exchange cash and crypto, and push boundaries. The app does ok, But the support staff are largely evasive and like to play word games. If you want someone to handle your money they'd better be more willing to offer customer service than the game I play in the evenings where cats make soup.\n",
      "True value: Customer Support\n",
      "Predicted value: Customer Support\n",
      "***********************\n",
      "Bybit is one the best exchanger , unfortunately this week I lost USDT through P2P after making deposit I did not receive my coin and I place a complaint yet did not receive it All I can see is my APPEAL IS IN PROCESS, kindly resolve the issue then I rate Bybit 5 ⭐ as I did before\n",
      "True value: Customer Support\n",
      "Predicted value: Customer Support\n",
      "***********************\n",
      "Please MUST READ FOR DEVELOPERS. Users should be able to tick 🟠 the two available security options for resetting password EMAIL AND GA especially for already verified USERS PROVIDED THEY PROVIDE THE previously used document for verification and their face ID . im speaking from experience I've been locked out cause my Gmail and GA yet I'm a veried bybit user. Other exchanges have the above mentioned method implemented.\n",
      "True value: Account Management\n",
      "Predicted value: Account Management\n",
      "***********************\n",
      "The app seems fine n okay at first but for a while like a year now. I can't transfer my money out. This is so sad.\n",
      "True value: Account Management\n",
      "Predicted value: Account Management\n",
      "***********************\n",
      "I learned what a meme coin is. And also learned that striking it rich with crypto is in the past. Unless you have 10s of thousands to start with.\n",
      "True value: Educational Resources/Onboarding\n",
      "Predicted value: Educational Resources/Onboarding\n",
      "***********************\n",
      "Hey please I'm trying to get my Google authentication and the code that's generating from what u guys gave to me isn't working keep on telling me invalid code even for a new code I need help please\n",
      "True value: Account Management\n",
      "Predicted value: Account Management\n",
      "***********************\n",
      "Please buybit, I traded with one of your vendor names yahaya Mohamed aka (Coprate💯) Didn't made payment nor uploaded payment slip but went for appeal and the money was released to him he's a scammer Please I want the support team to look into this issue please I'm loosing money here. This app has scammer public people don't use this app they will reap you and the support team is useless\n",
      "True value: Customer Support\n",
      "Predicted value: Customer Support\n",
      "***********************\n",
      "This application has a poor system, as my account was immediately suspended when my card was linked, and it was not answered again. If my request is resumed, please be careful. The application is a fraud. If you deposit any money in it, you will lose it.\n",
      "True value: Account Management\n",
      "Predicted value: Account Management\n",
      "***********************\n",
      "I just redownload the app. While trying to login, my account got locked because the app wouldn't accept the codes that were being sent through SMS verification, even after having the codes resent they got denied. At the very least show us the numbers we're typing. There's absolutely no reason to sensor a one-time code we're imputing, when you've already sent the uncensored code to the users phone. At least don't censor it on the users end.\n",
      "True value: Verification/KYC/AML Processes\n",
      "Predicted value: Verification/KYC/AML Processes\n",
      "***********************\n",
      "Horrible app. Slow and doesn't work properly. My credit card was declined and when I called my bank why my credit card wasn't working apparently crypto. Com has been trying to charge my credit card. Also, half of the time the app doesnt work at it tell me to contact customer service through the app. But I can't contact customer service since the app doesn't work. There are so many other crypto apps that works better and have better fees. Don't bother with this one. Scams and no help.\n",
      "True value: Reliability/Stability\n",
      "Predicted value: Reliability/Stability\n",
      "***********************\n",
      "Slow\n",
      "True value: Transaction Fees/Speed\n",
      "Predicted value: Generic feedback\n",
      "***********************\n",
      "Why is the P2P section not working again. Can't trade on the P2P section.\n",
      "True value: Reliability/Stability\n",
      "Predicted value: Reliability/Stability\n",
      "***********************\n",
      "This is the worst user friendly app. They claim there is no phone number to actually speak to someone. The people on the chat don't understand most issues, so you constantly have to repeat yourself. This app is incredibly bad with the lack of customer support especially.\n",
      "True value: Customer Support\n",
      "Predicted value: Customer Support\n",
      "***********************\n",
      "Loosing money is guaranteed by high transaction fees! Very securely!\n",
      "True value: Transaction Fees/Speed\n",
      "Predicted value: Transaction Fees/Speed\n",
      "***********************\n",
      "thank h man\n",
      "True value: Generic feedback\n",
      "Predicted value: Generic feedback\n",
      "***********************\n",
      "Y'all, I CANNOT stress enough how irritating it is that it stopped opening up to my home page and instead scrolls straight to sports now. I have zero investments in sports, so stop taking me there.\n",
      "True value: Usability/UI/UX\n",
      "Predicted value: Usability/UI/UX\n",
      "***********************\n",
      "This site should be restricted to individuals overseas and not to people in the United States. Do not download this app if you want to receive your funds back. It is near impossible or better yet it is impossible to get your money, that's why they are based in a foreign country.\n",
      "True value: Account Management\n",
      "Predicted value: Account Management\n",
      "***********************\n",
      "Why can't I verify my bybit account, I input correct BVN, then face capturing still I can't be verified. Immediately I capture my face it will be declined, it's so frustrating. Please you can do your reviews without automated bot.\n",
      "True value: Verification/KYC/AML Processes\n",
      "Predicted value: Verification/KYC/AML Processes\n",
      "***********************\n",
      "Am not happy with bybit. i bought doge coins move it into bybit and some months ago logging but was denied access. i was asked to verify an already verified account and upon my verification was told the documents has been used in anothet account. i sent messages to them thru their social handles since their customer service couldn't link but till today no response. its painful i have to abandon the asset because it seems bybit uses such methods to trap ones assets\n",
      "True value: Customer Support\n",
      "Predicted value: Customer Support\n",
      "***********************\n",
      "I have never tried it,and start know more about it\n",
      "True value: Educational Resources/Onboarding\n",
      "Predicted value: Educational Resources/Onboarding\n",
      "***********************\n",
      "This app is horrible, imaging I trade eos it just got missing,I complained no reply,my usdt lost,it didn't reflect on my bybit account.very useless app\n",
      "True value: Customer Support\n",
      "Predicted value: Customer Support\n",
      "***********************\n",
      "Doesn't load kyc approved then again rejected 80$ deposited but can't withdraw\n",
      "True value: Verification/KYC/AML Processes\n",
      "Predicted value: Verification/KYC/AML Processes\n",
      "***********************\n",
      "Id love it if the app didn't update every couple of weeks\n",
      "True value: Usability/UI/UX\n",
      "Predicted value: Usability/UI/UX\n",
      "***********************\n",
      "Avoid! Bought $500 in crypto using the \"instant funding\"(cheaper option fee wise {everything from \"technology\" to debit card transactions}). Payment cleared the bank, went to move crypto off the exchange. Denied. It'll take from the 6th to the 17th for the payment to \"settle\" and I \"just need to wait\". Btw, date of deposit is \"day 0\" of the \"few days\" countdown. Contradictory support and so rude. I'm sure they'll respond professionally here... I'll post screenshots after they do.\n",
      "True value: Transaction Fees/Speed\n",
      "Predicted value: Transaction Fees/Speed\n",
      "***********************\n",
      "They need some major revamping. Nothing can be processed for 7 Business days more if there is a legal holiday . Impossible to get help through support.\n",
      "True value: Customer Support\n",
      "Predicted value: Customer Support\n",
      "***********************\n",
      "Horrible 2 days dealing with signing in, dealt with customer service and STILL cant log in\n",
      "True value: Customer Support\n",
      "Predicted value: Customer Support\n",
      "***********************\n",
      "Doesn't work in all countries\n",
      "True value: Reliability/Stability\n",
      "Predicted value: Reliability/Stability\n",
      "***********************\n",
      "I was restricted without any tangible reasons from p2p advertiser , very annoying..,\n",
      "True value: Account Management\n",
      "Predicted value: Account Management\n",
      "***********************\n",
      "Finding it difficult to download the app my data keeps going\n",
      "True value: Usability/UI/UX\n",
      "Predicted value: Usability/UI/UX\n",
      "***********************\n",
      "very easy to use, so simple to enter into the shares market\n",
      "True value: Usability/UI/UX\n",
      "Predicted value: Usability/UI/UX\n",
      "***********************\n",
      "It has its pro's and con's. Used to be my favorite exchange, because if all the varieties of coins, the other top exchanges don't have. You also get a bank account and debit card with it so you can use your crypto for purchases and get your check deposited which I love. But the fees to sell or change coins are pretty steep, on coin base you can swap for free. Also I loved this app because you could make and sell nft's for free but the nft creator is still broken and it's been months.\n",
      "True value: Transaction Fees/Speed\n",
      "Predicted value: Transaction Fees/Speed\n",
      "***********************\n",
      "Extremely Dissatisfied. On opening new account. After 3 failed attempts locked me out SCREW YOU THERE'S PLENTY OF APPS out there. THANKS for quick reply, where to chat?\n",
      "True value: Account Management\n",
      "Predicted value: Account Management\n",
      "***********************\n",
      "I can add my venmo card but can't buy crypto ETH tried to ADD debit card and it wouldn't let me. So I'm onto another app if it won't work\n",
      "True value: Account Management\n",
      "Predicted value: Account Management\n",
      "***********************\n",
      "P2p trading is great but when it comes to future trading expect the worse. Like you can enter trade with a 10 dollars Stoploss and you get liquidated 50 percent or less for price reach your initial Stoploss. I thought it was me the leverage i didn't adjust properly but then i got multiple experiences. Be careful\n",
      "True value: Reliability/Stability\n",
      "Predicted value: Reliability/Stability\n",
      "***********************\n",
      "Pop-ups every time I open the app\n",
      "True value: Usability/UI/UX\n",
      "Predicted value: Usability/UI/UX\n",
      "***********************\n",
      "Horrible. I was with the wallet for quite a few years and I was in the middle of a job and bam... they logged me out of my account then couldn't answer why or help me back I to My account. I would not recommend this bitcoin wallet to anyone its unpredictable one day it's hood next your accounts closed and I still didn't receive Mt funds back. So if anyone can help me with the next step of what I can do please help\n",
      "True value: Account Management\n",
      "Predicted value: Account Management\n",
      "***********************\n",
      "Downloading new app practically every week,and slow to upload\n",
      "True value: Reliability/Stability\n",
      "Predicted value: Reliability/Stability\n",
      "***********************\n",
      "Customer service is literally zero help. I have fraud on my account and they're forcing me to pay to replace my card. Now I'm staking their horrible CRO which has gone from worth $500 to $70 for no reason cause i cannot use the card. Avoid at all costs.\n",
      "True value: Customer Support\n",
      "Predicted value: Customer Support\n",
      "***********************\n",
      "High fees and spread.\n",
      "True value: Transaction Fees/Speed\n",
      "Predicted value: Transaction Fees/Speed\n",
      "***********************\n",
      "Horrible. When u buy the price is 20 cents higher, when u sell it's 15 cents lower. No fees? All hidden fees! They're scammers! They said the price is lower when u sell due to lack of liquidity! Always an issue, now I can't withdraw to my bank and they're telling me to update the app, sign out and sign in instead of actually doing their job and seeing what the issue it to fix it. The customer service guy I'm talking to for one hour about withdrawal issue is confused and lazy.\n",
      "True value: Transaction Fees/Speed\n",
      "Predicted value: Transaction Fees/Speed\n",
      "***********************\n",
      "one of the best platforms and safest thus far. been using it since 2017. it has improved a lot over time.\n",
      "True value: Security\n",
      "Predicted value: Security\n",
      "***********************\n",
      "like\n",
      "True value: Generic feedback\n",
      "Predicted value: Generic feedback\n",
      "***********************\n",
      "I'm locked out of buying crypto, I can't enter the CVV or CARD NUMBER, only my name and expiration dates. I've tried multiple cards, that I use all of the time and the \"support specialist\" said that the areas were gray where I would enter info, confirming what I told them. They said it was a bank problem but I used different cards from different banks. I said it's an APP problem bc this is the only place I'm experiencing this issue. They couldn't explain why my card info couldn't be entered.\n",
      "True value: Usability/UI/UX\n",
      "Predicted value: Usability/UI/UX\n",
      "***********************\n",
      "Good app to learn with, às long as you dont try to understand anything more than buy and sell and trade.\n",
      "True value: Educational Resources/Onboarding\n",
      "Predicted value: Educational Resources/Onboarding\n",
      "***********************\n",
      "Most p2p users in this platform is trying to scam people,and they using third party bank account payment,why bybit allowed to users to thirdparty payment? i don't recommend to use bybit, the customer servise is not responsive and not resolving my issue, i try to sell usdt for counterparty and he presed transferd without transfer and and i asked him to send screenshot but he didn't. i did appeal the transaction but the customer service didn't resolve the appel progress still now.\n",
      "True value: Customer Support\n",
      "Predicted value: Customer Support\n",
      "***********************\n",
      "I am trying to open my crypto, BUT the app keeps locking me out... this app is useless. I guess I will open another app other than crypto. And there is no way to get help... I put in the code that they send me, and it won't take it.... AND now you tell me to live chat you???? HOW? I can't get on the app dummies\n",
      "True value: Usability/UI/UX\n",
      "Predicted value: Usability/UI/UX\n",
      "***********************\n",
      "So I wanted to give the app a try again after a while and I noticed in your privacy updates and features you are requiring users to allow access to all biometric data on a device. That's a major violation of consumers privacy. Then it doesn't allow for you deny their invasiveness. Verification is one thing collecting data from every app on a device is a whole nother deal.\n",
      "True value: Privacy\n",
      "Predicted value: Privacy\n",
      "***********************\n",
      "Bulky interface, easy to get mistaken and click the wrong thing, risking your funds. Chart is not well seen and analysis is greatly hindered with tons of other things you'll never actually use. Cheaply open positions as you like but closing is another story, if you find the minimum amount to close do announce, it's a treasure hunt at this point. Tons of great opportunities and features...... Many hidden and hindered and clustered in difficulty. Don't bother using a phone, very bad interface.\n",
      "True value: Usability/UI/UX\n",
      "Predicted value: Usability/UI/UX\n",
      "***********************\n",
      "Bybit’s customer support is absolutely terrible. Responses take forever, and when they finally reply, they give generic copy-paste answers that don’t solve anything. I had an issue with a withdrawal, and after days of back-and-forth, they still couldn’t provide a real solution. It feels like they don’t care about their users at all. If something goes wrong with your account, don’t expect any real help. Avoid this platform!\n",
      "True value: Customer Support\n",
      "Predicted value: Customer Support\n",
      "***********************\n",
      "1 star 🌟 till I've tried and tested the app myself\n",
      "True value: Generic feedback\n",
      "Predicted value: Generic feedback\n",
      "***********************\n",
      "High swap spreads. Unnecessery complicated process for transfering assets to/from spot market. Buggy app :0\n",
      "True value: Usability/UI/UX\n",
      "Predicted value: Usability/UI/UX\n",
      "***********************\n",
      "Wont send verification code to my phone and there's no customer service to talk to. Still not working\n",
      "True value: Verification/KYC/AML Processes\n",
      "Predicted value: Verification/KYC/AML Processes\n",
      "***********************\n",
      "Good day, I trust this communication finds you well. The interest fee in this platform is very high compared to the different platforms, and the application's rotation functionality issue affects all tablets. Implementation of a fix should be included in the next update. Currently, the application does not support rotation on all tablets. Regards\n",
      "True value: Transaction Fees/Speed\n",
      "Predicted value: Transaction Fees/Speed\n",
      "***********************\n",
      "I don't know what the problem is since yesterday, I have been trying to sell my btc through p2p but I couldn't see any of my saved account details anymore. I tried adding new ones, all to no avail. Please resolve this issue.\n",
      "True value: Account Management\n",
      "Predicted value: Account Management\n",
      "***********************\n",
      "The app is buggy, features stop working randomly. It's too complicated, there are too many unnecessary features. And most important, very high fees/commissions. I don't feel confident my money is in safe hands when using this app. I can't recommend it.\n",
      "True value: Reliability/Stability\n",
      "Predicted value: Reliability/Stability\n",
      "***********************\n",
      "App is more or less easy to use but it takes a while to get used to it. Lately the widget fails ALL THE TIME with the message \"empty\" and I need to remove it and add it again to the screen.\n",
      "True value: Usability/UI/UX\n",
      "Predicted value: Usability/UI/UX\n",
      "***********************\n",
      "They deactivated card 😔 Don't force people to use cards when they don't need to Not everyone is rich like you lot making easy money out of thin air\n",
      "True value: Account Management\n",
      "Predicted value: Account Management\n",
      "***********************\n",
      "amazing platform very easy to use and navigate thank you...\n",
      "True value: Usability/UI/UX\n",
      "Predicted value: Usability/UI/UX\n",
      "***********************\n",
      "Hadn't been on in a few years, well they made transactions for me. Crooks tbh, not even so much as an email notification. I'm good waste of money.\n",
      "True value: Transaction Fees/Speed\n",
      "Predicted value: Transaction Fees/Speed\n",
      "***********************\n",
      "Very useful and it covers all the markets and coin bases. If you know what your doing, this is perfect...if you don't, learn it before taking the plunge\n",
      "True value: Features/Functionality\n",
      "Predicted value: Features/Functionality\n",
      "***********************\n",
      "The positive: You can link your bank account so it makes depositing USD into your account very quickly. Has a wide variety of funds available. The negative: HEFTY FEES when you withdraw/transfer to another exchange/cold wallet. On a $100 initial purchase, I only ended up with $65 worth. That's about a 35% loss! Ouch! 🤔😒\n",
      "True value: Transaction Fees/Speed\n",
      "Predicted value: Transaction Fees/Speed\n",
      "***********************\n",
      "By far, the worst trading platform for cryptocurrency. Fees are outrageous. Fills are always far higher than market price. Deposit and withdrawal processing time is absolutely ridiculous. Save your money and time and find a better platform to trade with.\n",
      "True value: Transaction Fees/Speed\n",
      "Predicted value: Transaction Fees/Speed\n",
      "***********************\n",
      "This financial \"world's premiere\" app can export transaction history only as CSV... and in my case even that one is EMPTY! If you need the equivalent of a bank statement... bad luck! The only thing you'll get is that CSV and the suggestion from the \"support specialists\" to \"use an app to convert CSV to PDF\"... then close the chat in my face repeatedly! Judge by yourselves but from my point of view even one star is too much!\n",
      "True value: Account Management\n",
      "Predicted value: Account Management\n",
      "***********************\n",
      "I tried to withdraw Cronos to my external wallet but I keep getting error that the wallet address is incorrect. Can you please fix this.\n",
      "True value: Wallet Security/Integration\n",
      "Predicted value: Wallet Security/Integration\n",
      "***********************\n",
      "Very disappointed with the amount off fees to transfer on the BTC network, when do we get the lightning network optionality???\n",
      "True value: Transaction Fees/Speed\n",
      "Predicted value: Transaction Fees/Speed\n",
      "***********************\n",
      "Good luck getting any customer support. THE WORST APP EVER. 3 MONTHS TO GET MY CARD UNFROZEN, AND THEY STILL JERK ME AROUND AND WITH ROBOTIC ANSWER THAT MEANS NOTHING!!\n",
      "True value: Customer Support\n",
      "Predicted value: Customer Support\n",
      "***********************\n",
      "Someone frauded with me please stay alert\n",
      "True value: Security\n",
      "Predicted value: Security\n",
      "***********************\n"
     ]
    }
   ],
   "source": [
    "for row in qa_df.to_dict(orient=\"records\"):\n",
    "    if row[\"predicted_value\"]!= \"generic feedback\":\n",
    "        print(row[\"text\"])\n",
    "        print(\"True value:\",row[\"true_value\"])\n",
    "        print(\"Predicted value:\", row[\"predicted_value\"])\n",
    "        print(\"***********************\")"
   ]
  },
  {
   "cell_type": "markdown",
   "id": "a14d4681-7e07-408f-8736-6e15363b2360",
   "metadata": {},
   "source": [
    "## Predicting against holdout set"
   ]
  },
  {
   "cell_type": "code",
   "execution_count": null,
   "id": "206580f8-4557-4d38-8738-0e8e9eca58a6",
   "metadata": {},
   "outputs": [],
   "source": []
  },
  {
   "cell_type": "code",
   "execution_count": null,
   "id": "3a9e3da4-3d63-4cc3-ae57-6614ac16cfa9",
   "metadata": {},
   "outputs": [],
   "source": []
  }
 ],
 "metadata": {
  "kernelspec": {
   "display_name": "uol_project",
   "language": "python",
   "name": "uol_project"
  },
  "language_info": {
   "codemirror_mode": {
    "name": "ipython",
    "version": 3
   },
   "file_extension": ".py",
   "mimetype": "text/x-python",
   "name": "python",
   "nbconvert_exporter": "python",
   "pygments_lexer": "ipython3",
   "version": "3.12.8"
  }
 },
 "nbformat": 4,
 "nbformat_minor": 5
}
