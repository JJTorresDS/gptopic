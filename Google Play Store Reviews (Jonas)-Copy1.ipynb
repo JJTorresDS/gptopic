{
 "cells": [
  {
   "cell_type": "markdown",
   "id": "e3744d68-7878-4c13-8eb9-097b307b7519",
   "metadata": {},
   "source": [
    "## Fetch data from google play api"
   ]
  },
  {
   "cell_type": "markdown",
   "id": "3e9f71c3-fe58-4032-96d5-d20cfb238d06",
   "metadata": {},
   "source": [
    "Get data from google play api (select reviews from 5 crypto apps for training, 1 for testing)"
   ]
  },
  {
   "cell_type": "code",
   "execution_count": 4,
   "id": "b70ad82d-b4f9-4c51-9d82-be19f22a5f1c",
   "metadata": {},
   "outputs": [],
   "source": [
    "#!pip install google-play-scraper\n",
    "#!pip install numpy pandas\n",
    "from google_play_scraper import Sort, reviews\n",
    "import numpy as np\n",
    "import pandas as pd"
   ]
  },
  {
   "cell_type": "code",
   "execution_count": 3,
   "id": "0a63fb94-3242-429c-b501-ba08f36dd816",
   "metadata": {},
   "outputs": [],
   "source": [
    "result, continuation_token = reviews(\n",
    "    'com.binance.dev',\n",
    "    lang='en', # defaults to 'en'\n",
    "    country='us', # defaults to 'us'\n",
    "    sort=Sort.NEWEST, # defaults to Sort.NEWEST\n",
    "    count=150#, # defaults to 100\n",
    "    #filter_score_with=5 # defaults to None(means all score)\n",
    ")"
   ]
  },
  {
   "cell_type": "code",
   "execution_count": 26,
   "id": "919c639d-b9ee-473a-9923-543103b6244e",
   "metadata": {},
   "outputs": [],
   "source": [
    "df= pd.DataFrame(result)"
   ]
  },
  {
   "cell_type": "code",
   "execution_count": 27,
   "id": "4845d822-9467-4140-86b8-f250b72563a5",
   "metadata": {},
   "outputs": [
    {
     "data": {
      "text/html": [
       "<div>\n",
       "<style scoped>\n",
       "    .dataframe tbody tr th:only-of-type {\n",
       "        vertical-align: middle;\n",
       "    }\n",
       "\n",
       "    .dataframe tbody tr th {\n",
       "        vertical-align: top;\n",
       "    }\n",
       "\n",
       "    .dataframe thead th {\n",
       "        text-align: right;\n",
       "    }\n",
       "</style>\n",
       "<table border=\"1\" class=\"dataframe\">\n",
       "  <thead>\n",
       "    <tr style=\"text-align: right;\">\n",
       "      <th></th>\n",
       "      <th>reviewId</th>\n",
       "      <th>userName</th>\n",
       "      <th>userImage</th>\n",
       "      <th>content</th>\n",
       "      <th>score</th>\n",
       "      <th>thumbsUpCount</th>\n",
       "      <th>reviewCreatedVersion</th>\n",
       "      <th>at</th>\n",
       "      <th>replyContent</th>\n",
       "      <th>repliedAt</th>\n",
       "      <th>appVersion</th>\n",
       "    </tr>\n",
       "  </thead>\n",
       "  <tbody>\n",
       "    <tr>\n",
       "      <th>0</th>\n",
       "      <td>6c0d50c8-5b47-4b0a-bd05-f385db12ff54</td>\n",
       "      <td>Sukumar Halder</td>\n",
       "      <td>https://play-lh.googleusercontent.com/a/ACg8oc...</td>\n",
       "      <td>nice app</td>\n",
       "      <td>5</td>\n",
       "      <td>0</td>\n",
       "      <td>2.92.2</td>\n",
       "      <td>2024-12-15 06:56:08</td>\n",
       "      <td>None</td>\n",
       "      <td>NaT</td>\n",
       "      <td>2.92.2</td>\n",
       "    </tr>\n",
       "    <tr>\n",
       "      <th>1</th>\n",
       "      <td>256356d2-aeb1-4e9d-badc-2a7b13f5cf09</td>\n",
       "      <td>Md. Yashen</td>\n",
       "      <td>https://play-lh.googleusercontent.com/a/ACg8oc...</td>\n",
       "      <td>Good</td>\n",
       "      <td>4</td>\n",
       "      <td>0</td>\n",
       "      <td>2.92.2</td>\n",
       "      <td>2024-12-15 06:26:50</td>\n",
       "      <td>None</td>\n",
       "      <td>NaT</td>\n",
       "      <td>2.92.2</td>\n",
       "    </tr>\n",
       "    <tr>\n",
       "      <th>2</th>\n",
       "      <td>dfe4c044-7289-48e8-8f47-700610f7ecae</td>\n",
       "      <td>Farah Jadav</td>\n",
       "      <td>https://play-lh.googleusercontent.com/a-/ALV-U...</td>\n",
       "      <td>fantastic</td>\n",
       "      <td>5</td>\n",
       "      <td>0</td>\n",
       "      <td>2.92.2</td>\n",
       "      <td>2024-12-15 06:22:40</td>\n",
       "      <td>None</td>\n",
       "      <td>NaT</td>\n",
       "      <td>2.92.2</td>\n",
       "    </tr>\n",
       "    <tr>\n",
       "      <th>3</th>\n",
       "      <td>da189547-a12b-4620-9dfa-0101cf92b063</td>\n",
       "      <td>Ayon Kuri</td>\n",
       "      <td>https://play-lh.googleusercontent.com/a/ACg8oc...</td>\n",
       "      <td>Nice app</td>\n",
       "      <td>5</td>\n",
       "      <td>0</td>\n",
       "      <td>2.92.2</td>\n",
       "      <td>2024-12-15 06:19:12</td>\n",
       "      <td>None</td>\n",
       "      <td>NaT</td>\n",
       "      <td>2.92.2</td>\n",
       "    </tr>\n",
       "    <tr>\n",
       "      <th>4</th>\n",
       "      <td>06669b21-f623-428f-8579-fe1fa6c7676a</td>\n",
       "      <td>Abigail Nelson</td>\n",
       "      <td>https://play-lh.googleusercontent.com/a-/ALV-U...</td>\n",
       "      <td>It's all good 👍👍👍👍</td>\n",
       "      <td>3</td>\n",
       "      <td>0</td>\n",
       "      <td>None</td>\n",
       "      <td>2024-12-15 06:17:59</td>\n",
       "      <td>Hello Abigail! Thank you for choosing Binance!...</td>\n",
       "      <td>2024-12-15 06:31:59</td>\n",
       "      <td>None</td>\n",
       "    </tr>\n",
       "  </tbody>\n",
       "</table>\n",
       "</div>"
      ],
      "text/plain": [
       "                               reviewId        userName  \\\n",
       "0  6c0d50c8-5b47-4b0a-bd05-f385db12ff54  Sukumar Halder   \n",
       "1  256356d2-aeb1-4e9d-badc-2a7b13f5cf09      Md. Yashen   \n",
       "2  dfe4c044-7289-48e8-8f47-700610f7ecae     Farah Jadav   \n",
       "3  da189547-a12b-4620-9dfa-0101cf92b063       Ayon Kuri   \n",
       "4  06669b21-f623-428f-8579-fe1fa6c7676a  Abigail Nelson   \n",
       "\n",
       "                                           userImage             content  \\\n",
       "0  https://play-lh.googleusercontent.com/a/ACg8oc...            nice app   \n",
       "1  https://play-lh.googleusercontent.com/a/ACg8oc...                Good   \n",
       "2  https://play-lh.googleusercontent.com/a-/ALV-U...           fantastic   \n",
       "3  https://play-lh.googleusercontent.com/a/ACg8oc...            Nice app   \n",
       "4  https://play-lh.googleusercontent.com/a-/ALV-U...  It's all good 👍👍👍👍   \n",
       "\n",
       "   score  thumbsUpCount reviewCreatedVersion                  at  \\\n",
       "0      5              0               2.92.2 2024-12-15 06:56:08   \n",
       "1      4              0               2.92.2 2024-12-15 06:26:50   \n",
       "2      5              0               2.92.2 2024-12-15 06:22:40   \n",
       "3      5              0               2.92.2 2024-12-15 06:19:12   \n",
       "4      3              0                 None 2024-12-15 06:17:59   \n",
       "\n",
       "                                        replyContent           repliedAt  \\\n",
       "0                                               None                 NaT   \n",
       "1                                               None                 NaT   \n",
       "2                                               None                 NaT   \n",
       "3                                               None                 NaT   \n",
       "4  Hello Abigail! Thank you for choosing Binance!... 2024-12-15 06:31:59   \n",
       "\n",
       "  appVersion  \n",
       "0     2.92.2  \n",
       "1     2.92.2  \n",
       "2     2.92.2  \n",
       "3     2.92.2  \n",
       "4       None  "
      ]
     },
     "execution_count": 27,
     "metadata": {},
     "output_type": "execute_result"
    }
   ],
   "source": [
    "df.head()"
   ]
  },
  {
   "cell_type": "code",
   "execution_count": 19,
   "id": "adaf10ec-8888-45ed-b18a-40bb7669f75c",
   "metadata": {},
   "outputs": [
    {
     "data": {
      "text/plain": [
       "np.float64(3.0933333333333333)"
      ]
     },
     "execution_count": 19,
     "metadata": {},
     "output_type": "execute_result"
    }
   ],
   "source": [
    "df[\"score\"].mean()"
   ]
  },
  {
   "cell_type": "code",
   "execution_count": null,
   "id": "91c0931c-c775-4191-940a-234137dfe228",
   "metadata": {},
   "outputs": [],
   "source": []
  }
 ],
 "metadata": {
  "kernelspec": {
   "display_name": "uol_project",
   "language": "python",
   "name": "uol_project"
  },
  "language_info": {
   "codemirror_mode": {
    "name": "ipython",
    "version": 3
   },
   "file_extension": ".py",
   "mimetype": "text/x-python",
   "name": "python",
   "nbconvert_exporter": "python",
   "pygments_lexer": "ipython3",
   "version": "3.12.8"
  }
 },
 "nbformat": 4,
 "nbformat_minor": 5
}
