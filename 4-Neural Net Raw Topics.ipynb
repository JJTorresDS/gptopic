{
 "cells": [
  {
   "cell_type": "code",
   "execution_count": 84,
   "id": "b65c9dd3-0765-43b0-b8f9-cb019c296910",
   "metadata": {},
   "outputs": [],
   "source": [
    "from tensorflow.keras.datasets import reuters\n",
    "import pandas as pd\n",
    "import numpy as np\n",
    "import time\n",
    "\n",
    "import os\n",
    "from dotenv import load_dotenv"
   ]
  },
  {
   "cell_type": "code",
   "execution_count": 85,
   "id": "83e88d42-2372-4104-90fb-88b64aafde35",
   "metadata": {},
   "outputs": [],
   "source": [
    "path = \"./data/\""
   ]
  },
  {
   "cell_type": "code",
   "execution_count": 86,
   "id": "e779701f-ffd0-4e6b-8b14-e15779c239ac",
   "metadata": {},
   "outputs": [
    {
     "name": "stdout",
     "output_type": "stream",
     "text": [
      "1.crypto_apps_reviews_raw.csv         co.mona.android.csv\n",
      "2.crypto_app_reviews_tagged.csv       com.binance.dev.csv\n",
      "2.crypto_category.txt                 com.bybit.app.csv\n",
      "3.tagged_reviews_sample.csv           crypt_app_llm_tagged.csv\n",
      "4.tagged_reviews_sample_verified.csv  crypto_app_llm_tagged.csv\n"
     ]
    }
   ],
   "source": [
    "ls data"
   ]
  },
  {
   "cell_type": "code",
   "execution_count": 87,
   "id": "3b7e8d8a-9632-48d5-97f7-bab51d2b2ced",
   "metadata": {},
   "outputs": [],
   "source": [
    "df_r = pd.read_csv(path+\"/4.tagged_reviews_sample_verified.csv\")"
   ]
  },
  {
   "cell_type": "markdown",
   "id": "003fa62a-9869-44ef-98e4-565a99015401",
   "metadata": {},
   "source": [
    "## Train test split"
   ]
  },
  {
   "cell_type": "code",
   "execution_count": 88,
   "id": "cbb05f76-eb7f-4dac-af1b-397494334949",
   "metadata": {},
   "outputs": [],
   "source": [
    "from sklearn.model_selection import train_test_split"
   ]
  },
  {
   "cell_type": "code",
   "execution_count": 89,
   "id": "4121ff09-bee3-456e-b138-ca0dc0a55c4a",
   "metadata": {},
   "outputs": [
    {
     "data": {
      "text/html": [
       "<div>\n",
       "<style scoped>\n",
       "    .dataframe tbody tr th:only-of-type {\n",
       "        vertical-align: middle;\n",
       "    }\n",
       "\n",
       "    .dataframe tbody tr th {\n",
       "        vertical-align: top;\n",
       "    }\n",
       "\n",
       "    .dataframe thead th {\n",
       "        text-align: right;\n",
       "    }\n",
       "</style>\n",
       "<table border=\"1\" class=\"dataframe\">\n",
       "  <thead>\n",
       "    <tr style=\"text-align: right;\">\n",
       "      <th></th>\n",
       "      <th>reviewId</th>\n",
       "      <th>userName</th>\n",
       "      <th>userImage</th>\n",
       "      <th>content</th>\n",
       "      <th>score</th>\n",
       "      <th>thumbsUpCount</th>\n",
       "      <th>reviewCreatedVersion</th>\n",
       "      <th>at</th>\n",
       "      <th>replyContent</th>\n",
       "      <th>repliedAt</th>\n",
       "      <th>appVersion</th>\n",
       "      <th>app</th>\n",
       "      <th>gemini_llm_topic</th>\n",
       "      <th>correct</th>\n",
       "      <th>human_labeled_topic</th>\n",
       "      <th>cause</th>\n",
       "    </tr>\n",
       "  </thead>\n",
       "  <tbody>\n",
       "    <tr>\n",
       "      <th>0</th>\n",
       "      <td>9cab4f6e-8203-4a69-8774-0304f0eab6a7</td>\n",
       "      <td>Radek Raczkowski</td>\n",
       "      <td>https://play-lh.googleusercontent.com/a-/ALV-U...</td>\n",
       "      <td>This app weights 460 MB! Old review: Stop forc...</td>\n",
       "      <td>1</td>\n",
       "      <td>0</td>\n",
       "      <td>3.204.10</td>\n",
       "      <td>2025-03-08 12:42:40</td>\n",
       "      <td>Hello, Radek. We strive to improve our platfor...</td>\n",
       "      <td>2025-03-08 13:35:03</td>\n",
       "      <td>3.204.10</td>\n",
       "      <td>co.mona.android</td>\n",
       "      <td>Usability/UI/UX</td>\n",
       "      <td>1</td>\n",
       "      <td>NaN</td>\n",
       "      <td>NaN</td>\n",
       "    </tr>\n",
       "    <tr>\n",
       "      <th>1</th>\n",
       "      <td>cedc9258-9d32-438c-98b4-8d63bad10031</td>\n",
       "      <td>Derek DeLucia</td>\n",
       "      <td>https://play-lh.googleusercontent.com/a/ACg8oc...</td>\n",
       "      <td>Super glitchy app which is awfully sus for hav...</td>\n",
       "      <td>2</td>\n",
       "      <td>0</td>\n",
       "      <td>3.201.20</td>\n",
       "      <td>2024-12-21 11:36:07</td>\n",
       "      <td>Hello Dereck. We will be happy to look into th...</td>\n",
       "      <td>2024-12-10 16:24:15</td>\n",
       "      <td>3.201.20</td>\n",
       "      <td>co.mona.android</td>\n",
       "      <td>Usability/UI/UX</td>\n",
       "      <td>1</td>\n",
       "      <td>NaN</td>\n",
       "      <td>NaN</td>\n",
       "    </tr>\n",
       "  </tbody>\n",
       "</table>\n",
       "</div>"
      ],
      "text/plain": [
       "                               reviewId          userName  \\\n",
       "0  9cab4f6e-8203-4a69-8774-0304f0eab6a7  Radek Raczkowski   \n",
       "1  cedc9258-9d32-438c-98b4-8d63bad10031     Derek DeLucia   \n",
       "\n",
       "                                           userImage  \\\n",
       "0  https://play-lh.googleusercontent.com/a-/ALV-U...   \n",
       "1  https://play-lh.googleusercontent.com/a/ACg8oc...   \n",
       "\n",
       "                                             content  score  thumbsUpCount  \\\n",
       "0  This app weights 460 MB! Old review: Stop forc...      1              0   \n",
       "1  Super glitchy app which is awfully sus for hav...      2              0   \n",
       "\n",
       "  reviewCreatedVersion                   at  \\\n",
       "0             3.204.10  2025-03-08 12:42:40   \n",
       "1             3.201.20  2024-12-21 11:36:07   \n",
       "\n",
       "                                        replyContent            repliedAt  \\\n",
       "0  Hello, Radek. We strive to improve our platfor...  2025-03-08 13:35:03   \n",
       "1  Hello Dereck. We will be happy to look into th...  2024-12-10 16:24:15   \n",
       "\n",
       "  appVersion              app gemini_llm_topic  correct human_labeled_topic  \\\n",
       "0   3.204.10  co.mona.android  Usability/UI/UX        1                 NaN   \n",
       "1   3.201.20  co.mona.android  Usability/UI/UX        1                 NaN   \n",
       "\n",
       "  cause  \n",
       "0   NaN  \n",
       "1   NaN  "
      ]
     },
     "execution_count": 89,
     "metadata": {},
     "output_type": "execute_result"
    }
   ],
   "source": [
    "df_r.head(2)"
   ]
  },
  {
   "cell_type": "code",
   "execution_count": 90,
   "id": "6059f753-bd4d-417a-b5da-a14822cb83f1",
   "metadata": {},
   "outputs": [],
   "source": [
    "X = df_r\n",
    "y = df_r.gemini_llm_topic"
   ]
  },
  {
   "cell_type": "code",
   "execution_count": 91,
   "id": "52050d8a-9c31-430d-8d16-da158078ef77",
   "metadata": {},
   "outputs": [],
   "source": [
    "X_train, X_test, y_train, y_test = train_test_split(\n",
    "    X, y, test_size=0.20, random_state=42)\n",
    "\n",
    "\n",
    "X_train = X_train.sample(X_train.shape[0]*20, replace=True)\n",
    "#split text and labels\n",
    "train_sentences = X_train.content.to_numpy()\n",
    "train_labels = X_train.gemini_llm_topic.to_numpy()\n",
    "test_sentences = X_test.gemini_llm_topic.to_numpy()\n",
    "test_labels = y_test.to_numpy()"
   ]
  },
  {
   "cell_type": "code",
   "execution_count": 93,
   "id": "274793be-be35-4df4-bed3-ae07215b1577",
   "metadata": {},
   "outputs": [
    {
     "data": {
      "text/html": [
       "<div>\n",
       "<style scoped>\n",
       "    .dataframe tbody tr th:only-of-type {\n",
       "        vertical-align: middle;\n",
       "    }\n",
       "\n",
       "    .dataframe tbody tr th {\n",
       "        vertical-align: top;\n",
       "    }\n",
       "\n",
       "    .dataframe thead th {\n",
       "        text-align: right;\n",
       "    }\n",
       "</style>\n",
       "<table border=\"1\" class=\"dataframe\">\n",
       "  <thead>\n",
       "    <tr style=\"text-align: right;\">\n",
       "      <th></th>\n",
       "      <th>reviewId</th>\n",
       "      <th>userName</th>\n",
       "      <th>userImage</th>\n",
       "      <th>content</th>\n",
       "      <th>score</th>\n",
       "      <th>thumbsUpCount</th>\n",
       "      <th>reviewCreatedVersion</th>\n",
       "      <th>at</th>\n",
       "      <th>replyContent</th>\n",
       "      <th>repliedAt</th>\n",
       "      <th>appVersion</th>\n",
       "      <th>app</th>\n",
       "      <th>gemini_llm_topic</th>\n",
       "      <th>correct</th>\n",
       "      <th>human_labeled_topic</th>\n",
       "      <th>cause</th>\n",
       "    </tr>\n",
       "  </thead>\n",
       "  <tbody>\n",
       "    <tr>\n",
       "      <th>196</th>\n",
       "      <td>8f0c4f2d-9752-4c78-a388-320194f7be45</td>\n",
       "      <td>Amy Dowell</td>\n",
       "      <td>https://play-lh.googleusercontent.com/a/ACg8oc...</td>\n",
       "      <td>I can add my venmo card but can't buy crypto E...</td>\n",
       "      <td>2</td>\n",
       "      <td>0</td>\n",
       "      <td>3.201.10</td>\n",
       "      <td>2024-12-20 9:07:50</td>\n",
       "      <td>Hello Amy! We invite you to contact us via liv...</td>\n",
       "      <td>2024-12-20 9:26:04</td>\n",
       "      <td>3.201.10</td>\n",
       "      <td>co.mona.android</td>\n",
       "      <td>Account Management</td>\n",
       "      <td>1</td>\n",
       "      <td>NaN</td>\n",
       "      <td>NaN</td>\n",
       "    </tr>\n",
       "    <tr>\n",
       "      <th>264</th>\n",
       "      <td>272b0fc2-98a8-4b4e-aece-56dd6fcfdcf9</td>\n",
       "      <td>Zabihullah Jan</td>\n",
       "      <td>https://play-lh.googleusercontent.com/a-/ALV-U...</td>\n",
       "      <td>good</td>\n",
       "      <td>2</td>\n",
       "      <td>0</td>\n",
       "      <td>2.94.6</td>\n",
       "      <td>2025-01-26 12:37:48</td>\n",
       "      <td>Hi there! We are pleased that we met your expe...</td>\n",
       "      <td>2025-01-26 12:48:17</td>\n",
       "      <td>2.94.6</td>\n",
       "      <td>com.binance.dev</td>\n",
       "      <td>Generic feedback</td>\n",
       "      <td>1</td>\n",
       "      <td>NaN</td>\n",
       "      <td>NaN</td>\n",
       "    </tr>\n",
       "  </tbody>\n",
       "</table>\n",
       "</div>"
      ],
      "text/plain": [
       "                                 reviewId        userName  \\\n",
       "196  8f0c4f2d-9752-4c78-a388-320194f7be45      Amy Dowell   \n",
       "264  272b0fc2-98a8-4b4e-aece-56dd6fcfdcf9  Zabihullah Jan   \n",
       "\n",
       "                                             userImage  \\\n",
       "196  https://play-lh.googleusercontent.com/a/ACg8oc...   \n",
       "264  https://play-lh.googleusercontent.com/a-/ALV-U...   \n",
       "\n",
       "                                               content  score  thumbsUpCount  \\\n",
       "196  I can add my venmo card but can't buy crypto E...      2              0   \n",
       "264                                               good      2              0   \n",
       "\n",
       "    reviewCreatedVersion                   at  \\\n",
       "196             3.201.10   2024-12-20 9:07:50   \n",
       "264               2.94.6  2025-01-26 12:37:48   \n",
       "\n",
       "                                          replyContent            repliedAt  \\\n",
       "196  Hello Amy! We invite you to contact us via liv...   2024-12-20 9:26:04   \n",
       "264  Hi there! We are pleased that we met your expe...  2025-01-26 12:48:17   \n",
       "\n",
       "    appVersion              app    gemini_llm_topic  correct  \\\n",
       "196   3.201.10  co.mona.android  Account Management        1   \n",
       "264     2.94.6  com.binance.dev    Generic feedback        1   \n",
       "\n",
       "    human_labeled_topic cause  \n",
       "196                 NaN   NaN  \n",
       "264                 NaN   NaN  "
      ]
     },
     "execution_count": 93,
     "metadata": {},
     "output_type": "execute_result"
    }
   ],
   "source": [
    "X_train.head(2)"
   ]
  },
  {
   "cell_type": "markdown",
   "id": "ff6c972b-71ba-4c1d-9448-949d520544f5",
   "metadata": {},
   "source": [
    "## Tokenize"
   ]
  },
  {
   "cell_type": "code",
   "execution_count": 14,
   "id": "2df14759-7b38-4baf-9c79-bac21ed247cc",
   "metadata": {},
   "outputs": [],
   "source": [
    "from tensorflow.keras.preprocessing.text import Tokenizer\n",
    "from sklearn.preprocessing import LabelEncoder"
   ]
  },
  {
   "cell_type": "code",
   "execution_count": 15,
   "id": "1485cec4-406c-4bd6-9437-d86bfa3818e2",
   "metadata": {},
   "outputs": [],
   "source": [
    "from collections import Counter"
   ]
  },
  {
   "cell_type": "code",
   "execution_count": 16,
   "id": "d834d14a-ca3a-40a1-ac6d-41d3f70f225c",
   "metadata": {},
   "outputs": [],
   "source": [
    "def counter_word(text_col):\n",
    "    count = Counter()\n",
    "    for text in text_col.values:\n",
    "        for word in text.split():\n",
    "            count[word] += 1\n",
    "    return count"
   ]
  },
  {
   "cell_type": "code",
   "execution_count": 17,
   "id": "591644a2-25a3-45ed-8ee8-4a1a5d99e3ab",
   "metadata": {},
   "outputs": [],
   "source": [
    "#!pip install scikit-learn"
   ]
  },
  {
   "cell_type": "code",
   "execution_count": 21,
   "id": "1e36722c-f7f9-473d-afba-fdfcf1f00f0b",
   "metadata": {},
   "outputs": [],
   "source": [
    "counter = counter_word(df_r.content)"
   ]
  },
  {
   "cell_type": "code",
   "execution_count": 95,
   "id": "8632eff9-3dd6-48fb-a0fb-82a3b3a5f38c",
   "metadata": {},
   "outputs": [],
   "source": [
    "counter_lower = counter_word(df_r.content.str.lower())"
   ]
  },
  {
   "cell_type": "code",
   "execution_count": 96,
   "id": "787451ac-907d-40e4-856c-bc1a82ee150f",
   "metadata": {},
   "outputs": [
    {
     "data": {
      "text/plain": [
       "[('the', 283),\n",
       " ('to', 282),\n",
       " ('I', 190),\n",
       " ('and', 185),\n",
       " ('a', 154),\n",
       " ('is', 131),\n",
       " ('my', 122),\n",
       " ('it', 112),\n",
       " ('you', 111),\n",
       " ('app', 99)]"
      ]
     },
     "execution_count": 96,
     "metadata": {},
     "output_type": "execute_result"
    }
   ],
   "source": [
    "counter.most_common(10)"
   ]
  },
  {
   "cell_type": "code",
   "execution_count": 97,
   "id": "dbb082ff-f663-4d6b-a2ac-61d1c69e08fc",
   "metadata": {},
   "outputs": [
    {
     "data": {
      "text/plain": [
       "[('the', 323),\n",
       " ('to', 286),\n",
       " ('i', 220),\n",
       " ('and', 202),\n",
       " ('a', 159),\n",
       " ('is', 135),\n",
       " ('my', 129),\n",
       " ('it', 129),\n",
       " ('you', 122),\n",
       " ('app', 109)]"
      ]
     },
     "execution_count": 97,
     "metadata": {},
     "output_type": "execute_result"
    }
   ],
   "source": [
    "counter_lower.most_common(10)"
   ]
  },
  {
   "cell_type": "code",
   "execution_count": 24,
   "id": "e2d1de4a-d002-440a-a11d-45eddcbea2b8",
   "metadata": {},
   "outputs": [
    {
     "name": "stdout",
     "output_type": "stream",
     "text": [
      "2508\n"
     ]
    }
   ],
   "source": [
    "num_unique_words = len(counter)\n",
    "print(num_unique_words)"
   ]
  },
  {
   "cell_type": "code",
   "execution_count": 25,
   "id": "110a5c9e-91f0-415b-9209-9cf07dac6fd3",
   "metadata": {},
   "outputs": [],
   "source": [
    "#vectorize a text corpus by turning each text into a sequence of integers\n",
    "tokenizer = Tokenizer(num_words=num_unique_words)\n",
    "tokenizer.fit_on_texts(train_sentences) #fit only to trainin"
   ]
  },
  {
   "cell_type": "code",
   "execution_count": 28,
   "id": "3adeed15-e18e-4c20-a6a0-09f2698df8b4",
   "metadata": {},
   "outputs": [
    {
     "data": {
      "text/html": [
       "<style>#sk-container-id-1 {\n",
       "  /* Definition of color scheme common for light and dark mode */\n",
       "  --sklearn-color-text: #000;\n",
       "  --sklearn-color-text-muted: #666;\n",
       "  --sklearn-color-line: gray;\n",
       "  /* Definition of color scheme for unfitted estimators */\n",
       "  --sklearn-color-unfitted-level-0: #fff5e6;\n",
       "  --sklearn-color-unfitted-level-1: #f6e4d2;\n",
       "  --sklearn-color-unfitted-level-2: #ffe0b3;\n",
       "  --sklearn-color-unfitted-level-3: chocolate;\n",
       "  /* Definition of color scheme for fitted estimators */\n",
       "  --sklearn-color-fitted-level-0: #f0f8ff;\n",
       "  --sklearn-color-fitted-level-1: #d4ebff;\n",
       "  --sklearn-color-fitted-level-2: #b3dbfd;\n",
       "  --sklearn-color-fitted-level-3: cornflowerblue;\n",
       "\n",
       "  /* Specific color for light theme */\n",
       "  --sklearn-color-text-on-default-background: var(--sg-text-color, var(--theme-code-foreground, var(--jp-content-font-color1, black)));\n",
       "  --sklearn-color-background: var(--sg-background-color, var(--theme-background, var(--jp-layout-color0, white)));\n",
       "  --sklearn-color-border-box: var(--sg-text-color, var(--theme-code-foreground, var(--jp-content-font-color1, black)));\n",
       "  --sklearn-color-icon: #696969;\n",
       "\n",
       "  @media (prefers-color-scheme: dark) {\n",
       "    /* Redefinition of color scheme for dark theme */\n",
       "    --sklearn-color-text-on-default-background: var(--sg-text-color, var(--theme-code-foreground, var(--jp-content-font-color1, white)));\n",
       "    --sklearn-color-background: var(--sg-background-color, var(--theme-background, var(--jp-layout-color0, #111)));\n",
       "    --sklearn-color-border-box: var(--sg-text-color, var(--theme-code-foreground, var(--jp-content-font-color1, white)));\n",
       "    --sklearn-color-icon: #878787;\n",
       "  }\n",
       "}\n",
       "\n",
       "#sk-container-id-1 {\n",
       "  color: var(--sklearn-color-text);\n",
       "}\n",
       "\n",
       "#sk-container-id-1 pre {\n",
       "  padding: 0;\n",
       "}\n",
       "\n",
       "#sk-container-id-1 input.sk-hidden--visually {\n",
       "  border: 0;\n",
       "  clip: rect(1px 1px 1px 1px);\n",
       "  clip: rect(1px, 1px, 1px, 1px);\n",
       "  height: 1px;\n",
       "  margin: -1px;\n",
       "  overflow: hidden;\n",
       "  padding: 0;\n",
       "  position: absolute;\n",
       "  width: 1px;\n",
       "}\n",
       "\n",
       "#sk-container-id-1 div.sk-dashed-wrapped {\n",
       "  border: 1px dashed var(--sklearn-color-line);\n",
       "  margin: 0 0.4em 0.5em 0.4em;\n",
       "  box-sizing: border-box;\n",
       "  padding-bottom: 0.4em;\n",
       "  background-color: var(--sklearn-color-background);\n",
       "}\n",
       "\n",
       "#sk-container-id-1 div.sk-container {\n",
       "  /* jupyter's `normalize.less` sets `[hidden] { display: none; }`\n",
       "     but bootstrap.min.css set `[hidden] { display: none !important; }`\n",
       "     so we also need the `!important` here to be able to override the\n",
       "     default hidden behavior on the sphinx rendered scikit-learn.org.\n",
       "     See: https://github.com/scikit-learn/scikit-learn/issues/21755 */\n",
       "  display: inline-block !important;\n",
       "  position: relative;\n",
       "}\n",
       "\n",
       "#sk-container-id-1 div.sk-text-repr-fallback {\n",
       "  display: none;\n",
       "}\n",
       "\n",
       "div.sk-parallel-item,\n",
       "div.sk-serial,\n",
       "div.sk-item {\n",
       "  /* draw centered vertical line to link estimators */\n",
       "  background-image: linear-gradient(var(--sklearn-color-text-on-default-background), var(--sklearn-color-text-on-default-background));\n",
       "  background-size: 2px 100%;\n",
       "  background-repeat: no-repeat;\n",
       "  background-position: center center;\n",
       "}\n",
       "\n",
       "/* Parallel-specific style estimator block */\n",
       "\n",
       "#sk-container-id-1 div.sk-parallel-item::after {\n",
       "  content: \"\";\n",
       "  width: 100%;\n",
       "  border-bottom: 2px solid var(--sklearn-color-text-on-default-background);\n",
       "  flex-grow: 1;\n",
       "}\n",
       "\n",
       "#sk-container-id-1 div.sk-parallel {\n",
       "  display: flex;\n",
       "  align-items: stretch;\n",
       "  justify-content: center;\n",
       "  background-color: var(--sklearn-color-background);\n",
       "  position: relative;\n",
       "}\n",
       "\n",
       "#sk-container-id-1 div.sk-parallel-item {\n",
       "  display: flex;\n",
       "  flex-direction: column;\n",
       "}\n",
       "\n",
       "#sk-container-id-1 div.sk-parallel-item:first-child::after {\n",
       "  align-self: flex-end;\n",
       "  width: 50%;\n",
       "}\n",
       "\n",
       "#sk-container-id-1 div.sk-parallel-item:last-child::after {\n",
       "  align-self: flex-start;\n",
       "  width: 50%;\n",
       "}\n",
       "\n",
       "#sk-container-id-1 div.sk-parallel-item:only-child::after {\n",
       "  width: 0;\n",
       "}\n",
       "\n",
       "/* Serial-specific style estimator block */\n",
       "\n",
       "#sk-container-id-1 div.sk-serial {\n",
       "  display: flex;\n",
       "  flex-direction: column;\n",
       "  align-items: center;\n",
       "  background-color: var(--sklearn-color-background);\n",
       "  padding-right: 1em;\n",
       "  padding-left: 1em;\n",
       "}\n",
       "\n",
       "\n",
       "/* Toggleable style: style used for estimator/Pipeline/ColumnTransformer box that is\n",
       "clickable and can be expanded/collapsed.\n",
       "- Pipeline and ColumnTransformer use this feature and define the default style\n",
       "- Estimators will overwrite some part of the style using the `sk-estimator` class\n",
       "*/\n",
       "\n",
       "/* Pipeline and ColumnTransformer style (default) */\n",
       "\n",
       "#sk-container-id-1 div.sk-toggleable {\n",
       "  /* Default theme specific background. It is overwritten whether we have a\n",
       "  specific estimator or a Pipeline/ColumnTransformer */\n",
       "  background-color: var(--sklearn-color-background);\n",
       "}\n",
       "\n",
       "/* Toggleable label */\n",
       "#sk-container-id-1 label.sk-toggleable__label {\n",
       "  cursor: pointer;\n",
       "  display: flex;\n",
       "  width: 100%;\n",
       "  margin-bottom: 0;\n",
       "  padding: 0.5em;\n",
       "  box-sizing: border-box;\n",
       "  text-align: center;\n",
       "  align-items: start;\n",
       "  justify-content: space-between;\n",
       "  gap: 0.5em;\n",
       "}\n",
       "\n",
       "#sk-container-id-1 label.sk-toggleable__label .caption {\n",
       "  font-size: 0.6rem;\n",
       "  font-weight: lighter;\n",
       "  color: var(--sklearn-color-text-muted);\n",
       "}\n",
       "\n",
       "#sk-container-id-1 label.sk-toggleable__label-arrow:before {\n",
       "  /* Arrow on the left of the label */\n",
       "  content: \"▸\";\n",
       "  float: left;\n",
       "  margin-right: 0.25em;\n",
       "  color: var(--sklearn-color-icon);\n",
       "}\n",
       "\n",
       "#sk-container-id-1 label.sk-toggleable__label-arrow:hover:before {\n",
       "  color: var(--sklearn-color-text);\n",
       "}\n",
       "\n",
       "/* Toggleable content - dropdown */\n",
       "\n",
       "#sk-container-id-1 div.sk-toggleable__content {\n",
       "  max-height: 0;\n",
       "  max-width: 0;\n",
       "  overflow: hidden;\n",
       "  text-align: left;\n",
       "  /* unfitted */\n",
       "  background-color: var(--sklearn-color-unfitted-level-0);\n",
       "}\n",
       "\n",
       "#sk-container-id-1 div.sk-toggleable__content.fitted {\n",
       "  /* fitted */\n",
       "  background-color: var(--sklearn-color-fitted-level-0);\n",
       "}\n",
       "\n",
       "#sk-container-id-1 div.sk-toggleable__content pre {\n",
       "  margin: 0.2em;\n",
       "  border-radius: 0.25em;\n",
       "  color: var(--sklearn-color-text);\n",
       "  /* unfitted */\n",
       "  background-color: var(--sklearn-color-unfitted-level-0);\n",
       "}\n",
       "\n",
       "#sk-container-id-1 div.sk-toggleable__content.fitted pre {\n",
       "  /* unfitted */\n",
       "  background-color: var(--sklearn-color-fitted-level-0);\n",
       "}\n",
       "\n",
       "#sk-container-id-1 input.sk-toggleable__control:checked~div.sk-toggleable__content {\n",
       "  /* Expand drop-down */\n",
       "  max-height: 200px;\n",
       "  max-width: 100%;\n",
       "  overflow: auto;\n",
       "}\n",
       "\n",
       "#sk-container-id-1 input.sk-toggleable__control:checked~label.sk-toggleable__label-arrow:before {\n",
       "  content: \"▾\";\n",
       "}\n",
       "\n",
       "/* Pipeline/ColumnTransformer-specific style */\n",
       "\n",
       "#sk-container-id-1 div.sk-label input.sk-toggleable__control:checked~label.sk-toggleable__label {\n",
       "  color: var(--sklearn-color-text);\n",
       "  background-color: var(--sklearn-color-unfitted-level-2);\n",
       "}\n",
       "\n",
       "#sk-container-id-1 div.sk-label.fitted input.sk-toggleable__control:checked~label.sk-toggleable__label {\n",
       "  background-color: var(--sklearn-color-fitted-level-2);\n",
       "}\n",
       "\n",
       "/* Estimator-specific style */\n",
       "\n",
       "/* Colorize estimator box */\n",
       "#sk-container-id-1 div.sk-estimator input.sk-toggleable__control:checked~label.sk-toggleable__label {\n",
       "  /* unfitted */\n",
       "  background-color: var(--sklearn-color-unfitted-level-2);\n",
       "}\n",
       "\n",
       "#sk-container-id-1 div.sk-estimator.fitted input.sk-toggleable__control:checked~label.sk-toggleable__label {\n",
       "  /* fitted */\n",
       "  background-color: var(--sklearn-color-fitted-level-2);\n",
       "}\n",
       "\n",
       "#sk-container-id-1 div.sk-label label.sk-toggleable__label,\n",
       "#sk-container-id-1 div.sk-label label {\n",
       "  /* The background is the default theme color */\n",
       "  color: var(--sklearn-color-text-on-default-background);\n",
       "}\n",
       "\n",
       "/* On hover, darken the color of the background */\n",
       "#sk-container-id-1 div.sk-label:hover label.sk-toggleable__label {\n",
       "  color: var(--sklearn-color-text);\n",
       "  background-color: var(--sklearn-color-unfitted-level-2);\n",
       "}\n",
       "\n",
       "/* Label box, darken color on hover, fitted */\n",
       "#sk-container-id-1 div.sk-label.fitted:hover label.sk-toggleable__label.fitted {\n",
       "  color: var(--sklearn-color-text);\n",
       "  background-color: var(--sklearn-color-fitted-level-2);\n",
       "}\n",
       "\n",
       "/* Estimator label */\n",
       "\n",
       "#sk-container-id-1 div.sk-label label {\n",
       "  font-family: monospace;\n",
       "  font-weight: bold;\n",
       "  display: inline-block;\n",
       "  line-height: 1.2em;\n",
       "}\n",
       "\n",
       "#sk-container-id-1 div.sk-label-container {\n",
       "  text-align: center;\n",
       "}\n",
       "\n",
       "/* Estimator-specific */\n",
       "#sk-container-id-1 div.sk-estimator {\n",
       "  font-family: monospace;\n",
       "  border: 1px dotted var(--sklearn-color-border-box);\n",
       "  border-radius: 0.25em;\n",
       "  box-sizing: border-box;\n",
       "  margin-bottom: 0.5em;\n",
       "  /* unfitted */\n",
       "  background-color: var(--sklearn-color-unfitted-level-0);\n",
       "}\n",
       "\n",
       "#sk-container-id-1 div.sk-estimator.fitted {\n",
       "  /* fitted */\n",
       "  background-color: var(--sklearn-color-fitted-level-0);\n",
       "}\n",
       "\n",
       "/* on hover */\n",
       "#sk-container-id-1 div.sk-estimator:hover {\n",
       "  /* unfitted */\n",
       "  background-color: var(--sklearn-color-unfitted-level-2);\n",
       "}\n",
       "\n",
       "#sk-container-id-1 div.sk-estimator.fitted:hover {\n",
       "  /* fitted */\n",
       "  background-color: var(--sklearn-color-fitted-level-2);\n",
       "}\n",
       "\n",
       "/* Specification for estimator info (e.g. \"i\" and \"?\") */\n",
       "\n",
       "/* Common style for \"i\" and \"?\" */\n",
       "\n",
       ".sk-estimator-doc-link,\n",
       "a:link.sk-estimator-doc-link,\n",
       "a:visited.sk-estimator-doc-link {\n",
       "  float: right;\n",
       "  font-size: smaller;\n",
       "  line-height: 1em;\n",
       "  font-family: monospace;\n",
       "  background-color: var(--sklearn-color-background);\n",
       "  border-radius: 1em;\n",
       "  height: 1em;\n",
       "  width: 1em;\n",
       "  text-decoration: none !important;\n",
       "  margin-left: 0.5em;\n",
       "  text-align: center;\n",
       "  /* unfitted */\n",
       "  border: var(--sklearn-color-unfitted-level-1) 1pt solid;\n",
       "  color: var(--sklearn-color-unfitted-level-1);\n",
       "}\n",
       "\n",
       ".sk-estimator-doc-link.fitted,\n",
       "a:link.sk-estimator-doc-link.fitted,\n",
       "a:visited.sk-estimator-doc-link.fitted {\n",
       "  /* fitted */\n",
       "  border: var(--sklearn-color-fitted-level-1) 1pt solid;\n",
       "  color: var(--sklearn-color-fitted-level-1);\n",
       "}\n",
       "\n",
       "/* On hover */\n",
       "div.sk-estimator:hover .sk-estimator-doc-link:hover,\n",
       ".sk-estimator-doc-link:hover,\n",
       "div.sk-label-container:hover .sk-estimator-doc-link:hover,\n",
       ".sk-estimator-doc-link:hover {\n",
       "  /* unfitted */\n",
       "  background-color: var(--sklearn-color-unfitted-level-3);\n",
       "  color: var(--sklearn-color-background);\n",
       "  text-decoration: none;\n",
       "}\n",
       "\n",
       "div.sk-estimator.fitted:hover .sk-estimator-doc-link.fitted:hover,\n",
       ".sk-estimator-doc-link.fitted:hover,\n",
       "div.sk-label-container:hover .sk-estimator-doc-link.fitted:hover,\n",
       ".sk-estimator-doc-link.fitted:hover {\n",
       "  /* fitted */\n",
       "  background-color: var(--sklearn-color-fitted-level-3);\n",
       "  color: var(--sklearn-color-background);\n",
       "  text-decoration: none;\n",
       "}\n",
       "\n",
       "/* Span, style for the box shown on hovering the info icon */\n",
       ".sk-estimator-doc-link span {\n",
       "  display: none;\n",
       "  z-index: 9999;\n",
       "  position: relative;\n",
       "  font-weight: normal;\n",
       "  right: .2ex;\n",
       "  padding: .5ex;\n",
       "  margin: .5ex;\n",
       "  width: min-content;\n",
       "  min-width: 20ex;\n",
       "  max-width: 50ex;\n",
       "  color: var(--sklearn-color-text);\n",
       "  box-shadow: 2pt 2pt 4pt #999;\n",
       "  /* unfitted */\n",
       "  background: var(--sklearn-color-unfitted-level-0);\n",
       "  border: .5pt solid var(--sklearn-color-unfitted-level-3);\n",
       "}\n",
       "\n",
       ".sk-estimator-doc-link.fitted span {\n",
       "  /* fitted */\n",
       "  background: var(--sklearn-color-fitted-level-0);\n",
       "  border: var(--sklearn-color-fitted-level-3);\n",
       "}\n",
       "\n",
       ".sk-estimator-doc-link:hover span {\n",
       "  display: block;\n",
       "}\n",
       "\n",
       "/* \"?\"-specific style due to the `<a>` HTML tag */\n",
       "\n",
       "#sk-container-id-1 a.estimator_doc_link {\n",
       "  float: right;\n",
       "  font-size: 1rem;\n",
       "  line-height: 1em;\n",
       "  font-family: monospace;\n",
       "  background-color: var(--sklearn-color-background);\n",
       "  border-radius: 1rem;\n",
       "  height: 1rem;\n",
       "  width: 1rem;\n",
       "  text-decoration: none;\n",
       "  /* unfitted */\n",
       "  color: var(--sklearn-color-unfitted-level-1);\n",
       "  border: var(--sklearn-color-unfitted-level-1) 1pt solid;\n",
       "}\n",
       "\n",
       "#sk-container-id-1 a.estimator_doc_link.fitted {\n",
       "  /* fitted */\n",
       "  border: var(--sklearn-color-fitted-level-1) 1pt solid;\n",
       "  color: var(--sklearn-color-fitted-level-1);\n",
       "}\n",
       "\n",
       "/* On hover */\n",
       "#sk-container-id-1 a.estimator_doc_link:hover {\n",
       "  /* unfitted */\n",
       "  background-color: var(--sklearn-color-unfitted-level-3);\n",
       "  color: var(--sklearn-color-background);\n",
       "  text-decoration: none;\n",
       "}\n",
       "\n",
       "#sk-container-id-1 a.estimator_doc_link.fitted:hover {\n",
       "  /* fitted */\n",
       "  background-color: var(--sklearn-color-fitted-level-3);\n",
       "}\n",
       "</style><div id=\"sk-container-id-1\" class=\"sk-top-container\"><div class=\"sk-text-repr-fallback\"><pre>LabelEncoder()</pre><b>In a Jupyter environment, please rerun this cell to show the HTML representation or trust the notebook. <br />On GitHub, the HTML representation is unable to render, please try loading this page with nbviewer.org.</b></div><div class=\"sk-container\" hidden><div class=\"sk-item\"><div class=\"sk-estimator fitted sk-toggleable\"><input class=\"sk-toggleable__control sk-hidden--visually\" id=\"sk-estimator-id-1\" type=\"checkbox\" checked><label for=\"sk-estimator-id-1\" class=\"sk-toggleable__label fitted sk-toggleable__label-arrow\"><div><div>LabelEncoder</div></div><div><a class=\"sk-estimator-doc-link fitted\" rel=\"noreferrer\" target=\"_blank\" href=\"https://scikit-learn.org/1.6/modules/generated/sklearn.preprocessing.LabelEncoder.html\">?<span>Documentation for LabelEncoder</span></a><span class=\"sk-estimator-doc-link fitted\">i<span>Fitted</span></span></div></label><div class=\"sk-toggleable__content fitted\"><pre>LabelEncoder()</pre></div> </div></div></div></div>"
      ],
      "text/plain": [
       "LabelEncoder()"
      ]
     },
     "execution_count": 28,
     "metadata": {},
     "output_type": "execute_result"
    }
   ],
   "source": [
    "#vectorize the labels\n",
    "le = LabelEncoder()\n",
    "le.fit(df_r.gemini_llm_topic.to_numpy()) #fit only to trainin"
   ]
  },
  {
   "cell_type": "code",
   "execution_count": 29,
   "id": "0f691907-49ca-4834-8c81-a972461a8d53",
   "metadata": {},
   "outputs": [
    {
     "data": {
      "text/plain": [
       "array(['Account Management'], dtype=object)"
      ]
     },
     "execution_count": 29,
     "metadata": {},
     "output_type": "execute_result"
    }
   ],
   "source": [
    "le.inverse_transform([0])"
   ]
  },
  {
   "cell_type": "code",
   "execution_count": 30,
   "id": "355bd5b7-4397-4955-aa6d-2640227bb647",
   "metadata": {},
   "outputs": [],
   "source": [
    "#each word has a unique index\n",
    "word_index = tokenizer.word_index"
   ]
  },
  {
   "cell_type": "code",
   "execution_count": 31,
   "id": "dfdc78c5-ecf7-44a1-8c6d-00526c8e10b9",
   "metadata": {},
   "outputs": [],
   "source": [
    "train_sequences = tokenizer.texts_to_sequences(train_sentences)\n",
    "test_sequences = tokenizer.texts_to_sequences(test_sentences)"
   ]
  },
  {
   "cell_type": "code",
   "execution_count": 32,
   "id": "128249fe-067d-452f-b9e7-bb25f73ba1f6",
   "metadata": {},
   "outputs": [],
   "source": [
    "y_train = le.transform(train_labels)\n",
    "y_test = le.transform(test_labels)"
   ]
  },
  {
   "cell_type": "code",
   "execution_count": 35,
   "id": "a9fa4104-9b54-46d1-b2ca-d0e644eda84e",
   "metadata": {},
   "outputs": [
    {
     "name": "stdout",
     "output_type": "stream",
     "text": [
      "Example sequence 1:\n",
      "['very easy very fast love the app']\n",
      "[[56, 98, 56, 746, 114, 1, 9]]\n",
      "Example sequence 2:\n",
      "['Due to not listed pi network']\n",
      "[[329, 2, 14, 217, 59, 132]]\n"
     ]
    }
   ],
   "source": [
    "print(\"Example sequence 1:\")\n",
    "print(train_sentences[10:11])\n",
    "print(train_sequences[10:11])\n",
    "print(\"Example sequence 2:\")\n",
    "print(train_sentences[20:21])\n",
    "print(train_sequences[20:21])"
   ]
  },
  {
   "cell_type": "markdown",
   "id": "4b709fa5-6a6e-4faf-a29c-dc23f8a8c886",
   "metadata": {},
   "source": [
    "As seen above, sequences can have different lengths since the sentences may contain a distinct number of words. We need all sequences to be of the same length, and for this we will use padding."
   ]
  },
  {
   "cell_type": "code",
   "execution_count": 36,
   "id": "42a85e11-14b1-4462-8a28-829fae3ab7a8",
   "metadata": {},
   "outputs": [
    {
     "data": {
      "text/plain": [
       "((4780, 255), (60, 255))"
      ]
     },
     "execution_count": 36,
     "metadata": {},
     "output_type": "execute_result"
    }
   ],
   "source": [
    "#Pad the sequences to have the same length\n",
    "from tensorflow.keras.preprocessing.sequence import pad_sequences\n",
    "\n",
    "#max number of words in a sequence\n",
    "max_length = 255\n",
    "\n",
    "train_padded = pad_sequences(train_sequences, maxlen= max_length, padding = \"post\", truncating = \"post\")\n",
    "test_padded = pad_sequences(test_sequences, maxlen = max_length, padding = \"post\", truncating = \"post\")\n",
    "train_padded.shape, test_padded.shape"
   ]
  },
  {
   "cell_type": "code",
   "execution_count": 37,
   "id": "6269a21f-bac2-4005-b594-49ca4caa53a7",
   "metadata": {},
   "outputs": [],
   "source": [
    "reverse_word_index = dict([(idx, word) for (word, idx) in word_index.items()])"
   ]
  },
  {
   "cell_type": "code",
   "execution_count": 38,
   "id": "1bff3754-3582-4caa-8836-0feb4053d043",
   "metadata": {},
   "outputs": [],
   "source": [
    "def decode(sequence):\n",
    "    return \" \".join([reverse_word_index.get(idx, \"?\") for idx in sequence])"
   ]
  },
  {
   "cell_type": "code",
   "execution_count": 39,
   "id": "63f2f738-d441-4afe-8f7d-f7eb4acf4714",
   "metadata": {},
   "outputs": [],
   "source": [
    "decoded_text = decode(train_sequences[10])"
   ]
  },
  {
   "cell_type": "code",
   "execution_count": 40,
   "id": "ef871610-2925-4fbc-bd40-f757552a48b9",
   "metadata": {},
   "outputs": [
    {
     "data": {
      "text/plain": [
       "'very easy very fast love the app'"
      ]
     },
     "execution_count": 40,
     "metadata": {},
     "output_type": "execute_result"
    }
   ],
   "source": [
    "decoded_text"
   ]
  },
  {
   "cell_type": "markdown",
   "id": "6f8fc161-f06b-4771-a5f4-503999865ee2",
   "metadata": {},
   "source": [
    "## Train model"
   ]
  },
  {
   "cell_type": "code",
   "execution_count": 46,
   "id": "70c952a5-c72a-4c8d-827c-de7877f12741",
   "metadata": {},
   "outputs": [],
   "source": [
    "num_classes = df_r[\"gemini_llm_topic\"].nunique()"
   ]
  },
  {
   "cell_type": "code",
   "execution_count": 47,
   "id": "72ec815b-592a-4d4a-a388-70b422a0a458",
   "metadata": {},
   "outputs": [
    {
     "data": {
      "text/plain": [
       "12"
      ]
     },
     "execution_count": 47,
     "metadata": {},
     "output_type": "execute_result"
    }
   ],
   "source": [
    "num_classes"
   ]
  },
  {
   "cell_type": "code",
   "execution_count": 50,
   "id": "a69cd525-f382-4ee8-8afa-50d8fc3ca1db",
   "metadata": {},
   "outputs": [
    {
     "data": {
      "text/plain": [
       "gemini_llm_topic\n",
       "Usability/UI/UX                     51\n",
       "Generic feedback                    50\n",
       "Reliability/Stability               39\n",
       "Account Management                  38\n",
       "Customer Support                    36\n",
       "Transaction Fees/Speed              31\n",
       "Features/Functionality              25\n",
       "Verification/KYC/AML Processes      16\n",
       "Security                             5\n",
       "Educational Resources/Onboarding     4\n",
       "Wallet Security/Integration          3\n",
       "Privacy                              1\n",
       "Name: count, dtype: int64"
      ]
     },
     "execution_count": 50,
     "metadata": {},
     "output_type": "execute_result"
    }
   ],
   "source": [
    "df_r[\"gemini_llm_topic\"].value_counts()"
   ]
  },
  {
   "cell_type": "code",
   "execution_count": 48,
   "id": "f1f2aef9-baa4-4f68-bbaa-30a1c68b7c77",
   "metadata": {},
   "outputs": [],
   "source": [
    "from tensorflow import keras\n",
    "from tensorflow.keras import layers\n",
    "from tensorflow.keras import regularizers"
   ]
  },
  {
   "cell_type": "code",
   "execution_count": 49,
   "id": "d4c48b3d-be08-44ba-b790-e56b23a17911",
   "metadata": {},
   "outputs": [],
   "source": [
    "model = keras.Sequential([\n",
    "layers.Dense(num_classes*20, \n",
    "             #kernel_regularizer=regularizers.l1_l2(l1=0.001, l2=0.001), \n",
    "             kernel_regularizer=regularizers.l2(0.002), \n",
    "             activation=\"relu\"),\n",
    "    \n",
    "    layers.Dropout(0.3),\n",
    "layers.Dense(num_classes*20, \n",
    "             #kernel_regularizer=regularizers.l1_l2(l1=0.001, l2=0.001), \n",
    "             kernel_regularizer=regularizers.l2(0.002), \n",
    "             activation=\"relu\"),\n",
    "    \n",
    "    layers.Dropout(0.3),\n",
    "layers.Dense(num_classes*20, \n",
    "             #kernel_regularizer=regularizers.l1_l2(l1=0.001, l2=0.001), \n",
    "             kernel_regularizer=regularizers.l2(0.002), \n",
    "             activation=\"relu\"),\n",
    "    \n",
    "    layers.Dropout(0.3),\n",
    "layers.Dense(num_classes, activation=\"softmax\")\n",
    "])"
   ]
  },
  {
   "cell_type": "markdown",
   "id": "048d35da-aba4-4e78-be99-39ae4e61d1c6",
   "metadata": {},
   "source": [
    "## Compile the model"
   ]
  },
  {
   "cell_type": "code",
   "execution_count": 61,
   "id": "1ccbabee-ef63-4f5c-9486-0eb3088db089",
   "metadata": {},
   "outputs": [],
   "source": [
    "model.compile(optimizer=\"rmsprop\",\n",
    "loss=\"sparse_categorical_crossentropy\",\n",
    "metrics=[\"accuracy\"])"
   ]
  },
  {
   "cell_type": "code",
   "execution_count": 62,
   "id": "bb19a3e3-25a1-4e35-a602-1c346c90d0c7",
   "metadata": {},
   "outputs": [
    {
     "data": {
      "text/plain": [
       "4780"
      ]
     },
     "execution_count": 62,
     "metadata": {},
     "output_type": "execute_result"
    }
   ],
   "source": [
    "len(train_padded)"
   ]
  },
  {
   "cell_type": "code",
   "execution_count": 63,
   "id": "29965fdd-bb19-453f-8352-0de75fdd1987",
   "metadata": {},
   "outputs": [],
   "source": [
    "#validation set\n",
    "x_val = train_padded[:100]\n",
    "partial_x_train = train_padded[100:]\n",
    "y_val = y_train[:100]\n",
    "partial_y_train = y_train[100:]"
   ]
  },
  {
   "cell_type": "code",
   "execution_count": 64,
   "id": "7ba5db3c-cbd0-4b33-99f8-2bacd4d32c71",
   "metadata": {},
   "outputs": [
    {
     "name": "stdout",
     "output_type": "stream",
     "text": [
      "Epoch 1/20\n",
      "\u001b[1m3/3\u001b[0m \u001b[32m━━━━━━━━━━━━━━━━━━━━\u001b[0m\u001b[37m\u001b[0m \u001b[1m0s\u001b[0m 57ms/step - accuracy: 0.9631 - loss: 0.5877 - val_accuracy: 0.9818 - val_loss: 0.4760\n",
      "Epoch 2/20\n",
      "\u001b[1m3/3\u001b[0m \u001b[32m━━━━━━━━━━━━━━━━━━━━\u001b[0m\u001b[37m\u001b[0m \u001b[1m0s\u001b[0m 23ms/step - accuracy: 0.9629 - loss: 0.5903 - val_accuracy: 0.9848 - val_loss: 0.4652\n",
      "Epoch 3/20\n",
      "\u001b[1m3/3\u001b[0m \u001b[32m━━━━━━━━━━━━━━━━━━━━\u001b[0m\u001b[37m\u001b[0m \u001b[1m0s\u001b[0m 24ms/step - accuracy: 0.9493 - loss: 0.5801 - val_accuracy: 0.9812 - val_loss: 0.4610\n",
      "Epoch 4/20\n",
      "\u001b[1m3/3\u001b[0m \u001b[32m━━━━━━━━━━━━━━━━━━━━\u001b[0m\u001b[37m\u001b[0m \u001b[1m0s\u001b[0m 25ms/step - accuracy: 0.9529 - loss: 0.5997 - val_accuracy: 0.9812 - val_loss: 0.4601\n",
      "Epoch 5/20\n",
      "\u001b[1m3/3\u001b[0m \u001b[32m━━━━━━━━━━━━━━━━━━━━\u001b[0m\u001b[37m\u001b[0m \u001b[1m0s\u001b[0m 24ms/step - accuracy: 0.9617 - loss: 0.5564 - val_accuracy: 0.9812 - val_loss: 0.4565\n",
      "Epoch 6/20\n",
      "\u001b[1m3/3\u001b[0m \u001b[32m━━━━━━━━━━━━━━━━━━━━\u001b[0m\u001b[37m\u001b[0m \u001b[1m0s\u001b[0m 23ms/step - accuracy: 0.9627 - loss: 0.5558 - val_accuracy: 0.9812 - val_loss: 0.4520\n",
      "Epoch 7/20\n",
      "\u001b[1m3/3\u001b[0m \u001b[32m━━━━━━━━━━━━━━━━━━━━\u001b[0m\u001b[37m\u001b[0m \u001b[1m0s\u001b[0m 22ms/step - accuracy: 0.9623 - loss: 0.5267 - val_accuracy: 0.9812 - val_loss: 0.4515\n",
      "Epoch 8/20\n",
      "\u001b[1m3/3\u001b[0m \u001b[32m━━━━━━━━━━━━━━━━━━━━\u001b[0m\u001b[37m\u001b[0m \u001b[1m0s\u001b[0m 25ms/step - accuracy: 0.9591 - loss: 0.5188 - val_accuracy: 0.9812 - val_loss: 0.4490\n",
      "Epoch 9/20\n",
      "\u001b[1m3/3\u001b[0m \u001b[32m━━━━━━━━━━━━━━━━━━━━\u001b[0m\u001b[37m\u001b[0m \u001b[1m0s\u001b[0m 25ms/step - accuracy: 0.9593 - loss: 0.4935 - val_accuracy: 0.9800 - val_loss: 0.4432\n",
      "Epoch 10/20\n",
      "\u001b[1m3/3\u001b[0m \u001b[32m━━━━━━━━━━━━━━━━━━━━\u001b[0m\u001b[37m\u001b[0m \u001b[1m0s\u001b[0m 24ms/step - accuracy: 0.9678 - loss: 0.4956 - val_accuracy: 0.9812 - val_loss: 0.4410\n",
      "Epoch 11/20\n",
      "\u001b[1m3/3\u001b[0m \u001b[32m━━━━━━━━━━━━━━━━━━━━\u001b[0m\u001b[37m\u001b[0m \u001b[1m0s\u001b[0m 24ms/step - accuracy: 0.9678 - loss: 0.5184 - val_accuracy: 0.9800 - val_loss: 0.4395\n",
      "Epoch 12/20\n",
      "\u001b[1m3/3\u001b[0m \u001b[32m━━━━━━━━━━━━━━━━━━━━\u001b[0m\u001b[37m\u001b[0m \u001b[1m0s\u001b[0m 24ms/step - accuracy: 0.9712 - loss: 0.4883 - val_accuracy: 0.9764 - val_loss: 0.4385\n",
      "Epoch 13/20\n",
      "\u001b[1m3/3\u001b[0m \u001b[32m━━━━━━━━━━━━━━━━━━━━\u001b[0m\u001b[37m\u001b[0m \u001b[1m0s\u001b[0m 22ms/step - accuracy: 0.9634 - loss: 0.5023 - val_accuracy: 0.9848 - val_loss: 0.4371\n",
      "Epoch 14/20\n",
      "\u001b[1m3/3\u001b[0m \u001b[32m━━━━━━━━━━━━━━━━━━━━\u001b[0m\u001b[37m\u001b[0m \u001b[1m0s\u001b[0m 25ms/step - accuracy: 0.9706 - loss: 0.4823 - val_accuracy: 0.9812 - val_loss: 0.4309\n",
      "Epoch 15/20\n",
      "\u001b[1m3/3\u001b[0m \u001b[32m━━━━━━━━━━━━━━━━━━━━\u001b[0m\u001b[37m\u001b[0m \u001b[1m0s\u001b[0m 22ms/step - accuracy: 0.9699 - loss: 0.4821 - val_accuracy: 0.9904 - val_loss: 0.4256\n",
      "Epoch 16/20\n",
      "\u001b[1m3/3\u001b[0m \u001b[32m━━━━━━━━━━━━━━━━━━━━\u001b[0m\u001b[37m\u001b[0m \u001b[1m0s\u001b[0m 21ms/step - accuracy: 0.9631 - loss: 0.4947 - val_accuracy: 0.9782 - val_loss: 0.4331\n",
      "Epoch 17/20\n",
      "\u001b[1m3/3\u001b[0m \u001b[32m━━━━━━━━━━━━━━━━━━━━\u001b[0m\u001b[37m\u001b[0m \u001b[1m0s\u001b[0m 21ms/step - accuracy: 0.9638 - loss: 0.4911 - val_accuracy: 0.9782 - val_loss: 0.4306\n",
      "Epoch 18/20\n",
      "\u001b[1m3/3\u001b[0m \u001b[32m━━━━━━━━━━━━━━━━━━━━\u001b[0m\u001b[37m\u001b[0m \u001b[1m0s\u001b[0m 22ms/step - accuracy: 0.9673 - loss: 0.5020 - val_accuracy: 0.9848 - val_loss: 0.4242\n",
      "Epoch 19/20\n",
      "\u001b[1m3/3\u001b[0m \u001b[32m━━━━━━━━━━━━━━━━━━━━\u001b[0m\u001b[37m\u001b[0m \u001b[1m0s\u001b[0m 22ms/step - accuracy: 0.9669 - loss: 0.4746 - val_accuracy: 0.9848 - val_loss: 0.4177\n",
      "Epoch 20/20\n",
      "\u001b[1m3/3\u001b[0m \u001b[32m━━━━━━━━━━━━━━━━━━━━\u001b[0m\u001b[37m\u001b[0m \u001b[1m0s\u001b[0m 21ms/step - accuracy: 0.9740 - loss: 0.4776 - val_accuracy: 0.9848 - val_loss: 0.4184\n"
     ]
    }
   ],
   "source": [
    "history = model.fit(train_padded,\n",
    "    y_train,\n",
    "    epochs=20,\n",
    "    batch_size=512,\n",
    "    validation_split=0.7)"
   ]
  },
  {
   "cell_type": "code",
   "execution_count": 65,
   "id": "b547001f-a17d-46be-8c8a-092f5ab12182",
   "metadata": {},
   "outputs": [],
   "source": [
    "#!pip install matplotlib"
   ]
  },
  {
   "cell_type": "code",
   "execution_count": 66,
   "id": "c7aa4221-41a7-4cfb-bbd5-a5deb0aa2589",
   "metadata": {},
   "outputs": [],
   "source": [
    "import matplotlib.pyplot as plt"
   ]
  },
  {
   "cell_type": "code",
   "execution_count": 67,
   "id": "a30f4513-07c6-4b19-a616-5aa4b61a8324",
   "metadata": {},
   "outputs": [
    {
     "data": {
      "image/png": "[encoded data removed]",
      "text/plain": [
       "<Figure size 640x480 with 1 Axes>"
      ]
     },
     "metadata": {},
     "output_type": "display_data"
    }
   ],
   "source": [
    "#plotting the training and validation loss\n",
    "loss = history.history[\"loss\"]\n",
    "val_loss = history.history[\"val_loss\"]\n",
    "epochs = range(1, len(loss) + 1)\n",
    "plt.plot(epochs, loss, \"bo\", label=\"Training loss\")\n",
    "plt.plot(epochs, val_loss, \"b\", label=\"Validation loss\")\n",
    "plt.title(\"Training and validation loss\")\n",
    "plt.xlabel(\"Epochs\")\n",
    "plt.ylabel(\"Loss\")\n",
    "plt.legend()\n",
    "plt.show()"
   ]
  },
  {
   "cell_type": "code",
   "execution_count": 68,
   "id": "77ee161d-3b8e-4cf4-affc-3968869a1e5c",
   "metadata": {
    "scrolled": true
   },
   "outputs": [
    {
     "data": {
      "text/plain": [
       "dict_keys(['accuracy', 'loss', 'val_accuracy', 'val_loss'])"
      ]
     },
     "execution_count": 68,
     "metadata": {},
     "output_type": "execute_result"
    }
   ],
   "source": [
    "history.history.keys()"
   ]
  },
  {
   "cell_type": "code",
   "execution_count": 71,
   "id": "4115eead-7120-4509-884f-2d00629d610a",
   "metadata": {},
   "outputs": [],
   "source": [
    "train_metric = 'accuracy'\n",
    "val_metric = 'val_accuracy'"
   ]
  },
  {
   "cell_type": "code",
   "execution_count": 72,
   "id": "2d2d6edd-a54b-4b33-8565-a029cd6ac5e4",
   "metadata": {},
   "outputs": [
    {
     "data": {
      "image/png": "[encoded data removed]",
      "text/plain": [
       "<Figure size 640x480 with 1 Axes>"
      ]
     },
     "metadata": {},
     "output_type": "display_data"
    }
   ],
   "source": [
    "#plotting the training and validation accuracy\n",
    "plt.clf()\n",
    "acc = history.history[train_metric]\n",
    "val_acc = history.history[val_metric]\n",
    "plt.plot(epochs, acc, \"bo\", label=\"Training accuracy\")\n",
    "plt.plot(epochs, val_acc, \"b\", label=\"Validation accuracy\")\n",
    "plt.title(\"Training and validation accuracy\")\n",
    "plt.xlabel(\"Epochs\")\n",
    "plt.ylabel(\"Accuracy\")\n",
    "plt.legend()\n",
    "plt.show()"
   ]
  },
  {
   "cell_type": "code",
   "execution_count": 73,
   "id": "7c018371-4b16-49eb-a153-701a8761c0cc",
   "metadata": {},
   "outputs": [
    {
     "name": "stdout",
     "output_type": "stream",
     "text": [
      "\u001b[1m2/2\u001b[0m \u001b[32m━━━━━━━━━━━━━━━━━━━━\u001b[0m\u001b[37m\u001b[0m \u001b[1m0s\u001b[0m 10ms/step - accuracy: 0.1299 - loss: 9.8194\n"
     ]
    },
    {
     "data": {
      "text/plain": [
       "[10.599756240844727, 0.11666666716337204]"
      ]
     },
     "execution_count": 73,
     "metadata": {},
     "output_type": "execute_result"
    }
   ],
   "source": [
    "model.evaluate(test_padded, y_test)"
   ]
  },
  {
   "cell_type": "code",
   "execution_count": 74,
   "id": "ba39bb7f-077a-4f7b-9b3f-4daa79ef67bb",
   "metadata": {},
   "outputs": [
    {
     "data": {
      "text/plain": [
       "array([ 4,  4,  1,  1,  0,  4, 11,  0,  8,  0,  0,  0,  0,  6,  1,  6,  0,\n",
       "        6,  0,  1,  6,  6,  9,  3,  8,  4,  4,  8,  1,  3,  3,  6,  9,  6,\n",
       "        0,  9,  6,  6, 10,  6,  8,  3,  9, 10,  6,  3,  3,  4,  3,  6,  1,\n",
       "        1,  8,  3,  4,  6,  3,  9,  0,  9])"
      ]
     },
     "execution_count": 74,
     "metadata": {},
     "output_type": "execute_result"
    }
   ],
   "source": [
    "y_test"
   ]
  },
  {
   "cell_type": "code",
   "execution_count": 75,
   "id": "518f9bae-6b76-478c-9745-3450b1159990",
   "metadata": {},
   "outputs": [
    {
     "name": "stdout",
     "output_type": "stream",
     "text": [
      "\u001b[1m2/2\u001b[0m \u001b[32m━━━━━━━━━━━━━━━━━━━━\u001b[0m\u001b[37m\u001b[0m \u001b[1m0s\u001b[0m 26ms/step\n"
     ]
    }
   ],
   "source": [
    "predictions = model.predict(test_padded)"
   ]
  },
  {
   "cell_type": "code",
   "execution_count": 76,
   "id": "4d9d91c4-d085-4b17-bfc9-2055ed0a1a16",
   "metadata": {},
   "outputs": [],
   "source": [
    "pred_list = []\n",
    "for p in predictions:\n",
    "   pred_list.append(p.argmax())"
   ]
  },
  {
   "cell_type": "code",
   "execution_count": 77,
   "id": "079e4a81-098c-464c-90c8-9b15ae15cef1",
   "metadata": {},
   "outputs": [],
   "source": [
    "from sklearn.metrics import f1_score"
   ]
  },
  {
   "cell_type": "code",
   "execution_count": 78,
   "id": "596ac104-8f40-4417-a0a7-1f85c83dfe63",
   "metadata": {},
   "outputs": [
    {
     "data": {
      "text/plain": [
       "0.11666666666666667"
      ]
     },
     "execution_count": 78,
     "metadata": {},
     "output_type": "execute_result"
    }
   ],
   "source": [
    "f1_score(y_test, pred_list, average='micro')"
   ]
  },
  {
   "cell_type": "code",
   "execution_count": 79,
   "id": "753df257-68a6-4b37-80d1-d8db636ab49a",
   "metadata": {},
   "outputs": [],
   "source": [
    "qa_df = pd.DataFrame({\"text\":X_test.content.to_numpy(), \n",
    "              \"true_value\":le.inverse_transform(y_test), \n",
    "              \"predicted_value\": le.inverse_transform(pred_list)})"
   ]
  },
  {
   "cell_type": "code",
   "execution_count": 80,
   "id": "6620af8c-2e8a-424e-a14f-3632fa9bbcd5",
   "metadata": {},
   "outputs": [
    {
     "name": "stdout",
     "output_type": "stream",
     "text": [
      "1 star 🌟 till I've tried and tested the app myself\n",
      "True value: Generic feedback\n",
      "Predicted value: Generic feedback\n",
      "***********************\n",
      "good\n",
      "True value: Generic feedback\n",
      "Predicted value: Generic feedback\n",
      "***********************\n",
      "This is the worst user friendly app. They claim there is no phone number to actually speak to someone. The people on the chat don't understand most issues, so you constantly have to repeat yourself. This app is incredibly bad with the lack of customer support especially.\n",
      "True value: Customer Support\n",
      "Predicted value: Generic feedback\n",
      "***********************\n",
      "the bybt app is cool, but you guys need 2 upgrade on something, why wud a seller hold a buyer's transaction witout sending money, the buyer wud marked the transaction as sucesful without sendn the money, bcus of misunderstanding, that's not professional, cus u guys would @ the end tell the person 2 sort it out with the seller, knowing fully wel is not ethics, you guys shud upgrade knowing wen someone's isn't intentionally sending the money and punish him/her. what if the buyer is on emergency.\n",
      "True value: Customer Support\n",
      "Predicted value: Generic feedback\n",
      "***********************\n",
      "ITS A SCAM! They hide a way to get your money out. It's a whole process just to sell your crypto. Anytime I buy crypto it falls even when I wait hours looking at it drop every 5 mins. I've basically lost all of it because I can't get the rest out. Never again. EDIT: I got ahold of support and it's done nothing. There's no withdraw button and why do I have to link a bank account to get money back when they can take it ight off my debit card????\n",
      "True value: Account Management\n",
      "Predicted value: Generic feedback\n",
      "***********************\n",
      "nice 👍\n",
      "True value: Generic feedback\n",
      "Predicted value: Generic feedback\n",
      "***********************\n",
      "Updated: Now I really love the exchange but I don't like the web3 wallet I put 5 USDT AND I CAN'T do Swaps or bridge or transfer without eth! It should allow converting like the exchange!!!\n",
      "True value: Wallet Security/Integration\n",
      "Predicted value: Security\n",
      "***********************\n",
      "I was restricted without any tangible reasons from p2p advertiser , very annoying..,\n",
      "True value: Account Management\n",
      "Predicted value: Generic feedback\n",
      "***********************\n",
      "hello, if you are reading this...I think u should avoid trading on bybit because...u will be doom to loss your capital gradually. Am talking from experience... including fees and they don't allow you to transfer the total of your initial capital from each trades between each crypto u trade on... leaving behind some little money and causing you to struggle to make profits while you trade. Avoid this app...if you know what is good for you.\n",
      "True value: Transaction Fees/Speed\n",
      "Predicted value: Generic feedback\n",
      "***********************\n",
      "I haven't received any $100 while signed up 3 years ago. Why?😂😂😂😂\n",
      "True value: Account Management\n",
      "Predicted value: Generic feedback\n",
      "***********************\n",
      "This application has a poor system, as my account was immediately suspended when my card was linked, and it was not answered again. If my request is resumed, please be careful. The application is a fraud. If you deposit any money in it, you will lose it.\n",
      "True value: Account Management\n",
      "Predicted value: Generic feedback\n",
      "***********************\n",
      "Hello sir please open solvBTC withdraw in exchangers my few money are stuck mistakly kindly open withdrawals... For btc network i did but my apeal was rejected\n",
      "True value: Account Management\n",
      "Predicted value: Generic feedback\n",
      "***********************\n",
      "I have a pending asset for a while and it is saying frozen, I need it release please\n",
      "True value: Account Management\n",
      "Predicted value: Generic feedback\n",
      "***********************\n",
      "I don't understand bybit all the uprise in btc and other crypto currencies don't affect bybit that's really bad you see other exchange binace remitano you see a good change in it when it comes to bybit there is little or no difference at all you guys should really work on this cause most users are starting to notice\n",
      "True value: Reliability/Stability\n",
      "Predicted value: Generic feedback\n",
      "***********************\n",
      "Very bad customer service,,,, this is not expected from them.Bitget offers very good customer service.\n",
      "True value: Customer Support\n",
      "Predicted value: Generic feedback\n",
      "***********************\n",
      "Why is the P2P section not working again. Can't trade on the P2P section.\n",
      "True value: Reliability/Stability\n",
      "Predicted value: Generic feedback\n",
      "***********************\n",
      "There is no signup bonus, they just trick you into depositing money, and after that you will know it's some fees rebate nonsense, it's not even that type of bonus that other brokers give, pathetic. I will write everywhere about this P. S. Same copy paste response for everyone.\n",
      "True value: Account Management\n",
      "Predicted value: Generic feedback\n",
      "***********************\n",
      "The app is buggy, features stop working randomly. It's too complicated, there are too many unnecessary features. And most important, very high fees/commissions. I don't feel confident my money is in safe hands when using this app. I can't recommend it.\n",
      "True value: Reliability/Stability\n",
      "Predicted value: Generic feedback\n",
      "***********************\n",
      "This financial \"world's premiere\" app can export transaction history only as CSV... and in my case even that one is EMPTY! If you need the equivalent of a bank statement... bad luck! The only thing you'll get is that CSV and the suggestion from the \"support specialists\" to \"use an app to convert CSV to PDF\"... then close the chat in my face repeatedly! Judge by yourselves but from my point of view even one star is too much!\n",
      "True value: Account Management\n",
      "Predicted value: Generic feedback\n",
      "***********************\n",
      "Waiting over a month for them to unlock my account now. Customer service is absolutely dreadful. I already reached out to chat numerous times and it's a waste of my time!\n",
      "True value: Customer Support\n",
      "Predicted value: Generic feedback\n",
      "***********************\n",
      "It's not downloading\n",
      "True value: Reliability/Stability\n",
      "Predicted value: Generic feedback\n",
      "***********************\n",
      "Horrible app. Slow and doesn't work properly. My credit card was declined and when I called my bank why my credit card wasn't working apparently crypto. Com has been trying to charge my credit card. Also, half of the time the app doesnt work at it tell me to contact customer service through the app. But I can't contact customer service since the app doesn't work. There are so many other crypto apps that works better and have better fees. Don't bother with this one. Scams and no help.\n",
      "True value: Reliability/Stability\n",
      "Predicted value: Generic feedback\n",
      "***********************\n",
      "Y'all, I CANNOT stress enough how irritating it is that it stopped opening up to my home page and instead scrolls straight to sports now. I have zero investments in sports, so stop taking me there.\n",
      "True value: Usability/UI/UX\n",
      "Predicted value: Generic feedback\n",
      "***********************\n",
      "It truly is an all in one crypto app. I use it a dozen times a day.\n",
      "True value: Features/Functionality\n",
      "Predicted value: Security\n",
      "***********************\n",
      "Astronomical fees and exchange rates. False value display for owned coins. Stay away.\n",
      "True value: Transaction Fees/Speed\n",
      "Predicted value: Generic feedback\n",
      "***********************\n",
      "Today uninstall my Binance app, and i am shifting in bitget, for trade on pi\n",
      "True value: Generic feedback\n",
      "Predicted value: Generic feedback\n",
      "***********************\n",
      "good app\n",
      "True value: Generic feedback\n",
      "Predicted value: Generic feedback\n",
      "***********************\n",
      "Hadn't been on in a few years, well they made transactions for me. Crooks tbh, not even so much as an email notification. I'm good waste of money.\n",
      "True value: Transaction Fees/Speed\n",
      "Predicted value: Generic feedback\n",
      "***********************\n",
      "Good luck getting any customer support. THE WORST APP EVER. 3 MONTHS TO GET MY CARD UNFROZEN, AND THEY STILL JERK ME AROUND AND WITH ROBOTIC ANSWER THAT MEANS NOTHING!!\n",
      "True value: Customer Support\n",
      "Predicted value: Generic feedback\n",
      "***********************\n",
      "Needs to list Pi\n",
      "True value: Features/Functionality\n",
      "Predicted value: Security\n",
      "***********************\n",
      "Binance should list Pi.\n",
      "True value: Features/Functionality\n",
      "Predicted value: Security\n",
      "***********************\n",
      "P2p trading is great but when it comes to future trading expect the worse. Like you can enter trade with a 10 dollars Stoploss and you get liquidated 50 percent or less for price reach your initial Stoploss. I thought it was me the leverage i didn't adjust properly but then i got multiple experiences. Be careful\n",
      "True value: Reliability/Stability\n",
      "Predicted value: Generic feedback\n",
      "***********************\n",
      "really easy to use\n",
      "True value: Usability/UI/UX\n",
      "Predicted value: Generic feedback\n",
      "***********************\n",
      "App no responding sometimes like if it had a connection error but every other app on my phone is working fine.\n",
      "True value: Reliability/Stability\n",
      "Predicted value: Generic feedback\n",
      "***********************\n",
      "Can't pull out your money if it's less than 100. So in other words these bums will indefinitely hold my money. Small amount but still.\n",
      "True value: Account Management\n",
      "Predicted value: Generic feedback\n",
      "***********************\n",
      "Hanging my phone and not compatible with low android\n",
      "True value: Usability/UI/UX\n",
      "Predicted value: Generic feedback\n",
      "***********************\n",
      "App no responding sometimes like if it had a connection error but every other app on my phone is working fine.\n",
      "True value: Reliability/Stability\n",
      "Predicted value: Generic feedback\n",
      "***********************\n",
      "The app is very slow to respond.\n",
      "True value: Reliability/Stability\n",
      "Predicted value: Generic feedback\n",
      "***********************\n",
      "Same as the other users here. I'm sent a code then I use it and tells me it's the wrong code....???? I'd love to use this exchange system,if I could actually get into it.\n",
      "True value: Verification/KYC/AML Processes\n",
      "Predicted value: Generic feedback\n",
      "***********************\n",
      "P2P transactions are full of scammers. Five out of ten transactions are fraudulent and they are causing us to lose money by claiming that we paid without paying.\n",
      "True value: Reliability/Stability\n",
      "Predicted value: Generic feedback\n",
      "***********************\n",
      "11% fee to sell is to much otherwise everything is ok with the transfer\n",
      "True value: Transaction Fees/Speed\n",
      "Predicted value: Generic feedback\n",
      "***********************\n",
      "Binance has listed many waste coins on its exchange. But in the whole world which right now Pi coin The most famous and comes at number 11 in the world, it did not listed Because of this, no longer to work on the binance exchange . In our eyes, Binance pi coin Is incomplete without\n",
      "True value: Features/Functionality\n",
      "Predicted value: Security\n",
      "***********************\n",
      "Very cheap style is of this Binance which compels the net user to bother to cee this in tricky repeatable !\n",
      "True value: Usability/UI/UX\n",
      "Predicted value: Generic feedback\n",
      "***********************\n",
      "I am not ok providing bio metrics, I greatly appreciate the security but this has never been necessary.\n",
      "True value: Verification/KYC/AML Processes\n",
      "Predicted value: Generic feedback\n",
      "***********************\n",
      "Always the same problem when dealing p2p .... Some operations you can't cancel the order ... And when your messages are not sent you can't do anything to retry sending... It only wasn't my time for nothing\n",
      "True value: Reliability/Stability\n",
      "Predicted value: Generic feedback\n",
      "***********************\n",
      "It's handling of pi does not sit well with me\n",
      "True value: Features/Functionality\n",
      "Predicted value: Security\n",
      "***********************\n",
      "Pi not listed 👎👎👎👎👎👎👎\n",
      "True value: Features/Functionality\n",
      "Predicted value: Security\n",
      "***********************\n",
      "good\n",
      "True value: Generic feedback\n",
      "Predicted value: Generic feedback\n",
      "***********************\n",
      "Pi not listing\n",
      "True value: Features/Functionality\n",
      "Predicted value: Security\n",
      "***********************\n",
      "Having issues on 1min candles display that's cost me a lot , even stop lost doesn't work properly as well\n",
      "True value: Reliability/Stability\n",
      "Predicted value: Generic feedback\n",
      "***********************\n",
      "Scammed my mother who now cant afford bills and rent because they took her money and wont return it. Save yourself the scam.\n",
      "True value: Customer Support\n",
      "Predicted value: Generic feedback\n",
      "***********************\n",
      "They want to be a financial service where you can exchange cash and crypto, and push boundaries. The app does ok, But the support staff are largely evasive and like to play word games. If you want someone to handle your money they'd better be more willing to offer customer service than the game I play in the evenings where cats make soup.\n",
      "True value: Customer Support\n",
      "Predicted value: Generic feedback\n",
      "***********************\n",
      "Avoid! Bought $500 in crypto using the \"instant funding\"(cheaper option fee wise {everything from \"technology\" to debit card transactions}). Payment cleared the bank, went to move crypto off the exchange. Denied. It'll take from the 6th to the 17th for the payment to \"settle\" and I \"just need to wait\". Btw, date of deposit is \"day 0\" of the \"few days\" countdown. Contradictory support and so rude. I'm sure they'll respond professionally here... I'll post screenshots after they do.\n",
      "True value: Transaction Fees/Speed\n",
      "Predicted value: Generic feedback\n",
      "***********************\n",
      "Because they are not listing Pi.\n",
      "True value: Features/Functionality\n",
      "Predicted value: Security\n",
      "***********************\n",
      "good\n",
      "True value: Generic feedback\n",
      "Predicted value: Generic feedback\n",
      "***********************\n",
      "Hi guys, in the name of constantly fine tuning the App, keep creating silly bugs, makes us frustrated with using it. Please test the app for basic functions before releasing a new version. App stability and reliability is important however basic it appears 🙏 BTW, your CS on live chat also seems to have no clue, as what is happening with us, the hapless users! Kaizen - continuous improvement is necessary but not at the expense of screwing up an already working App function! Do you QA b4 release?\n",
      "True value: Reliability/Stability\n",
      "Predicted value: Generic feedback\n",
      "***********************\n",
      "Is so Useless without Listening Pi network\n",
      "True value: Features/Functionality\n",
      "Predicted value: Security\n",
      "***********************\n",
      "I don't understand my binance app it's not connecting to the Internet for some reasons I don't know. To open rewards hub it shows error not only that even some campaigns and some features on binance to make it worth one's time ain't loading.\n",
      "True value: Usability/UI/UX\n",
      "Predicted value: Generic feedback\n",
      "***********************\n",
      "Worked fine for the most part but I find myself locked out of my account due to losing my contact number and now having a different country code. I've tried many times speaking to customer service to fix this and no help received. I've been told to create a new account which is rejected at ID verification stage. It's been 2 years since I've been able to access my crypto and at this point I think it's a lost cause. Wouldn't recommend trusting the platform with more than you can afford to lose.\n",
      "True value: Account Management\n",
      "Predicted value: Generic feedback\n",
      "***********************\n",
      "I used crypto com for past few years. The app worked fine but now, I can't type in the pin code to open the app, probably a bug, but it's extremely inconvenient as it can happen when you want to do a transaction. Now I'm locked out of my account and I can't log in. Edit: I had an app allowed to run over other apps and probably was detected by crypto com and I couldn't type the pin because of security protection. It is actually a smart way to protect customers but advise them why it's happening\n",
      "True value: Usability/UI/UX\n",
      "Predicted value: Generic feedback\n",
      "***********************\n"
     ]
    }
   ],
   "source": [
    "for row in qa_df.to_dict(orient=\"records\"):\n",
    "    if row[\"predicted_value\"]!= \"generic feedback\":\n",
    "        print(row[\"text\"])\n",
    "        print(\"True value:\",row[\"true_value\"])\n",
    "        print(\"Predicted value:\", row[\"predicted_value\"])\n",
    "        print(\"***********************\")"
   ]
  },
  {
   "cell_type": "code",
   "execution_count": null,
   "id": "d05315b1-3d54-4652-92f4-fce7958ceda5",
   "metadata": {},
   "outputs": [],
   "source": []
  }
 ],
 "metadata": {
  "kernelspec": {
   "display_name": "uol_project",
   "language": "python",
   "name": "uol_project"
  },
  "language_info": {
   "codemirror_mode": {
    "name": "ipython",
    "version": 3
   },
   "file_extension": ".py",
   "mimetype": "text/x-python",
   "name": "python",
   "nbconvert_exporter": "python",
   "pygments_lexer": "ipython3",
   "version": "3.12.8"
  }
 },
 "nbformat": 4,
 "nbformat_minor": 5
}
