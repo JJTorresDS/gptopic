{
 "cells": [
  {
   "cell_type": "code",
   "execution_count": 88,
   "id": "46ebe7d8-cb44-44b7-98a8-7d76eda3713d",
   "metadata": {},
   "outputs": [],
   "source": [
    "from utils.utils import get_google_play_reviews\n",
    "import numpy as np\n",
    "import pandas as pd\n",
    "\n",
    "\n",
    "from dotenv import load_dotenv\n",
    "import os\n",
    "\n",
    "import google.generativeai as genai\n",
    "\n",
    "\n",
    "import yaml\n",
    "from utils import utils\n",
    "\n",
    "import time"
   ]
  },
  {
   "cell_type": "code",
   "execution_count": 89,
   "id": "1ebff3a9-d63c-4295-85a5-a3ffa28b3802",
   "metadata": {},
   "outputs": [
    {
     "data": {
      "text/plain": [
       "True"
      ]
     },
     "execution_count": 89,
     "metadata": {},
     "output_type": "execute_result"
    }
   ],
   "source": [
    "load_dotenv()"
   ]
  },
  {
   "cell_type": "markdown",
   "id": "50b0caf8-d192-4890-9d57-085073ccdb1d",
   "metadata": {},
   "source": [
    "**IMPORTANT**: you need to create a Google Gemini API key and save it in \".env\" file located in the root directory."
   ]
  },
  {
   "cell_type": "code",
   "execution_count": 90,
   "id": "1b1fb176-cfe2-4127-a8ff-06983d9a54ae",
   "metadata": {},
   "outputs": [],
   "source": [
    "GEMINI_API_KEY=os.getenv(\"GEMINI_NEW\")"
   ]
  },
  {
   "cell_type": "markdown",
   "id": "f004fd64-9f94-4ea7-97f4-d81493b3f181",
   "metadata": {},
   "source": [
    "## Ingest reviews from Google Playstore"
   ]
  },
  {
   "cell_type": "code",
   "execution_count": 91,
   "id": "44a58500-ab53-4b03-882e-2980a73ad4af",
   "metadata": {},
   "outputs": [],
   "source": [
    "apps = ['com.binance.dev', 'co.mona.android', 'com.bybit.app']\n",
    "crypto_com = apps[1]\n",
    "bybit = apps[2]"
   ]
  },
  {
   "cell_type": "code",
   "execution_count": 92,
   "id": "9b77c378-895b-4699-b527-f995391dc53d",
   "metadata": {},
   "outputs": [],
   "source": [
    "n_samples=60\n",
    "res, token = get_google_play_reviews(crypto_com, count=n_samples)\n",
    "re2, token = get_google_play_reviews(bybit, count=n_samples)"
   ]
  },
  {
   "cell_type": "code",
   "execution_count": 93,
   "id": "f9645f55-dd09-4c37-8d1e-e3d20f5cd7a7",
   "metadata": {},
   "outputs": [],
   "source": [
    "df = pd.DataFrame(res)"
   ]
  },
  {
   "cell_type": "markdown",
   "id": "8839fc45-a8a8-4e18-9625-80b90b7d3098",
   "metadata": {},
   "source": [
    "## Generate List of Topics"
   ]
  },
  {
   "cell_type": "code",
   "execution_count": 94,
   "id": "17f7c3ea-3afa-432f-aaef-841e74aa3584",
   "metadata": {},
   "outputs": [],
   "source": [
    "with open(\"prompts/prompts.yaml\") as file:\n",
    "    try:\n",
    "        prompts = yaml.safe_load(file)\n",
    "    except yaml.YAMLError as exc:\n",
    "        print(exc)"
   ]
  },
  {
   "cell_type": "code",
   "execution_count": 95,
   "id": "782d9fed-5ea9-4520-bf1e-004ec7b59f41",
   "metadata": {},
   "outputs": [],
   "source": [
    "prompt = prompts[\"prompt_v9a\"].format(industry=\"Crypto\")"
   ]
  },
  {
   "cell_type": "code",
   "execution_count": 96,
   "id": "ff10732b-a4b8-4c85-90e3-216b1184a775",
   "metadata": {},
   "outputs": [
    {
     "name": "stdout",
     "output_type": "stream",
     "text": [
      "You are an expert Customer Success Manager working int the Crypto industry. Can you list the most common categories that could exist for a mobile app within this industry?Group similar categories into one, i.e: Customer Support and Customer Services should be grouped under Customer Support.Provide your answer as a list, eg: [category1, category2,..]\n"
     ]
    }
   ],
   "source": [
    "print(prompt)"
   ]
  },
  {
   "cell_type": "code",
   "execution_count": 97,
   "id": "9f61c57d-7a7d-4677-8b5f-1a06d68bfb19",
   "metadata": {},
   "outputs": [],
   "source": [
    "res = utils.gemini_query(prompt, gemini_key = GEMINI_API_KEY)"
   ]
  },
  {
   "cell_type": "code",
   "execution_count": 98,
   "id": "87812670-49fa-41b3-97b2-a351b7611803",
   "metadata": {},
   "outputs": [],
   "source": [
    "category_list = res.strip(\"[|]\").split(\",\")"
   ]
  },
  {
   "cell_type": "code",
   "execution_count": 99,
   "id": "72bbca93-bf2a-4ecf-bb66-367071da8aee",
   "metadata": {
    "scrolled": true
   },
   "outputs": [
    {
     "data": {
      "text/plain": [
       "['Trading & Investing',\n",
       " ' Wallet & Custody',\n",
       " ' DeFi & Lending',\n",
       " ' NFTs & Collectibles',\n",
       " '  Analytics & Research',\n",
       " '  News & Information',\n",
       " '  Security & Compliance',\n",
       " '  Education & Onboarding',\n",
       " '  Community & Social',\n",
       " ' Customer Support',\n",
       " ' Regulatory Compliance Tools']"
      ]
     },
     "execution_count": 99,
     "metadata": {},
     "output_type": "execute_result"
    }
   ],
   "source": [
    "category_list"
   ]
  },
  {
   "cell_type": "code",
   "execution_count": 111,
   "id": "dfe74410-8b48-4667-a254-323211d6c604",
   "metadata": {},
   "outputs": [],
   "source": [
    "with open(\"data/1.crypto_category.txt\", \"r\") as f:\n",
    "    category_list = f.readlines()"
   ]
  },
  {
   "cell_type": "code",
   "execution_count": 118,
   "id": "251f6949-c12a-408c-9977-a2951f70b973",
   "metadata": {},
   "outputs": [],
   "source": [
    "category_list = [cat.strip() for cat in category_list[0].split(\",\")]"
   ]
  },
  {
   "cell_type": "code",
   "execution_count": 119,
   "id": "d9792563-5543-43b9-8ea5-4ea0fd8be66c",
   "metadata": {
    "scrolled": true
   },
   "outputs": [
    {
     "data": {
      "text/plain": [
       "['Security',\n",
       " 'Usability/UI/UX',\n",
       " 'Transaction Fees/Speed',\n",
       " 'Customer Support',\n",
       " 'Features/Functionality',\n",
       " 'Account Management',\n",
       " 'Educational Resources/Onboarding',\n",
       " 'Wallet Security/Integration',\n",
       " 'Privacy',\n",
       " 'Reliability/Stability',\n",
       " 'Customer Service',\n",
       " 'Verification/KYC/AML Processes']"
      ]
     },
     "execution_count": 119,
     "metadata": {},
     "output_type": "execute_result"
    }
   ],
   "source": [
    "category_list"
   ]
  },
  {
   "cell_type": "markdown",
   "id": "bdb8c10f-5e0d-4cd8-9a4e-34e3fd917fdc",
   "metadata": {},
   "source": [
    "## Tag reviews"
   ]
  },
  {
   "cell_type": "markdown",
   "id": "93615620-019a-4e96-8cc6-91d8c06de0e2",
   "metadata": {},
   "source": [
    "**Note**: there is a **debug** variable that is currently set up to **True**. This will make the code tag a sample of 20 reviews. If you want to run this against the total reviews, change the vairable to **False**."
   ]
  },
  {
   "cell_type": "code",
   "execution_count": 120,
   "id": "60c1e636-8c70-48d8-863b-479a200a4ab0",
   "metadata": {},
   "outputs": [],
   "source": [
    "test_category = category_list\n",
    "perc = df.shape[0]//10\n",
    "topics_gemini = []"
   ]
  },
  {
   "cell_type": "code",
   "execution_count": 121,
   "id": "b36659e3-b44d-4ebb-828a-8d3f2f716673",
   "metadata": {},
   "outputs": [
    {
     "name": "stdout",
     "output_type": "stream",
     "text": [
      "0 out of 30 done.\n",
      "6 out of 30 done.\n",
      "12 out of 30 done.\n",
      "Gemini Failed to respond. Sleeping...\n",
      "Entering recursive step. 1\n",
      "18 out of 30 done.\n",
      "24 out of 30 done.\n",
      "30 out of 30 done.\n",
      "Gemini Failed to respond. Sleeping...\n",
      "Entering recursive step. 1\n",
      "36 out of 30 done.\n",
      "42 out of 30 done.\n",
      "48 out of 30 done.\n",
      "Gemini Failed to respond. Sleeping...\n",
      "Entering recursive step. 1\n",
      "Gemini Failed to respond. Sleeping...\n",
      "Entering recursive step. 1\n",
      "54 out of 30 done.\n",
      "59 reviews were processed in 2.60248996814092 minutes\n"
     ]
    }
   ],
   "source": [
    "debug=True\n",
    "start_time = time.time()\n",
    "for i, review in enumerate(df.content):\n",
    "    prompt2 = prompts[\"prompt_v9b\"].format(industry=\"Crypto\", \n",
    "                                                 categories=category_list,\n",
    "                                                input_text = review )\n",
    "    topic = utils.gemini_query(prompt2, gemini_key = GEMINI_API_KEY, debug=debug)\n",
    "    topics_gemini.append(topic)\n",
    "    if i%perc == 0:\n",
    "        print(f\"{i} out of {len(reviews)} done.\")\n",
    "    \n",
    "\n",
    "end_time = time.time()\n",
    "print(f\"{i} reviews were processed in {(end_time-start_time)/60} minutes\")"
   ]
  },
  {
   "cell_type": "code",
   "execution_count": 125,
   "id": "13d55468-e1e2-4f90-bb7b-96d3cb2ac505",
   "metadata": {},
   "outputs": [],
   "source": [
    "df[\"gemini_llm_topic\"] = topics_gemini"
   ]
  },
  {
   "cell_type": "code",
   "execution_count": 126,
   "id": "c210d710-5d69-4871-b2ba-e9cb7c13d583",
   "metadata": {},
   "outputs": [],
   "source": [
    "df_o = df.tail(30)\n",
    "df_n = df.head(30)"
   ]
  },
  {
   "cell_type": "markdown",
   "id": "63f48c5d-52d2-486c-afa6-dfe89bfa8210",
   "metadata": {},
   "source": [
    "Lets look at a few reviews."
   ]
  },
  {
   "cell_type": "code",
   "execution_count": 127,
   "id": "eecbfec4-6b28-49cf-80d5-8cd2014a3d37",
   "metadata": {},
   "outputs": [
    {
     "name": "stdout",
     "output_type": "stream",
     "text": [
      "App:  co.mona.android  Tagged Topic:  Generic feedback\n",
      "Review Text:\n",
      "\n",
      "the bugs seemed to have been fixed but pls make it possible to access customer service within the app\n",
      "***************************\n",
      "\n",
      "App:  co.mona.android  Tagged Topic:  Usability/UI/UX\n",
      "Review Text:\n",
      "\n",
      "can't unlock app\n",
      "***************************\n",
      "\n",
      "App:  co.mona.android  Tagged Topic:  Usability/UI/UX\n",
      "Review Text:\n",
      "\n",
      "selling people Info\n",
      "***************************\n",
      "\n",
      "App:  co.mona.android  Tagged Topic:  Generic feedback\n",
      "Review Text:\n",
      "\n",
      "Wild&crasy\n",
      "***************************\n",
      "\n",
      "App:  co.mona.android  Tagged Topic:  Features/Functionality\n",
      "Review Text:\n",
      "\n",
      "great app. easy to use for a beginner.\n",
      "***************************\n",
      "\n",
      "App:  co.mona.android  Tagged Topic:  Customer Support\n",
      "Review Text:\n",
      "\n",
      "I purchased a brand new crypto coin today, Walrus (WAL) but I'm not able to find a lot of crypto coins here for some reason unfortunately even though they are popular or brand new, newly released crypto coins.\n",
      "***************************\n",
      "\n",
      "App:  co.mona.android  Tagged Topic:  Verification/KYC/AML Processes\n",
      "Review Text:\n",
      "\n",
      "Terrible app. There is little to no support and if you do not know what you are doing you will transfer funds wrong and lose money.\n",
      "***************************\n",
      "\n",
      "App:  co.mona.android  Tagged Topic:  Transaction Fees/Speed\n",
      "Review Text:\n",
      "\n",
      "this app is not working in india. when I open this app it doesn't show our balance only shows loading. Fix this issue as soon as possible.\n",
      "***************************\n",
      "\n",
      "App:  co.mona.android  Tagged Topic:  Generic feedback\n",
      "Review Text:\n",
      "\n",
      "I like this app as they offer earnings, leverage, and now StrikeOptions. However, for me, it has a larger learning curve than another exchange platform. Another dislike is that it doesn't show the overall gain/loss since buying crypto.\n",
      "***************************\n",
      "\n",
      "App:  co.mona.android  Tagged Topic:  Generic feedback\n",
      "Review Text:\n",
      "\n",
      "The app works fine BUT they take SO much $ when you sell your coins I actually get LESS than I paid for them originally despite making high % profit on some. I put 1k in to feel them out 1st.$800 gone. Just tried to sell some of my LION which should have been about $40.00+ profit but they showing my \"sell\" price BELOW what I 1st paid for it. WHERE'S MY MONEY YOU ALL TAKE TOO MUCH leaving me in red 100% of the time despite being up in the green enough. 50% fee?? 40.. 30.. random.. I'm out.\n",
      "***************************\n",
      "\n"
     ]
    }
   ],
   "source": [
    "for row in range(df.head(10).shape[0]):\n",
    "        print(\"App: \", crypto_com, \" Tagged Topic: \", df.iloc[row][\"gemini_llm_topic\"])\n",
    "        print(\"Review Text:\")\n",
    "        print()\n",
    "        print(df_c.iloc[row][\"content\"])\n",
    "        print(\"***************************\")\n",
    "        print()"
   ]
  },
  {
   "cell_type": "markdown",
   "id": "c7be7726-1672-4264-9dc8-9040bd7a46dc",
   "metadata": {},
   "source": [
    "## Train a neural net"
   ]
  },
  {
   "cell_type": "code",
   "execution_count": 128,
   "id": "edc37945-7476-42e0-b4c5-f40feee36f8f",
   "metadata": {},
   "outputs": [],
   "source": [
    "from utils.utils import TopicNeuralNet"
   ]
  },
  {
   "cell_type": "code",
   "execution_count": 130,
   "id": "b5e13522-5e90-407e-8d81-7e9e1b5a95a0",
   "metadata": {},
   "outputs": [],
   "source": [
    "testmodel = TopicNeuralNet(df_o.content, df_o.gemini_llm_topic)"
   ]
  },
  {
   "cell_type": "markdown",
   "id": "d292df61-b8d4-4b2d-a9a3-6007f5a04bea",
   "metadata": {},
   "source": [
    "### With no preprocessing and no bootstraping"
   ]
  },
  {
   "cell_type": "code",
   "execution_count": 131,
   "id": "cb90e8c5-7b11-44cc-86d4-446cf3394b2f",
   "metadata": {},
   "outputs": [
    {
     "name": "stdout",
     "output_type": "stream",
     "text": [
      "Bootstrapping by a factor of 1\n",
      "Normalizing text\n",
      "Fitting text tokenizer\n",
      "Fitting label tokenizer\n",
      "Tokenizing text\n",
      "Tokenizing labels\n",
      "Passing text sequences\n",
      "Setting model architecture\n",
      "Compiled model\n",
      "Epoch 1/20\n",
      "\u001b[1m1/1\u001b[0m \u001b[32m━━━━━━━━━━━━━━━━━━━━\u001b[0m\u001b[37m\u001b[0m \u001b[1m3s\u001b[0m 3s/step - accuracy: 0.0000e+00 - loss: 2.3024 - val_accuracy: 0.1538 - val_loss: 2.2996\n",
      "Epoch 2/20\n",
      "\u001b[1m1/1\u001b[0m \u001b[32m━━━━━━━━━━━━━━━━━━━━\u001b[0m\u001b[37m\u001b[0m \u001b[1m0s\u001b[0m 71ms/step - accuracy: 0.7500 - loss: 2.2648 - val_accuracy: 0.1538 - val_loss: 2.2922\n",
      "Epoch 3/20\n",
      "\u001b[1m1/1\u001b[0m \u001b[32m━━━━━━━━━━━━━━━━━━━━\u001b[0m\u001b[37m\u001b[0m \u001b[1m0s\u001b[0m 59ms/step - accuracy: 0.5000 - loss: 2.2516 - val_accuracy: 0.1154 - val_loss: 2.2853\n",
      "Epoch 4/20\n",
      "\u001b[1m1/1\u001b[0m \u001b[32m━━━━━━━━━━━━━━━━━━━━\u001b[0m\u001b[37m\u001b[0m \u001b[1m0s\u001b[0m 60ms/step - accuracy: 0.5000 - loss: 2.1959 - val_accuracy: 0.1154 - val_loss: 2.2780\n",
      "Epoch 5/20\n",
      "\u001b[1m1/1\u001b[0m \u001b[32m━━━━━━━━━━━━━━━━━━━━\u001b[0m\u001b[37m\u001b[0m \u001b[1m0s\u001b[0m 52ms/step - accuracy: 0.5000 - loss: 2.1275 - val_accuracy: 0.1154 - val_loss: 2.2668\n",
      "Epoch 6/20\n",
      "\u001b[1m1/1\u001b[0m \u001b[32m━━━━━━━━━━━━━━━━━━━━\u001b[0m\u001b[37m\u001b[0m \u001b[1m0s\u001b[0m 57ms/step - accuracy: 0.5000 - loss: 2.0893 - val_accuracy: 0.1154 - val_loss: 2.2566\n",
      "Epoch 7/20\n",
      "\u001b[1m1/1\u001b[0m \u001b[32m━━━━━━━━━━━━━━━━━━━━\u001b[0m\u001b[37m\u001b[0m \u001b[1m0s\u001b[0m 57ms/step - accuracy: 0.5000 - loss: 1.9116 - val_accuracy: 0.1154 - val_loss: 2.2493\n",
      "Epoch 8/20\n",
      "\u001b[1m1/1\u001b[0m \u001b[32m━━━━━━━━━━━━━━━━━━━━\u001b[0m\u001b[37m\u001b[0m \u001b[1m0s\u001b[0m 53ms/step - accuracy: 0.7500 - loss: 1.9913 - val_accuracy: 0.1154 - val_loss: 2.2464\n",
      "Epoch 9/20\n",
      "\u001b[1m1/1\u001b[0m \u001b[32m━━━━━━━━━━━━━━━━━━━━\u001b[0m\u001b[37m\u001b[0m \u001b[1m0s\u001b[0m 60ms/step - accuracy: 0.5000 - loss: 1.8708 - val_accuracy: 0.1154 - val_loss: 2.2501\n",
      "Epoch 10/20\n",
      "\u001b[1m1/1\u001b[0m \u001b[32m━━━━━━━━━━━━━━━━━━━━\u001b[0m\u001b[37m\u001b[0m \u001b[1m0s\u001b[0m 60ms/step - accuracy: 0.5000 - loss: 1.9682 - val_accuracy: 0.1154 - val_loss: 2.2601\n",
      "Epoch 11/20\n",
      "\u001b[1m1/1\u001b[0m \u001b[32m━━━━━━━━━━━━━━━━━━━━\u001b[0m\u001b[37m\u001b[0m \u001b[1m0s\u001b[0m 59ms/step - accuracy: 0.5000 - loss: 1.6946 - val_accuracy: 0.1154 - val_loss: 2.2767\n",
      "Epoch 11: early stopping\n",
      "Elapsed time:  0.07 minutes.\n"
     ]
    }
   ],
   "source": [
    "start = time.time()\n",
    "testmodel.fit(bootstrapping=False, preprocess=False, epochs=20, factor=100)\n",
    "end = time.time()\n",
    "print(\"Elapsed time: \", np.round((end-start)/60,2),\"minutes.\")"
   ]
  },
  {
   "cell_type": "code",
   "execution_count": 132,
   "id": "c15f3bb2-3f05-4b51-a666-b197fc430f02",
   "metadata": {},
   "outputs": [
    {
     "name": "stdout",
     "output_type": "stream",
     "text": [
      "Normalizing text\n",
      "Tokenizing text\n",
      "Passing text sequences\n",
      "\u001b[1m1/1\u001b[0m \u001b[32m━━━━━━━━━━━━━━━━━━━━\u001b[0m\u001b[37m\u001b[0m \u001b[1m0s\u001b[0m 178ms/step\n",
      "Normalizing text\n",
      "Tokenizing text\n",
      "Passing text sequences\n",
      "\u001b[1m1/1\u001b[0m \u001b[32m━━━━━━━━━━━━━━━━━━━━\u001b[0m\u001b[37m\u001b[0m \u001b[1m0s\u001b[0m 19ms/step\n"
     ]
    }
   ],
   "source": [
    "y_hat_old = testmodel.predict(df_o.content)\n",
    "y_hat_new = testmodel.predict(df_o.content)"
   ]
  },
  {
   "cell_type": "markdown",
   "id": "2c60c13d-0776-44b1-bd02-beab63af3339",
   "metadata": {},
   "source": [
    "### With preprocessing and no bootstraping"
   ]
  },
  {
   "cell_type": "code",
   "execution_count": 133,
   "id": "e5cafa15-56a1-42b4-8951-7545d4465b69",
   "metadata": {},
   "outputs": [
    {
     "name": "stdout",
     "output_type": "stream",
     "text": [
      "Bootstrapping by a factor of 1\n",
      "Normalizing text\n",
      "Fitting text tokenizer\n",
      "Fitting label tokenizer\n",
      "Tokenizing text\n",
      "Tokenizing labels\n",
      "Passing text sequences\n",
      "Setting model architecture\n",
      "Compiled model\n",
      "Epoch 1/20\n",
      "\u001b[1m1/1\u001b[0m \u001b[32m━━━━━━━━━━━━━━━━━━━━\u001b[0m\u001b[37m\u001b[0m \u001b[1m3s\u001b[0m 3s/step - accuracy: 0.0000e+00 - loss: 2.3044 - val_accuracy: 0.1923 - val_loss: 2.3020\n",
      "Epoch 2/20\n",
      "\u001b[1m1/1\u001b[0m \u001b[32m━━━━━━━━━━━━━━━━━━━━\u001b[0m\u001b[37m\u001b[0m \u001b[1m0s\u001b[0m 57ms/step - accuracy: 0.0000e+00 - loss: 2.3004 - val_accuracy: 0.0769 - val_loss: 2.3032\n",
      "Epoch 3/20\n",
      "\u001b[1m1/1\u001b[0m \u001b[32m━━━━━━━━━━━━━━━━━━━━\u001b[0m\u001b[37m\u001b[0m \u001b[1m0s\u001b[0m 58ms/step - accuracy: 0.2500 - loss: 2.2878 - val_accuracy: 0.1538 - val_loss: 2.3053\n",
      "Epoch 4/20\n",
      "\u001b[1m1/1\u001b[0m \u001b[32m━━━━━━━━━━━━━━━━━━━━\u001b[0m\u001b[37m\u001b[0m \u001b[1m0s\u001b[0m 76ms/step - accuracy: 0.2500 - loss: 2.2823 - val_accuracy: 0.1538 - val_loss: 2.3082\n",
      "Epoch 4: early stopping\n",
      "Elapsed time:  0.06 minutes.\n"
     ]
    }
   ],
   "source": [
    "start = time.time()\n",
    "testmodel.fit(bootstrapping=False, preprocess=True, epochs=20, factor=100)\n",
    "end = time.time()\n",
    "print(\"Elapsed time: \", np.round((end-start)/60,2),\"minutes.\")"
   ]
  },
  {
   "cell_type": "code",
   "execution_count": 134,
   "id": "342af555-336d-4162-a109-e25391ae4d0d",
   "metadata": {},
   "outputs": [
    {
     "name": "stdout",
     "output_type": "stream",
     "text": [
      "Normalizing text\n",
      "Tokenizing text\n",
      "Passing text sequences\n",
      "\u001b[1m1/1\u001b[0m \u001b[32m━━━━━━━━━━━━━━━━━━━━\u001b[0m\u001b[37m\u001b[0m \u001b[1m0s\u001b[0m 181ms/step\n",
      "Normalizing text\n",
      "Tokenizing text\n",
      "Passing text sequences\n",
      "\u001b[1m1/1\u001b[0m \u001b[32m━━━━━━━━━━━━━━━━━━━━\u001b[0m\u001b[37m\u001b[0m \u001b[1m0s\u001b[0m 20ms/step\n"
     ]
    }
   ],
   "source": [
    "y_hat_old = testmodel.predict(df_o.content)\n",
    "y_hat_new = testmodel.predict(df_o.content)"
   ]
  },
  {
   "cell_type": "markdown",
   "id": "f4d16080-9c29-42ef-b7ac-7c1229115b41",
   "metadata": {},
   "source": [
    "### With preprocessing and bootstraping"
   ]
  },
  {
   "cell_type": "code",
   "execution_count": 135,
   "id": "3ddce76b-e763-44b8-8c13-adc58c510e78",
   "metadata": {},
   "outputs": [
    {
     "name": "stdout",
     "output_type": "stream",
     "text": [
      "Bootstrapping by a factor of 100\n",
      "Normalizing text\n",
      "Fitting text tokenizer\n",
      "Fitting label tokenizer\n",
      "Tokenizing text\n",
      "Tokenizing labels\n",
      "Passing text sequences\n",
      "Setting model architecture\n",
      "Compiled model\n",
      "Epoch 1/20\n",
      "\u001b[1m1/1\u001b[0m \u001b[32m━━━━━━━━━━━━━━━━━━━━\u001b[0m\u001b[37m\u001b[0m \u001b[1m0s\u001b[0m 2s/step - accuracy: 0.1000 - loss: 2.3024WARNING:tensorflow:5 out of the last 31 calls to <function TensorFlowTrainer._make_function.<locals>.multi_step_on_iterator at 0x31f44ccc0> triggered tf.function retracing. Tracing is expensive and the excessive number of tracings could be due to (1) creating @tf.function repeatedly in a loop, (2) passing tensors with different shapes, (3) passing Python objects instead of tensors. For (1), please define your @tf.function outside of the loop. For (2), @tf.function has reduce_retracing=True option that can avoid unnecessary retracing. For (3), please refer to https://www.tensorflow.org/guide/function#controlling_retracing and https://www.tensorflow.org/api_docs/python/tf/function for  more details.\n",
      "\u001b[1m1/1\u001b[0m \u001b[32m━━━━━━━━━━━━━━━━━━━━\u001b[0m\u001b[37m\u001b[0m \u001b[1m3s\u001b[0m 3s/step - accuracy: 0.1000 - loss: 2.3024 - val_accuracy: 0.3090 - val_loss: 2.2785\n",
      "Epoch 2/20\n",
      "\u001b[1m1/1\u001b[0m \u001b[32m━━━━━━━━━━━━━━━━━━━━\u001b[0m\u001b[37m\u001b[0m \u001b[1m0s\u001b[0m 467ms/step - accuracy: 0.2667 - loss: 2.2778 - val_accuracy: 0.3090 - val_loss: 2.2392\n",
      "Epoch 3/20\n",
      "\u001b[1m1/1\u001b[0m \u001b[32m━━━━━━━━━━━━━━━━━━━━\u001b[0m\u001b[37m\u001b[0m \u001b[1m0s\u001b[0m 490ms/step - accuracy: 0.2867 - loss: 2.2414 - val_accuracy: 0.3055 - val_loss: 2.1961\n",
      "Epoch 4/20\n",
      "\u001b[1m1/1\u001b[0m \u001b[32m━━━━━━━━━━━━━━━━━━━━\u001b[0m\u001b[37m\u001b[0m \u001b[1m0s\u001b[0m 482ms/step - accuracy: 0.3000 - loss: 2.1989 - val_accuracy: 0.3055 - val_loss: 2.1548\n",
      "Epoch 5/20\n",
      "\u001b[1m1/1\u001b[0m \u001b[32m━━━━━━━━━━━━━━━━━━━━\u001b[0m\u001b[37m\u001b[0m \u001b[1m1s\u001b[0m 530ms/step - accuracy: 0.3044 - loss: 2.1677 - val_accuracy: 0.3055 - val_loss: 2.1176\n",
      "Epoch 6/20\n",
      "\u001b[1m1/1\u001b[0m \u001b[32m━━━━━━━━━━━━━━━━━━━━\u001b[0m\u001b[37m\u001b[0m \u001b[1m1s\u001b[0m 530ms/step - accuracy: 0.3044 - loss: 2.1258 - val_accuracy: 0.3373 - val_loss: 2.0855\n",
      "Epoch 7/20\n",
      "\u001b[1m1/1\u001b[0m \u001b[32m━━━━━━━━━━━━━━━━━━━━\u001b[0m\u001b[37m\u001b[0m \u001b[1m1s\u001b[0m 517ms/step - accuracy: 0.3067 - loss: 2.0982 - val_accuracy: 0.2729 - val_loss: 2.0584\n",
      "Epoch 8/20\n",
      "\u001b[1m1/1\u001b[0m \u001b[32m━━━━━━━━━━━━━━━━━━━━\u001b[0m\u001b[37m\u001b[0m \u001b[1m1s\u001b[0m 520ms/step - accuracy: 0.3089 - loss: 2.0745 - val_accuracy: 0.3047 - val_loss: 2.0305\n",
      "Epoch 9/20\n",
      "\u001b[1m1/1\u001b[0m \u001b[32m━━━━━━━━━━━━━━━━━━━━\u001b[0m\u001b[37m\u001b[0m \u001b[1m1s\u001b[0m 512ms/step - accuracy: 0.3111 - loss: 2.0316 - val_accuracy: 0.3047 - val_loss: 1.9968\n",
      "Epoch 10/20\n",
      "\u001b[1m1/1\u001b[0m \u001b[32m━━━━━━━━━━━━━━━━━━━━\u001b[0m\u001b[37m\u001b[0m \u001b[1m1s\u001b[0m 554ms/step - accuracy: 0.3578 - loss: 2.0006 - val_accuracy: 0.3047 - val_loss: 1.9598\n",
      "Epoch 11/20\n",
      "\u001b[1m1/1\u001b[0m \u001b[32m━━━━━━━━━━━━━━━━━━━━\u001b[0m\u001b[37m\u001b[0m \u001b[1m1s\u001b[0m 569ms/step - accuracy: 0.3533 - loss: 1.9603 - val_accuracy: 0.3365 - val_loss: 1.9184\n",
      "Epoch 12/20\n",
      "\u001b[1m1/1\u001b[0m \u001b[32m━━━━━━━━━━━━━━━━━━━━\u001b[0m\u001b[37m\u001b[0m \u001b[1m1s\u001b[0m 544ms/step - accuracy: 0.3756 - loss: 1.9245 - val_accuracy: 0.3686 - val_loss: 1.8670\n",
      "Epoch 13/20\n",
      "\u001b[1m1/1\u001b[0m \u001b[32m━━━━━━━━━━━━━━━━━━━━\u001b[0m\u001b[37m\u001b[0m \u001b[1m1s\u001b[0m 543ms/step - accuracy: 0.3778 - loss: 1.8830 - val_accuracy: 0.4027 - val_loss: 1.8004\n",
      "Epoch 14/20\n",
      "\u001b[1m1/1\u001b[0m \u001b[32m━━━━━━━━━━━━━━━━━━━━\u001b[0m\u001b[37m\u001b[0m \u001b[1m1s\u001b[0m 528ms/step - accuracy: 0.4356 - loss: 1.8292 - val_accuracy: 0.4027 - val_loss: 1.7184\n",
      "Epoch 15/20\n",
      "\u001b[1m1/1\u001b[0m \u001b[32m━━━━━━━━━━━━━━━━━━━━\u001b[0m\u001b[37m\u001b[0m \u001b[1m1s\u001b[0m 527ms/step - accuracy: 0.4022 - loss: 1.7709 - val_accuracy: 0.4369 - val_loss: 1.6378\n",
      "Epoch 16/20\n",
      "\u001b[1m1/1\u001b[0m \u001b[32m━━━━━━━━━━━━━━━━━━━━\u001b[0m\u001b[37m\u001b[0m \u001b[1m1s\u001b[0m 559ms/step - accuracy: 0.4333 - loss: 1.7143 - val_accuracy: 0.4710 - val_loss: 1.5448\n",
      "Epoch 17/20\n",
      "\u001b[1m1/1\u001b[0m \u001b[32m━━━━━━━━━━━━━━━━━━━━\u001b[0m\u001b[37m\u001b[0m \u001b[1m1s\u001b[0m 560ms/step - accuracy: 0.4889 - loss: 1.6244 - val_accuracy: 0.5325 - val_loss: 1.4749\n",
      "Epoch 18/20\n",
      "\u001b[1m1/1\u001b[0m \u001b[32m━━━━━━━━━━━━━━━━━━━━\u001b[0m\u001b[37m\u001b[0m \u001b[1m1s\u001b[0m 559ms/step - accuracy: 0.5356 - loss: 1.5720 - val_accuracy: 0.5306 - val_loss: 1.3789\n",
      "Epoch 19/20\n",
      "\u001b[1m1/1\u001b[0m \u001b[32m━━━━━━━━━━━━━━━━━━━━\u001b[0m\u001b[37m\u001b[0m \u001b[1m1s\u001b[0m 547ms/step - accuracy: 0.5600 - loss: 1.4781 - val_accuracy: 0.5667 - val_loss: 1.3099\n",
      "Epoch 20/20\n",
      "\u001b[1m1/1\u001b[0m \u001b[32m━━━━━━━━━━━━━━━━━━━━\u001b[0m\u001b[37m\u001b[0m \u001b[1m1s\u001b[0m 547ms/step - accuracy: 0.5511 - loss: 1.4229 - val_accuracy: 0.6384 - val_loss: 1.2553\n",
      "Elapsed time:  0.22 minutes.\n"
     ]
    }
   ],
   "source": [
    "start = time.time()\n",
    "testmodel.fit(bootstrapping=True, preprocess=True, epochs=20, factor=100)\n",
    "end = time.time()\n",
    "print(\"Elapsed time: \", np.round((end-start)/60,2),\"minutes.\")"
   ]
  },
  {
   "cell_type": "code",
   "execution_count": 136,
   "id": "78d4575a-be1c-470c-b8e3-f9332ef6fa23",
   "metadata": {},
   "outputs": [
    {
     "name": "stdout",
     "output_type": "stream",
     "text": [
      "Normalizing text\n",
      "Tokenizing text\n",
      "Passing text sequences\n",
      "\u001b[1m1/1\u001b[0m \u001b[32m━━━━━━━━━━━━━━━━━━━━\u001b[0m\u001b[37m\u001b[0m \u001b[1m0s\u001b[0m 167ms/step\n",
      "Normalizing text\n",
      "Tokenizing text\n",
      "Passing text sequences\n",
      "\u001b[1m1/1\u001b[0m \u001b[32m━━━━━━━━━━━━━━━━━━━━\u001b[0m\u001b[37m\u001b[0m \u001b[1m0s\u001b[0m 20ms/step\n"
     ]
    }
   ],
   "source": [
    "y_hat_old = testmodel.predict(df_o.content)\n",
    "y_hat_new = testmodel.predict(df_o.content)"
   ]
  },
  {
   "cell_type": "markdown",
   "id": "a3d25e5f-c206-4b14-9d5a-40b4af08d5fd",
   "metadata": {},
   "source": [
    "## Qualitative Eval"
   ]
  },
  {
   "cell_type": "code",
   "execution_count": 137,
   "id": "0da523e9-049c-4da2-932b-7f38df4349a4",
   "metadata": {},
   "outputs": [
    {
     "name": "stdout",
     "output_type": "stream",
     "text": [
      "Normalizing text\n",
      "Tokenizing text\n",
      "Passing text sequences\n",
      "\u001b[1m1/1\u001b[0m \u001b[32m━━━━━━━━━━━━━━━━━━━━\u001b[0m\u001b[37m\u001b[0m \u001b[1m0s\u001b[0m 196ms/step\n"
     ]
    },
    {
     "data": {
      "text/html": [
       "<div>\n",
       "<style scoped>\n",
       "    .dataframe tbody tr th:only-of-type {\n",
       "        vertical-align: middle;\n",
       "    }\n",
       "\n",
       "    .dataframe tbody tr th {\n",
       "        vertical-align: top;\n",
       "    }\n",
       "\n",
       "    .dataframe thead th {\n",
       "        text-align: right;\n",
       "    }\n",
       "</style>\n",
       "<table border=\"1\" class=\"dataframe\">\n",
       "  <thead>\n",
       "    <tr style=\"text-align: right;\">\n",
       "      <th></th>\n",
       "      <th>dummy_reviews</th>\n",
       "      <th>dummy_true_labels</th>\n",
       "      <th>predictions</th>\n",
       "    </tr>\n",
       "  </thead>\n",
       "  <tbody>\n",
       "    <tr>\n",
       "      <th>0</th>\n",
       "      <td>Great Customer support!</td>\n",
       "      <td>Customer Support</td>\n",
       "      <td>Generic feedback</td>\n",
       "    </tr>\n",
       "    <tr>\n",
       "      <th>1</th>\n",
       "      <td>Bad customer service!</td>\n",
       "      <td>Customer Support</td>\n",
       "      <td>Generic feedback</td>\n",
       "    </tr>\n",
       "    <tr>\n",
       "      <th>2</th>\n",
       "      <td>Worst Customer support!</td>\n",
       "      <td>Customer Support</td>\n",
       "      <td>Generic feedback</td>\n",
       "    </tr>\n",
       "    <tr>\n",
       "      <th>3</th>\n",
       "      <td>Full of hidden fees</td>\n",
       "      <td>Transaction Fees/Speed</td>\n",
       "      <td>Generic feedback</td>\n",
       "    </tr>\n",
       "    <tr>\n",
       "      <th>4</th>\n",
       "      <td>Loosing a lot of many with the fees</td>\n",
       "      <td>Transaction Fees/Speed</td>\n",
       "      <td>Generic feedback</td>\n",
       "    </tr>\n",
       "    <tr>\n",
       "      <th>5</th>\n",
       "      <td>Other networks charge less per trade</td>\n",
       "      <td>Transaction Fees/Speed</td>\n",
       "      <td>Generic feedback</td>\n",
       "    </tr>\n",
       "    <tr>\n",
       "      <th>6</th>\n",
       "      <td>Too many updates!!</td>\n",
       "      <td>Reliability/Stability</td>\n",
       "      <td>Generic feedback</td>\n",
       "    </tr>\n",
       "    <tr>\n",
       "      <th>7</th>\n",
       "      <td>Cant download app</td>\n",
       "      <td>Reliability/Stability</td>\n",
       "      <td>Usability/UI/UX</td>\n",
       "    </tr>\n",
       "    <tr>\n",
       "      <th>8</th>\n",
       "      <td>App full of scammers</td>\n",
       "      <td>Security</td>\n",
       "      <td>Usability/UI/UX</td>\n",
       "    </tr>\n",
       "    <tr>\n",
       "      <th>9</th>\n",
       "      <td>Danger, lot´s of scammers</td>\n",
       "      <td>Security</td>\n",
       "      <td>Generic feedback</td>\n",
       "    </tr>\n",
       "    <tr>\n",
       "      <th>10</th>\n",
       "      <td>Scams!!</td>\n",
       "      <td>Security</td>\n",
       "      <td>Generic feedback</td>\n",
       "    </tr>\n",
       "    <tr>\n",
       "      <th>11</th>\n",
       "      <td>Very Easy to use</td>\n",
       "      <td>Usability/UI/UX</td>\n",
       "      <td>Generic feedback</td>\n",
       "    </tr>\n",
       "    <tr>\n",
       "      <th>12</th>\n",
       "      <td>Friendly UI</td>\n",
       "      <td>Usability/UI/UX</td>\n",
       "      <td>Generic feedback</td>\n",
       "    </tr>\n",
       "    <tr>\n",
       "      <th>13</th>\n",
       "      <td>Fortunately I had no issues so far, the app is...</td>\n",
       "      <td>Usability/UI/UX</td>\n",
       "      <td>Usability/UI/UX</td>\n",
       "    </tr>\n",
       "    <tr>\n",
       "      <th>14</th>\n",
       "      <td>Nice features</td>\n",
       "      <td>Generic feedback</td>\n",
       "      <td>Generic feedback</td>\n",
       "    </tr>\n",
       "    <tr>\n",
       "      <th>15</th>\n",
       "      <td>Great so far</td>\n",
       "      <td>Generic feedback</td>\n",
       "      <td>Usability/UI/UX</td>\n",
       "    </tr>\n",
       "    <tr>\n",
       "      <th>16</th>\n",
       "      <td>Excellent</td>\n",
       "      <td>Generic feedback</td>\n",
       "      <td>Generic feedback</td>\n",
       "    </tr>\n",
       "    <tr>\n",
       "      <th>17</th>\n",
       "      <td>:)</td>\n",
       "      <td>Generic feedback</td>\n",
       "      <td>Generic feedback</td>\n",
       "    </tr>\n",
       "    <tr>\n",
       "      <th>18</th>\n",
       "      <td>Great app to loose money!</td>\n",
       "      <td>Generic feedback</td>\n",
       "      <td>Usability/UI/UX</td>\n",
       "    </tr>\n",
       "  </tbody>\n",
       "</table>\n",
       "</div>"
      ],
      "text/plain": [
       "                                        dummy_reviews       dummy_true_labels  \\\n",
       "0                             Great Customer support!        Customer Support   \n",
       "1                               Bad customer service!        Customer Support   \n",
       "2                             Worst Customer support!        Customer Support   \n",
       "3                                 Full of hidden fees  Transaction Fees/Speed   \n",
       "4                 Loosing a lot of many with the fees  Transaction Fees/Speed   \n",
       "5                Other networks charge less per trade  Transaction Fees/Speed   \n",
       "6                                  Too many updates!!   Reliability/Stability   \n",
       "7                                   Cant download app   Reliability/Stability   \n",
       "8                                App full of scammers                Security   \n",
       "9                           Danger, lot´s of scammers                Security   \n",
       "10                                            Scams!!                Security   \n",
       "11                                   Very Easy to use         Usability/UI/UX   \n",
       "12                                        Friendly UI         Usability/UI/UX   \n",
       "13  Fortunately I had no issues so far, the app is...         Usability/UI/UX   \n",
       "14                                      Nice features        Generic feedback   \n",
       "15                                       Great so far        Generic feedback   \n",
       "16                                          Excellent        Generic feedback   \n",
       "17                                                 :)        Generic feedback   \n",
       "18                          Great app to loose money!        Generic feedback   \n",
       "\n",
       "         predictions  \n",
       "0   Generic feedback  \n",
       "1   Generic feedback  \n",
       "2   Generic feedback  \n",
       "3   Generic feedback  \n",
       "4   Generic feedback  \n",
       "5   Generic feedback  \n",
       "6   Generic feedback  \n",
       "7    Usability/UI/UX  \n",
       "8    Usability/UI/UX  \n",
       "9   Generic feedback  \n",
       "10  Generic feedback  \n",
       "11  Generic feedback  \n",
       "12  Generic feedback  \n",
       "13   Usability/UI/UX  \n",
       "14  Generic feedback  \n",
       "15   Usability/UI/UX  \n",
       "16  Generic feedback  \n",
       "17  Generic feedback  \n",
       "18   Usability/UI/UX  "
      ]
     },
     "execution_count": 137,
     "metadata": {},
     "output_type": "execute_result"
    }
   ],
   "source": [
    "dummy_reviews = [\n",
    "    \"Great Customer support!\",\"Bad customer service!\", \"Worst Customer support!\",#customer support examples\n",
    "    \"Full of hidden fees\",\"Loosing a lot of many with the fees\", \"Other networks charge less per trade\",# fees\n",
    "     \"Too many updates!!\", \"Cant download app\", #Reliability\n",
    "    \"App full of scammers\",\"Danger, lot´s of scammers\", \"Scams!!\", #security\n",
    "     \"Very Easy to use\", \"Friendly UI\", \"Fortunately I had no issues so far, the app is very intuitive\", #usability\n",
    "     \"Nice features\",\"Great so far\", \"Excellent\", \":)\", #generic feedback\n",
    "     \"Great app to loose money!\"] #sarcasm\n",
    "dummy_true_label = [\n",
    "    \"Customer Support\", \"Customer Support\", \"Customer Support\", \n",
    "    \"Transaction Fees/Speed\",\"Transaction Fees/Speed\",\"Transaction Fees/Speed\",\n",
    "    \"Reliability/Stability\", \"Reliability/Stability\",\n",
    "    \"Security\",\"Security\",\"Security\",\n",
    "    \"Usability/UI/UX\", \"Usability/UI/UX\", \"Usability/UI/UX\",\n",
    "    \"Generic feedback\", \"Generic feedback\", \"Generic feedback\",\"Generic feedback\",\n",
    "    \"Generic feedback\"\n",
    "]\n",
    "    \n",
    "dummy_predictions = testmodel.predict(dummy_reviews)\n",
    "pd.DataFrame({\"dummy_reviews\":dummy_reviews, \"dummy_true_labels\":dummy_true_label,  \"predictions\":dummy_predictions})"
   ]
  },
  {
   "cell_type": "code",
   "execution_count": null,
   "id": "f2d3eb23-6263-44d1-aeef-1c0d16ccfc9d",
   "metadata": {},
   "outputs": [],
   "source": []
  }
 ],
 "metadata": {
  "kernelspec": {
   "display_name": "uol_project",
   "language": "python",
   "name": "uol_project"
  },
  "language_info": {
   "codemirror_mode": {
    "name": "ipython",
    "version": 3
   },
   "file_extension": ".py",
   "mimetype": "text/x-python",
   "name": "python",
   "nbconvert_exporter": "python",
   "pygments_lexer": "ipython3",
   "version": "3.12.8"
  }
 },
 "nbformat": 4,
 "nbformat_minor": 5
}
