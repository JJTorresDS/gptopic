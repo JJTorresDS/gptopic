{
 "cells": [
  {
   "cell_type": "code",
   "execution_count": 156,
   "id": "46ebe7d8-cb44-44b7-98a8-7d76eda3713d",
   "metadata": {},
   "outputs": [],
   "source": [
    "from utils.utils import get_google_play_reviews\n",
    "import numpy as np\n",
    "import pandas as pd\n",
    "\n",
    "\n",
    "from dotenv import load_dotenv\n",
    "import os\n",
    "\n",
    "import google.generativeai as genai\n",
    "\n",
    "\n",
    "import yaml\n",
    "from utils import utils\n",
    "\n",
    "import time"
   ]
  },
  {
   "cell_type": "code",
   "execution_count": 157,
   "id": "1ebff3a9-d63c-4295-85a5-a3ffa28b3802",
   "metadata": {},
   "outputs": [
    {
     "data": {
      "text/plain": [
       "True"
      ]
     },
     "execution_count": 157,
     "metadata": {},
     "output_type": "execute_result"
    }
   ],
   "source": [
    "load_dotenv()"
   ]
  },
  {
   "cell_type": "markdown",
   "id": "50b0caf8-d192-4890-9d57-085073ccdb1d",
   "metadata": {},
   "source": [
    "**IMPORTANT**: you need to create a Google Gemini API key and save it in \".env\" file located in the root directory."
   ]
  },
  {
   "cell_type": "code",
   "execution_count": 158,
   "id": "1b1fb176-cfe2-4127-a8ff-06983d9a54ae",
   "metadata": {},
   "outputs": [],
   "source": [
    "GEMINI_API_KEY=os.getenv(\"GEMINI_NEW\")"
   ]
  },
  {
   "cell_type": "markdown",
   "id": "f004fd64-9f94-4ea7-97f4-d81493b3f181",
   "metadata": {},
   "source": [
    "## Ingest reviews from Google Playstore"
   ]
  },
  {
   "cell_type": "code",
   "execution_count": 159,
   "id": "44a58500-ab53-4b03-882e-2980a73ad4af",
   "metadata": {},
   "outputs": [],
   "source": [
    "apps = ['com.binance.dev', 'co.mona.android', 'com.bybit.app']\n",
    "crypto_com = apps[1]\n",
    "bybit = apps[2]"
   ]
  },
  {
   "cell_type": "code",
   "execution_count": 160,
   "id": "9b77c378-895b-4699-b527-f995391dc53d",
   "metadata": {},
   "outputs": [],
   "source": [
    "n_samples=60\n",
    "res, token = get_google_play_reviews(crypto_com, count=n_samples)\n",
    "re2, token = get_google_play_reviews(bybit, count=n_samples)"
   ]
  },
  {
   "cell_type": "code",
   "execution_count": 161,
   "id": "f9645f55-dd09-4c37-8d1e-e3d20f5cd7a7",
   "metadata": {},
   "outputs": [],
   "source": [
    "df = pd.DataFrame(res)"
   ]
  },
  {
   "cell_type": "markdown",
   "id": "8839fc45-a8a8-4e18-9625-80b90b7d3098",
   "metadata": {},
   "source": [
    "## Generate List of Topics"
   ]
  },
  {
   "cell_type": "code",
   "execution_count": 162,
   "id": "17f7c3ea-3afa-432f-aaef-841e74aa3584",
   "metadata": {},
   "outputs": [],
   "source": [
    "with open(\"prompts/prompts.yaml\") as file:\n",
    "    try:\n",
    "        prompts = yaml.safe_load(file)\n",
    "    except yaml.YAMLError as exc:\n",
    "        print(exc)"
   ]
  },
  {
   "cell_type": "code",
   "execution_count": 163,
   "id": "782d9fed-5ea9-4520-bf1e-004ec7b59f41",
   "metadata": {},
   "outputs": [],
   "source": [
    "prompt = prompts[\"prompt_v9a\"].format(industry=\"Crypto\")"
   ]
  },
  {
   "cell_type": "code",
   "execution_count": 164,
   "id": "ff10732b-a4b8-4c85-90e3-216b1184a775",
   "metadata": {},
   "outputs": [
    {
     "name": "stdout",
     "output_type": "stream",
     "text": [
      "You are an expert Customer Success Manager working int the Crypto industry. Can you list the most common categories that could exist for a mobile app within this industry?Group similar categories into one, i.e: Customer Support and Customer Services should be grouped under Customer Support.Provide your answer as a list, eg: [category1, category2,..]\n"
     ]
    }
   ],
   "source": [
    "print(prompt)"
   ]
  },
  {
   "cell_type": "code",
   "execution_count": 165,
   "id": "9f61c57d-7a7d-4677-8b5f-1a06d68bfb19",
   "metadata": {},
   "outputs": [],
   "source": [
    "res = utils.gemini_query(prompt, gemini_key = GEMINI_API_KEY)"
   ]
  },
  {
   "cell_type": "code",
   "execution_count": 166,
   "id": "87812670-49fa-41b3-97b2-a351b7611803",
   "metadata": {},
   "outputs": [],
   "source": [
    "category_list = res.strip(\"[|]\").split(\",\")"
   ]
  },
  {
   "cell_type": "code",
   "execution_count": 167,
   "id": "72bbca93-bf2a-4ecf-bb66-367071da8aee",
   "metadata": {
    "scrolled": true
   },
   "outputs": [
    {
     "data": {
      "text/plain": [
       "['Wallet Management',\n",
       " ' Trading & Investing',\n",
       " '  DeFi & Yield Farming',\n",
       " ' NFT Management & Marketplace',\n",
       " '  Staking & Governance',\n",
       " '  News & Market Data',\n",
       " ' Security & Compliance Tools',\n",
       " '  Education & Learning',\n",
       " '  Social & Community',\n",
       " '  Customer Support',\n",
       " ' Regulatory Compliance Reporting',\n",
       " ' Analytics & Portfolio Tracking']"
      ]
     },
     "execution_count": 167,
     "metadata": {},
     "output_type": "execute_result"
    }
   ],
   "source": [
    "category_list"
   ]
  },
  {
   "cell_type": "code",
   "execution_count": 168,
   "id": "dfe74410-8b48-4667-a254-323211d6c604",
   "metadata": {},
   "outputs": [],
   "source": [
    "with open(\"data/1.crypto_category.txt\", \"r\") as f:\n",
    "    category_list = f.readlines()"
   ]
  },
  {
   "cell_type": "code",
   "execution_count": 169,
   "id": "251f6949-c12a-408c-9977-a2951f70b973",
   "metadata": {},
   "outputs": [],
   "source": [
    "category_list = [cat.strip() for cat in category_list[0].split(\",\")]"
   ]
  },
  {
   "cell_type": "code",
   "execution_count": 170,
   "id": "d9792563-5543-43b9-8ea5-4ea0fd8be66c",
   "metadata": {
    "scrolled": true
   },
   "outputs": [
    {
     "data": {
      "text/plain": [
       "['Security',\n",
       " 'Usability/UI/UX',\n",
       " 'Transaction Fees/Speed',\n",
       " 'Customer Support',\n",
       " 'Features/Functionality',\n",
       " 'Account Management',\n",
       " 'Educational Resources/Onboarding',\n",
       " 'Wallet Security/Integration',\n",
       " 'Privacy',\n",
       " 'Reliability/Stability',\n",
       " 'Customer Service',\n",
       " 'Verification/KYC/AML Processes']"
      ]
     },
     "execution_count": 170,
     "metadata": {},
     "output_type": "execute_result"
    }
   ],
   "source": [
    "category_list"
   ]
  },
  {
   "cell_type": "markdown",
   "id": "bdb8c10f-5e0d-4cd8-9a4e-34e3fd917fdc",
   "metadata": {},
   "source": [
    "## Tag reviews"
   ]
  },
  {
   "cell_type": "markdown",
   "id": "93615620-019a-4e96-8cc6-91d8c06de0e2",
   "metadata": {},
   "source": [
    "**Note**: there is a **debug** variable that is currently set up to **True**. This will make the code tag a sample of 20 reviews. If you want to run this against the total reviews, change the vairable to **False**."
   ]
  },
  {
   "cell_type": "code",
   "execution_count": 171,
   "id": "60c1e636-8c70-48d8-863b-479a200a4ab0",
   "metadata": {},
   "outputs": [],
   "source": [
    "test_category = category_list\n",
    "perc = df.shape[0]//10\n",
    "topics_gemini = []"
   ]
  },
  {
   "cell_type": "code",
   "execution_count": 172,
   "id": "b36659e3-b44d-4ebb-828a-8d3f2f716673",
   "metadata": {},
   "outputs": [
    {
     "name": "stdout",
     "output_type": "stream",
     "text": [
      "0 out of 30 done.\n",
      "6 out of 30 done.\n",
      "12 out of 30 done.\n",
      "18 out of 30 done.\n",
      "Gemini Failed to respond. Sleeping...\n",
      "Entering recursive step. 1\n",
      "Gemini Failed to respond. Sleeping...\n",
      "Entering recursive step. 1\n",
      "24 out of 30 done.\n",
      "30 out of 30 done.\n",
      "36 out of 30 done.\n",
      "Gemini Failed to respond. Sleeping...\n",
      "Entering recursive step. 1\n",
      "Gemini Failed to respond. Sleeping...\n",
      "Entering recursive step. 1\n",
      "42 out of 30 done.\n",
      "48 out of 30 done.\n",
      "54 out of 30 done.\n",
      "Gemini Failed to respond. Sleeping...\n",
      "Entering recursive step. 1\n",
      "Gemini Failed to respond. Sleeping...\n",
      "Entering recursive step. 1\n",
      "59 reviews were processed in 3.002107620239258 minutes\n"
     ]
    }
   ],
   "source": [
    "debug=True\n",
    "start_time = time.time()\n",
    "for i, review in enumerate(df.content):\n",
    "    prompt2 = prompts[\"prompt_v9b\"].format(industry=\"Crypto\", \n",
    "                                                 categories=category_list,\n",
    "                                                input_text = review )\n",
    "    topic = utils.gemini_query(prompt2, gemini_key = GEMINI_API_KEY, debug=debug)\n",
    "    topics_gemini.append(topic)\n",
    "    if i%perc == 0:\n",
    "        print(f\"{i} out of {len(reviews)} done.\")\n",
    "    \n",
    "\n",
    "end_time = time.time()\n",
    "print(f\"{i} reviews were processed in {(end_time-start_time)/60} minutes\")"
   ]
  },
  {
   "cell_type": "code",
   "execution_count": 173,
   "id": "13d55468-e1e2-4f90-bb7b-96d3cb2ac505",
   "metadata": {},
   "outputs": [],
   "source": [
    "df[\"gemini_llm_topic\"] = topics_gemini"
   ]
  },
  {
   "cell_type": "code",
   "execution_count": 174,
   "id": "c210d710-5d69-4871-b2ba-e9cb7c13d583",
   "metadata": {},
   "outputs": [],
   "source": [
    "df_o = df.tail(30)\n",
    "df_n = df.head(30)"
   ]
  },
  {
   "cell_type": "markdown",
   "id": "63f48c5d-52d2-486c-afa6-dfe89bfa8210",
   "metadata": {},
   "source": [
    "Lets look at a few reviews."
   ]
  },
  {
   "cell_type": "code",
   "execution_count": 175,
   "id": "eecbfec4-6b28-49cf-80d5-8cd2014a3d37",
   "metadata": {},
   "outputs": [
    {
     "name": "stdout",
     "output_type": "stream",
     "text": [
      "App:  co.mona.android  Tagged Topic:  Generic feedback\n",
      "Review Text:\n",
      "\n",
      "the bugs seemed to have been fixed but pls make it possible to access customer service within the app\n",
      "***************************\n",
      "\n",
      "App:  co.mona.android  Tagged Topic:  Usability/UI/UX\n",
      "Review Text:\n",
      "\n",
      "can't unlock app\n",
      "***************************\n",
      "\n",
      "App:  co.mona.android  Tagged Topic:  Usability/UI/UX\n",
      "Review Text:\n",
      "\n",
      "selling people Info\n",
      "***************************\n",
      "\n",
      "App:  co.mona.android  Tagged Topic:  Generic feedback\n",
      "Review Text:\n",
      "\n",
      "Wild&crasy\n",
      "***************************\n",
      "\n",
      "App:  co.mona.android  Tagged Topic:  Features/Functionality\n",
      "Review Text:\n",
      "\n",
      "great app. easy to use for a beginner.\n",
      "***************************\n",
      "\n",
      "App:  co.mona.android  Tagged Topic:  Account Management\n",
      "Review Text:\n",
      "\n",
      "I purchased a brand new crypto coin today, Walrus (WAL) but I'm not able to find a lot of crypto coins here for some reason unfortunately even though they are popular or brand new, newly released crypto coins.\n",
      "***************************\n",
      "\n",
      "App:  co.mona.android  Tagged Topic:  Verification/KYC/AML Processes\n",
      "Review Text:\n",
      "\n",
      "Terrible app. There is little to no support and if you do not know what you are doing you will transfer funds wrong and lose money.\n",
      "***************************\n",
      "\n",
      "App:  co.mona.android  Tagged Topic:  Transaction Fees/Speed\n",
      "Review Text:\n",
      "\n",
      "this app is not working in india. when I open this app it doesn't show our balance only shows loading. Fix this issue as soon as possible.\n",
      "***************************\n",
      "\n",
      "App:  co.mona.android  Tagged Topic:  Generic feedback\n",
      "Review Text:\n",
      "\n",
      "I like this app as they offer earnings, leverage, and now StrikeOptions. However, for me, it has a larger learning curve than another exchange platform. Another dislike is that it doesn't show the overall gain/loss since buying crypto.\n",
      "***************************\n",
      "\n",
      "App:  co.mona.android  Tagged Topic:  Generic feedback\n",
      "Review Text:\n",
      "\n",
      "The app works fine BUT they take SO much $ when you sell your coins I actually get LESS than I paid for them originally despite making high % profit on some. I put 1k in to feel them out 1st.$800 gone. Just tried to sell some of my LION which should have been about $40.00+ profit but they showing my \"sell\" price BELOW what I 1st paid for it. WHERE'S MY MONEY YOU ALL TAKE TOO MUCH leaving me in red 100% of the time despite being up in the green enough. 50% fee?? 40.. 30.. random.. I'm out.\n",
      "***************************\n",
      "\n"
     ]
    }
   ],
   "source": [
    "for row in range(df.head(10).shape[0]):\n",
    "        print(\"App: \", crypto_com, \" Tagged Topic: \", df.iloc[row][\"gemini_llm_topic\"])\n",
    "        print(\"Review Text:\")\n",
    "        print()\n",
    "        print(df_c.iloc[row][\"content\"])\n",
    "        print(\"***************************\")\n",
    "        print()"
   ]
  },
  {
   "cell_type": "markdown",
   "id": "c7be7726-1672-4264-9dc8-9040bd7a46dc",
   "metadata": {},
   "source": [
    "## Train a neural net"
   ]
  },
  {
   "cell_type": "code",
   "execution_count": 176,
   "id": "edc37945-7476-42e0-b4c5-f40feee36f8f",
   "metadata": {},
   "outputs": [],
   "source": [
    "from utils.utils import TopicNeuralNet"
   ]
  },
  {
   "cell_type": "code",
   "execution_count": 177,
   "id": "b5e13522-5e90-407e-8d81-7e9e1b5a95a0",
   "metadata": {},
   "outputs": [],
   "source": [
    "testmodel = TopicNeuralNet(df_o.content, df_o.gemini_llm_topic)"
   ]
  },
  {
   "cell_type": "markdown",
   "id": "d292df61-b8d4-4b2d-a9a3-6007f5a04bea",
   "metadata": {},
   "source": [
    "### With no preprocessing and no bootstraping"
   ]
  },
  {
   "cell_type": "code",
   "execution_count": 179,
   "id": "cb90e8c5-7b11-44cc-86d4-446cf3394b2f",
   "metadata": {},
   "outputs": [
    {
     "name": "stdout",
     "output_type": "stream",
     "text": [
      "Bootstrapping by a factor of 1\n",
      "Normalizing text\n",
      "Fitting text tokenizer\n",
      "Fitting label tokenizer\n",
      "Tokenizing text\n",
      "Tokenizing labels\n",
      "Passing text sequences\n",
      "Setting model architecture\n",
      "Compiled model\n",
      "Epoch 1/20\n",
      "\u001b[1m1/1\u001b[0m \u001b[32m━━━━━━━━━━━━━━━━━━━━\u001b[0m\u001b[37m\u001b[0m \u001b[1m4s\u001b[0m 4s/step - accuracy: 0.2500 - loss: 2.1898 - val_accuracy: 0.1154 - val_loss: 2.1960\n",
      "Epoch 2/20\n",
      "\u001b[1m1/1\u001b[0m \u001b[32m━━━━━━━━━━━━━━━━━━━━\u001b[0m\u001b[37m\u001b[0m \u001b[1m0s\u001b[0m 70ms/step - accuracy: 0.2500 - loss: 2.1423 - val_accuracy: 0.1154 - val_loss: 2.1939\n",
      "Epoch 3/20\n",
      "\u001b[1m1/1\u001b[0m \u001b[32m━━━━━━━━━━━━━━━━━━━━\u001b[0m\u001b[37m\u001b[0m \u001b[1m0s\u001b[0m 62ms/step - accuracy: 0.5000 - loss: 2.1537 - val_accuracy: 0.1154 - val_loss: 2.1959\n",
      "Epoch 4/20\n",
      "\u001b[1m1/1\u001b[0m \u001b[32m━━━━━━━━━━━━━━━━━━━━\u001b[0m\u001b[37m\u001b[0m \u001b[1m0s\u001b[0m 60ms/step - accuracy: 0.5000 - loss: 2.0485 - val_accuracy: 0.1154 - val_loss: 2.2002\n",
      "Epoch 5/20\n",
      "\u001b[1m1/1\u001b[0m \u001b[32m━━━━━━━━━━━━━━━━━━━━\u001b[0m\u001b[37m\u001b[0m \u001b[1m0s\u001b[0m 58ms/step - accuracy: 0.5000 - loss: 1.9483 - val_accuracy: 0.1154 - val_loss: 2.2071\n",
      "Epoch 5: early stopping\n",
      "Elapsed time:  0.07 minutes.\n"
     ]
    }
   ],
   "source": [
    "start = time.time()\n",
    "testmodel.fit(bootstrapping=False, preprocess=False, epochs=20, factor=100)\n",
    "end = time.time()\n",
    "print(\"Elapsed time: \", np.round((end-start)/60,2),\"minutes.\")"
   ]
  },
  {
   "cell_type": "code",
   "execution_count": 180,
   "id": "c15f3bb2-3f05-4b51-a666-b197fc430f02",
   "metadata": {},
   "outputs": [
    {
     "name": "stdout",
     "output_type": "stream",
     "text": [
      "Normalizing text\n",
      "Tokenizing text\n",
      "Passing text sequences\n",
      "WARNING:tensorflow:5 out of the last 8 calls to <function TensorFlowTrainer.make_predict_function.<locals>.one_step_on_data_distributed at 0x30d4a6c00> triggered tf.function retracing. Tracing is expensive and the excessive number of tracings could be due to (1) creating @tf.function repeatedly in a loop, (2) passing tensors with different shapes, (3) passing Python objects instead of tensors. For (1), please define your @tf.function outside of the loop. For (2), @tf.function has reduce_retracing=True option that can avoid unnecessary retracing. For (3), please refer to https://www.tensorflow.org/guide/function#controlling_retracing and https://www.tensorflow.org/api_docs/python/tf/function for  more details.\n",
      "\u001b[1m1/1\u001b[0m \u001b[32m━━━━━━━━━━━━━━━━━━━━\u001b[0m\u001b[37m\u001b[0m \u001b[1m0s\u001b[0m 205ms/step\n",
      "Normalizing text\n",
      "Tokenizing text\n",
      "Passing text sequences\n",
      "\u001b[1m1/1\u001b[0m \u001b[32m━━━━━━━━━━━━━━━━━━━━\u001b[0m\u001b[37m\u001b[0m \u001b[1m0s\u001b[0m 23ms/step\n"
     ]
    }
   ],
   "source": [
    "y_hat_old = testmodel.predict(df_o.content)\n",
    "y_hat_new = testmodel.predict(df_o.content)"
   ]
  },
  {
   "cell_type": "markdown",
   "id": "2c60c13d-0776-44b1-bd02-beab63af3339",
   "metadata": {},
   "source": [
    "### With preprocessing and no bootstraping"
   ]
  },
  {
   "cell_type": "code",
   "execution_count": 181,
   "id": "e5cafa15-56a1-42b4-8951-7545d4465b69",
   "metadata": {},
   "outputs": [
    {
     "name": "stdout",
     "output_type": "stream",
     "text": [
      "Bootstrapping by a factor of 1\n",
      "Normalizing text\n",
      "Fitting text tokenizer\n",
      "Fitting label tokenizer\n",
      "Tokenizing text\n",
      "Tokenizing labels\n",
      "Passing text sequences\n",
      "Setting model architecture\n",
      "Compiled model\n",
      "Epoch 1/20\n",
      "\u001b[1m1/1\u001b[0m \u001b[32m━━━━━━━━━━━━━━━━━━━━\u001b[0m\u001b[37m\u001b[0m \u001b[1m2s\u001b[0m 2s/step - accuracy: 0.0000e+00 - loss: 2.1929 - val_accuracy: 0.1154 - val_loss: 2.1877\n",
      "Epoch 2/20\n",
      "\u001b[1m1/1\u001b[0m \u001b[32m━━━━━━━━━━━━━━━━━━━━\u001b[0m\u001b[37m\u001b[0m \u001b[1m0s\u001b[0m 69ms/step - accuracy: 0.2500 - loss: 2.1533 - val_accuracy: 0.1154 - val_loss: 2.1773\n",
      "Epoch 3/20\n",
      "\u001b[1m1/1\u001b[0m \u001b[32m━━━━━━━━━━━━━━━━━━━━\u001b[0m\u001b[37m\u001b[0m \u001b[1m0s\u001b[0m 67ms/step - accuracy: 0.5000 - loss: 2.0681 - val_accuracy: 0.1154 - val_loss: 2.1705\n",
      "Epoch 4/20\n",
      "\u001b[1m1/1\u001b[0m \u001b[32m━━━━━━━━━━━━━━━━━━━━\u001b[0m\u001b[37m\u001b[0m \u001b[1m0s\u001b[0m 63ms/step - accuracy: 0.5000 - loss: 2.0466 - val_accuracy: 0.1154 - val_loss: 2.1703\n",
      "Epoch 5/20\n",
      "\u001b[1m1/1\u001b[0m \u001b[32m━━━━━━━━━━━━━━━━━━━━\u001b[0m\u001b[37m\u001b[0m \u001b[1m0s\u001b[0m 58ms/step - accuracy: 0.5000 - loss: 1.9609 - val_accuracy: 0.1154 - val_loss: 2.1708\n",
      "Epoch 6/20\n",
      "\u001b[1m1/1\u001b[0m \u001b[32m━━━━━━━━━━━━━━━━━━━━\u001b[0m\u001b[37m\u001b[0m \u001b[1m0s\u001b[0m 65ms/step - accuracy: 0.5000 - loss: 1.8430 - val_accuracy: 0.1154 - val_loss: 2.1764\n",
      "Epoch 7/20\n",
      "\u001b[1m1/1\u001b[0m \u001b[32m━━━━━━━━━━━━━━━━━━━━\u001b[0m\u001b[37m\u001b[0m \u001b[1m0s\u001b[0m 76ms/step - accuracy: 0.5000 - loss: 1.8503 - val_accuracy: 0.1154 - val_loss: 2.1870\n",
      "Epoch 7: early stopping\n",
      "Elapsed time:  0.05 minutes.\n"
     ]
    }
   ],
   "source": [
    "start = time.time()\n",
    "testmodel.fit(bootstrapping=False, preprocess=True, epochs=20, factor=100)\n",
    "end = time.time()\n",
    "print(\"Elapsed time: \", np.round((end-start)/60,2),\"minutes.\")"
   ]
  },
  {
   "cell_type": "code",
   "execution_count": 182,
   "id": "342af555-336d-4162-a109-e25391ae4d0d",
   "metadata": {},
   "outputs": [
    {
     "name": "stdout",
     "output_type": "stream",
     "text": [
      "Normalizing text\n",
      "Tokenizing text\n",
      "Passing text sequences\n",
      "WARNING:tensorflow:6 out of the last 10 calls to <function TensorFlowTrainer.make_predict_function.<locals>.one_step_on_data_distributed at 0x30caf6160> triggered tf.function retracing. Tracing is expensive and the excessive number of tracings could be due to (1) creating @tf.function repeatedly in a loop, (2) passing tensors with different shapes, (3) passing Python objects instead of tensors. For (1), please define your @tf.function outside of the loop. For (2), @tf.function has reduce_retracing=True option that can avoid unnecessary retracing. For (3), please refer to https://www.tensorflow.org/guide/function#controlling_retracing and https://www.tensorflow.org/api_docs/python/tf/function for  more details.\n",
      "\u001b[1m1/1\u001b[0m \u001b[32m━━━━━━━━━━━━━━━━━━━━\u001b[0m\u001b[37m\u001b[0m \u001b[1m0s\u001b[0m 200ms/step\n",
      "Normalizing text\n",
      "Tokenizing text\n",
      "Passing text sequences\n",
      "\u001b[1m1/1\u001b[0m \u001b[32m━━━━━━━━━━━━━━━━━━━━\u001b[0m\u001b[37m\u001b[0m \u001b[1m0s\u001b[0m 23ms/step\n"
     ]
    }
   ],
   "source": [
    "y_hat_old = testmodel.predict(df_o.content)\n",
    "y_hat_new = testmodel.predict(df_o.content)"
   ]
  },
  {
   "cell_type": "markdown",
   "id": "f4d16080-9c29-42ef-b7ac-7c1229115b41",
   "metadata": {},
   "source": [
    "### With preprocessing and bootstraping"
   ]
  },
  {
   "cell_type": "code",
   "execution_count": 183,
   "id": "3ddce76b-e763-44b8-8c13-adc58c510e78",
   "metadata": {},
   "outputs": [
    {
     "name": "stdout",
     "output_type": "stream",
     "text": [
      "Bootstrapping by a factor of 1000\n",
      "Normalizing text\n",
      "Fitting text tokenizer\n",
      "Fitting label tokenizer\n",
      "Tokenizing text\n",
      "Tokenizing labels\n",
      "Passing text sequences\n",
      "Setting model architecture\n",
      "Compiled model\n",
      "Epoch 1/20\n",
      "\u001b[1m9/9\u001b[0m \u001b[32m━━━━━━━━━━━━━━━━━━━━\u001b[0m\u001b[37m\u001b[0m \u001b[1m9s\u001b[0m 704ms/step - accuracy: 0.2103 - loss: 2.1276 - val_accuracy: 0.2958 - val_loss: 1.8346\n",
      "Epoch 2/20\n",
      "\u001b[1m9/9\u001b[0m \u001b[32m━━━━━━━━━━━━━━━━━━━━\u001b[0m\u001b[37m\u001b[0m \u001b[1m5s\u001b[0m 641ms/step - accuracy: 0.3065 - loss: 1.7765 - val_accuracy: 0.3989 - val_loss: 1.4690\n",
      "Epoch 3/20\n",
      "\u001b[1m9/9\u001b[0m \u001b[32m━━━━━━━━━━━━━━━━━━━━\u001b[0m\u001b[37m\u001b[0m \u001b[1m6s\u001b[0m 755ms/step - accuracy: 0.4529 - loss: 1.4222 - val_accuracy: 0.6975 - val_loss: 1.1072\n",
      "Epoch 4/20\n",
      "\u001b[1m9/9\u001b[0m \u001b[32m━━━━━━━━━━━━━━━━━━━━\u001b[0m\u001b[37m\u001b[0m \u001b[1m6s\u001b[0m 720ms/step - accuracy: 0.6283 - loss: 1.0896 - val_accuracy: 0.7306 - val_loss: 0.7766\n",
      "Epoch 5/20\n",
      "\u001b[1m9/9\u001b[0m \u001b[32m━━━━━━━━━━━━━━━━━━━━\u001b[0m\u001b[37m\u001b[0m \u001b[1m7s\u001b[0m 793ms/step - accuracy: 0.7406 - loss: 0.7833 - val_accuracy: 0.9336 - val_loss: 0.4768\n",
      "Epoch 6/20\n",
      "\u001b[1m9/9\u001b[0m \u001b[32m━━━━━━━━━━━━━━━━━━━━\u001b[0m\u001b[37m\u001b[0m \u001b[1m6s\u001b[0m 726ms/step - accuracy: 0.8900 - loss: 0.5188 - val_accuracy: 1.0000 - val_loss: 0.2934\n",
      "Epoch 7/20\n",
      "\u001b[1m9/9\u001b[0m \u001b[32m━━━━━━━━━━━━━━━━━━━━\u001b[0m\u001b[37m\u001b[0m \u001b[1m7s\u001b[0m 798ms/step - accuracy: 0.9640 - loss: 0.3306 - val_accuracy: 1.0000 - val_loss: 0.1847\n",
      "Epoch 8/20\n",
      "\u001b[1m9/9\u001b[0m \u001b[32m━━━━━━━━━━━━━━━━━━━━\u001b[0m\u001b[37m\u001b[0m \u001b[1m6s\u001b[0m 711ms/step - accuracy: 0.9841 - loss: 0.2360 - val_accuracy: 1.0000 - val_loss: 0.1151\n",
      "Epoch 9/20\n",
      "\u001b[1m9/9\u001b[0m \u001b[32m━━━━━━━━━━━━━━━━━━━━\u001b[0m\u001b[37m\u001b[0m \u001b[1m6s\u001b[0m 766ms/step - accuracy: 0.9986 - loss: 0.1545 - val_accuracy: 1.0000 - val_loss: 0.0730\n",
      "Epoch 10/20\n",
      "\u001b[1m9/9\u001b[0m \u001b[32m━━━━━━━━━━━━━━━━━━━━\u001b[0m\u001b[37m\u001b[0m \u001b[1m6s\u001b[0m 686ms/step - accuracy: 0.9994 - loss: 0.1110 - val_accuracy: 1.0000 - val_loss: 0.0477\n",
      "Epoch 11/20\n",
      "\u001b[1m9/9\u001b[0m \u001b[32m━━━━━━━━━━━━━━━━━━━━\u001b[0m\u001b[37m\u001b[0m \u001b[1m6s\u001b[0m 699ms/step - accuracy: 1.0000 - loss: 0.0768 - val_accuracy: 1.0000 - val_loss: 0.0319\n",
      "Epoch 12/20\n",
      "\u001b[1m9/9\u001b[0m \u001b[32m━━━━━━━━━━━━━━━━━━━━\u001b[0m\u001b[37m\u001b[0m \u001b[1m6s\u001b[0m 668ms/step - accuracy: 0.9989 - loss: 0.0576 - val_accuracy: 1.0000 - val_loss: 0.0220\n",
      "Epoch 13/20\n",
      "\u001b[1m9/9\u001b[0m \u001b[32m━━━━━━━━━━━━━━━━━━━━\u001b[0m\u001b[37m\u001b[0m \u001b[1m6s\u001b[0m 683ms/step - accuracy: 1.0000 - loss: 0.0407 - val_accuracy: 1.0000 - val_loss: 0.0157\n",
      "Epoch 14/20\n",
      "\u001b[1m9/9\u001b[0m \u001b[32m━━━━━━━━━━━━━━━━━━━━\u001b[0m\u001b[37m\u001b[0m \u001b[1m6s\u001b[0m 734ms/step - accuracy: 0.9997 - loss: 0.0342 - val_accuracy: 1.0000 - val_loss: 0.0119\n",
      "Epoch 15/20\n",
      "\u001b[1m9/9\u001b[0m \u001b[32m━━━━━━━━━━━━━━━━━━━━\u001b[0m\u001b[37m\u001b[0m \u001b[1m6s\u001b[0m 756ms/step - accuracy: 1.0000 - loss: 0.0262 - val_accuracy: 1.0000 - val_loss: 0.0093\n",
      "Epoch 16/20\n",
      "\u001b[1m9/9\u001b[0m \u001b[32m━━━━━━━━━━━━━━━━━━━━\u001b[0m\u001b[37m\u001b[0m \u001b[1m6s\u001b[0m 712ms/step - accuracy: 1.0000 - loss: 0.0215 - val_accuracy: 1.0000 - val_loss: 0.0074\n",
      "Epoch 17/20\n",
      "\u001b[1m9/9\u001b[0m \u001b[32m━━━━━━━━━━━━━━━━━━━━\u001b[0m\u001b[37m\u001b[0m \u001b[1m6s\u001b[0m 733ms/step - accuracy: 1.0000 - loss: 0.0187 - val_accuracy: 1.0000 - val_loss: 0.0060\n",
      "Epoch 18/20\n",
      "\u001b[1m9/9\u001b[0m \u001b[32m━━━━━━━━━━━━━━━━━━━━\u001b[0m\u001b[37m\u001b[0m \u001b[1m6s\u001b[0m 719ms/step - accuracy: 1.0000 - loss: 0.0159 - val_accuracy: 1.0000 - val_loss: 0.0051\n",
      "Epoch 19/20\n",
      "\u001b[1m9/9\u001b[0m \u001b[32m━━━━━━━━━━━━━━━━━━━━\u001b[0m\u001b[37m\u001b[0m \u001b[1m6s\u001b[0m 683ms/step - accuracy: 1.0000 - loss: 0.0141 - val_accuracy: 1.0000 - val_loss: 0.0043\n",
      "Epoch 20/20\n",
      "\u001b[1m9/9\u001b[0m \u001b[32m━━━━━━━━━━━━━━━━━━━━\u001b[0m\u001b[37m\u001b[0m \u001b[1m6s\u001b[0m 666ms/step - accuracy: 1.0000 - loss: 0.0122 - val_accuracy: 1.0000 - val_loss: 0.0037\n",
      "Elapsed time:  2.1 minutes.\n"
     ]
    }
   ],
   "source": [
    "start = time.time()\n",
    "testmodel.fit(bootstrapping=True, preprocess=True, epochs=20, factor=1000)\n",
    "end = time.time()\n",
    "print(\"Elapsed time: \", np.round((end-start)/60,2),\"minutes.\")"
   ]
  },
  {
   "cell_type": "code",
   "execution_count": 136,
   "id": "78d4575a-be1c-470c-b8e3-f9332ef6fa23",
   "metadata": {},
   "outputs": [
    {
     "name": "stdout",
     "output_type": "stream",
     "text": [
      "Normalizing text\n",
      "Tokenizing text\n",
      "Passing text sequences\n",
      "\u001b[1m1/1\u001b[0m \u001b[32m━━━━━━━━━━━━━━━━━━━━\u001b[0m\u001b[37m\u001b[0m \u001b[1m0s\u001b[0m 167ms/step\n",
      "Normalizing text\n",
      "Tokenizing text\n",
      "Passing text sequences\n",
      "\u001b[1m1/1\u001b[0m \u001b[32m━━━━━━━━━━━━━━━━━━━━\u001b[0m\u001b[37m\u001b[0m \u001b[1m0s\u001b[0m 20ms/step\n"
     ]
    }
   ],
   "source": [
    "y_hat_old = testmodel.predict(df_o.content)\n",
    "y_hat_new = testmodel.predict(df_o.content)"
   ]
  },
  {
   "cell_type": "markdown",
   "id": "a3d25e5f-c206-4b14-9d5a-40b4af08d5fd",
   "metadata": {},
   "source": [
    "## Qualitative Eval"
   ]
  },
  {
   "cell_type": "code",
   "execution_count": 137,
   "id": "0da523e9-049c-4da2-932b-7f38df4349a4",
   "metadata": {},
   "outputs": [
    {
     "name": "stdout",
     "output_type": "stream",
     "text": [
      "Normalizing text\n",
      "Tokenizing text\n",
      "Passing text sequences\n",
      "\u001b[1m1/1\u001b[0m \u001b[32m━━━━━━━━━━━━━━━━━━━━\u001b[0m\u001b[37m\u001b[0m \u001b[1m0s\u001b[0m 196ms/step\n"
     ]
    },
    {
     "data": {
      "text/html": [
       "<div>\n",
       "<style scoped>\n",
       "    .dataframe tbody tr th:only-of-type {\n",
       "        vertical-align: middle;\n",
       "    }\n",
       "\n",
       "    .dataframe tbody tr th {\n",
       "        vertical-align: top;\n",
       "    }\n",
       "\n",
       "    .dataframe thead th {\n",
       "        text-align: right;\n",
       "    }\n",
       "</style>\n",
       "<table border=\"1\" class=\"dataframe\">\n",
       "  <thead>\n",
       "    <tr style=\"text-align: right;\">\n",
       "      <th></th>\n",
       "      <th>dummy_reviews</th>\n",
       "      <th>dummy_true_labels</th>\n",
       "      <th>predictions</th>\n",
       "    </tr>\n",
       "  </thead>\n",
       "  <tbody>\n",
       "    <tr>\n",
       "      <th>0</th>\n",
       "      <td>Great Customer support!</td>\n",
       "      <td>Customer Support</td>\n",
       "      <td>Generic feedback</td>\n",
       "    </tr>\n",
       "    <tr>\n",
       "      <th>1</th>\n",
       "      <td>Bad customer service!</td>\n",
       "      <td>Customer Support</td>\n",
       "      <td>Generic feedback</td>\n",
       "    </tr>\n",
       "    <tr>\n",
       "      <th>2</th>\n",
       "      <td>Worst Customer support!</td>\n",
       "      <td>Customer Support</td>\n",
       "      <td>Generic feedback</td>\n",
       "    </tr>\n",
       "    <tr>\n",
       "      <th>3</th>\n",
       "      <td>Full of hidden fees</td>\n",
       "      <td>Transaction Fees/Speed</td>\n",
       "      <td>Generic feedback</td>\n",
       "    </tr>\n",
       "    <tr>\n",
       "      <th>4</th>\n",
       "      <td>Loosing a lot of many with the fees</td>\n",
       "      <td>Transaction Fees/Speed</td>\n",
       "      <td>Generic feedback</td>\n",
       "    </tr>\n",
       "    <tr>\n",
       "      <th>5</th>\n",
       "      <td>Other networks charge less per trade</td>\n",
       "      <td>Transaction Fees/Speed</td>\n",
       "      <td>Generic feedback</td>\n",
       "    </tr>\n",
       "    <tr>\n",
       "      <th>6</th>\n",
       "      <td>Too many updates!!</td>\n",
       "      <td>Reliability/Stability</td>\n",
       "      <td>Generic feedback</td>\n",
       "    </tr>\n",
       "    <tr>\n",
       "      <th>7</th>\n",
       "      <td>Cant download app</td>\n",
       "      <td>Reliability/Stability</td>\n",
       "      <td>Usability/UI/UX</td>\n",
       "    </tr>\n",
       "    <tr>\n",
       "      <th>8</th>\n",
       "      <td>App full of scammers</td>\n",
       "      <td>Security</td>\n",
       "      <td>Usability/UI/UX</td>\n",
       "    </tr>\n",
       "    <tr>\n",
       "      <th>9</th>\n",
       "      <td>Danger, lot´s of scammers</td>\n",
       "      <td>Security</td>\n",
       "      <td>Generic feedback</td>\n",
       "    </tr>\n",
       "    <tr>\n",
       "      <th>10</th>\n",
       "      <td>Scams!!</td>\n",
       "      <td>Security</td>\n",
       "      <td>Generic feedback</td>\n",
       "    </tr>\n",
       "    <tr>\n",
       "      <th>11</th>\n",
       "      <td>Very Easy to use</td>\n",
       "      <td>Usability/UI/UX</td>\n",
       "      <td>Generic feedback</td>\n",
       "    </tr>\n",
       "    <tr>\n",
       "      <th>12</th>\n",
       "      <td>Friendly UI</td>\n",
       "      <td>Usability/UI/UX</td>\n",
       "      <td>Generic feedback</td>\n",
       "    </tr>\n",
       "    <tr>\n",
       "      <th>13</th>\n",
       "      <td>Fortunately I had no issues so far, the app is...</td>\n",
       "      <td>Usability/UI/UX</td>\n",
       "      <td>Usability/UI/UX</td>\n",
       "    </tr>\n",
       "    <tr>\n",
       "      <th>14</th>\n",
       "      <td>Nice features</td>\n",
       "      <td>Generic feedback</td>\n",
       "      <td>Generic feedback</td>\n",
       "    </tr>\n",
       "    <tr>\n",
       "      <th>15</th>\n",
       "      <td>Great so far</td>\n",
       "      <td>Generic feedback</td>\n",
       "      <td>Usability/UI/UX</td>\n",
       "    </tr>\n",
       "    <tr>\n",
       "      <th>16</th>\n",
       "      <td>Excellent</td>\n",
       "      <td>Generic feedback</td>\n",
       "      <td>Generic feedback</td>\n",
       "    </tr>\n",
       "    <tr>\n",
       "      <th>17</th>\n",
       "      <td>:)</td>\n",
       "      <td>Generic feedback</td>\n",
       "      <td>Generic feedback</td>\n",
       "    </tr>\n",
       "    <tr>\n",
       "      <th>18</th>\n",
       "      <td>Great app to loose money!</td>\n",
       "      <td>Generic feedback</td>\n",
       "      <td>Usability/UI/UX</td>\n",
       "    </tr>\n",
       "  </tbody>\n",
       "</table>\n",
       "</div>"
      ],
      "text/plain": [
       "                                        dummy_reviews       dummy_true_labels  \\\n",
       "0                             Great Customer support!        Customer Support   \n",
       "1                               Bad customer service!        Customer Support   \n",
       "2                             Worst Customer support!        Customer Support   \n",
       "3                                 Full of hidden fees  Transaction Fees/Speed   \n",
       "4                 Loosing a lot of many with the fees  Transaction Fees/Speed   \n",
       "5                Other networks charge less per trade  Transaction Fees/Speed   \n",
       "6                                  Too many updates!!   Reliability/Stability   \n",
       "7                                   Cant download app   Reliability/Stability   \n",
       "8                                App full of scammers                Security   \n",
       "9                           Danger, lot´s of scammers                Security   \n",
       "10                                            Scams!!                Security   \n",
       "11                                   Very Easy to use         Usability/UI/UX   \n",
       "12                                        Friendly UI         Usability/UI/UX   \n",
       "13  Fortunately I had no issues so far, the app is...         Usability/UI/UX   \n",
       "14                                      Nice features        Generic feedback   \n",
       "15                                       Great so far        Generic feedback   \n",
       "16                                          Excellent        Generic feedback   \n",
       "17                                                 :)        Generic feedback   \n",
       "18                          Great app to loose money!        Generic feedback   \n",
       "\n",
       "         predictions  \n",
       "0   Generic feedback  \n",
       "1   Generic feedback  \n",
       "2   Generic feedback  \n",
       "3   Generic feedback  \n",
       "4   Generic feedback  \n",
       "5   Generic feedback  \n",
       "6   Generic feedback  \n",
       "7    Usability/UI/UX  \n",
       "8    Usability/UI/UX  \n",
       "9   Generic feedback  \n",
       "10  Generic feedback  \n",
       "11  Generic feedback  \n",
       "12  Generic feedback  \n",
       "13   Usability/UI/UX  \n",
       "14  Generic feedback  \n",
       "15   Usability/UI/UX  \n",
       "16  Generic feedback  \n",
       "17  Generic feedback  \n",
       "18   Usability/UI/UX  "
      ]
     },
     "execution_count": 137,
     "metadata": {},
     "output_type": "execute_result"
    }
   ],
   "source": [
    "dummy_reviews = [\n",
    "    \"Great Customer support!\",\"Bad customer service!\", \"Worst Customer support!\",#customer support examples\n",
    "    \"Full of hidden fees\",\"Loosing a lot of many with the fees\", \"Other networks charge less per trade\",# fees\n",
    "     \"Too many updates!!\", \"Cant download app\", #Reliability\n",
    "    \"App full of scammers\",\"Danger, lot´s of scammers\", \"Scams!!\", #security\n",
    "     \"Very Easy to use\", \"Friendly UI\", \"Fortunately I had no issues so far, the app is very intuitive\", #usability\n",
    "     \"Nice features\",\"Great so far\", \"Excellent\", \":)\", #generic feedback\n",
    "     \"Great app to loose money!\"] #sarcasm\n",
    "dummy_true_label = [\n",
    "    \"Customer Support\", \"Customer Support\", \"Customer Support\", \n",
    "    \"Transaction Fees/Speed\",\"Transaction Fees/Speed\",\"Transaction Fees/Speed\",\n",
    "    \"Reliability/Stability\", \"Reliability/Stability\",\n",
    "    \"Security\",\"Security\",\"Security\",\n",
    "    \"Usability/UI/UX\", \"Usability/UI/UX\", \"Usability/UI/UX\",\n",
    "    \"Generic feedback\", \"Generic feedback\", \"Generic feedback\",\"Generic feedback\",\n",
    "    \"Generic feedback\"\n",
    "]\n",
    "    \n",
    "dummy_predictions = testmodel.predict(dummy_reviews)\n",
    "pd.DataFrame({\"dummy_reviews\":dummy_reviews, \"dummy_true_labels\":dummy_true_label,  \"predictions\":dummy_predictions})"
   ]
  },
  {
   "cell_type": "code",
   "execution_count": null,
   "id": "f2d3eb23-6263-44d1-aeef-1c0d16ccfc9d",
   "metadata": {},
   "outputs": [],
   "source": []
  }
 ],
 "metadata": {
  "kernelspec": {
   "display_name": "uol_project",
   "language": "python",
   "name": "uol_project"
  },
  "language_info": {
   "codemirror_mode": {
    "name": "ipython",
    "version": 3
   },
   "file_extension": ".py",
   "mimetype": "text/x-python",
   "name": "python",
   "nbconvert_exporter": "python",
   "pygments_lexer": "ipython3",
   "version": "3.12.8"
  }
 },
 "nbformat": 4,
 "nbformat_minor": 5
}
