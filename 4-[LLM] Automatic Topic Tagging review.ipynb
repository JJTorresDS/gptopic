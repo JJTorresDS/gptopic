{
 "cells": [
  {
   "cell_type": "code",
   "execution_count": 106,
   "id": "b65c9dd3-0765-43b0-b8f9-cb019c296910",
   "metadata": {},
   "outputs": [],
   "source": [
    "import pandas as pd\n",
    "pd.set_option('display.max_colwidth', None)\n",
    "import numpy as np\n",
    "import time\n",
    "\n",
    "from dotenv import load_dotenv\n",
    "from utils import utils\n",
    "\n",
    "import os\n",
    "from dotenv import load_dotenv"
   ]
  },
  {
   "cell_type": "markdown",
   "id": "265279c9-c1c0-490e-b685-7c02e0fdbec3",
   "metadata": {},
   "source": [
    "## Context"
   ]
  },
  {
   "cell_type": "markdown",
   "id": "3696ee2d-fa00-4574-aca7-fd373bdd638a",
   "metadata": {},
   "source": [
    "The quality check of the sampled reviews made in the previous step was done manually by Jonas Torres (the author of this project).\n",
    "\n",
    "This is something that does not scale well.\n",
    "\n",
    "The goal of this notebook is to:\n",
    "\n",
    "1. Review the quality of the topics assigned by the LLM.\n",
    "2. Use the same LLM to review its own work. This can now be done because we have a sample with \"tags\" that were reviewed by a human (the author).\n",
    "\n",
    "Since a human is reviewing the topic tags, we assume that the human holds the \"ground truth\" (i.e if a topic assignment is correct or not)."
   ]
  },
  {
   "cell_type": "code",
   "execution_count": 309,
   "id": "3b7e8d8a-9632-48d5-97f7-bab51d2b2ced",
   "metadata": {},
   "outputs": [],
   "source": [
    "df_r = pd.read_csv(path+\"4.tagged_reviews_sample_verified.csv\")"
   ]
  },
  {
   "cell_type": "code",
   "execution_count": 310,
   "id": "013e3746-1d87-4eec-9f10-20f85edf822d",
   "metadata": {},
   "outputs": [],
   "source": [
    "df_r = df_r[['content', 'score','app', 'gemini_llm_topic', 'correct',\n",
    "       'human_labeled_topic', 'cause', \"corrected_topic\"]]"
   ]
  },
  {
   "cell_type": "markdown",
   "id": "9e5d908d-77d7-40ce-bd1c-6a91a9f5c5a8",
   "metadata": {},
   "source": [
    "## Explore quality of Topic Assignment"
   ]
  },
  {
   "cell_type": "markdown",
   "id": "51ebffad-ee55-43c1-8811-abcdd4aa6af4",
   "metadata": {},
   "source": [
    "The file containing the manual evaluation with some simple analysis can be found in this [link](https://docs.google.com/spreadsheets/d/1To8TfdoSm2ZhZTx0WZmG03pY5xsYlMggNMXZJcb_tc0/edit?usp=sharing)."
   ]
  },
  {
   "cell_type": "markdown",
   "id": "91f50255-865b-481b-86ca-39105cabcf37",
   "metadata": {},
   "source": [
    "### Variable description"
   ]
  },
  {
   "cell_type": "code",
   "execution_count": 311,
   "id": "40888d3a-4d2f-4303-b5b5-bb0b15e856d1",
   "metadata": {},
   "outputs": [
    {
     "data": {
      "text/html": [
       "<div>\n",
       "<style scoped>\n",
       "    .dataframe tbody tr th:only-of-type {\n",
       "        vertical-align: middle;\n",
       "    }\n",
       "\n",
       "    .dataframe tbody tr th {\n",
       "        vertical-align: top;\n",
       "    }\n",
       "\n",
       "    .dataframe thead th {\n",
       "        text-align: right;\n",
       "    }\n",
       "</style>\n",
       "<table border=\"1\" class=\"dataframe\">\n",
       "  <thead>\n",
       "    <tr style=\"text-align: right;\">\n",
       "      <th></th>\n",
       "      <th>0</th>\n",
       "    </tr>\n",
       "  </thead>\n",
       "  <tbody>\n",
       "    <tr>\n",
       "      <th>content</th>\n",
       "      <td>This app weights 460 MB! Old review: Stop forcing me to update</td>\n",
       "    </tr>\n",
       "    <tr>\n",
       "      <th>score</th>\n",
       "      <td>1</td>\n",
       "    </tr>\n",
       "    <tr>\n",
       "      <th>app</th>\n",
       "      <td>co.mona.android</td>\n",
       "    </tr>\n",
       "    <tr>\n",
       "      <th>gemini_llm_topic</th>\n",
       "      <td>Usability/UI/UX</td>\n",
       "    </tr>\n",
       "    <tr>\n",
       "      <th>correct</th>\n",
       "      <td>1</td>\n",
       "    </tr>\n",
       "    <tr>\n",
       "      <th>human_labeled_topic</th>\n",
       "      <td>NaN</td>\n",
       "    </tr>\n",
       "    <tr>\n",
       "      <th>cause</th>\n",
       "      <td>NaN</td>\n",
       "    </tr>\n",
       "    <tr>\n",
       "      <th>corrected_topic</th>\n",
       "      <td>Usability/UI/UX</td>\n",
       "    </tr>\n",
       "  </tbody>\n",
       "</table>\n",
       "</div>"
      ],
      "text/plain": [
       "                                                                                  0\n",
       "content              This app weights 460 MB! Old review: Stop forcing me to update\n",
       "score                                                                             1\n",
       "app                                                                 co.mona.android\n",
       "gemini_llm_topic                                                    Usability/UI/UX\n",
       "correct                                                                           1\n",
       "human_labeled_topic                                                             NaN\n",
       "cause                                                                           NaN\n",
       "corrected_topic                                                     Usability/UI/UX"
      ]
     },
     "execution_count": 311,
     "metadata": {},
     "output_type": "execute_result"
    }
   ],
   "source": [
    "df_r.head(1).T"
   ]
  },
  {
   "cell_type": "markdown",
   "id": "c342c791-0f24-47e2-9ccd-03698d55cf9d",
   "metadata": {},
   "source": [
    "### Accuracy"
   ]
  },
  {
   "cell_type": "code",
   "execution_count": 312,
   "id": "2350ce08-fe01-4353-9de2-ee4168350b67",
   "metadata": {},
   "outputs": [
    {
     "name": "stdout",
     "output_type": "stream",
     "text": [
      "Overall Topic Accuracy:  86.0 %\n"
     ]
    }
   ],
   "source": [
    "#Overall accuracyp\n",
    "print(\"Overall Topic Accuracy: \",df_r[\"correct\"].mean().round(2)*100, \"%\")"
   ]
  },
  {
   "cell_type": "markdown",
   "id": "37eef3d9-9be3-4da2-998f-dbb20c6cf3c2",
   "metadata": {},
   "source": [
    "Overall topic accuracy is descent.\n",
    "\n",
    "When breaking the accuracy down by topic, more insights come up.\n",
    "\n",
    "* Educational Resources/Onboarding: low prevalence and 0% accuracy.\n",
    "* Privacy: only 1 review was tagged with this topic.\n",
    "* Wallet Security/Integration: low prevalence and 0% accuracy.\n",
    "* Usability/UI/UX: 74.5% accuracy. This is a category that is worth exploring further."
   ]
  },
  {
   "cell_type": "code",
   "execution_count": null,
   "id": "7d397895-013b-4e59-ad8d-5f76692a40b1",
   "metadata": {},
   "outputs": [],
   "source": []
  },
  {
   "cell_type": "code",
   "execution_count": 313,
   "id": "e1a59f01-9e68-41ff-8b9a-94c3a9dec1b0",
   "metadata": {},
   "outputs": [
    {
     "data": {
      "text/html": [
       "<div>\n",
       "<style scoped>\n",
       "    .dataframe tbody tr th:only-of-type {\n",
       "        vertical-align: middle;\n",
       "    }\n",
       "\n",
       "    .dataframe tbody tr th {\n",
       "        vertical-align: top;\n",
       "    }\n",
       "\n",
       "    .dataframe thead tr th {\n",
       "        text-align: left;\n",
       "    }\n",
       "\n",
       "    .dataframe thead tr:last-of-type th {\n",
       "        text-align: right;\n",
       "    }\n",
       "</style>\n",
       "<table border=\"1\" class=\"dataframe\">\n",
       "  <thead>\n",
       "    <tr>\n",
       "      <th></th>\n",
       "      <th colspan=\"2\" halign=\"left\">correct</th>\n",
       "    </tr>\n",
       "    <tr>\n",
       "      <th></th>\n",
       "      <th>count</th>\n",
       "      <th>mean</th>\n",
       "    </tr>\n",
       "    <tr>\n",
       "      <th>gemini_llm_topic</th>\n",
       "      <th></th>\n",
       "      <th></th>\n",
       "    </tr>\n",
       "  </thead>\n",
       "  <tbody>\n",
       "    <tr>\n",
       "      <th>Account Management</th>\n",
       "      <td>38</td>\n",
       "      <td>0.894737</td>\n",
       "    </tr>\n",
       "    <tr>\n",
       "      <th>Customer Support</th>\n",
       "      <td>36</td>\n",
       "      <td>0.805556</td>\n",
       "    </tr>\n",
       "    <tr>\n",
       "      <th>Educational Resources/Onboarding</th>\n",
       "      <td>4</td>\n",
       "      <td>0.000000</td>\n",
       "    </tr>\n",
       "    <tr>\n",
       "      <th>Features/Functionality</th>\n",
       "      <td>25</td>\n",
       "      <td>0.920000</td>\n",
       "    </tr>\n",
       "    <tr>\n",
       "      <th>Generic feedback</th>\n",
       "      <td>50</td>\n",
       "      <td>0.940000</td>\n",
       "    </tr>\n",
       "    <tr>\n",
       "      <th>Privacy</th>\n",
       "      <td>1</td>\n",
       "      <td>1.000000</td>\n",
       "    </tr>\n",
       "    <tr>\n",
       "      <th>Reliability/Stability</th>\n",
       "      <td>39</td>\n",
       "      <td>0.923077</td>\n",
       "    </tr>\n",
       "    <tr>\n",
       "      <th>Security</th>\n",
       "      <td>5</td>\n",
       "      <td>0.800000</td>\n",
       "    </tr>\n",
       "    <tr>\n",
       "      <th>Transaction Fees/Speed</th>\n",
       "      <td>31</td>\n",
       "      <td>0.935484</td>\n",
       "    </tr>\n",
       "    <tr>\n",
       "      <th>Usability/UI/UX</th>\n",
       "      <td>51</td>\n",
       "      <td>0.745098</td>\n",
       "    </tr>\n",
       "    <tr>\n",
       "      <th>Verification/KYC/AML Processes</th>\n",
       "      <td>16</td>\n",
       "      <td>1.000000</td>\n",
       "    </tr>\n",
       "    <tr>\n",
       "      <th>Wallet Security/Integration</th>\n",
       "      <td>3</td>\n",
       "      <td>0.333333</td>\n",
       "    </tr>\n",
       "  </tbody>\n",
       "</table>\n",
       "</div>"
      ],
      "text/plain": [
       "                                 correct          \n",
       "                                   count      mean\n",
       "gemini_llm_topic                                  \n",
       "Account Management                    38  0.894737\n",
       "Customer Support                      36  0.805556\n",
       "Educational Resources/Onboarding       4  0.000000\n",
       "Features/Functionality                25  0.920000\n",
       "Generic feedback                      50  0.940000\n",
       "Privacy                                1  1.000000\n",
       "Reliability/Stability                 39  0.923077\n",
       "Security                               5  0.800000\n",
       "Transaction Fees/Speed                31  0.935484\n",
       "Usability/UI/UX                       51  0.745098\n",
       "Verification/KYC/AML Processes        16  1.000000\n",
       "Wallet Security/Integration            3  0.333333"
      ]
     },
     "execution_count": 313,
     "metadata": {},
     "output_type": "execute_result"
    }
   ],
   "source": [
    "#Accuracy by topic\n",
    "df_r.groupby(\"gemini_llm_topic\").agg({\"correct\":[\"count\", \"mean\"]})"
   ]
  },
  {
   "cell_type": "markdown",
   "id": "e63ff20a-7ef2-4bf0-b66c-034448927aee",
   "metadata": {},
   "source": [
    "### Analyzing the Errors"
   ]
  },
  {
   "cell_type": "code",
   "execution_count": 314,
   "id": "ecf75b6a-2e29-4983-a199-560c64a4dfda",
   "metadata": {},
   "outputs": [],
   "source": [
    "def word_prevalence(reviews, word):\n",
    "    match_counter=0\n",
    "    reviews_l = [review.lower() for review in reviews]\n",
    "    for r in reviews_l:\n",
    "        if word.lower() in r:\n",
    "            match_counter +=1\n",
    "    return match_counter/len(reviews)"
   ]
  },
  {
   "cell_type": "code",
   "execution_count": 315,
   "id": "b295937c-2d62-4603-9f97-5cc4ede51263",
   "metadata": {},
   "outputs": [],
   "source": [
    "usability_index = df_r[\"gemini_llm_topic\"] == \"Usability/UI/UX\"\n",
    "wrong_index = df_r[\"correct\"] == 0"
   ]
  },
  {
   "cell_type": "code",
   "execution_count": 316,
   "id": "69d7a6e6-562d-47c6-a373-75856d23447f",
   "metadata": {},
   "outputs": [
    {
     "data": {
      "text/plain": [
       "corrected_topic\n",
       "Reliability/Stability     7\n",
       "Generic feedback          5\n",
       "Features/Functionality    1\n",
       "Name: count, dtype: int64"
      ]
     },
     "execution_count": 316,
     "metadata": {},
     "output_type": "execute_result"
    }
   ],
   "source": [
    "df_r[usability_index & wrong_index][\"corrected_topic\"].value_counts()"
   ]
  },
  {
   "cell_type": "code",
   "execution_count": 317,
   "id": "ae65231f-28b8-4b99-b665-5e5d260a3b59",
   "metadata": {},
   "outputs": [
    {
     "data": {
      "text/html": [
       "<div>\n",
       "<style scoped>\n",
       "    .dataframe tbody tr th:only-of-type {\n",
       "        vertical-align: middle;\n",
       "    }\n",
       "\n",
       "    .dataframe tbody tr th {\n",
       "        vertical-align: top;\n",
       "    }\n",
       "\n",
       "    .dataframe thead th {\n",
       "        text-align: right;\n",
       "    }\n",
       "</style>\n",
       "<table border=\"1\" class=\"dataframe\">\n",
       "  <thead>\n",
       "    <tr style=\"text-align: right;\">\n",
       "      <th></th>\n",
       "      <th>gemini_llm_topic</th>\n",
       "      <th>corrected_topic</th>\n",
       "      <th>content</th>\n",
       "    </tr>\n",
       "  </thead>\n",
       "  <tbody>\n",
       "    <tr>\n",
       "      <th>118</th>\n",
       "      <td>Usability/UI/UX</td>\n",
       "      <td>Generic feedback</td>\n",
       "      <td>Very cheap style is of this Binance which compels the net user to bother to cee this in tricky repeatable !</td>\n",
       "    </tr>\n",
       "    <tr>\n",
       "      <th>119</th>\n",
       "      <td>Usability/UI/UX</td>\n",
       "      <td>Generic feedback</td>\n",
       "      <td>Most Stupid crypto trading app</td>\n",
       "    </tr>\n",
       "    <tr>\n",
       "      <th>137</th>\n",
       "      <td>Usability/UI/UX</td>\n",
       "      <td>Reliability/Stability</td>\n",
       "      <td>The app is good but i cant installed it in my new device i dont know the problem</td>\n",
       "    </tr>\n",
       "    <tr>\n",
       "      <th>162</th>\n",
       "      <td>Usability/UI/UX</td>\n",
       "      <td>Reliability/Stability</td>\n",
       "      <td>The app is still junk. The same problems for over two years. Trying to top up my debit card always requires me to shut down the app and restart. Don't ask me my phone make/model or tell me it's a problem with my phone ... It's been like that what different phones. The other nuisance is the forced updates... FFS give us a heads up beforehand. Don't just lock us out of the bloody app. It's so frustrating. And why does it need more than 2Gb of storage space to update with a 45Mb update? Grr</td>\n",
       "    </tr>\n",
       "    <tr>\n",
       "      <th>171</th>\n",
       "      <td>Usability/UI/UX</td>\n",
       "      <td>Reliability/Stability</td>\n",
       "      <td>I am trying to open my crypto, BUT the app keeps locking me out... this app is useless. I guess I will open another app other than crypto. And there is no way to get help... I put in the code that they send me, and it won't take it.... AND now you tell me to live chat you???? HOW? I can't get on the app dummies</td>\n",
       "    </tr>\n",
       "    <tr>\n",
       "      <th>180</th>\n",
       "      <td>Usability/UI/UX</td>\n",
       "      <td>Generic feedback</td>\n",
       "      <td>Worst app , don't install</td>\n",
       "    </tr>\n",
       "    <tr>\n",
       "      <th>183</th>\n",
       "      <td>Usability/UI/UX</td>\n",
       "      <td>Features/Functionality</td>\n",
       "      <td>Unable to use card</td>\n",
       "    </tr>\n",
       "    <tr>\n",
       "      <th>185</th>\n",
       "      <td>Usability/UI/UX</td>\n",
       "      <td>Reliability/Stability</td>\n",
       "      <td>Well, the app is super slow, but at least it works again since the problematic update a while back. The constant \"must update to continue using the app\" is EXTREMELY annoying. I don't care if i miss 1 or 2 features, i just want to check on my crypto for once without being nagged to update. Now if an update made the app faster or better again, maybe I'd be interested. But nothing changes. This has been posted a long time, so from now on, every time I get nagged to update,this review loses a star.</td>\n",
       "    </tr>\n",
       "    <tr>\n",
       "      <th>190</th>\n",
       "      <td>Usability/UI/UX</td>\n",
       "      <td>Reliability/Stability</td>\n",
       "      <td>Id love it if the app didn't update every couple of weeks</td>\n",
       "    </tr>\n",
       "    <tr>\n",
       "      <th>208</th>\n",
       "      <td>Usability/UI/UX</td>\n",
       "      <td>Reliability/Stability</td>\n",
       "      <td>Finding it difficult to download the app my data keeps going</td>\n",
       "    </tr>\n",
       "    <tr>\n",
       "      <th>229</th>\n",
       "      <td>Usability/UI/UX</td>\n",
       "      <td>Reliability/Stability</td>\n",
       "      <td>You know every time you do an update I keep thinking you're going to fix the app and you never do, if I leave it on in the background it errors, nothing responds, menus will not work at all, the UI doesn't function, it lags and freezes up constantly it's been going on for over a year. One thing you did right was the updates are updates now and no longer download the entire app instead of updating. Every time you update the app, the exact same thing, are you developers lazy, or just useless?</td>\n",
       "    </tr>\n",
       "    <tr>\n",
       "      <th>234</th>\n",
       "      <td>Usability/UI/UX</td>\n",
       "      <td>Generic feedback</td>\n",
       "      <td>nice crypto trading app</td>\n",
       "    </tr>\n",
       "    <tr>\n",
       "      <th>240</th>\n",
       "      <td>Usability/UI/UX</td>\n",
       "      <td>Generic feedback</td>\n",
       "      <td>Stupid app</td>\n",
       "    </tr>\n",
       "  </tbody>\n",
       "</table>\n",
       "</div>"
      ],
      "text/plain": [
       "    gemini_llm_topic         corrected_topic  \\\n",
       "118  Usability/UI/UX        Generic feedback   \n",
       "119  Usability/UI/UX        Generic feedback   \n",
       "137  Usability/UI/UX   Reliability/Stability   \n",
       "162  Usability/UI/UX   Reliability/Stability   \n",
       "171  Usability/UI/UX   Reliability/Stability   \n",
       "180  Usability/UI/UX        Generic feedback   \n",
       "183  Usability/UI/UX  Features/Functionality   \n",
       "185  Usability/UI/UX   Reliability/Stability   \n",
       "190  Usability/UI/UX   Reliability/Stability   \n",
       "208  Usability/UI/UX   Reliability/Stability   \n",
       "229  Usability/UI/UX   Reliability/Stability   \n",
       "234  Usability/UI/UX        Generic feedback   \n",
       "240  Usability/UI/UX        Generic feedback   \n",
       "\n",
       "                                                                                                                                                                                                                                                                                                                                                                                                                                                                                                                  content  \n",
       "118                                                                                                                                                                                                                                                                                                                                                                                                           Very cheap style is of this Binance which compels the net user to bother to cee this in tricky repeatable !  \n",
       "119                                                                                                                                                                                                                                                                                                                                                                                                                                                                                        Most Stupid crypto trading app  \n",
       "137                                                                                                                                                                                                                                                                                                                                                                                                                                      The app is good but i cant installed it in my new device i dont know the problem  \n",
       "162          The app is still junk. The same problems for over two years. Trying to top up my debit card always requires me to shut down the app and restart. Don't ask me my phone make/model or tell me it's a problem with my phone ... It's been like that what different phones. The other nuisance is the forced updates... FFS give us a heads up beforehand. Don't just lock us out of the bloody app. It's so frustrating. And why does it need more than 2Gb of storage space to update with a 45Mb update? Grr  \n",
       "171                                                                                                                                                                                              I am trying to open my crypto, BUT the app keeps locking me out... this app is useless. I guess I will open another app other than crypto. And there is no way to get help... I put in the code that they send me, and it won't take it.... AND now you tell me to live chat you???? HOW? I can't get on the app dummies  \n",
       "180                                                                                                                                                                                                                                                                                                                                                                                                                                                                                             Worst app , don't install  \n",
       "183                                                                                                                                                                                                                                                                                                                                                                                                                                                                                                    Unable to use card  \n",
       "185  Well, the app is super slow, but at least it works again since the problematic update a while back. The constant \"must update to continue using the app\" is EXTREMELY annoying. I don't care if i miss 1 or 2 features, i just want to check on my crypto for once without being nagged to update. Now if an update made the app faster or better again, maybe I'd be interested. But nothing changes. This has been posted a long time, so from now on, every time I get nagged to update,this review loses a star.  \n",
       "190                                                                                                                                                                                                                                                                                                                                                                                                                                                             Id love it if the app didn't update every couple of weeks  \n",
       "208                                                                                                                                                                                                                                                                                                                                                                                                                                                          Finding it difficult to download the app my data keeps going  \n",
       "229       You know every time you do an update I keep thinking you're going to fix the app and you never do, if I leave it on in the background it errors, nothing responds, menus will not work at all, the UI doesn't function, it lags and freezes up constantly it's been going on for over a year. One thing you did right was the updates are updates now and no longer download the entire app instead of updating. Every time you update the app, the exact same thing, are you developers lazy, or just useless?  \n",
       "234                                                                                                                                                                                                                                                                                                                                                                                                                                                                                               nice crypto trading app  \n",
       "240                                                                                                                                                                                                                                                                                                                                                                                                                                                                                                            Stupid app  "
      ]
     },
     "execution_count": 317,
     "metadata": {},
     "output_type": "execute_result"
    }
   ],
   "source": [
    "df_r.loc[usability_index & wrong_index,[\"gemini_llm_topic\",\"corrected_topic\", \"content\"]]"
   ]
  },
  {
   "cell_type": "code",
   "execution_count": 318,
   "id": "082a6422-a6e7-4b95-af58-a845592328ca",
   "metadata": {},
   "outputs": [
    {
     "data": {
      "text/plain": [
       "np.float64(0.5)"
      ]
     },
     "execution_count": 318,
     "metadata": {},
     "output_type": "execute_result"
    }
   ],
   "source": [
    "#correct usability reviews with the word \"app\"\n",
    "df_r[usability_index & ~wrong_index][\"content\"].str.lower().str.contains(\"app\").sum() / sum(usability_index & ~wrong_index)"
   ]
  },
  {
   "cell_type": "code",
   "execution_count": 319,
   "id": "8c1c1441-0640-440c-82e2-38e56c5e90c4",
   "metadata": {},
   "outputs": [],
   "source": [
    "wrong_usability_reviews = df_r[usability_index & wrong_index][\"content\"].values\n",
    "correct_usability_reviews = df_r[usability_index & ~wrong_index][\"content\"].values"
   ]
  },
  {
   "cell_type": "code",
   "execution_count": 320,
   "id": "e46c1055-9220-43c3-b48b-b514c1e3c795",
   "metadata": {},
   "outputs": [
    {
     "data": {
      "text/plain": [
       "0.8461538461538461"
      ]
     },
     "execution_count": 320,
     "metadata": {},
     "output_type": "execute_result"
    }
   ],
   "source": [
    "word_prevalence(wrong_usability_reviews, \"app\")"
   ]
  },
  {
   "cell_type": "code",
   "execution_count": 321,
   "id": "c41dedef-bcaa-48c7-bd3b-144de159ad88",
   "metadata": {},
   "outputs": [
    {
     "data": {
      "text/plain": [
       "0.5"
      ]
     },
     "execution_count": 321,
     "metadata": {},
     "output_type": "execute_result"
    }
   ],
   "source": [
    "word_prevalence(correct_usability_reviews, \"app\")"
   ]
  },
  {
   "cell_type": "code",
   "execution_count": 322,
   "id": "d32a5fe7-e296-4639-8d11-fa8a03ab4630",
   "metadata": {},
   "outputs": [
    {
     "data": {
      "text/plain": [
       "0.3076923076923077"
      ]
     },
     "execution_count": 322,
     "metadata": {},
     "output_type": "execute_result"
    }
   ],
   "source": [
    "word_prevalence(wrong_usability_reviews, \"use\")"
   ]
  },
  {
   "cell_type": "code",
   "execution_count": 323,
   "id": "0faf562f-223d-4323-9670-215c616db3f9",
   "metadata": {},
   "outputs": [
    {
     "data": {
      "text/plain": [
       "0.5"
      ]
     },
     "execution_count": 323,
     "metadata": {},
     "output_type": "execute_result"
    }
   ],
   "source": [
    "word_prevalence(correct_usability_reviews, \"use\")"
   ]
  },
  {
   "cell_type": "markdown",
   "id": "5a882a72-adbc-4633-ba71-15d21df215ee",
   "metadata": {},
   "source": [
    "## Have an LLM quality check its own work"
   ]
  },
  {
   "cell_type": "code",
   "execution_count": 324,
   "id": "10d606e3-5163-4386-93d4-5c644a69f5fd",
   "metadata": {},
   "outputs": [],
   "source": [
    "load_dotenv()\n",
    "GEMINI_API_KEY=os.getenv(\"GEMINI_NEW\")"
   ]
  },
  {
   "cell_type": "code",
   "execution_count": 325,
   "id": "d0101c4e-3db5-4304-a56e-9ed7f7bc0eff",
   "metadata": {},
   "outputs": [],
   "source": [
    "with open(\"data/1.crypto_category.txt\", \"r\") as f:\n",
    "    category_list = f.readlines()"
   ]
  },
  {
   "cell_type": "code",
   "execution_count": 326,
   "id": "04c62f63-e647-47a8-876b-b960866777b7",
   "metadata": {},
   "outputs": [],
   "source": [
    "#\n",
    "prompt_base = \"\"\"You are a Customer Success manager who is doing a quality check on a set of customer reviews that were assigned to a topic\\\n",
    "        by a Large Language Model.\n",
    "        The LLM was handed a predefined list of topics: {category_list}\n",
    "        And given the following instruction: 'If the review is just an expression\n",
    "        of sentiment (eg: Great!, Bad!, etc). Please use the 'Generic feedback' category.'\n",
    "   \n",
    "        * This the review: {review}\n",
    "        * This is the assigned topic: {topic}\n",
    "        \n",
    "        Please review the topic assignment and return the number 1 if the assigned topic is in the comments. Even if the assigned topic\n",
    "        wasnt the core theme, consider it 1 as long as its present in the review.\n",
    "    \n",
    "        Your answer should be in a string with the following format if the assigned topic is wrong:\n",
    "        0 | core_topic (the main topic of the string) | topic2, topic3 (if more topics exist) | reason for the new topic\n",
    "\n",
    "        And the following format if it is correct:\n",
    "        1 | existing_topic | topic2, topic3 (if more topics exist) | reason\n",
    "        \"\"\""
   ]
  },
  {
   "cell_type": "code",
   "execution_count": 327,
   "id": "a2e9ce8b-d618-4d43-8df8-4fef9ad8104f",
   "metadata": {},
   "outputs": [],
   "source": [
    "review = \"Finding it difficult to download the app my data keeps going\""
   ]
  },
  {
   "cell_type": "code",
   "execution_count": 328,
   "id": "5c2e391e-ab0d-420a-abed-44c5fd6045da",
   "metadata": {},
   "outputs": [],
   "source": [
    "prompt = prompt_base.format(category_list = category_list, review=review,topic=\"Generic feedback\")"
   ]
  },
  {
   "cell_type": "code",
   "execution_count": 329,
   "id": "3dc62fb9-f008-4e13-b838-e2aa26f40844",
   "metadata": {},
   "outputs": [],
   "source": [
    "res =utils.gemini_query(prompt, gemini_key = GEMINI_API_KEY)"
   ]
  },
  {
   "cell_type": "code",
   "execution_count": 330,
   "id": "ea3f0e7b-65eb-4086-8642-2a797df6deee",
   "metadata": {},
   "outputs": [
    {
     "data": {
      "text/plain": [
       "['0 ',\n",
       " ' Reliability/Stability ',\n",
       " '  ',\n",
       " ' The review clearly describes a problem with downloading the app and data issues, which directly relates to the reliability and stability of the app.  \"Generic feedback\" is insufficient.']"
      ]
     },
     "execution_count": 330,
     "metadata": {},
     "output_type": "execute_result"
    }
   ],
   "source": [
    "res.split(\"|\")"
   ]
  },
  {
   "cell_type": "code",
   "execution_count": 331,
   "id": "d50ed64e-b3a3-40d3-85a0-d563de146942",
   "metadata": {},
   "outputs": [],
   "source": [
    "debug=True\n",
    "perc = df_r.shape[0]//10\n",
    "gemini_feedback = []"
   ]
  },
  {
   "cell_type": "code",
   "execution_count": 332,
   "id": "43a5f028-3110-4538-921f-a8f6667b8299",
   "metadata": {},
   "outputs": [
    {
     "name": "stdout",
     "output_type": "stream",
     "text": [
      "Checking Review # 1\n",
      "0 out of 20 done.\n",
      "Checking Review # 2\n",
      "Checking Review # 3\n",
      "Checking Review # 4\n",
      "Checking Review # 5\n",
      "Checking Review # 6\n",
      "Checking Review # 7\n",
      "Checking Review # 8\n",
      "Checking Review # 9\n",
      "Checking Review # 10\n",
      "Checking Review # 11\n",
      "Checking Review # 12\n",
      "Checking Review # 13\n",
      "Checking Review # 14\n",
      "Checking Review # 15\n",
      "Checking Review # 16\n",
      "Checking Review # 17\n",
      "Gemini Failed to respond. Sleeping...\n",
      "Entering recursive step. 1\n",
      "Checking Review # 18\n",
      "Checking Review # 19\n",
      "Checking Review # 20\n",
      "19 reviews were processed in 1.02536381483078 minutes\n"
     ]
    }
   ],
   "source": [
    "start_time = time.time()\n",
    "n_samples= 20\n",
    "\n",
    "if debug: \n",
    "    df_c = df_r.sample(n_samples).copy()\n",
    "    reviews = df_c.content.values\n",
    "    topics = df_c.gemini_llm_topic.values\n",
    "else:\n",
    "    df_c = df_r.copy()\n",
    "    reviews = df_c.content.values\n",
    "    topics = df_c.gemini_llm_topic.values\n",
    "    \n",
    "for i, review in enumerate(reviews):\n",
    "    if debug:\n",
    "        print(\"Checking Review #\", i+1)\n",
    "    prompt = prompt_base.format(category_list = category_list, review=review,topic=topics[i])\n",
    "\n",
    "    res = utils.gemini_query(prompt, gemini_key = GEMINI_API_KEY, debug=debug)\n",
    "    gemini_feedback.append(res)\n",
    "    if i%perc == 0:\n",
    "        print(f\"{i} out of {len(reviews)} done.\")\n",
    "    \n",
    "\n",
    "end_time = time.time()\n",
    "print(f\"{i} reviews were processed in {(end_time-start_time)/60} minutes\")"
   ]
  },
  {
   "cell_type": "code",
   "execution_count": 334,
   "id": "7920b24d-d09d-41ea-a96a-52765035863a",
   "metadata": {},
   "outputs": [
    {
     "ename": "IndexError",
     "evalue": "list index out of range",
     "output_type": "error",
     "traceback": [
      "\u001b[31m---------------------------------------------------------------------------\u001b[39m",
      "\u001b[31mIndexError\u001b[39m                                Traceback (most recent call last)",
      "\u001b[36mCell\u001b[39m\u001b[36m \u001b[39m\u001b[32mIn[334]\u001b[39m\u001b[32m, line 11\u001b[39m\n\u001b[32m      9\u001b[39m \u001b[38;5;28;01mexcept\u001b[39;00m:\n\u001b[32m     10\u001b[39m     correct_list.append(\u001b[32m0\u001b[39m)\n\u001b[32m---> \u001b[39m\u001b[32m11\u001b[39m core_topics.append(\u001b[43mf_list\u001b[49m\u001b[43m[\u001b[49m\u001b[32;43m1\u001b[39;49m\u001b[43m]\u001b[49m.strip())\n\u001b[32m     12\u001b[39m seconday_topics.append(f_list[\u001b[32m2\u001b[39m].strip())\n\u001b[32m     13\u001b[39m reason.append(\u001b[33m\"\u001b[39m\u001b[33m \u001b[39m\u001b[33m\"\u001b[39m.join(f_list[\u001b[32m3\u001b[39m:]).strip())\n",
      "\u001b[31mIndexError\u001b[39m: list index out of range"
     ]
    }
   ],
   "source": [
    "correct_list = []\n",
    "core_topics = []\n",
    "seconday_topics = []\n",
    "reason = []\n",
    "for f in gemini_feedback:\n",
    "    f_list = f.split(\"|\")\n",
    "    try:\n",
    "        correct_list.append(int(f_list[0].strip()))\n",
    "        core_topics.append(f_list[1].strip())\n",
    "        seconday_topics.append(f_list[2].strip())\n",
    "        reason.append(\" \".join(f_list[3:]).strip())\n",
    "    except:\n",
    "        correct_list.append(0)\n",
    "        core_topics.append(\" \".join())\n",
    "        seconday_topics.append(f_list[2].strip())\n",
    "        reason.append(\" \".join(f_list[3:]).strip())\n",
    "        "
   ]
  },
  {
   "cell_type": "code",
   "execution_count": 302,
   "id": "731b360b-1424-46d6-87de-40733e76ceb7",
   "metadata": {},
   "outputs": [],
   "source": [
    "df_c[\"correct_llm\"]   = correct_list\n",
    "df_c[\"core_topic_llm\"]   = core_topics\n",
    "df_c[\"secondary_topic_llm\"]   = seconday_topics\n",
    "df_c[\"reason_llm\"]   = reason"
   ]
  },
  {
   "cell_type": "code",
   "execution_count": 303,
   "id": "d112c0f6-9ee0-4f03-882c-1acbc54c4ae4",
   "metadata": {},
   "outputs": [],
   "source": [
    "df_c[\"match\"] = np.logical_and(df_c[\"correct\"]==1, df_c[\"correct_llm\"]==1) * 1"
   ]
  },
  {
   "cell_type": "code",
   "execution_count": 304,
   "id": "f2cabee6-aa64-43a6-81f8-4feadefe4782",
   "metadata": {},
   "outputs": [
    {
     "data": {
      "text/plain": [
       "np.float64(0.4)"
      ]
     },
     "execution_count": 304,
     "metadata": {},
     "output_type": "execute_result"
    }
   ],
   "source": [
    "df_c[\"match\"].mean()"
   ]
  },
  {
   "cell_type": "code",
   "execution_count": 305,
   "id": "2613422a-835c-4555-82cc-eb6a563decd8",
   "metadata": {},
   "outputs": [
    {
     "data": {
      "text/plain": [
       "np.float64(0.55)"
      ]
     },
     "execution_count": 305,
     "metadata": {},
     "output_type": "execute_result"
    }
   ],
   "source": [
    "np.logical_or(df_c[\"match\"] == 1,df_c[\"correct_llm\"]==1 ).mean()"
   ]
  },
  {
   "cell_type": "code",
   "execution_count": 306,
   "id": "e6b9e40d-f934-42ee-9db4-a9967b401c68",
   "metadata": {},
   "outputs": [
    {
     "data": {
      "text/plain": [
       "np.float64(0.55)"
      ]
     },
     "execution_count": 306,
     "metadata": {},
     "output_type": "execute_result"
    }
   ],
   "source": [
    "df_c[\"correct_llm\"].mean()"
   ]
  },
  {
   "cell_type": "code",
   "execution_count": 307,
   "id": "c9fa10b6-71a0-44e0-877c-920927d54f45",
   "metadata": {},
   "outputs": [],
   "source": [
    "df_c.to_csv(\"data/4.tagged_reviews_sample_llm_verified.csv\", index = False)"
   ]
  },
  {
   "cell_type": "markdown",
   "id": "1f32a12c-41cc-4e44-92c9-2c6a51f63036",
   "metadata": {},
   "source": [
    "## Automatic Reviews Conclusion"
   ]
  },
  {
   "cell_type": "markdown",
   "id": "837c2859-ec10-470f-84fc-70396ea4ae9f",
   "metadata": {},
   "source": [
    "Needs more work but has potential."
   ]
  }
 ],
 "metadata": {
  "kernelspec": {
   "display_name": "uol_project",
   "language": "python",
   "name": "uol_project"
  },
  "language_info": {
   "codemirror_mode": {
    "name": "ipython",
    "version": 3
   },
   "file_extension": ".py",
   "mimetype": "text/x-python",
   "name": "python",
   "nbconvert_exporter": "python",
   "pygments_lexer": "ipython3",
   "version": "3.12.8"
  }
 },
 "nbformat": 4,
 "nbformat_minor": 5
}
