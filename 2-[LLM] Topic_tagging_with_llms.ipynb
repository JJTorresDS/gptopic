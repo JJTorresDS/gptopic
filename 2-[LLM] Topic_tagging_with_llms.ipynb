{
 "cells": [
  {
   "cell_type": "code",
   "execution_count": 1,
   "id": "b65c9dd3-0765-43b0-b8f9-cb019c296910",
   "metadata": {},
   "outputs": [],
   "source": [
    "from tensorflow.keras.datasets import reuters\n",
    "import pandas as pd\n",
    "pd.set_option('display.max_colwidth', None)\n",
    "import numpy as np\n",
    "import time\n",
    "\n",
    "import os\n",
    "from dotenv import load_dotenv\n",
    "import yaml\n",
    "from utils import utils\n",
    "import time"
   ]
  },
  {
   "cell_type": "markdown",
   "id": "1118d150-e3da-49c7-ae3d-fb0bf8c0432c",
   "metadata": {},
   "source": [
    "## Import Sample data"
   ]
  },
  {
   "cell_type": "code",
   "execution_count": 2,
   "id": "ce0623a8-5d2e-4ef5-bb8e-03633958e95b",
   "metadata": {},
   "outputs": [],
   "source": [
    "df = pd.read_csv(\"./data/1.crypto_apps_reviews_raw.csv\")"
   ]
  },
  {
   "cell_type": "code",
   "execution_count": 3,
   "id": "dc7b7d76-818b-4bd4-a2c6-b3a7581b5773",
   "metadata": {},
   "outputs": [],
   "source": [
    "load_dotenv()\n",
    "GEMINI_API_KEY=os.getenv(\"GEMINI_NEW\")"
   ]
  },
  {
   "cell_type": "markdown",
   "id": "e52347d0-ba75-4d8c-99c7-463c4019afb0",
   "metadata": {},
   "source": [
    "## Import Prompts"
   ]
  },
  {
   "cell_type": "code",
   "execution_count": 4,
   "id": "58a25a0a-3382-4ae5-bdf1-a76d788a6bba",
   "metadata": {},
   "outputs": [],
   "source": [
    "with open(\"prompts/prompts.yaml\") as file:\n",
    "    try:\n",
    "        prompts = yaml.safe_load(file)\n",
    "    except yaml.YAMLError as exc:\n",
    "        print(exc)"
   ]
  },
  {
   "cell_type": "markdown",
   "id": "53396c70-e4f6-4226-a47f-d7999ba5cc42",
   "metadata": {},
   "source": [
    "## Import Category List"
   ]
  },
  {
   "cell_type": "code",
   "execution_count": 5,
   "id": "0dd1e384-9803-4cf4-b357-ef5037296793",
   "metadata": {},
   "outputs": [],
   "source": [
    "with open(\"data/1.crypto_category.txt\", \"r\") as f:\n",
    "    category_list = f.readlines()"
   ]
  },
  {
   "cell_type": "code",
   "execution_count": 6,
   "id": "d44dc224-ab1f-44cf-8599-aabf68fc7e3f",
   "metadata": {},
   "outputs": [],
   "source": [
    "category_list = category_list[0].split(\",\")"
   ]
  },
  {
   "cell_type": "code",
   "execution_count": 7,
   "id": "d5e02ccc-db94-4711-bcfb-fe1eb02dbfec",
   "metadata": {},
   "outputs": [
    {
     "data": {
      "text/plain": [
       "['Security',\n",
       " '  Usability/UI/UX',\n",
       " '  Transaction Fees/Speed',\n",
       " '  Customer Support',\n",
       " '  Features/Functionality',\n",
       " '  Account Management',\n",
       " '  Educational Resources/Onboarding',\n",
       " '  Wallet Security/Integration',\n",
       " '  Privacy',\n",
       " '  Reliability/Stability',\n",
       " '  Customer Service',\n",
       " '  Verification/KYC/AML Processes']"
      ]
     },
     "execution_count": 7,
     "metadata": {},
     "output_type": "execute_result"
    }
   ],
   "source": [
    "category_list"
   ]
  },
  {
   "cell_type": "code",
   "execution_count": 8,
   "id": "87bafa3f-0349-4590-b32a-33dd6d9ce34f",
   "metadata": {},
   "outputs": [
    {
     "name": "stdout",
     "output_type": "stream",
     "text": [
      "Number of categories:  12\n"
     ]
    }
   ],
   "source": [
    "print(\"Number of categories: \", len(category_list))"
   ]
  },
  {
   "cell_type": "markdown",
   "id": "dadbf32d-e6dd-4624-834c-496e69f6369a",
   "metadata": {},
   "source": [
    "## Tagging an entire dataset"
   ]
  },
  {
   "cell_type": "markdown",
   "id": "c30b26ac-3b36-4249-a80a-92372e8b2d3e",
   "metadata": {},
   "source": [
    "To tag a dataset, we will leverage the \"category_list\" that was previously generated and feed it to our second prompt.\n",
    "\n",
    "Below is what the second prompt looks like.\n",
    "Not that it contains 3 variables that need inputed:\n",
    "* {industry}: the industry of the Company that the reviews belong to.\n",
    "* {input_text}: these are the reviews. Its named \"input_text\" because this potently could be any type of input, not just reviews.\n",
    "* {categories}: the categories to which the \"input_text\" needs to be assigned to."
   ]
  },
  {
   "cell_type": "code",
   "execution_count": 9,
   "id": "619f2db3-c00f-4012-9b11-ea9ddff3c8f6",
   "metadata": {},
   "outputs": [
    {
     "name": "stdout",
     "output_type": "stream",
     "text": [
      "You are an expert Customer Success Manager working in the {industry} Industry.You are tasked with categorizing a list of user reviews for further analysis. Please assign this review: {input_text}\n",
      "To one of the following categories: {categories}If the review is just an expression of sentiment (eg: Great!, Bad!, etc). Please use the 'Generic feedback' category.\n",
      "Your answer should be a single category name.\n"
     ]
    }
   ],
   "source": [
    "print(prompts[\"prompt_v9b\"])"
   ]
  },
  {
   "cell_type": "markdown",
   "id": "85d67e2a-5f35-4bc2-b363-e0a1dec64eee",
   "metadata": {},
   "source": [
    "**Note**: there is a **debug** variable that is currently set up to **True**. This will make the code tag a sample of 20 reviews. If you want to run this against the total reviews, change the vairable to **False**."
   ]
  },
  {
   "cell_type": "code",
   "execution_count": 10,
   "id": "1a09fbc7-1ab0-4817-9fc3-9f4695812562",
   "metadata": {},
   "outputs": [],
   "source": [
    "debug=True\n",
    "test_category = category_list\n",
    "perc = df.shape[0]//10\n",
    "topics_gemini = []"
   ]
  },
  {
   "cell_type": "code",
   "execution_count": 11,
   "id": "199f8e5e-62b5-447e-8a3f-cfee8dd9d80c",
   "metadata": {},
   "outputs": [
    {
     "name": "stdout",
     "output_type": "stream",
     "text": [
      "Tagging Review # 1\n",
      "0 out of 20 done.\n",
      "Tagging Review # 2\n",
      "Tagging Review # 3\n",
      "Tagging Review # 4\n",
      "Tagging Review # 5\n",
      "Tagging Review # 6\n",
      "Tagging Review # 7\n",
      "Tagging Review # 8\n",
      "Tagging Review # 9\n",
      "Tagging Review # 10\n",
      "Tagging Review # 11\n",
      "Tagging Review # 12\n",
      "Tagging Review # 13\n",
      "Tagging Review # 14\n",
      "Tagging Review # 15\n",
      "Tagging Review # 16\n",
      "Tagging Review # 17\n",
      "Tagging Review # 18\n",
      "Tagging Review # 19\n",
      "Tagging Review # 20\n",
      "19 reviews were processed in 0.35275622208913165 minutes\n"
     ]
    }
   ],
   "source": [
    "start_time = time.time()\n",
    "n_samples= 20\n",
    "\n",
    "if debug: \n",
    "    df_c = df.sample(n_samples).copy()\n",
    "    reviews = df_c.content\n",
    "else:\n",
    "    df_c = df.copy()\n",
    "    reviews = df_c.content\n",
    "    \n",
    "for i, review in enumerate(reviews):\n",
    "    if debug:\n",
    "        print(\"Tagging Review #\", i+1)\n",
    "    prompt2 = prompts[\"prompt_v9b\"].format(industry=\"Crypto\", \n",
    "                                                 categories=category_list,\n",
    "                                                input_text = review )\n",
    "    topic = utils.gemini_query(prompt2, gemini_key = GEMINI_API_KEY, debug=debug)\n",
    "    topics_gemini.append(topic)\n",
    "    if i%perc == 0:\n",
    "        print(f\"{i} out of {len(reviews)} done.\")\n",
    "    \n",
    "\n",
    "end_time = time.time()\n",
    "print(f\"{i} reviews were processed in {(end_time-start_time)/60} minutes\")"
   ]
  },
  {
   "cell_type": "markdown",
   "id": "13739c34-ff5d-4f99-9e00-2cd89e80d94f",
   "metadata": {},
   "source": [
    "The code above shows the recursive feature of the *gemini_query* function, this is the function that makes the call to the Gemini API.\n",
    "\n",
    "If the API call failes, the function is set to:\n",
    "* Wait 10 seconds\n",
    "* Call itself (this is the recursive feature)\n",
    "\n",
    "\n",
    "By the default, the function will call itself up to 3 tries.\n",
    "\n",
    "If a call fails more than 3 times in a row it will return a \"gemini failed\" string."
   ]
  },
  {
   "cell_type": "code",
   "execution_count": 12,
   "id": "a9e8a070-9605-4071-b8da-0b4226f862f9",
   "metadata": {},
   "outputs": [
    {
     "data": {
      "text/plain": [
       "20"
      ]
     },
     "execution_count": 12,
     "metadata": {},
     "output_type": "execute_result"
    }
   ],
   "source": [
    "len(topics_gemini)"
   ]
  },
  {
   "cell_type": "code",
   "execution_count": 13,
   "id": "af181878-c251-47b1-b8c1-c6d317cea360",
   "metadata": {},
   "outputs": [],
   "source": [
    "df_c.loc[:, \"gemini_llm_topic\"] = topics_gemini"
   ]
  },
  {
   "cell_type": "markdown",
   "id": "c1cc7c6b-7a02-406a-90df-137f6d5bd5a7",
   "metadata": {},
   "source": [
    "The code below will only run when the **debug** is set to **True**."
   ]
  },
  {
   "cell_type": "code",
   "execution_count": 15,
   "id": "d05315b1-3d54-4652-92f4-fce7958ceda5",
   "metadata": {},
   "outputs": [
    {
     "name": "stdout",
     "output_type": "stream",
     "text": [
      "App:  com.bybit.app  Tagged Topic:  Generic feedback\n",
      "Review Text:\n",
      "\n",
      "Nothing much to say\n",
      "***************************\n",
      "\n",
      "App:  com.bybit.app  Tagged Topic:  Wallet Security/Integration\n",
      "Review Text:\n",
      "\n",
      "Scam can't withdraw my crypto on my web3 wallet, when you try and confirm a transaction it does nothing\n",
      "***************************\n",
      "\n",
      "App:  com.bybit.app  Tagged Topic:  Generic feedback\n",
      "Review Text:\n",
      "\n",
      "good\n",
      "***************************\n",
      "\n",
      "App:  com.binance.dev  Tagged Topic:  Generic feedback\n",
      "Review Text:\n",
      "\n",
      "good\n",
      "***************************\n",
      "\n",
      "App:  com.binance.dev  Tagged Topic:  Generic feedback\n",
      "Review Text:\n",
      "\n",
      "Excellent\n",
      "***************************\n",
      "\n",
      "App:  com.bybit.app  Tagged Topic:  Verification/KYC/AML Processes\n",
      "Review Text:\n",
      "\n",
      "Verification got me stressed out of mind get bank statements and still u guys not accept it is crazy\n",
      "***************************\n",
      "\n",
      "App:  com.binance.dev  Tagged Topic:  Customer Support\n",
      "Review Text:\n",
      "\n",
      "good service\n",
      "***************************\n",
      "\n",
      "App:  co.mona.android  Tagged Topic:  Customer Support\n",
      "Review Text:\n",
      "\n",
      "Tried multiple times, keeps saying to resubmit documents/blurry photos. Whatever guess your not getting my business. My other crypto apps don't have this issue Response to your reply: I can't get in to the app to \"live chat\"!!! Moron!!!!\n",
      "***************************\n",
      "\n",
      "App:  com.binance.dev  Tagged Topic:  Customer Support\n",
      "Review Text:\n",
      "\n",
      "Sar y don't send my usdt my friend account 🤏\n",
      "***************************\n",
      "\n",
      "App:  com.bybit.app  Tagged Topic:  Generic feedback\n",
      "Review Text:\n",
      "\n",
      "best exchanger do far\n",
      "***************************\n",
      "\n",
      "App:  co.mona.android  Tagged Topic:  Generic feedback\n",
      "Review Text:\n",
      "\n",
      "unknown\n",
      "***************************\n",
      "\n",
      "App:  co.mona.android  Tagged Topic:  Transaction Fees/Speed\n",
      "Review Text:\n",
      "\n",
      "High fees and spread.\n",
      "***************************\n",
      "\n",
      "App:  com.binance.dev  Tagged Topic:  Generic feedback\n",
      "Review Text:\n",
      "\n",
      "very nice\n",
      "***************************\n",
      "\n",
      "App:  co.mona.android  Tagged Topic:  Usability/UI/UX\n",
      "Review Text:\n",
      "\n",
      "Y'all, I CANNOT stress enough how irritating it is that it stopped opening up to my home page and instead scrolls straight to sports now. I have zero investments in sports, so stop taking me there.\n",
      "***************************\n",
      "\n",
      "App:  co.mona.android  Tagged Topic:  Usability/UI/UX\n",
      "Review Text:\n",
      "\n",
      "Bad app design AND \"Please install from Google Play\" when installing apk directly. Guess what? I'm closing my account over this.\n",
      "***************************\n",
      "\n",
      "App:  com.binance.dev  Tagged Topic:  Generic feedback\n",
      "Review Text:\n",
      "\n",
      "Wery bed no pi list\n",
      "***************************\n",
      "\n",
      "App:  com.bybit.app  Tagged Topic:  Generic feedback\n",
      "Review Text:\n",
      "\n",
      "I love it\n",
      "***************************\n",
      "\n",
      "App:  com.bybit.app  Tagged Topic:  Generic feedback\n",
      "Review Text:\n",
      "\n",
      "success for dream\n",
      "***************************\n",
      "\n",
      "App:  com.binance.dev  Tagged Topic:  Generic feedback\n",
      "Review Text:\n",
      "\n",
      "Binance no need without Pi Network ❤️❤️❤️\n",
      "***************************\n",
      "\n",
      "App:  co.mona.android  Tagged Topic:  Reliability/Stability\n",
      "Review Text:\n",
      "\n",
      "Having to update every time I use this app. Makes me nervous as to why, are they having software problems or are they being hacked?\n",
      "***************************\n",
      "\n"
     ]
    }
   ],
   "source": [
    "if debug:\n",
    "    for row in range(df_c.shape[0]):\n",
    "        print(\"App: \", df_c.iloc[row][\"app\"], \" Tagged Topic: \", df_c.iloc[row][\"gemini_llm_topic\"])\n",
    "        print(\"Review Text:\")\n",
    "        print()\n",
    "        print(df_c.iloc[row][\"content\"])\n",
    "        print(\"***************************\")\n",
    "        print()"
   ]
  },
  {
   "cell_type": "markdown",
   "id": "e6939446-1ae1-4215-93c4-9016e7a1d6a4",
   "metadata": {},
   "source": [
    "## Summary"
   ]
  },
  {
   "cell_type": "markdown",
   "id": "e5636302-539c-4bec-a8cd-0631ed5f80dc",
   "metadata": {},
   "source": [
    "The full data set was already tagged when building the protype.\n",
    "\n",
    "The output of the fully tagged dataset resides in the **\"/data/2.crypto_app_reviews_tagged.csv\"** file.\n"
   ]
  }
 ],
 "metadata": {
  "kernelspec": {
   "display_name": "uol_project",
   "language": "python",
   "name": "uol_project"
  },
  "language_info": {
   "codemirror_mode": {
    "name": "ipython",
    "version": 3
   },
   "file_extension": ".py",
   "mimetype": "text/x-python",
   "name": "python",
   "nbconvert_exporter": "python",
   "pygments_lexer": "ipython3",
   "version": "3.12.8"
  }
 },
 "nbformat": 4,
 "nbformat_minor": 5
}
